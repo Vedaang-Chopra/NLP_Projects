{
 "cells": [
  {
   "cell_type": "code",
   "execution_count": 1,
   "metadata": {},
   "outputs": [],
   "source": [
    "import random\n",
    "import json"
   ]
  },
  {
   "cell_type": "code",
   "execution_count": 2,
   "metadata": {},
   "outputs": [],
   "source": [
    "def loadIntents():\n",
    "    intents = json.loads(open('my_intents.json').read())\n",
    "    return intents"
   ]
  },
  {
   "cell_type": "code",
   "execution_count": 3,
   "metadata": {},
   "outputs": [],
   "source": [
    "def saveMessage(tag,msg):\n",
    "    try:\n",
    "        user_dict =  json.loads(open('user_data.json').read())\n",
    "    except:\n",
    "        user_dict = {}\n",
    "        \n",
    "    user_dict[tag] = msg\n",
    "    with open('user_data.json', 'w') as json_file:\n",
    "      json.dump(user_dict, json_file)"
   ]
  },
  {
   "cell_type": "code",
   "execution_count": 4,
   "metadata": {},
   "outputs": [],
   "source": [
    "next_tag = None\n",
    "def chatbot_response(tag, msg = ''):\n",
    "    try:\n",
    "        columns = ['Description','CriticalRisk','IncidentDate','CountryName', 'Location', 'IndustrialSector', 'Gender', 'Employment Type', 'Potential Accident Level']\n",
    "        # loadIntents()\n",
    "        intents = loadIntents()\n",
    "        for intent in intents['intents']:\n",
    "            if intent['tag'] == tag:\n",
    "                res = intent['responses'][random.randrange(0,len(intent['responses']))]\n",
    "                global next_tag\n",
    "                next_tag = intent['nextTag']\n",
    "\n",
    "                # if user intent is in column list of the dataset:\n",
    "                if intent['tag'] in columns:\n",
    "                    saveMessage(intent['tag'],msg)\n",
    "\n",
    "                # if current intent = Employment Type/Predict accident level:\n",
    "                if intent['tag'] == 'Potential Accident Level':\n",
    "                    import NLP_Capstone_Server_Loading_File as model_Loader\n",
    "                    prediction = model_Loader.predictAccidentLevel()\n",
    "                    print(prediction)\n",
    "                    prediction_description = {'I':'Not Severe','II':'Minor','III':'Moderate','IV':'Severe','V':'Very Severe'}\n",
    "                    res = res + prediction + '(' + prediction_description[prediction] + ')'\n",
    "                    \n",
    "                    # Convert the json to pandas dataframe\n",
    "                    # userData = pandas DataFrame(json)\n",
    "                    # res = res + predictAccidentLevel(userData)\n",
    "        return res\n",
    "    except:\n",
    "        if next_tag == 'End of the conversation':\n",
    "            raise Exception('Conversation Completed')\n",
    "        else:\n",
    "            raise Exception('Internal Error occured due to Invalid User Input')"
   ]
  },
  {
   "cell_type": "code",
   "execution_count": 5,
   "metadata": {},
   "outputs": [],
   "source": [
    "def send():\n",
    "    msg = EntryBox.get(\"1.0\",'end-1c').strip()\n",
    "    EntryBox.delete(\"0.0\",END)\n",
    "    tag = next_tag\n",
    "    if msg != '':\n",
    "        ChatLog.config(state=NORMAL)\n",
    "        ChatLog.insert(END, \"You: \" + msg + '\\n\\n')\n",
    "        ChatLog.config(foreground=\"#442265\", font=(\"Verdana\", 12 ))\n",
    "\n",
    "        res = chatbot_response(tag,msg)\n",
    "        ChatLog.insert(END, \"SafetyBot: \" + res + '\\n\\n')\n",
    "\n",
    "        ChatLog.config(state=DISABLED)\n",
    "        ChatLog.yview(END)"
   ]
  },
  {
   "cell_type": "code",
   "execution_count": 6,
   "metadata": {},
   "outputs": [
    {
     "name": "stderr",
     "output_type": "stream",
     "text": [
      "Exception in Tkinter callback\n",
      "Traceback (most recent call last):\n",
      "  File \"<ipython-input-4-76fafd32e80d>\", line 20, in chatbot_response\n",
      "    prediction = model_Loader.predictAccidentLevel()\n",
      "  File \"C:\\Users\\35385\\Documents\\GL\\Capstone\\Industrial Safety Chatbot\\NLP_Capstone_Server_Loading_File.py\", line 161, in predictAccidentLevel\n",
      "    date_event=datetime.strptime(temp_test_entry['Data'], '%Y-%m-%d %H:%M:%S')\n",
      "  File \"C:\\Users\\35385\\anaconda3\\lib\\_strptime.py\", line 568, in _strptime_datetime\n",
      "    tt, fraction, gmtoff_fraction = _strptime(data_string, format)\n",
      "  File \"C:\\Users\\35385\\anaconda3\\lib\\_strptime.py\", line 349, in _strptime\n",
      "    raise ValueError(\"time data %r does not match format %r\" %\n",
      "ValueError: time data 'dfgdf' does not match format '%Y-%m-%d %H:%M:%S'\n",
      "\n",
      "During handling of the above exception, another exception occurred:\n",
      "\n",
      "Traceback (most recent call last):\n",
      "  File \"C:\\Users\\35385\\anaconda3\\lib\\tkinter\\__init__.py\", line 1883, in __call__\n",
      "    return self.func(*args)\n",
      "  File \"<ipython-input-5-e9baeb61c027>\", line 10, in send\n",
      "    res = chatbot_response(tag,msg)\n",
      "  File \"<ipython-input-4-76fafd32e80d>\", line 33, in chatbot_response\n",
      "    raise Exception('Internal Error occured due to Invalid User Input')\n",
      "Exception: Internal Error occured due to Invalid User Input\n"
     ]
    }
   ],
   "source": [
    "from tkinter import *\n",
    "\n",
    "window = Tk()\n",
    "try:\n",
    "    window.title(\"Safety chatbot\")\n",
    "\n",
    "    window.geometry(\"450x500\")\n",
    "    window.resizable(width=FALSE, height=FALSE)\n",
    "\n",
    "    #Create Chat window\n",
    "    ChatLog = Text(window, bd=0, bg=\"white\", height=\"8\", width=\"50\", font=\"Arial\",)\n",
    "\n",
    "    ChatLog.config(state=DISABLED)\n",
    "\n",
    "    #Bind scrollbar to Chat window\n",
    "    scrollbar = Scrollbar(window, command=ChatLog.yview, cursor=\"heart\")\n",
    "    ChatLog['yscrollcommand'] = scrollbar.set\n",
    "\n",
    "    # Send a welcome message\n",
    "    ChatLog.config(state=NORMAL)\n",
    "    ChatLog.config(foreground=\"#442265\", font=(\"Verdana\", 12 ))\n",
    "    ChatLog.insert(END, \"SafetyBot: \" + chatbot_response('greeting') + '\\n\\n')\n",
    "    ChatLog.config(state=DISABLED)\n",
    "    ChatLog.yview(END)\n",
    "\n",
    "    #Create Button to send message\n",
    "    SendButton = Button(window, font=(\"Verdana\",12,'bold'), text=\"Send\", width=\"5\", height=5,\n",
    "                        bd=0, bg=\"#32de97\", activebackground=\"#3c9d9b\",fg='#ffffff',\n",
    "                        command= send )\n",
    "\n",
    "    #Create the box to enter message\n",
    "    EntryBox = Text(window, bd=0, bg=\"white\",width=\"29\", height=\"5\", font=\"Arial\")\n",
    "    #EntryBox.bind(\"<Return>\", send)\n",
    "    b1 = Button(window, text=\"Quit\", command=window.destroy)\n",
    "\n",
    "    #Place all components on the screen\n",
    "    scrollbar.place(x=423,y=6, height=386)\n",
    "    ChatLog.place(x=6,y=6, height=386, width=420)\n",
    "    EntryBox.place(x=75, y=401, height=90, width=300)\n",
    "    SendButton.place(x=6, y=401, height=90)\n",
    "    b1.place(x = 394, y = 401, height=90)\n",
    "\n",
    "    window.mainloop()\n",
    "except Exception as error:\n",
    "    print(repr(error))\n",
    "    window.destroy()"
   ]
  },
  {
   "cell_type": "code",
   "execution_count": null,
   "metadata": {},
   "outputs": [],
   "source": []
  }
 ],
 "metadata": {
  "kernelspec": {
   "display_name": "Python 3",
   "language": "python",
   "name": "python3"
  },
  "language_info": {
   "codemirror_mode": {
    "name": "ipython",
    "version": 3
   },
   "file_extension": ".py",
   "mimetype": "text/x-python",
   "name": "python",
   "nbconvert_exporter": "python",
   "pygments_lexer": "ipython3",
   "version": "3.8.5"
  }
 },
 "nbformat": 4,
 "nbformat_minor": 4
}
