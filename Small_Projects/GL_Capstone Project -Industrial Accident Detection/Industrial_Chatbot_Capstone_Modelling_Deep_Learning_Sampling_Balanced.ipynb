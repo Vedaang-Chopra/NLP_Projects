{
 "cells": [
  {
   "cell_type": "code",
   "execution_count": null,
   "metadata": {
    "colab": {
     "base_uri": "https://localhost:8080/"
    },
    "id": "NkCeDpL0Rl04",
    "outputId": "16fc8c89-b950-469f-de45-a05b58e61f69"
   },
   "outputs": [
    {
     "name": "stdout",
     "output_type": "stream",
     "text": [
      "/usr/lib/python3.6/runpy.py:125: RuntimeWarning: 'nltk.downloader' found in sys.modules after import of package 'nltk', but prior to execution of 'nltk.downloader'; this may result in unpredictable behaviour\n",
      "  warn(RuntimeWarning(msg))\n",
      "[nltk_data] Downloading collection 'all'\n",
      "[nltk_data]    | \n",
      "[nltk_data]    | Downloading package abc to /root/nltk_data...\n",
      "[nltk_data]    |   Unzipping corpora/abc.zip.\n",
      "[nltk_data]    | Downloading package alpino to /root/nltk_data...\n",
      "[nltk_data]    |   Unzipping corpora/alpino.zip.\n",
      "[nltk_data]    | Downloading package biocreative_ppi to\n",
      "[nltk_data]    |     /root/nltk_data...\n",
      "[nltk_data]    |   Unzipping corpora/biocreative_ppi.zip.\n",
      "[nltk_data]    | Downloading package brown to /root/nltk_data...\n",
      "[nltk_data]    |   Unzipping corpora/brown.zip.\n",
      "[nltk_data]    | Downloading package brown_tei to /root/nltk_data...\n",
      "[nltk_data]    |   Unzipping corpora/brown_tei.zip.\n",
      "[nltk_data]    | Downloading package cess_cat to /root/nltk_data...\n",
      "[nltk_data]    |   Unzipping corpora/cess_cat.zip.\n",
      "[nltk_data]    | Downloading package cess_esp to /root/nltk_data...\n",
      "[nltk_data]    |   Unzipping corpora/cess_esp.zip.\n",
      "[nltk_data]    | Downloading package chat80 to /root/nltk_data...\n",
      "[nltk_data]    |   Unzipping corpora/chat80.zip.\n",
      "[nltk_data]    | Downloading package city_database to\n",
      "[nltk_data]    |     /root/nltk_data...\n",
      "[nltk_data]    |   Unzipping corpora/city_database.zip.\n",
      "[nltk_data]    | Downloading package cmudict to /root/nltk_data...\n",
      "[nltk_data]    |   Unzipping corpora/cmudict.zip.\n",
      "[nltk_data]    | Downloading package comparative_sentences to\n",
      "[nltk_data]    |     /root/nltk_data...\n",
      "[nltk_data]    |   Unzipping corpora/comparative_sentences.zip.\n",
      "[nltk_data]    | Downloading package comtrans to /root/nltk_data...\n",
      "[nltk_data]    | Downloading package conll2000 to /root/nltk_data...\n",
      "[nltk_data]    |   Unzipping corpora/conll2000.zip.\n",
      "[nltk_data]    | Downloading package conll2002 to /root/nltk_data...\n",
      "[nltk_data]    |   Unzipping corpora/conll2002.zip.\n",
      "[nltk_data]    | Downloading package conll2007 to /root/nltk_data...\n",
      "[nltk_data]    | Downloading package crubadan to /root/nltk_data...\n",
      "[nltk_data]    |   Unzipping corpora/crubadan.zip.\n",
      "[nltk_data]    | Downloading package dependency_treebank to\n",
      "[nltk_data]    |     /root/nltk_data...\n",
      "[nltk_data]    |   Unzipping corpora/dependency_treebank.zip.\n",
      "[nltk_data]    | Downloading package dolch to /root/nltk_data...\n",
      "[nltk_data]    |   Unzipping corpora/dolch.zip.\n",
      "[nltk_data]    | Downloading package europarl_raw to\n",
      "[nltk_data]    |     /root/nltk_data...\n",
      "[nltk_data]    |   Unzipping corpora/europarl_raw.zip.\n",
      "[nltk_data]    | Downloading package floresta to /root/nltk_data...\n",
      "[nltk_data]    |   Unzipping corpora/floresta.zip.\n",
      "[nltk_data]    | Downloading package framenet_v15 to\n",
      "[nltk_data]    |     /root/nltk_data...\n",
      "[nltk_data]    |   Unzipping corpora/framenet_v15.zip.\n",
      "[nltk_data]    | Downloading package framenet_v17 to\n",
      "[nltk_data]    |     /root/nltk_data...\n",
      "[nltk_data]    |   Unzipping corpora/framenet_v17.zip.\n",
      "[nltk_data]    | Downloading package gazetteers to /root/nltk_data...\n",
      "[nltk_data]    |   Unzipping corpora/gazetteers.zip.\n",
      "[nltk_data]    | Downloading package genesis to /root/nltk_data...\n",
      "[nltk_data]    |   Unzipping corpora/genesis.zip.\n",
      "[nltk_data]    | Downloading package gutenberg to /root/nltk_data...\n",
      "[nltk_data]    |   Unzipping corpora/gutenberg.zip.\n",
      "[nltk_data]    | Downloading package ieer to /root/nltk_data...\n",
      "[nltk_data]    |   Unzipping corpora/ieer.zip.\n",
      "[nltk_data]    | Downloading package inaugural to /root/nltk_data...\n",
      "[nltk_data]    |   Unzipping corpora/inaugural.zip.\n",
      "[nltk_data]    | Downloading package indian to /root/nltk_data...\n",
      "[nltk_data]    |   Unzipping corpora/indian.zip.\n",
      "[nltk_data]    | Downloading package jeita to /root/nltk_data...\n",
      "[nltk_data]    | Downloading package kimmo to /root/nltk_data...\n",
      "[nltk_data]    |   Unzipping corpora/kimmo.zip.\n",
      "[nltk_data]    | Downloading package knbc to /root/nltk_data...\n",
      "[nltk_data]    | Downloading package lin_thesaurus to\n",
      "[nltk_data]    |     /root/nltk_data...\n",
      "[nltk_data]    |   Unzipping corpora/lin_thesaurus.zip.\n",
      "[nltk_data]    | Downloading package mac_morpho to /root/nltk_data...\n",
      "[nltk_data]    |   Unzipping corpora/mac_morpho.zip.\n",
      "[nltk_data]    | Downloading package machado to /root/nltk_data...\n",
      "[nltk_data]    | Downloading package masc_tagged to /root/nltk_data...\n",
      "[nltk_data]    | Downloading package moses_sample to\n",
      "[nltk_data]    |     /root/nltk_data...\n",
      "[nltk_data]    |   Unzipping models/moses_sample.zip.\n",
      "[nltk_data]    | Downloading package movie_reviews to\n",
      "[nltk_data]    |     /root/nltk_data...\n",
      "[nltk_data]    |   Unzipping corpora/movie_reviews.zip.\n",
      "[nltk_data]    | Downloading package names to /root/nltk_data...\n",
      "[nltk_data]    |   Unzipping corpora/names.zip.\n",
      "[nltk_data]    | Downloading package nombank.1.0 to /root/nltk_data...\n",
      "[nltk_data]    | Downloading package nps_chat to /root/nltk_data...\n",
      "[nltk_data]    |   Unzipping corpora/nps_chat.zip.\n",
      "[nltk_data]    | Downloading package omw to /root/nltk_data...\n",
      "[nltk_data]    |   Unzipping corpora/omw.zip.\n",
      "[nltk_data]    | Downloading package opinion_lexicon to\n",
      "[nltk_data]    |     /root/nltk_data...\n",
      "[nltk_data]    |   Unzipping corpora/opinion_lexicon.zip.\n",
      "[nltk_data]    | Downloading package paradigms to /root/nltk_data...\n",
      "[nltk_data]    |   Unzipping corpora/paradigms.zip.\n",
      "[nltk_data]    | Downloading package pil to /root/nltk_data...\n",
      "[nltk_data]    |   Unzipping corpora/pil.zip.\n",
      "[nltk_data]    | Downloading package pl196x to /root/nltk_data...\n",
      "[nltk_data]    |   Unzipping corpora/pl196x.zip.\n",
      "[nltk_data]    | Downloading package ppattach to /root/nltk_data...\n",
      "[nltk_data]    |   Unzipping corpora/ppattach.zip.\n",
      "[nltk_data]    | Downloading package problem_reports to\n",
      "[nltk_data]    |     /root/nltk_data...\n",
      "[nltk_data]    |   Unzipping corpora/problem_reports.zip.\n",
      "[nltk_data]    | Downloading package propbank to /root/nltk_data...\n",
      "[nltk_data]    | Downloading package ptb to /root/nltk_data...\n",
      "[nltk_data]    |   Unzipping corpora/ptb.zip.\n",
      "[nltk_data]    | Downloading package product_reviews_1 to\n",
      "[nltk_data]    |     /root/nltk_data...\n",
      "[nltk_data]    |   Unzipping corpora/product_reviews_1.zip.\n",
      "[nltk_data]    | Downloading package product_reviews_2 to\n",
      "[nltk_data]    |     /root/nltk_data...\n",
      "[nltk_data]    |   Unzipping corpora/product_reviews_2.zip.\n",
      "[nltk_data]    | Downloading package pros_cons to /root/nltk_data...\n",
      "[nltk_data]    |   Unzipping corpora/pros_cons.zip.\n",
      "[nltk_data]    | Downloading package qc to /root/nltk_data...\n",
      "[nltk_data]    |   Unzipping corpora/qc.zip.\n",
      "[nltk_data]    | Downloading package reuters to /root/nltk_data...\n",
      "[nltk_data]    | Downloading package rte to /root/nltk_data...\n",
      "[nltk_data]    |   Unzipping corpora/rte.zip.\n",
      "[nltk_data]    | Downloading package semcor to /root/nltk_data...\n",
      "[nltk_data]    | Downloading package senseval to /root/nltk_data...\n",
      "[nltk_data]    |   Unzipping corpora/senseval.zip.\n",
      "[nltk_data]    | Downloading package sentiwordnet to\n",
      "[nltk_data]    |     /root/nltk_data...\n",
      "[nltk_data]    |   Unzipping corpora/sentiwordnet.zip.\n",
      "[nltk_data]    | Downloading package sentence_polarity to\n",
      "[nltk_data]    |     /root/nltk_data...\n",
      "[nltk_data]    |   Unzipping corpora/sentence_polarity.zip.\n",
      "[nltk_data]    | Downloading package shakespeare to /root/nltk_data...\n",
      "[nltk_data]    |   Unzipping corpora/shakespeare.zip.\n",
      "[nltk_data]    | Downloading package sinica_treebank to\n",
      "[nltk_data]    |     /root/nltk_data...\n",
      "[nltk_data]    |   Unzipping corpora/sinica_treebank.zip.\n",
      "[nltk_data]    | Downloading package smultron to /root/nltk_data...\n",
      "[nltk_data]    |   Unzipping corpora/smultron.zip.\n",
      "[nltk_data]    | Downloading package state_union to /root/nltk_data...\n",
      "[nltk_data]    |   Unzipping corpora/state_union.zip.\n",
      "[nltk_data]    | Downloading package stopwords to /root/nltk_data...\n",
      "[nltk_data]    |   Unzipping corpora/stopwords.zip.\n",
      "[nltk_data]    | Downloading package subjectivity to\n",
      "[nltk_data]    |     /root/nltk_data...\n",
      "[nltk_data]    |   Unzipping corpora/subjectivity.zip.\n",
      "[nltk_data]    | Downloading package swadesh to /root/nltk_data...\n",
      "[nltk_data]    |   Unzipping corpora/swadesh.zip.\n",
      "[nltk_data]    | Downloading package switchboard to /root/nltk_data...\n",
      "[nltk_data]    |   Unzipping corpora/switchboard.zip.\n",
      "[nltk_data]    | Downloading package timit to /root/nltk_data...\n",
      "[nltk_data]    |   Unzipping corpora/timit.zip.\n",
      "[nltk_data]    | Downloading package toolbox to /root/nltk_data...\n",
      "[nltk_data]    |   Unzipping corpora/toolbox.zip.\n",
      "[nltk_data]    | Downloading package treebank to /root/nltk_data...\n",
      "[nltk_data]    |   Unzipping corpora/treebank.zip.\n",
      "[nltk_data]    | Downloading package twitter_samples to\n",
      "[nltk_data]    |     /root/nltk_data...\n",
      "[nltk_data]    |   Unzipping corpora/twitter_samples.zip.\n",
      "[nltk_data]    | Downloading package udhr to /root/nltk_data...\n",
      "[nltk_data]    |   Unzipping corpora/udhr.zip.\n",
      "[nltk_data]    | Downloading package udhr2 to /root/nltk_data...\n",
      "[nltk_data]    |   Unzipping corpora/udhr2.zip.\n",
      "[nltk_data]    | Downloading package unicode_samples to\n",
      "[nltk_data]    |     /root/nltk_data...\n",
      "[nltk_data]    |   Unzipping corpora/unicode_samples.zip.\n",
      "[nltk_data]    | Downloading package universal_treebanks_v20 to\n",
      "[nltk_data]    |     /root/nltk_data...\n",
      "[nltk_data]    | Downloading package verbnet to /root/nltk_data...\n",
      "[nltk_data]    |   Unzipping corpora/verbnet.zip.\n",
      "[nltk_data]    | Downloading package verbnet3 to /root/nltk_data...\n",
      "[nltk_data]    |   Unzipping corpora/verbnet3.zip.\n",
      "[nltk_data]    | Downloading package webtext to /root/nltk_data...\n",
      "[nltk_data]    |   Unzipping corpora/webtext.zip.\n",
      "[nltk_data]    | Downloading package wordnet to /root/nltk_data...\n",
      "[nltk_data]    |   Unzipping corpora/wordnet.zip.\n",
      "[nltk_data]    | Downloading package wordnet_ic to /root/nltk_data...\n",
      "[nltk_data]    |   Unzipping corpora/wordnet_ic.zip.\n",
      "[nltk_data]    | Downloading package words to /root/nltk_data...\n",
      "[nltk_data]    |   Unzipping corpora/words.zip.\n",
      "[nltk_data]    | Downloading package ycoe to /root/nltk_data...\n",
      "[nltk_data]    |   Unzipping corpora/ycoe.zip.\n",
      "[nltk_data]    | Downloading package rslp to /root/nltk_data...\n",
      "[nltk_data]    |   Unzipping stemmers/rslp.zip.\n",
      "[nltk_data]    | Downloading package maxent_treebank_pos_tagger to\n",
      "[nltk_data]    |     /root/nltk_data...\n",
      "[nltk_data]    |   Unzipping taggers/maxent_treebank_pos_tagger.zip.\n",
      "[nltk_data]    | Downloading package universal_tagset to\n",
      "[nltk_data]    |     /root/nltk_data...\n",
      "[nltk_data]    |   Unzipping taggers/universal_tagset.zip.\n",
      "[nltk_data]    | Downloading package maxent_ne_chunker to\n",
      "[nltk_data]    |     /root/nltk_data...\n",
      "[nltk_data]    |   Unzipping chunkers/maxent_ne_chunker.zip.\n",
      "[nltk_data]    | Downloading package punkt to /root/nltk_data...\n",
      "[nltk_data]    |   Unzipping tokenizers/punkt.zip.\n",
      "[nltk_data]    | Downloading package book_grammars to\n",
      "[nltk_data]    |     /root/nltk_data...\n",
      "[nltk_data]    |   Unzipping grammars/book_grammars.zip.\n",
      "[nltk_data]    | Downloading package sample_grammars to\n",
      "[nltk_data]    |     /root/nltk_data...\n",
      "[nltk_data]    |   Unzipping grammars/sample_grammars.zip.\n",
      "[nltk_data]    | Downloading package spanish_grammars to\n",
      "[nltk_data]    |     /root/nltk_data...\n",
      "[nltk_data]    |   Unzipping grammars/spanish_grammars.zip.\n",
      "[nltk_data]    | Downloading package basque_grammars to\n",
      "[nltk_data]    |     /root/nltk_data...\n",
      "[nltk_data]    |   Unzipping grammars/basque_grammars.zip.\n",
      "[nltk_data]    | Downloading package large_grammars to\n",
      "[nltk_data]    |     /root/nltk_data...\n",
      "[nltk_data]    |   Unzipping grammars/large_grammars.zip.\n",
      "[nltk_data]    | Downloading package tagsets to /root/nltk_data...\n",
      "[nltk_data]    |   Unzipping help/tagsets.zip.\n",
      "[nltk_data]    | Downloading package snowball_data to\n",
      "[nltk_data]    |     /root/nltk_data...\n",
      "[nltk_data]    | Downloading package bllip_wsj_no_aux to\n",
      "[nltk_data]    |     /root/nltk_data...\n",
      "[nltk_data]    |   Unzipping models/bllip_wsj_no_aux.zip.\n",
      "[nltk_data]    | Downloading package word2vec_sample to\n",
      "[nltk_data]    |     /root/nltk_data...\n",
      "[nltk_data]    |   Unzipping models/word2vec_sample.zip.\n",
      "[nltk_data]    | Downloading package panlex_swadesh to\n",
      "[nltk_data]    |     /root/nltk_data...\n",
      "[nltk_data]    | Downloading package mte_teip5 to /root/nltk_data...\n",
      "[nltk_data]    |   Unzipping corpora/mte_teip5.zip.\n",
      "[nltk_data]    | Downloading package averaged_perceptron_tagger to\n",
      "[nltk_data]    |     /root/nltk_data...\n",
      "[nltk_data]    |   Unzipping taggers/averaged_perceptron_tagger.zip.\n",
      "[nltk_data]    | Downloading package averaged_perceptron_tagger_ru to\n",
      "[nltk_data]    |     /root/nltk_data...\n",
      "[nltk_data]    |   Unzipping\n",
      "[nltk_data]    |       taggers/averaged_perceptron_tagger_ru.zip.\n",
      "[nltk_data]    | Downloading package perluniprops to\n",
      "[nltk_data]    |     /root/nltk_data...\n",
      "[nltk_data]    |   Unzipping misc/perluniprops.zip.\n",
      "[nltk_data]    | Downloading package nonbreaking_prefixes to\n",
      "[nltk_data]    |     /root/nltk_data...\n",
      "[nltk_data]    |   Unzipping corpora/nonbreaking_prefixes.zip.\n",
      "[nltk_data]    | Downloading package vader_lexicon to\n",
      "[nltk_data]    |     /root/nltk_data...\n",
      "[nltk_data]    | Downloading package porter_test to /root/nltk_data...\n",
      "[nltk_data]    |   Unzipping stemmers/porter_test.zip.\n",
      "[nltk_data]    | Downloading package wmt15_eval to /root/nltk_data...\n",
      "[nltk_data]    |   Unzipping models/wmt15_eval.zip.\n",
      "[nltk_data]    | Downloading package mwa_ppdb to /root/nltk_data...\n",
      "[nltk_data]    |   Unzipping misc/mwa_ppdb.zip.\n",
      "[nltk_data]    | \n",
      "[nltk_data]  Done downloading collection all\n"
     ]
    }
   ],
   "source": [
    "!python -m nltk.downloader all"
   ]
  },
  {
   "cell_type": "code",
   "execution_count": null,
   "metadata": {
    "colab": {
     "base_uri": "https://localhost:8080/"
    },
    "id": "PzftHf-RVo7R",
    "outputId": "67766fee-2031-456a-fe10-1ca9ca1f7778"
   },
   "outputs": [
    {
     "name": "stdout",
     "output_type": "stream",
     "text": [
      "Collecting category_encoders\n",
      "\u001b[?25l  Downloading https://files.pythonhosted.org/packages/44/57/fcef41c248701ee62e8325026b90c432adea35555cbc870aff9cfba23727/category_encoders-2.2.2-py2.py3-none-any.whl (80kB)\n",
      "\r",
      "\u001b[K     |████                            | 10kB 15.5MB/s eta 0:00:01\r",
      "\u001b[K     |████████▏                       | 20kB 12.2MB/s eta 0:00:01\r",
      "\u001b[K     |████████████▏                   | 30kB 9.7MB/s eta 0:00:01\r",
      "\u001b[K     |████████████████▎               | 40kB 8.3MB/s eta 0:00:01\r",
      "\u001b[K     |████████████████████▎           | 51kB 5.5MB/s eta 0:00:01\r",
      "\u001b[K     |████████████████████████▍       | 61kB 5.7MB/s eta 0:00:01\r",
      "\u001b[K     |████████████████████████████▍   | 71kB 5.9MB/s eta 0:00:01\r",
      "\u001b[K     |████████████████████████████████| 81kB 4.1MB/s \n",
      "\u001b[?25hRequirement already satisfied, skipping upgrade: statsmodels>=0.9.0 in /usr/local/lib/python3.6/dist-packages (from category_encoders) (0.10.2)\n",
      "Requirement already satisfied, skipping upgrade: patsy>=0.5.1 in /usr/local/lib/python3.6/dist-packages (from category_encoders) (0.5.1)\n",
      "Requirement already satisfied, skipping upgrade: numpy>=1.14.0 in /usr/local/lib/python3.6/dist-packages (from category_encoders) (1.19.5)\n",
      "Requirement already satisfied, skipping upgrade: scipy>=1.0.0 in /usr/local/lib/python3.6/dist-packages (from category_encoders) (1.4.1)\n",
      "Requirement already satisfied, skipping upgrade: pandas>=0.21.1 in /usr/local/lib/python3.6/dist-packages (from category_encoders) (1.1.5)\n",
      "Requirement already satisfied, skipping upgrade: scikit-learn>=0.20.0 in /usr/local/lib/python3.6/dist-packages (from category_encoders) (0.22.2.post1)\n",
      "Requirement already satisfied, skipping upgrade: six in /usr/local/lib/python3.6/dist-packages (from patsy>=0.5.1->category_encoders) (1.15.0)\n",
      "Requirement already satisfied, skipping upgrade: python-dateutil>=2.7.3 in /usr/local/lib/python3.6/dist-packages (from pandas>=0.21.1->category_encoders) (2.8.1)\n",
      "Requirement already satisfied, skipping upgrade: pytz>=2017.2 in /usr/local/lib/python3.6/dist-packages (from pandas>=0.21.1->category_encoders) (2018.9)\n",
      "Requirement already satisfied, skipping upgrade: joblib>=0.11 in /usr/local/lib/python3.6/dist-packages (from scikit-learn>=0.20.0->category_encoders) (1.0.0)\n",
      "Installing collected packages: category-encoders\n",
      "Successfully installed category-encoders-2.2.2\n"
     ]
    }
   ],
   "source": [
    "! pip install --upgrade category_encoders"
   ]
  },
  {
   "cell_type": "code",
   "execution_count": null,
   "metadata": {
    "colab": {
     "base_uri": "https://localhost:8080/"
    },
    "id": "BPS2UyLCkCgM",
    "outputId": "6b15a550-6d11-4651-e5cd-3b98d0db5582"
   },
   "outputs": [
    {
     "name": "stdout",
     "output_type": "stream",
     "text": [
      "Collecting imbalanced-learn\n",
      "\u001b[?25l  Downloading https://files.pythonhosted.org/packages/c8/81/8db4d87b03b998fda7c6f835d807c9ae4e3b141f978597b8d7f31600be15/imbalanced_learn-0.7.0-py3-none-any.whl (167kB)\n",
      "\r",
      "\u001b[K     |██                              | 10kB 12.6MB/s eta 0:00:01\r",
      "\u001b[K     |████                            | 20kB 14.9MB/s eta 0:00:01\r",
      "\u001b[K     |█████▉                          | 30kB 10.1MB/s eta 0:00:01\r",
      "\u001b[K     |███████▉                        | 40kB 8.6MB/s eta 0:00:01\r",
      "\u001b[K     |█████████▉                      | 51kB 5.4MB/s eta 0:00:01\r",
      "\u001b[K     |███████████▊                    | 61kB 5.8MB/s eta 0:00:01\r",
      "\u001b[K     |█████████████▊                  | 71kB 6.0MB/s eta 0:00:01\r",
      "\u001b[K     |███████████████▊                | 81kB 6.4MB/s eta 0:00:01\r",
      "\u001b[K     |█████████████████▋              | 92kB 6.0MB/s eta 0:00:01\r",
      "\u001b[K     |███████████████████▋            | 102kB 5.1MB/s eta 0:00:01\r",
      "\u001b[K     |█████████████████████▋          | 112kB 5.1MB/s eta 0:00:01\r",
      "\u001b[K     |███████████████████████▌        | 122kB 5.1MB/s eta 0:00:01\r",
      "\u001b[K     |█████████████████████████▌      | 133kB 5.1MB/s eta 0:00:01\r",
      "\u001b[K     |███████████████████████████▌    | 143kB 5.1MB/s eta 0:00:01\r",
      "\u001b[K     |█████████████████████████████▍  | 153kB 5.1MB/s eta 0:00:01\r",
      "\u001b[K     |███████████████████████████████▍| 163kB 5.1MB/s eta 0:00:01\r",
      "\u001b[K     |████████████████████████████████| 174kB 5.1MB/s \n",
      "\u001b[?25hRequirement already satisfied, skipping upgrade: scipy>=0.19.1 in /usr/local/lib/python3.6/dist-packages (from imbalanced-learn) (1.4.1)\n",
      "Requirement already satisfied, skipping upgrade: joblib>=0.11 in /usr/local/lib/python3.6/dist-packages (from imbalanced-learn) (1.0.0)\n",
      "Requirement already satisfied, skipping upgrade: numpy>=1.13.3 in /usr/local/lib/python3.6/dist-packages (from imbalanced-learn) (1.19.5)\n",
      "Collecting scikit-learn>=0.23\n",
      "\u001b[?25l  Downloading https://files.pythonhosted.org/packages/e2/4c/6111b9a325f29527d7f262e2ee8c730d354b47a728d955e186dacad57a0d/scikit_learn-0.24.1-cp36-cp36m-manylinux2010_x86_64.whl (22.2MB)\n",
      "\u001b[K     |████████████████████████████████| 22.2MB 1.3MB/s \n",
      "\u001b[?25hCollecting threadpoolctl>=2.0.0\n",
      "  Downloading https://files.pythonhosted.org/packages/f7/12/ec3f2e203afa394a149911729357aa48affc59c20e2c1c8297a60f33f133/threadpoolctl-2.1.0-py3-none-any.whl\n",
      "Installing collected packages: threadpoolctl, scikit-learn, imbalanced-learn\n",
      "  Found existing installation: scikit-learn 0.22.2.post1\n",
      "    Uninstalling scikit-learn-0.22.2.post1:\n",
      "      Successfully uninstalled scikit-learn-0.22.2.post1\n",
      "  Found existing installation: imbalanced-learn 0.4.3\n",
      "    Uninstalling imbalanced-learn-0.4.3:\n",
      "      Successfully uninstalled imbalanced-learn-0.4.3\n",
      "Successfully installed imbalanced-learn-0.7.0 scikit-learn-0.24.1 threadpoolctl-2.1.0\n"
     ]
    }
   ],
   "source": [
    "! pip install -U imbalanced-learn"
   ]
  },
  {
   "cell_type": "code",
   "execution_count": null,
   "metadata": {
    "id": "-XNFvJo1ntJO"
   },
   "outputs": [],
   "source": [
    "import pandas as pd\n",
    "import matplotlib.pyplot as plt\n",
    "import seaborn as sns\n",
    "import numpy as np"
   ]
  },
  {
   "cell_type": "code",
   "execution_count": null,
   "metadata": {
    "id": "mNJFpqGPVlsi"
   },
   "outputs": [],
   "source": [
    "from datetime import datetime\n",
    "import time\n",
    "import calendar\n",
    "import re\n",
    "import zipfile"
   ]
  },
  {
   "cell_type": "code",
   "execution_count": null,
   "metadata": {
    "colab": {
     "base_uri": "https://localhost:8080/"
    },
    "id": "U78Zr_ByDuQ_",
    "outputId": "3e6cbc8f-883f-452d-cb5e-fab6f9fa9d8f"
   },
   "outputs": [
    {
     "name": "stderr",
     "output_type": "stream",
     "text": [
      "/usr/local/lib/python3.6/dist-packages/statsmodels/tools/_testing.py:19: FutureWarning: pandas.util.testing is deprecated. Use the functions in the public API at pandas.testing instead.\n",
      "  import pandas.util.testing as tm\n"
     ]
    }
   ],
   "source": [
    "from sklearn.preprocessing import LabelEncoder\n",
    "from sklearn.preprocessing import OrdinalEncoder\n",
    "from sklearn.preprocessing import OneHotEncoder\n",
    "import category_encoders \n",
    "from category_encoders.binary import BinaryEncoder"
   ]
  },
  {
   "cell_type": "code",
   "execution_count": null,
   "metadata": {
    "id": "dyD-BC2QyAmO"
   },
   "outputs": [],
   "source": [
    "from nltk.tokenize import word_tokenize\n",
    "from nltk.corpus import stopwords\n",
    "import string\n",
    "from sklearn.feature_extraction.text import CountVectorizer\n",
    "from sklearn.feature_extraction.text import TfidfVectorizer"
   ]
  },
  {
   "cell_type": "code",
   "execution_count": null,
   "metadata": {
    "id": "Yrix9lsEIDQF"
   },
   "outputs": [],
   "source": [
    "from sklearn.model_selection import GridSearchCV\n",
    "from sklearn.neighbors import KNeighborsClassifier\n",
    "from sklearn.svm import SVC\n",
    "from sklearn.metrics import confusion_matrix\n",
    "from sklearn.linear_model import LogisticRegression\n",
    "from sklearn.model_selection import train_test_split,KFold \n",
    "from sklearn import svm\n",
    "from sklearn.model_selection import cross_val_score"
   ]
  },
  {
   "cell_type": "code",
   "execution_count": null,
   "metadata": {
    "id": "K4RW2pab6e0n"
   },
   "outputs": [],
   "source": [
    "from tensorflow.keras.models import Sequential,Model\n",
    "from tensorflow.keras.layers import LSTM, Embedding, Dense, TimeDistributed, Dropout, Bidirectional, Input, Flatten, BatchNormalization\n",
    "from tensorflow.keras import initializers\n",
    "from tensorflow.keras.preprocessing.text import Tokenizer\n",
    "from tensorflow.keras.preprocessing.sequence import pad_sequences"
   ]
  },
  {
   "cell_type": "code",
   "execution_count": null,
   "metadata": {
    "id": "ZHy4dVv2IFz_"
   },
   "outputs": [],
   "source": [
    "from sklearn.preprocessing import StandardScaler\n",
    "from sklearn.naive_bayes import GaussianNB\n",
    "from sklearn.metrics import classification_report, confusion_matrix\n",
    "from sklearn.metrics import f1_score\n",
    "from sklearn.metrics import accuracy_score\n",
    "from sklearn.metrics import precision_score\n",
    "from sklearn.metrics import recall_score"
   ]
  },
  {
   "cell_type": "code",
   "execution_count": null,
   "metadata": {
    "id": "wDWhbfiobnw4"
   },
   "outputs": [],
   "source": [
    "from imblearn.over_sampling import SMOTE"
   ]
  },
  {
   "cell_type": "code",
   "execution_count": null,
   "metadata": {
    "colab": {
     "base_uri": "https://localhost:8080/"
    },
    "id": "cA6YFIenoI0y",
    "outputId": "b1ffb88e-ca0c-4687-930b-ae58d33dd23a"
   },
   "outputs": [
    {
     "name": "stdout",
     "output_type": "stream",
     "text": [
      "Mounted at /content/drive\n"
     ]
    }
   ],
   "source": [
    "from google.colab import drive\n",
    "drive.mount('/content/drive')"
   ]
  },
  {
   "cell_type": "code",
   "execution_count": null,
   "metadata": {
    "id": "-p4lvfY3nytz"
   },
   "outputs": [],
   "source": [
    "df = pd.read_csv('/content/drive/MyDrive/NLP_Chatbot_Capstone_Project/data.csv')"
   ]
  },
  {
   "cell_type": "code",
   "execution_count": null,
   "metadata": {
    "colab": {
     "base_uri": "https://localhost:8080/",
     "height": 759
    },
    "id": "bQJFMKItnyq-",
    "outputId": "033f6817-e4f0-41db-e18c-e586c81bca51"
   },
   "outputs": [
    {
     "data": {
      "text/html": [
       "<div>\n",
       "<style scoped>\n",
       "    .dataframe tbody tr th:only-of-type {\n",
       "        vertical-align: middle;\n",
       "    }\n",
       "\n",
       "    .dataframe tbody tr th {\n",
       "        vertical-align: top;\n",
       "    }\n",
       "\n",
       "    .dataframe thead th {\n",
       "        text-align: right;\n",
       "    }\n",
       "</style>\n",
       "<table border=\"1\" class=\"dataframe\">\n",
       "  <thead>\n",
       "    <tr style=\"text-align: right;\">\n",
       "      <th></th>\n",
       "      <th>Data</th>\n",
       "      <th>Countries</th>\n",
       "      <th>Local</th>\n",
       "      <th>Industry Sector</th>\n",
       "      <th>Accident Level</th>\n",
       "      <th>Potential Accident Level</th>\n",
       "      <th>Genre</th>\n",
       "      <th>Employee or Third Party</th>\n",
       "      <th>Critical Risk</th>\n",
       "      <th>Description</th>\n",
       "    </tr>\n",
       "  </thead>\n",
       "  <tbody>\n",
       "    <tr>\n",
       "      <th>0</th>\n",
       "      <td>2016-01-01 00:00:00</td>\n",
       "      <td>Country_01</td>\n",
       "      <td>Local_01</td>\n",
       "      <td>Mining</td>\n",
       "      <td>I</td>\n",
       "      <td>IV</td>\n",
       "      <td>Male</td>\n",
       "      <td>Third Party</td>\n",
       "      <td>Pressed</td>\n",
       "      <td>While removing the drill rod of the Jumbo 08 f...</td>\n",
       "    </tr>\n",
       "    <tr>\n",
       "      <th>1</th>\n",
       "      <td>2016-01-02 00:00:00</td>\n",
       "      <td>Country_02</td>\n",
       "      <td>Local_02</td>\n",
       "      <td>Mining</td>\n",
       "      <td>I</td>\n",
       "      <td>IV</td>\n",
       "      <td>Male</td>\n",
       "      <td>Employee</td>\n",
       "      <td>Pressurized Systems</td>\n",
       "      <td>During the activation of a sodium sulphide pum...</td>\n",
       "    </tr>\n",
       "    <tr>\n",
       "      <th>2</th>\n",
       "      <td>2016-01-06 00:00:00</td>\n",
       "      <td>Country_01</td>\n",
       "      <td>Local_03</td>\n",
       "      <td>Mining</td>\n",
       "      <td>I</td>\n",
       "      <td>III</td>\n",
       "      <td>Male</td>\n",
       "      <td>Third Party (Remote)</td>\n",
       "      <td>Manual Tools</td>\n",
       "      <td>In the sub-station MILPO located at level +170...</td>\n",
       "    </tr>\n",
       "    <tr>\n",
       "      <th>3</th>\n",
       "      <td>2016-01-08 00:00:00</td>\n",
       "      <td>Country_01</td>\n",
       "      <td>Local_04</td>\n",
       "      <td>Mining</td>\n",
       "      <td>I</td>\n",
       "      <td>I</td>\n",
       "      <td>Male</td>\n",
       "      <td>Third Party</td>\n",
       "      <td>Others</td>\n",
       "      <td>Being 9:45 am. approximately in the Nv. 1880 C...</td>\n",
       "    </tr>\n",
       "    <tr>\n",
       "      <th>4</th>\n",
       "      <td>2016-01-10 00:00:00</td>\n",
       "      <td>Country_01</td>\n",
       "      <td>Local_04</td>\n",
       "      <td>Mining</td>\n",
       "      <td>IV</td>\n",
       "      <td>IV</td>\n",
       "      <td>Male</td>\n",
       "      <td>Third Party</td>\n",
       "      <td>Others</td>\n",
       "      <td>Approximately at 11:45 a.m. in circumstances t...</td>\n",
       "    </tr>\n",
       "    <tr>\n",
       "      <th>...</th>\n",
       "      <td>...</td>\n",
       "      <td>...</td>\n",
       "      <td>...</td>\n",
       "      <td>...</td>\n",
       "      <td>...</td>\n",
       "      <td>...</td>\n",
       "      <td>...</td>\n",
       "      <td>...</td>\n",
       "      <td>...</td>\n",
       "      <td>...</td>\n",
       "    </tr>\n",
       "    <tr>\n",
       "      <th>420</th>\n",
       "      <td>2017-07-04 00:00:00</td>\n",
       "      <td>Country_01</td>\n",
       "      <td>Local_04</td>\n",
       "      <td>Mining</td>\n",
       "      <td>I</td>\n",
       "      <td>III</td>\n",
       "      <td>Male</td>\n",
       "      <td>Third Party</td>\n",
       "      <td>Others</td>\n",
       "      <td>Being approximately 5:00 a.m. approximately, w...</td>\n",
       "    </tr>\n",
       "    <tr>\n",
       "      <th>421</th>\n",
       "      <td>2017-07-04 00:00:00</td>\n",
       "      <td>Country_01</td>\n",
       "      <td>Local_03</td>\n",
       "      <td>Mining</td>\n",
       "      <td>I</td>\n",
       "      <td>II</td>\n",
       "      <td>Female</td>\n",
       "      <td>Employee</td>\n",
       "      <td>Others</td>\n",
       "      <td>The collaborator moved from the infrastructure...</td>\n",
       "    </tr>\n",
       "    <tr>\n",
       "      <th>422</th>\n",
       "      <td>2017-07-05 00:00:00</td>\n",
       "      <td>Country_02</td>\n",
       "      <td>Local_09</td>\n",
       "      <td>Metals</td>\n",
       "      <td>I</td>\n",
       "      <td>II</td>\n",
       "      <td>Male</td>\n",
       "      <td>Employee</td>\n",
       "      <td>Venomous Animals</td>\n",
       "      <td>During the environmental monitoring activity i...</td>\n",
       "    </tr>\n",
       "    <tr>\n",
       "      <th>423</th>\n",
       "      <td>2017-07-06 00:00:00</td>\n",
       "      <td>Country_02</td>\n",
       "      <td>Local_05</td>\n",
       "      <td>Metals</td>\n",
       "      <td>I</td>\n",
       "      <td>II</td>\n",
       "      <td>Male</td>\n",
       "      <td>Employee</td>\n",
       "      <td>Cut</td>\n",
       "      <td>The Employee performed the activity of strippi...</td>\n",
       "    </tr>\n",
       "    <tr>\n",
       "      <th>424</th>\n",
       "      <td>2017-07-09 00:00:00</td>\n",
       "      <td>Country_01</td>\n",
       "      <td>Local_04</td>\n",
       "      <td>Mining</td>\n",
       "      <td>I</td>\n",
       "      <td>II</td>\n",
       "      <td>Female</td>\n",
       "      <td>Third Party</td>\n",
       "      <td>Fall prevention (same level)</td>\n",
       "      <td>At 10:00 a.m., when the assistant cleaned the ...</td>\n",
       "    </tr>\n",
       "  </tbody>\n",
       "</table>\n",
       "<p>425 rows × 10 columns</p>\n",
       "</div>"
      ],
      "text/plain": [
       "                    Data  ...                                        Description\n",
       "0    2016-01-01 00:00:00  ...  While removing the drill rod of the Jumbo 08 f...\n",
       "1    2016-01-02 00:00:00  ...  During the activation of a sodium sulphide pum...\n",
       "2    2016-01-06 00:00:00  ...  In the sub-station MILPO located at level +170...\n",
       "3    2016-01-08 00:00:00  ...  Being 9:45 am. approximately in the Nv. 1880 C...\n",
       "4    2016-01-10 00:00:00  ...  Approximately at 11:45 a.m. in circumstances t...\n",
       "..                   ...  ...                                                ...\n",
       "420  2017-07-04 00:00:00  ...  Being approximately 5:00 a.m. approximately, w...\n",
       "421  2017-07-04 00:00:00  ...  The collaborator moved from the infrastructure...\n",
       "422  2017-07-05 00:00:00  ...  During the environmental monitoring activity i...\n",
       "423  2017-07-06 00:00:00  ...  The Employee performed the activity of strippi...\n",
       "424  2017-07-09 00:00:00  ...  At 10:00 a.m., when the assistant cleaned the ...\n",
       "\n",
       "[425 rows x 10 columns]"
      ]
     },
     "execution_count": 14,
     "metadata": {
      "tags": []
     },
     "output_type": "execute_result"
    }
   ],
   "source": [
    "del df['Unnamed: 0'] \n",
    "df"
   ]
  },
  {
   "cell_type": "code",
   "execution_count": null,
   "metadata": {
    "colab": {
     "base_uri": "https://localhost:8080/",
     "height": 241
    },
    "id": "uN5yVUO6nyoV",
    "outputId": "6eb807c4-67c3-48f7-e34e-c68edf41469f"
   },
   "outputs": [
    {
     "data": {
      "text/html": [
       "<div>\n",
       "<style scoped>\n",
       "    .dataframe tbody tr th:only-of-type {\n",
       "        vertical-align: middle;\n",
       "    }\n",
       "\n",
       "    .dataframe tbody tr th {\n",
       "        vertical-align: top;\n",
       "    }\n",
       "\n",
       "    .dataframe thead th {\n",
       "        text-align: right;\n",
       "    }\n",
       "</style>\n",
       "<table border=\"1\" class=\"dataframe\">\n",
       "  <thead>\n",
       "    <tr style=\"text-align: right;\">\n",
       "      <th></th>\n",
       "      <th>Data</th>\n",
       "      <th>Countries</th>\n",
       "      <th>Local</th>\n",
       "      <th>Industry Sector</th>\n",
       "      <th>Accident Level</th>\n",
       "      <th>Potential Accident Level</th>\n",
       "      <th>Genre</th>\n",
       "      <th>Employee or Third Party</th>\n",
       "      <th>Critical Risk</th>\n",
       "      <th>Description</th>\n",
       "    </tr>\n",
       "  </thead>\n",
       "  <tbody>\n",
       "    <tr>\n",
       "      <th>count</th>\n",
       "      <td>425</td>\n",
       "      <td>425</td>\n",
       "      <td>425</td>\n",
       "      <td>425</td>\n",
       "      <td>425</td>\n",
       "      <td>425</td>\n",
       "      <td>425</td>\n",
       "      <td>425</td>\n",
       "      <td>425</td>\n",
       "      <td>425</td>\n",
       "    </tr>\n",
       "    <tr>\n",
       "      <th>unique</th>\n",
       "      <td>287</td>\n",
       "      <td>3</td>\n",
       "      <td>12</td>\n",
       "      <td>3</td>\n",
       "      <td>5</td>\n",
       "      <td>6</td>\n",
       "      <td>2</td>\n",
       "      <td>3</td>\n",
       "      <td>33</td>\n",
       "      <td>411</td>\n",
       "    </tr>\n",
       "    <tr>\n",
       "      <th>top</th>\n",
       "      <td>2017-02-08 00:00:00</td>\n",
       "      <td>Country_01</td>\n",
       "      <td>Local_03</td>\n",
       "      <td>Mining</td>\n",
       "      <td>I</td>\n",
       "      <td>IV</td>\n",
       "      <td>Male</td>\n",
       "      <td>Third Party</td>\n",
       "      <td>Others</td>\n",
       "      <td>On 02/03/17 during the soil sampling in the re...</td>\n",
       "    </tr>\n",
       "    <tr>\n",
       "      <th>freq</th>\n",
       "      <td>6</td>\n",
       "      <td>251</td>\n",
       "      <td>90</td>\n",
       "      <td>241</td>\n",
       "      <td>316</td>\n",
       "      <td>143</td>\n",
       "      <td>403</td>\n",
       "      <td>189</td>\n",
       "      <td>232</td>\n",
       "      <td>3</td>\n",
       "    </tr>\n",
       "  </tbody>\n",
       "</table>\n",
       "</div>"
      ],
      "text/plain": [
       "                       Data  ...                                        Description\n",
       "count                   425  ...                                                425\n",
       "unique                  287  ...                                                411\n",
       "top     2017-02-08 00:00:00  ...  On 02/03/17 during the soil sampling in the re...\n",
       "freq                      6  ...                                                  3\n",
       "\n",
       "[4 rows x 10 columns]"
      ]
     },
     "execution_count": 15,
     "metadata": {
      "tags": []
     },
     "output_type": "execute_result"
    }
   ],
   "source": [
    "df.describe()"
   ]
  },
  {
   "cell_type": "code",
   "execution_count": null,
   "metadata": {
    "colab": {
     "base_uri": "https://localhost:8080/"
    },
    "id": "cU1fk3hYnykT",
    "outputId": "2003c397-01a2-47a5-8df0-76018668864f"
   },
   "outputs": [
    {
     "name": "stdout",
     "output_type": "stream",
     "text": [
      "Data type of feature/column  Data  is:  <class 'str'>\n",
      "Data type of feature/column  Countries  is:  <class 'str'>\n",
      "Data type of feature/column  Local  is:  <class 'str'>\n",
      "Data type of feature/column  Industry Sector  is:  <class 'str'>\n",
      "Data type of feature/column  Accident Level  is:  <class 'str'>\n",
      "Data type of feature/column  Potential Accident Level  is:  <class 'str'>\n",
      "Data type of feature/column  Genre  is:  <class 'str'>\n",
      "Data type of feature/column  Employee or Third Party  is:  <class 'str'>\n",
      "Data type of feature/column  Critical Risk  is:  <class 'str'>\n",
      "Data type of feature/column  Description  is:  <class 'str'>\n"
     ]
    }
   ],
   "source": [
    "for i in range (0, df.shape[1]):\n",
    "    print(\"Data type of feature/column \", df.columns[i],\" is: \",type(df.iloc[1,i]))"
   ]
  },
  {
   "cell_type": "code",
   "execution_count": null,
   "metadata": {
    "colab": {
     "base_uri": "https://localhost:8080/",
     "height": 359
    },
    "id": "mSC14lBEoHhP",
    "outputId": "78abdfed-9094-407b-d64f-7d834825b76d"
   },
   "outputs": [
    {
     "data": {
      "text/html": [
       "<div>\n",
       "<style scoped>\n",
       "    .dataframe tbody tr th:only-of-type {\n",
       "        vertical-align: middle;\n",
       "    }\n",
       "\n",
       "    .dataframe tbody tr th {\n",
       "        vertical-align: top;\n",
       "    }\n",
       "\n",
       "    .dataframe thead th {\n",
       "        text-align: right;\n",
       "    }\n",
       "</style>\n",
       "<table border=\"1\" class=\"dataframe\">\n",
       "  <thead>\n",
       "    <tr style=\"text-align: right;\">\n",
       "      <th></th>\n",
       "      <th>Total</th>\n",
       "      <th>Percent</th>\n",
       "    </tr>\n",
       "  </thead>\n",
       "  <tbody>\n",
       "    <tr>\n",
       "      <th>Description</th>\n",
       "      <td>0</td>\n",
       "      <td>0.0</td>\n",
       "    </tr>\n",
       "    <tr>\n",
       "      <th>Critical Risk</th>\n",
       "      <td>0</td>\n",
       "      <td>0.0</td>\n",
       "    </tr>\n",
       "    <tr>\n",
       "      <th>Employee or Third Party</th>\n",
       "      <td>0</td>\n",
       "      <td>0.0</td>\n",
       "    </tr>\n",
       "    <tr>\n",
       "      <th>Genre</th>\n",
       "      <td>0</td>\n",
       "      <td>0.0</td>\n",
       "    </tr>\n",
       "    <tr>\n",
       "      <th>Potential Accident Level</th>\n",
       "      <td>0</td>\n",
       "      <td>0.0</td>\n",
       "    </tr>\n",
       "    <tr>\n",
       "      <th>Accident Level</th>\n",
       "      <td>0</td>\n",
       "      <td>0.0</td>\n",
       "    </tr>\n",
       "    <tr>\n",
       "      <th>Industry Sector</th>\n",
       "      <td>0</td>\n",
       "      <td>0.0</td>\n",
       "    </tr>\n",
       "    <tr>\n",
       "      <th>Local</th>\n",
       "      <td>0</td>\n",
       "      <td>0.0</td>\n",
       "    </tr>\n",
       "    <tr>\n",
       "      <th>Countries</th>\n",
       "      <td>0</td>\n",
       "      <td>0.0</td>\n",
       "    </tr>\n",
       "    <tr>\n",
       "      <th>Data</th>\n",
       "      <td>0</td>\n",
       "      <td>0.0</td>\n",
       "    </tr>\n",
       "  </tbody>\n",
       "</table>\n",
       "</div>"
      ],
      "text/plain": [
       "                          Total  Percent\n",
       "Description                   0      0.0\n",
       "Critical Risk                 0      0.0\n",
       "Employee or Third Party       0      0.0\n",
       "Genre                         0      0.0\n",
       "Potential Accident Level      0      0.0\n",
       "Accident Level                0      0.0\n",
       "Industry Sector               0      0.0\n",
       "Local                         0      0.0\n",
       "Countries                     0      0.0\n",
       "Data                          0      0.0"
      ]
     },
     "execution_count": 17,
     "metadata": {
      "tags": []
     },
     "output_type": "execute_result"
    }
   ],
   "source": [
    "def missing_check(df):\n",
    "    total = df.isnull().sum().sort_values(ascending=False)   # total number of null values\n",
    "    percent = (df.isnull().sum()/df.isnull().count()).sort_values(ascending=False)  # percentage of values that are null\n",
    "    missing_data = pd.concat([total, percent], axis=1, keys=['Total', 'Percent'])  # putting the above two together\n",
    "    return missing_data # return the dataframe\n",
    "missing_check(df)"
   ]
  },
  {
   "cell_type": "code",
   "execution_count": null,
   "metadata": {
    "id": "D5Q8qhdWCCWn"
   },
   "outputs": [],
   "source": [
    "dataframe=df.copy()\n",
    "y=dataframe['Accident Level'].values\n",
    "oe_y=OrdinalEncoder()\n",
    "y=oe_y.fit_transform(y.reshape(-1,1))\n",
    "del dataframe['Accident Level']"
   ]
  },
  {
   "cell_type": "code",
   "execution_count": null,
   "metadata": {
    "colab": {
     "base_uri": "https://localhost:8080/"
    },
    "id": "0SHOPV3fDgq8",
    "outputId": "bae8d488-ff6d-4401-b5b2-bc585ee87f69"
   },
   "outputs": [
    {
     "data": {
      "text/plain": [
       "['Countries',\n",
       " 'Local',\n",
       " 'Industry Sector',\n",
       " 'Potential Accident Level',\n",
       " 'Genre',\n",
       " 'Employee or Third Party']"
      ]
     },
     "execution_count": 77,
     "metadata": {
      "tags": []
     },
     "output_type": "execute_result"
    }
   ],
   "source": [
    "categorical_columns=dataframe.columns\n",
    "column_names_encoded=list(df.columns)\n",
    "column_names_encoded.remove('Critical Risk')\n",
    "column_names_encoded.remove('Description')\n",
    "column_names_encoded.remove('Data')\n",
    "column_names_encoded.remove('Accident Level')\n",
    "column_names_encoded"
   ]
  },
  {
   "cell_type": "code",
   "execution_count": null,
   "metadata": {
    "id": "SWZ4d9A4YO9V"
   },
   "outputs": [],
   "source": [
    "datetime_object=[]\n",
    "for i in range(0,len(dataframe)):\n",
    "  datetime_object.append(datetime.strptime((dataframe[categorical_columns[0]][i]), '%Y-%m-%d %H:%M:%S'))\n",
    "dataframe['Date of Incidents']= datetime_object"
   ]
  },
  {
   "cell_type": "code",
   "execution_count": null,
   "metadata": {
    "id": "fNCwcSXKYMwC"
   },
   "outputs": [],
   "source": [
    "dataframe['Year of Incident']=[i.year for i in dataframe['Date of Incidents']]\n",
    "dataframe['Month of Incident']=[i.month for i in dataframe['Date of Incidents']]\n",
    "dataframe['Date of Incident']=[i.day for i in dataframe['Date of Incidents']]\n",
    "dataframe['Day of Incident']=[calendar.day_name[i.weekday()] for i in dataframe['Date of Incidents']]"
   ]
  },
  {
   "cell_type": "code",
   "execution_count": null,
   "metadata": {
    "colab": {
     "base_uri": "https://localhost:8080/"
    },
    "id": "vqMZe8_IU_2j",
    "outputId": "25d71357-80b4-4ffa-f791-b7f404cb19b6"
   },
   "outputs": [
    {
     "name": "stderr",
     "output_type": "stream",
     "text": [
      "/usr/local/lib/python3.6/dist-packages/sklearn/utils/validation.py:63: DataConversionWarning: A column-vector y was passed when a 1d array was expected. Please change the shape of y to (n_samples, ), for example using ravel().\n",
      "  return f(*args, **kwargs)\n"
     ]
    }
   ],
   "source": [
    "columns_to_modify_ordinally=['Year of Incident','Month of Incident','Date of Incident']\n",
    "columns_to_modify_labely=['Day of Incident']\n",
    "for i in columns_to_modify_ordinally:\n",
    "  dataframe[i]=OrdinalEncoder().fit_transform(dataframe[i].values.reshape(-1,1))\n",
    "\n",
    "columns_to_modify_ordinally=['Day of Incident']\n",
    "for i in columns_to_modify_labely:\n",
    "  dataframe[i]=LabelEncoder().fit_transform(dataframe[i].values.reshape(-1,1))\n"
   ]
  },
  {
   "cell_type": "markdown",
   "metadata": {
    "id": "PlQL92mFMr2Y"
   },
   "source": [
    "### **Sampling**"
   ]
  },
  {
   "cell_type": "markdown",
   "metadata": {
    "id": "1OUBqRnad9MP"
   },
   "source": [
    "Sampling Techniques Used"
   ]
  },
  {
   "cell_type": "code",
   "execution_count": null,
   "metadata": {
    "id": "V2MO-kWacRxT"
   },
   "outputs": [],
   "source": [
    "from imblearn.over_sampling import RandomOverSampler\n",
    "from imblearn.under_sampling import RandomUnderSampler\n",
    "from imblearn.under_sampling import CondensedNearestNeighbour\n",
    "from imblearn.under_sampling import TomekLinks"
   ]
  },
  {
   "cell_type": "code",
   "execution_count": null,
   "metadata": {
    "id": "uKZn-xsnFWrF"
   },
   "outputs": [],
   "source": [
    "# pd.DataFrame(y).value_counts()\n",
    "# int((np.unique(y, return_counts=True)[1].sum()-np.unique(y, return_counts=True)[1][0])/(len(np.unique(y, return_counts=True)[1])))"
   ]
  },
  {
   "cell_type": "code",
   "execution_count": null,
   "metadata": {
    "id": "qwQXzAu7_j7V"
   },
   "outputs": [],
   "source": [
    "class Sampling_Techniques():\n",
    "  def __init__(self,encoded_dataframe,y):\n",
    "    self.encoded_dataframe=encoded_dataframe\n",
    "    self.y=y\n",
    "    # self.encoded_dataframe['Accident Level']=self.y\n",
    "    # self.count=np.array(list(self.encoded_dataframe['Accident Level'].value_counts()))\n",
    "    self.unique, self.count = np.unique(self.y, return_counts=True)\n",
    "    # del self.encoded_dataframe['Accident Level']\n",
    "   \n",
    "  def CNN_undersampling(self):\n",
    "    sampler= CondensedNearestNeighbour(n_neighbors=1)\n",
    "    X_under, y_under = sampler.fit_resample(self.encoded_dataframe, self.y)\n",
    "    print(X_under.shape,y_under.shape)\n",
    "    print(pd.DataFrame(y_under).value_counts())\n",
    "\n",
    "  def TomekLinks_undersampling(self):\n",
    "    sampler= TomekLinks()\n",
    "    X_under, y_under = sampler.fit_resample(self.encoded_dataframe, self.y)\n",
    "    print(X_under.shape,y_under.shape)\n",
    "    print(pd.DataFrame(y_under).value_counts())\n",
    "    \n",
    "  def SMOTE_oversampling(self,X_under,y_under,count_undersample):\n",
    "    # print(count)\n",
    "    temp=int((self.count.sum()-self.count[0])/(len(self.count)-1))\n",
    "    strategy_oversample = {0:count_undersample[0], 1:count_undersample[1], 2:count_undersample[2], 3:count_undersample[3], 4:temp}\n",
    "    sampler=SMOTE()\n",
    "    X_over, y_over = sampler.fit_resample(X_under,y_under)\n",
    "    # print(X_over.shape,y_over.shape)\n",
    "    count_under_unique, count_undersample = np.unique(y_over, return_counts=True)\n",
    "    print(count_undersample)\n",
    "    return X_over,y_over,count_oversample,count_under_unique\n",
    "  \n",
    "  def Random_undersampling(self):\n",
    "    # print(self.count)\n",
    "    # print(pd.DataFrame(self.y).value_counts())\n",
    "    temp=int((self.count.sum()-self.count[0])/(len(self.count)-1))\n",
    "    # print(temp)\n",
    "    strategy_undersample = {self.unique[0]:100, self.unique[1]:self.count[1], self.unique[2]:self.count[2], self.unique[3]:self.count[3], self.unique[4]:self.count[4]}\n",
    "    # print(strategy_undersample)\n",
    "    sampler=RandomUnderSampler(sampling_strategy=strategy_undersample,replacement=True)\n",
    "    X_under, y_under = sampler.fit_resample(self.encoded_dataframe, self.y)\n",
    "    # print(X_under.shape,y_under.shape)\n",
    "    count_under_unique, count_undersample = np.unique(y_under, return_counts=True)\n",
    "    # print(count_undersample)\n",
    "    return X_under,y_under,count_undersample,count_under_unique\n",
    "\n",
    "  def Random_upsampling(self,X_under,y_under,count_undersample,count_under_unique):\n",
    "    # print(count_undersample)\n",
    "    temp=int((self.count.sum()-self.count[0])/(len(self.count)-3))\n",
    "    strategy_oversample = {count_under_unique[0]:count_undersample[0], count_under_unique[1]:100, count_under_unique[2]:100, count_under_unique[3]:100, count_under_unique[4]:60}\n",
    "    sampler=RandomOverSampler(sampling_strategy=strategy_oversample)\n",
    "    X_over, y_over = sampler.fit_resample(X_under,y_under)\n",
    "    # print(X_over.shape,y_over.shape)\n",
    "    count_oversample=np.array(list(pd.DataFrame(y_over).value_counts()))\n",
    "    # print(count_oversample)\n",
    "    return X_over,y_over,count_oversample\n",
    "\n",
    "  def calling_function(self):\n",
    "    X_under,y_under,count_undersample,count_under_unique=self.Random_undersampling()\n",
    "    X_over,y_over,count_oversample=self.Random_upsampling(X_under,y_under,count_undersample,count_under_unique)\n",
    "    return X_over,y_over\n"
   ]
  },
  {
   "cell_type": "code",
   "execution_count": null,
   "metadata": {
    "id": "mpwFdAmqP6e_"
   },
   "outputs": [],
   "source": [
    "sampler_main=[Sampling_Techniques(dataframe,y) for i in range(0,9)]\n",
    "X,Y=[],[]\n",
    "for i in sampler_main:\n",
    "  X_temp,Y_temp=i.calling_function()\n",
    "  X.append(X_temp)\n",
    "  Y.append(Y_temp)\n"
   ]
  },
  {
   "cell_type": "markdown",
   "metadata": {
    "id": "_dbT0PoDer2D"
   },
   "source": [
    "Creating Word Embeddings"
   ]
  },
  {
   "cell_type": "code",
   "execution_count": null,
   "metadata": {
    "colab": {
     "base_uri": "https://localhost:8080/"
    },
    "id": "uJ_WtUUHh7-a",
    "outputId": "4337d961-afa1-43fa-96be-b3e4c6e667dd"
   },
   "outputs": [
    {
     "name": "stdout",
     "output_type": "stream",
     "text": [
      "Loading Glove Model\n",
      "400000  words loaded!\n"
     ]
    }
   ],
   "source": [
    "def loading_embeddings():\n",
    "    path_to_zip_file='/content/drive/MyDrive/Glove_Embeddings/glove.6B.zip'\n",
    "    with zipfile.ZipFile(path_to_zip_file, 'r') as zip_ref:\n",
    "        zip_ref.extractall()\n",
    "\n",
    "def loadGloveModel(file_to_open):\n",
    "  loading_embeddings()\n",
    "  print(\"Loading Glove Model\")\n",
    "  f = open(file_to_open,'r')\n",
    "  gloveModel = {}\n",
    "  for line in f:\n",
    "    splitLines = line.split()\n",
    "    word = splitLines[0]\n",
    "    wordEmbedding = np.array([float(value) for value in splitLines[1:]])\n",
    "    gloveModel[word] = wordEmbedding\n",
    "  print(len(gloveModel),\" words loaded!\")\n",
    "  return gloveModel\n",
    "\n",
    "# model_50=loadGloveModel('/content/glove.6B.50d.txt')\n",
    "# model_100=loadGloveModel('/content/glove.6B.100d.txt')\n",
    "loaded_model=loadGloveModel('/content/glove.6B.200d.txt')\n",
    "# model_300=loadGloveModel('/content/glove.6B.300d.txt')"
   ]
  },
  {
   "cell_type": "code",
   "execution_count": null,
   "metadata": {
    "id": "ViivB5fRAFxx"
   },
   "outputs": [],
   "source": [
    "for i in X:\n",
    "  i['Merged_Description']= i['Description']+' '+i['Critical Risk']"
   ]
  },
  {
   "cell_type": "code",
   "execution_count": null,
   "metadata": {
    "id": "g-Udc8uVv2p5"
   },
   "outputs": [],
   "source": [
    "class Cleaning_Creating_Word_Embeddings:\n",
    "  def __init__(self,encoded_dataframe,column_name,EMBEDDING_SIZE,model_loaded):\n",
    "    self.encoded_dataframe=encoded_dataframe\n",
    "    self.column_name=column_name\n",
    "    self.EMBEDDING_SIZE=EMBEDDING_SIZE\n",
    "    self.MAX_FEATURES=0\n",
    "    self.MAX_LEN=0\n",
    "    self.loaded_model=model_loaded\n",
    "    stop_words = list(stopwords.words('english'))\n",
    "    punctuations = list(string.punctuation)\n",
    "    self.stop_words_list = stop_words+punctuations  \n",
    "       \n",
    "\n",
    "  def clean_text(self,text):\n",
    "    text = text.lower()\n",
    "    \n",
    "    pattern = re.compile('http[s]?://(?:[a-zA-Z]|[0-9]|[$-_@.&+]|[!*\\(\\),]|(?:%[0-9a-fA-F][0-9a-fA-F]))+')\n",
    "    text = pattern.sub('', text)\n",
    "    text = \" \".join(filter(lambda x:x[0]!='@', text.split()))\n",
    "    emoji = re.compile(\"[\"\n",
    "                           u\"\\U0001F600-\\U0001FFFF\"  # emoticons\n",
    "                           u\"\\U0001F300-\\U0001F5FF\"  # symbols & pictographs\n",
    "                           u\"\\U0001F680-\\U0001F6FF\"  # transport & map symbols\n",
    "                           u\"\\U0001F1E0-\\U0001F1FF\"  # flags (iOS)\n",
    "                           u\"\\U00002702-\\U000027B0\"\n",
    "                           u\"\\U000024C2-\\U0001F251\"\n",
    "                           \"]+\", flags=re.UNICODE)\n",
    "    \n",
    "    text = emoji.sub(r'', text)\n",
    "    text = text.lower()\n",
    "    text = re.sub(r\"i'm\", \"i am\", text)\n",
    "    text = re.sub(r\"he's\", \"he is\", text)\n",
    "    text = re.sub(r\"she's\", \"she is\", text)\n",
    "    text = re.sub(r\"that's\", \"that is\", text)        \n",
    "    text = re.sub(r\"what's\", \"what is\", text)\n",
    "    text = re.sub(r\"where's\", \"where is\", text) \n",
    "    text = re.sub(r\"\\'ll\", \" will\", text)  \n",
    "    text = re.sub(r\"\\'ve\", \" have\", text)  \n",
    "    text = re.sub(r\"\\'re\", \" are\", text)\n",
    "    text = re.sub(r\"\\'d\", \" would\", text)\n",
    "    text = re.sub(r\"\\'ve\", \" have\", text)\n",
    "    text = re.sub(r\"won't\", \"will not\", text)\n",
    "    text = re.sub(r\"don't\", \"do not\", text)\n",
    "    text = re.sub(r\"did't\", \"did not\", text)\n",
    "    text = re.sub(r\"can't\", \"can not\", text)\n",
    "    text = re.sub(r\"it's\", \"it is\", text)\n",
    "    text = re.sub(r\"couldn't\", \"could not\", text)\n",
    "    text = re.sub(r\"have't\", \"have not\", text)\n",
    "    text = re.sub(r\"[,.\\\"\\'!@#$%^&*(){}?/;`~:<>+=-]\", \"\", text)\n",
    "    return text\n",
    "\n",
    "  def clean_before_embeddings(self):\n",
    "    words=[]\n",
    "    max_features=0\n",
    "    max_len_sentence=0\n",
    "    for i in range(0,len(self.encoded_dataframe[self.column_name])):\n",
    "      words.append(self.clean_text(\" \".join([w for w in word_tokenize(self.encoded_dataframe[self.column_name][i]) if not w in self.stop_words_list])))\n",
    "      max_features+=len(word_tokenize(words[i]))\n",
    "      max_len_sentence=max(max_len_sentence,len(word_tokenize(words[i])))\n",
    "    self.encoded_dataframe['Clean Words']=words\n",
    "    self.MAX_FEATURES = max_features\n",
    "    self.MAX_LEN = max_len_sentence+int(self.MAX_FEATURES/len(self.encoded_dataframe))\n",
    "  \n",
    "  def tokenization_and_padding(self): \n",
    "    tokenizer=Tokenizer(num_words=self.MAX_FEATURES,oov_token='<OOV>')\n",
    "    tokenizer.fit_on_texts(self.encoded_dataframe['Clean Words'])\n",
    "    tokenized_description=tokenizer.texts_to_sequences(self.encoded_dataframe['Clean Words'])\n",
    "    padded_tokenized_description = pad_sequences(maxlen=self.MAX_LEN, sequences=tokenized_description, padding=\"post\", value=1)\n",
    "    word_number_mapping=tokenizer.word_index\n",
    "    number_word_mapping = dict([(value, key) for key, value in word_number_mapping.items()])\n",
    "    self.num_words = len(tokenizer.word_index) + 1\n",
    "    return  tokenizer,padded_tokenized_description\n",
    "  \n",
    "  def Creating_embedding_matrix(self,tokenizer):   \n",
    "      embedding_matrix = np.zeros((self.num_words, 200))\n",
    "      for word, i in tokenizer.word_index.items():\n",
    "        embedding_vector = self.loaded_model.get(word)\n",
    "        if embedding_vector is not None:\n",
    "          embedding_matrix[i] = embedding_vector\n",
    "      return embedding_matrix\n",
    "  \n",
    "  def Creating_Word_Embeddings(self,embedding_matrix):\n",
    "    model=Sequential()\n",
    "    embedding_layer=Embedding(self.num_words,output_dim=self.EMBEDDING_SIZE, weights=[embedding_matrix], input_length=self.MAX_LEN,trainable=False)\n",
    "    model.add(embedding_layer)\n",
    "    model.compile('adam','mse')\n",
    "    return model\n",
    "\n",
    "  def return_word_embeddings(self,padded_tokenized_description,embedding_matrix):\n",
    "    model=self.Creating_Word_Embeddings(embedding_matrix)\n",
    "    embedding_parameters=model.predict(padded_tokenized_description)\n",
    "    temp_joining=embedding_parameters.reshape(-1,self.MAX_LEN*self.EMBEDDING_SIZE)\n",
    "    print()\n",
    "    return temp_joining\n",
    "\n",
    "  def calling_function(self):\n",
    "    self.clean_before_embeddings()\n",
    "    self.tokenizer,padded_tokenized_description=self.tokenization_and_padding()\n",
    "    embedding_matrix=self.Creating_embedding_matrix(self.tokenizer)\n",
    "    # word_embeddings=self.return_word_embeddings(padded_tokenized_description,embedding_matrix)\n",
    "    return padded_tokenized_description\n",
    "    # return word_embeddings"
   ]
  },
  {
   "cell_type": "code",
   "execution_count": null,
   "metadata": {
    "id": "GTuZfGIw6fbF"
   },
   "outputs": [],
   "source": [
    "encoded_dataframe=[]\n",
    "word_embeddings_objects=[]\n",
    "for i in range(0,len(X)):\n",
    "  word_embeddings_object=Cleaning_Creating_Word_Embeddings(X[i].copy(),'Merged_Description',200,loaded_model)\n",
    "  word_embeddings=word_embeddings_object.calling_function()\n",
    "  encoded_dataframe_word_embeddings=pd.concat([X[i],pd.DataFrame(word_embeddings)],axis=1)\n",
    "  encoded_dataframe.append(encoded_dataframe_word_embeddings)\n",
    "  word_embeddings_objects.append(word_embeddings_object)"
   ]
  },
  {
   "cell_type": "markdown",
   "metadata": {
    "id": "Llzf_LuiLJgi"
   },
   "source": [
    "### **Splitting Data into Training and Testing**"
   ]
  },
  {
   "cell_type": "code",
   "execution_count": null,
   "metadata": {
    "colab": {
     "base_uri": "https://localhost:8080/"
    },
    "id": "Y5pd17s_LHlq",
    "outputId": "e113cb05-ebb6-46aa-9998-2669fb7e8632"
   },
   "outputs": [
    {
     "data": {
      "text/plain": [
       "((345, 158), (115, 158), (345,), (115,))"
      ]
     },
     "execution_count": 88,
     "metadata": {
      "tags": []
     },
     "output_type": "execute_result"
    }
   ],
   "source": [
    "# Train and Test Split for First Model\n",
    "from sklearn.model_selection import train_test_split\n",
    "X_train,X_test,Y_train,Y_test=[],[],[],[]\n",
    "for i in range(0,len(X)):\n",
    "  x_train,x_test,y_train,y_test=train_test_split(encoded_dataframe[i],Y[i],random_state=0)\n",
    "  X_train.append(x_train.reset_index())\n",
    "  Y_train.append(y_train)\n",
    "  X_test.append(x_test.reset_index())\n",
    "  Y_test.append(y_test)\n",
    "  \n",
    "x_train.shape,x_test.shape,y_train.shape,y_test.shape"
   ]
  },
  {
   "cell_type": "code",
   "execution_count": null,
   "metadata": {
    "id": "jWqbYAFepuSa"
   },
   "outputs": [],
   "source": [
    "# X_train[0].shape,X_test[0].shape,Y_train[0].shape,Y_test[0].shape"
   ]
  },
  {
   "cell_type": "markdown",
   "metadata": {
    "id": "m744jDxbLyRm"
   },
   "source": [
    "### Data Cleaning"
   ]
  },
  {
   "cell_type": "markdown",
   "metadata": {
    "id": "IPYZ4rrdsFmg"
   },
   "source": [
    "Encoding Categorical Features"
   ]
  },
  {
   "cell_type": "code",
   "execution_count": null,
   "metadata": {
    "id": "dDoGSPWtp8fo"
   },
   "outputs": [],
   "source": [
    "def encoding(x_train,x_test,columns_to_encode,encoder):\n",
    "  for i in columns_to_encode:\n",
    "    # print(i)\n",
    "    x_train[i]=encoder.fit_transform(x_train[i].values.reshape(-1,1))\n",
    "    x_test[i]=encoder.transform(x_test[i].values.reshape(-1,1))\n",
    "  return x_train,x_test"
   ]
  },
  {
   "cell_type": "code",
   "execution_count": null,
   "metadata": {
    "id": "NHL9qLJMqziD"
   },
   "outputs": [],
   "source": [
    "columns_to_label_encode=['Countries', 'Industry Sector','Genre','Employee or Third Party']\n",
    "columns_to_ordinal_encode=['Potential Accident Level']\n",
    "columns_to_binary_encode=['Local']"
   ]
  },
  {
   "cell_type": "markdown",
   "metadata": {
    "id": "FROp3EjpsZ3z"
   },
   "source": [
    "Label Encoding"
   ]
  },
  {
   "cell_type": "code",
   "execution_count": null,
   "metadata": {
    "colab": {
     "base_uri": "https://localhost:8080/"
    },
    "id": "w1UrxVTwsYli",
    "outputId": "9a9975f7-b5d2-49ce-d1df-703264c4f82e"
   },
   "outputs": [
    {
     "name": "stderr",
     "output_type": "stream",
     "text": [
      "/usr/local/lib/python3.6/dist-packages/sklearn/utils/validation.py:63: DataConversionWarning: A column-vector y was passed when a 1d array was expected. Please change the shape of y to (n_samples, ), for example using ravel().\n",
      "  return f(*args, **kwargs)\n"
     ]
    }
   ],
   "source": [
    "for i in range(0,len(X)):\n",
    "  X_train[i],X_test[i]=encoding(X_train[i],X_test[i],columns_to_label_encode,LabelEncoder())"
   ]
  },
  {
   "cell_type": "markdown",
   "metadata": {
    "id": "tbKpjh-2sgNd"
   },
   "source": [
    "Ordinal Encoding"
   ]
  },
  {
   "cell_type": "code",
   "execution_count": null,
   "metadata": {
    "id": "GNMLDewRrZsG"
   },
   "outputs": [],
   "source": [
    "for i in range(0,len(X)):\n",
    "  X_train[i],X_test[i]=encoding(X_train[i],X_test[i],columns_to_ordinal_encode,OrdinalEncoder())"
   ]
  },
  {
   "cell_type": "markdown",
   "metadata": {
    "id": "a8VJg7IfsdMf"
   },
   "source": [
    "Binary Encoding"
   ]
  },
  {
   "cell_type": "code",
   "execution_count": null,
   "metadata": {
    "colab": {
     "base_uri": "https://localhost:8080/"
    },
    "id": "7-UiVOE7VGBF",
    "outputId": "7ddc95e1-0406-451f-8f1f-c07c69cd4073"
   },
   "outputs": [
    {
     "name": "stderr",
     "output_type": "stream",
     "text": [
      "/usr/local/lib/python3.6/dist-packages/category_encoders/utils.py:21: FutureWarning: is_categorical is deprecated and will be removed in a future version.  Use is_categorical_dtype instead\n",
      "  elif pd.api.types.is_categorical(cols):\n",
      "/usr/local/lib/python3.6/dist-packages/category_encoders/utils.py:21: FutureWarning: is_categorical is deprecated and will be removed in a future version.  Use is_categorical_dtype instead\n",
      "  elif pd.api.types.is_categorical(cols):\n",
      "/usr/local/lib/python3.6/dist-packages/category_encoders/utils.py:21: FutureWarning: is_categorical is deprecated and will be removed in a future version.  Use is_categorical_dtype instead\n",
      "  elif pd.api.types.is_categorical(cols):\n",
      "/usr/local/lib/python3.6/dist-packages/category_encoders/utils.py:21: FutureWarning: is_categorical is deprecated and will be removed in a future version.  Use is_categorical_dtype instead\n",
      "  elif pd.api.types.is_categorical(cols):\n",
      "/usr/local/lib/python3.6/dist-packages/category_encoders/utils.py:21: FutureWarning: is_categorical is deprecated and will be removed in a future version.  Use is_categorical_dtype instead\n",
      "  elif pd.api.types.is_categorical(cols):\n",
      "/usr/local/lib/python3.6/dist-packages/category_encoders/utils.py:21: FutureWarning: is_categorical is deprecated and will be removed in a future version.  Use is_categorical_dtype instead\n",
      "  elif pd.api.types.is_categorical(cols):\n",
      "/usr/local/lib/python3.6/dist-packages/category_encoders/utils.py:21: FutureWarning: is_categorical is deprecated and will be removed in a future version.  Use is_categorical_dtype instead\n",
      "  elif pd.api.types.is_categorical(cols):\n",
      "/usr/local/lib/python3.6/dist-packages/category_encoders/utils.py:21: FutureWarning: is_categorical is deprecated and will be removed in a future version.  Use is_categorical_dtype instead\n",
      "  elif pd.api.types.is_categorical(cols):\n",
      "/usr/local/lib/python3.6/dist-packages/category_encoders/utils.py:21: FutureWarning: is_categorical is deprecated and will be removed in a future version.  Use is_categorical_dtype instead\n",
      "  elif pd.api.types.is_categorical(cols):\n"
     ]
    }
   ],
   "source": [
    "for i in range(0,len(X)):\n",
    "  be=BinaryEncoder(cols=columns_to_binary_encode)\n",
    "  X_train[i]=be.fit_transform(X_train[i])\n",
    "  X_test[i]=be.transform(X_test[i])"
   ]
  },
  {
   "cell_type": "markdown",
   "metadata": {
    "id": "KtkBGlMO4dQe"
   },
   "source": [
    "Scaling Techniques Used for Continuous Features\n",
    "(Ordinal Encoded Features Scaled)"
   ]
  },
  {
   "cell_type": "code",
   "execution_count": null,
   "metadata": {
    "id": "lNPlTyHar5KD"
   },
   "outputs": [],
   "source": [
    "for i in range(0,len(X)):\n",
    "  X_train[i],X_test[i]=encoding(X_train[i],X_test[i],columns_to_ordinal_encode,StandardScaler())"
   ]
  },
  {
   "cell_type": "markdown",
   "metadata": {
    "id": "aM618FmXZ1YE"
   },
   "source": [
    "Cleaning and Encoding Textual Data."
   ]
  },
  {
   "cell_type": "code",
   "execution_count": null,
   "metadata": {
    "id": "GdjK7rNr_Rfu"
   },
   "outputs": [],
   "source": [
    "columns_to_delete=['Critical Risk','Description','Data','Date of Incidents','Merged_Description','index']\n",
    "for i in range(0,len(X)):\n",
    "  for j in columns_to_delete:\n",
    "    del X_train[i][j]\n",
    "    del X_test[i][j]\n"
   ]
  },
  {
   "cell_type": "code",
   "execution_count": null,
   "metadata": {
    "id": "hvkFMsCvMZmo"
   },
   "outputs": [],
   "source": [
    "x_train_description=[]\n",
    "x_train_others=[]\n",
    "x_test_description=[]\n",
    "x_test_others=[]"
   ]
  },
  {
   "cell_type": "code",
   "execution_count": null,
   "metadata": {
    "id": "thuEaaY4lFW9"
   },
   "outputs": [],
   "source": [
    "for i in range(0,len(X_train)):\n",
    "  range_values=range(0,word_embeddings_objects[0].MAX_LEN)\n",
    "  x_train_description.append(pd.DataFrame(X_train[0],columns=range_values))\n",
    "  x_test_description.append(pd.DataFrame(X_test[0],columns=range_values))\n",
    "  x_train_others.append(pd.DataFrame(X_train[0],columns=list(set(X_train[0].columns)-set(range_values))))\n",
    "  x_test_others.append(pd.DataFrame(X_test[0],columns=list(set(X_test[0].columns)-set(range_values))))"
   ]
  },
  {
   "cell_type": "code",
   "execution_count": null,
   "metadata": {
    "id": "4U-bTOyFG0AX"
   },
   "outputs": [],
   "source": [
    "from tensorflow.keras import layers"
   ]
  },
  {
   "cell_type": "code",
   "execution_count": null,
   "metadata": {
    "id": "zMRyVRCUfa_d"
   },
   "outputs": [],
   "source": [
    "# Inputs to the Model............\n",
    "input_layer_description=Input(shape=(word_embeddings_objects[0].MAX_LEN),name='Description')\n",
    "input_layer_others=Input(shape=(x_train_others[0].shape[1]),name='Others')\n",
    "\n",
    "# Embedding Layer for Description................\n",
    "embedding_layer_description=Embedding(len(word_embeddings_objects[0].tokenizer.word_index)+1,output_dim=word_embeddings_objects[0].EMBEDDING_SIZE,weights=[word_embeddings_objects[0].Creating_embedding_matrix(word_embeddings_objects[0].tokenizer)], input_length=word_embeddings_object.MAX_LEN,trainable=False)(input_layer_description)\n",
    "\n",
    "# LSTM Layers for Description ........\n",
    "lstm_layer_1_description=Bidirectional(LSTM(units=200, return_sequences=True, recurrent_dropout=0.5,kernel_initializer='he_normal'))(embedding_layer_description)\n",
    "\n",
    "lstm_layer_2_description=Bidirectional(LSTM(units=100, return_sequences=True, recurrent_dropout=0.5,kernel_initializer='he_normal'))(lstm_layer_1_description)\n",
    "\n",
    "\n",
    "# Supporting layers for LSTM.........................\n",
    "time_distributed_layer_description=TimeDistributed(Dense(100, activation=\"tanh\"))(lstm_layer_2_description)\n",
    "flatten_layer_description=Flatten()(time_distributed_layer_description)\n",
    "dropout_layer_1_description=Dropout(0.3)(flatten_layer_description)\n",
    "\n",
    "\n",
    "\n",
    "# Dense Layers for Description............................\n",
    "dense_layer_1_description=Dense(units=1024,activation='relu',use_bias=True)(dropout_layer_1_description)\n",
    "batch_normalization_layer_1_description=BatchNormalization()(dense_layer_1_description)\n",
    "dropout_layer_2_description=Dropout(0.1)(batch_normalization_layer_1_description)\n",
    "\n",
    "dense_layer_2_description=Dense(units=512, activation = 'relu')(dropout_layer_2_description)\n",
    "batch_normalization_layer_2_description=BatchNormalization()(dense_layer_2_description)\n",
    "dropout_layer_3_description=Dropout(0.1)(batch_normalization_layer_2_description)\n",
    "\n",
    "dense_layer_3_description=(Dense(units=256, activation = 'relu'))(dropout_layer_3_description)\n",
    "batch_normalization_layer_3_description=BatchNormalization()(dense_layer_3_description)\n",
    "dropout_layer_4_description=Dropout(0.1)(batch_normalization_layer_3_description)\n",
    "\n",
    "model_1_out=Dense(units=128, activation = 'relu')(dropout_layer_4_description)\n",
    "\n",
    "# Dense Layer for Others............\n",
    "\n",
    "dense_layers_1_others = Dense(units=512, activation = 'relu')(input_layer_others)\n",
    "batch_normalization_layer_1_others=BatchNormalization()(dense_layers_1_others)\n",
    "dropout_layer_1_others=Dropout(0.3)(batch_normalization_layer_1_others)     \n",
    "\n",
    "dense_layers_2_others=Dense(units=256, activation = 'relu')(dropout_layer_1_others)\n",
    "batch_normalization_layer_2_others=BatchNormalization()(dense_layers_2_others)\n",
    "dropout_layer_2_others=Dropout(0.3)(batch_normalization_layer_2_others)\n",
    "\n",
    "model_2_out=Dense(units=128, activation = 'relu')(dropout_layer_2_others)\n",
    "\n",
    "\n",
    "# Concatenating Layers..........\n",
    "concatt = layers.concatenate([model_1_out,model_2_out])\n",
    "\n",
    "\n",
    "# Final Layers................\n",
    "\n",
    "Final_Dense_layer_1=(Dense(units=64, activation = 'relu'))(concatt)\n",
    "Final_Batch_normalization_layer_1=BatchNormalization()(Final_Dense_layer_1)\n",
    "Final_Batch_dropout_layer_1=Dropout(0.3) (Final_Batch_normalization_layer_1)\n",
    "\n",
    "Final_Dense_layer_2=(Dense(units=32, activation = 'relu'))(Final_Batch_dropout_layer_1)\n",
    "Final_Batch_normalization_layer_2=BatchNormalization()(Final_Dense_layer_2)\n",
    "\n",
    "Final_Dense_layer_3=(Dense(units=16, activation = 'relu'))(Final_Batch_normalization_layer_2)\n",
    "Final_Batch_normalization_layer_3=BatchNormalization()(Final_Dense_layer_3)\n",
    "\n",
    "Final_Model_out_layer=(Dense(units=5, activation = 'softmax'))(Final_Batch_normalization_layer_3)\n",
    "\n",
    "# Compiling Model.........................\n",
    "\n",
    "Final_Model=Model(inputs=[input_layer_description,input_layer_others],outputs=[Final_Model_out_layer])"
   ]
  },
  {
   "cell_type": "code",
   "execution_count": null,
   "metadata": {
    "colab": {
     "base_uri": "https://localhost:8080/"
    },
    "id": "q5nN690ZHLkX",
    "outputId": "e6be887e-9649-46d7-d149-e41f9a960c5d"
   },
   "outputs": [
    {
     "name": "stdout",
     "output_type": "stream",
     "text": [
      "Model: \"model_1\"\n",
      "__________________________________________________________________________________________________\n",
      "Layer (type)                    Output Shape         Param #     Connected to                     \n",
      "==================================================================================================\n",
      "Description (InputLayer)        [(None, 132)]        0                                            \n",
      "__________________________________________________________________________________________________\n",
      "embedding_1 (Embedding)         (None, 132, 200)     401400      Description[0][0]                \n",
      "__________________________________________________________________________________________________\n",
      "bidirectional_2 (Bidirectional) (None, 132, 400)     641600      embedding_1[0][0]                \n",
      "__________________________________________________________________________________________________\n",
      "bidirectional_3 (Bidirectional) (None, 132, 200)     400800      bidirectional_2[0][0]            \n",
      "__________________________________________________________________________________________________\n",
      "time_distributed_1 (TimeDistrib (None, 132, 100)     20100       bidirectional_3[0][0]            \n",
      "__________________________________________________________________________________________________\n",
      "flatten_1 (Flatten)             (None, 13200)        0           time_distributed_1[0][0]         \n",
      "__________________________________________________________________________________________________\n",
      "dropout_7 (Dropout)             (None, 13200)        0           flatten_1[0][0]                  \n",
      "__________________________________________________________________________________________________\n",
      "dense_13 (Dense)                (None, 1024)         13517824    dropout_7[0][0]                  \n",
      "__________________________________________________________________________________________________\n",
      "batch_normalization_8 (BatchNor (None, 1024)         4096        dense_13[0][0]                   \n",
      "__________________________________________________________________________________________________\n",
      "dropout_8 (Dropout)             (None, 1024)         0           batch_normalization_8[0][0]      \n",
      "__________________________________________________________________________________________________\n",
      "Others (InputLayer)             [(None, 14)]         0                                            \n",
      "__________________________________________________________________________________________________\n",
      "dense_14 (Dense)                (None, 512)          524800      dropout_8[0][0]                  \n",
      "__________________________________________________________________________________________________\n",
      "dense_17 (Dense)                (None, 512)          7680        Others[0][0]                     \n",
      "__________________________________________________________________________________________________\n",
      "batch_normalization_9 (BatchNor (None, 512)          2048        dense_14[0][0]                   \n",
      "__________________________________________________________________________________________________\n",
      "batch_normalization_11 (BatchNo (None, 512)          2048        dense_17[0][0]                   \n",
      "__________________________________________________________________________________________________\n",
      "dropout_9 (Dropout)             (None, 512)          0           batch_normalization_9[0][0]      \n",
      "__________________________________________________________________________________________________\n",
      "dropout_11 (Dropout)            (None, 512)          0           batch_normalization_11[0][0]     \n",
      "__________________________________________________________________________________________________\n",
      "dense_15 (Dense)                (None, 256)          131328      dropout_9[0][0]                  \n",
      "__________________________________________________________________________________________________\n",
      "dense_18 (Dense)                (None, 256)          131328      dropout_11[0][0]                 \n",
      "__________________________________________________________________________________________________\n",
      "batch_normalization_10 (BatchNo (None, 256)          1024        dense_15[0][0]                   \n",
      "__________________________________________________________________________________________________\n",
      "batch_normalization_12 (BatchNo (None, 256)          1024        dense_18[0][0]                   \n",
      "__________________________________________________________________________________________________\n",
      "dropout_10 (Dropout)            (None, 256)          0           batch_normalization_10[0][0]     \n",
      "__________________________________________________________________________________________________\n",
      "dropout_12 (Dropout)            (None, 256)          0           batch_normalization_12[0][0]     \n",
      "__________________________________________________________________________________________________\n",
      "dense_16 (Dense)                (None, 128)          32896       dropout_10[0][0]                 \n",
      "__________________________________________________________________________________________________\n",
      "dense_19 (Dense)                (None, 128)          32896       dropout_12[0][0]                 \n",
      "__________________________________________________________________________________________________\n",
      "concatenate_1 (Concatenate)     (None, 256)          0           dense_16[0][0]                   \n",
      "                                                                 dense_19[0][0]                   \n",
      "__________________________________________________________________________________________________\n",
      "dense_20 (Dense)                (None, 64)           16448       concatenate_1[0][0]              \n",
      "__________________________________________________________________________________________________\n",
      "batch_normalization_13 (BatchNo (None, 64)           256         dense_20[0][0]                   \n",
      "__________________________________________________________________________________________________\n",
      "dropout_13 (Dropout)            (None, 64)           0           batch_normalization_13[0][0]     \n",
      "__________________________________________________________________________________________________\n",
      "dense_21 (Dense)                (None, 32)           2080        dropout_13[0][0]                 \n",
      "__________________________________________________________________________________________________\n",
      "batch_normalization_14 (BatchNo (None, 32)           128         dense_21[0][0]                   \n",
      "__________________________________________________________________________________________________\n",
      "dense_22 (Dense)                (None, 16)           528         batch_normalization_14[0][0]     \n",
      "__________________________________________________________________________________________________\n",
      "batch_normalization_15 (BatchNo (None, 16)           64          dense_22[0][0]                   \n",
      "__________________________________________________________________________________________________\n",
      "dense_23 (Dense)                (None, 5)            85          batch_normalization_15[0][0]     \n",
      "==================================================================================================\n",
      "Total params: 15,872,481\n",
      "Trainable params: 15,465,737\n",
      "Non-trainable params: 406,744\n",
      "__________________________________________________________________________________________________\n"
     ]
    }
   ],
   "source": [
    "Final_Model.summary()"
   ]
  },
  {
   "cell_type": "code",
   "execution_count": null,
   "metadata": {
    "id": "-NoxnMiknGwk"
   },
   "outputs": [],
   "source": [
    "import keras"
   ]
  },
  {
   "cell_type": "code",
   "execution_count": null,
   "metadata": {
    "colab": {
     "base_uri": "https://localhost:8080/",
     "height": 1000
    },
    "id": "_0onofxhHSSp",
    "outputId": "ca797d47-fa6b-405e-95a8-b1420037eba3"
   },
   "outputs": [
    {
     "data": {
      "image/png": "[encoded data removed]",
      "text/plain": [
       "<IPython.core.display.Image object>"
      ]
     },
     "execution_count": 102,
     "metadata": {
      "tags": []
     },
     "output_type": "execute_result"
    }
   ],
   "source": [
    "keras.utils.plot_model(Final_Model, \"multi_input_and_output_model.png\", show_shapes=True)"
   ]
  },
  {
   "cell_type": "code",
   "execution_count": null,
   "metadata": {
    "id": "OzivHHtUnO5v"
   },
   "outputs": [],
   "source": [
    "adam = keras.optimizers.Adam(learning_rate=0.001) \n",
    "Final_Model.compile(optimizer=adam, loss='categorical_crossentropy', metrics=['accuracy'])\n",
    "\n",
    "from tensorflow.keras.callbacks import ModelCheckpoint, EarlyStopping, ReduceLROnPlateau\n",
    "\n",
    "checkpoint = ModelCheckpoint(\"model-{val_loss:.2f}.h5\", monitor=\"val_loss\", verbose=1, save_best_only=True, save_weights_only=True)\n",
    "stop = EarlyStopping(monitor=\"val_loss\", patience=5)\n",
    "reduce_lr = ReduceLROnPlateau(monitor=\"val_loss\", factor=0.1, patience=5, min_lr=1e-20, verbose=1)\n",
    "callbacks=[checkpoint,reduce_lr]"
   ]
  },
  {
   "cell_type": "code",
   "execution_count": null,
   "metadata": {
    "id": "3_bRjnErvbFw"
   },
   "outputs": [],
   "source": [
    "one_hot_encoder=OneHotEncoder()\n",
    "y_temp_train=one_hot_encoder.fit_transform(Y_train[0].reshape(-1,1))\n",
    "y_temp_test=one_hot_encoder.transform(Y_test[0].reshape(-1,1))"
   ]
  },
  {
   "cell_type": "code",
   "execution_count": null,
   "metadata": {
    "id": "CcnT7jagx8ez"
   },
   "outputs": [],
   "source": [
    "y_temp_test.todense()"
   ]
  },
  {
   "cell_type": "code",
   "execution_count": null,
   "metadata": {
    "colab": {
     "base_uri": "https://localhost:8080/"
    },
    "id": "dbxkB_BSn52P",
    "outputId": "6451e9e0-4fe0-4a5f-9eab-52e86265a04e"
   },
   "outputs": [
    {
     "name": "stdout",
     "output_type": "stream",
     "text": [
      "Epoch 1/50\n",
      "11/11 [==============================] - 38s 3s/step - loss: 1.8449 - accuracy: 0.2589 - val_loss: 1.7665 - val_accuracy: 0.3478\n",
      "\n",
      "Epoch 00001: val_loss improved from inf to 1.76646, saving model to model-1.77.h5\n",
      "Epoch 2/50\n",
      "11/11 [==============================] - 27s 2s/step - loss: 1.1992 - accuracy: 0.4838 - val_loss: 2.0267 - val_accuracy: 0.2783\n",
      "\n",
      "Epoch 00002: val_loss did not improve from 1.76646\n",
      "Epoch 3/50\n",
      "11/11 [==============================] - 26s 2s/step - loss: 1.0541 - accuracy: 0.6070 - val_loss: 1.6101 - val_accuracy: 0.4087\n",
      "\n",
      "Epoch 00003: val_loss improved from 1.76646 to 1.61012, saving model to model-1.61.h5\n",
      "Epoch 4/50\n",
      "11/11 [==============================] - 26s 2s/step - loss: 0.8563 - accuracy: 0.6815 - val_loss: 1.4356 - val_accuracy: 0.5043\n",
      "\n",
      "Epoch 00004: val_loss improved from 1.61012 to 1.43555, saving model to model-1.44.h5\n",
      "Epoch 5/50\n",
      "11/11 [==============================] - 26s 2s/step - loss: 0.8247 - accuracy: 0.7520 - val_loss: 1.1031 - val_accuracy: 0.5913\n",
      "\n",
      "Epoch 00005: val_loss improved from 1.43555 to 1.10315, saving model to model-1.10.h5\n",
      "Epoch 6/50\n",
      "11/11 [==============================] - 27s 2s/step - loss: 0.6269 - accuracy: 0.8020 - val_loss: 1.1196 - val_accuracy: 0.6435\n",
      "\n",
      "Epoch 00006: val_loss did not improve from 1.10315\n",
      "Epoch 7/50\n",
      "11/11 [==============================] - 26s 2s/step - loss: 0.5619 - accuracy: 0.8527 - val_loss: 0.9602 - val_accuracy: 0.6000\n",
      "\n",
      "Epoch 00007: val_loss improved from 1.10315 to 0.96016, saving model to model-0.96.h5\n",
      "Epoch 8/50\n",
      "11/11 [==============================] - 26s 2s/step - loss: 0.4890 - accuracy: 0.8577 - val_loss: 0.7703 - val_accuracy: 0.7130\n",
      "\n",
      "Epoch 00008: val_loss improved from 0.96016 to 0.77034, saving model to model-0.77.h5\n",
      "Epoch 9/50\n",
      "11/11 [==============================] - 26s 2s/step - loss: 0.4104 - accuracy: 0.8609 - val_loss: 0.6241 - val_accuracy: 0.7913\n",
      "\n",
      "Epoch 00009: val_loss improved from 0.77034 to 0.62413, saving model to model-0.62.h5\n",
      "Epoch 10/50\n",
      "11/11 [==============================] - 26s 2s/step - loss: 0.3438 - accuracy: 0.9376 - val_loss: 0.5455 - val_accuracy: 0.8087\n",
      "\n",
      "Epoch 00010: val_loss improved from 0.62413 to 0.54553, saving model to model-0.55.h5\n",
      "Epoch 11/50\n",
      "11/11 [==============================] - 26s 2s/step - loss: 0.2644 - accuracy: 0.9597 - val_loss: 0.4959 - val_accuracy: 0.8348\n",
      "\n",
      "Epoch 00011: val_loss improved from 0.54553 to 0.49587, saving model to model-0.50.h5\n",
      "Epoch 12/50\n",
      "11/11 [==============================] - 26s 2s/step - loss: 0.2454 - accuracy: 0.9703 - val_loss: 0.4575 - val_accuracy: 0.8174\n",
      "\n",
      "Epoch 00012: val_loss improved from 0.49587 to 0.45753, saving model to model-0.46.h5\n",
      "Epoch 13/50\n",
      "11/11 [==============================] - 26s 2s/step - loss: 0.1930 - accuracy: 0.9745 - val_loss: 0.4777 - val_accuracy: 0.8435\n",
      "\n",
      "Epoch 00013: val_loss did not improve from 0.45753\n",
      "Epoch 14/50\n",
      "11/11 [==============================] - 26s 2s/step - loss: 0.2181 - accuracy: 0.9694 - val_loss: 0.5588 - val_accuracy: 0.8000\n",
      "\n",
      "Epoch 00014: val_loss did not improve from 0.45753\n",
      "Epoch 15/50\n",
      "11/11 [==============================] - 26s 2s/step - loss: 0.1861 - accuracy: 0.9693 - val_loss: 0.3167 - val_accuracy: 0.8957\n",
      "\n",
      "Epoch 00015: val_loss improved from 0.45753 to 0.31670, saving model to model-0.32.h5\n",
      "Epoch 16/50\n",
      "11/11 [==============================] - 27s 2s/step - loss: 0.1446 - accuracy: 0.9813 - val_loss: 0.3628 - val_accuracy: 0.8783\n",
      "\n",
      "Epoch 00016: val_loss did not improve from 0.31670\n",
      "Epoch 17/50\n",
      "11/11 [==============================] - 26s 2s/step - loss: 0.1281 - accuracy: 0.9929 - val_loss: 0.2149 - val_accuracy: 0.9652\n",
      "\n",
      "Epoch 00017: val_loss improved from 0.31670 to 0.21495, saving model to model-0.21.h5\n",
      "Epoch 18/50\n",
      "11/11 [==============================] - 26s 2s/step - loss: 0.0933 - accuracy: 0.9918 - val_loss: 0.2195 - val_accuracy: 0.9478\n",
      "\n",
      "Epoch 00018: val_loss did not improve from 0.21495\n",
      "Epoch 19/50\n",
      "11/11 [==============================] - 26s 2s/step - loss: 0.1205 - accuracy: 0.9775 - val_loss: 0.3609 - val_accuracy: 0.8609\n",
      "\n",
      "Epoch 00019: val_loss did not improve from 0.21495\n",
      "Epoch 20/50\n",
      "11/11 [==============================] - 26s 2s/step - loss: 0.1207 - accuracy: 0.9946 - val_loss: 0.5480 - val_accuracy: 0.8435\n",
      "\n",
      "Epoch 00020: val_loss did not improve from 0.21495\n",
      "Epoch 21/50\n",
      "11/11 [==============================] - 27s 2s/step - loss: 0.1024 - accuracy: 0.9880 - val_loss: 0.5088 - val_accuracy: 0.8783\n",
      "\n",
      "Epoch 00021: val_loss did not improve from 0.21495\n",
      "Epoch 22/50\n",
      "11/11 [==============================] - 26s 2s/step - loss: 0.0676 - accuracy: 0.9959 - val_loss: 0.3081 - val_accuracy: 0.9217\n",
      "\n",
      "Epoch 00022: val_loss did not improve from 0.21495\n",
      "\n",
      "Epoch 00022: ReduceLROnPlateau reducing learning rate to 0.00010000000474974513.\n",
      "Epoch 23/50\n",
      "11/11 [==============================] - 26s 2s/step - loss: 0.0811 - accuracy: 0.9855 - val_loss: 0.2932 - val_accuracy: 0.9391\n",
      "\n",
      "Epoch 00023: val_loss did not improve from 0.21495\n",
      "Epoch 24/50\n",
      "11/11 [==============================] - 26s 2s/step - loss: 0.0610 - accuracy: 0.9942 - val_loss: 0.2851 - val_accuracy: 0.9391\n",
      "\n",
      "Epoch 00024: val_loss did not improve from 0.21495\n",
      "Epoch 25/50\n",
      "11/11 [==============================] - 26s 2s/step - loss: 0.0736 - accuracy: 0.9882 - val_loss: 0.2732 - val_accuracy: 0.9391\n",
      "\n",
      "Epoch 00025: val_loss did not improve from 0.21495\n",
      "Epoch 26/50\n",
      "11/11 [==============================] - 26s 2s/step - loss: 0.0635 - accuracy: 1.0000 - val_loss: 0.2755 - val_accuracy: 0.9391\n",
      "\n",
      "Epoch 00026: val_loss did not improve from 0.21495\n",
      "Epoch 27/50\n",
      "11/11 [==============================] - 26s 2s/step - loss: 0.0773 - accuracy: 0.9918 - val_loss: 0.2678 - val_accuracy: 0.9391\n",
      "\n",
      "Epoch 00027: val_loss did not improve from 0.21495\n",
      "\n",
      "Epoch 00027: ReduceLROnPlateau reducing learning rate to 1.0000000474974514e-05.\n",
      "Epoch 28/50\n",
      "11/11 [==============================] - 26s 2s/step - loss: 0.0558 - accuracy: 0.9931 - val_loss: 0.2633 - val_accuracy: 0.9391\n",
      "\n",
      "Epoch 00028: val_loss did not improve from 0.21495\n",
      "Epoch 29/50\n",
      "11/11 [==============================] - 26s 2s/step - loss: 0.0561 - accuracy: 0.9995 - val_loss: 0.2593 - val_accuracy: 0.9391\n",
      "\n",
      "Epoch 00029: val_loss did not improve from 0.21495\n",
      "Epoch 30/50\n",
      "11/11 [==============================] - 27s 2s/step - loss: 0.0706 - accuracy: 0.9935 - val_loss: 0.2552 - val_accuracy: 0.9391\n",
      "\n",
      "Epoch 00030: val_loss did not improve from 0.21495\n",
      "Epoch 31/50\n",
      "11/11 [==============================] - 26s 2s/step - loss: 0.0609 - accuracy: 0.9973 - val_loss: 0.2521 - val_accuracy: 0.9391\n",
      "\n",
      "Epoch 00031: val_loss did not improve from 0.21495\n",
      "Epoch 32/50\n",
      "11/11 [==============================] - 26s 2s/step - loss: 0.0705 - accuracy: 0.9928 - val_loss: 0.2495 - val_accuracy: 0.9391\n",
      "\n",
      "Epoch 00032: val_loss did not improve from 0.21495\n",
      "\n",
      "Epoch 00032: ReduceLROnPlateau reducing learning rate to 1.0000000656873453e-06.\n",
      "Epoch 33/50\n",
      "11/11 [==============================] - 26s 2s/step - loss: 0.0798 - accuracy: 0.9938 - val_loss: 0.2470 - val_accuracy: 0.9391\n",
      "\n",
      "Epoch 00033: val_loss did not improve from 0.21495\n",
      "Epoch 34/50\n",
      "11/11 [==============================] - 26s 2s/step - loss: 0.0703 - accuracy: 0.9931 - val_loss: 0.2451 - val_accuracy: 0.9391\n",
      "\n",
      "Epoch 00034: val_loss did not improve from 0.21495\n",
      "Epoch 35/50\n",
      "11/11 [==============================] - 26s 2s/step - loss: 0.0832 - accuracy: 0.9897 - val_loss: 0.2432 - val_accuracy: 0.9391\n",
      "\n",
      "Epoch 00035: val_loss did not improve from 0.21495\n",
      "Epoch 36/50\n",
      "11/11 [==============================] - 26s 2s/step - loss: 0.0651 - accuracy: 0.9886 - val_loss: 0.2419 - val_accuracy: 0.9391\n",
      "\n",
      "Epoch 00036: val_loss did not improve from 0.21495\n",
      "Epoch 37/50\n",
      "11/11 [==============================] - 26s 2s/step - loss: 0.0608 - accuracy: 0.9967 - val_loss: 0.2407 - val_accuracy: 0.9391\n",
      "\n",
      "Epoch 00037: val_loss did not improve from 0.21495\n",
      "\n",
      "Epoch 00037: ReduceLROnPlateau reducing learning rate to 1.0000001111620805e-07.\n",
      "Epoch 38/50\n",
      "11/11 [==============================] - 26s 2s/step - loss: 0.0549 - accuracy: 0.9985 - val_loss: 0.2392 - val_accuracy: 0.9391\n",
      "\n",
      "Epoch 00038: val_loss did not improve from 0.21495\n",
      "Epoch 39/50\n",
      "11/11 [==============================] - 26s 2s/step - loss: 0.0537 - accuracy: 0.9948 - val_loss: 0.2376 - val_accuracy: 0.9304\n",
      "\n",
      "Epoch 00039: val_loss did not improve from 0.21495\n",
      "Epoch 40/50\n",
      "11/11 [==============================] - 26s 2s/step - loss: 0.0531 - accuracy: 0.9990 - val_loss: 0.2360 - val_accuracy: 0.9304\n",
      "\n",
      "Epoch 00040: val_loss did not improve from 0.21495\n",
      "Epoch 41/50\n",
      "11/11 [==============================] - 27s 2s/step - loss: 0.0500 - accuracy: 0.9990 - val_loss: 0.2348 - val_accuracy: 0.9304\n",
      "\n",
      "Epoch 00041: val_loss did not improve from 0.21495\n",
      "Epoch 42/50\n",
      "11/11 [==============================] - 27s 2s/step - loss: 0.1497 - accuracy: 0.9693 - val_loss: 0.2335 - val_accuracy: 0.9391\n",
      "\n",
      "Epoch 00042: val_loss did not improve from 0.21495\n",
      "\n",
      "Epoch 00042: ReduceLROnPlateau reducing learning rate to 1.000000082740371e-08.\n",
      "Epoch 43/50\n",
      "11/11 [==============================] - 27s 2s/step - loss: 0.0618 - accuracy: 0.9944 - val_loss: 0.2329 - val_accuracy: 0.9391\n",
      "\n",
      "Epoch 00043: val_loss did not improve from 0.21495\n",
      "Epoch 44/50\n",
      "11/11 [==============================] - 27s 2s/step - loss: 0.0648 - accuracy: 0.9963 - val_loss: 0.2320 - val_accuracy: 0.9391\n",
      "\n",
      "Epoch 00044: val_loss did not improve from 0.21495\n",
      "Epoch 45/50\n",
      "11/11 [==============================] - 27s 2s/step - loss: 0.0811 - accuracy: 0.9876 - val_loss: 0.2311 - val_accuracy: 0.9391\n",
      "\n",
      "Epoch 00045: val_loss did not improve from 0.21495\n",
      "Epoch 46/50\n",
      "11/11 [==============================] - 27s 2s/step - loss: 0.0623 - accuracy: 0.9940 - val_loss: 0.2304 - val_accuracy: 0.9391\n",
      "\n",
      "Epoch 00046: val_loss did not improve from 0.21495\n",
      "Epoch 47/50\n",
      "11/11 [==============================] - 27s 2s/step - loss: 0.0601 - accuracy: 0.9974 - val_loss: 0.2299 - val_accuracy: 0.9391\n",
      "\n",
      "Epoch 00047: val_loss did not improve from 0.21495\n",
      "\n",
      "Epoch 00047: ReduceLROnPlateau reducing learning rate to 1.000000082740371e-09.\n",
      "Epoch 48/50\n",
      "11/11 [==============================] - 26s 2s/step - loss: 0.0638 - accuracy: 0.9962 - val_loss: 0.2291 - val_accuracy: 0.9391\n",
      "\n",
      "Epoch 00048: val_loss did not improve from 0.21495\n",
      "Epoch 49/50\n",
      "11/11 [==============================] - 27s 2s/step - loss: 0.0752 - accuracy: 0.9886 - val_loss: 0.2282 - val_accuracy: 0.9391\n",
      "\n",
      "Epoch 00049: val_loss did not improve from 0.21495\n",
      "Epoch 50/50\n",
      "11/11 [==============================] - 26s 2s/step - loss: 0.1048 - accuracy: 0.9722 - val_loss: 0.2280 - val_accuracy: 0.9391\n",
      "\n",
      "Epoch 00050: val_loss did not improve from 0.21495\n"
     ]
    }
   ],
   "source": [
    "history_non_smote=Final_Model.fit({'Description':x_train_description[0],'Others':x_train_others[0]},y_temp_train.todense(),\n",
    "                validation_data=({'Description':x_test_description[0],'Others':x_test_others[0]},y_temp_test.todense()),\n",
    "                batch_size=32,callbacks=callbacks,epochs=50)#,class_weight=weights)"
   ]
  },
  {
   "cell_type": "code",
   "execution_count": null,
   "metadata": {
    "id": "Whi6kx_XKv3k"
   },
   "outputs": [],
   "source": [
    "# from sklearn.model_selection import cross_validate\n",
    "# from sklearn.metrics import confusion_matrix\n",
    "# from sklearn.linear_model import LogisticRegression\n",
    "# from sklearn.model_selection import train_test_split,KFold \n",
    "# from sklearn import svm\n",
    "# from sklearn.model_selection import cross_val_score"
   ]
  },
  {
   "cell_type": "code",
   "execution_count": null,
   "metadata": {
    "id": "DHBq0F-vOylm"
   },
   "outputs": [],
   "source": [
    "# optimum_param=cross_validate(estimator=Final_Model,\n",
    "#                              X=pd.concat([x_train[last_sample],x_test[last_sample]]),y=np.hstack((y_train[last_sample],y_test[last_sample])),cv=KFold(10,True,0),scoring=['balanced_accuracy','precision_weighted','recall_weighted','f1_weighted'])  \n",
    "  "
   ]
  },
  {
   "cell_type": "code",
   "execution_count": null,
   "metadata": {
    "id": "DXE_9QOWySQm"
   },
   "outputs": [],
   "source": [
    "\n",
    "# def Voting_ML_classifier(x_train_description,x_train_others,x_test_description,x_test_others,y_train,y_test,name,base_classifier,last_sample):\n",
    "    \n",
    "#   for i in range(0,len(base_classifier)):\n",
    "#     # print(i)\n",
    "#     base_classifier[i][1].fit({'Description':x_train_description[i],'Others':x_train_others[i]},Y_train[i],\n",
    "#                 validation_data=({'Description':x_test_description[i],'Others':x_test_others[i]},Y_test[i]),\n",
    "#                 batch_size=32,callbacks=callbacks,epochs=10)#,class_weight=weights)\n",
    "#   model = VotingClassifier(estimators=base_classifier)\n",
    "\n",
    "\n",
    "#   optimum_param=cross_validate(estimator=model,X=pd.concat([x_train[last_sample],x_test[last_sample]]),y=np.hstack((y_train[last_sample],y_test[last_sample])),cv=KFold(10,True,0),scoring=['balanced_accuracy','precision_weighted','recall_weighted','f1_weighted'])  \n",
    "#   print('***************VALIDATION DATA METRICS(CROSS VALIDATION SCORES) ************************************************')\n",
    "#   # print(optimum_param)\n",
    "#   print(\"Balanced Accuracy Score is: %.3f%% (%.3f%%)\" % (optimum_param['test_balanced_accuracy'].mean()*100, optimum_param['test_balanced_accuracy'].std()*100))\n",
    "#   print(\"Weighted Precison Score  is: %.3f%% (%.3f%%)\" % (optimum_param['test_precision_weighted'].mean()*100, optimum_param['test_precision_weighted'].std()*100))\n",
    "#   print(\"Weighted Recall Score is: %.3f%% (%.3f%%)\" % (optimum_param['test_recall_weighted'].mean()*100, optimum_param['test_recall_weighted'].std()*100))\n",
    "#   print(\"Weighted F-1 Score is: %.3f%% (%.3f%%)\" % (optimum_param['test_f1_weighted'].mean()*100, optimum_param['test_f1_weighted'].std()*100))\n",
    "  \n",
    "#   accuracy_score_mean_value,accuracy_score_std_value=optimum_param['test_balanced_accuracy'].mean()*100,optimum_param['test_balanced_accuracy'].std()*100\n",
    "#   precision_score_mean_value,precision_score_std_value=optimum_param['test_precision_weighted'].mean()*100,optimum_param['test_precision_weighted'].std()*100\n",
    "#   recall_score_mean_value,recall_score_std_value=optimum_param['test_recall_weighted'].mean()*100,optimum_param['test_recall_weighted'].std()*100\n",
    "#   f1_score_mean_value,f1_score_std_value=optimum_param['test_f1_weighted'].mean()*100,optimum_param['test_f1_weighted'].std()*100\n",
    "  \n",
    "#   print()\n",
    "#   print('***************TESTING DATA METRICS(CURRENT SAMPLE SCORE) ************************************************')\n",
    "\n",
    "#   model.fit({'Description':x_train_description[last_sample],'Others':x_train_others[last_sample]},Y_train[last_sample],\n",
    "#                 validation_data=({'Description':x_test_description[last_sample],'Others':x_test_others[last_sample]},Y_test[last_sample]),\n",
    "#                 batch_size=32,callbacks=callbacks,epochs=10)#,class_weight=weights)\n",
    "#   y_pred = model.predict({'Description':x_test_description[last_sample],'Others':x_test_others[last_sample]})\n",
    "#   print(classification_report(y_test[last_sample],y_pred))\n",
    "#   print(confusion_matrix(y_test[last_sample],y_pred))\n",
    "  \n",
    "  \n",
    "#   ll,ul=y_pred.mean()-1.96*(y_pred.std()/len(y_pred)),y_pred.mean()+1.96*(y_pred.std()/len(y_pred))\n",
    "#   print('Lower Limit of Confidence Interval:',ll)\n",
    "#   print('Upper Limit of Confidence Interval:',ul)\n",
    "#   print('Standard Mean:',y_test[last_sample].mean())\n",
    "#   if y_test[last_sample].mean() >=ll and y_test[last_sample].mean()<=ul :\n",
    "#     print('95% confidence level')\n",
    "#   else:\n",
    "#     print('confidence level not achieved')\n",
    "  \n",
    "#   name=name+' Default'\n",
    "#   path='/content/drive/MyDrive/NLP_Chatbot_Capstone_Project/Trained Default Machine Learning Classifiers/'\n",
    "#   with open(path+'Model_'+str(name),'wb') as f:\n",
    "#     pickle.dump(model,f)\n",
    "\n",
    "#   train_f1_score=f1_score(y_train[last_sample], model.predict(x_train[last_sample]), average='weighted')\n",
    "  \n",
    "#   final_metrics=[train_f1_score,accuracy_score_mean_value,precision_score_mean_value,recall_score_mean_value,f1_score_mean_value,\n",
    "#   accuracy_score(y_test[last_sample], y_pred),precision_score(y_test[last_sample], y_pred, average='weighted'),\n",
    "#   recall_score(y_test[last_sample], y_pred, average='weighted'),f1_score(y_test[last_sample], y_pred, average='weighted')]\n",
    "#   return final_metrics\n",
    "#   return 0\n"
   ]
  },
  {
   "cell_type": "code",
   "execution_count": null,
   "metadata": {
    "id": "QDvIkGdBw0gR"
   },
   "outputs": [],
   "source": [
    "# name='Voting Classifier'\n",
    "# base_classifier=[ ('LSTM_'+str(i),Final_Model) for i in range(0,8)]\n",
    "# print('Name of Algorithm/Classifier Used:',name)\n",
    "# print()\n",
    "\n",
    "# last_sample=len(base_classifier)-1\n",
    "# final_metrics=Voting_ML_classifier(x_train_description,x_train_others,x_test_description,x_test_others,Y_train,Y_test,name,base_classifier,last_sample)\n",
    "# f1_score_train_score_sample,accuracy,precision,recall,f1_score_test=final_metrics[0],final_metrics[1],final_metrics[2],final_metrics[3],final_metrics[4]\n",
    "# accuracy_score_sample,precision_score_sample,recall_score_sample,f1_score_sample=final_metrics[5],final_metrics[6],final_metrics[7],final_metrics[8]\n",
    "# test_score_classifiers_default.append([f1_score_train_score_sample,accuracy,precision,recall,f1_score_test,name])\n",
    "# print()\n",
    "# print('Weighted F-1 Score for the Current Sample of Training Data:',f1_score_train_score_sample)\n",
    "# print()\n",
    "# print('Accuracy Score for the Current Sample of Testing Data:',accuracy_score_sample)\n",
    "# print('Weighted Precision Score for the Current Sample of Testing Data:',precision_score_sample)\n",
    "# print('Weighted Recall Score for the Current Sample of Testing Data:',recall_score_sample)\n",
    "# print('Weighted F-1 Score for the Current Sample of Testing Data:',f1_score_sample)"
   ]
  },
  {
   "cell_type": "code",
   "execution_count": null,
   "metadata": {
    "colab": {
     "base_uri": "https://localhost:8080/"
    },
    "id": "SLMCtARQUNjy",
    "outputId": "65fe9d16-da61-488a-b197-471a73cfe5b3"
   },
   "outputs": [
    {
     "data": {
      "text/plain": [
       "array([2., 0., 2., 3., 0., 0., 4., 0., 2., 2., 0., 4., 3., 4., 0., 3., 3.,\n",
       "       0., 2., 2., 1., 4., 4., 4., 2., 2., 3., 1., 3., 2., 2., 1., 3., 0.,\n",
       "       2., 3., 3., 1., 0., 2., 0., 2., 4., 3., 0., 0., 2., 2., 2., 1., 1.,\n",
       "       3., 1., 0., 2., 1., 2., 1., 3., 4., 3., 0., 2., 4., 1., 0., 1., 4.,\n",
       "       1., 1., 2., 3., 3., 1., 2., 3., 1., 1., 1., 3., 2., 1., 3., 3., 1.,\n",
       "       1., 1., 3., 3., 2., 1., 0., 4., 2., 0., 0., 0., 0., 0., 2., 3., 3.,\n",
       "       4., 1., 4., 3., 2., 1., 3., 1., 0., 3., 1., 2., 0., 1., 4., 0., 4.,\n",
       "       0., 3., 4., 2., 0., 3., 4., 1., 4., 0., 0., 1., 2., 2., 2., 4., 1.,\n",
       "       2., 1., 1., 1., 3., 2., 2., 1., 3., 3., 1., 4., 1., 1., 0., 0., 1.,\n",
       "       1., 1., 1., 2., 3., 3., 0., 2., 2., 0., 4., 3., 0., 3., 4., 1., 2.,\n",
       "       0., 4., 4., 1., 2., 2., 0., 2., 1., 2., 1., 1., 1., 2., 3., 1., 3.,\n",
       "       0., 2., 2., 1., 3., 0., 4., 1., 2., 2., 0., 3., 3., 4., 2., 2., 3.,\n",
       "       3., 4., 0., 2., 1., 0., 3., 0., 1., 0., 4., 0., 0., 2., 0., 1., 3.,\n",
       "       3., 3., 1., 1., 0., 3., 1., 3., 0., 0., 0., 4., 3., 0., 3., 2., 4.,\n",
       "       3., 1., 0., 4., 0., 4., 2., 0., 2., 0., 3., 4., 2., 1., 2., 2., 2.,\n",
       "       3., 3., 1., 4., 4., 1., 2., 4., 0., 1., 3., 4., 0., 0., 1., 1., 3.,\n",
       "       2., 0., 2., 1., 3., 4., 0., 1., 3., 4., 2., 4., 0., 3., 0., 3., 1.,\n",
       "       2., 0., 3., 3., 2., 2., 1., 4., 0., 0., 1., 3., 4., 2., 3., 4., 2.,\n",
       "       2., 4., 3., 0., 3., 2., 3., 1., 1., 3., 1., 0., 2., 0., 2., 2., 4.,\n",
       "       3., 4., 0., 3., 2., 3., 0., 0., 0., 2., 1., 2., 1., 0., 3., 3., 1.,\n",
       "       2., 3., 1., 0., 3.])"
      ]
     },
     "execution_count": 112,
     "metadata": {
      "tags": []
     },
     "output_type": "execute_result"
    }
   ],
   "source": [
    "Y_train[0]"
   ]
  },
  {
   "cell_type": "code",
   "execution_count": null,
   "metadata": {
    "colab": {
     "base_uri": "https://localhost:8080/"
    },
    "id": "3q7wd3EoNkis",
    "outputId": "77021d22-762c-4267-e203-aa7b5c477e55"
   },
   "outputs": [
    {
     "data": {
      "text/plain": [
       "<tensorflow.python.keras.callbacks.History at 0x7fa6a139a6a0>"
      ]
     },
     "execution_count": 113,
     "metadata": {
      "tags": []
     },
     "output_type": "execute_result"
    }
   ],
   "source": [
    "history_non_smote"
   ]
  },
  {
   "cell_type": "code",
   "execution_count": null,
   "metadata": {
    "colab": {
     "base_uri": "https://localhost:8080/",
     "height": 545
    },
    "id": "2gMavE5FNkbB",
    "outputId": "24df47d2-1fa6-45a9-9059-140a5248f0f0"
   },
   "outputs": [
    {
     "data": {
      "image/png": "[encoded data removed]",
      "text/plain": [
       "<Figure size 432x288 with 1 Axes>"
      ]
     },
     "metadata": {
      "needs_background": "light",
      "tags": []
     },
     "output_type": "display_data"
    },
    {
     "data": {
      "image/png": "[encoded data removed]",
      "text/plain": [
       "<Figure size 432x288 with 1 Axes>"
      ]
     },
     "metadata": {
      "needs_background": "light",
      "tags": []
     },
     "output_type": "display_data"
    }
   ],
   "source": [
    "acc = history_non_smote.history['accuracy']\n",
    "val_acc = history_non_smote.history['val_accuracy']\n",
    "loss = history_non_smote.history['loss']\n",
    "val_loss = history_non_smote.history['val_loss']\n",
    "\n",
    "epochs = range(1, len(acc)+1)\n",
    "\n",
    "plt.plot(epochs, acc, 'g', label='Training accuracy')\n",
    "plt.plot(epochs, val_acc, 'r', label='Validation accuracy')\n",
    "plt.title('Training and validation accuracy')\n",
    "plt.legend()\n",
    "\n",
    "plt.figure()\n",
    "\n",
    "plt.plot(epochs, loss, 'g', label='Training loss')\n",
    "plt.plot(epochs, val_loss, 'r', label='Validation loss')\n",
    "plt.title('Training and validation loss')\n",
    "plt.legend()\n",
    "\n",
    "plt.show()"
   ]
  },
  {
   "cell_type": "code",
   "execution_count": null,
   "metadata": {
    "id": "rIjFiru3BF1u"
   },
   "outputs": [],
   "source": [
    "y_pred=Final_Model.predict({'Description':x_test_description[0],'Others':x_test_others[0]})"
   ]
  },
  {
   "cell_type": "code",
   "execution_count": null,
   "metadata": {
    "colab": {
     "base_uri": "https://localhost:8080/"
    },
    "id": "llIRfR6n4eIu",
    "outputId": "7152ffed-1d32-4701-89bd-dfd45a32cc2c"
   },
   "outputs": [
    {
     "data": {
      "text/plain": [
       "array([0.00895293, 0.00407171, 0.97834307, 0.00516899, 0.00346335],\n",
       "      dtype=float32)"
      ]
     },
     "execution_count": 117,
     "metadata": {
      "tags": []
     },
     "output_type": "execute_result"
    }
   ],
   "source": [
    "y_pred[0]"
   ]
  },
  {
   "cell_type": "code",
   "execution_count": null,
   "metadata": {
    "colab": {
     "base_uri": "https://localhost:8080/"
    },
    "id": "a6HhQQA34uzY",
    "outputId": "b9fb233a-b5a2-4411-f46e-6633b04a8bef"
   },
   "outputs": [
    {
     "data": {
      "text/plain": [
       "2.0"
      ]
     },
     "execution_count": 118,
     "metadata": {
      "tags": []
     },
     "output_type": "execute_result"
    }
   ],
   "source": [
    "y_test[0]"
   ]
  },
  {
   "cell_type": "code",
   "execution_count": null,
   "metadata": {
    "id": "fKKfwGXxCqoV"
   },
   "outputs": [],
   "source": [
    "y_pred_labels=[]\n",
    "for i in range(0,len(y_pred)):\n",
    "  y_pred_labels.append(float(list(y_pred[i]).index(max(y_pred[i]))))"
   ]
  },
  {
   "cell_type": "code",
   "execution_count": null,
   "metadata": {
    "colab": {
     "base_uri": "https://localhost:8080/"
    },
    "id": "OiwS4JGM41Mc",
    "outputId": "261c4436-37fe-408a-b070-520d08d51932"
   },
   "outputs": [
    {
     "data": {
      "text/plain": [
       "2.0"
      ]
     },
     "execution_count": 120,
     "metadata": {
      "tags": []
     },
     "output_type": "execute_result"
    }
   ],
   "source": [
    "y_pred_labels[0]"
   ]
  },
  {
   "cell_type": "code",
   "execution_count": null,
   "metadata": {
    "id": "aShTEXgbBob_"
   },
   "outputs": [],
   "source": [
    " from sklearn.metrics import confusion_matrix\n",
    " from sklearn.metrics import multilabel_confusion_matrix"
   ]
  },
  {
   "cell_type": "code",
   "execution_count": null,
   "metadata": {
    "colab": {
     "base_uri": "https://localhost:8080/"
    },
    "id": "txRwhbQh8-I5",
    "outputId": "36883c21-eaf3-462a-c498-4d1b561bd669"
   },
   "outputs": [
    {
     "data": {
      "text/plain": [
       "array([[24,  3,  0,  0,  0],\n",
       "       [ 2, 23,  0,  0,  0],\n",
       "       [ 2,  0, 22,  0,  0],\n",
       "       [ 0,  0,  0, 25,  0],\n",
       "       [ 0,  0,  0,  0, 14]])"
      ]
     },
     "execution_count": 122,
     "metadata": {
      "tags": []
     },
     "output_type": "execute_result"
    }
   ],
   "source": [
    "confusion_matrix(y_test, y_pred_labels)#,labels=list(set(accident_level_encoded)))"
   ]
  },
  {
   "cell_type": "markdown",
   "metadata": {
    "id": "gk3LttjBM-gK"
   },
   "source": [
    "Additional Code"
   ]
  },
  {
   "cell_type": "code",
   "execution_count": null,
   "metadata": {
    "id": "6EfarXA3M9z6"
   },
   "outputs": [],
   "source": []
  },
  {
   "cell_type": "code",
   "execution_count": null,
   "metadata": {
    "id": "5VexLFRe8mU0"
   },
   "outputs": [],
   "source": [
    "\n",
    "# def ML_classifier(x_train,x_test,y_train,y_test,name,classifier):\n",
    "#   model= classifier  \n",
    "#   optimum_param=cross_validate(estimator=model,X=pd.concat([x_train,x_test]),y=np.hstack((y_train,y_test)),cv=KFold(10,True,0),scoring=['balanced_accuracy','precision_weighted','recall_weighted','f1_weighted'])  \n",
    "#   print('***************VALIDATION DATA METRICS(CROSS VALIDATION SCORES) ************************************************')\n",
    "#   # print(optimum_param)\n",
    "#   print(\"Balanced Accuracy Score is: %.3f%% (%.3f%%)\" % (optimum_param['test_balanced_accuracy'].mean()*100, optimum_param['test_balanced_accuracy'].std()*100))\n",
    "#   print(\"Weighted Precison Score  is: %.3f%% (%.3f%%)\" % (optimum_param['test_precision_weighted'].mean()*100, optimum_param['test_precision_weighted'].std()*100))\n",
    "#   print(\"Weighted Recall Score is: %.3f%% (%.3f%%)\" % (optimum_param['test_recall_weighted'].mean()*100, optimum_param['test_recall_weighted'].std()*100))\n",
    "#   print(\"Weighted F-1 Score is: %.3f%% (%.3f%%)\" % (optimum_param['test_f1_weighted'].mean()*100, optimum_param['test_f1_weighted'].std()*100))\n",
    "  \n",
    "#   accuracy_score_mean_value,accuracy_score_std_value=optimum_param['test_balanced_accuracy'].mean()*100,optimum_param['test_balanced_accuracy'].std()*100\n",
    "#   precision_score_mean_value,precision_score_std_value=optimum_param['test_precision_weighted'].mean()*100,optimum_param['test_precision_weighted'].std()*100\n",
    "#   recall_score_mean_value,recall_score_std_value=optimum_param['test_recall_weighted'].mean()*100,optimum_param['test_recall_weighted'].std()*100\n",
    "#   f1_score_mean_value,f1_score_std_value=optimum_param['test_f1_weighted'].mean()*100,optimum_param['test_f1_weighted'].std()*100\n",
    "  \n",
    "#   print()\n",
    "#   print('***************TESTING DATA METRICS(CURRENT SAMPLE SCORE) ************************************************')\n",
    "\n",
    "#   model.fit(X=x_train, y=y_train)\n",
    "#   y_pred = model.predict(X=x_test)\n",
    "#   print(classification_report(y_test,y_pred))\n",
    "#   print(confusion_matrix(y_test,y_pred))\n",
    "  \n",
    "  \n",
    "#   ll,ul=y_pred.mean()-1.96*(y_pred.std()/len(y_pred)),y_pred.mean()+1.96*(y_pred.std()/len(y_pred))\n",
    "#   print('Lower Limit of Confidence Interval:',ll)\n",
    "#   print('Upper Limit of Confidence Interval:',ul)\n",
    "#   print('Standard Mean:',y_test.mean())\n",
    "#   if y_test.mean() >=ll and y_test.mean()<=ul :\n",
    "#     print('95% confidence level')\n",
    "#   else:\n",
    "#     print('confidence level not achieved')\n",
    "  \n",
    "#   name=name+' Default'\n",
    "#   path='/content/drive/MyDrive/NLP_Chatbot_Capstone_Project/Trained Default Machine Learning Classifiers/'\n",
    "#   with open(path+'Model_'+str(name),'wb') as f:\n",
    "#     pickle.dump(model,f)\n",
    "\n",
    "#   train_f1_score=f1_score(y_train, model.predict(x_train), average='weighted')\n",
    "  \n",
    "#   final_metrics=[train_f1_score,accuracy_score_mean_value,precision_score_mean_value,recall_score_mean_value,f1_score_mean_value,\n",
    "#   accuracy_score(y_test, y_pred),precision_score(y_test, y_pred, average='weighted'),\n",
    "#   recall_score(y_test, y_pred, average='weighted'),f1_score(y_test, y_pred, average='weighted')]\n",
    "#   return final_metrics\n"
   ]
  },
  {
   "cell_type": "code",
   "execution_count": null,
   "metadata": {
    "id": "JsR8ZKQI83r8"
   },
   "outputs": [],
   "source": [
    "# # Bagging Classifier\n",
    "# from sklearn.ensemble import BaggingClassifier\n",
    "# name='Bagging'\n",
    "# classifier = BaggingClassifier(base_estimator=Final_Model)\n",
    "# print('Name of Algorithm/Classifier Used:',name)\n",
    "# print()\n",
    "\n",
    "# final_metrics=ML_classifier({'Description':x_train_description,'Others':x_train_others},{'Description':x_test_description,'Others':x_test_others},Y_train[0],Y_test[0],name,classifier)\n",
    "# f1_score_train_score_sample,accuracy,precision,recall,f1_score_test=final_metrics[0],final_metrics[1],final_metrics[2],final_metrics[3],final_metrics[4]\n",
    "# accuracy_score_sample,precision_score_sample,recall_score_sample,f1_score_sample=final_metrics[5],final_metrics[6],final_metrics[7],final_metrics[8]\n",
    "# test_score_classifiers_default.append([f1_score_train_score_sample,accuracy,precision,recall,f1_score_test,name])\n",
    "# print()\n",
    "# print('Weighted F-1 Score for the Current Sample of Training Data:',f1_score_train_score_sample)\n",
    "# print()\n",
    "# print('Accuracy Score for the Current Sample of Testing Data:',accuracy_score_sample)\n",
    "# print('Weighted Precision Score for the Current Sample of Testing Data:',precision_score_sample)\n",
    "# print('Weighted Recall Score for the Current Sample of Testing Data:',recall_score_sample)\n",
    "# print('Weighted F-1 Score for the Current Sample of Testing Data:',f1_score_sample)"
   ]
  }
 ],
 "metadata": {
  "accelerator": "TPU",
  "colab": {
   "name": "Industrial_Chatbot_Capstone_Modelling_Deep_Learning_Sampling_Balanced.ipynb",
   "provenance": []
  },
  "kernelspec": {
   "display_name": "Python 3",
   "language": "python",
   "name": "python3"
  },
  "language_info": {
   "codemirror_mode": {
    "name": "ipython",
    "version": 3
   },
   "file_extension": ".py",
   "mimetype": "text/x-python",
   "name": "python",
   "nbconvert_exporter": "python",
   "pygments_lexer": "ipython3",
   "version": "3.7.1"
  }
 },
 "nbformat": 4,
 "nbformat_minor": 1
}
