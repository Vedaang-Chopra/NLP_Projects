{
 "cells": [
  {
   "cell_type": "code",
   "execution_count": 1,
   "metadata": {},
   "outputs": [],
   "source": [
    "import pandas as pd\n",
    "import numpy as np\n",
    "import seaborn as sns\n",
    "import matplotlib.pyplot as plt\n"
   ]
  },
  {
   "cell_type": "code",
   "execution_count": 2,
   "metadata": {},
   "outputs": [],
   "source": [
    "import os\n",
    "import platform\n",
    "import sys"
   ]
  },
  {
   "cell_type": "code",
   "execution_count": 3,
   "metadata": {},
   "outputs": [],
   "source": [
    "import torch\n",
    "import torch.nn as nn\n",
    "import torch.optim as optim\n",
    "from torch.utils.data import Dataset, DataLoader"
   ]
  },
  {
   "cell_type": "code",
   "execution_count": 4,
   "metadata": {},
   "outputs": [
    {
     "name": "stdout",
     "output_type": "stream",
     "text": [
      "2.2.0+cu121\n"
     ]
    }
   ],
   "source": [
    "import torch\n",
    "print(torch.__version__)"
   ]
  },
  {
   "cell_type": "code",
   "execution_count": 5,
   "metadata": {},
   "outputs": [
    {
     "name": "stdout",
     "output_type": "stream",
     "text": [
      "0.17.0+cpu\n"
     ]
    }
   ],
   "source": [
    "import torchtext\n",
    "print(torchtext.__version__)"
   ]
  },
  {
   "cell_type": "code",
   "execution_count": 6,
   "metadata": {},
   "outputs": [],
   "source": [
    "from torchtext.vocab import GloVe\n",
    "from torchtext.data.utils import get_tokenizer"
   ]
  },
  {
   "cell_type": "code",
   "execution_count": 7,
   "metadata": {},
   "outputs": [],
   "source": [
    "glove = GloVe(name='6B', dim=100)  # 100-dimensional GloVe embeddings"
   ]
  },
  {
   "cell_type": "code",
   "execution_count": 8,
   "metadata": {},
   "outputs": [],
   "source": [
    "#  Setting Path to Dataset\n",
    "def check_if_colab():\n",
    "    if 'google.colab' in sys.modules:\n",
    "        return True\n",
    "    return False"
   ]
  },
  {
   "cell_type": "code",
   "execution_count": 9,
   "metadata": {},
   "outputs": [
    {
     "data": {
      "text/plain": [
       "['DataSet.xlsx',\n",
       " 'modified_dataset.xlsx',\n",
       " 'modified_dataset_v1.xlsx',\n",
       " 'modified_dataset_v2.xlsx',\n",
       " 'modified_dataset_v3.xlsx',\n",
       " 'modified_testing_df.csv',\n",
       " 'modified_training_df.csv']"
      ]
     },
     "execution_count": 9,
     "metadata": {},
     "output_type": "execute_result"
    }
   ],
   "source": [
    "if check_if_colab():\n",
    "    print(\"Running on Google Colab\")\n",
    "    # from google.colab import drive\n",
    "    # drive.mount('/content/drive')\n",
    "    # BASE_PATH_TO_DATASETS='/content/drive/MyDrive/OMSCS/cs7641/All assignments/Assignments/Assignment-1'\n",
    "    # BASE_PATH_TO_DATASETS=os.path.join(BASE_PATH_TO_DATASETS,'pubg')\n",
    "else:\n",
    "  if platform.system().lower().__contains__('windows'):\n",
    "      BASE_PATH_TO_PROJECT_REPOSITORY=(os.sep).join(os.getcwd().split(os.sep)[:os.getcwd().split(os.sep).index('Parsec_Assignment')+1])\n",
    "      BASE_PATH_TO_DATASETS=os.path.join(BASE_PATH_TO_PROJECT_REPOSITORY,'dataset')\n",
    "      BASE_PATH_TO_CODE_BASE =os.path.join(BASE_PATH_TO_DATASETS, 'code_base')\n",
    "\n",
    "  elif platform.system().lower().__contains__('linux'):\n",
    "      BASE_PATH_TO_PROJECT_REPOSITORY=(os.sep).join(os.getcwd().split(os.sep)[:os.getcwd().split(os.sep).index('Parsec_Assignment')+1])\n",
    "      BASE_PATH_TO_DATASETS=os.path.join(BASE_PATH_TO_PROJECT_REPOSITORY,'dataset')\n",
    "      BASE_PATH_TO_CODE_BASE=os.path.join(BASE_PATH_TO_PROJECT_REPOSITORY, 'code_base')\n",
    "  else:\n",
    "      print('OS Error')\n",
    "os.listdir(BASE_PATH_TO_DATASETS)"
   ]
  },
  {
   "cell_type": "markdown",
   "metadata": {},
   "source": [
    "#### Loading Dataset"
   ]
  },
  {
   "cell_type": "code",
   "execution_count": 10,
   "metadata": {},
   "outputs": [],
   "source": [
    "training_data = pd.read_csv(os.path.join(BASE_PATH_TO_DATASETS, 'modified_training_df.csv'))\n",
    "testing_data = pd.read_csv(os.path.join(BASE_PATH_TO_DATASETS, 'modified_testing_df.csv'))"
   ]
  },
  {
   "cell_type": "code",
   "execution_count": 11,
   "metadata": {},
   "outputs": [],
   "source": [
    "tokenizer = get_tokenizer(\"basic_english\")"
   ]
  },
  {
   "cell_type": "code",
   "execution_count": 12,
   "metadata": {},
   "outputs": [],
   "source": [
    "# Tokenize the dataset\n",
    "training_data['tokenized_text'] = training_data['pdf_text_sample_cleaned'].apply(tokenizer)"
   ]
  },
  {
   "cell_type": "code",
   "execution_count": 13,
   "metadata": {},
   "outputs": [
    {
     "data": {
      "text/plain": [
       "((1255,), (140,), (1255,), (140,))"
      ]
     },
     "execution_count": 13,
     "metadata": {},
     "output_type": "execute_result"
    }
   ],
   "source": [
    "\n",
    "from sklearn.model_selection import train_test_split\n",
    "\n",
    "X_train, X_val, y_train, y_val = train_test_split(training_data['tokenized_text'], training_data['target_col'], \n",
    "                                                    test_size=0.1,\n",
    "                                                    random_state=42,\n",
    "                                                    stratify=training_data['target_col']\n",
    "                                                    )\n",
    "\n",
    "# X_train= pd.DataFrame(X_train, columns=['pdf_text_sample_cleaned'])\n",
    "# X_val= pd.DataFrame(X_val, columns=['pdf_text_sample_cleaned'])\n",
    "X_train.shape, X_val.shape, y_train.shape, y_val.shape  "
   ]
  },
  {
   "cell_type": "code",
   "execution_count": 14,
   "metadata": {},
   "outputs": [
    {
     "data": {
      "text/plain": [
       "304     [nominal, unless, otherwise, outer, jacket, co...\n",
       "518     [mount, hermaphroditic, connector, horizontal,...\n",
       "249     [axial, lead, cartridge, fuse, subject, change...\n",
       "844     [number, project, name, type, note, perfect, a...\n",
       "1379    [ca, telephone, toll, free, series, housing, l...\n",
       "                              ...                        \n",
       "641     [fixture, type, number, project, location, lig...\n",
       "453     [surface, mount, subject, change, without, not...\n",
       "1158    [position, sealable, printed, circuit, board, ...\n",
       "1073    [connector, position, wire, cable, ballast, co...\n",
       "212     [circuit, protection, miniature, fuse, see, de...\n",
       "Name: tokenized_text, Length: 1255, dtype: object"
      ]
     },
     "execution_count": 14,
     "metadata": {},
     "output_type": "execute_result"
    }
   ],
   "source": [
    "X_train"
   ]
  },
  {
   "cell_type": "code",
   "execution_count": 15,
   "metadata": {},
   "outputs": [],
   "source": [
    "# Encode labels\n",
    "from sklearn.preprocessing import LabelEncoder\n",
    "\n",
    "label_encoder = LabelEncoder()\n",
    "y_train_encoded = label_encoder.fit_transform(y_train)\n",
    "y_val_encoded = label_encoder.transform(y_val)"
   ]
  },
  {
   "cell_type": "markdown",
   "metadata": {},
   "source": [
    "### Embedding Based Classification"
   ]
  },
  {
   "cell_type": "code",
   "execution_count": 16,
   "metadata": {},
   "outputs": [],
   "source": [
    "from sklearn.preprocessing import LabelEncoder\n",
    "from torch.utils.data import Dataset, DataLoader\n",
    "import torch"
   ]
  },
  {
   "cell_type": "code",
   "execution_count": 17,
   "metadata": {},
   "outputs": [],
   "source": [
    "from torchtext.vocab import build_vocab_from_iterator\n",
    "\n",
    "# Token generator to yield tokens from training data\n",
    "def yield_tokens(data_iter):\n",
    "    for tokens in data_iter:\n",
    "        yield tokens\n",
    "\n",
    "# Build vocabulary from iterator\n",
    "vocab = build_vocab_from_iterator(yield_tokens(X_train), specials=['<unk>', '<pad>'])\n",
    "vocab.set_default_index(vocab['<unk>'])"
   ]
  },
  {
   "cell_type": "code",
   "execution_count": 18,
   "metadata": {},
   "outputs": [],
   "source": [
    "def pad_sequence(seq, max_len=100):\n",
    "    if len(seq) > max_len:\n",
    "        return seq[:max_len]\n",
    "    return seq + [vocab['<pad>']] * (max_len - len(seq))"
   ]
  },
  {
   "cell_type": "code",
   "execution_count": 19,
   "metadata": {},
   "outputs": [],
   "source": [
    "# X_train = [pad_sequence(text) for text in X_train]\n",
    "# X_val = [pad_sequence(text) for text in X_val]"
   ]
  },
  {
   "cell_type": "code",
   "execution_count": 20,
   "metadata": {},
   "outputs": [
    {
     "data": {
      "text/plain": [
       "(1255,)"
      ]
     },
     "execution_count": 20,
     "metadata": {},
     "output_type": "execute_result"
    }
   ],
   "source": [
    "np.array(X_train).shape"
   ]
  },
  {
   "cell_type": "code",
   "execution_count": 21,
   "metadata": {},
   "outputs": [],
   "source": [
    "embedding_matrix = torch.zeros(len(vocab), 100)\n",
    "\n",
    "for i, word in enumerate(vocab.get_itos()):\n",
    "    if word in glove.stoi:\n",
    "        embedding_matrix[i] = glove[word]\n",
    "    else:\n",
    "        embedding_matrix[i] = torch.randn(100)  # Random for unknown words"
   ]
  },
  {
   "cell_type": "code",
   "execution_count": 22,
   "metadata": {},
   "outputs": [],
   "source": [
    "def numericalize_and_pad(texts, vocab, max_len=50):\n",
    "    return [pad_sequence([vocab[token] for token in text], max_len) for text in texts]"
   ]
  },
  {
   "cell_type": "code",
   "execution_count": 23,
   "metadata": {},
   "outputs": [],
   "source": [
    "X_train = numericalize_and_pad(X_train, vocab)\n",
    "X_val = numericalize_and_pad(X_val, vocab)"
   ]
  },
  {
   "cell_type": "code",
   "execution_count": 24,
   "metadata": {},
   "outputs": [],
   "source": [
    "class TextDataset(Dataset):\n",
    "    def __init__(self, texts, labels):\n",
    "        self.texts = [torch.tensor(text, dtype=torch.long) for text in texts]\n",
    "        self.labels = torch.tensor(labels, dtype=torch.long)\n",
    "\n",
    "    def __len__(self):\n",
    "        return len(self.labels)\n",
    "\n",
    "    def __getitem__(self, idx):\n",
    "        return self.texts[idx], self.labels[idx]"
   ]
  },
  {
   "cell_type": "code",
   "execution_count": 25,
   "metadata": {},
   "outputs": [
    {
     "data": {
      "text/plain": [
       "<__main__.TextDataset at 0x7801c2db86d0>"
      ]
     },
     "execution_count": 25,
     "metadata": {},
     "output_type": "execute_result"
    }
   ],
   "source": [
    "train_dataset = TextDataset(X_train, y_train_encoded)\n",
    "val_dataset = TextDataset(X_val, y_val_encoded)\n",
    "train_dataset"
   ]
  },
  {
   "cell_type": "code",
   "execution_count": 26,
   "metadata": {},
   "outputs": [],
   "source": [
    "train_loader = DataLoader(train_dataset, batch_size=4, shuffle=True)\n",
    "val_loader = DataLoader(val_dataset, batch_size=4, shuffle=False)"
   ]
  },
  {
   "cell_type": "code",
   "execution_count": 27,
   "metadata": {},
   "outputs": [
    {
     "name": "stdout",
     "output_type": "stream",
     "text": [
      "1255\n",
      "1255\n"
     ]
    }
   ],
   "source": [
    "print(len(train_dataset.texts))  # Number of text samples\n",
    "print(len(train_dataset.labels))  # Number of labels\n"
   ]
  },
  {
   "cell_type": "code",
   "execution_count": 28,
   "metadata": {},
   "outputs": [],
   "source": [
    "# for i in range(len(train_dataset)):\n",
    "#     print(train_dataset[i])  # This should print text and label pairs\n"
   ]
  },
  {
   "cell_type": "code",
   "execution_count": 29,
   "metadata": {},
   "outputs": [
    {
     "name": "stdout",
     "output_type": "stream",
     "text": [
      "Batch Text Shape: torch.Size([4, 50])\n",
      "Batch Label Shape: torch.Size([4])\n"
     ]
    }
   ],
   "source": [
    "for texts, labels in train_loader:\n",
    "    print(\"Batch Text Shape:\", texts.shape)\n",
    "    print(\"Batch Label Shape:\", labels.shape)\n",
    "    break"
   ]
  },
  {
   "cell_type": "markdown",
   "metadata": {},
   "source": [
    "#### Modelling"
   ]
  },
  {
   "cell_type": "code",
   "execution_count": 30,
   "metadata": {},
   "outputs": [],
   "source": [
    "class LSTMClassifier(nn.Module):\n",
    "    def __init__(self, vocab_size, embedding_dim, hidden_dim, output_dim, pad_idx):\n",
    "        super(LSTMClassifier, self).__init__()\n",
    "\n",
    "        # Embedding layer\n",
    "        self.embedding = nn.Embedding(vocab_size, embedding_dim, padding_idx=pad_idx)\n",
    "        self.embedding.weight.data.copy_(embedding_matrix)\n",
    "        self.embedding.weight.requires_grad = False  # Freeze embeddings\n",
    "\n",
    "        # LSTM layer\n",
    "        self.lstm = nn.LSTM(embedding_dim, hidden_dim, num_layers=1, batch_first=True)\n",
    "\n",
    "        # Fully connected layer\n",
    "        self.fc = nn.Linear(hidden_dim, output_dim)\n",
    "\n",
    "    def forward(self, text):\n",
    "        embedded = self.embedding(text)\n",
    "        lstm_out, (hidden, _) = self.lstm(embedded)\n",
    "        return self.fc(hidden[-1])"
   ]
  },
  {
   "cell_type": "code",
   "execution_count": 31,
   "metadata": {},
   "outputs": [],
   "source": [
    "embedding_dim = 100\n",
    "hidden_dim = 128\n",
    "output_dim = len(label_encoder.classes_)\n",
    "vocab_size = len(vocab)\n",
    "pad_idx = vocab['<pad>']\n",
    "\n",
    "model = LSTMClassifier(vocab_size, embedding_dim, hidden_dim, output_dim, pad_idx)\n",
    "\n",
    "optimizer = torch.optim.Adam(model.parameters(), lr=0.001)\n",
    "criterion = nn.CrossEntropyLoss()\n"
   ]
  },
  {
   "cell_type": "code",
   "execution_count": 32,
   "metadata": {},
   "outputs": [],
   "source": [
    "import matplotlib.pyplot as plt\n",
    "\n",
    "def train(model, train_loader, test_loader, optimizer, criterion, epochs=10, patience=3):\n",
    "    train_losses = []\n",
    "    val_losses = []\n",
    "    train_accuracies = []\n",
    "    val_accuracies = []\n",
    "\n",
    "    scheduler = torch.optim.lr_scheduler.StepLR(optimizer, step_size=3, gamma=0.1)  # LR Decay\n",
    "    best_val_loss = float('inf')\n",
    "    no_improve_epochs = 0\n",
    "    \n",
    "    for epoch in range(epochs):\n",
    "        model.train()\n",
    "        total_loss = 0\n",
    "        correct_train = 0\n",
    "        total_train = 0\n",
    "        \n",
    "        # Training\n",
    "        for texts, labels in train_loader:\n",
    "            optimizer.zero_grad()\n",
    "            output = model(texts)\n",
    "            loss = criterion(output, labels)\n",
    "            loss.backward()\n",
    "            optimizer.step()\n",
    "            \n",
    "            total_loss += loss.item()\n",
    "            \n",
    "            # Calculate training accuracy\n",
    "            predictions = torch.argmax(output, dim=1)\n",
    "            correct_train += (predictions == labels).sum().item()\n",
    "            total_train += labels.size(0)\n",
    "\n",
    "        # Record Training Loss/Accuracy\n",
    "        train_losses.append(total_loss / len(train_loader))\n",
    "        train_accuracies.append(correct_train / total_train)\n",
    "        print(f\"Epoch {epoch+1} | Train Loss: {train_losses[-1]:.4f} | Train Acc: {train_accuracies[-1]:.4f}\")\n",
    "\n",
    "        # Validation\n",
    "        model.eval()\n",
    "        total_val_loss = 0\n",
    "        correct_val = 0\n",
    "        total_val = 0\n",
    "        \n",
    "        with torch.no_grad():\n",
    "            for texts, labels in test_loader:\n",
    "                output = model(texts)\n",
    "                val_loss = criterion(output, labels)\n",
    "                total_val_loss += val_loss.item()\n",
    "                \n",
    "                predictions = torch.argmax(output, dim=1)\n",
    "                correct_val += (predictions == labels).sum().item()\n",
    "                total_val += labels.size(0)\n",
    "\n",
    "        # Record Validation Loss/Accuracy\n",
    "        val_losses.append(total_val_loss / len(test_loader))\n",
    "        val_accuracies.append(correct_val / total_val)\n",
    "        print(f\"Validation Loss: {val_losses[-1]:.4f} | Validation Acc: {val_accuracies[-1]:.4f}\")\n",
    "        \n",
    "        # LR Scheduler Step\n",
    "        scheduler.step()\n",
    "\n",
    "        # Early Stopping\n",
    "        if val_losses[-1] < best_val_loss:\n",
    "            best_val_loss = val_losses[-1]\n",
    "            no_improve_epochs = 0\n",
    "            torch.save(model.state_dict(), 'best_model.pth')  # Save the best model\n",
    "        else:\n",
    "            no_improve_epochs += 1\n",
    "            if no_improve_epochs >= patience:\n",
    "                print(\"Early stopping triggered.\")\n",
    "                break\n",
    "    \n",
    "    # Plot Accuracy and Loss\n",
    "    plot_metrics(train_losses, val_losses, train_accuracies, val_accuracies)\n",
    "\n",
    "\n",
    "def plot_metrics(train_losses, val_losses, train_accuracies, val_accuracies):\n",
    "    plt.figure(figsize=(12, 5))\n",
    "    \n",
    "    # Loss Plot\n",
    "    plt.subplot(1, 2, 1)\n",
    "    plt.plot(train_losses, label='Train Loss')\n",
    "    plt.plot(val_losses, label='Val Loss')\n",
    "    plt.xlabel('Epochs')\n",
    "    plt.ylabel('Loss')\n",
    "    plt.title('Training and Validation Loss')\n",
    "    plt.legend()\n",
    "\n",
    "    # Accuracy Plot\n",
    "    plt.subplot(1, 2, 2)\n",
    "    plt.plot(train_accuracies, label='Train Accuracy')\n",
    "    plt.plot(val_accuracies, label='Val Accuracy')\n",
    "    plt.xlabel('Epochs')\n",
    "    plt.ylabel('Accuracy')\n",
    "    plt.title('Training and Validation Accuracy')\n",
    "    plt.legend()\n",
    "    \n",
    "    plt.tight_layout()\n",
    "    plt.show()\n"
   ]
  },
  {
   "cell_type": "code",
   "execution_count": 33,
   "metadata": {},
   "outputs": [
    {
     "name": "stdout",
     "output_type": "stream",
     "text": [
      "Epoch 1 | Train Loss: 1.1472 | Train Acc: 0.5482\n",
      "Validation Loss: 1.0421 | Validation Acc: 0.5786\n",
      "Epoch 2 | Train Loss: 0.7721 | Train Acc: 0.7187\n",
      "Validation Loss: 0.6998 | Validation Acc: 0.7000\n",
      "Epoch 3 | Train Loss: 0.3257 | Train Acc: 0.8980\n",
      "Validation Loss: 0.2943 | Validation Acc: 0.9214\n",
      "Epoch 4 | Train Loss: 0.1477 | Train Acc: 0.9578\n",
      "Validation Loss: 0.2808 | Validation Acc: 0.9286\n",
      "Epoch 5 | Train Loss: 0.1137 | Train Acc: 0.9681\n",
      "Validation Loss: 0.1902 | Validation Acc: 0.9571\n",
      "Epoch 6 | Train Loss: 0.0990 | Train Acc: 0.9705\n",
      "Validation Loss: 0.1856 | Validation Acc: 0.9571\n",
      "Epoch 7 | Train Loss: 0.0806 | Train Acc: 0.9753\n",
      "Validation Loss: 0.1779 | Validation Acc: 0.9643\n",
      "Epoch 8 | Train Loss: 0.0780 | Train Acc: 0.9753\n",
      "Validation Loss: 0.1786 | Validation Acc: 0.9643\n",
      "Epoch 9 | Train Loss: 0.0763 | Train Acc: 0.9761\n",
      "Validation Loss: 0.1788 | Validation Acc: 0.9643\n",
      "Epoch 10 | Train Loss: 0.0747 | Train Acc: 0.9761\n",
      "Validation Loss: 0.1788 | Validation Acc: 0.9643\n",
      "Epoch 11 | Train Loss: 0.0746 | Train Acc: 0.9761\n",
      "Validation Loss: 0.1788 | Validation Acc: 0.9643\n",
      "Epoch 12 | Train Loss: 0.0744 | Train Acc: 0.9761\n",
      "Validation Loss: 0.1788 | Validation Acc: 0.9643\n",
      "Early stopping triggered.\n"
     ]
    },
    {
     "data": {
      "image/png": "[encoded data removed]",
      "text/plain": [
       "<Figure size 1200x500 with 2 Axes>"
      ]
     },
     "metadata": {},
     "output_type": "display_data"
    }
   ],
   "source": [
    "train(model, train_loader, val_loader, optimizer, criterion, epochs=15, patience=5)"
   ]
  },
  {
   "cell_type": "markdown",
   "metadata": {},
   "source": [
    "### Testing Data"
   ]
  },
  {
   "cell_type": "code",
   "execution_count": 34,
   "metadata": {},
   "outputs": [],
   "source": [
    "from sklearn.metrics import classification_report, accuracy_score, confusion_matrix\n",
    "import seaborn as sns"
   ]
  },
  {
   "cell_type": "code",
   "execution_count": 35,
   "metadata": {},
   "outputs": [
    {
     "data": {
      "text/html": [
       "<div>\n",
       "<style scoped>\n",
       "    .dataframe tbody tr th:only-of-type {\n",
       "        vertical-align: middle;\n",
       "    }\n",
       "\n",
       "    .dataframe tbody tr th {\n",
       "        vertical-align: top;\n",
       "    }\n",
       "\n",
       "    .dataframe thead th {\n",
       "        text-align: right;\n",
       "    }\n",
       "</style>\n",
       "<table border=\"1\" class=\"dataframe\">\n",
       "  <thead>\n",
       "    <tr style=\"text-align: right;\">\n",
       "      <th></th>\n",
       "      <th>pdf_text_sample_cleaned</th>\n",
       "      <th>target_col</th>\n",
       "      <th>tokenized_text</th>\n",
       "      <th>target_col_enc</th>\n",
       "    </tr>\n",
       "  </thead>\n",
       "  <tbody>\n",
       "    <tr>\n",
       "      <th>0</th>\n",
       "      <td>product coax commercial product description co...</td>\n",
       "      <td>cable</td>\n",
       "      <td>[product, coax, commercial, product, descripti...</td>\n",
       "      <td>0</td>\n",
       "    </tr>\n",
       "    <tr>\n",
       "      <th>1</th>\n",
       "      <td>number type project series trim rectangular du...</td>\n",
       "      <td>lighting</td>\n",
       "      <td>[number, type, project, series, trim, rectangu...</td>\n",
       "      <td>2</td>\n",
       "    </tr>\n",
       "    <tr>\n",
       "      <th>2</th>\n",
       "      <td>jumper general description prefix plug series ...</td>\n",
       "      <td>others</td>\n",
       "      <td>[jumper, general, description, prefix, plug, s...</td>\n",
       "      <td>3</td>\n",
       "    </tr>\n",
       "    <tr>\n",
       "      <th>3</th>\n",
       "      <td>fixture type number project location number co...</td>\n",
       "      <td>lighting</td>\n",
       "      <td>[fixture, type, number, project, location, num...</td>\n",
       "      <td>2</td>\n",
       "    </tr>\n",
       "    <tr>\n",
       "      <th>4</th>\n",
       "      <td>specification sheet cable radio frequency twin...</td>\n",
       "      <td>cable</td>\n",
       "      <td>[specification, sheet, cable, radio, frequency...</td>\n",
       "      <td>0</td>\n",
       "    </tr>\n",
       "  </tbody>\n",
       "</table>\n",
       "</div>"
      ],
      "text/plain": [
       "                             pdf_text_sample_cleaned target_col  \\\n",
       "0  product coax commercial product description co...      cable   \n",
       "1  number type project series trim rectangular du...   lighting   \n",
       "2  jumper general description prefix plug series ...     others   \n",
       "3  fixture type number project location number co...   lighting   \n",
       "4  specification sheet cable radio frequency twin...      cable   \n",
       "\n",
       "                                      tokenized_text  target_col_enc  \n",
       "0  [product, coax, commercial, product, descripti...               0  \n",
       "1  [number, type, project, series, trim, rectangu...               2  \n",
       "2  [jumper, general, description, prefix, plug, s...               3  \n",
       "3  [fixture, type, number, project, location, num...               2  \n",
       "4  [specification, sheet, cable, radio, frequency...               0  "
      ]
     },
     "execution_count": 35,
     "metadata": {},
     "output_type": "execute_result"
    }
   ],
   "source": [
    "testing_data['tokenized_text'] = testing_data['pdf_text_sample_cleaned'].apply(tokenizer)\n",
    "testing_data['target_col_enc'] = label_encoder.transform(testing_data['target_col'])\n",
    "testing_data.head()"
   ]
  },
  {
   "cell_type": "code",
   "execution_count": 36,
   "metadata": {},
   "outputs": [],
   "source": [
    "testing_data['numericalized_text'] = numericalize_and_pad(testing_data['tokenized_text'], vocab)\n",
    "test_dataset = TextDataset(testing_data['numericalized_text'], testing_data['target_col_enc'])\n",
    "test_loader = DataLoader(test_dataset, batch_size=4, shuffle=True)"
   ]
  },
  {
   "cell_type": "code",
   "execution_count": 37,
   "metadata": {},
   "outputs": [
    {
     "name": "stdout",
     "output_type": "stream",
     "text": [
      "Test Accuracy: 0.97\n",
      "Classification Report:\n",
      "               precision    recall  f1-score   support\n",
      "\n",
      "           0       1.00      0.99      0.99        98\n",
      "           1       0.99      1.00      1.00       101\n",
      "           2       0.97      0.92      0.95        66\n",
      "           3       0.93      0.96      0.95        84\n",
      "\n",
      "    accuracy                           0.97       349\n",
      "   macro avg       0.97      0.97      0.97       349\n",
      "weighted avg       0.97      0.97      0.97       349\n",
      "\n"
     ]
    },
    {
     "data": {
      "image/png": "[encoded data removed]",
      "text/plain": [
       "<Figure size 800x600 with 2 Axes>"
      ]
     },
     "metadata": {},
     "output_type": "display_data"
    }
   ],
   "source": [
    "y_true = []\n",
    "y_pred = []\n",
    "\n",
    "with torch.no_grad():\n",
    "    for texts, labels in test_loader:\n",
    "        output = model(texts)\n",
    "        predictions = torch.argmax(output, dim=1)\n",
    "        \n",
    "        # Extend using torch operations instead of numpy\n",
    "        y_true.extend(labels.detach().cpu().tolist())\n",
    "        y_pred.extend(predictions.detach().cpu().tolist())\n",
    "\n",
    "# Print accuracy\n",
    "test_accuracy = accuracy_score(y_true, y_pred)\n",
    "print(f\"Test Accuracy: {test_accuracy:.2f}\")\n",
    "\n",
    "# Print classification report\n",
    "print(\"Classification Report:\\n\", classification_report(y_true, y_pred))\n",
    "\n",
    "# Plot confusion matrix\n",
    "cm = confusion_matrix(y_true, y_pred)\n",
    "plt.figure(figsize=(8, 6))\n",
    "sns.heatmap(cm, annot=True, fmt='d', cmap='Blues', xticklabels=label_encoder.classes_, yticklabels=label_encoder.classes_)\n",
    "plt.xlabel(\"Predicted\")\n",
    "plt.ylabel(\"Actual\")\n",
    "plt.title(\"Confusion Matrix\")\n",
    "plt.show()\n"
   ]
  },
  {
   "cell_type": "markdown",
   "metadata": {},
   "source": [
    "#### Saving Files"
   ]
  },
  {
   "cell_type": "code",
   "execution_count": 38,
   "metadata": {},
   "outputs": [
    {
     "name": "stdout",
     "output_type": "stream",
     "text": [
      "Model saved successfully.\n"
     ]
    }
   ],
   "source": [
    "# Save the model\n",
    "torch.save(model.state_dict(), './auxillary_files/lstm_model.pth')\n",
    "print(\"Model saved successfully.\")"
   ]
  },
  {
   "cell_type": "code",
   "execution_count": 39,
   "metadata": {},
   "outputs": [
    {
     "name": "stdout",
     "output_type": "stream",
     "text": [
      "Vocabulary saved successfully.\n"
     ]
    }
   ],
   "source": [
    "# Save the vocabulary to a file\n",
    "torch.save(vocab, './auxillary_files/vocab.pth')\n",
    "print(\"Vocabulary saved successfully.\")"
   ]
  },
  {
   "cell_type": "code",
   "execution_count": 40,
   "metadata": {},
   "outputs": [
    {
     "name": "stdout",
     "output_type": "stream",
     "text": [
      "Label Encoder saved successfully.\n"
     ]
    }
   ],
   "source": [
    "# Save the LabelEncoder to a file\n",
    "torch.save(label_encoder.classes_, './auxillary_files/label_encoder.pth')\n",
    "print(\"Label Encoder saved successfully.\")"
   ]
  }
 ],
 "metadata": {
  "kernelspec": {
   "display_name": "demo_env",
   "language": "python",
   "name": "python3"
  },
  "language_info": {
   "codemirror_mode": {
    "name": "ipython",
    "version": 3
   },
   "file_extension": ".py",
   "mimetype": "text/x-python",
   "name": "python",
   "nbconvert_exporter": "python",
   "pygments_lexer": "ipython3",
   "version": "3.11.11"
  }
 },
 "nbformat": 4,
 "nbformat_minor": 2
}
