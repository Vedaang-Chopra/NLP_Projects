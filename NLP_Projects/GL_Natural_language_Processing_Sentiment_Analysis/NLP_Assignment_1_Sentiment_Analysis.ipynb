{
 "cells": [
  {
   "cell_type": "markdown",
   "metadata": {
    "id": "Lj-z-UHVhz9V"
   },
   "source": [
    "# Sentiment Classification"
   ]
  },
  {
   "cell_type": "markdown",
   "metadata": {
    "id": "tNlFiKAdh7JS"
   },
   "source": [
    "### Dataset\n",
    "- Dataset of 50,000 movie reviews from IMDB, labeled by sentiment positive (1) or negative (0)\n",
    "- Reviews have been preprocessed, and each review is encoded as a sequence of word indexes (integers).\n",
    "- For convenience, words are indexed by overall frequency in the dataset, so that for instance the integer \"3\" encodes the 3rd most frequent word in the data. This allows for quick filtering operations such as: \"only consider the top 10,000 most common words, but eliminate the top 20 most common words\".\n",
    "- As a convention, \"0\" does not stand for a specific word, but instead is used to encode any unknown word.\n",
    "\n",
    "Command to import data\n",
    "- `from tensorflow.keras.datasets import imdb`"
   ]
  },
  {
   "cell_type": "code",
   "execution_count": 1,
   "metadata": {
    "id": "UWs7XLvZ8BIN"
   },
   "outputs": [],
   "source": [
    "# Import the necessary libraries"
   ]
  },
  {
   "cell_type": "code",
   "execution_count": 2,
   "metadata": {
    "colab": {
     "base_uri": "https://localhost:8080/",
     "height": 35
    },
    "id": "vHqOQJYzrDX_",
    "outputId": "de4521fc-94a7-4d7d-8bf7-ebac0239797b"
   },
   "outputs": [
    {
     "data": {
      "application/vnd.google.colaboratory.intrinsic+json": {
       "type": "string"
      },
      "text/plain": [
       "'2.3.0'"
      ]
     },
     "execution_count": 2,
     "metadata": {
      "tags": []
     },
     "output_type": "execute_result"
    }
   ],
   "source": [
    "import tensorflow as tf\n",
    "tf.__version__"
   ]
  },
  {
   "cell_type": "code",
   "execution_count": null,
   "metadata": {
    "id": "5yUpfO83gIcA"
   },
   "outputs": [],
   "source": [
    "import nltk\n",
    "!python -m nltk.downloader all"
   ]
  },
  {
   "cell_type": "code",
   "execution_count": 4,
   "metadata": {
    "id": "ERLBDwGG803n"
   },
   "outputs": [],
   "source": [
    "from tensorflow.keras.datasets import imdb\n",
    "from sklearn.feature_extraction.text import TfidfVectorizer\n",
    "import string\n",
    "from nltk.corpus import stopwords"
   ]
  },
  {
   "cell_type": "code",
   "execution_count": 5,
   "metadata": {
    "id": "ksvv4bHIgqH8"
   },
   "outputs": [],
   "source": [
    "max_len = 300\n",
    "vocab_size=10000"
   ]
  },
  {
   "cell_type": "code",
   "execution_count": 6,
   "metadata": {
    "id": "gownpQmGrIha"
   },
   "outputs": [],
   "source": [
    "stop_words = stopwords.words('english')\n",
    "punctuations = list(string.punctuation)\n",
    "stop_words += punctuations"
   ]
  },
  {
   "cell_type": "code",
   "execution_count": 7,
   "metadata": {
    "colab": {
     "base_uri": "https://localhost:8080/"
    },
    "id": "AzJ-s12uvjIN",
    "outputId": "56844b0d-3009-4d82-a12d-28d558073035"
   },
   "outputs": [
    {
     "name": "stdout",
     "output_type": "stream",
     "text": [
      "Downloading data from https://storage.googleapis.com/tensorflow/tf-keras-datasets/imdb_word_index.json\n",
      "1646592/1641221 [==============================] - 0s 0us/step\n"
     ]
    }
   ],
   "source": [
    "word_number_mapping=imdb.get_word_index()\n",
    "number_word_mapping = dict([(value, key) for key, value in word_number_mapping.items()])"
   ]
  },
  {
   "cell_type": "markdown",
   "metadata": {
    "id": "LcpcUfRjHpET"
   },
   "source": [
    "### Import the data (4 Marks)\n",
    "- Use `imdb.load_data()` method\n",
    "- Get train and test set\n",
    "- Take 10000 most frequent words"
   ]
  },
  {
   "cell_type": "code",
   "execution_count": 8,
   "metadata": {
    "colab": {
     "base_uri": "https://localhost:8080/"
    },
    "id": "zOsKuqKStjok",
    "outputId": "03bb33dd-2114-493c-8218-9b4922c96ddf"
   },
   "outputs": [
    {
     "name": "stdout",
     "output_type": "stream",
     "text": [
      "Downloading data from https://storage.googleapis.com/tensorflow/tf-keras-datasets/imdb.npz\n",
      "17465344/17464789 [==============================] - 0s 0us/step\n"
     ]
    }
   ],
   "source": [
    "X_train,Y_train=imdb.load_data()[0][0],imdb.load_data()[0][1]\n",
    "X_test,Y_test=imdb.load_data()[1][0],imdb.load_data()[1][1]"
   ]
  },
  {
   "cell_type": "code",
   "execution_count": 9,
   "metadata": {
    "id": "XMfS8Cfb_23X"
   },
   "outputs": [],
   "source": [
    "def top_10000_words(words):\n",
    "  new_words=[]\n",
    "  for i in words:\n",
    "    if i<=10000:\n",
    "      new_words.append(i)\n",
    "    else:\n",
    "      continue\n",
    "  return new_words"
   ]
  },
  {
   "cell_type": "code",
   "execution_count": 10,
   "metadata": {
    "id": "aXYnfeM1LLYS"
   },
   "outputs": [],
   "source": [
    "clean_X_train=[]\n",
    "for i in range(0,len(X_train)):\n",
    "  if i>len(X_train):\n",
    "    break\n",
    "  else:\n",
    "    clean_X_train.append(top_10000_words(X_train[i]))"
   ]
  },
  {
   "cell_type": "code",
   "execution_count": 11,
   "metadata": {
    "id": "h1udS0hABpTL"
   },
   "outputs": [],
   "source": [
    "clean_X_test=[]\n",
    "for i in range(0,len(X_test)):\n",
    "  if i>len(X_test):\n",
    "    break\n",
    "  else:\n",
    "    clean_X_test.append(top_10000_words(X_test[i]))"
   ]
  },
  {
   "cell_type": "markdown",
   "metadata": {
    "id": "vz8JjryDHw9s"
   },
   "source": [
    "### Pad each sentence to be of same length (4 Marks)\n",
    "- Take maximum sequence length as 300"
   ]
  },
  {
   "cell_type": "code",
   "execution_count": 12,
   "metadata": {
    "id": "fgtWdrDspnc2"
   },
   "outputs": [],
   "source": [
    "from tensorflow.keras.preprocessing.sequence import pad_sequences\n",
    "\n",
    "padded_X_train = pad_sequences(maxlen=max_len, sequences=clean_X_train, padding=\"post\", value=0)\n",
    "padded_X_test = pad_sequences(maxlen=max_len, sequences=clean_X_test, padding=\"post\", value=0)"
   ]
  },
  {
   "cell_type": "markdown",
   "metadata": {
    "id": "lGq6cQ48H0-c"
   },
   "source": [
    "### Print shape of features & labels (4 Marks)\n",
    "Number of review, number of words in each review"
   ]
  },
  {
   "cell_type": "code",
   "execution_count": 13,
   "metadata": {
    "colab": {
     "base_uri": "https://localhost:8080/"
    },
    "id": "kyYohMWtf23Q",
    "outputId": "d177c6fa-978a-495c-c2b6-824a6e376b97"
   },
   "outputs": [
    {
     "name": "stdout",
     "output_type": "stream",
     "text": [
      "Number of words in each review: 300\n"
     ]
    }
   ],
   "source": [
    "print('Number of words in each review:',len(padded_X_train[0]))"
   ]
  },
  {
   "cell_type": "code",
   "execution_count": 14,
   "metadata": {
    "colab": {
     "base_uri": "https://localhost:8080/"
    },
    "id": "0zm1Bsu7tjMF",
    "outputId": "77507e6b-a68a-4daa-d80c-81e5f55ee340"
   },
   "outputs": [
    {
     "name": "stdout",
     "output_type": "stream",
     "text": [
      "Number of Training Reviews: 25000\n"
     ]
    }
   ],
   "source": [
    "print('Number of Training Reviews:',len(padded_X_train))"
   ]
  },
  {
   "cell_type": "code",
   "execution_count": 15,
   "metadata": {
    "colab": {
     "base_uri": "https://localhost:8080/"
    },
    "id": "RMaoOZRdgCXY",
    "outputId": "60fbaeb0-aeef-4f56-886a-0302c85a157b"
   },
   "outputs": [
    {
     "name": "stdout",
     "output_type": "stream",
     "text": [
      "Number of Testing Reviews: 25000\n"
     ]
    }
   ],
   "source": [
    "print('Number of Testing Reviews:',len(padded_X_test))"
   ]
  },
  {
   "cell_type": "markdown",
   "metadata": {
    "id": "yVehnmaCIEVE"
   },
   "source": [
    "Number of labels"
   ]
  },
  {
   "cell_type": "code",
   "execution_count": 16,
   "metadata": {
    "colab": {
     "base_uri": "https://localhost:8080/"
    },
    "id": "q11NRRIFtwBv",
    "outputId": "0ed6613e-28c5-4f5e-c23c-50041cfde99a"
   },
   "outputs": [
    {
     "name": "stdout",
     "output_type": "stream",
     "text": [
      "Number of Training Labels: 25000\n"
     ]
    }
   ],
   "source": [
    "print('Number of Training Labels:',len(Y_train))"
   ]
  },
  {
   "cell_type": "code",
   "execution_count": 17,
   "metadata": {
    "colab": {
     "base_uri": "https://localhost:8080/"
    },
    "id": "ea8qI9jVt4PT",
    "outputId": "c4b0814c-86bc-421b-a5dd-6b61b5b6323c"
   },
   "outputs": [
    {
     "name": "stdout",
     "output_type": "stream",
     "text": [
      "Number of Testing Labels: 25000\n"
     ]
    }
   ],
   "source": [
    "print('Number of Testing Labels:',len(Y_test))"
   ]
  },
  {
   "cell_type": "markdown",
   "metadata": {
    "id": "gupYPmjZIJUQ"
   },
   "source": [
    "### Print value of any one feature and it's label (4 Marks)\n",
    "Feature value"
   ]
  },
  {
   "cell_type": "code",
   "execution_count": 18,
   "metadata": {
    "colab": {
     "base_uri": "https://localhost:8080/"
    },
    "id": "K1UXBfjKoIXn",
    "outputId": "9969f33e-6480-4bff-b494-a5c4daad368c"
   },
   "outputs": [
    {
     "name": "stdout",
     "output_type": "stream",
     "text": [
      "Feature words in 10th review: objects\n",
      "Feature words in 10th review: relief\n",
      "Feature words in 10th review: level\n",
      "Feature words in 10th review: names\n",
      "Feature words in 10th review: dunne\n"
     ]
    }
   ],
   "source": [
    "print('Feature words in 10th review:', number_word_mapping[padded_X_train[10][0]])\n",
    "print('Feature words in 10th review:', number_word_mapping[padded_X_train[10][1]])\n",
    "print('Feature words in 10th review:', number_word_mapping[padded_X_train[10][2]])\n",
    "print('Feature words in 10th review:', number_word_mapping[padded_X_train[10][3]])\n",
    "print('Feature words in 10th review:', number_word_mapping[padded_X_train[10][4]])"
   ]
  },
  {
   "cell_type": "markdown",
   "metadata": {
    "id": "4YQwp9BO5S6j"
   },
   "source": [
    "Label value"
   ]
  },
  {
   "cell_type": "code",
   "execution_count": 19,
   "metadata": {
    "colab": {
     "base_uri": "https://localhost:8080/"
    },
    "id": "_qkqhoOVtjJB",
    "outputId": "90c3a6bc-c7c1-45b9-929f-685908094f32"
   },
   "outputs": [
    {
     "name": "stdout",
     "output_type": "stream",
     "text": [
      "Sentiment of 10th review: 1\n"
     ]
    }
   ],
   "source": [
    "print('Sentiment of 10th review:',Y_train[10])"
   ]
  },
  {
   "cell_type": "markdown",
   "metadata": {
    "id": "wzVWSiCD4n5G"
   },
   "source": [
    "### Decode the feature value to get original sentence (4 Marks)\n",
    "First, retrieve a dictionary that contains mapping of words to their index in the IMDB dataset"
   ]
  },
  {
   "cell_type": "code",
   "execution_count": 20,
   "metadata": {
    "id": "qTBxyM36NdMv"
   },
   "outputs": [],
   "source": [
    "word_number_mapping=imdb.get_word_index()\n",
    "number_word_mapping = dict([(value, key) for key, value in word_number_mapping.items()])"
   ]
  },
  {
   "cell_type": "markdown",
   "metadata": {
    "id": "Ry_NAX8n4n2d"
   },
   "source": [
    "Now use the dictionary to get the original words from the encodings, for a particular sentence"
   ]
  },
  {
   "cell_type": "code",
   "execution_count": 21,
   "metadata": {
    "id": "2bY7NdnEtizQ"
   },
   "outputs": [],
   "source": [
    "def creating_word_mappings(word_number_mappings, number_word_mappings, words):\n",
    "  keywords=[]\n",
    "  c1,c2=0,0\n",
    "  for i in words:\n",
    "    # print(i,number_word_mapping[i])\n",
    "    c1=c1+1\n",
    "    if i in number_word_mapping.keys() and int(i)<=10000: \n",
    "      c2=c2+1\n",
    "      keywords.append(number_word_mapping[i])\n",
    "    else:\n",
    "      continue\n",
    "  # print(c1,c2)\n",
    "  return keywords"
   ]
  },
  {
   "cell_type": "code",
   "execution_count": 22,
   "metadata": {
    "id": "zgz1QjeI5htE"
   },
   "outputs": [],
   "source": [
    "x_train,x_test=[],[]\n",
    "for i in range(0,len(X_train)):\n",
    "  if i>len(X_train):\n",
    "    break\n",
    "  else:\n",
    "    x_train.append(\" \".join([i.lower() for i in creating_word_mappings(word_number_mapping,number_word_mapping,clean_X_train[i])]))\n",
    "    x_test.append(\" \".join([i.lower() for i in creating_word_mappings(word_number_mapping,number_word_mapping,clean_X_test[i])]))"
   ]
  },
  {
   "cell_type": "markdown",
   "metadata": {
    "id": "btWJAVSbWnCZ"
   },
   "source": [
    "#### Final Dataset\n",
    "Get the sentiment for the above sentence\n",
    "- positive (1)\n",
    "- negative (0) "
   ]
  },
  {
   "cell_type": "code",
   "execution_count": 23,
   "metadata": {
    "colab": {
     "base_uri": "https://localhost:8080/"
    },
    "id": "Tmn0fdkQcI7N",
    "outputId": "a1355c3b-1f35-4c90-f68e-77ec2a8f9c86"
   },
   "outputs": [
    {
     "name": "stdout",
     "output_type": "stream",
     "text": [
      "the thought solid thought senator do making to is spot nomination assumed while he of jack in where picked as getting on was did hands fact characters to always life thrillers not as me can't in at are br of sure your way of little it strongly random to view of love it so principles of guy it used producer of where it of here icon film of outside to don't all unique some like of direction it if out her imagination below keep of queen he diverse to makes this stretch of solid it thought begins br senator budget worthwhile though ok awaiting for ever better were diverse for budget look kicked any to of making it out follows for effects show to show cast this family us scenes more it severe making senator to finds tv tend to of emerged these thing wants but an beckinsale cult as it is video do you david see scenery it in few those are of ship for with of wild to one is very work dark they don't do dvd with those them\n",
      "Sentiment of above statement: 0\n"
     ]
    }
   ],
   "source": [
    "print(x_train[1])\n",
    "print('Sentiment of above statement:',Y_train[1])"
   ]
  },
  {
   "cell_type": "code",
   "execution_count": 69,
   "metadata": {
    "colab": {
     "base_uri": "https://localhost:8080/"
    },
    "id": "R_xsAW_0iMoJ",
    "outputId": "79b77544-b559-4577-d7cf-953b93affc91"
   },
   "outputs": [
    {
     "name": "stdout",
     "output_type": "stream",
     "text": [
      "the of they halfway of identity went plot actors watch of share was well these can this only ten so failing feels only novak killer theo of bill br would find of films saw grade about hated it for br so ten remain by in of songs are of gigantic is morality it's her or know would care i i br screen that obvious plot actors new would with paris not have attempt lead or of too would local that of every their it coming this eleven of information to br singers movie was anxious that film is under by left this is entertainment ok this in own be house of sticks worker in bound my i i obviously sake things just as lost lot br comes never like thing start of obviously comes indeed coming want no bad than history from lost comes accidentally young to movie bad facts dream from reason these honor movie elizabeth it's movie so fi enough to computer duo film almost jeffrey rarely obviously alive to appears i i only human it just only hop to be hop new made comes evidence blues high in want to other blues of their for concludes those i'm 1995 that wider obviously message obviously obviously for submarine of brother br singers make climbs lit this of blood br andy worst it this across as it when lines that make excellent scenery that there is julia fantasy to repressed film good br of loose basic have into your whatever i i demented be hop this standards cole new be home all seek film wives lot br made in at this of search how concept in thirty some this not all it rachel are of boys re is animals deserve i i worst more it is renting concerned message made all in does of nor of nor side be center obviously know end computer here to all tries in does of nor side of home br be indeed i i all it officer in could is performance fully in of br by br its lit well of nor at coming it's it that an this obviously i i this as their has obviously bad exist countless mixed of br work to of run up br dear nor this early her bad having tortured film movie all care of their br be right acting i i of it away of its shooting to suffering version you br singers your way just was can't compared condition film of br united obviously are up obviously not other just was as true was least of certainly lady poorly of setting produced br refuse to make just have 2 which of dialog br of frye say in can is you for it wasn't in singers as by it away plenty what have reason are that willing that's have 2 which sister of important br halfway to of took work 20 br similar more he good flower for hit at coming not see reputation\n",
      "Sentiment of above statement: 1\n"
     ]
    }
   ],
   "source": [
    "print(x_train[3])\n",
    "print('Sentiment of above statement:',Y_train[3])"
   ]
  },
  {
   "cell_type": "code",
   "execution_count": 24,
   "metadata": {
    "id": "PJ1-86zAoNjo"
   },
   "outputs": [],
   "source": [
    "from tensorflow.keras.preprocessing.text import one_hot\n",
    "onehot_x_train=[one_hot(i,vocab_size) for i in x_train]\n",
    "onehot_x_test=[one_hot(i,vocab_size) for i in x_test] "
   ]
  },
  {
   "cell_type": "code",
   "execution_count": 25,
   "metadata": {
    "id": "c_Y0VmaJA4Si"
   },
   "outputs": [],
   "source": [
    "from tensorflow.keras.preprocessing.sequence import pad_sequences\n",
    "\n",
    "padded_X_train = pad_sequences(maxlen=max_len, sequences=onehot_x_train, padding=\"post\", value=0)\n",
    "padded_X_test = pad_sequences(maxlen=max_len, sequences=onehot_x_test, padding=\"post\", value=0)"
   ]
  },
  {
   "cell_type": "markdown",
   "metadata": {
    "id": "uDFzLeyy4nw9"
   },
   "source": [
    "### Define model (10 Marks)\n",
    "- Define a Sequential Model\n",
    "- Add Embedding layer\n",
    "  - Embedding layer turns positive integers into dense vectors of fixed size\n",
    "  - `tensorflow.keras` embedding layer doesn't require us to onehot encode our words, instead we have to give each word a unique integer number as an id. For the imdb dataset we've loaded this has already been done, but if this wasn't the case we could use sklearn LabelEncoder.\n",
    "  - Size of the vocabulary will be 10000\n",
    "  - Give dimension of the dense embedding as 100\n",
    "  - Length of input sequences should be 300\n",
    "- Add LSTM layer\n",
    "  - Pass value in `return_sequences` as True\n",
    "- Add a `TimeDistributed` layer with 100 Dense neurons\n",
    "- Add Flatten layer\n",
    "- Add Dense layer"
   ]
  },
  {
   "cell_type": "code",
   "execution_count": 43,
   "metadata": {
    "id": "W7PTXQzF5iU3"
   },
   "outputs": [],
   "source": [
    "from tensorflow.keras.models import Sequential\n",
    "from tensorflow.keras.layers import LSTM, Embedding, Dense, TimeDistributed, Dropout, Bidirectional, Input, Flatten, BatchNormalization"
   ]
  },
  {
   "cell_type": "code",
   "execution_count": 49,
   "metadata": {
    "colab": {
     "base_uri": "https://localhost:8080/"
    },
    "id": "H_4KiEemuYMB",
    "outputId": "b0bb1282-40f9-45b2-8555-f2607fcc9c32"
   },
   "outputs": [
    {
     "name": "stdout",
     "output_type": "stream",
     "text": [
      "WARNING:tensorflow:Layer lstm_4 will not use cuDNN kernel since it doesn't meet the cuDNN kernel criteria. It will use generic GPU kernel as fallback when running on GPU\n"
     ]
    }
   ],
   "source": [
    "model=Sequential()\n",
    "input_layer = Input(shape=(max_len,)) # Input layer\n",
    "model.add(input_layer)\n",
    "embedding_layer=Embedding(input_dim=vocab_size, output_dim=100, input_length=max_len)\n",
    "model.add(embedding_layer)\n",
    "lstm_layer=LSTM(units=100, return_sequences=True, recurrent_dropout=0.01)\n",
    "model.add(lstm_layer)\n",
    "model.add(TimeDistributed(Dense(100, activation=\"tanh\")))\n",
    "model.add(Flatten())\n",
    "model.add(Dense(units=64,activation='tanh',use_bias=True))\n",
    "model.add(BatchNormalization())\n",
    "model.add(Dropout(0.3))\n",
    "model.add(Dense(units=32,activation='tanh',use_bias=True))\n",
    "model.add(BatchNormalization())\n",
    "model.add(Dropout(0.3))\n",
    "model.add(Dense(units=16,activation='relu',use_bias=True))\n",
    "model.add(BatchNormalization())\n",
    "model.add(Dropout(0.3))\n",
    "output_layer=Dense(units=1,activation='sigmoid',use_bias=True)\n",
    "model.add(output_layer)"
   ]
  },
  {
   "cell_type": "markdown",
   "metadata": {
    "id": "YIx9ADHx4nt_"
   },
   "source": [
    "### Compile the model (4 Marks)\n",
    "- Use Optimizer as Adam\n",
    "- Use Binary Crossentropy as loss\n",
    "- Use Accuracy as metrics"
   ]
  },
  {
   "cell_type": "code",
   "execution_count": 50,
   "metadata": {
    "id": "6QUou5wzuYIT"
   },
   "outputs": [],
   "source": [
    "from tensorflow.keras.optimizers import Adam\n",
    "from tensorflow.keras.optimizers import SGD\n",
    "ad = Adam(lr=1e-5, beta_1=0.9, beta_2=0.999, epsilon=None, decay=0.0, amsgrad=False)\n",
    "sgd= SGD(learning_rate=0.01, momentum=0.6, nesterov=True, name=\"SGD\")\n",
    "model.compile(optimizer=ad, loss=\"binary_crossentropy\", metrics=[\"accuracy\"])"
   ]
  },
  {
   "cell_type": "code",
   "execution_count": 51,
   "metadata": {
    "id": "MVleTQHwarKk"
   },
   "outputs": [],
   "source": [
    "from tensorflow.keras.callbacks import ModelCheckpoint, EarlyStopping, ReduceLROnPlateau\n",
    "checkpoint = ModelCheckpoint(\"model-{val_loss:.2f}.h5\", monitor=\"val_loss\", verbose=1, save_best_only=True, save_weights_only=True)\n",
    "stop = EarlyStopping(monitor=\"val_loss\", patience=5)\n",
    "reduce_lr = ReduceLROnPlateau(monitor=\"val_loss\", factor=0.001, patience=5, min_lr=1e-20, verbose=1)\n",
    "callbacks=[checkpoint,stop,reduce_lr]"
   ]
  },
  {
   "cell_type": "markdown",
   "metadata": {
    "id": "ak7lE2504nrW"
   },
   "source": [
    "### Print model summary (4 Marks)"
   ]
  },
  {
   "cell_type": "code",
   "execution_count": 52,
   "metadata": {
    "colab": {
     "base_uri": "https://localhost:8080/"
    },
    "id": "4j-bM82z5jtR",
    "outputId": "a77de279-38d9-4a6e-ac74-8e079e81d845"
   },
   "outputs": [
    {
     "name": "stdout",
     "output_type": "stream",
     "text": [
      "Model: \"sequential_4\"\n",
      "_________________________________________________________________\n",
      "Layer (type)                 Output Shape              Param #   \n",
      "=================================================================\n",
      "embedding_4 (Embedding)      (None, 300, 100)          1000000   \n",
      "_________________________________________________________________\n",
      "lstm_4 (LSTM)                (None, 300, 100)          80400     \n",
      "_________________________________________________________________\n",
      "time_distributed_4 (TimeDist (None, 300, 100)          10100     \n",
      "_________________________________________________________________\n",
      "flatten_4 (Flatten)          (None, 30000)             0         \n",
      "_________________________________________________________________\n",
      "dense_21 (Dense)             (None, 64)                1920064   \n",
      "_________________________________________________________________\n",
      "batch_normalization_12 (Batc (None, 64)                256       \n",
      "_________________________________________________________________\n",
      "dropout_9 (Dropout)          (None, 64)                0         \n",
      "_________________________________________________________________\n",
      "dense_22 (Dense)             (None, 32)                2080      \n",
      "_________________________________________________________________\n",
      "batch_normalization_13 (Batc (None, 32)                128       \n",
      "_________________________________________________________________\n",
      "dropout_10 (Dropout)         (None, 32)                0         \n",
      "_________________________________________________________________\n",
      "dense_23 (Dense)             (None, 16)                528       \n",
      "_________________________________________________________________\n",
      "batch_normalization_14 (Batc (None, 16)                64        \n",
      "_________________________________________________________________\n",
      "dropout_11 (Dropout)         (None, 16)                0         \n",
      "_________________________________________________________________\n",
      "dense_24 (Dense)             (None, 1)                 17        \n",
      "=================================================================\n",
      "Total params: 3,013,637\n",
      "Trainable params: 3,013,413\n",
      "Non-trainable params: 224\n",
      "_________________________________________________________________\n"
     ]
    }
   ],
   "source": [
    "model.summary()"
   ]
  },
  {
   "cell_type": "markdown",
   "metadata": {
    "id": "ZBg1WQ3W4nof"
   },
   "source": [
    "### Fit the model (4 Marks)"
   ]
  },
  {
   "cell_type": "code",
   "execution_count": 53,
   "metadata": {
    "colab": {
     "base_uri": "https://localhost:8080/"
    },
    "id": "ATAPuy695kCX",
    "outputId": "be4e9620-e811-4a4e-e7b2-1c6764478f73"
   },
   "outputs": [
    {
     "name": "stdout",
     "output_type": "stream",
     "text": [
      "Epoch 1/100\n",
      "250/250 [==============================] - ETA: 0s - loss: 0.8640 - accuracy: 0.5088\n",
      "Epoch 00001: val_loss improved from inf to 0.73557, saving model to model-0.74.h5\n",
      "250/250 [==============================] - 108s 430ms/step - loss: 0.8640 - accuracy: 0.5088 - val_loss: 0.7356 - val_accuracy: 0.5000\n",
      "Epoch 2/100\n",
      "250/250 [==============================] - ETA: 0s - loss: 0.8065 - accuracy: 0.5266\n",
      "Epoch 00002: val_loss improved from 0.73557 to 0.71814, saving model to model-0.72.h5\n",
      "250/250 [==============================] - 106s 423ms/step - loss: 0.8065 - accuracy: 0.5266 - val_loss: 0.7181 - val_accuracy: 0.5042\n",
      "Epoch 3/100\n",
      "250/250 [==============================] - ETA: 0s - loss: 0.7676 - accuracy: 0.5540\n",
      "Epoch 00003: val_loss improved from 0.71814 to 0.67342, saving model to model-0.67.h5\n",
      "250/250 [==============================] - 105s 422ms/step - loss: 0.7676 - accuracy: 0.5540 - val_loss: 0.6734 - val_accuracy: 0.5859\n",
      "Epoch 4/100\n",
      "250/250 [==============================] - ETA: 0s - loss: 0.7084 - accuracy: 0.6030\n",
      "Epoch 00004: val_loss improved from 0.67342 to 0.60523, saving model to model-0.61.h5\n",
      "250/250 [==============================] - 106s 423ms/step - loss: 0.7084 - accuracy: 0.6030 - val_loss: 0.6052 - val_accuracy: 0.6675\n",
      "Epoch 5/100\n",
      "250/250 [==============================] - ETA: 0s - loss: 0.6365 - accuracy: 0.6648\n",
      "Epoch 00005: val_loss improved from 0.60523 to 0.55294, saving model to model-0.55.h5\n",
      "250/250 [==============================] - 106s 422ms/step - loss: 0.6365 - accuracy: 0.6648 - val_loss: 0.5529 - val_accuracy: 0.7202\n",
      "Epoch 6/100\n",
      "250/250 [==============================] - ETA: 0s - loss: 0.5610 - accuracy: 0.7235\n",
      "Epoch 00006: val_loss improved from 0.55294 to 0.50610, saving model to model-0.51.h5\n",
      "250/250 [==============================] - 105s 422ms/step - loss: 0.5610 - accuracy: 0.7235 - val_loss: 0.5061 - val_accuracy: 0.7544\n",
      "Epoch 7/100\n",
      "250/250 [==============================] - ETA: 0s - loss: 0.4988 - accuracy: 0.7648\n",
      "Epoch 00007: val_loss improved from 0.50610 to 0.46144, saving model to model-0.46.h5\n",
      "250/250 [==============================] - 107s 428ms/step - loss: 0.4988 - accuracy: 0.7648 - val_loss: 0.4614 - val_accuracy: 0.7825\n",
      "Epoch 8/100\n",
      "250/250 [==============================] - ETA: 0s - loss: 0.4492 - accuracy: 0.7964\n",
      "Epoch 00008: val_loss improved from 0.46144 to 0.45467, saving model to model-0.45.h5\n",
      "250/250 [==============================] - 105s 420ms/step - loss: 0.4492 - accuracy: 0.7964 - val_loss: 0.4547 - val_accuracy: 0.7878\n",
      "Epoch 9/100\n",
      "250/250 [==============================] - ETA: 0s - loss: 0.4190 - accuracy: 0.8146\n",
      "Epoch 00009: val_loss improved from 0.45467 to 0.41361, saving model to model-0.41.h5\n",
      "250/250 [==============================] - 107s 428ms/step - loss: 0.4190 - accuracy: 0.8146 - val_loss: 0.4136 - val_accuracy: 0.8132\n",
      "Epoch 10/100\n",
      "250/250 [==============================] - ETA: 0s - loss: 0.3870 - accuracy: 0.8307\n",
      "Epoch 00010: val_loss improved from 0.41361 to 0.39864, saving model to model-0.40.h5\n",
      "250/250 [==============================] - 105s 422ms/step - loss: 0.3870 - accuracy: 0.8307 - val_loss: 0.3986 - val_accuracy: 0.8209\n",
      "Epoch 11/100\n",
      "250/250 [==============================] - ETA: 0s - loss: 0.3639 - accuracy: 0.8425\n",
      "Epoch 00011: val_loss improved from 0.39864 to 0.39559, saving model to model-0.40.h5\n",
      "250/250 [==============================] - 106s 426ms/step - loss: 0.3639 - accuracy: 0.8425 - val_loss: 0.3956 - val_accuracy: 0.8192\n",
      "Epoch 12/100\n",
      "250/250 [==============================] - ETA: 0s - loss: 0.3385 - accuracy: 0.8568\n",
      "Epoch 00012: val_loss improved from 0.39559 to 0.37981, saving model to model-0.38.h5\n",
      "250/250 [==============================] - 105s 421ms/step - loss: 0.3385 - accuracy: 0.8568 - val_loss: 0.3798 - val_accuracy: 0.8304\n",
      "Epoch 13/100\n",
      "250/250 [==============================] - ETA: 0s - loss: 0.3282 - accuracy: 0.8637\n",
      "Epoch 00013: val_loss improved from 0.37981 to 0.36771, saving model to model-0.37.h5\n",
      "250/250 [==============================] - 105s 421ms/step - loss: 0.3282 - accuracy: 0.8637 - val_loss: 0.3677 - val_accuracy: 0.8372\n",
      "Epoch 14/100\n",
      "250/250 [==============================] - ETA: 0s - loss: 0.3146 - accuracy: 0.8709\n",
      "Epoch 00014: val_loss did not improve from 0.36771\n",
      "250/250 [==============================] - 105s 420ms/step - loss: 0.3146 - accuracy: 0.8709 - val_loss: 0.3685 - val_accuracy: 0.8359\n",
      "Epoch 15/100\n",
      "250/250 [==============================] - ETA: 0s - loss: 0.3006 - accuracy: 0.8784\n",
      "Epoch 00015: val_loss improved from 0.36771 to 0.36094, saving model to model-0.36.h5\n",
      "250/250 [==============================] - 107s 427ms/step - loss: 0.3006 - accuracy: 0.8784 - val_loss: 0.3609 - val_accuracy: 0.8404\n",
      "Epoch 16/100\n",
      "250/250 [==============================] - ETA: 0s - loss: 0.2911 - accuracy: 0.8814\n",
      "Epoch 00016: val_loss improved from 0.36094 to 0.35332, saving model to model-0.35.h5\n",
      "250/250 [==============================] - 106s 422ms/step - loss: 0.2911 - accuracy: 0.8814 - val_loss: 0.3533 - val_accuracy: 0.8443\n",
      "Epoch 17/100\n",
      "250/250 [==============================] - ETA: 0s - loss: 0.2763 - accuracy: 0.8908\n",
      "Epoch 00017: val_loss improved from 0.35332 to 0.34952, saving model to model-0.35.h5\n",
      "250/250 [==============================] - 105s 421ms/step - loss: 0.2763 - accuracy: 0.8908 - val_loss: 0.3495 - val_accuracy: 0.8462\n",
      "Epoch 18/100\n",
      "250/250 [==============================] - ETA: 0s - loss: 0.2659 - accuracy: 0.8982\n",
      "Epoch 00018: val_loss improved from 0.34952 to 0.34784, saving model to model-0.35.h5\n",
      "250/250 [==============================] - 105s 421ms/step - loss: 0.2659 - accuracy: 0.8982 - val_loss: 0.3478 - val_accuracy: 0.8480\n",
      "Epoch 19/100\n",
      "250/250 [==============================] - ETA: 0s - loss: 0.2579 - accuracy: 0.9016\n",
      "Epoch 00019: val_loss did not improve from 0.34784\n",
      "250/250 [==============================] - 105s 421ms/step - loss: 0.2579 - accuracy: 0.9016 - val_loss: 0.3514 - val_accuracy: 0.8470\n",
      "Epoch 20/100\n",
      "250/250 [==============================] - ETA: 0s - loss: 0.2473 - accuracy: 0.9085\n",
      "Epoch 00020: val_loss improved from 0.34784 to 0.34181, saving model to model-0.34.h5\n",
      "250/250 [==============================] - 105s 420ms/step - loss: 0.2473 - accuracy: 0.9085 - val_loss: 0.3418 - val_accuracy: 0.8512\n",
      "Epoch 21/100\n",
      "250/250 [==============================] - ETA: 0s - loss: 0.2399 - accuracy: 0.9103\n",
      "Epoch 00021: val_loss did not improve from 0.34181\n",
      "250/250 [==============================] - 105s 420ms/step - loss: 0.2399 - accuracy: 0.9103 - val_loss: 0.3489 - val_accuracy: 0.8492\n",
      "Epoch 22/100\n",
      "250/250 [==============================] - ETA: 0s - loss: 0.2344 - accuracy: 0.9118\n",
      "Epoch 00022: val_loss did not improve from 0.34181\n",
      "250/250 [==============================] - 105s 420ms/step - loss: 0.2344 - accuracy: 0.9118 - val_loss: 0.3667 - val_accuracy: 0.8403\n",
      "Epoch 23/100\n",
      "250/250 [==============================] - ETA: 0s - loss: 0.2258 - accuracy: 0.9178\n",
      "Epoch 00023: val_loss improved from 0.34181 to 0.34096, saving model to model-0.34.h5\n",
      "250/250 [==============================] - 106s 426ms/step - loss: 0.2258 - accuracy: 0.9178 - val_loss: 0.3410 - val_accuracy: 0.8526\n",
      "Epoch 24/100\n",
      "250/250 [==============================] - ETA: 0s - loss: 0.2152 - accuracy: 0.9230\n",
      "Epoch 00024: val_loss did not improve from 0.34096\n",
      "250/250 [==============================] - 105s 422ms/step - loss: 0.2152 - accuracy: 0.9230 - val_loss: 0.3486 - val_accuracy: 0.8487\n",
      "Epoch 25/100\n",
      "250/250 [==============================] - ETA: 0s - loss: 0.2127 - accuracy: 0.9238\n",
      "Epoch 00025: val_loss did not improve from 0.34096\n",
      "250/250 [==============================] - 106s 425ms/step - loss: 0.2127 - accuracy: 0.9238 - val_loss: 0.3443 - val_accuracy: 0.8520\n",
      "Epoch 26/100\n",
      "250/250 [==============================] - ETA: 0s - loss: 0.2056 - accuracy: 0.9288\n",
      "Epoch 00026: val_loss did not improve from 0.34096\n",
      "250/250 [==============================] - 105s 421ms/step - loss: 0.2056 - accuracy: 0.9288 - val_loss: 0.3427 - val_accuracy: 0.8528\n",
      "Epoch 27/100\n",
      "250/250 [==============================] - ETA: 0s - loss: 0.1967 - accuracy: 0.9336\n",
      "Epoch 00027: val_loss did not improve from 0.34096\n",
      "250/250 [==============================] - 107s 427ms/step - loss: 0.1967 - accuracy: 0.9336 - val_loss: 0.3477 - val_accuracy: 0.8520\n",
      "Epoch 28/100\n",
      "250/250 [==============================] - ETA: 0s - loss: 0.1933 - accuracy: 0.9342\n",
      "Epoch 00028: val_loss did not improve from 0.34096\n",
      "\n",
      "Epoch 00028: ReduceLROnPlateau reducing learning rate to 9.999999747378752e-09.\n",
      "250/250 [==============================] - 106s 422ms/step - loss: 0.1933 - accuracy: 0.9342 - val_loss: 0.3563 - val_accuracy: 0.8472\n"
     ]
    }
   ],
   "source": [
    "import numpy as np\n",
    "history = model.fit(padded_X_train, np.array(Y_train), validation_data=(padded_X_test,Y_test), batch_size=100, epochs=100, verbose=1,callbacks=callbacks)"
   ]
  },
  {
   "cell_type": "code",
   "execution_count": 55,
   "metadata": {
    "colab": {
     "base_uri": "https://localhost:8080/",
     "height": 545
    },
    "id": "GX2JH80T4lnM",
    "outputId": "1713701f-5081-47bf-bee6-a510655efde9"
   },
   "outputs": [
    {
     "data": {
      "image/png": "[encoded data removed]",
      "text/plain": [
       "<Figure size 432x288 with 1 Axes>"
      ]
     },
     "metadata": {
      "needs_background": "light",
      "tags": []
     },
     "output_type": "display_data"
    },
    {
     "data": {
      "image/png": "[encoded data removed]",
      "text/plain": [
       "<Figure size 432x288 with 1 Axes>"
      ]
     },
     "metadata": {
      "needs_background": "light",
      "tags": []
     },
     "output_type": "display_data"
    }
   ],
   "source": [
    "import matplotlib.pyplot as plt\n",
    "\n",
    "acc = history.history['accuracy']\n",
    "val_acc = history.history['val_accuracy']\n",
    "loss = history.history['loss']\n",
    "val_loss = history.history['val_loss']\n",
    "\n",
    "epochs = range(1, len(acc)+1)\n",
    "\n",
    "plt.plot(epochs, acc, 'g', label='Training accuracy')\n",
    "plt.plot(epochs, val_acc, 'r', label='Validation accuracy')\n",
    "plt.title('Training and validation accuracy')\n",
    "plt.legend()\n",
    "\n",
    "plt.figure()\n",
    "\n",
    "plt.plot(epochs, loss, 'g', label='Training loss')\n",
    "plt.plot(epochs, val_loss, 'r', label='Validation loss')\n",
    "plt.title('Training and validation loss')\n",
    "plt.legend()\n",
    "\n",
    "plt.show()"
   ]
  },
  {
   "cell_type": "code",
   "execution_count": 58,
   "metadata": {
    "id": "LOzEfIkvcgV8"
   },
   "outputs": [],
   "source": [
    "predictions=model.predict(padded_X_test)"
   ]
  },
  {
   "cell_type": "markdown",
   "metadata": {
    "id": "121jvxHA52II"
   },
   "source": [
    "### Evaluate model (4 Marks)"
   ]
  },
  {
   "cell_type": "code",
   "execution_count": 63,
   "metadata": {
    "colab": {
     "base_uri": "https://localhost:8080/"
    },
    "id": "q6Vnd3GV51_9",
    "outputId": "61c7900c-bd2f-47ff-9780-a375d6e1457f"
   },
   "outputs": [
    {
     "name": "stdout",
     "output_type": "stream",
     "text": [
      "Final Accuracy value on Test Data: 0.84716\n"
     ]
    }
   ],
   "source": [
    "from tensorflow.keras.metrics import BinaryAccuracy\n",
    "bacc=BinaryAccuracy(name=\"accuracy\", dtype=None)\n",
    "bacc.update_state(Y_test,predictions)\n",
    "print('Final Accuracy value on Test Data:',bacc.result().numpy())"
   ]
  },
  {
   "cell_type": "markdown",
   "metadata": {
    "id": "48wer9Pa513t"
   },
   "source": [
    "### Predict on one sample (4 Marks)"
   ]
  },
  {
   "cell_type": "code",
   "execution_count": 66,
   "metadata": {
    "colab": {
     "base_uri": "https://localhost:8080/"
    },
    "id": "jA3JZ-AP4tGI",
    "outputId": "9d6d47f3-e830-472b-a741-11c8ec140cbf"
   },
   "outputs": [
    {
     "name": "stdout",
     "output_type": "stream",
     "text": [
      "knights management raft shift caught determine occurs woven costume supplies rolling shattering pickup bless racist hmmm character lucky lucky hmmm character pretentious medium clear meets officer epitome root allen's aftermath richly dominate richly picture bite jodie imagination layers autobiography alleged weakest pickup madness floating icy picture jodie wonder ritual intellectual occurs bubble macabre hmmm character accompanied explanation pickup accompanied started contrary lucky lucky intellectual feat hmmm holt z bless seed intellectual feat characterizations hadley sans stretched existential meets education dominic hmmm character berkeley ewan allen's aftermath lucky lucky peck eleven eleven jenna unimaginative ever root concentrate sentimentality unimaginative eli unimaginative mills unimaginative\n",
      "Prediction value: 0.9119197\n",
      "Actual value: 1\n"
     ]
    }
   ],
   "source": [
    "index=4\n",
    "sent=[]\n",
    "for i in padded_X_test[index]:\n",
    "  if i==0:\n",
    "    continue\n",
    "  else:\n",
    "    sent.append(number_word_mapping[i])\n",
    "print(\" \".join(sent))\n",
    "print('Prediction value:',predictions[index][0])\n",
    "print('Actual value:',Y_test[index])"
   ]
  }
 ],
 "metadata": {
  "accelerator": "GPU",
  "colab": {
   "name": "Sentimation_Classification_Project_1.ipynb",
   "provenance": []
  },
  "kernelspec": {
   "display_name": "Python 3",
   "language": "python",
   "name": "python3"
  },
  "language_info": {
   "codemirror_mode": {
    "name": "ipython",
    "version": 3
   },
   "file_extension": ".py",
   "mimetype": "text/x-python",
   "name": "python",
   "nbconvert_exporter": "python",
   "pygments_lexer": "ipython3",
   "version": "3.7.1"
  }
 },
 "nbformat": 4,
 "nbformat_minor": 1
}
