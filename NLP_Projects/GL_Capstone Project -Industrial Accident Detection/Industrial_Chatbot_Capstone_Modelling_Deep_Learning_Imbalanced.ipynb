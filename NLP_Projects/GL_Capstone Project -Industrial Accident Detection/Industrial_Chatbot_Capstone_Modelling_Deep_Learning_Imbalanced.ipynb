{
  "nbformat": 4,
  "nbformat_minor": 0,
  "metadata": {
    "colab": {
      "name": "Industrial_Chatbot_Capstone_Modelling_Deep_Learning_Imbalanced.ipynb",
      "provenance": [],
      "collapsed_sections": [],
      "toc_visible": true
    },
    "kernelspec": {
      "name": "python3",
      "display_name": "Python 3"
    },
    "accelerator": "TPU"
  },
  "cells": [
    {
      "cell_type": "code",
      "metadata": {
        "id": "9xDPjGBg6r56",
        "colab": {
          "base_uri": "https://localhost:8080/"
        },
        "outputId": "73a34ada-2265-4032-e5a2-59e8e42b8a97"
      },
      "source": [
        "! python -m nltk.downloader all\r\n",
        "! pip install imbalanced-learn"
      ],
      "execution_count": null,
      "outputs": [
        {
          "output_type": "stream",
          "text": [
            "/usr/lib/python3.6/runpy.py:125: RuntimeWarning: 'nltk.downloader' found in sys.modules after import of package 'nltk', but prior to execution of 'nltk.downloader'; this may result in unpredictable behaviour\n",
            "  warn(RuntimeWarning(msg))\n",
            "[nltk_data] Downloading collection 'all'\n",
            "[nltk_data]    | \n",
            "[nltk_data]    | Downloading package abc to /root/nltk_data...\n",
            "[nltk_data]    |   Unzipping corpora/abc.zip.\n",
            "[nltk_data]    | Downloading package alpino to /root/nltk_data...\n",
            "[nltk_data]    |   Unzipping corpora/alpino.zip.\n",
            "[nltk_data]    | Downloading package biocreative_ppi to\n",
            "[nltk_data]    |     /root/nltk_data...\n",
            "[nltk_data]    |   Unzipping corpora/biocreative_ppi.zip.\n",
            "[nltk_data]    | Downloading package brown to /root/nltk_data...\n",
            "[nltk_data]    |   Unzipping corpora/brown.zip.\n",
            "[nltk_data]    | Downloading package brown_tei to /root/nltk_data...\n",
            "[nltk_data]    |   Unzipping corpora/brown_tei.zip.\n",
            "[nltk_data]    | Downloading package cess_cat to /root/nltk_data...\n",
            "[nltk_data]    |   Unzipping corpora/cess_cat.zip.\n",
            "[nltk_data]    | Downloading package cess_esp to /root/nltk_data...\n",
            "[nltk_data]    |   Unzipping corpora/cess_esp.zip.\n",
            "[nltk_data]    | Downloading package chat80 to /root/nltk_data...\n",
            "[nltk_data]    |   Unzipping corpora/chat80.zip.\n",
            "[nltk_data]    | Downloading package city_database to\n",
            "[nltk_data]    |     /root/nltk_data...\n",
            "[nltk_data]    |   Unzipping corpora/city_database.zip.\n",
            "[nltk_data]    | Downloading package cmudict to /root/nltk_data...\n",
            "[nltk_data]    |   Unzipping corpora/cmudict.zip.\n",
            "[nltk_data]    | Downloading package comparative_sentences to\n",
            "[nltk_data]    |     /root/nltk_data...\n",
            "[nltk_data]    |   Unzipping corpora/comparative_sentences.zip.\n",
            "[nltk_data]    | Downloading package comtrans to /root/nltk_data...\n",
            "[nltk_data]    | Downloading package conll2000 to /root/nltk_data...\n",
            "[nltk_data]    |   Unzipping corpora/conll2000.zip.\n",
            "[nltk_data]    | Downloading package conll2002 to /root/nltk_data...\n",
            "[nltk_data]    |   Unzipping corpora/conll2002.zip.\n",
            "[nltk_data]    | Downloading package conll2007 to /root/nltk_data...\n",
            "[nltk_data]    | Downloading package crubadan to /root/nltk_data...\n",
            "[nltk_data]    |   Unzipping corpora/crubadan.zip.\n",
            "[nltk_data]    | Downloading package dependency_treebank to\n",
            "[nltk_data]    |     /root/nltk_data...\n",
            "[nltk_data]    |   Unzipping corpora/dependency_treebank.zip.\n",
            "[nltk_data]    | Downloading package dolch to /root/nltk_data...\n",
            "[nltk_data]    |   Unzipping corpora/dolch.zip.\n",
            "[nltk_data]    | Downloading package europarl_raw to\n",
            "[nltk_data]    |     /root/nltk_data...\n",
            "[nltk_data]    |   Unzipping corpora/europarl_raw.zip.\n",
            "[nltk_data]    | Downloading package floresta to /root/nltk_data...\n",
            "[nltk_data]    |   Unzipping corpora/floresta.zip.\n",
            "[nltk_data]    | Downloading package framenet_v15 to\n",
            "[nltk_data]    |     /root/nltk_data...\n",
            "[nltk_data]    |   Unzipping corpora/framenet_v15.zip.\n",
            "[nltk_data]    | Downloading package framenet_v17 to\n",
            "[nltk_data]    |     /root/nltk_data...\n",
            "[nltk_data]    |   Unzipping corpora/framenet_v17.zip.\n",
            "[nltk_data]    | Downloading package gazetteers to /root/nltk_data...\n",
            "[nltk_data]    |   Unzipping corpora/gazetteers.zip.\n",
            "[nltk_data]    | Downloading package genesis to /root/nltk_data...\n",
            "[nltk_data]    |   Unzipping corpora/genesis.zip.\n",
            "[nltk_data]    | Downloading package gutenberg to /root/nltk_data...\n",
            "[nltk_data]    |   Unzipping corpora/gutenberg.zip.\n",
            "[nltk_data]    | Downloading package ieer to /root/nltk_data...\n",
            "[nltk_data]    |   Unzipping corpora/ieer.zip.\n",
            "[nltk_data]    | Downloading package inaugural to /root/nltk_data...\n",
            "[nltk_data]    |   Unzipping corpora/inaugural.zip.\n",
            "[nltk_data]    | Downloading package indian to /root/nltk_data...\n",
            "[nltk_data]    |   Unzipping corpora/indian.zip.\n",
            "[nltk_data]    | Downloading package jeita to /root/nltk_data...\n",
            "[nltk_data]    | Downloading package kimmo to /root/nltk_data...\n",
            "[nltk_data]    |   Unzipping corpora/kimmo.zip.\n",
            "[nltk_data]    | Downloading package knbc to /root/nltk_data...\n",
            "[nltk_data]    | Downloading package lin_thesaurus to\n",
            "[nltk_data]    |     /root/nltk_data...\n",
            "[nltk_data]    |   Unzipping corpora/lin_thesaurus.zip.\n",
            "[nltk_data]    | Downloading package mac_morpho to /root/nltk_data...\n",
            "[nltk_data]    |   Unzipping corpora/mac_morpho.zip.\n",
            "[nltk_data]    | Downloading package machado to /root/nltk_data...\n",
            "[nltk_data]    | Downloading package masc_tagged to /root/nltk_data...\n",
            "[nltk_data]    | Downloading package moses_sample to\n",
            "[nltk_data]    |     /root/nltk_data...\n",
            "[nltk_data]    |   Unzipping models/moses_sample.zip.\n",
            "[nltk_data]    | Downloading package movie_reviews to\n",
            "[nltk_data]    |     /root/nltk_data...\n",
            "[nltk_data]    |   Unzipping corpora/movie_reviews.zip.\n",
            "[nltk_data]    | Downloading package names to /root/nltk_data...\n",
            "[nltk_data]    |   Unzipping corpora/names.zip.\n",
            "[nltk_data]    | Downloading package nombank.1.0 to /root/nltk_data...\n",
            "[nltk_data]    | Downloading package nps_chat to /root/nltk_data...\n",
            "[nltk_data]    |   Unzipping corpora/nps_chat.zip.\n",
            "[nltk_data]    | Downloading package omw to /root/nltk_data...\n",
            "[nltk_data]    |   Unzipping corpora/omw.zip.\n",
            "[nltk_data]    | Downloading package opinion_lexicon to\n",
            "[nltk_data]    |     /root/nltk_data...\n",
            "[nltk_data]    |   Unzipping corpora/opinion_lexicon.zip.\n",
            "[nltk_data]    | Downloading package paradigms to /root/nltk_data...\n",
            "[nltk_data]    |   Unzipping corpora/paradigms.zip.\n",
            "[nltk_data]    | Downloading package pil to /root/nltk_data...\n",
            "[nltk_data]    |   Unzipping corpora/pil.zip.\n",
            "[nltk_data]    | Downloading package pl196x to /root/nltk_data...\n",
            "[nltk_data]    |   Unzipping corpora/pl196x.zip.\n",
            "[nltk_data]    | Downloading package ppattach to /root/nltk_data...\n",
            "[nltk_data]    |   Unzipping corpora/ppattach.zip.\n",
            "[nltk_data]    | Downloading package problem_reports to\n",
            "[nltk_data]    |     /root/nltk_data...\n",
            "[nltk_data]    |   Unzipping corpora/problem_reports.zip.\n",
            "[nltk_data]    | Downloading package propbank to /root/nltk_data...\n",
            "[nltk_data]    | Downloading package ptb to /root/nltk_data...\n",
            "[nltk_data]    |   Unzipping corpora/ptb.zip.\n",
            "[nltk_data]    | Downloading package product_reviews_1 to\n",
            "[nltk_data]    |     /root/nltk_data...\n",
            "[nltk_data]    |   Unzipping corpora/product_reviews_1.zip.\n",
            "[nltk_data]    | Downloading package product_reviews_2 to\n",
            "[nltk_data]    |     /root/nltk_data...\n",
            "[nltk_data]    |   Unzipping corpora/product_reviews_2.zip.\n",
            "[nltk_data]    | Downloading package pros_cons to /root/nltk_data...\n",
            "[nltk_data]    |   Unzipping corpora/pros_cons.zip.\n",
            "[nltk_data]    | Downloading package qc to /root/nltk_data...\n",
            "[nltk_data]    |   Unzipping corpora/qc.zip.\n",
            "[nltk_data]    | Downloading package reuters to /root/nltk_data...\n",
            "[nltk_data]    | Downloading package rte to /root/nltk_data...\n",
            "[nltk_data]    |   Unzipping corpora/rte.zip.\n",
            "[nltk_data]    | Downloading package semcor to /root/nltk_data...\n",
            "[nltk_data]    | Downloading package senseval to /root/nltk_data...\n",
            "[nltk_data]    |   Unzipping corpora/senseval.zip.\n",
            "[nltk_data]    | Downloading package sentiwordnet to\n",
            "[nltk_data]    |     /root/nltk_data...\n",
            "[nltk_data]    |   Unzipping corpora/sentiwordnet.zip.\n",
            "[nltk_data]    | Downloading package sentence_polarity to\n",
            "[nltk_data]    |     /root/nltk_data...\n",
            "[nltk_data]    |   Unzipping corpora/sentence_polarity.zip.\n",
            "[nltk_data]    | Downloading package shakespeare to /root/nltk_data...\n",
            "[nltk_data]    |   Unzipping corpora/shakespeare.zip.\n",
            "[nltk_data]    | Downloading package sinica_treebank to\n",
            "[nltk_data]    |     /root/nltk_data...\n",
            "[nltk_data]    |   Unzipping corpora/sinica_treebank.zip.\n",
            "[nltk_data]    | Downloading package smultron to /root/nltk_data...\n",
            "[nltk_data]    |   Unzipping corpora/smultron.zip.\n",
            "[nltk_data]    | Downloading package state_union to /root/nltk_data...\n",
            "[nltk_data]    |   Unzipping corpora/state_union.zip.\n",
            "[nltk_data]    | Downloading package stopwords to /root/nltk_data...\n",
            "[nltk_data]    |   Unzipping corpora/stopwords.zip.\n",
            "[nltk_data]    | Downloading package subjectivity to\n",
            "[nltk_data]    |     /root/nltk_data...\n",
            "[nltk_data]    |   Unzipping corpora/subjectivity.zip.\n",
            "[nltk_data]    | Downloading package swadesh to /root/nltk_data...\n",
            "[nltk_data]    |   Unzipping corpora/swadesh.zip.\n",
            "[nltk_data]    | Downloading package switchboard to /root/nltk_data...\n",
            "[nltk_data]    |   Unzipping corpora/switchboard.zip.\n",
            "[nltk_data]    | Downloading package timit to /root/nltk_data...\n",
            "[nltk_data]    |   Unzipping corpora/timit.zip.\n",
            "[nltk_data]    | Downloading package toolbox to /root/nltk_data...\n",
            "[nltk_data]    |   Unzipping corpora/toolbox.zip.\n",
            "[nltk_data]    | Downloading package treebank to /root/nltk_data...\n",
            "[nltk_data]    |   Unzipping corpora/treebank.zip.\n",
            "[nltk_data]    | Downloading package twitter_samples to\n",
            "[nltk_data]    |     /root/nltk_data...\n",
            "[nltk_data]    |   Unzipping corpora/twitter_samples.zip.\n",
            "[nltk_data]    | Downloading package udhr to /root/nltk_data...\n",
            "[nltk_data]    |   Unzipping corpora/udhr.zip.\n",
            "[nltk_data]    | Downloading package udhr2 to /root/nltk_data...\n",
            "[nltk_data]    |   Unzipping corpora/udhr2.zip.\n",
            "[nltk_data]    | Downloading package unicode_samples to\n",
            "[nltk_data]    |     /root/nltk_data...\n",
            "[nltk_data]    |   Unzipping corpora/unicode_samples.zip.\n",
            "[nltk_data]    | Downloading package universal_treebanks_v20 to\n",
            "[nltk_data]    |     /root/nltk_data...\n",
            "[nltk_data]    | Downloading package verbnet to /root/nltk_data...\n",
            "[nltk_data]    |   Unzipping corpora/verbnet.zip.\n",
            "[nltk_data]    | Downloading package verbnet3 to /root/nltk_data...\n",
            "[nltk_data]    |   Unzipping corpora/verbnet3.zip.\n",
            "[nltk_data]    | Downloading package webtext to /root/nltk_data...\n",
            "[nltk_data]    |   Unzipping corpora/webtext.zip.\n",
            "[nltk_data]    | Downloading package wordnet to /root/nltk_data...\n",
            "[nltk_data]    |   Unzipping corpora/wordnet.zip.\n",
            "[nltk_data]    | Downloading package wordnet_ic to /root/nltk_data...\n",
            "[nltk_data]    |   Unzipping corpora/wordnet_ic.zip.\n",
            "[nltk_data]    | Downloading package words to /root/nltk_data...\n",
            "[nltk_data]    |   Unzipping corpora/words.zip.\n",
            "[nltk_data]    | Downloading package ycoe to /root/nltk_data...\n",
            "[nltk_data]    |   Unzipping corpora/ycoe.zip.\n",
            "[nltk_data]    | Downloading package rslp to /root/nltk_data...\n",
            "[nltk_data]    |   Unzipping stemmers/rslp.zip.\n",
            "[nltk_data]    | Downloading package maxent_treebank_pos_tagger to\n",
            "[nltk_data]    |     /root/nltk_data...\n",
            "[nltk_data]    |   Unzipping taggers/maxent_treebank_pos_tagger.zip.\n",
            "[nltk_data]    | Downloading package universal_tagset to\n",
            "[nltk_data]    |     /root/nltk_data...\n",
            "[nltk_data]    |   Unzipping taggers/universal_tagset.zip.\n",
            "[nltk_data]    | Downloading package maxent_ne_chunker to\n",
            "[nltk_data]    |     /root/nltk_data...\n",
            "[nltk_data]    |   Unzipping chunkers/maxent_ne_chunker.zip.\n",
            "[nltk_data]    | Downloading package punkt to /root/nltk_data...\n",
            "[nltk_data]    |   Unzipping tokenizers/punkt.zip.\n",
            "[nltk_data]    | Downloading package book_grammars to\n",
            "[nltk_data]    |     /root/nltk_data...\n",
            "[nltk_data]    |   Unzipping grammars/book_grammars.zip.\n",
            "[nltk_data]    | Downloading package sample_grammars to\n",
            "[nltk_data]    |     /root/nltk_data...\n",
            "[nltk_data]    |   Unzipping grammars/sample_grammars.zip.\n",
            "[nltk_data]    | Downloading package spanish_grammars to\n",
            "[nltk_data]    |     /root/nltk_data...\n",
            "[nltk_data]    |   Unzipping grammars/spanish_grammars.zip.\n",
            "[nltk_data]    | Downloading package basque_grammars to\n",
            "[nltk_data]    |     /root/nltk_data...\n",
            "[nltk_data]    |   Unzipping grammars/basque_grammars.zip.\n",
            "[nltk_data]    | Downloading package large_grammars to\n",
            "[nltk_data]    |     /root/nltk_data...\n",
            "[nltk_data]    |   Unzipping grammars/large_grammars.zip.\n",
            "[nltk_data]    | Downloading package tagsets to /root/nltk_data...\n",
            "[nltk_data]    |   Unzipping help/tagsets.zip.\n",
            "[nltk_data]    | Downloading package snowball_data to\n",
            "[nltk_data]    |     /root/nltk_data...\n",
            "[nltk_data]    | Downloading package bllip_wsj_no_aux to\n",
            "[nltk_data]    |     /root/nltk_data...\n",
            "[nltk_data]    |   Unzipping models/bllip_wsj_no_aux.zip.\n",
            "[nltk_data]    | Downloading package word2vec_sample to\n",
            "[nltk_data]    |     /root/nltk_data...\n",
            "[nltk_data]    |   Unzipping models/word2vec_sample.zip.\n",
            "[nltk_data]    | Downloading package panlex_swadesh to\n",
            "[nltk_data]    |     /root/nltk_data...\n",
            "[nltk_data]    | Downloading package mte_teip5 to /root/nltk_data...\n",
            "[nltk_data]    |   Unzipping corpora/mte_teip5.zip.\n",
            "[nltk_data]    | Downloading package averaged_perceptron_tagger to\n",
            "[nltk_data]    |     /root/nltk_data...\n",
            "[nltk_data]    |   Unzipping taggers/averaged_perceptron_tagger.zip.\n",
            "[nltk_data]    | Downloading package averaged_perceptron_tagger_ru to\n",
            "[nltk_data]    |     /root/nltk_data...\n",
            "[nltk_data]    |   Unzipping\n",
            "[nltk_data]    |       taggers/averaged_perceptron_tagger_ru.zip.\n",
            "[nltk_data]    | Downloading package perluniprops to\n",
            "[nltk_data]    |     /root/nltk_data...\n",
            "[nltk_data]    |   Unzipping misc/perluniprops.zip.\n",
            "[nltk_data]    | Downloading package nonbreaking_prefixes to\n",
            "[nltk_data]    |     /root/nltk_data...\n",
            "[nltk_data]    |   Unzipping corpora/nonbreaking_prefixes.zip.\n",
            "[nltk_data]    | Downloading package vader_lexicon to\n",
            "[nltk_data]    |     /root/nltk_data...\n",
            "[nltk_data]    | Downloading package porter_test to /root/nltk_data...\n",
            "[nltk_data]    |   Unzipping stemmers/porter_test.zip.\n",
            "[nltk_data]    | Downloading package wmt15_eval to /root/nltk_data...\n",
            "[nltk_data]    |   Unzipping models/wmt15_eval.zip.\n",
            "[nltk_data]    | Downloading package mwa_ppdb to /root/nltk_data...\n",
            "[nltk_data]    |   Unzipping misc/mwa_ppdb.zip.\n",
            "[nltk_data]    | \n",
            "[nltk_data]  Done downloading collection all\n",
            "Requirement already satisfied: imbalanced-learn in /usr/local/lib/python3.6/dist-packages (0.4.3)\n",
            "Requirement already satisfied: scikit-learn>=0.20 in /usr/local/lib/python3.6/dist-packages (from imbalanced-learn) (0.22.2.post1)\n",
            "Requirement already satisfied: numpy>=1.8.2 in /usr/local/lib/python3.6/dist-packages (from imbalanced-learn) (1.19.5)\n",
            "Requirement already satisfied: scipy>=0.13.3 in /usr/local/lib/python3.6/dist-packages (from imbalanced-learn) (1.4.1)\n",
            "Requirement already satisfied: joblib>=0.11 in /usr/local/lib/python3.6/dist-packages (from scikit-learn>=0.20->imbalanced-learn) (1.0.0)\n"
          ],
          "name": "stdout"
        }
      ]
    },
    {
      "cell_type": "code",
      "metadata": {
        "id": "-XNFvJo1ntJO"
      },
      "source": [
        "import pandas as pd\r\n",
        "import matplotlib.pyplot as plt\r\n",
        "import seaborn as sns\r\n",
        "import numpy as np"
      ],
      "execution_count": null,
      "outputs": []
    },
    {
      "cell_type": "code",
      "metadata": {
        "id": "U78Zr_ByDuQ_"
      },
      "source": [
        "from sklearn.preprocessing import LabelEncoder\r\n",
        "from datetime import datetime\r\n",
        "import time\r\n",
        "from sklearn.preprocessing import OneHotEncoder"
      ],
      "execution_count": null,
      "outputs": []
    },
    {
      "cell_type": "code",
      "metadata": {
        "id": "Yrix9lsEIDQF"
      },
      "source": [
        "from sklearn import model_selection\r\n",
        "from sklearn.model_selection import GridSearchCV\r\n",
        "from sklearn.neighbors import KNeighborsClassifier\r\n",
        "from sklearn import svm\r\n",
        "from sklearn.metrics import confusion_matrix\r\n",
        "from sklearn.linear_model import LogisticRegression\r\n",
        "from sklearn.model_selection import train_test_split,KFold  # Used to create a KFold object\r\n",
        "from sklearn import svm\r\n",
        "from sklearn.model_selection import cross_val_score"
      ],
      "execution_count": null,
      "outputs": []
    },
    {
      "cell_type": "code",
      "metadata": {
        "id": "K4RW2pab6e0n"
      },
      "source": [
        "from tensorflow.keras.models import Sequential,Model\r\n",
        "from tensorflow.keras.layers import LSTM, Embedding, Dense, TimeDistributed, Dropout, Bidirectional, Input, Flatten, BatchNormalization\r\n",
        "from tensorflow.keras import initializers"
      ],
      "execution_count": null,
      "outputs": []
    },
    {
      "cell_type": "code",
      "metadata": {
        "id": "ZHy4dVv2IFz_",
        "colab": {
          "base_uri": "https://localhost:8080/"
        },
        "outputId": "2325161f-73ea-4341-b8bb-41ebf5c1b8b6"
      },
      "source": [
        "from sklearn.preprocessing import StandardScaler\r\n",
        "from sklearn.naive_bayes import GaussianNB\r\n",
        "from sklearn.metrics import classification_report, confusion_matrix\r\n",
        "from sklearn.metrics import f1_score\r\n",
        "from imblearn.over_sampling import SMOTE"
      ],
      "execution_count": null,
      "outputs": [
        {
          "output_type": "stream",
          "text": [
            "/usr/local/lib/python3.6/dist-packages/sklearn/externals/six.py:31: FutureWarning: The module is deprecated in version 0.21 and will be removed in version 0.23 since we've dropped support for Python 2.7. Please rely on the official version of six (https://pypi.org/project/six/).\n",
            "  \"(https://pypi.org/project/six/).\", FutureWarning)\n",
            "/usr/local/lib/python3.6/dist-packages/sklearn/utils/deprecation.py:144: FutureWarning: The sklearn.neighbors.base module is  deprecated in version 0.22 and will be removed in version 0.24. The corresponding classes / functions should instead be imported from sklearn.neighbors. Anything that cannot be imported from sklearn.neighbors is now part of the private API.\n",
            "  warnings.warn(message, FutureWarning)\n"
          ],
          "name": "stderr"
        }
      ]
    },
    {
      "cell_type": "code",
      "metadata": {
        "id": "dyD-BC2QyAmO"
      },
      "source": [
        "from nltk.tokenize import word_tokenize\r\n",
        "from nltk.corpus import stopwords\r\n",
        "import string"
      ],
      "execution_count": null,
      "outputs": []
    },
    {
      "cell_type": "code",
      "metadata": {
        "id": "Zg1MlKXlz8iy"
      },
      "source": [
        "from sklearn.feature_extraction.text import CountVectorizer\r\n",
        "from sklearn.feature_extraction.text import TfidfVectorizer"
      ],
      "execution_count": null,
      "outputs": []
    },
    {
      "cell_type": "code",
      "metadata": {
        "id": "AIS70oLrnuNo"
      },
      "source": [
        "import tensorflow as tf\r\n",
        "from tensorflow import keras"
      ],
      "execution_count": null,
      "outputs": []
    },
    {
      "cell_type": "code",
      "metadata": {
        "colab": {
          "base_uri": "https://localhost:8080/"
        },
        "id": "cA6YFIenoI0y",
        "outputId": "0a30c418-3777-4219-939a-ce558150a45d"
      },
      "source": [
        "from google.colab import drive\r\n",
        "drive.mount('/content/drive')"
      ],
      "execution_count": null,
      "outputs": [
        {
          "output_type": "stream",
          "text": [
            "Mounted at /content/drive\n"
          ],
          "name": "stdout"
        }
      ]
    },
    {
      "cell_type": "code",
      "metadata": {
        "id": "-p4lvfY3nytz"
      },
      "source": [
        "df = pd.read_csv('/content/drive/MyDrive/NLP_Chatbot_Capstone_Project/data.csv')"
      ],
      "execution_count": null,
      "outputs": []
    },
    {
      "cell_type": "code",
      "metadata": {
        "colab": {
          "base_uri": "https://localhost:8080/",
          "height": 597
        },
        "id": "bQJFMKItnyq-",
        "outputId": "e5013730-ffb8-42d9-f296-f5df0af59cba"
      },
      "source": [
        "del df['Unnamed: 0'] \r\n",
        "df"
      ],
      "execution_count": null,
      "outputs": [
        {
          "output_type": "execute_result",
          "data": {
            "text/html": [
              "<div>\n",
              "<style scoped>\n",
              "    .dataframe tbody tr th:only-of-type {\n",
              "        vertical-align: middle;\n",
              "    }\n",
              "\n",
              "    .dataframe tbody tr th {\n",
              "        vertical-align: top;\n",
              "    }\n",
              "\n",
              "    .dataframe thead th {\n",
              "        text-align: right;\n",
              "    }\n",
              "</style>\n",
              "<table border=\"1\" class=\"dataframe\">\n",
              "  <thead>\n",
              "    <tr style=\"text-align: right;\">\n",
              "      <th></th>\n",
              "      <th>Data</th>\n",
              "      <th>Countries</th>\n",
              "      <th>Local</th>\n",
              "      <th>Industry Sector</th>\n",
              "      <th>Accident Level</th>\n",
              "      <th>Potential Accident Level</th>\n",
              "      <th>Genre</th>\n",
              "      <th>Employee or Third Party</th>\n",
              "      <th>Critical Risk</th>\n",
              "      <th>Description</th>\n",
              "    </tr>\n",
              "  </thead>\n",
              "  <tbody>\n",
              "    <tr>\n",
              "      <th>0</th>\n",
              "      <td>2016-01-01 00:00:00</td>\n",
              "      <td>Country_01</td>\n",
              "      <td>Local_01</td>\n",
              "      <td>Mining</td>\n",
              "      <td>I</td>\n",
              "      <td>IV</td>\n",
              "      <td>Male</td>\n",
              "      <td>Third Party</td>\n",
              "      <td>Pressed</td>\n",
              "      <td>While removing the drill rod of the Jumbo 08 f...</td>\n",
              "    </tr>\n",
              "    <tr>\n",
              "      <th>1</th>\n",
              "      <td>2016-01-02 00:00:00</td>\n",
              "      <td>Country_02</td>\n",
              "      <td>Local_02</td>\n",
              "      <td>Mining</td>\n",
              "      <td>I</td>\n",
              "      <td>IV</td>\n",
              "      <td>Male</td>\n",
              "      <td>Employee</td>\n",
              "      <td>Pressurized Systems</td>\n",
              "      <td>During the activation of a sodium sulphide pum...</td>\n",
              "    </tr>\n",
              "    <tr>\n",
              "      <th>2</th>\n",
              "      <td>2016-01-06 00:00:00</td>\n",
              "      <td>Country_01</td>\n",
              "      <td>Local_03</td>\n",
              "      <td>Mining</td>\n",
              "      <td>I</td>\n",
              "      <td>III</td>\n",
              "      <td>Male</td>\n",
              "      <td>Third Party (Remote)</td>\n",
              "      <td>Manual Tools</td>\n",
              "      <td>In the sub-station MILPO located at level +170...</td>\n",
              "    </tr>\n",
              "    <tr>\n",
              "      <th>3</th>\n",
              "      <td>2016-01-08 00:00:00</td>\n",
              "      <td>Country_01</td>\n",
              "      <td>Local_04</td>\n",
              "      <td>Mining</td>\n",
              "      <td>I</td>\n",
              "      <td>I</td>\n",
              "      <td>Male</td>\n",
              "      <td>Third Party</td>\n",
              "      <td>Others</td>\n",
              "      <td>Being 9:45 am. approximately in the Nv. 1880 C...</td>\n",
              "    </tr>\n",
              "    <tr>\n",
              "      <th>4</th>\n",
              "      <td>2016-01-10 00:00:00</td>\n",
              "      <td>Country_01</td>\n",
              "      <td>Local_04</td>\n",
              "      <td>Mining</td>\n",
              "      <td>IV</td>\n",
              "      <td>IV</td>\n",
              "      <td>Male</td>\n",
              "      <td>Third Party</td>\n",
              "      <td>Others</td>\n",
              "      <td>Approximately at 11:45 a.m. in circumstances t...</td>\n",
              "    </tr>\n",
              "    <tr>\n",
              "      <th>...</th>\n",
              "      <td>...</td>\n",
              "      <td>...</td>\n",
              "      <td>...</td>\n",
              "      <td>...</td>\n",
              "      <td>...</td>\n",
              "      <td>...</td>\n",
              "      <td>...</td>\n",
              "      <td>...</td>\n",
              "      <td>...</td>\n",
              "      <td>...</td>\n",
              "    </tr>\n",
              "    <tr>\n",
              "      <th>420</th>\n",
              "      <td>2017-07-04 00:00:00</td>\n",
              "      <td>Country_01</td>\n",
              "      <td>Local_04</td>\n",
              "      <td>Mining</td>\n",
              "      <td>I</td>\n",
              "      <td>III</td>\n",
              "      <td>Male</td>\n",
              "      <td>Third Party</td>\n",
              "      <td>Others</td>\n",
              "      <td>Being approximately 5:00 a.m. approximately, w...</td>\n",
              "    </tr>\n",
              "    <tr>\n",
              "      <th>421</th>\n",
              "      <td>2017-07-04 00:00:00</td>\n",
              "      <td>Country_01</td>\n",
              "      <td>Local_03</td>\n",
              "      <td>Mining</td>\n",
              "      <td>I</td>\n",
              "      <td>II</td>\n",
              "      <td>Female</td>\n",
              "      <td>Employee</td>\n",
              "      <td>Others</td>\n",
              "      <td>The collaborator moved from the infrastructure...</td>\n",
              "    </tr>\n",
              "    <tr>\n",
              "      <th>422</th>\n",
              "      <td>2017-07-05 00:00:00</td>\n",
              "      <td>Country_02</td>\n",
              "      <td>Local_09</td>\n",
              "      <td>Metals</td>\n",
              "      <td>I</td>\n",
              "      <td>II</td>\n",
              "      <td>Male</td>\n",
              "      <td>Employee</td>\n",
              "      <td>Venomous Animals</td>\n",
              "      <td>During the environmental monitoring activity i...</td>\n",
              "    </tr>\n",
              "    <tr>\n",
              "      <th>423</th>\n",
              "      <td>2017-07-06 00:00:00</td>\n",
              "      <td>Country_02</td>\n",
              "      <td>Local_05</td>\n",
              "      <td>Metals</td>\n",
              "      <td>I</td>\n",
              "      <td>II</td>\n",
              "      <td>Male</td>\n",
              "      <td>Employee</td>\n",
              "      <td>Cut</td>\n",
              "      <td>The Employee performed the activity of strippi...</td>\n",
              "    </tr>\n",
              "    <tr>\n",
              "      <th>424</th>\n",
              "      <td>2017-07-09 00:00:00</td>\n",
              "      <td>Country_01</td>\n",
              "      <td>Local_04</td>\n",
              "      <td>Mining</td>\n",
              "      <td>I</td>\n",
              "      <td>II</td>\n",
              "      <td>Female</td>\n",
              "      <td>Third Party</td>\n",
              "      <td>Fall prevention (same level)</td>\n",
              "      <td>At 10:00 a.m., when the assistant cleaned the ...</td>\n",
              "    </tr>\n",
              "  </tbody>\n",
              "</table>\n",
              "<p>425 rows × 10 columns</p>\n",
              "</div>"
            ],
            "text/plain": [
              "                    Data  ...                                        Description\n",
              "0    2016-01-01 00:00:00  ...  While removing the drill rod of the Jumbo 08 f...\n",
              "1    2016-01-02 00:00:00  ...  During the activation of a sodium sulphide pum...\n",
              "2    2016-01-06 00:00:00  ...  In the sub-station MILPO located at level +170...\n",
              "3    2016-01-08 00:00:00  ...  Being 9:45 am. approximately in the Nv. 1880 C...\n",
              "4    2016-01-10 00:00:00  ...  Approximately at 11:45 a.m. in circumstances t...\n",
              "..                   ...  ...                                                ...\n",
              "420  2017-07-04 00:00:00  ...  Being approximately 5:00 a.m. approximately, w...\n",
              "421  2017-07-04 00:00:00  ...  The collaborator moved from the infrastructure...\n",
              "422  2017-07-05 00:00:00  ...  During the environmental monitoring activity i...\n",
              "423  2017-07-06 00:00:00  ...  The Employee performed the activity of strippi...\n",
              "424  2017-07-09 00:00:00  ...  At 10:00 a.m., when the assistant cleaned the ...\n",
              "\n",
              "[425 rows x 10 columns]"
            ]
          },
          "metadata": {
            "tags": []
          },
          "execution_count": 12
        }
      ]
    },
    {
      "cell_type": "code",
      "metadata": {
        "colab": {
          "base_uri": "https://localhost:8080/",
          "height": 348
        },
        "id": "mSC14lBEoHhP",
        "outputId": "f1fcc84f-c2c1-441b-aa0a-fb021357f72b"
      },
      "source": [
        "def missing_check(df):\n",
        "    total = df.isnull().sum().sort_values(ascending=False)   # total number of null values\n",
        "    percent = (df.isnull().sum()/df.isnull().count()).sort_values(ascending=False)  # percentage of values that are null\n",
        "    missing_data = pd.concat([total, percent], axis=1, keys=['Total', 'Percent'])  # putting the above two together\n",
        "    return missing_data # return the dataframe\n",
        "missing_check(df)"
      ],
      "execution_count": null,
      "outputs": [
        {
          "output_type": "execute_result",
          "data": {
            "text/html": [
              "<div>\n",
              "<style scoped>\n",
              "    .dataframe tbody tr th:only-of-type {\n",
              "        vertical-align: middle;\n",
              "    }\n",
              "\n",
              "    .dataframe tbody tr th {\n",
              "        vertical-align: top;\n",
              "    }\n",
              "\n",
              "    .dataframe thead th {\n",
              "        text-align: right;\n",
              "    }\n",
              "</style>\n",
              "<table border=\"1\" class=\"dataframe\">\n",
              "  <thead>\n",
              "    <tr style=\"text-align: right;\">\n",
              "      <th></th>\n",
              "      <th>Total</th>\n",
              "      <th>Percent</th>\n",
              "    </tr>\n",
              "  </thead>\n",
              "  <tbody>\n",
              "    <tr>\n",
              "      <th>Description</th>\n",
              "      <td>0</td>\n",
              "      <td>0.0</td>\n",
              "    </tr>\n",
              "    <tr>\n",
              "      <th>Critical Risk</th>\n",
              "      <td>0</td>\n",
              "      <td>0.0</td>\n",
              "    </tr>\n",
              "    <tr>\n",
              "      <th>Employee or Third Party</th>\n",
              "      <td>0</td>\n",
              "      <td>0.0</td>\n",
              "    </tr>\n",
              "    <tr>\n",
              "      <th>Genre</th>\n",
              "      <td>0</td>\n",
              "      <td>0.0</td>\n",
              "    </tr>\n",
              "    <tr>\n",
              "      <th>Potential Accident Level</th>\n",
              "      <td>0</td>\n",
              "      <td>0.0</td>\n",
              "    </tr>\n",
              "    <tr>\n",
              "      <th>Accident Level</th>\n",
              "      <td>0</td>\n",
              "      <td>0.0</td>\n",
              "    </tr>\n",
              "    <tr>\n",
              "      <th>Industry Sector</th>\n",
              "      <td>0</td>\n",
              "      <td>0.0</td>\n",
              "    </tr>\n",
              "    <tr>\n",
              "      <th>Local</th>\n",
              "      <td>0</td>\n",
              "      <td>0.0</td>\n",
              "    </tr>\n",
              "    <tr>\n",
              "      <th>Countries</th>\n",
              "      <td>0</td>\n",
              "      <td>0.0</td>\n",
              "    </tr>\n",
              "    <tr>\n",
              "      <th>Data</th>\n",
              "      <td>0</td>\n",
              "      <td>0.0</td>\n",
              "    </tr>\n",
              "  </tbody>\n",
              "</table>\n",
              "</div>"
            ],
            "text/plain": [
              "                          Total  Percent\n",
              "Description                   0      0.0\n",
              "Critical Risk                 0      0.0\n",
              "Employee or Third Party       0      0.0\n",
              "Genre                         0      0.0\n",
              "Potential Accident Level      0      0.0\n",
              "Accident Level                0      0.0\n",
              "Industry Sector               0      0.0\n",
              "Local                         0      0.0\n",
              "Countries                     0      0.0\n",
              "Data                          0      0.0"
            ]
          },
          "metadata": {
            "tags": []
          },
          "execution_count": 13
        }
      ]
    },
    {
      "cell_type": "code",
      "metadata": {
        "id": "D5Q8qhdWCCWn"
      },
      "source": [
        "dataframe=df.copy()\r\n",
        "y=dataframe['Accident Level'].values\r\n",
        "del dataframe['Accident Level']"
      ],
      "execution_count": null,
      "outputs": []
    },
    {
      "cell_type": "code",
      "metadata": {
        "colab": {
          "base_uri": "https://localhost:8080/"
        },
        "id": "JiLDaXSlNqX0",
        "outputId": "30207d82-1075-4324-ad6c-80ad3f30f781"
      },
      "source": [
        "y"
      ],
      "execution_count": null,
      "outputs": [
        {
          "output_type": "execute_result",
          "data": {
            "text/plain": [
              "array(['I', 'I', 'I', 'I', 'IV', 'I', 'I', 'I', 'I', 'I', 'I', 'I', 'I',\n",
              "       'IV', 'I', 'I', 'III', 'I', 'I', 'I', 'I', 'I', 'II', 'II', 'I',\n",
              "       'I', 'I', 'I', 'I', 'II', 'I', 'I', 'III', 'V', 'I', 'I', 'I', 'I',\n",
              "       'I', 'I', 'II', 'I', 'I', 'I', 'I', 'I', 'I', 'I', 'I', 'III', 'I',\n",
              "       'III', 'I', 'I', 'III', 'II', 'I', 'I', 'I', 'I', 'II', 'IV', 'I',\n",
              "       'I', 'I', 'I', 'I', 'IV', 'I', 'II', 'I', 'I', 'I', 'I', 'III',\n",
              "       'I', 'I', 'I', 'II', 'IV', 'I', 'I', 'III', 'I', 'I', 'I', 'I',\n",
              "       'I', 'I', 'I', 'I', 'I', 'I', 'I', 'I', 'I', 'I', 'I', 'I', 'II',\n",
              "       'I', 'I', 'III', 'I', 'I', 'IV', 'I', 'I', 'I', 'II', 'I', 'I',\n",
              "       'I', 'I', 'I', 'I', 'I', 'I', 'I', 'I', 'I', 'I', 'I', 'I', 'I',\n",
              "       'IV', 'I', 'II', 'I', 'I', 'I', 'I', 'I', 'I', 'I', 'V', 'II', 'I',\n",
              "       'I', 'I', 'I', 'I', 'IV', 'I', 'I', 'I', 'I', 'I', 'I', 'I', 'I',\n",
              "       'I', 'I', 'I', 'IV', 'IV', 'I', 'I', 'I', 'I', 'I', 'I', 'V',\n",
              "       'III', 'I', 'I', 'IV', 'I', 'III', 'III', 'IV', 'III', 'I', 'I',\n",
              "       'I', 'I', 'I', 'I', 'I', 'II', 'I', 'I', 'I', 'II', 'I', 'II', 'I',\n",
              "       'IV', 'I', 'III', 'III', 'I', 'I', 'I', 'I', 'I', 'I', 'I', 'I',\n",
              "       'I', 'I', 'II', 'I', 'II', 'I', 'I', 'III', 'IV', 'I', 'I', 'I',\n",
              "       'I', 'III', 'I', 'I', 'I', 'II', 'I', 'I', 'I', 'I', 'II', 'I',\n",
              "       'I', 'I', 'I', 'I', 'II', 'I', 'I', 'I', 'I', 'III', 'II', 'I',\n",
              "       'III', 'I', 'II', 'III', 'IV', 'I', 'I', 'II', 'I', 'III', 'I',\n",
              "       'I', 'IV', 'IV', 'I', 'I', 'IV', 'I', 'III', 'I', 'I', 'I', 'I',\n",
              "       'I', 'II', 'I', 'I', 'I', 'I', 'I', 'I', 'II', 'I', 'I', 'I',\n",
              "       'III', 'I', 'I', 'I', 'III', 'I', 'I', 'II', 'I', 'I', 'I', 'I',\n",
              "       'I', 'IV', 'III', 'I', 'I', 'I', 'I', 'I', 'III', 'II', 'I', 'I',\n",
              "       'I', 'I', 'I', 'I', 'I', 'III', 'IV', 'I', 'I', 'I', 'I', 'I', 'I',\n",
              "       'V', 'II', 'I', 'I', 'I', 'I', 'I', 'I', 'I', 'I', 'II', 'II', 'I',\n",
              "       'I', 'II', 'I', 'IV', 'I', 'II', 'I', 'III', 'IV', 'I', 'I', 'I',\n",
              "       'I', 'I', 'IV', 'I', 'IV', 'I', 'I', 'I', 'I', 'II', 'III', 'I',\n",
              "       'I', 'I', 'I', 'I', 'I', 'I', 'I', 'V', 'I', 'II', 'I', 'I', 'II',\n",
              "       'V', 'V', 'II', 'I', 'I', 'I', 'I', 'I', 'I', 'I', 'I', 'I', 'I',\n",
              "       'I', 'I', 'I', 'I', 'I', 'I', 'I', 'I', 'I', 'IV', 'IV', 'I', 'I',\n",
              "       'II', 'I', 'I', 'III', 'IV', 'II', 'V', 'I', 'IV', 'I', 'I', 'IV',\n",
              "       'I', 'I', 'I', 'I', 'I', 'I', 'I', 'I', 'I', 'I', 'I', 'I', 'III',\n",
              "       'I', 'II', 'IV', 'II', 'I', 'I', 'I', 'I', 'III', 'I', 'I', 'I',\n",
              "       'I', 'I', 'I', 'I', 'I'], dtype=object)"
            ]
          },
          "metadata": {
            "tags": []
          },
          "execution_count": 15
        }
      ]
    },
    {
      "cell_type": "code",
      "metadata": {
        "id": "0SHOPV3fDgq8"
      },
      "source": [
        "categorical_columns=dataframe.columns"
      ],
      "execution_count": null,
      "outputs": []
    },
    {
      "cell_type": "markdown",
      "metadata": {
        "id": "5R_rqzczOTxT"
      },
      "source": [
        "# **# Encoding**\r\n",
        "\r\n",
        "> Encoding Dataset for Model Preparation.\r\n",
        "\r\n"
      ]
    },
    {
      "cell_type": "code",
      "metadata": {
        "id": "LG7OMtvbWGjI"
      },
      "source": [
        "column_names_encoded=list(df.columns)\r\n",
        "column_names_encoded.remove('Critical Risk')\r\n",
        "column_names_encoded.remove('Description')\r\n",
        "column_names_encoded.remove('Data')\r\n",
        "column_names_encoded.remove('Accident Level')"
      ],
      "execution_count": null,
      "outputs": []
    },
    {
      "cell_type": "code",
      "metadata": {
        "id": "qBpo1l2ORvbs"
      },
      "source": [
        "# Performing label encoding of column accident level\r\n",
        "import numpy as np\r\n",
        "from sklearn.preprocessing import LabelEncoder   \r\n",
        "  \r\n",
        "def one_hot_encoding_columns(column_name,dataframe):\r\n",
        "  accident_level=  dataframe[column_name].to_numpy()\r\n",
        "  labelencoder = LabelEncoder()  \r\n",
        "  accident_level_encoded = labelencoder.fit_transform(accident_level)\r\n",
        "  enc = OneHotEncoder(handle_unknown='ignore')\r\n",
        "  X = (np.array(accident_level_encoded).reshape(-1,1))\r\n",
        "  drop_enc = enc.fit_transform(X)\r\n",
        "  # print(drop_enc.todense())\r\n",
        "  dataframe = pd.concat([dataframe,pd.DataFrame(drop_enc.todense(),columns = [column_name+'_'+j for j in labelencoder.inverse_transform(enc.categories_[0])])],axis = 1)\r\n",
        "  del dataframe[column_name]\r\n",
        "  return dataframe\r\n",
        "\r\n",
        "encoded_dataframe=one_hot_encoding_columns(column_names_encoded[0],df)\r\n",
        "for i in range(1,len(column_names_encoded)):\r\n",
        "  encoded_dataframe=one_hot_encoding_columns(column_names_encoded[i],encoded_dataframe)"
      ],
      "execution_count": null,
      "outputs": []
    },
    {
      "cell_type": "code",
      "metadata": {
        "colab": {
          "base_uri": "https://localhost:8080/",
          "height": 1000
        },
        "id": "Lk5gwT8mRvYE",
        "outputId": "bcf8c1b7-e2b3-414f-c3bd-adc0f1731256"
      },
      "source": [
        "encoded_dataframe"
      ],
      "execution_count": null,
      "outputs": [
        {
          "output_type": "execute_result",
          "data": {
            "text/html": [
              "<div>\n",
              "<style scoped>\n",
              "    .dataframe tbody tr th:only-of-type {\n",
              "        vertical-align: middle;\n",
              "    }\n",
              "\n",
              "    .dataframe tbody tr th {\n",
              "        vertical-align: top;\n",
              "    }\n",
              "\n",
              "    .dataframe thead th {\n",
              "        text-align: right;\n",
              "    }\n",
              "</style>\n",
              "<table border=\"1\" class=\"dataframe\">\n",
              "  <thead>\n",
              "    <tr style=\"text-align: right;\">\n",
              "      <th></th>\n",
              "      <th>Data</th>\n",
              "      <th>Accident Level</th>\n",
              "      <th>Critical Risk</th>\n",
              "      <th>Description</th>\n",
              "      <th>Countries_Country_01</th>\n",
              "      <th>Countries_Country_02</th>\n",
              "      <th>Countries_Country_03</th>\n",
              "      <th>Local_Local_01</th>\n",
              "      <th>Local_Local_02</th>\n",
              "      <th>Local_Local_03</th>\n",
              "      <th>Local_Local_04</th>\n",
              "      <th>Local_Local_05</th>\n",
              "      <th>Local_Local_06</th>\n",
              "      <th>Local_Local_07</th>\n",
              "      <th>Local_Local_08</th>\n",
              "      <th>Local_Local_09</th>\n",
              "      <th>Local_Local_10</th>\n",
              "      <th>Local_Local_11</th>\n",
              "      <th>Local_Local_12</th>\n",
              "      <th>Industry Sector_Metals</th>\n",
              "      <th>Industry Sector_Mining</th>\n",
              "      <th>Industry Sector_Others</th>\n",
              "      <th>Potential Accident Level_I</th>\n",
              "      <th>Potential Accident Level_II</th>\n",
              "      <th>Potential Accident Level_III</th>\n",
              "      <th>Potential Accident Level_IV</th>\n",
              "      <th>Potential Accident Level_V</th>\n",
              "      <th>Potential Accident Level_VI</th>\n",
              "      <th>Genre_Female</th>\n",
              "      <th>Genre_Male</th>\n",
              "      <th>Employee or Third Party_Employee</th>\n",
              "      <th>Employee or Third Party_Third Party</th>\n",
              "      <th>Employee or Third Party_Third Party (Remote)</th>\n",
              "    </tr>\n",
              "  </thead>\n",
              "  <tbody>\n",
              "    <tr>\n",
              "      <th>0</th>\n",
              "      <td>2016-01-01 00:00:00</td>\n",
              "      <td>I</td>\n",
              "      <td>Pressed</td>\n",
              "      <td>While removing the drill rod of the Jumbo 08 f...</td>\n",
              "      <td>1.0</td>\n",
              "      <td>0.0</td>\n",
              "      <td>0.0</td>\n",
              "      <td>1.0</td>\n",
              "      <td>0.0</td>\n",
              "      <td>0.0</td>\n",
              "      <td>0.0</td>\n",
              "      <td>0.0</td>\n",
              "      <td>0.0</td>\n",
              "      <td>0.0</td>\n",
              "      <td>0.0</td>\n",
              "      <td>0.0</td>\n",
              "      <td>0.0</td>\n",
              "      <td>0.0</td>\n",
              "      <td>0.0</td>\n",
              "      <td>0.0</td>\n",
              "      <td>1.0</td>\n",
              "      <td>0.0</td>\n",
              "      <td>0.0</td>\n",
              "      <td>0.0</td>\n",
              "      <td>0.0</td>\n",
              "      <td>1.0</td>\n",
              "      <td>0.0</td>\n",
              "      <td>0.0</td>\n",
              "      <td>0.0</td>\n",
              "      <td>1.0</td>\n",
              "      <td>0.0</td>\n",
              "      <td>1.0</td>\n",
              "      <td>0.0</td>\n",
              "    </tr>\n",
              "    <tr>\n",
              "      <th>1</th>\n",
              "      <td>2016-01-02 00:00:00</td>\n",
              "      <td>I</td>\n",
              "      <td>Pressurized Systems</td>\n",
              "      <td>During the activation of a sodium sulphide pum...</td>\n",
              "      <td>0.0</td>\n",
              "      <td>1.0</td>\n",
              "      <td>0.0</td>\n",
              "      <td>0.0</td>\n",
              "      <td>1.0</td>\n",
              "      <td>0.0</td>\n",
              "      <td>0.0</td>\n",
              "      <td>0.0</td>\n",
              "      <td>0.0</td>\n",
              "      <td>0.0</td>\n",
              "      <td>0.0</td>\n",
              "      <td>0.0</td>\n",
              "      <td>0.0</td>\n",
              "      <td>0.0</td>\n",
              "      <td>0.0</td>\n",
              "      <td>0.0</td>\n",
              "      <td>1.0</td>\n",
              "      <td>0.0</td>\n",
              "      <td>0.0</td>\n",
              "      <td>0.0</td>\n",
              "      <td>0.0</td>\n",
              "      <td>1.0</td>\n",
              "      <td>0.0</td>\n",
              "      <td>0.0</td>\n",
              "      <td>0.0</td>\n",
              "      <td>1.0</td>\n",
              "      <td>1.0</td>\n",
              "      <td>0.0</td>\n",
              "      <td>0.0</td>\n",
              "    </tr>\n",
              "    <tr>\n",
              "      <th>2</th>\n",
              "      <td>2016-01-06 00:00:00</td>\n",
              "      <td>I</td>\n",
              "      <td>Manual Tools</td>\n",
              "      <td>In the sub-station MILPO located at level +170...</td>\n",
              "      <td>1.0</td>\n",
              "      <td>0.0</td>\n",
              "      <td>0.0</td>\n",
              "      <td>0.0</td>\n",
              "      <td>0.0</td>\n",
              "      <td>1.0</td>\n",
              "      <td>0.0</td>\n",
              "      <td>0.0</td>\n",
              "      <td>0.0</td>\n",
              "      <td>0.0</td>\n",
              "      <td>0.0</td>\n",
              "      <td>0.0</td>\n",
              "      <td>0.0</td>\n",
              "      <td>0.0</td>\n",
              "      <td>0.0</td>\n",
              "      <td>0.0</td>\n",
              "      <td>1.0</td>\n",
              "      <td>0.0</td>\n",
              "      <td>0.0</td>\n",
              "      <td>0.0</td>\n",
              "      <td>1.0</td>\n",
              "      <td>0.0</td>\n",
              "      <td>0.0</td>\n",
              "      <td>0.0</td>\n",
              "      <td>0.0</td>\n",
              "      <td>1.0</td>\n",
              "      <td>0.0</td>\n",
              "      <td>0.0</td>\n",
              "      <td>1.0</td>\n",
              "    </tr>\n",
              "    <tr>\n",
              "      <th>3</th>\n",
              "      <td>2016-01-08 00:00:00</td>\n",
              "      <td>I</td>\n",
              "      <td>Others</td>\n",
              "      <td>Being 9:45 am. approximately in the Nv. 1880 C...</td>\n",
              "      <td>1.0</td>\n",
              "      <td>0.0</td>\n",
              "      <td>0.0</td>\n",
              "      <td>0.0</td>\n",
              "      <td>0.0</td>\n",
              "      <td>0.0</td>\n",
              "      <td>1.0</td>\n",
              "      <td>0.0</td>\n",
              "      <td>0.0</td>\n",
              "      <td>0.0</td>\n",
              "      <td>0.0</td>\n",
              "      <td>0.0</td>\n",
              "      <td>0.0</td>\n",
              "      <td>0.0</td>\n",
              "      <td>0.0</td>\n",
              "      <td>0.0</td>\n",
              "      <td>1.0</td>\n",
              "      <td>0.0</td>\n",
              "      <td>1.0</td>\n",
              "      <td>0.0</td>\n",
              "      <td>0.0</td>\n",
              "      <td>0.0</td>\n",
              "      <td>0.0</td>\n",
              "      <td>0.0</td>\n",
              "      <td>0.0</td>\n",
              "      <td>1.0</td>\n",
              "      <td>0.0</td>\n",
              "      <td>1.0</td>\n",
              "      <td>0.0</td>\n",
              "    </tr>\n",
              "    <tr>\n",
              "      <th>4</th>\n",
              "      <td>2016-01-10 00:00:00</td>\n",
              "      <td>IV</td>\n",
              "      <td>Others</td>\n",
              "      <td>Approximately at 11:45 a.m. in circumstances t...</td>\n",
              "      <td>1.0</td>\n",
              "      <td>0.0</td>\n",
              "      <td>0.0</td>\n",
              "      <td>0.0</td>\n",
              "      <td>0.0</td>\n",
              "      <td>0.0</td>\n",
              "      <td>1.0</td>\n",
              "      <td>0.0</td>\n",
              "      <td>0.0</td>\n",
              "      <td>0.0</td>\n",
              "      <td>0.0</td>\n",
              "      <td>0.0</td>\n",
              "      <td>0.0</td>\n",
              "      <td>0.0</td>\n",
              "      <td>0.0</td>\n",
              "      <td>0.0</td>\n",
              "      <td>1.0</td>\n",
              "      <td>0.0</td>\n",
              "      <td>0.0</td>\n",
              "      <td>0.0</td>\n",
              "      <td>0.0</td>\n",
              "      <td>1.0</td>\n",
              "      <td>0.0</td>\n",
              "      <td>0.0</td>\n",
              "      <td>0.0</td>\n",
              "      <td>1.0</td>\n",
              "      <td>0.0</td>\n",
              "      <td>1.0</td>\n",
              "      <td>0.0</td>\n",
              "    </tr>\n",
              "    <tr>\n",
              "      <th>...</th>\n",
              "      <td>...</td>\n",
              "      <td>...</td>\n",
              "      <td>...</td>\n",
              "      <td>...</td>\n",
              "      <td>...</td>\n",
              "      <td>...</td>\n",
              "      <td>...</td>\n",
              "      <td>...</td>\n",
              "      <td>...</td>\n",
              "      <td>...</td>\n",
              "      <td>...</td>\n",
              "      <td>...</td>\n",
              "      <td>...</td>\n",
              "      <td>...</td>\n",
              "      <td>...</td>\n",
              "      <td>...</td>\n",
              "      <td>...</td>\n",
              "      <td>...</td>\n",
              "      <td>...</td>\n",
              "      <td>...</td>\n",
              "      <td>...</td>\n",
              "      <td>...</td>\n",
              "      <td>...</td>\n",
              "      <td>...</td>\n",
              "      <td>...</td>\n",
              "      <td>...</td>\n",
              "      <td>...</td>\n",
              "      <td>...</td>\n",
              "      <td>...</td>\n",
              "      <td>...</td>\n",
              "      <td>...</td>\n",
              "      <td>...</td>\n",
              "      <td>...</td>\n",
              "    </tr>\n",
              "    <tr>\n",
              "      <th>420</th>\n",
              "      <td>2017-07-04 00:00:00</td>\n",
              "      <td>I</td>\n",
              "      <td>Others</td>\n",
              "      <td>Being approximately 5:00 a.m. approximately, w...</td>\n",
              "      <td>1.0</td>\n",
              "      <td>0.0</td>\n",
              "      <td>0.0</td>\n",
              "      <td>0.0</td>\n",
              "      <td>0.0</td>\n",
              "      <td>0.0</td>\n",
              "      <td>1.0</td>\n",
              "      <td>0.0</td>\n",
              "      <td>0.0</td>\n",
              "      <td>0.0</td>\n",
              "      <td>0.0</td>\n",
              "      <td>0.0</td>\n",
              "      <td>0.0</td>\n",
              "      <td>0.0</td>\n",
              "      <td>0.0</td>\n",
              "      <td>0.0</td>\n",
              "      <td>1.0</td>\n",
              "      <td>0.0</td>\n",
              "      <td>0.0</td>\n",
              "      <td>0.0</td>\n",
              "      <td>1.0</td>\n",
              "      <td>0.0</td>\n",
              "      <td>0.0</td>\n",
              "      <td>0.0</td>\n",
              "      <td>0.0</td>\n",
              "      <td>1.0</td>\n",
              "      <td>0.0</td>\n",
              "      <td>1.0</td>\n",
              "      <td>0.0</td>\n",
              "    </tr>\n",
              "    <tr>\n",
              "      <th>421</th>\n",
              "      <td>2017-07-04 00:00:00</td>\n",
              "      <td>I</td>\n",
              "      <td>Others</td>\n",
              "      <td>The collaborator moved from the infrastructure...</td>\n",
              "      <td>1.0</td>\n",
              "      <td>0.0</td>\n",
              "      <td>0.0</td>\n",
              "      <td>0.0</td>\n",
              "      <td>0.0</td>\n",
              "      <td>1.0</td>\n",
              "      <td>0.0</td>\n",
              "      <td>0.0</td>\n",
              "      <td>0.0</td>\n",
              "      <td>0.0</td>\n",
              "      <td>0.0</td>\n",
              "      <td>0.0</td>\n",
              "      <td>0.0</td>\n",
              "      <td>0.0</td>\n",
              "      <td>0.0</td>\n",
              "      <td>0.0</td>\n",
              "      <td>1.0</td>\n",
              "      <td>0.0</td>\n",
              "      <td>0.0</td>\n",
              "      <td>1.0</td>\n",
              "      <td>0.0</td>\n",
              "      <td>0.0</td>\n",
              "      <td>0.0</td>\n",
              "      <td>0.0</td>\n",
              "      <td>1.0</td>\n",
              "      <td>0.0</td>\n",
              "      <td>1.0</td>\n",
              "      <td>0.0</td>\n",
              "      <td>0.0</td>\n",
              "    </tr>\n",
              "    <tr>\n",
              "      <th>422</th>\n",
              "      <td>2017-07-05 00:00:00</td>\n",
              "      <td>I</td>\n",
              "      <td>Venomous Animals</td>\n",
              "      <td>During the environmental monitoring activity i...</td>\n",
              "      <td>0.0</td>\n",
              "      <td>1.0</td>\n",
              "      <td>0.0</td>\n",
              "      <td>0.0</td>\n",
              "      <td>0.0</td>\n",
              "      <td>0.0</td>\n",
              "      <td>0.0</td>\n",
              "      <td>0.0</td>\n",
              "      <td>0.0</td>\n",
              "      <td>0.0</td>\n",
              "      <td>0.0</td>\n",
              "      <td>1.0</td>\n",
              "      <td>0.0</td>\n",
              "      <td>0.0</td>\n",
              "      <td>0.0</td>\n",
              "      <td>1.0</td>\n",
              "      <td>0.0</td>\n",
              "      <td>0.0</td>\n",
              "      <td>0.0</td>\n",
              "      <td>1.0</td>\n",
              "      <td>0.0</td>\n",
              "      <td>0.0</td>\n",
              "      <td>0.0</td>\n",
              "      <td>0.0</td>\n",
              "      <td>0.0</td>\n",
              "      <td>1.0</td>\n",
              "      <td>1.0</td>\n",
              "      <td>0.0</td>\n",
              "      <td>0.0</td>\n",
              "    </tr>\n",
              "    <tr>\n",
              "      <th>423</th>\n",
              "      <td>2017-07-06 00:00:00</td>\n",
              "      <td>I</td>\n",
              "      <td>Cut</td>\n",
              "      <td>The Employee performed the activity of strippi...</td>\n",
              "      <td>0.0</td>\n",
              "      <td>1.0</td>\n",
              "      <td>0.0</td>\n",
              "      <td>0.0</td>\n",
              "      <td>0.0</td>\n",
              "      <td>0.0</td>\n",
              "      <td>0.0</td>\n",
              "      <td>1.0</td>\n",
              "      <td>0.0</td>\n",
              "      <td>0.0</td>\n",
              "      <td>0.0</td>\n",
              "      <td>0.0</td>\n",
              "      <td>0.0</td>\n",
              "      <td>0.0</td>\n",
              "      <td>0.0</td>\n",
              "      <td>1.0</td>\n",
              "      <td>0.0</td>\n",
              "      <td>0.0</td>\n",
              "      <td>0.0</td>\n",
              "      <td>1.0</td>\n",
              "      <td>0.0</td>\n",
              "      <td>0.0</td>\n",
              "      <td>0.0</td>\n",
              "      <td>0.0</td>\n",
              "      <td>0.0</td>\n",
              "      <td>1.0</td>\n",
              "      <td>1.0</td>\n",
              "      <td>0.0</td>\n",
              "      <td>0.0</td>\n",
              "    </tr>\n",
              "    <tr>\n",
              "      <th>424</th>\n",
              "      <td>2017-07-09 00:00:00</td>\n",
              "      <td>I</td>\n",
              "      <td>Fall prevention (same level)</td>\n",
              "      <td>At 10:00 a.m., when the assistant cleaned the ...</td>\n",
              "      <td>1.0</td>\n",
              "      <td>0.0</td>\n",
              "      <td>0.0</td>\n",
              "      <td>0.0</td>\n",
              "      <td>0.0</td>\n",
              "      <td>0.0</td>\n",
              "      <td>1.0</td>\n",
              "      <td>0.0</td>\n",
              "      <td>0.0</td>\n",
              "      <td>0.0</td>\n",
              "      <td>0.0</td>\n",
              "      <td>0.0</td>\n",
              "      <td>0.0</td>\n",
              "      <td>0.0</td>\n",
              "      <td>0.0</td>\n",
              "      <td>0.0</td>\n",
              "      <td>1.0</td>\n",
              "      <td>0.0</td>\n",
              "      <td>0.0</td>\n",
              "      <td>1.0</td>\n",
              "      <td>0.0</td>\n",
              "      <td>0.0</td>\n",
              "      <td>0.0</td>\n",
              "      <td>0.0</td>\n",
              "      <td>1.0</td>\n",
              "      <td>0.0</td>\n",
              "      <td>0.0</td>\n",
              "      <td>1.0</td>\n",
              "      <td>0.0</td>\n",
              "    </tr>\n",
              "  </tbody>\n",
              "</table>\n",
              "<p>425 rows × 33 columns</p>\n",
              "</div>"
            ],
            "text/plain": [
              "                    Data  ... Employee or Third Party_Third Party (Remote)\n",
              "0    2016-01-01 00:00:00  ...                                          0.0\n",
              "1    2016-01-02 00:00:00  ...                                          0.0\n",
              "2    2016-01-06 00:00:00  ...                                          1.0\n",
              "3    2016-01-08 00:00:00  ...                                          0.0\n",
              "4    2016-01-10 00:00:00  ...                                          0.0\n",
              "..                   ...  ...                                          ...\n",
              "420  2017-07-04 00:00:00  ...                                          0.0\n",
              "421  2017-07-04 00:00:00  ...                                          0.0\n",
              "422  2017-07-05 00:00:00  ...                                          0.0\n",
              "423  2017-07-06 00:00:00  ...                                          0.0\n",
              "424  2017-07-09 00:00:00  ...                                          0.0\n",
              "\n",
              "[425 rows x 33 columns]"
            ]
          },
          "metadata": {
            "tags": []
          },
          "execution_count": 19
        }
      ]
    },
    {
      "cell_type": "code",
      "metadata": {
        "id": "XUqj7vQfRvVB",
        "colab": {
          "base_uri": "https://localhost:8080/"
        },
        "outputId": "586245a1-fabb-4d6e-c14e-afa13be24bd0"
      },
      "source": [
        "encoded_dataframe.columns"
      ],
      "execution_count": null,
      "outputs": [
        {
          "output_type": "execute_result",
          "data": {
            "text/plain": [
              "Index(['Data', 'Accident Level', 'Critical Risk', 'Description',\n",
              "       'Countries_Country_01', 'Countries_Country_02', 'Countries_Country_03',\n",
              "       'Local_Local_01', 'Local_Local_02', 'Local_Local_03', 'Local_Local_04',\n",
              "       'Local_Local_05', 'Local_Local_06', 'Local_Local_07', 'Local_Local_08',\n",
              "       'Local_Local_09', 'Local_Local_10', 'Local_Local_11', 'Local_Local_12',\n",
              "       'Industry Sector_Metals', 'Industry Sector_Mining',\n",
              "       'Industry Sector_Others', 'Potential Accident Level_I',\n",
              "       'Potential Accident Level_II', 'Potential Accident Level_III',\n",
              "       'Potential Accident Level_IV', 'Potential Accident Level_V',\n",
              "       'Potential Accident Level_VI', 'Genre_Female', 'Genre_Male',\n",
              "       'Employee or Third Party_Employee',\n",
              "       'Employee or Third Party_Third Party',\n",
              "       'Employee or Third Party_Third Party (Remote)'],\n",
              "      dtype='object')"
            ]
          },
          "metadata": {
            "tags": []
          },
          "execution_count": 20
        }
      ]
    },
    {
      "cell_type": "code",
      "metadata": {
        "id": "u3qiJBG7RvSR"
      },
      "source": [
        "output_column=encoded_dataframe['Accident Level'].values\r\n",
        "del encoded_dataframe['Accident Level']"
      ],
      "execution_count": null,
      "outputs": []
    },
    {
      "cell_type": "code",
      "metadata": {
        "id": "ViivB5fRAFxx"
      },
      "source": [
        "encoded_dataframe['Merged_Description']= encoded_dataframe['Description']+' '+encoded_dataframe['Critical Risk']"
      ],
      "execution_count": null,
      "outputs": []
    },
    {
      "cell_type": "code",
      "metadata": {
        "id": "ptsiXmGKAWtx",
        "colab": {
          "base_uri": "https://localhost:8080/",
          "height": 72
        },
        "outputId": "fa030348-9ff5-4688-cb3c-43ac393a726f"
      },
      "source": [
        "encoded_dataframe['Merged_Description'][0]"
      ],
      "execution_count": null,
      "outputs": [
        {
          "output_type": "execute_result",
          "data": {
            "application/vnd.google.colaboratory.intrinsic+json": {
              "type": "string"
            },
            "text/plain": [
              "'While removing the drill rod of the Jumbo 08 for maintenance, the supervisor proceeds to loosen the support of the intermediate centralizer to facilitate the removal, seeing this the mechanic supports one end on the drill of the equipment to pull with both hands the bar and accelerate the removal from this, at this moment the bar slides from its point of support and tightens the fingers of the mechanic between the drilling bar and the beam of the jumbo. Pressed'"
            ]
          },
          "metadata": {
            "tags": []
          },
          "execution_count": 23
        }
      ]
    },
    {
      "cell_type": "code",
      "metadata": {
        "id": "nmfEWg2YynFr"
      },
      "source": [
        "stop_words = stopwords.words('english')\r\n",
        "punctuations = list(string.punctuation)\r\n",
        "stop_words += punctuations        "
      ],
      "execution_count": null,
      "outputs": []
    },
    {
      "cell_type": "code",
      "metadata": {
        "id": "B92gAtOrin4o"
      },
      "source": [
        "import re\r\n",
        "def clean_text(text):\r\n",
        "    text = text.lower()\r\n",
        "    \r\n",
        "    pattern = re.compile('http[s]?://(?:[a-zA-Z]|[0-9]|[$-_@.&+]|[!*\\(\\),]|(?:%[0-9a-fA-F][0-9a-fA-F]))+')\r\n",
        "    text = pattern.sub('', text)\r\n",
        "    text = \" \".join(filter(lambda x:x[0]!='@', text.split()))\r\n",
        "    emoji = re.compile(\"[\"\r\n",
        "                           u\"\\U0001F600-\\U0001FFFF\"  # emoticons\r\n",
        "                           u\"\\U0001F300-\\U0001F5FF\"  # symbols & pictographs\r\n",
        "                           u\"\\U0001F680-\\U0001F6FF\"  # transport & map symbols\r\n",
        "                           u\"\\U0001F1E0-\\U0001F1FF\"  # flags (iOS)\r\n",
        "                           u\"\\U00002702-\\U000027B0\"\r\n",
        "                           u\"\\U000024C2-\\U0001F251\"\r\n",
        "                           \"]+\", flags=re.UNICODE)\r\n",
        "    \r\n",
        "    text = emoji.sub(r'', text)\r\n",
        "    text = text.lower()\r\n",
        "    text = re.sub(r\"i'm\", \"i am\", text)\r\n",
        "    text = re.sub(r\"he's\", \"he is\", text)\r\n",
        "    text = re.sub(r\"she's\", \"she is\", text)\r\n",
        "    text = re.sub(r\"that's\", \"that is\", text)        \r\n",
        "    text = re.sub(r\"what's\", \"what is\", text)\r\n",
        "    text = re.sub(r\"where's\", \"where is\", text) \r\n",
        "    text = re.sub(r\"\\'ll\", \" will\", text)  \r\n",
        "    text = re.sub(r\"\\'ve\", \" have\", text)  \r\n",
        "    text = re.sub(r\"\\'re\", \" are\", text)\r\n",
        "    text = re.sub(r\"\\'d\", \" would\", text)\r\n",
        "    text = re.sub(r\"\\'ve\", \" have\", text)\r\n",
        "    text = re.sub(r\"won't\", \"will not\", text)\r\n",
        "    text = re.sub(r\"don't\", \"do not\", text)\r\n",
        "    text = re.sub(r\"did't\", \"did not\", text)\r\n",
        "    text = re.sub(r\"can't\", \"can not\", text)\r\n",
        "    text = re.sub(r\"it's\", \"it is\", text)\r\n",
        "    text = re.sub(r\"couldn't\", \"could not\", text)\r\n",
        "    text = re.sub(r\"have't\", \"have not\", text)\r\n",
        "    text = re.sub(r\"[,.\\\"\\'!@#$%^&*(){}?/;`~:<>+=-]\", \"\", text)\r\n",
        "    return text"
      ],
      "execution_count": null,
      "outputs": []
    },
    {
      "cell_type": "code",
      "metadata": {
        "id": "GTuZfGIw6fbF"
      },
      "source": [
        "words=[]\r\n",
        "max_features=0\r\n",
        "max_len_sentence=0\r\n",
        "for i in range(0,len(encoded_dataframe['Merged_Description'])):\r\n",
        "   words.append(clean_text(\" \".join([w for w in word_tokenize(encoded_dataframe['Merged_Description'][i]) if not w in stop_words])))\r\n",
        "   max_features+=len(word_tokenize(words[i]))\r\n",
        "   max_len_sentence=max(max_len_sentence,len(word_tokenize(words[i])))"
      ],
      "execution_count": null,
      "outputs": []
    },
    {
      "cell_type": "code",
      "metadata": {
        "id": "Poz04fCG6fYK"
      },
      "source": [
        "encoded_dataframe['Clean Words']=words"
      ],
      "execution_count": null,
      "outputs": []
    },
    {
      "cell_type": "code",
      "metadata": {
        "colab": {
          "base_uri": "https://localhost:8080/",
          "height": 54
        },
        "id": "58a5q42_6fVp",
        "outputId": "e1d4842e-ef17-4954-cb5a-262b1beb97ee"
      },
      "source": [
        "encoded_dataframe['Clean Words'][20]"
      ],
      "execution_count": null,
      "outputs": [
        {
          "output_type": "execute_result",
          "data": {
            "application/vnd.google.colaboratory.intrinsic+json": {
              "type": "string"
            },
            "text/plain": [
              "'at 1416 operator samuel open container subsequent loading silver concentrate opened first gate afterwards tries open second door product opening latter first one opens impacts handle safety lens generates injury left cheekbone face operator others'"
            ]
          },
          "metadata": {
            "tags": []
          },
          "execution_count": 28
        }
      ]
    },
    {
      "cell_type": "code",
      "metadata": {
        "colab": {
          "base_uri": "https://localhost:8080/"
        },
        "id": "pgrKo4tz9Sdh",
        "outputId": "fef7441b-b569-46fd-d121-c572dd598ddc"
      },
      "source": [
        "max_features,max_len_sentence"
      ],
      "execution_count": null,
      "outputs": [
        {
          "output_type": "execute_result",
          "data": {
            "text/plain": [
              "(16126, 105)"
            ]
          },
          "metadata": {
            "tags": []
          },
          "execution_count": 29
        }
      ]
    },
    {
      "cell_type": "code",
      "metadata": {
        "id": "StmZSQ1-6fS3"
      },
      "source": [
        "MAX_FEATURES = max_features\r\n",
        "MAX_LEN = max_len_sentence+int(MAX_FEATURES/len(encoded_dataframe))\r\n",
        "EMBEDDING_SIZE = 200"
      ],
      "execution_count": null,
      "outputs": []
    },
    {
      "cell_type": "code",
      "metadata": {
        "id": "sqiuKXDd6fQU"
      },
      "source": [
        "from tensorflow.keras.preprocessing.text import Tokenizer\r\n",
        "tokenizer=Tokenizer(num_words=MAX_FEATURES,oov_token='<OOV>')\r\n",
        "tokenizer.fit_on_texts(encoded_dataframe['Clean Words'])\r\n",
        "tokenized_description=tokenizer.texts_to_sequences(encoded_dataframe['Clean Words'])"
      ],
      "execution_count": null,
      "outputs": []
    },
    {
      "cell_type": "code",
      "metadata": {
        "id": "ZyJSXzfl6fNl",
        "colab": {
          "base_uri": "https://localhost:8080/"
        },
        "outputId": "5a693d15-f900-43c1-c5ba-ad578d853c60"
      },
      "source": [
        "tokenized_description[1]"
      ],
      "execution_count": null,
      "outputs": [
        {
          "output_type": "execute_result",
          "data": {
            "text/plain": [
              "[22,\n",
              " 1793,\n",
              " 1197,\n",
              " 1198,\n",
              " 49,\n",
              " 1794,\n",
              " 1795,\n",
              " 1796,\n",
              " 250,\n",
              " 1797,\n",
              " 15,\n",
              " 524,\n",
              " 628,\n",
              " 116,\n",
              " 61,\n",
              " 107,\n",
              " 525,\n",
              " 1199,\n",
              " 747,\n",
              " 1798,\n",
              " 629,\n",
              " 455,\n",
              " 315,\n",
              " 907,\n",
              " 1198,\n",
              " 250,\n",
              " 1799,\n",
              " 1800,\n",
              " 1801,\n",
              " 316,\n",
              " 317]"
            ]
          },
          "metadata": {
            "tags": []
          },
          "execution_count": 32
        }
      ]
    },
    {
      "cell_type": "code",
      "metadata": {
        "id": "cRiqK67Z6fK5"
      },
      "source": [
        "from tensorflow.keras.preprocessing.sequence import pad_sequences\r\n",
        "padded_tokenized_description = pad_sequences(maxlen=MAX_LEN, sequences=tokenized_description, padding=\"post\", value=1)"
      ],
      "execution_count": null,
      "outputs": []
    },
    {
      "cell_type": "code",
      "metadata": {
        "colab": {
          "base_uri": "https://localhost:8080/"
        },
        "id": "zi4UbmGg-8gL",
        "outputId": "b2857ca8-219f-47be-efc6-a85d9793296d"
      },
      "source": [
        "padded_tokenized_description[1]"
      ],
      "execution_count": null,
      "outputs": [
        {
          "output_type": "execute_result",
          "data": {
            "text/plain": [
              "array([  22, 1793, 1197, 1198,   49, 1794, 1795, 1796,  250, 1797,   15,\n",
              "        524,  628,  116,   61,  107,  525, 1199,  747, 1798,  629,  455,\n",
              "        315,  907, 1198,  250, 1799, 1800, 1801,  316,  317,    1,    1,\n",
              "          1,    1,    1,    1,    1,    1,    1,    1,    1,    1,    1,\n",
              "          1,    1,    1,    1,    1,    1,    1,    1,    1,    1,    1,\n",
              "          1,    1,    1,    1,    1,    1,    1,    1,    1,    1,    1,\n",
              "          1,    1,    1,    1,    1,    1,    1,    1,    1,    1,    1,\n",
              "          1,    1,    1,    1,    1,    1,    1,    1,    1,    1,    1,\n",
              "          1,    1,    1,    1,    1,    1,    1,    1,    1,    1,    1,\n",
              "          1,    1,    1,    1,    1,    1,    1,    1,    1,    1,    1,\n",
              "          1,    1,    1,    1,    1,    1,    1,    1,    1,    1,    1,\n",
              "          1,    1,    1,    1,    1,    1,    1,    1,    1,    1,    1,\n",
              "          1,    1,    1,    1,    1,    1,    1,    1,    1,    1],\n",
              "      dtype=int32)"
            ]
          },
          "metadata": {
            "tags": []
          },
          "execution_count": 34
        }
      ]
    },
    {
      "cell_type": "code",
      "metadata": {
        "id": "wY9Zz0JU6fIF"
      },
      "source": [
        "word_number_mapping=tokenizer.word_index\r\n",
        "number_word_mapping = dict([(value, key) for key, value in word_number_mapping.items()])"
      ],
      "execution_count": null,
      "outputs": []
    },
    {
      "cell_type": "code",
      "metadata": {
        "colab": {
          "base_uri": "https://localhost:8080/"
        },
        "id": "F4BJUSzV6e_r",
        "outputId": "b294a0d9-92bf-45d9-e95e-523cf4e7be9e"
      },
      "source": [
        "num_words = len(tokenizer.word_index) + 1\r\n",
        "print(num_words)"
      ],
      "execution_count": null,
      "outputs": [
        {
          "output_type": "stream",
          "text": [
            "3481\n"
          ],
          "name": "stdout"
        }
      ]
    },
    {
      "cell_type": "code",
      "metadata": {
        "colab": {
          "base_uri": "https://localhost:8080/"
        },
        "id": "PO1vX5je6e85",
        "outputId": "be33de2b-aad4-4229-c146-9b7ad1ddb0dd"
      },
      "source": [
        "import zipfile\r\n",
        "\r\n",
        "path_to_zip_file='/content/drive/MyDrive/glove.6B.zip'\r\n",
        "with zipfile.ZipFile(path_to_zip_file, 'r') as zip_ref:\r\n",
        "    zip_ref.extractall()\r\n",
        "\r\n",
        "def loadGloveModel(File):\r\n",
        "    print(\"Loading Glove Model\")\r\n",
        "    f = open(File,'r')\r\n",
        "    gloveModel = {}\r\n",
        "    for line in f:\r\n",
        "        splitLines = line.split()\r\n",
        "        word = splitLines[0]\r\n",
        "        wordEmbedding = np.array([float(value) for value in splitLines[1:]])\r\n",
        "        gloveModel[word] = wordEmbedding\r\n",
        "    print(len(gloveModel),\" words loaded!\")\r\n",
        "    return gloveModel\r\n",
        "\r\n",
        "# model_50=loadGloveModel('/content/glove.6B.50d.txt')\r\n",
        "# model_100=loadGloveModel('/content/glove.6B.100d.txt')\r\n",
        "model_200=loadGloveModel('/content/glove.6B.200d.txt')\r\n",
        "# model_300=loadGloveModel('/content/glove.6B.300d.txt')"
      ],
      "execution_count": null,
      "outputs": [
        {
          "output_type": "stream",
          "text": [
            "Loading Glove Model\n",
            "400000  words loaded!\n"
          ],
          "name": "stdout"
        }
      ]
    },
    {
      "cell_type": "code",
      "metadata": {
        "id": "NcvGkfl86e6U"
      },
      "source": [
        "# create a weight matrix for words in training docs\r\n",
        "# Using the 200 dimesnsional glove embeddings.....\r\n",
        "\r\n",
        "embedding_matrix = np.zeros((num_words, 200))\r\n",
        "for word, i in tokenizer.word_index.items():\r\n",
        "\tembedding_vector = model_200.get(word)\r\n",
        "\tif embedding_vector is not None:\r\n",
        "\t\tembedding_matrix[i] = embedding_vector"
      ],
      "execution_count": null,
      "outputs": []
    },
    {
      "cell_type": "code",
      "metadata": {
        "id": "Ma94oJH1WE8I"
      },
      "source": [
        "datetime_object=[]\r\n",
        "for i in range(0,len(dataframe)):\r\n",
        "  datetime_object.append(datetime.strptime((dataframe[categorical_columns[0]][i]), '%Y-%m-%d %H:%M:%S'))\r\n",
        "unix_time=[]\r\n",
        "for i in datetime_object:\r\n",
        "  unix_time.append(time.mktime(i.timetuple()))"
      ],
      "execution_count": null,
      "outputs": []
    },
    {
      "cell_type": "code",
      "metadata": {
        "id": "f8McBJzVVpQW"
      },
      "source": [
        "del encoded_dataframe['Critical Risk']\r\n",
        "del encoded_dataframe['Description']\r\n",
        "del encoded_dataframe['Merged_Description']\r\n",
        "del encoded_dataframe['Data']\r\n",
        "del encoded_dataframe['Clean Words']"
      ],
      "execution_count": null,
      "outputs": []
    },
    {
      "cell_type": "code",
      "metadata": {
        "id": "4DW57VYtWPLb"
      },
      "source": [
        "from sklearn.preprocessing import StandardScaler\r\n",
        "scaler = StandardScaler()\r\n",
        "encoded_dataframe['Time']=scaler.fit_transform(np.array(unix_time).reshape(-1,1))"
      ],
      "execution_count": null,
      "outputs": []
    },
    {
      "cell_type": "code",
      "metadata": {
        "colab": {
          "base_uri": "https://localhost:8080/"
        },
        "id": "4LDE9aXCgFNy",
        "outputId": "e97e18e8-7760-4b5e-9490-9531cee671b7"
      },
      "source": [
        "model=Sequential()\r\n",
        "embedding_layer=Embedding(num_words,output_dim=EMBEDDING_SIZE, weights=[embedding_matrix], input_length=MAX_LEN,trainable=False)\r\n",
        "model.add(embedding_layer)\r\n",
        "model.compile('adam','mse')\r\n",
        "model.summary()"
      ],
      "execution_count": null,
      "outputs": [
        {
          "output_type": "stream",
          "text": [
            "Model: \"sequential\"\n",
            "_________________________________________________________________\n",
            "Layer (type)                 Output Shape              Param #   \n",
            "=================================================================\n",
            "embedding (Embedding)        (None, 142, 200)          696200    \n",
            "=================================================================\n",
            "Total params: 696,200\n",
            "Trainable params: 0\n",
            "Non-trainable params: 696,200\n",
            "_________________________________________________________________\n"
          ],
          "name": "stdout"
        }
      ]
    },
    {
      "cell_type": "code",
      "metadata": {
        "id": "ZGndDmVbNWPW"
      },
      "source": [
        "# embedding_parameters=model.predict(padded_tokenized_description)\r\n",
        "# temp_joining=embedding_parameters.reshape(-1,MAX_LEN*EMBEDDING_SIZE)\r\n",
        "# temp_joining=pd.concat([encoded_dataframe,pd.DataFrame(temp_joining)],axis=1)"
      ],
      "execution_count": null,
      "outputs": []
    },
    {
      "cell_type": "code",
      "metadata": {
        "id": "FW6lHuMgIr17"
      },
      "source": [
        "temp_joining=pd.concat([encoded_dataframe,pd.DataFrame(padded_tokenized_description)],axis=1)"
      ],
      "execution_count": null,
      "outputs": []
    },
    {
      "cell_type": "code",
      "metadata": {
        "id": "_E9h9rPvHNAa",
        "colab": {
          "base_uri": "https://localhost:8080/"
        },
        "outputId": "8883640a-9dbc-4a17-e3df-8a6e3963da61"
      },
      "source": [
        "labelencoder_y = LabelEncoder()  \r\n",
        "accident_level_encoded = labelencoder_y.fit_transform(output_column)\r\n",
        "\r\n",
        "from sklearn.model_selection import train_test_split\r\n",
        "x_train,x_test,y_train,y_test=train_test_split(temp_joining,accident_level_encoded)\r\n",
        "x_train.shape,x_test.shape,y_test.shape,y_test.shape"
      ],
      "execution_count": null,
      "outputs": [
        {
          "output_type": "execute_result",
          "data": {
            "text/plain": [
              "((318, 172), (107, 172), (107,), (107,))"
            ]
          },
          "metadata": {
            "tags": []
          },
          "execution_count": 45
        }
      ]
    },
    {
      "cell_type": "code",
      "metadata": {
        "id": "DDiXPeHcRvAC"
      },
      "source": [
        "# sm = SMOTE(random_state=42)\r\n",
        "# X_res, y_res = sm.fit_sample(x_train, y_train)\r\n",
        "# X_res.shape,y_res.shape,x_test.shape,y_test.shape"
      ],
      "execution_count": null,
      "outputs": []
    },
    {
      "cell_type": "code",
      "metadata": {
        "id": "25QCWFJ9AAxE"
      },
      "source": [
        ""
      ],
      "execution_count": null,
      "outputs": []
    },
    {
      "cell_type": "code",
      "metadata": {
        "id": "UbMWq5IcctjH"
      },
      "source": [
        "# range_values=range(0,MAX_LEN*EMBEDDING_SIZE)\r\n",
        "# x_train_description=pd.DataFrame(x_train,columns=range_values)\r\n",
        "# x_test_description=pd.DataFrame(x_test,columns=range_values)\r\n",
        "# x_train_others=pd.DataFrame(x_train,columns=list(set(x_train.columns)-set(range_values)))\r\n",
        "# x_test_others=pd.DataFrame(x_test,columns=list(set(x_test.columns)-set(range_values)))"
      ],
      "execution_count": null,
      "outputs": []
    },
    {
      "cell_type": "code",
      "metadata": {
        "id": "Cu1_5Y0QJHaA"
      },
      "source": [
        "range_values=range(0,MAX_LEN)\r\n",
        "x_train_description=pd.DataFrame(x_train,columns=range_values)\r\n",
        "x_test_description=pd.DataFrame(x_test,columns=range_values)\r\n",
        "x_train_others=pd.DataFrame(x_train,columns=list(set(x_train.columns)-set(range_values)))\r\n",
        "x_test_others=pd.DataFrame(x_test,columns=list(set(x_test.columns)-set(range_values)))"
      ],
      "execution_count": null,
      "outputs": []
    },
    {
      "cell_type": "code",
      "metadata": {
        "id": "Bj_tAzJG6lpW"
      },
      "source": [
        "# range_values=range(0,MAX_LEN)\r\n",
        "# x_res_description=pd.DataFrame(pd.DataFrame(X_res,columns=x_train.columns),columns=range_values)\r\n",
        "# x_test_description=pd.DataFrame(x_test,columns=range_values)\r\n",
        "# x_res_others=pd.DataFrame(pd.DataFrame(X_res,columns=x_train.columns),columns=list(set(pd.DataFrame(X_res,columns=x_train.columns).columns)-set(range_values)))\r\n",
        "# x_test_others=pd.DataFrame(x_test,columns=list(set(x_test.columns)-set(range_values)))"
      ],
      "execution_count": null,
      "outputs": []
    },
    {
      "cell_type": "code",
      "metadata": {
        "id": "TE5qlDXYdpJ-"
      },
      "source": [
        "# x_train_description=np.array(x_train_description).reshape(-1,MAX_LEN,EMBEDDING_SIZE)\r\n",
        "# x_test_description=np.array(x_test_description).reshape(-1,MAX_LEN,EMBEDDING_SIZE)"
      ],
      "execution_count": null,
      "outputs": []
    },
    {
      "cell_type": "code",
      "metadata": {
        "id": "mSvpWJThJR6n"
      },
      "source": [
        "x_train_description=np.array(x_train_description).reshape(-1,MAX_LEN)\r\n",
        "x_test_description=np.array(x_test_description).reshape(-1,MAX_LEN)"
      ],
      "execution_count": null,
      "outputs": []
    },
    {
      "cell_type": "code",
      "metadata": {
        "id": "V3-g1PggAgcp"
      },
      "source": [
        "# x_res_description=np.array(x_res_description).reshape(-1,MAX_LEN)"
      ],
      "execution_count": null,
      "outputs": []
    },
    {
      "cell_type": "code",
      "metadata": {
        "colab": {
          "base_uri": "https://localhost:8080/"
        },
        "id": "RtNs_dDRHaxl",
        "outputId": "0985628f-1130-488f-d61b-c3b4095bbc49"
      },
      "source": [
        "print(x_train.shape,x_test.shape)\r\n",
        "print(x_train_description.shape,x_test_description.shape)\r\n",
        "print(x_train_others.shape,x_test_others.shape)\r\n",
        "print(y_train.shape,y_test.shape)"
      ],
      "execution_count": null,
      "outputs": [
        {
          "output_type": "stream",
          "text": [
            "(318, 172) (107, 172)\n",
            "(318, 142) (107, 142)\n",
            "(318, 30) (107, 30)\n",
            "(318,) (107,)\n"
          ],
          "name": "stdout"
        }
      ]
    },
    {
      "cell_type": "code",
      "metadata": {
        "id": "GLCGrOqpAl85"
      },
      "source": [
        "# print(X_res.shape,x_test.shape)\r\n",
        "# print(x_res_description.shape,x_test_description.shape)\r\n",
        "# print(x_res_others.shape,x_test_others.shape)\r\n",
        "# print(y_res.shape,y_test.shape)"
      ],
      "execution_count": null,
      "outputs": []
    },
    {
      "cell_type": "code",
      "metadata": {
        "id": "hYE_WLv0G0QB"
      },
      "source": [
        "# from sklearn.ensemble import RandomForestClassifier\r\n",
        "\r\n",
        "# def Random_Forest_Classifier(x_train,x_test,y_train,y_test):\r\n",
        "#   rfcl = RandomForestClassifier(n_estimators = 6)\r\n",
        "#   rfcl = rfcl.fit(x_train, y_train)\r\n",
        "#   y_pred=rfcl.predict(x_test)\r\n",
        "#   print(classification_report(y_test,y_pred))\r\n",
        "#   print(confusion_matrix(y_test,y_pred))\r\n",
        "#   print('F1-Score:', f1_score(y_test, y_pred, average='weighted'))"
      ],
      "execution_count": null,
      "outputs": []
    },
    {
      "cell_type": "code",
      "metadata": {
        "id": "qPlA8o2AG09w"
      },
      "source": [
        "# Random_Forest_Classifier(x_train,x_test,y_train,y_test)"
      ],
      "execution_count": null,
      "outputs": []
    },
    {
      "cell_type": "code",
      "metadata": {
        "id": "XinWBMYrIaEw"
      },
      "source": [
        "# Random_Forest_Classifier(X_res,x_test,y_res,y_test)"
      ],
      "execution_count": null,
      "outputs": []
    },
    {
      "cell_type": "code",
      "metadata": {
        "colab": {
          "base_uri": "https://localhost:8080/"
        },
        "id": "hiZvg3IYfTx6",
        "outputId": "0b0a5f74-8bbe-420c-af44-c0f9c0bcd002"
      },
      "source": [
        "print(x_train.shape,x_test.shape)\r\n",
        "print(x_train_description.shape,x_test_description.shape)\r\n",
        "print(x_train_others.shape,x_test_others.shape)\r\n",
        "print(y_train.shape,y_test.shape)"
      ],
      "execution_count": null,
      "outputs": [
        {
          "output_type": "stream",
          "text": [
            "(318, 172) (107, 172)\n",
            "(318, 142) (107, 142)\n",
            "(318, 30) (107, 30)\n",
            "(318,) (107,)\n"
          ],
          "name": "stdout"
        }
      ]
    },
    {
      "cell_type": "code",
      "metadata": {
        "id": "nG2-UgTcAvzu"
      },
      "source": [
        "# print(X_res.shape,x_test.shape)\r\n",
        "# print(x_res_description.shape,x_test_description.shape)\r\n",
        "# print(x_res_others.shape,x_test_others.shape)\r\n",
        "# print(y_res.shape,y_test.shape)"
      ],
      "execution_count": null,
      "outputs": []
    },
    {
      "cell_type": "code",
      "metadata": {
        "id": "4U-bTOyFG0AX"
      },
      "source": [
        "from tensorflow.keras import layers"
      ],
      "execution_count": null,
      "outputs": []
    },
    {
      "cell_type": "code",
      "metadata": {
        "id": "zMRyVRCUfa_d"
      },
      "source": [
        "# Inputs to the Model............\r\n",
        "input_layer_description=Input(shape=(MAX_LEN),name='Description')\r\n",
        "input_layer_others=Input(shape=(x_train_others.shape[1]),name='Others')\r\n",
        "\r\n",
        "# Embedding Layer for Description................\r\n",
        "embedding_layer_description=Embedding(num_words,output_dim=EMBEDDING_SIZE, weights=[embedding_matrix], input_length=MAX_LEN,trainable=False)(input_layer_description)\r\n",
        "\r\n",
        "# LSTM Layers for Description ........\r\n",
        "lstm_layer_1_description=Bidirectional(LSTM(units=200, return_sequences=True, recurrent_dropout=0.5,kernel_initializer='he_normal'))(embedding_layer_description)\r\n",
        "\r\n",
        "lstm_layer_2_description=Bidirectional(LSTM(units=100, return_sequences=True, recurrent_dropout=0.5,kernel_initializer='he_normal'))(lstm_layer_1_description)\r\n",
        "\r\n",
        "\r\n",
        "# Supporting layers for LSTM.........................\r\n",
        "time_distributed_layer_description=TimeDistributed(Dense(100, activation=\"tanh\"))(lstm_layer_2_description)\r\n",
        "flatten_layer_description=Flatten()(time_distributed_layer_description)\r\n",
        "dropout_layer_1_description=Dropout(0.3)(flatten_layer_description)\r\n",
        "\r\n",
        "\r\n",
        "\r\n",
        "# Dense Layers for Description............................\r\n",
        "dense_layer_1_description=Dense(units=1024,activation='relu',use_bias=True)(dropout_layer_1_description)\r\n",
        "batch_normalization_layer_1_description=BatchNormalization()(dense_layer_1_description)\r\n",
        "dropout_layer_2_description=Dropout(0.1)(batch_normalization_layer_1_description)\r\n",
        "\r\n",
        "dense_layer_2_description=Dense(units=512, activation = 'relu')(dropout_layer_2_description)\r\n",
        "batch_normalization_layer_2_description=BatchNormalization()(dense_layer_2_description)\r\n",
        "dropout_layer_3_description=Dropout(0.1)(batch_normalization_layer_2_description)\r\n",
        "\r\n",
        "dense_layer_3_description=(Dense(units=256, activation = 'relu'))(dropout_layer_3_description)\r\n",
        "batch_normalization_layer_3_description=BatchNormalization()(dense_layer_3_description)\r\n",
        "dropout_layer_4_description=Dropout(0.1)(batch_normalization_layer_3_description)\r\n",
        "\r\n",
        "model_1_out=Dense(units=128, activation = 'relu')(dropout_layer_4_description)\r\n",
        "\r\n",
        "# Dense Layer for Others............\r\n",
        "\r\n",
        "dense_layers_1_others = Dense(units=512, activation = 'relu')(input_layer_others)\r\n",
        "batch_normalization_layer_1_others=BatchNormalization()(dense_layers_1_others)\r\n",
        "dropout_layer_1_others=Dropout(0.3)(batch_normalization_layer_1_others)     \r\n",
        "\r\n",
        "dense_layers_2_others=Dense(units=256, activation = 'relu')(dropout_layer_1_others)\r\n",
        "batch_normalization_layer_2_others=BatchNormalization()(dense_layers_2_others)\r\n",
        "dropout_layer_2_others=Dropout(0.3)(batch_normalization_layer_2_others)\r\n",
        "\r\n",
        "model_2_out=Dense(units=128, activation = 'relu')(dropout_layer_2_others)\r\n",
        "\r\n",
        "\r\n",
        "# Concatenating Layers..........\r\n",
        "concatt = layers.concatenate([model_1_out,model_2_out])\r\n",
        "\r\n",
        "\r\n",
        "# Final Layers................\r\n",
        "\r\n",
        "Final_Dense_layer_1=(Dense(units=64, activation = 'relu'))(concatt)\r\n",
        "Final_Batch_normalization_layer_1=BatchNormalization()(Final_Dense_layer_1)\r\n",
        "Final_Batch_dropout_layer_1=Dropout(0.3) (Final_Batch_normalization_layer_1)\r\n",
        "\r\n",
        "Final_Dense_layer_2=(Dense(units=32, activation = 'relu'))(Final_Batch_dropout_layer_1)\r\n",
        "Final_Batch_normalization_layer_2=BatchNormalization()(Final_Dense_layer_2)\r\n",
        "\r\n",
        "Final_Dense_layer_3=(Dense(units=16, activation = 'relu'))(Final_Batch_normalization_layer_2)\r\n",
        "Final_Batch_normalization_layer_3=BatchNormalization()(Final_Dense_layer_3)\r\n",
        "\r\n",
        "Final_Model_out_layer=(Dense(units=5, activation = 'softmax'))(Final_Batch_normalization_layer_3)\r\n",
        "\r\n",
        "# Compiling Model.........................\r\n",
        "\r\n",
        "Final_Model=Model(inputs=[input_layer_description,input_layer_others],outputs=[Final_Model_out_layer])"
      ],
      "execution_count": null,
      "outputs": []
    },
    {
      "cell_type": "code",
      "metadata": {
        "id": "q5nN690ZHLkX",
        "colab": {
          "base_uri": "https://localhost:8080/"
        },
        "outputId": "2ecd6086-9b96-46a6-9433-58e9ecc85afd"
      },
      "source": [
        "Final_Model.summary()"
      ],
      "execution_count": null,
      "outputs": [
        {
          "output_type": "stream",
          "text": [
            "Model: \"model\"\n",
            "__________________________________________________________________________________________________\n",
            "Layer (type)                    Output Shape         Param #     Connected to                     \n",
            "==================================================================================================\n",
            "Description (InputLayer)        [(None, 142)]        0                                            \n",
            "__________________________________________________________________________________________________\n",
            "embedding_1 (Embedding)         (None, 142, 200)     696200      Description[0][0]                \n",
            "__________________________________________________________________________________________________\n",
            "bidirectional (Bidirectional)   (None, 142, 400)     641600      embedding_1[0][0]                \n",
            "__________________________________________________________________________________________________\n",
            "bidirectional_1 (Bidirectional) (None, 142, 200)     400800      bidirectional[0][0]              \n",
            "__________________________________________________________________________________________________\n",
            "time_distributed (TimeDistribut (None, 142, 100)     20100       bidirectional_1[0][0]            \n",
            "__________________________________________________________________________________________________\n",
            "flatten (Flatten)               (None, 14200)        0           time_distributed[0][0]           \n",
            "__________________________________________________________________________________________________\n",
            "dropout (Dropout)               (None, 14200)        0           flatten[0][0]                    \n",
            "__________________________________________________________________________________________________\n",
            "dense_1 (Dense)                 (None, 1024)         14541824    dropout[0][0]                    \n",
            "__________________________________________________________________________________________________\n",
            "batch_normalization (BatchNorma (None, 1024)         4096        dense_1[0][0]                    \n",
            "__________________________________________________________________________________________________\n",
            "dropout_1 (Dropout)             (None, 1024)         0           batch_normalization[0][0]        \n",
            "__________________________________________________________________________________________________\n",
            "Others (InputLayer)             [(None, 30)]         0                                            \n",
            "__________________________________________________________________________________________________\n",
            "dense_2 (Dense)                 (None, 512)          524800      dropout_1[0][0]                  \n",
            "__________________________________________________________________________________________________\n",
            "dense_5 (Dense)                 (None, 512)          15872       Others[0][0]                     \n",
            "__________________________________________________________________________________________________\n",
            "batch_normalization_1 (BatchNor (None, 512)          2048        dense_2[0][0]                    \n",
            "__________________________________________________________________________________________________\n",
            "batch_normalization_3 (BatchNor (None, 512)          2048        dense_5[0][0]                    \n",
            "__________________________________________________________________________________________________\n",
            "dropout_2 (Dropout)             (None, 512)          0           batch_normalization_1[0][0]      \n",
            "__________________________________________________________________________________________________\n",
            "dropout_4 (Dropout)             (None, 512)          0           batch_normalization_3[0][0]      \n",
            "__________________________________________________________________________________________________\n",
            "dense_3 (Dense)                 (None, 256)          131328      dropout_2[0][0]                  \n",
            "__________________________________________________________________________________________________\n",
            "dense_6 (Dense)                 (None, 256)          131328      dropout_4[0][0]                  \n",
            "__________________________________________________________________________________________________\n",
            "batch_normalization_2 (BatchNor (None, 256)          1024        dense_3[0][0]                    \n",
            "__________________________________________________________________________________________________\n",
            "batch_normalization_4 (BatchNor (None, 256)          1024        dense_6[0][0]                    \n",
            "__________________________________________________________________________________________________\n",
            "dropout_3 (Dropout)             (None, 256)          0           batch_normalization_2[0][0]      \n",
            "__________________________________________________________________________________________________\n",
            "dropout_5 (Dropout)             (None, 256)          0           batch_normalization_4[0][0]      \n",
            "__________________________________________________________________________________________________\n",
            "dense_4 (Dense)                 (None, 128)          32896       dropout_3[0][0]                  \n",
            "__________________________________________________________________________________________________\n",
            "dense_7 (Dense)                 (None, 128)          32896       dropout_5[0][0]                  \n",
            "__________________________________________________________________________________________________\n",
            "concatenate (Concatenate)       (None, 256)          0           dense_4[0][0]                    \n",
            "                                                                 dense_7[0][0]                    \n",
            "__________________________________________________________________________________________________\n",
            "dense_8 (Dense)                 (None, 64)           16448       concatenate[0][0]                \n",
            "__________________________________________________________________________________________________\n",
            "batch_normalization_5 (BatchNor (None, 64)           256         dense_8[0][0]                    \n",
            "__________________________________________________________________________________________________\n",
            "dropout_6 (Dropout)             (None, 64)           0           batch_normalization_5[0][0]      \n",
            "__________________________________________________________________________________________________\n",
            "dense_9 (Dense)                 (None, 32)           2080        dropout_6[0][0]                  \n",
            "__________________________________________________________________________________________________\n",
            "batch_normalization_6 (BatchNor (None, 32)           128         dense_9[0][0]                    \n",
            "__________________________________________________________________________________________________\n",
            "dense_10 (Dense)                (None, 16)           528         batch_normalization_6[0][0]      \n",
            "__________________________________________________________________________________________________\n",
            "batch_normalization_7 (BatchNor (None, 16)           64          dense_10[0][0]                   \n",
            "__________________________________________________________________________________________________\n",
            "dense_11 (Dense)                (None, 5)            85          batch_normalization_7[0][0]      \n",
            "==================================================================================================\n",
            "Total params: 17,199,473\n",
            "Trainable params: 16,497,929\n",
            "Non-trainable params: 701,544\n",
            "__________________________________________________________________________________________________\n"
          ],
          "name": "stdout"
        }
      ]
    },
    {
      "cell_type": "code",
      "metadata": {
        "id": "_0onofxhHSSp",
        "colab": {
          "base_uri": "https://localhost:8080/",
          "height": 1000
        },
        "outputId": "7d9b44c3-1275-4cbb-ce88-7faad92c8e5e"
      },
      "source": [
        "keras.utils.plot_model(Final_Model, \"multi_input_and_output_model.png\", show_shapes=True)"
      ],
      "execution_count": null,
      "outputs": [
        {
          "output_type": "execute_result",
          "data": {
            "image/png": "[encoded data removed]",
            "text/plain": [
              "<IPython.core.display.Image object>"
            ]
          },
          "metadata": {
            "tags": []
          },
          "execution_count": 63
        }
      ]
    },
    {
      "cell_type": "code",
      "metadata": {
        "id": "OzivHHtUnO5v"
      },
      "source": [
        "adam = keras.optimizers.Adam(learning_rate=0.001) \r\n",
        "Final_Model.compile(optimizer=adam, loss='sparse_categorical_crossentropy', metrics=['accuracy'])\r\n",
        "\r\n",
        "from tensorflow.keras.callbacks import ModelCheckpoint, EarlyStopping, ReduceLROnPlateau\r\n",
        "\r\n",
        "checkpoint = ModelCheckpoint(\"model-{val_loss:.2f}.h5\", monitor=\"val_loss\", verbose=1, save_best_only=True, save_weights_only=True)\r\n",
        "stop = EarlyStopping(monitor=\"val_loss\", patience=5)\r\n",
        "reduce_lr = ReduceLROnPlateau(monitor=\"val_loss\", factor=0.1, patience=5, min_lr=1e-20, verbose=1)\r\n",
        "callbacks=[checkpoint,reduce_lr]"
      ],
      "execution_count": null,
      "outputs": []
    },
    {
      "cell_type": "code",
      "metadata": {
        "id": "PKNKEym1oKta"
      },
      "source": [
        "# weights={0:1,1:8,2:10,3:11,4:40}"
      ],
      "execution_count": null,
      "outputs": []
    },
    {
      "cell_type": "code",
      "metadata": {
        "id": "ndG9GndNLOhJ"
      },
      "source": [
        "# from keras.models import load_model\r\n",
        "# load_model('/content/model-0.81.h5')"
      ],
      "execution_count": null,
      "outputs": []
    },
    {
      "cell_type": "code",
      "metadata": {
        "colab": {
          "base_uri": "https://localhost:8080/"
        },
        "id": "dbxkB_BSn52P",
        "outputId": "016fa511-91db-461e-80a4-ea9c21b14a21"
      },
      "source": [
        "history_non_smote=Final_Model.fit({'Description':x_train_description,'Others':x_train_others},y_train,\r\n",
        "                validation_data=({'Description':x_test_description,'Others':x_test_others},y_test),\r\n",
        "                batch_size=32,callbacks=callbacks,epochs=50)#,class_weight=weights)"
      ],
      "execution_count": null,
      "outputs": [
        {
          "output_type": "stream",
          "text": [
            "Epoch 1/50\n",
            "10/10 [==============================] - 34s 2s/step - loss: 2.1349 - accuracy: 0.2071 - val_loss: 1.4576 - val_accuracy: 0.6168\n",
            "\n",
            "Epoch 00001: val_loss improved from inf to 1.45762, saving model to model-1.46.h5\n",
            "Epoch 2/50\n",
            "10/10 [==============================] - 22s 2s/step - loss: 1.9075 - accuracy: 0.2712 - val_loss: 1.3920 - val_accuracy: 0.7477\n",
            "\n",
            "Epoch 00002: val_loss improved from 1.45762 to 1.39197, saving model to model-1.39.h5\n",
            "Epoch 3/50\n",
            "10/10 [==============================] - 21s 2s/step - loss: 1.6903 - accuracy: 0.3067 - val_loss: 1.3877 - val_accuracy: 0.6262\n",
            "\n",
            "Epoch 00003: val_loss improved from 1.39197 to 1.38772, saving model to model-1.39.h5\n",
            "Epoch 4/50\n",
            "10/10 [==============================] - 21s 2s/step - loss: 1.6436 - accuracy: 0.3597 - val_loss: 1.5560 - val_accuracy: 0.1776\n",
            "\n",
            "Epoch 00004: val_loss did not improve from 1.38772\n",
            "Epoch 5/50\n",
            "10/10 [==============================] - 22s 2s/step - loss: 1.5035 - accuracy: 0.4320 - val_loss: 1.6992 - val_accuracy: 0.1402\n",
            "\n",
            "Epoch 00005: val_loss did not improve from 1.38772\n",
            "Epoch 6/50\n",
            "10/10 [==============================] - 22s 2s/step - loss: 1.4515 - accuracy: 0.4867 - val_loss: 1.7427 - val_accuracy: 0.1869\n",
            "\n",
            "Epoch 00006: val_loss did not improve from 1.38772\n",
            "Epoch 7/50\n",
            "10/10 [==============================] - 22s 2s/step - loss: 1.3465 - accuracy: 0.5104 - val_loss: 1.8841 - val_accuracy: 0.1402\n",
            "\n",
            "Epoch 00007: val_loss did not improve from 1.38772\n",
            "Epoch 8/50\n",
            "10/10 [==============================] - 22s 2s/step - loss: 1.1483 - accuracy: 0.6465 - val_loss: 1.7231 - val_accuracy: 0.2243\n",
            "\n",
            "Epoch 00008: val_loss did not improve from 1.38772\n",
            "\n",
            "Epoch 00008: ReduceLROnPlateau reducing learning rate to 0.00010000000474974513.\n",
            "Epoch 9/50\n",
            "10/10 [==============================] - 22s 2s/step - loss: 1.1095 - accuracy: 0.6785 - val_loss: 1.7601 - val_accuracy: 0.2056\n",
            "\n",
            "Epoch 00009: val_loss did not improve from 1.38772\n",
            "Epoch 10/50\n",
            "10/10 [==============================] - 22s 2s/step - loss: 1.1690 - accuracy: 0.6079 - val_loss: 1.7791 - val_accuracy: 0.2336\n",
            "\n",
            "Epoch 00010: val_loss did not improve from 1.38772\n",
            "Epoch 11/50\n",
            "10/10 [==============================] - 22s 2s/step - loss: 1.1067 - accuracy: 0.6594 - val_loss: 1.8019 - val_accuracy: 0.2430\n",
            "\n",
            "Epoch 00011: val_loss did not improve from 1.38772\n",
            "Epoch 12/50\n",
            "10/10 [==============================] - 22s 2s/step - loss: 1.0753 - accuracy: 0.7048 - val_loss: 1.8223 - val_accuracy: 0.2617\n",
            "\n",
            "Epoch 00012: val_loss did not improve from 1.38772\n",
            "Epoch 13/50\n",
            "10/10 [==============================] - 21s 2s/step - loss: 1.1320 - accuracy: 0.6669 - val_loss: 1.9167 - val_accuracy: 0.2336\n",
            "\n",
            "Epoch 00013: val_loss did not improve from 1.38772\n",
            "\n",
            "Epoch 00013: ReduceLROnPlateau reducing learning rate to 1.0000000474974514e-05.\n",
            "Epoch 14/50\n",
            "10/10 [==============================] - 22s 2s/step - loss: 1.0695 - accuracy: 0.7114 - val_loss: 1.9209 - val_accuracy: 0.2523\n",
            "\n",
            "Epoch 00014: val_loss did not improve from 1.38772\n",
            "Epoch 15/50\n",
            "10/10 [==============================] - 22s 2s/step - loss: 1.0751 - accuracy: 0.6754 - val_loss: 1.9208 - val_accuracy: 0.2430\n",
            "\n",
            "Epoch 00015: val_loss did not improve from 1.38772\n",
            "Epoch 16/50\n",
            "10/10 [==============================] - 22s 2s/step - loss: 1.0975 - accuracy: 0.6424 - val_loss: 1.9131 - val_accuracy: 0.2617\n",
            "\n",
            "Epoch 00016: val_loss did not improve from 1.38772\n",
            "Epoch 17/50\n",
            "10/10 [==============================] - 21s 2s/step - loss: 1.0156 - accuracy: 0.6794 - val_loss: 1.8888 - val_accuracy: 0.2991\n",
            "\n",
            "Epoch 00017: val_loss did not improve from 1.38772\n",
            "Epoch 18/50\n",
            "10/10 [==============================] - 22s 2s/step - loss: 1.0797 - accuracy: 0.6681 - val_loss: 1.8822 - val_accuracy: 0.3084\n",
            "\n",
            "Epoch 00018: val_loss did not improve from 1.38772\n",
            "\n",
            "Epoch 00018: ReduceLROnPlateau reducing learning rate to 1.0000000656873453e-06.\n",
            "Epoch 19/50\n",
            "10/10 [==============================] - 22s 2s/step - loss: 1.0954 - accuracy: 0.6830 - val_loss: 1.8640 - val_accuracy: 0.3178\n",
            "\n",
            "Epoch 00019: val_loss did not improve from 1.38772\n",
            "Epoch 20/50\n",
            "10/10 [==============================] - 21s 2s/step - loss: 1.0536 - accuracy: 0.7440 - val_loss: 1.8385 - val_accuracy: 0.3178\n",
            "\n",
            "Epoch 00020: val_loss did not improve from 1.38772\n",
            "Epoch 21/50\n",
            "10/10 [==============================] - 22s 2s/step - loss: 1.0112 - accuracy: 0.7240 - val_loss: 1.8168 - val_accuracy: 0.3458\n",
            "\n",
            "Epoch 00021: val_loss did not improve from 1.38772\n",
            "Epoch 22/50\n",
            "10/10 [==============================] - 22s 2s/step - loss: 1.0742 - accuracy: 0.6675 - val_loss: 1.7944 - val_accuracy: 0.3551\n",
            "\n",
            "Epoch 00022: val_loss did not improve from 1.38772\n",
            "Epoch 23/50\n",
            "10/10 [==============================] - 22s 2s/step - loss: 1.0442 - accuracy: 0.6770 - val_loss: 1.7721 - val_accuracy: 0.3551\n",
            "\n",
            "Epoch 00023: val_loss did not improve from 1.38772\n",
            "\n",
            "Epoch 00023: ReduceLROnPlateau reducing learning rate to 1.0000001111620805e-07.\n",
            "Epoch 24/50\n",
            "10/10 [==============================] - 21s 2s/step - loss: 1.0311 - accuracy: 0.7021 - val_loss: 1.7483 - val_accuracy: 0.3832\n",
            "\n",
            "Epoch 00024: val_loss did not improve from 1.38772\n",
            "Epoch 25/50\n",
            "10/10 [==============================] - 22s 2s/step - loss: 1.0918 - accuracy: 0.6567 - val_loss: 1.7378 - val_accuracy: 0.3832\n",
            "\n",
            "Epoch 00025: val_loss did not improve from 1.38772\n",
            "Epoch 26/50\n",
            "10/10 [==============================] - 22s 2s/step - loss: 1.0298 - accuracy: 0.6900 - val_loss: 1.7276 - val_accuracy: 0.3925\n",
            "\n",
            "Epoch 00026: val_loss did not improve from 1.38772\n",
            "Epoch 27/50\n",
            "10/10 [==============================] - 21s 2s/step - loss: 1.0020 - accuracy: 0.7546 - val_loss: 1.7119 - val_accuracy: 0.3925\n",
            "\n",
            "Epoch 00027: val_loss did not improve from 1.38772\n",
            "Epoch 28/50\n",
            "10/10 [==============================] - 22s 2s/step - loss: 1.0230 - accuracy: 0.6900 - val_loss: 1.7051 - val_accuracy: 0.4019\n",
            "\n",
            "Epoch 00028: val_loss did not improve from 1.38772\n",
            "\n",
            "Epoch 00028: ReduceLROnPlateau reducing learning rate to 1.000000082740371e-08.\n",
            "Epoch 29/50\n",
            "10/10 [==============================] - 21s 2s/step - loss: 0.9985 - accuracy: 0.7397 - val_loss: 1.6875 - val_accuracy: 0.4019\n",
            "\n",
            "Epoch 00029: val_loss did not improve from 1.38772\n",
            "Epoch 30/50\n",
            "10/10 [==============================] - 22s 2s/step - loss: 1.0631 - accuracy: 0.6710 - val_loss: 1.6754 - val_accuracy: 0.4112\n",
            "\n",
            "Epoch 00030: val_loss did not improve from 1.38772\n",
            "Epoch 31/50\n",
            "10/10 [==============================] - 22s 2s/step - loss: 1.0480 - accuracy: 0.7300 - val_loss: 1.6535 - val_accuracy: 0.4206\n",
            "\n",
            "Epoch 00031: val_loss did not improve from 1.38772\n",
            "Epoch 32/50\n",
            "10/10 [==============================] - 22s 2s/step - loss: 1.0636 - accuracy: 0.6710 - val_loss: 1.6402 - val_accuracy: 0.4299\n",
            "\n",
            "Epoch 00032: val_loss did not improve from 1.38772\n",
            "Epoch 33/50\n",
            "10/10 [==============================] - 21s 2s/step - loss: 1.0474 - accuracy: 0.6998 - val_loss: 1.6248 - val_accuracy: 0.4486\n",
            "\n",
            "Epoch 00033: val_loss did not improve from 1.38772\n",
            "\n",
            "Epoch 00033: ReduceLROnPlateau reducing learning rate to 1.000000082740371e-09.\n",
            "Epoch 34/50\n",
            "10/10 [==============================] - 21s 2s/step - loss: 1.0355 - accuracy: 0.6920 - val_loss: 1.6101 - val_accuracy: 0.4486\n",
            "\n",
            "Epoch 00034: val_loss did not improve from 1.38772\n",
            "Epoch 35/50\n",
            "10/10 [==============================] - 21s 2s/step - loss: 1.0398 - accuracy: 0.7032 - val_loss: 1.5938 - val_accuracy: 0.4486\n",
            "\n",
            "Epoch 00035: val_loss did not improve from 1.38772\n",
            "Epoch 36/50\n",
            "10/10 [==============================] - 21s 2s/step - loss: 1.0581 - accuracy: 0.7133 - val_loss: 1.5810 - val_accuracy: 0.4579\n",
            "\n",
            "Epoch 00036: val_loss did not improve from 1.38772\n",
            "Epoch 37/50\n",
            "10/10 [==============================] - 22s 2s/step - loss: 1.0985 - accuracy: 0.6734 - val_loss: 1.5658 - val_accuracy: 0.4673\n",
            "\n",
            "Epoch 00037: val_loss did not improve from 1.38772\n",
            "Epoch 38/50\n",
            "10/10 [==============================] - 22s 2s/step - loss: 0.9765 - accuracy: 0.7195 - val_loss: 1.5535 - val_accuracy: 0.4860\n",
            "\n",
            "Epoch 00038: val_loss did not improve from 1.38772\n",
            "\n",
            "Epoch 00038: ReduceLROnPlateau reducing learning rate to 1.000000082740371e-10.\n",
            "Epoch 39/50\n",
            "10/10 [==============================] - 21s 2s/step - loss: 0.9683 - accuracy: 0.7342 - val_loss: 1.5418 - val_accuracy: 0.4860\n",
            "\n",
            "Epoch 00039: val_loss did not improve from 1.38772\n",
            "Epoch 40/50\n",
            "10/10 [==============================] - 22s 2s/step - loss: 1.0499 - accuracy: 0.7055 - val_loss: 1.5255 - val_accuracy: 0.5047\n",
            "\n",
            "Epoch 00040: val_loss did not improve from 1.38772\n",
            "Epoch 41/50\n",
            "10/10 [==============================] - 21s 2s/step - loss: 1.0403 - accuracy: 0.7137 - val_loss: 1.5131 - val_accuracy: 0.5140\n",
            "\n",
            "Epoch 00041: val_loss did not improve from 1.38772\n",
            "Epoch 42/50\n",
            "10/10 [==============================] - 22s 2s/step - loss: 1.0494 - accuracy: 0.6901 - val_loss: 1.4954 - val_accuracy: 0.5327\n",
            "\n",
            "Epoch 00042: val_loss did not improve from 1.38772\n",
            "Epoch 43/50\n",
            "10/10 [==============================] - 22s 2s/step - loss: 1.0142 - accuracy: 0.6829 - val_loss: 1.4829 - val_accuracy: 0.5327\n",
            "\n",
            "Epoch 00043: val_loss did not improve from 1.38772\n",
            "\n",
            "Epoch 00043: ReduceLROnPlateau reducing learning rate to 1.000000082740371e-11.\n",
            "Epoch 44/50\n",
            "10/10 [==============================] - 21s 2s/step - loss: 1.1117 - accuracy: 0.6315 - val_loss: 1.4714 - val_accuracy: 0.5327\n",
            "\n",
            "Epoch 00044: val_loss did not improve from 1.38772\n",
            "Epoch 45/50\n",
            "10/10 [==============================] - 21s 2s/step - loss: 1.0181 - accuracy: 0.7371 - val_loss: 1.4596 - val_accuracy: 0.5327\n",
            "\n",
            "Epoch 00045: val_loss did not improve from 1.38772\n",
            "Epoch 46/50\n",
            "10/10 [==============================] - 22s 2s/step - loss: 1.0107 - accuracy: 0.7600 - val_loss: 1.4500 - val_accuracy: 0.5327\n",
            "\n",
            "Epoch 00046: val_loss did not improve from 1.38772\n",
            "Epoch 47/50\n",
            "10/10 [==============================] - 22s 2s/step - loss: 1.1101 - accuracy: 0.6684 - val_loss: 1.4414 - val_accuracy: 0.5514\n",
            "\n",
            "Epoch 00047: val_loss did not improve from 1.38772\n",
            "Epoch 48/50\n",
            "10/10 [==============================] - 22s 2s/step - loss: 1.0706 - accuracy: 0.6281 - val_loss: 1.4342 - val_accuracy: 0.5701\n",
            "\n",
            "Epoch 00048: val_loss did not improve from 1.38772\n",
            "\n",
            "Epoch 00048: ReduceLROnPlateau reducing learning rate to 1.000000082740371e-12.\n",
            "Epoch 49/50\n",
            "10/10 [==============================] - 22s 2s/step - loss: 1.0402 - accuracy: 0.7157 - val_loss: 1.4259 - val_accuracy: 0.5701\n",
            "\n",
            "Epoch 00049: val_loss did not improve from 1.38772\n",
            "Epoch 50/50\n",
            "10/10 [==============================] - 22s 2s/step - loss: 0.9841 - accuracy: 0.7475 - val_loss: 1.4192 - val_accuracy: 0.5794\n",
            "\n",
            "Epoch 00050: val_loss did not improve from 1.38772\n"
          ],
          "name": "stdout"
        }
      ]
    },
    {
      "cell_type": "code",
      "metadata": {
        "id": "AQEaOT739CNM"
      },
      "source": [
        ""
      ],
      "execution_count": null,
      "outputs": []
    },
    {
      "cell_type": "code",
      "metadata": {
        "id": "0VBgGsvzAy5M"
      },
      "source": [
        "# history_smote=Final_Model.fit({'Description':x_res_description,'Others':x_res_others},y_res,\r\n",
        "#                 validation_data=({'Description':x_test_description,'Others':x_test_others},y_test),\r\n",
        "#                 batch_size=32,epochs=50,callbacks=callbacks,class_weight=weights)"
      ],
      "execution_count": null,
      "outputs": []
    },
    {
      "cell_type": "code",
      "metadata": {
        "colab": {
          "base_uri": "https://localhost:8080/"
        },
        "id": "3q7wd3EoNkis",
        "outputId": "22245e93-ae63-41f1-dc77-5d82c1ee2866"
      },
      "source": [
        "history_non_smote"
      ],
      "execution_count": null,
      "outputs": [
        {
          "output_type": "execute_result",
          "data": {
            "text/plain": [
              "<tensorflow.python.keras.callbacks.History at 0x7f0baa088780>"
            ]
          },
          "metadata": {
            "tags": []
          },
          "execution_count": 69
        }
      ]
    },
    {
      "cell_type": "code",
      "metadata": {
        "colab": {
          "base_uri": "https://localhost:8080/",
          "height": 545
        },
        "id": "2gMavE5FNkbB",
        "outputId": "6176eb11-83f6-412d-96fd-36eb04e4c7ff"
      },
      "source": [
        "acc = history_non_smote.history['accuracy']\r\n",
        "val_acc = history_non_smote.history['val_accuracy']\r\n",
        "loss = history_non_smote.history['loss']\r\n",
        "val_loss = history_non_smote.history['val_loss']\r\n",
        "\r\n",
        "epochs = range(1, len(acc)+1)\r\n",
        "\r\n",
        "plt.plot(epochs, acc, 'g', label='Training accuracy')\r\n",
        "plt.plot(epochs, val_acc, 'r', label='Validation accuracy')\r\n",
        "plt.title('Training and validation accuracy')\r\n",
        "plt.legend()\r\n",
        "\r\n",
        "plt.figure()\r\n",
        "\r\n",
        "plt.plot(epochs, loss, 'g', label='Training loss')\r\n",
        "plt.plot(epochs, val_loss, 'r', label='Validation loss')\r\n",
        "plt.title('Training and validation loss')\r\n",
        "plt.legend()\r\n",
        "\r\n",
        "plt.show()"
      ],
      "execution_count": null,
      "outputs": [
        {
          "output_type": "display_data",
          "data": {
            "image/png": "[encoded data removed]",
            "text/plain": [
              "<Figure size 432x288 with 1 Axes>"
            ]
          },
          "metadata": {
            "tags": [],
            "needs_background": "light"
          }
        },
        {
          "output_type": "display_data",
          "data": {
            "image/png": "[encoded data removed]",
            "text/plain": [
              "<Figure size 432x288 with 1 Axes>"
            ]
          },
          "metadata": {
            "tags": [],
            "needs_background": "light"
          }
        }
      ]
    },
    {
      "cell_type": "code",
      "metadata": {
        "colab": {
          "base_uri": "https://localhost:8080/",
          "height": 545
        },
        "id": "AwTu292RNkYb",
        "outputId": "4869ad15-bab3-4d14-aea7-26082e726966"
      },
      "source": [
        "acc = history_non_smote.history['accuracy']\r\n",
        "val_acc = history_non_smote.history['val_accuracy']\r\n",
        "loss = history_non_smote.history['loss']\r\n",
        "val_loss = history_non_smote.history['val_loss']\r\n",
        "\r\n",
        "epochs = range(1, len(acc)+1)\r\n",
        "\r\n",
        "plt.plot(epochs, acc, 'g', label='Training accuracy')\r\n",
        "plt.plot(epochs, val_acc, 'r', label='Validation accuracy')\r\n",
        "plt.title('Training and validation accuracy')\r\n",
        "plt.legend()\r\n",
        "\r\n",
        "plt.figure()\r\n",
        "\r\n",
        "plt.plot(epochs, loss, 'g', label='Training loss')\r\n",
        "plt.plot(epochs, val_loss, 'r', label='Validation loss')\r\n",
        "plt.title('Training and validation loss')\r\n",
        "plt.legend()\r\n",
        "\r\n",
        "plt.show()"
      ],
      "execution_count": null,
      "outputs": [
        {
          "output_type": "display_data",
          "data": {
            "image/png": "[encoded data removed]",
            "text/plain": [
              "<Figure size 432x288 with 1 Axes>"
            ]
          },
          "metadata": {
            "tags": [],
            "needs_background": "light"
          }
        },
        {
          "output_type": "display_data",
          "data": {
            "image/png": "[encoded data removed]",
            "text/plain": [
              "<Figure size 432x288 with 1 Axes>"
            ]
          },
          "metadata": {
            "tags": [],
            "needs_background": "light"
          }
        }
      ]
    },
    {
      "cell_type": "code",
      "metadata": {
        "id": "rIjFiru3BF1u"
      },
      "source": [
        "y_pred=Final_Model.predict({'Description':x_test_description,'Others':x_test_others})"
      ],
      "execution_count": null,
      "outputs": []
    },
    {
      "cell_type": "code",
      "metadata": {
        "id": "fKKfwGXxCqoV"
      },
      "source": [
        "y_pred_labels=[]\r\n",
        "for i in range(0,len(y_pred)):\r\n",
        "  y_pred_labels.append(list(y_pred[i]).index(max(y_pred[i])))"
      ],
      "execution_count": null,
      "outputs": []
    },
    {
      "cell_type": "code",
      "metadata": {
        "id": "aShTEXgbBob_"
      },
      "source": [
        " from sklearn.metrics import confusion_matrix\r\n",
        " from sklearn.metrics import multilabel_confusion_matrix"
      ],
      "execution_count": null,
      "outputs": []
    },
    {
      "cell_type": "code",
      "metadata": {
        "colab": {
          "base_uri": "https://localhost:8080/"
        },
        "id": "txRwhbQh8-I5",
        "outputId": "cc11caaa-9434-4837-ee13-24bd9f484477"
      },
      "source": [
        "multilabel_confusion_matrix(y_test, y_pred_labels,labels=list(set(accident_level_encoded)))"
      ],
      "execution_count": null,
      "outputs": [
        {
          "output_type": "execute_result",
          "data": {
            "text/plain": [
              "array([[[ 18,   7],\n",
              "        [ 28,  54]],\n",
              "\n",
              "       [[ 78,  18],\n",
              "        [  7,   4]],\n",
              "\n",
              "       [[ 97,   8],\n",
              "        [  2,   0]],\n",
              "\n",
              "       [[ 88,   9],\n",
              "        [  6,   4]],\n",
              "\n",
              "       [[102,   3],\n",
              "        [  2,   0]]])"
            ]
          },
          "metadata": {
            "tags": []
          },
          "execution_count": 101
        }
      ]
    },
    {
      "cell_type": "code",
      "metadata": {
        "id": "aBGjWYCaQk4-"
      },
      "source": [
        "# Final_Model.fit({'Description':x_train_description,'Others':x_train_others},y_train,\r\n",
        "#                 validation_data=({'Description':x_test_description,'Others':x_test_others},y_test),batch_size=32,epochs=50,callbacks=callbacks)"
      ],
      "execution_count": null,
      "outputs": []
    },
    {
      "cell_type": "markdown",
      "metadata": {
        "id": "anWBJICkHAQ1"
      },
      "source": [
        "### Additional Code"
      ]
    },
    {
      "cell_type": "code",
      "metadata": {
        "id": "u90z5UcTJbol"
      },
      "source": [
        "# Code to understand Embedding Layer...............\r\n",
        "\r\n",
        "# padded_tokenized_description[1].shape\r\n",
        "# model.predict(padded_tokenized_description[1].reshape(-1,142))\r\n",
        "# padded_tokenized_description[1]\r\n",
        "# sentence=''\r\n",
        "# for i in padded_tokenized_description[1]:\r\n",
        "#   sentence+=number_word_mapping[i]+' '\r\n",
        "# sentence"
      ],
      "execution_count": null,
      "outputs": []
    },
    {
      "cell_type": "code",
      "metadata": {
        "id": "0l7W0iCBlpnC"
      },
      "source": [
        "# model_2=Sequential()\r\n",
        "# model_2.add(input_layer_others)\r\n",
        "# dense_layers_1_others = Dense(units=512, activation = 'relu')         \r\n",
        "# model_2.add(dense_layers_1_others)              \r\n",
        "# model_2.add(Dense(units=256, activation = 'relu'))\r\n",
        "# model_2_out=Dense(units=128, activation = 'relu')\r\n",
        "# model_2.add(model_2_out)"
      ],
      "execution_count": null,
      "outputs": []
    },
    {
      "cell_type": "code",
      "metadata": {
        "id": "OhNcUnm7BfTP"
      },
      "source": [
        "# model_1=Model(inputs=[input_layer_description],outputs=[model_1_out])"
      ],
      "execution_count": null,
      "outputs": []
    },
    {
      "cell_type": "code",
      "metadata": {
        "id": "xJojYCVhDgNr"
      },
      "source": [
        "# # Inputs to the Model............\r\n",
        "# input_layer_description=Input(shape=(MAX_LEN))\r\n",
        "# input_layer_others=Input(shape=(x_train_others.shape[1]))\r\n",
        "\r\n",
        "# # Embedding Layer Description\r\n",
        "\r\n",
        "# embedding_layer_description=Embedding(num_words,output_dim=EMBEDDING_SIZE, weights=[embedding_matrix], input_length=MAX_LEN,trainable=False)(input_layer_description)\r\n",
        "# model_1.add(embedding_layer_description)\r\n",
        "\r\n",
        "\r\n",
        "# lstm_layer_1_description=Bidirectional(LSTM(units=200, return_sequences=True, recurrent_dropout=0.5,kernel_initializer='he_normal'))\r\n",
        "# model_1.add(lstm_layer_1_description)\r\n",
        "# lstm_layer_2_description=Bidirectional(LSTM(units=100, return_sequences=True, recurrent_dropout=0.5,kernel_initializer='he_normal'))\r\n",
        "# model_1.add(lstm_layer_2_description)\r\n",
        "# time_distributed_layer_description=TimeDistributed(Dense(100, activation=\"tanh\"))\r\n",
        "# model_1.add(time_distributed_layer_description)\r\n",
        "# flatten_layer_description=Flatten()\r\n",
        "# model_1.add(flatten_layer_description)\r\n",
        "# dropout_layer_1_description=Dropout(0.3)\r\n",
        "# model_1.add(dropout_layer_1_description)\r\n",
        "# dense_layer_1_description=Dense(units=1024,activation='relu',use_bias=True)\r\n",
        "# model_1.add(dense_layer_1_description)\r\n",
        "# batch_normalization_description=BatchNormalization()\r\n",
        "# model_1.add(batch_normalization_description)\r\n",
        "# model_1.add(Dense(units=512, activation = 'relu'))\r\n",
        "# model_1.add(BatchNormalization())\r\n",
        "# model_1.add(Dense(units=256, activation = 'relu'))\r\n",
        "# model_1.add(BatchNormalization())\r\n",
        "# model_1_out=Dense(units=128, activation = 'relu')\r\n",
        "# model_1.add(model_1_out)"
      ],
      "execution_count": null,
      "outputs": []
    },
    {
      "cell_type": "code",
      "metadata": {
        "id": "bSOV2cLG_r-v"
      },
      "source": [
        "# from tensorflow.keras.layers import Concatenate\r\n",
        "# concatenate_layer=Concatenate([model_1_out,model_2_out])"
      ],
      "execution_count": null,
      "outputs": []
    },
    {
      "cell_type": "code",
      "metadata": {
        "id": "DcxXjTmDBMg3"
      },
      "source": [
        "# merged_model=Model([model_1])\r\n",
        "# model_2.add(Dense(units=64, activation = 'relu'))\r\n",
        "# model.add(BatchNormalization())\r\n",
        "\r\n",
        "# model_2.add(Dense(units=32, activation = 'relu'))\r\n",
        "# model_2.add(BatchNormalization())\r\n",
        "\r\n",
        "# model_2.add(Dense(units=16, activation = 'relu'))\r\n",
        "# model_2.add(BatchNormalization())\r\n",
        "\r\n",
        "# model_2.add(Dense(units=5, activation = 'softmax'))\r\n",
        "# model_2.add(BatchNormalization())"
      ],
      "execution_count": null,
      "outputs": []
    },
    {
      "cell_type": "code",
      "metadata": {
        "id": "50w76Qmn-yhl"
      },
      "source": [
        ""
      ],
      "execution_count": null,
      "outputs": []
    },
    {
      "cell_type": "code",
      "metadata": {
        "id": "rqCF0Lbwm6se"
      },
      "source": [
        "\r\n",
        "# model.add(Dense(units=128, activation = 'relu'))\r\n",
        "# model.add(BatchNormalization())\r\n",
        "\r\n",
        "# model.add(Dense(units=64, activation = 'relu'))\r\n",
        "# model.add(BatchNormalization())\r\n",
        "\r\n",
        "# model.add(Dense(units=32, activation = 'relu'))\r\n",
        "# model.add(BatchNormalization())\r\n",
        "\r\n",
        "# model.add(Dense(units=16, activation = 'relu'))\r\n",
        "# model.add(BatchNormalization())\r\n",
        "\r\n",
        "# model.add(Dense(units=10, activation = 'softmax'))\r\n",
        "# model.compile(optimizer=adam, loss='sparse_categorical_crossentropy', metrics=['accuracy'])\r\n",
        "# callback = keras.callbacks.EarlyStopping(monitor='val_accuracy', patience=2, min_delta=0.01)"
      ],
      "execution_count": null,
      "outputs": []
    },
    {
      "cell_type": "code",
      "metadata": {
        "id": "xsf8kMsOJDn5"
      },
      "source": [
        "# model=Sequential()\r\n",
        "# # input_layer = Input(shape=(max_len,embedding_size)) # Input layer\r\n",
        "# # model.add(input_layer)\r\n",
        "# embedding_layer=Embedding(num_words,output_dim=EMBEDDING_SIZE, weights=[embedding_matrix], input_length=MAX_LEN,trainable=False)\r\n",
        "# model.add(embedding_layer)\r\n",
        "# # lstm_layer=Bidirectional(LSTM(units=200, return_sequences=True, recurrent_dropout=0.5,kernel_initializer='he_normal'))\r\n",
        "# # model.add(lstm_layer)\r\n",
        "# # lstm_layer=Bidirectional(LSTM(units=100, return_sequences=True, recurrent_dropout=0.5,kernel_initializer='he_normal'))\r\n",
        "# # model.add(lstm_layer)\r\n",
        "# # model.add(TimeDistributed(Dense(100, activation=\"tanh\")))\r\n",
        "# # model.add(Flatten())\r\n",
        "# # model.add(Dropout(0.3))\r\n",
        "# # model.add(Dense(units=1024,activation='relu',use_bias=True))\r\n",
        "# # model.add(BatchNormalization())\r\n",
        "# # model.add(Dropout(0.3))\r\n",
        "# # model.add(Dense(units=256,activation='relu',use_bias=True))\r\n",
        "# # model.add(BatchNormalization())\r\n",
        "# # model.add(Dropout(0.3))\r\n",
        "# # model.add(Dense(units=64,activation='relu',use_bias=True))\r\n",
        "# # model.add(BatchNormalization())\r\n",
        "# # model.add(Dropout(0.3))\r\n",
        "# # output_layer=Dense(units=1,activation='sigmoid',use_bias=True)\r\n",
        "# # model.add(output_layer)"
      ],
      "execution_count": null,
      "outputs": []
    },
    {
      "cell_type": "code",
      "metadata": {
        "id": "LBSnQBm6KNgC"
      },
      "source": [
        ""
      ],
      "execution_count": null,
      "outputs": []
    }
  ]
}