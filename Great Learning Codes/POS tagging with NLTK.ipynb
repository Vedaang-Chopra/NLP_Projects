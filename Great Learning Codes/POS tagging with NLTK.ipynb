{
 "cells": [
  {
   "cell_type": "markdown",
   "metadata": {},
   "source": [
    "Proprietary content. ©Great Learning. All Rights Reserved. Unauthorized use or distribution prohibited"
   ]
  },
  {
   "cell_type": "code",
   "execution_count": 2,
   "metadata": {
    "colab": {
     "base_uri": "https://localhost:8080/",
     "height": 174
    },
    "colab_type": "code",
    "executionInfo": {
     "elapsed": 2134,
     "status": "ok",
     "timestamp": 1581773948216,
     "user": {
      "displayName": "Sarbind Gupta",
      "photoUrl": "https://lh3.googleusercontent.com/a-/AAuE7mCX_PdUc-oYjLw3bTTsusGGiLA4h-CJUT94gBbkRw=s64",
      "userId": "14604457747665098998"
     },
     "user_tz": -330
    },
    "id": "3keU0BXMJU4w",
    "outputId": "8aee139d-09da-44a9-b908-06a3892b33b1"
   },
   "outputs": [
    {
     "name": "stdout",
     "output_type": "stream",
     "text": [
      "[nltk_data] Downloading package brown to /root/nltk_data...\n",
      "[nltk_data]   Package brown is already up-to-date!\n",
      "[nltk_data] Downloading package averaged_perceptron_tagger to\n",
      "[nltk_data]     /root/nltk_data...\n",
      "[nltk_data]   Package averaged_perceptron_tagger is already up-to-\n",
      "[nltk_data]       date!\n",
      "[nltk_data] Downloading package punkt to /root/nltk_data...\n",
      "[nltk_data]   Package punkt is already up-to-date!\n"
     ]
    },
    {
     "data": {
      "text/plain": [
       "True"
      ]
     },
     "execution_count": 2,
     "metadata": {
      "tags": []
     },
     "output_type": "execute_result"
    }
   ],
   "source": [
    "import nltk\n",
    "nltk.download('brown') # download the corous\n",
    "nltk.download('averaged_perceptron_tagger') # Download the tagger\n",
    "nltk.download('punkt') # download the tokenizer"
   ]
  },
  {
   "cell_type": "code",
   "execution_count": 0,
   "metadata": {
    "colab": {},
    "colab_type": "code",
    "id": "MmITNZLOJU41"
   },
   "outputs": [],
   "source": [
    "text = nltk.word_tokenize(\"Walking is good for health.\") # Let us tokenize a sentence"
   ]
  },
  {
   "cell_type": "code",
   "execution_count": 8,
   "metadata": {
    "colab": {
     "base_uri": "https://localhost:8080/",
     "height": 122
    },
    "colab_type": "code",
    "executionInfo": {
     "elapsed": 936,
     "status": "ok",
     "timestamp": 1581774091312,
     "user": {
      "displayName": "Sarbind Gupta",
      "photoUrl": "https://lh3.googleusercontent.com/a-/AAuE7mCX_PdUc-oYjLw3bTTsusGGiLA4h-CJUT94gBbkRw=s64",
      "userId": "14604457747665098998"
     },
     "user_tz": -330
    },
    "id": "F_Gtm6AFJU44",
    "outputId": "f78afdab-0a69-4c58-82b5-904b17b1004d"
   },
   "outputs": [
    {
     "data": {
      "text/plain": [
       "[('Walking', 'NN'),\n",
       " ('is', 'VBZ'),\n",
       " ('good', 'JJ'),\n",
       " ('for', 'IN'),\n",
       " ('health', 'NN'),\n",
       " ('.', '.')]"
      ]
     },
     "execution_count": 8,
     "metadata": {
      "tags": []
     },
     "output_type": "execute_result"
    }
   ],
   "source": [
    "nltk.pos_tag(text) # Let us see its POS"
   ]
  },
  {
   "cell_type": "code",
   "execution_count": 0,
   "metadata": {
    "colab": {},
    "colab_type": "code",
    "id": "yR7_WFyRJU46"
   },
   "outputs": [],
   "source": [
    "text = nltk.Text(word.lower() for word in nltk.corpus.brown.words()) # Make lower case"
   ]
  },
  {
   "cell_type": "code",
   "execution_count": 10,
   "metadata": {
    "colab": {
     "base_uri": "https://localhost:8080/",
     "height": 52
    },
    "colab_type": "code",
    "executionInfo": {
     "elapsed": 11214,
     "status": "ok",
     "timestamp": 1581774151176,
     "user": {
      "displayName": "Sarbind Gupta",
      "photoUrl": "https://lh3.googleusercontent.com/a-/AAuE7mCX_PdUc-oYjLw3bTTsusGGiLA4h-CJUT94gBbkRw=s64",
      "userId": "14604457747665098998"
     },
     "user_tz": -330
    },
    "id": "Y5g8iwRsJU49",
    "outputId": "a899f3f7-1975-4b56-eb6c-9668cbee29b1"
   },
   "outputs": [
    {
     "name": "stdout",
     "output_type": "stream",
     "text": [
      "man other time house trial way place doctor world car city state one\n",
      "past children case family government south situation\n"
     ]
    }
   ],
   "source": [
    "text.similar('kid') # Should be nouns like people"
   ]
  },
  {
   "cell_type": "code",
   "execution_count": 11,
   "metadata": {
    "colab": {
     "base_uri": "https://localhost:8080/",
     "height": 52
    },
    "colab_type": "code",
    "executionInfo": {
     "elapsed": 1233,
     "status": "ok",
     "timestamp": 1581774166842,
     "user": {
      "displayName": "Sarbind Gupta",
      "photoUrl": "https://lh3.googleusercontent.com/a-/AAuE7mCX_PdUc-oYjLw3bTTsusGGiLA4h-CJUT94gBbkRw=s64",
      "userId": "14604457747665098998"
     },
     "user_tz": -330
    },
    "id": "i21ykmpOJU4_",
    "outputId": "fc6890bc-c7c3-41fc-8ece-91ff4c613a9d"
   },
   "outputs": [
    {
     "name": "stdout",
     "output_type": "stream",
     "text": [
      "get be do in see work go have take make put and find time look day say\n",
      "use come show\n"
     ]
    }
   ],
   "source": [
    "text.similar('run') # Should be verbs like 'walk'"
   ]
  },
  {
   "cell_type": "code",
   "execution_count": 12,
   "metadata": {
    "colab": {
     "base_uri": "https://localhost:8080/",
     "height": 52
    },
    "colab_type": "code",
    "executionInfo": {
     "elapsed": 953,
     "status": "ok",
     "timestamp": 1581774181620,
     "user": {
      "displayName": "Sarbind Gupta",
      "photoUrl": "https://lh3.googleusercontent.com/a-/AAuE7mCX_PdUc-oYjLw3bTTsusGGiLA4h-CJUT94gBbkRw=s64",
      "userId": "14604457747665098998"
     },
     "user_tz": -330
    },
    "id": "A3_14niyJU5C",
    "outputId": "d0bacf8a-1217-4ec9-cfa9-b38e2ba88a27"
   },
   "outputs": [
    {
     "name": "stdout",
     "output_type": "stream",
     "text": [
      "in of to and for at with from by as that is into but when was over\n",
      "about all through\n"
     ]
    }
   ],
   "source": [
    "text.similar('on') # Should be prepositions"
   ]
  },
  {
   "cell_type": "code",
   "execution_count": 13,
   "metadata": {
    "colab": {
     "base_uri": "https://localhost:8080/",
     "height": 34
    },
    "colab_type": "code",
    "executionInfo": {
     "elapsed": 951,
     "status": "ok",
     "timestamp": 1581774187991,
     "user": {
      "displayName": "Sarbind Gupta",
      "photoUrl": "https://lh3.googleusercontent.com/a-/AAuE7mCX_PdUc-oYjLw3bTTsusGGiLA4h-CJUT94gBbkRw=s64",
      "userId": "14604457747665098998"
     },
     "user_tz": -330
    },
    "id": "EG6VIc9lJU5E",
    "outputId": "d8976a37-c44a-4027-f53f-60a6e8438af6"
   },
   "outputs": [
    {
     "name": "stdout",
     "output_type": "stream",
     "text": [
      "and available second wonderful glass moment window formidable wicked\n"
     ]
    }
   ],
   "source": [
    "text.similar('cricket') # Should be either games or insects"
   ]
  },
  {
   "cell_type": "code",
   "execution_count": 14,
   "metadata": {
    "colab": {
     "base_uri": "https://localhost:8080/",
     "height": 34
    },
    "colab_type": "code",
    "executionInfo": {
     "elapsed": 939,
     "status": "ok",
     "timestamp": 1581774214906,
     "user": {
      "displayName": "Sarbind Gupta",
      "photoUrl": "https://lh3.googleusercontent.com/a-/AAuE7mCX_PdUc-oYjLw3bTTsusGGiLA4h-CJUT94gBbkRw=s64",
      "userId": "14604457747665098998"
     },
     "user_tz": -330
    },
    "id": "V7biePdCJU5J",
    "outputId": "4d5483d7-b654-43d5-d067-1bfc2f023a3c"
   },
   "outputs": [
    {
     "data": {
      "text/plain": [
       "[('cricket', 'NN')]"
      ]
     },
     "execution_count": 14,
     "metadata": {
      "tags": []
     },
     "output_type": "execute_result"
    }
   ],
   "source": [
    "nltk.pos_tag(nltk.word_tokenize('cricket')) # Should be noun"
   ]
  },
  {
   "cell_type": "code",
   "execution_count": 15,
   "metadata": {
    "colab": {
     "base_uri": "https://localhost:8080/",
     "height": 34
    },
    "colab_type": "code",
    "executionInfo": {
     "elapsed": 943,
     "status": "ok",
     "timestamp": 1581774244413,
     "user": {
      "displayName": "Sarbind Gupta",
      "photoUrl": "https://lh3.googleusercontent.com/a-/AAuE7mCX_PdUc-oYjLw3bTTsusGGiLA4h-CJUT94gBbkRw=s64",
      "userId": "14604457747665098998"
     },
     "user_tz": -330
    },
    "id": "4y0wvt0ZJU5M",
    "outputId": "f22ff485-27a0-4f61-9223-1e12508b7c57"
   },
   "outputs": [
    {
     "data": {
      "text/plain": [
       "[('Do', 'VBP'), ('you', 'PRP'), ('want', 'VB'), ('to', 'TO'), ('jump', 'VB')]"
      ]
     },
     "execution_count": 15,
     "metadata": {
      "tags": []
     },
     "output_type": "execute_result"
    }
   ],
   "source": [
    "nltk.pos_tag(nltk.word_tokenize(\"Do you want to jump\")) # Let us see if 'jump' is verb"
   ]
  },
  {
   "cell_type": "code",
   "execution_count": 16,
   "metadata": {
    "colab": {
     "base_uri": "https://localhost:8080/",
     "height": 34
    },
    "colab_type": "code",
    "executionInfo": {
     "elapsed": 958,
     "status": "ok",
     "timestamp": 1581774249639,
     "user": {
      "displayName": "Sarbind Gupta",
      "photoUrl": "https://lh3.googleusercontent.com/a-/AAuE7mCX_PdUc-oYjLw3bTTsusGGiLA4h-CJUT94gBbkRw=s64",
      "userId": "14604457747665098998"
     },
     "user_tz": -330
    },
    "id": "4cJ7JRmkJU5O",
    "outputId": "bbc53a7c-e0ce-4a6c-c364-cff78b95834b"
   },
   "outputs": [
    {
     "data": {
      "text/plain": [
       "[('That', 'DT'), ('was', 'VBD'), ('a', 'DT'), ('nice', 'JJ'), ('jump', 'NN')]"
      ]
     },
     "execution_count": 16,
     "metadata": {
      "tags": []
     },
     "output_type": "execute_result"
    }
   ],
   "source": [
    "nltk.pos_tag(nltk.word_tokenize(\"That was a nice jump\")) # Let us see if 'jump' is now noun"
   ]
  },
  {
   "cell_type": "code",
   "execution_count": 0,
   "metadata": {
    "colab": {},
    "colab_type": "code",
    "id": "4YmdQU3NBe7W"
   },
   "outputs": [],
   "source": []
  }
 ],
 "metadata": {
  "accelerator": "TPU",
  "colab": {
   "collapsed_sections": [],
   "name": "POS tagging with NLTK.ipynb",
   "provenance": []
  },
  "kernelspec": {
   "display_name": "Python 3",
   "language": "python",
   "name": "python3"
  },
  "language_info": {
   "codemirror_mode": {
    "name": "ipython",
    "version": 3
   },
   "file_extension": ".py",
   "mimetype": "text/x-python",
   "name": "python",
   "nbconvert_exporter": "python",
   "pygments_lexer": "ipython3",
   "version": "3.7.1"
  }
 },
 "nbformat": 4,
 "nbformat_minor": 1
}
