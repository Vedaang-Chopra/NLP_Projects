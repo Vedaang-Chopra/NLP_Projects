{
 "cells": [
  {
   "cell_type": "code",
   "execution_count": 1,
   "metadata": {
    "colab": {
     "base_uri": "https://localhost:8080/"
    },
    "id": "NkCeDpL0Rl04",
    "outputId": "df648442-4f19-4112-c7c6-efd0ed643d9b"
   },
   "outputs": [
    {
     "name": "stdout",
     "output_type": "stream",
     "text": [
      "/usr/lib/python3.6/runpy.py:125: RuntimeWarning: 'nltk.downloader' found in sys.modules after import of package 'nltk', but prior to execution of 'nltk.downloader'; this may result in unpredictable behaviour\n",
      "  warn(RuntimeWarning(msg))\n",
      "[nltk_data] Downloading collection 'all'\n",
      "[nltk_data]    | \n",
      "[nltk_data]    | Downloading package abc to /root/nltk_data...\n",
      "[nltk_data]    |   Package abc is already up-to-date!\n",
      "[nltk_data]    | Downloading package alpino to /root/nltk_data...\n",
      "[nltk_data]    |   Package alpino is already up-to-date!\n",
      "[nltk_data]    | Downloading package biocreative_ppi to\n",
      "[nltk_data]    |     /root/nltk_data...\n",
      "[nltk_data]    |   Package biocreative_ppi is already up-to-date!\n",
      "[nltk_data]    | Downloading package brown to /root/nltk_data...\n",
      "[nltk_data]    |   Package brown is already up-to-date!\n",
      "[nltk_data]    | Downloading package brown_tei to /root/nltk_data...\n",
      "[nltk_data]    |   Package brown_tei is already up-to-date!\n",
      "[nltk_data]    | Downloading package cess_cat to /root/nltk_data...\n",
      "[nltk_data]    |   Package cess_cat is already up-to-date!\n",
      "[nltk_data]    | Downloading package cess_esp to /root/nltk_data...\n",
      "[nltk_data]    |   Package cess_esp is already up-to-date!\n",
      "[nltk_data]    | Downloading package chat80 to /root/nltk_data...\n",
      "[nltk_data]    |   Package chat80 is already up-to-date!\n",
      "[nltk_data]    | Downloading package city_database to\n",
      "[nltk_data]    |     /root/nltk_data...\n",
      "[nltk_data]    |   Package city_database is already up-to-date!\n",
      "[nltk_data]    | Downloading package cmudict to /root/nltk_data...\n",
      "[nltk_data]    |   Package cmudict is already up-to-date!\n",
      "[nltk_data]    | Downloading package comparative_sentences to\n",
      "[nltk_data]    |     /root/nltk_data...\n",
      "[nltk_data]    |   Package comparative_sentences is already up-to-\n",
      "[nltk_data]    |       date!\n",
      "[nltk_data]    | Downloading package comtrans to /root/nltk_data...\n",
      "[nltk_data]    |   Package comtrans is already up-to-date!\n",
      "[nltk_data]    | Downloading package conll2000 to /root/nltk_data...\n",
      "[nltk_data]    |   Package conll2000 is already up-to-date!\n",
      "[nltk_data]    | Downloading package conll2002 to /root/nltk_data...\n",
      "[nltk_data]    |   Package conll2002 is already up-to-date!\n",
      "[nltk_data]    | Downloading package conll2007 to /root/nltk_data...\n",
      "[nltk_data]    |   Package conll2007 is already up-to-date!\n",
      "[nltk_data]    | Downloading package crubadan to /root/nltk_data...\n",
      "[nltk_data]    |   Package crubadan is already up-to-date!\n",
      "[nltk_data]    | Downloading package dependency_treebank to\n",
      "[nltk_data]    |     /root/nltk_data...\n",
      "[nltk_data]    |   Package dependency_treebank is already up-to-date!\n",
      "[nltk_data]    | Downloading package dolch to /root/nltk_data...\n",
      "[nltk_data]    |   Package dolch is already up-to-date!\n",
      "[nltk_data]    | Downloading package europarl_raw to\n",
      "[nltk_data]    |     /root/nltk_data...\n",
      "[nltk_data]    |   Package europarl_raw is already up-to-date!\n",
      "[nltk_data]    | Downloading package floresta to /root/nltk_data...\n",
      "[nltk_data]    |   Package floresta is already up-to-date!\n",
      "[nltk_data]    | Downloading package framenet_v15 to\n",
      "[nltk_data]    |     /root/nltk_data...\n",
      "[nltk_data]    |   Package framenet_v15 is already up-to-date!\n",
      "[nltk_data]    | Downloading package framenet_v17 to\n",
      "[nltk_data]    |     /root/nltk_data...\n",
      "[nltk_data]    |   Package framenet_v17 is already up-to-date!\n",
      "[nltk_data]    | Downloading package gazetteers to /root/nltk_data...\n",
      "[nltk_data]    |   Package gazetteers is already up-to-date!\n",
      "[nltk_data]    | Downloading package genesis to /root/nltk_data...\n",
      "[nltk_data]    |   Package genesis is already up-to-date!\n",
      "[nltk_data]    | Downloading package gutenberg to /root/nltk_data...\n",
      "[nltk_data]    |   Package gutenberg is already up-to-date!\n",
      "[nltk_data]    | Downloading package ieer to /root/nltk_data...\n",
      "[nltk_data]    |   Package ieer is already up-to-date!\n",
      "[nltk_data]    | Downloading package inaugural to /root/nltk_data...\n",
      "[nltk_data]    |   Package inaugural is already up-to-date!\n",
      "[nltk_data]    | Downloading package indian to /root/nltk_data...\n",
      "[nltk_data]    |   Package indian is already up-to-date!\n",
      "[nltk_data]    | Downloading package jeita to /root/nltk_data...\n",
      "[nltk_data]    |   Package jeita is already up-to-date!\n",
      "[nltk_data]    | Downloading package kimmo to /root/nltk_data...\n",
      "[nltk_data]    |   Package kimmo is already up-to-date!\n",
      "[nltk_data]    | Downloading package knbc to /root/nltk_data...\n",
      "[nltk_data]    |   Package knbc is already up-to-date!\n",
      "[nltk_data]    | Downloading package lin_thesaurus to\n",
      "[nltk_data]    |     /root/nltk_data...\n",
      "[nltk_data]    |   Package lin_thesaurus is already up-to-date!\n",
      "[nltk_data]    | Downloading package mac_morpho to /root/nltk_data...\n",
      "[nltk_data]    |   Package mac_morpho is already up-to-date!\n",
      "[nltk_data]    | Downloading package machado to /root/nltk_data...\n",
      "[nltk_data]    |   Package machado is already up-to-date!\n",
      "[nltk_data]    | Downloading package masc_tagged to /root/nltk_data...\n",
      "[nltk_data]    |   Package masc_tagged is already up-to-date!\n",
      "[nltk_data]    | Downloading package moses_sample to\n",
      "[nltk_data]    |     /root/nltk_data...\n",
      "[nltk_data]    |   Package moses_sample is already up-to-date!\n",
      "[nltk_data]    | Downloading package movie_reviews to\n",
      "[nltk_data]    |     /root/nltk_data...\n",
      "[nltk_data]    |   Package movie_reviews is already up-to-date!\n",
      "[nltk_data]    | Downloading package names to /root/nltk_data...\n",
      "[nltk_data]    |   Package names is already up-to-date!\n",
      "[nltk_data]    | Downloading package nombank.1.0 to /root/nltk_data...\n",
      "[nltk_data]    |   Package nombank.1.0 is already up-to-date!\n",
      "[nltk_data]    | Downloading package nps_chat to /root/nltk_data...\n",
      "[nltk_data]    |   Package nps_chat is already up-to-date!\n",
      "[nltk_data]    | Downloading package omw to /root/nltk_data...\n",
      "[nltk_data]    |   Package omw is already up-to-date!\n",
      "[nltk_data]    | Downloading package opinion_lexicon to\n",
      "[nltk_data]    |     /root/nltk_data...\n",
      "[nltk_data]    |   Package opinion_lexicon is already up-to-date!\n",
      "[nltk_data]    | Downloading package paradigms to /root/nltk_data...\n",
      "[nltk_data]    |   Package paradigms is already up-to-date!\n",
      "[nltk_data]    | Downloading package pil to /root/nltk_data...\n",
      "[nltk_data]    |   Package pil is already up-to-date!\n",
      "[nltk_data]    | Downloading package pl196x to /root/nltk_data...\n",
      "[nltk_data]    |   Package pl196x is already up-to-date!\n",
      "[nltk_data]    | Downloading package ppattach to /root/nltk_data...\n",
      "[nltk_data]    |   Package ppattach is already up-to-date!\n",
      "[nltk_data]    | Downloading package problem_reports to\n",
      "[nltk_data]    |     /root/nltk_data...\n",
      "[nltk_data]    |   Package problem_reports is already up-to-date!\n",
      "[nltk_data]    | Downloading package propbank to /root/nltk_data...\n",
      "[nltk_data]    |   Package propbank is already up-to-date!\n",
      "[nltk_data]    | Downloading package ptb to /root/nltk_data...\n",
      "[nltk_data]    |   Package ptb is already up-to-date!\n",
      "[nltk_data]    | Downloading package product_reviews_1 to\n",
      "[nltk_data]    |     /root/nltk_data...\n",
      "[nltk_data]    |   Package product_reviews_1 is already up-to-date!\n",
      "[nltk_data]    | Downloading package product_reviews_2 to\n",
      "[nltk_data]    |     /root/nltk_data...\n",
      "[nltk_data]    |   Package product_reviews_2 is already up-to-date!\n",
      "[nltk_data]    | Downloading package pros_cons to /root/nltk_data...\n",
      "[nltk_data]    |   Package pros_cons is already up-to-date!\n",
      "[nltk_data]    | Downloading package qc to /root/nltk_data...\n",
      "[nltk_data]    |   Package qc is already up-to-date!\n",
      "[nltk_data]    | Downloading package reuters to /root/nltk_data...\n",
      "[nltk_data]    |   Package reuters is already up-to-date!\n",
      "[nltk_data]    | Downloading package rte to /root/nltk_data...\n",
      "[nltk_data]    |   Package rte is already up-to-date!\n",
      "[nltk_data]    | Downloading package semcor to /root/nltk_data...\n",
      "[nltk_data]    |   Package semcor is already up-to-date!\n",
      "[nltk_data]    | Downloading package senseval to /root/nltk_data...\n",
      "[nltk_data]    |   Package senseval is already up-to-date!\n",
      "[nltk_data]    | Downloading package sentiwordnet to\n",
      "[nltk_data]    |     /root/nltk_data...\n",
      "[nltk_data]    |   Package sentiwordnet is already up-to-date!\n",
      "[nltk_data]    | Downloading package sentence_polarity to\n",
      "[nltk_data]    |     /root/nltk_data...\n",
      "[nltk_data]    |   Package sentence_polarity is already up-to-date!\n",
      "[nltk_data]    | Downloading package shakespeare to /root/nltk_data...\n",
      "[nltk_data]    |   Package shakespeare is already up-to-date!\n",
      "[nltk_data]    | Downloading package sinica_treebank to\n",
      "[nltk_data]    |     /root/nltk_data...\n",
      "[nltk_data]    |   Package sinica_treebank is already up-to-date!\n",
      "[nltk_data]    | Downloading package smultron to /root/nltk_data...\n",
      "[nltk_data]    |   Package smultron is already up-to-date!\n",
      "[nltk_data]    | Downloading package state_union to /root/nltk_data...\n",
      "[nltk_data]    |   Package state_union is already up-to-date!\n",
      "[nltk_data]    | Downloading package stopwords to /root/nltk_data...\n",
      "[nltk_data]    |   Package stopwords is already up-to-date!\n",
      "[nltk_data]    | Downloading package subjectivity to\n",
      "[nltk_data]    |     /root/nltk_data...\n",
      "[nltk_data]    |   Package subjectivity is already up-to-date!\n",
      "[nltk_data]    | Downloading package swadesh to /root/nltk_data...\n",
      "[nltk_data]    |   Package swadesh is already up-to-date!\n",
      "[nltk_data]    | Downloading package switchboard to /root/nltk_data...\n",
      "[nltk_data]    |   Package switchboard is already up-to-date!\n",
      "[nltk_data]    | Downloading package timit to /root/nltk_data...\n",
      "[nltk_data]    |   Package timit is already up-to-date!\n",
      "[nltk_data]    | Downloading package toolbox to /root/nltk_data...\n",
      "[nltk_data]    |   Package toolbox is already up-to-date!\n",
      "[nltk_data]    | Downloading package treebank to /root/nltk_data...\n",
      "[nltk_data]    |   Package treebank is already up-to-date!\n",
      "[nltk_data]    | Downloading package twitter_samples to\n",
      "[nltk_data]    |     /root/nltk_data...\n",
      "[nltk_data]    |   Package twitter_samples is already up-to-date!\n",
      "[nltk_data]    | Downloading package udhr to /root/nltk_data...\n",
      "[nltk_data]    |   Package udhr is already up-to-date!\n",
      "[nltk_data]    | Downloading package udhr2 to /root/nltk_data...\n",
      "[nltk_data]    |   Package udhr2 is already up-to-date!\n",
      "[nltk_data]    | Downloading package unicode_samples to\n",
      "[nltk_data]    |     /root/nltk_data...\n",
      "[nltk_data]    |   Package unicode_samples is already up-to-date!\n",
      "[nltk_data]    | Downloading package universal_treebanks_v20 to\n",
      "[nltk_data]    |     /root/nltk_data...\n",
      "[nltk_data]    |   Package universal_treebanks_v20 is already up-to-\n",
      "[nltk_data]    |       date!\n",
      "[nltk_data]    | Downloading package verbnet to /root/nltk_data...\n",
      "[nltk_data]    |   Package verbnet is already up-to-date!\n",
      "[nltk_data]    | Downloading package verbnet3 to /root/nltk_data...\n",
      "[nltk_data]    |   Package verbnet3 is already up-to-date!\n",
      "[nltk_data]    | Downloading package webtext to /root/nltk_data...\n",
      "[nltk_data]    |   Package webtext is already up-to-date!\n",
      "[nltk_data]    | Downloading package wordnet to /root/nltk_data...\n",
      "[nltk_data]    |   Package wordnet is already up-to-date!\n",
      "[nltk_data]    | Downloading package wordnet_ic to /root/nltk_data...\n",
      "[nltk_data]    |   Package wordnet_ic is already up-to-date!\n",
      "[nltk_data]    | Downloading package words to /root/nltk_data...\n",
      "[nltk_data]    |   Package words is already up-to-date!\n",
      "[nltk_data]    | Downloading package ycoe to /root/nltk_data...\n",
      "[nltk_data]    |   Package ycoe is already up-to-date!\n",
      "[nltk_data]    | Downloading package rslp to /root/nltk_data...\n",
      "[nltk_data]    |   Package rslp is already up-to-date!\n",
      "[nltk_data]    | Downloading package maxent_treebank_pos_tagger to\n",
      "[nltk_data]    |     /root/nltk_data...\n",
      "[nltk_data]    |   Package maxent_treebank_pos_tagger is already up-\n",
      "[nltk_data]    |       to-date!\n",
      "[nltk_data]    | Downloading package universal_tagset to\n",
      "[nltk_data]    |     /root/nltk_data...\n",
      "[nltk_data]    |   Package universal_tagset is already up-to-date!\n",
      "[nltk_data]    | Downloading package maxent_ne_chunker to\n",
      "[nltk_data]    |     /root/nltk_data...\n",
      "[nltk_data]    |   Package maxent_ne_chunker is already up-to-date!\n",
      "[nltk_data]    | Downloading package punkt to /root/nltk_data...\n",
      "[nltk_data]    |   Package punkt is already up-to-date!\n",
      "[nltk_data]    | Downloading package book_grammars to\n",
      "[nltk_data]    |     /root/nltk_data...\n",
      "[nltk_data]    |   Package book_grammars is already up-to-date!\n",
      "[nltk_data]    | Downloading package sample_grammars to\n",
      "[nltk_data]    |     /root/nltk_data...\n",
      "[nltk_data]    |   Package sample_grammars is already up-to-date!\n",
      "[nltk_data]    | Downloading package spanish_grammars to\n",
      "[nltk_data]    |     /root/nltk_data...\n",
      "[nltk_data]    |   Package spanish_grammars is already up-to-date!\n",
      "[nltk_data]    | Downloading package basque_grammars to\n",
      "[nltk_data]    |     /root/nltk_data...\n",
      "[nltk_data]    |   Package basque_grammars is already up-to-date!\n",
      "[nltk_data]    | Downloading package large_grammars to\n",
      "[nltk_data]    |     /root/nltk_data...\n",
      "[nltk_data]    |   Package large_grammars is already up-to-date!\n",
      "[nltk_data]    | Downloading package tagsets to /root/nltk_data...\n",
      "[nltk_data]    |   Package tagsets is already up-to-date!\n",
      "[nltk_data]    | Downloading package snowball_data to\n",
      "[nltk_data]    |     /root/nltk_data...\n",
      "[nltk_data]    |   Package snowball_data is already up-to-date!\n",
      "[nltk_data]    | Downloading package bllip_wsj_no_aux to\n",
      "[nltk_data]    |     /root/nltk_data...\n",
      "[nltk_data]    |   Package bllip_wsj_no_aux is already up-to-date!\n",
      "[nltk_data]    | Downloading package word2vec_sample to\n",
      "[nltk_data]    |     /root/nltk_data...\n",
      "[nltk_data]    |   Package word2vec_sample is already up-to-date!\n",
      "[nltk_data]    | Downloading package panlex_swadesh to\n",
      "[nltk_data]    |     /root/nltk_data...\n",
      "[nltk_data]    |   Package panlex_swadesh is already up-to-date!\n",
      "[nltk_data]    | Downloading package mte_teip5 to /root/nltk_data...\n",
      "[nltk_data]    |   Package mte_teip5 is already up-to-date!\n",
      "[nltk_data]    | Downloading package averaged_perceptron_tagger to\n",
      "[nltk_data]    |     /root/nltk_data...\n",
      "[nltk_data]    |   Package averaged_perceptron_tagger is already up-\n",
      "[nltk_data]    |       to-date!\n",
      "[nltk_data]    | Downloading package averaged_perceptron_tagger_ru to\n",
      "[nltk_data]    |     /root/nltk_data...\n",
      "[nltk_data]    |   Package averaged_perceptron_tagger_ru is already\n",
      "[nltk_data]    |       up-to-date!\n",
      "[nltk_data]    | Downloading package perluniprops to\n",
      "[nltk_data]    |     /root/nltk_data...\n",
      "[nltk_data]    |   Package perluniprops is already up-to-date!\n",
      "[nltk_data]    | Downloading package nonbreaking_prefixes to\n",
      "[nltk_data]    |     /root/nltk_data...\n",
      "[nltk_data]    |   Package nonbreaking_prefixes is already up-to-date!\n",
      "[nltk_data]    | Downloading package vader_lexicon to\n",
      "[nltk_data]    |     /root/nltk_data...\n",
      "[nltk_data]    |   Package vader_lexicon is already up-to-date!\n",
      "[nltk_data]    | Downloading package porter_test to /root/nltk_data...\n",
      "[nltk_data]    |   Package porter_test is already up-to-date!\n",
      "[nltk_data]    | Downloading package wmt15_eval to /root/nltk_data...\n",
      "[nltk_data]    |   Package wmt15_eval is already up-to-date!\n",
      "[nltk_data]    | Downloading package mwa_ppdb to /root/nltk_data...\n",
      "[nltk_data]    |   Package mwa_ppdb is already up-to-date!\n",
      "[nltk_data]    | \n",
      "[nltk_data]  Done downloading collection all\n"
     ]
    }
   ],
   "source": [
    "!python -m nltk.downloader all"
   ]
  },
  {
   "cell_type": "code",
   "execution_count": 2,
   "metadata": {
    "id": "-XNFvJo1ntJO"
   },
   "outputs": [],
   "source": [
    "import pandas as pd\n",
    "import matplotlib.pyplot as plt\n",
    "import seaborn as sns\n",
    "import numpy as np"
   ]
  },
  {
   "cell_type": "code",
   "execution_count": 3,
   "metadata": {
    "id": "U78Zr_ByDuQ_"
   },
   "outputs": [],
   "source": [
    "from sklearn.preprocessing import LabelEncoder\n",
    "from datetime import datetime\n",
    "import time\n",
    "from sklearn.preprocessing import OneHotEncoder"
   ]
  },
  {
   "cell_type": "code",
   "execution_count": 4,
   "metadata": {
    "id": "dyD-BC2QyAmO"
   },
   "outputs": [],
   "source": [
    "from nltk.tokenize import word_tokenize\n",
    "from nltk.corpus import stopwords\n",
    "import string"
   ]
  },
  {
   "cell_type": "code",
   "execution_count": 5,
   "metadata": {
    "id": "Zg1MlKXlz8iy"
   },
   "outputs": [],
   "source": [
    "from sklearn.feature_extraction.text import CountVectorizer\n",
    "from sklearn.feature_extraction.text import TfidfVectorizer"
   ]
  },
  {
   "cell_type": "code",
   "execution_count": 6,
   "metadata": {
    "colab": {
     "base_uri": "https://localhost:8080/"
    },
    "id": "cA6YFIenoI0y",
    "outputId": "46046007-2bd1-499c-cb5f-ab6bb8351a29"
   },
   "outputs": [
    {
     "name": "stdout",
     "output_type": "stream",
     "text": [
      "Drive already mounted at /content/drive; to attempt to forcibly remount, call drive.mount(\"/content/drive\", force_remount=True).\n"
     ]
    }
   ],
   "source": [
    "from google.colab import drive\n",
    "drive.mount('/content/drive')"
   ]
  },
  {
   "cell_type": "code",
   "execution_count": 7,
   "metadata": {
    "id": "-p4lvfY3nytz"
   },
   "outputs": [],
   "source": [
    "df = pd.read_csv('/content/drive/MyDrive/data.csv')"
   ]
  },
  {
   "cell_type": "code",
   "execution_count": 8,
   "metadata": {
    "colab": {
     "base_uri": "https://localhost:8080/",
     "height": 419
    },
    "id": "bQJFMKItnyq-",
    "outputId": "6c407803-1733-48b3-e6f3-664c053ac237"
   },
   "outputs": [
    {
     "data": {
      "text/html": [
       "<div>\n",
       "<style scoped>\n",
       "    .dataframe tbody tr th:only-of-type {\n",
       "        vertical-align: middle;\n",
       "    }\n",
       "\n",
       "    .dataframe tbody tr th {\n",
       "        vertical-align: top;\n",
       "    }\n",
       "\n",
       "    .dataframe thead th {\n",
       "        text-align: right;\n",
       "    }\n",
       "</style>\n",
       "<table border=\"1\" class=\"dataframe\">\n",
       "  <thead>\n",
       "    <tr style=\"text-align: right;\">\n",
       "      <th></th>\n",
       "      <th>Data</th>\n",
       "      <th>Countries</th>\n",
       "      <th>Local</th>\n",
       "      <th>Industry Sector</th>\n",
       "      <th>Accident Level</th>\n",
       "      <th>Potential Accident Level</th>\n",
       "      <th>Genre</th>\n",
       "      <th>Employee or Third Party</th>\n",
       "      <th>Critical Risk</th>\n",
       "      <th>Description</th>\n",
       "    </tr>\n",
       "  </thead>\n",
       "  <tbody>\n",
       "    <tr>\n",
       "      <th>0</th>\n",
       "      <td>2016-01-01 00:00:00</td>\n",
       "      <td>Country_01</td>\n",
       "      <td>Local_01</td>\n",
       "      <td>Mining</td>\n",
       "      <td>I</td>\n",
       "      <td>IV</td>\n",
       "      <td>Male</td>\n",
       "      <td>Third Party</td>\n",
       "      <td>Pressed</td>\n",
       "      <td>While removing the drill rod of the Jumbo 08 f...</td>\n",
       "    </tr>\n",
       "    <tr>\n",
       "      <th>1</th>\n",
       "      <td>2016-01-02 00:00:00</td>\n",
       "      <td>Country_02</td>\n",
       "      <td>Local_02</td>\n",
       "      <td>Mining</td>\n",
       "      <td>I</td>\n",
       "      <td>IV</td>\n",
       "      <td>Male</td>\n",
       "      <td>Employee</td>\n",
       "      <td>Pressurized Systems</td>\n",
       "      <td>During the activation of a sodium sulphide pum...</td>\n",
       "    </tr>\n",
       "    <tr>\n",
       "      <th>2</th>\n",
       "      <td>2016-01-06 00:00:00</td>\n",
       "      <td>Country_01</td>\n",
       "      <td>Local_03</td>\n",
       "      <td>Mining</td>\n",
       "      <td>I</td>\n",
       "      <td>III</td>\n",
       "      <td>Male</td>\n",
       "      <td>Third Party (Remote)</td>\n",
       "      <td>Manual Tools</td>\n",
       "      <td>In the sub-station MILPO located at level +170...</td>\n",
       "    </tr>\n",
       "    <tr>\n",
       "      <th>3</th>\n",
       "      <td>2016-01-08 00:00:00</td>\n",
       "      <td>Country_01</td>\n",
       "      <td>Local_04</td>\n",
       "      <td>Mining</td>\n",
       "      <td>I</td>\n",
       "      <td>I</td>\n",
       "      <td>Male</td>\n",
       "      <td>Third Party</td>\n",
       "      <td>Others</td>\n",
       "      <td>Being 9:45 am. approximately in the Nv. 1880 C...</td>\n",
       "    </tr>\n",
       "    <tr>\n",
       "      <th>4</th>\n",
       "      <td>2016-01-10 00:00:00</td>\n",
       "      <td>Country_01</td>\n",
       "      <td>Local_04</td>\n",
       "      <td>Mining</td>\n",
       "      <td>IV</td>\n",
       "      <td>IV</td>\n",
       "      <td>Male</td>\n",
       "      <td>Third Party</td>\n",
       "      <td>Others</td>\n",
       "      <td>Approximately at 11:45 a.m. in circumstances t...</td>\n",
       "    </tr>\n",
       "    <tr>\n",
       "      <th>...</th>\n",
       "      <td>...</td>\n",
       "      <td>...</td>\n",
       "      <td>...</td>\n",
       "      <td>...</td>\n",
       "      <td>...</td>\n",
       "      <td>...</td>\n",
       "      <td>...</td>\n",
       "      <td>...</td>\n",
       "      <td>...</td>\n",
       "      <td>...</td>\n",
       "    </tr>\n",
       "    <tr>\n",
       "      <th>420</th>\n",
       "      <td>2017-07-04 00:00:00</td>\n",
       "      <td>Country_01</td>\n",
       "      <td>Local_04</td>\n",
       "      <td>Mining</td>\n",
       "      <td>I</td>\n",
       "      <td>III</td>\n",
       "      <td>Male</td>\n",
       "      <td>Third Party</td>\n",
       "      <td>Others</td>\n",
       "      <td>Being approximately 5:00 a.m. approximately, w...</td>\n",
       "    </tr>\n",
       "    <tr>\n",
       "      <th>421</th>\n",
       "      <td>2017-07-04 00:00:00</td>\n",
       "      <td>Country_01</td>\n",
       "      <td>Local_03</td>\n",
       "      <td>Mining</td>\n",
       "      <td>I</td>\n",
       "      <td>II</td>\n",
       "      <td>Female</td>\n",
       "      <td>Employee</td>\n",
       "      <td>Others</td>\n",
       "      <td>The collaborator moved from the infrastructure...</td>\n",
       "    </tr>\n",
       "    <tr>\n",
       "      <th>422</th>\n",
       "      <td>2017-07-05 00:00:00</td>\n",
       "      <td>Country_02</td>\n",
       "      <td>Local_09</td>\n",
       "      <td>Metals</td>\n",
       "      <td>I</td>\n",
       "      <td>II</td>\n",
       "      <td>Male</td>\n",
       "      <td>Employee</td>\n",
       "      <td>Venomous Animals</td>\n",
       "      <td>During the environmental monitoring activity i...</td>\n",
       "    </tr>\n",
       "    <tr>\n",
       "      <th>423</th>\n",
       "      <td>2017-07-06 00:00:00</td>\n",
       "      <td>Country_02</td>\n",
       "      <td>Local_05</td>\n",
       "      <td>Metals</td>\n",
       "      <td>I</td>\n",
       "      <td>II</td>\n",
       "      <td>Male</td>\n",
       "      <td>Employee</td>\n",
       "      <td>Cut</td>\n",
       "      <td>The Employee performed the activity of strippi...</td>\n",
       "    </tr>\n",
       "    <tr>\n",
       "      <th>424</th>\n",
       "      <td>2017-07-09 00:00:00</td>\n",
       "      <td>Country_01</td>\n",
       "      <td>Local_04</td>\n",
       "      <td>Mining</td>\n",
       "      <td>I</td>\n",
       "      <td>II</td>\n",
       "      <td>Female</td>\n",
       "      <td>Third Party</td>\n",
       "      <td>Fall prevention (same level)</td>\n",
       "      <td>At 10:00 a.m., when the assistant cleaned the ...</td>\n",
       "    </tr>\n",
       "  </tbody>\n",
       "</table>\n",
       "<p>425 rows × 10 columns</p>\n",
       "</div>"
      ],
      "text/plain": [
       "                    Data  ...                                        Description\n",
       "0    2016-01-01 00:00:00  ...  While removing the drill rod of the Jumbo 08 f...\n",
       "1    2016-01-02 00:00:00  ...  During the activation of a sodium sulphide pum...\n",
       "2    2016-01-06 00:00:00  ...  In the sub-station MILPO located at level +170...\n",
       "3    2016-01-08 00:00:00  ...  Being 9:45 am. approximately in the Nv. 1880 C...\n",
       "4    2016-01-10 00:00:00  ...  Approximately at 11:45 a.m. in circumstances t...\n",
       "..                   ...  ...                                                ...\n",
       "420  2017-07-04 00:00:00  ...  Being approximately 5:00 a.m. approximately, w...\n",
       "421  2017-07-04 00:00:00  ...  The collaborator moved from the infrastructure...\n",
       "422  2017-07-05 00:00:00  ...  During the environmental monitoring activity i...\n",
       "423  2017-07-06 00:00:00  ...  The Employee performed the activity of strippi...\n",
       "424  2017-07-09 00:00:00  ...  At 10:00 a.m., when the assistant cleaned the ...\n",
       "\n",
       "[425 rows x 10 columns]"
      ]
     },
     "execution_count": 8,
     "metadata": {
      "tags": []
     },
     "output_type": "execute_result"
    }
   ],
   "source": [
    "del df['Unnamed: 0'] \n",
    "df"
   ]
  },
  {
   "cell_type": "code",
   "execution_count": 9,
   "metadata": {
    "colab": {
     "base_uri": "https://localhost:8080/",
     "height": 173
    },
    "id": "uN5yVUO6nyoV",
    "outputId": "8356df04-2a02-47be-e183-6f74b77093cb"
   },
   "outputs": [
    {
     "data": {
      "text/html": [
       "<div>\n",
       "<style scoped>\n",
       "    .dataframe tbody tr th:only-of-type {\n",
       "        vertical-align: middle;\n",
       "    }\n",
       "\n",
       "    .dataframe tbody tr th {\n",
       "        vertical-align: top;\n",
       "    }\n",
       "\n",
       "    .dataframe thead th {\n",
       "        text-align: right;\n",
       "    }\n",
       "</style>\n",
       "<table border=\"1\" class=\"dataframe\">\n",
       "  <thead>\n",
       "    <tr style=\"text-align: right;\">\n",
       "      <th></th>\n",
       "      <th>Data</th>\n",
       "      <th>Countries</th>\n",
       "      <th>Local</th>\n",
       "      <th>Industry Sector</th>\n",
       "      <th>Accident Level</th>\n",
       "      <th>Potential Accident Level</th>\n",
       "      <th>Genre</th>\n",
       "      <th>Employee or Third Party</th>\n",
       "      <th>Critical Risk</th>\n",
       "      <th>Description</th>\n",
       "    </tr>\n",
       "  </thead>\n",
       "  <tbody>\n",
       "    <tr>\n",
       "      <th>count</th>\n",
       "      <td>425</td>\n",
       "      <td>425</td>\n",
       "      <td>425</td>\n",
       "      <td>425</td>\n",
       "      <td>425</td>\n",
       "      <td>425</td>\n",
       "      <td>425</td>\n",
       "      <td>425</td>\n",
       "      <td>425</td>\n",
       "      <td>425</td>\n",
       "    </tr>\n",
       "    <tr>\n",
       "      <th>unique</th>\n",
       "      <td>287</td>\n",
       "      <td>3</td>\n",
       "      <td>12</td>\n",
       "      <td>3</td>\n",
       "      <td>5</td>\n",
       "      <td>6</td>\n",
       "      <td>2</td>\n",
       "      <td>3</td>\n",
       "      <td>33</td>\n",
       "      <td>411</td>\n",
       "    </tr>\n",
       "    <tr>\n",
       "      <th>top</th>\n",
       "      <td>2017-02-08 00:00:00</td>\n",
       "      <td>Country_01</td>\n",
       "      <td>Local_03</td>\n",
       "      <td>Mining</td>\n",
       "      <td>I</td>\n",
       "      <td>IV</td>\n",
       "      <td>Male</td>\n",
       "      <td>Third Party</td>\n",
       "      <td>Others</td>\n",
       "      <td>During the activity of chuteo of ore in hopper...</td>\n",
       "    </tr>\n",
       "    <tr>\n",
       "      <th>freq</th>\n",
       "      <td>6</td>\n",
       "      <td>251</td>\n",
       "      <td>90</td>\n",
       "      <td>241</td>\n",
       "      <td>316</td>\n",
       "      <td>143</td>\n",
       "      <td>403</td>\n",
       "      <td>189</td>\n",
       "      <td>232</td>\n",
       "      <td>3</td>\n",
       "    </tr>\n",
       "  </tbody>\n",
       "</table>\n",
       "</div>"
      ],
      "text/plain": [
       "                       Data  ...                                        Description\n",
       "count                   425  ...                                                425\n",
       "unique                  287  ...                                                411\n",
       "top     2017-02-08 00:00:00  ...  During the activity of chuteo of ore in hopper...\n",
       "freq                      6  ...                                                  3\n",
       "\n",
       "[4 rows x 10 columns]"
      ]
     },
     "execution_count": 9,
     "metadata": {
      "tags": []
     },
     "output_type": "execute_result"
    }
   ],
   "source": [
    "df.describe()"
   ]
  },
  {
   "cell_type": "code",
   "execution_count": 10,
   "metadata": {
    "colab": {
     "base_uri": "https://localhost:8080/"
    },
    "id": "cU1fk3hYnykT",
    "outputId": "f7b56f86-b2f8-482e-b516-0a42fe87a097"
   },
   "outputs": [
    {
     "name": "stdout",
     "output_type": "stream",
     "text": [
      "Data type of feature/column  Data  is:  <class 'str'>\n",
      "Data type of feature/column  Countries  is:  <class 'str'>\n",
      "Data type of feature/column  Local  is:  <class 'str'>\n",
      "Data type of feature/column  Industry Sector  is:  <class 'str'>\n",
      "Data type of feature/column  Accident Level  is:  <class 'str'>\n",
      "Data type of feature/column  Potential Accident Level  is:  <class 'str'>\n",
      "Data type of feature/column  Genre  is:  <class 'str'>\n",
      "Data type of feature/column  Employee or Third Party  is:  <class 'str'>\n",
      "Data type of feature/column  Critical Risk  is:  <class 'str'>\n",
      "Data type of feature/column  Description  is:  <class 'str'>\n"
     ]
    }
   ],
   "source": [
    "for i in range (0, df.shape[1]):\n",
    "    print(\"Data type of feature/column \", df.columns[i],\" is: \",type(df.iloc[1,i]))"
   ]
  },
  {
   "cell_type": "code",
   "execution_count": 11,
   "metadata": {
    "colab": {
     "base_uri": "https://localhost:8080/",
     "height": 359
    },
    "id": "mSC14lBEoHhP",
    "outputId": "ce47bf40-ff62-497e-db4b-1fe27323fdd1"
   },
   "outputs": [
    {
     "data": {
      "text/html": [
       "<div>\n",
       "<style scoped>\n",
       "    .dataframe tbody tr th:only-of-type {\n",
       "        vertical-align: middle;\n",
       "    }\n",
       "\n",
       "    .dataframe tbody tr th {\n",
       "        vertical-align: top;\n",
       "    }\n",
       "\n",
       "    .dataframe thead th {\n",
       "        text-align: right;\n",
       "    }\n",
       "</style>\n",
       "<table border=\"1\" class=\"dataframe\">\n",
       "  <thead>\n",
       "    <tr style=\"text-align: right;\">\n",
       "      <th></th>\n",
       "      <th>Total</th>\n",
       "      <th>Percent</th>\n",
       "    </tr>\n",
       "  </thead>\n",
       "  <tbody>\n",
       "    <tr>\n",
       "      <th>Description</th>\n",
       "      <td>0</td>\n",
       "      <td>0.0</td>\n",
       "    </tr>\n",
       "    <tr>\n",
       "      <th>Critical Risk</th>\n",
       "      <td>0</td>\n",
       "      <td>0.0</td>\n",
       "    </tr>\n",
       "    <tr>\n",
       "      <th>Employee or Third Party</th>\n",
       "      <td>0</td>\n",
       "      <td>0.0</td>\n",
       "    </tr>\n",
       "    <tr>\n",
       "      <th>Genre</th>\n",
       "      <td>0</td>\n",
       "      <td>0.0</td>\n",
       "    </tr>\n",
       "    <tr>\n",
       "      <th>Potential Accident Level</th>\n",
       "      <td>0</td>\n",
       "      <td>0.0</td>\n",
       "    </tr>\n",
       "    <tr>\n",
       "      <th>Accident Level</th>\n",
       "      <td>0</td>\n",
       "      <td>0.0</td>\n",
       "    </tr>\n",
       "    <tr>\n",
       "      <th>Industry Sector</th>\n",
       "      <td>0</td>\n",
       "      <td>0.0</td>\n",
       "    </tr>\n",
       "    <tr>\n",
       "      <th>Local</th>\n",
       "      <td>0</td>\n",
       "      <td>0.0</td>\n",
       "    </tr>\n",
       "    <tr>\n",
       "      <th>Countries</th>\n",
       "      <td>0</td>\n",
       "      <td>0.0</td>\n",
       "    </tr>\n",
       "    <tr>\n",
       "      <th>Data</th>\n",
       "      <td>0</td>\n",
       "      <td>0.0</td>\n",
       "    </tr>\n",
       "  </tbody>\n",
       "</table>\n",
       "</div>"
      ],
      "text/plain": [
       "                          Total  Percent\n",
       "Description                   0      0.0\n",
       "Critical Risk                 0      0.0\n",
       "Employee or Third Party       0      0.0\n",
       "Genre                         0      0.0\n",
       "Potential Accident Level      0      0.0\n",
       "Accident Level                0      0.0\n",
       "Industry Sector               0      0.0\n",
       "Local                         0      0.0\n",
       "Countries                     0      0.0\n",
       "Data                          0      0.0"
      ]
     },
     "execution_count": 11,
     "metadata": {
      "tags": []
     },
     "output_type": "execute_result"
    }
   ],
   "source": [
    "def missing_check(df):\n",
    "    total = df.isnull().sum().sort_values(ascending=False)   # total number of null values\n",
    "    percent = (df.isnull().sum()/df.isnull().count()).sort_values(ascending=False)  # percentage of values that are null\n",
    "    missing_data = pd.concat([total, percent], axis=1, keys=['Total', 'Percent'])  # putting the above two together\n",
    "    return missing_data # return the dataframe\n",
    "missing_check(df)"
   ]
  },
  {
   "cell_type": "code",
   "execution_count": 12,
   "metadata": {
    "id": "D5Q8qhdWCCWn"
   },
   "outputs": [],
   "source": [
    "dataframe=df.copy()\n",
    "y=dataframe['Accident Level'].values\n",
    "del dataframe['Accident Level']"
   ]
  },
  {
   "cell_type": "code",
   "execution_count": 13,
   "metadata": {
    "id": "0SHOPV3fDgq8"
   },
   "outputs": [],
   "source": [
    "categorical_columns=dataframe.columns"
   ]
  },
  {
   "cell_type": "markdown",
   "metadata": {
    "id": "5R_rqzczOTxT"
   },
   "source": [
    "# **# Encoding**\n",
    "\n",
    "> Encoding Dataset for Model Preparation.\n",
    "\n"
   ]
  },
  {
   "cell_type": "code",
   "execution_count": 14,
   "metadata": {
    "id": "LG7OMtvbWGjI"
   },
   "outputs": [],
   "source": [
    "column_names_encoded=list(df.columns)\n",
    "column_names_encoded.remove('Critical Risk')\n",
    "column_names_encoded.remove('Description')\n",
    "column_names_encoded.remove('Data')\n",
    "column_names_encoded.remove('Accident Level')"
   ]
  },
  {
   "cell_type": "code",
   "execution_count": 15,
   "metadata": {
    "id": "qBpo1l2ORvbs"
   },
   "outputs": [],
   "source": [
    "# Performing label encoding of column accident level\n",
    "import numpy as np\n",
    "from sklearn.preprocessing import LabelEncoder   \n",
    "  \n",
    "def one_hot_encoding_columns(column_name,dataframe):\n",
    "  accident_level=  dataframe[column_name].to_numpy()\n",
    "  labelencoder = LabelEncoder()  \n",
    "  accident_level_encoded = labelencoder.fit_transform(accident_level)\n",
    "  enc = OneHotEncoder(handle_unknown='ignore')\n",
    "  X = (np.array(accident_level_encoded).reshape(-1,1))\n",
    "  drop_enc = enc.fit_transform(X)\n",
    "  # print(drop_enc.todense())\n",
    "  dataframe = pd.concat([dataframe,pd.DataFrame(drop_enc.todense(),columns = [column_name+'_'+j for j in labelencoder.inverse_transform(enc.categories_[0])])],axis = 1)\n",
    "  del dataframe[column_name]\n",
    "  return dataframe\n",
    "\n",
    "encoded_dataframe=one_hot_encoding_columns(column_names_encoded[0],df)\n",
    "for i in range(1,len(column_names_encoded)):\n",
    "  encoded_dataframe=one_hot_encoding_columns(column_names_encoded[i],encoded_dataframe)"
   ]
  },
  {
   "cell_type": "code",
   "execution_count": 16,
   "metadata": {
    "colab": {
     "base_uri": "https://localhost:8080/",
     "height": 1000
    },
    "id": "Lk5gwT8mRvYE",
    "outputId": "465e81c4-004e-4ebd-85c1-bdf32c4d100a"
   },
   "outputs": [
    {
     "data": {
      "text/html": [
       "<div>\n",
       "<style scoped>\n",
       "    .dataframe tbody tr th:only-of-type {\n",
       "        vertical-align: middle;\n",
       "    }\n",
       "\n",
       "    .dataframe tbody tr th {\n",
       "        vertical-align: top;\n",
       "    }\n",
       "\n",
       "    .dataframe thead th {\n",
       "        text-align: right;\n",
       "    }\n",
       "</style>\n",
       "<table border=\"1\" class=\"dataframe\">\n",
       "  <thead>\n",
       "    <tr style=\"text-align: right;\">\n",
       "      <th></th>\n",
       "      <th>Data</th>\n",
       "      <th>Accident Level</th>\n",
       "      <th>Critical Risk</th>\n",
       "      <th>Description</th>\n",
       "      <th>Countries_Country_01</th>\n",
       "      <th>Countries_Country_02</th>\n",
       "      <th>Countries_Country_03</th>\n",
       "      <th>Local_Local_01</th>\n",
       "      <th>Local_Local_02</th>\n",
       "      <th>Local_Local_03</th>\n",
       "      <th>Local_Local_04</th>\n",
       "      <th>Local_Local_05</th>\n",
       "      <th>Local_Local_06</th>\n",
       "      <th>Local_Local_07</th>\n",
       "      <th>Local_Local_08</th>\n",
       "      <th>Local_Local_09</th>\n",
       "      <th>Local_Local_10</th>\n",
       "      <th>Local_Local_11</th>\n",
       "      <th>Local_Local_12</th>\n",
       "      <th>Industry Sector_Metals</th>\n",
       "      <th>Industry Sector_Mining</th>\n",
       "      <th>Industry Sector_Others</th>\n",
       "      <th>Potential Accident Level_I</th>\n",
       "      <th>Potential Accident Level_II</th>\n",
       "      <th>Potential Accident Level_III</th>\n",
       "      <th>Potential Accident Level_IV</th>\n",
       "      <th>Potential Accident Level_V</th>\n",
       "      <th>Potential Accident Level_VI</th>\n",
       "      <th>Genre_Female</th>\n",
       "      <th>Genre_Male</th>\n",
       "      <th>Employee or Third Party_Employee</th>\n",
       "      <th>Employee or Third Party_Third Party</th>\n",
       "      <th>Employee or Third Party_Third Party (Remote)</th>\n",
       "    </tr>\n",
       "  </thead>\n",
       "  <tbody>\n",
       "    <tr>\n",
       "      <th>0</th>\n",
       "      <td>2016-01-01 00:00:00</td>\n",
       "      <td>I</td>\n",
       "      <td>Pressed</td>\n",
       "      <td>While removing the drill rod of the Jumbo 08 f...</td>\n",
       "      <td>1.0</td>\n",
       "      <td>0.0</td>\n",
       "      <td>0.0</td>\n",
       "      <td>1.0</td>\n",
       "      <td>0.0</td>\n",
       "      <td>0.0</td>\n",
       "      <td>0.0</td>\n",
       "      <td>0.0</td>\n",
       "      <td>0.0</td>\n",
       "      <td>0.0</td>\n",
       "      <td>0.0</td>\n",
       "      <td>0.0</td>\n",
       "      <td>0.0</td>\n",
       "      <td>0.0</td>\n",
       "      <td>0.0</td>\n",
       "      <td>0.0</td>\n",
       "      <td>1.0</td>\n",
       "      <td>0.0</td>\n",
       "      <td>0.0</td>\n",
       "      <td>0.0</td>\n",
       "      <td>0.0</td>\n",
       "      <td>1.0</td>\n",
       "      <td>0.0</td>\n",
       "      <td>0.0</td>\n",
       "      <td>0.0</td>\n",
       "      <td>1.0</td>\n",
       "      <td>0.0</td>\n",
       "      <td>1.0</td>\n",
       "      <td>0.0</td>\n",
       "    </tr>\n",
       "    <tr>\n",
       "      <th>1</th>\n",
       "      <td>2016-01-02 00:00:00</td>\n",
       "      <td>I</td>\n",
       "      <td>Pressurized Systems</td>\n",
       "      <td>During the activation of a sodium sulphide pum...</td>\n",
       "      <td>0.0</td>\n",
       "      <td>1.0</td>\n",
       "      <td>0.0</td>\n",
       "      <td>0.0</td>\n",
       "      <td>1.0</td>\n",
       "      <td>0.0</td>\n",
       "      <td>0.0</td>\n",
       "      <td>0.0</td>\n",
       "      <td>0.0</td>\n",
       "      <td>0.0</td>\n",
       "      <td>0.0</td>\n",
       "      <td>0.0</td>\n",
       "      <td>0.0</td>\n",
       "      <td>0.0</td>\n",
       "      <td>0.0</td>\n",
       "      <td>0.0</td>\n",
       "      <td>1.0</td>\n",
       "      <td>0.0</td>\n",
       "      <td>0.0</td>\n",
       "      <td>0.0</td>\n",
       "      <td>0.0</td>\n",
       "      <td>1.0</td>\n",
       "      <td>0.0</td>\n",
       "      <td>0.0</td>\n",
       "      <td>0.0</td>\n",
       "      <td>1.0</td>\n",
       "      <td>1.0</td>\n",
       "      <td>0.0</td>\n",
       "      <td>0.0</td>\n",
       "    </tr>\n",
       "    <tr>\n",
       "      <th>2</th>\n",
       "      <td>2016-01-06 00:00:00</td>\n",
       "      <td>I</td>\n",
       "      <td>Manual Tools</td>\n",
       "      <td>In the sub-station MILPO located at level +170...</td>\n",
       "      <td>1.0</td>\n",
       "      <td>0.0</td>\n",
       "      <td>0.0</td>\n",
       "      <td>0.0</td>\n",
       "      <td>0.0</td>\n",
       "      <td>1.0</td>\n",
       "      <td>0.0</td>\n",
       "      <td>0.0</td>\n",
       "      <td>0.0</td>\n",
       "      <td>0.0</td>\n",
       "      <td>0.0</td>\n",
       "      <td>0.0</td>\n",
       "      <td>0.0</td>\n",
       "      <td>0.0</td>\n",
       "      <td>0.0</td>\n",
       "      <td>0.0</td>\n",
       "      <td>1.0</td>\n",
       "      <td>0.0</td>\n",
       "      <td>0.0</td>\n",
       "      <td>0.0</td>\n",
       "      <td>1.0</td>\n",
       "      <td>0.0</td>\n",
       "      <td>0.0</td>\n",
       "      <td>0.0</td>\n",
       "      <td>0.0</td>\n",
       "      <td>1.0</td>\n",
       "      <td>0.0</td>\n",
       "      <td>0.0</td>\n",
       "      <td>1.0</td>\n",
       "    </tr>\n",
       "    <tr>\n",
       "      <th>3</th>\n",
       "      <td>2016-01-08 00:00:00</td>\n",
       "      <td>I</td>\n",
       "      <td>Others</td>\n",
       "      <td>Being 9:45 am. approximately in the Nv. 1880 C...</td>\n",
       "      <td>1.0</td>\n",
       "      <td>0.0</td>\n",
       "      <td>0.0</td>\n",
       "      <td>0.0</td>\n",
       "      <td>0.0</td>\n",
       "      <td>0.0</td>\n",
       "      <td>1.0</td>\n",
       "      <td>0.0</td>\n",
       "      <td>0.0</td>\n",
       "      <td>0.0</td>\n",
       "      <td>0.0</td>\n",
       "      <td>0.0</td>\n",
       "      <td>0.0</td>\n",
       "      <td>0.0</td>\n",
       "      <td>0.0</td>\n",
       "      <td>0.0</td>\n",
       "      <td>1.0</td>\n",
       "      <td>0.0</td>\n",
       "      <td>1.0</td>\n",
       "      <td>0.0</td>\n",
       "      <td>0.0</td>\n",
       "      <td>0.0</td>\n",
       "      <td>0.0</td>\n",
       "      <td>0.0</td>\n",
       "      <td>0.0</td>\n",
       "      <td>1.0</td>\n",
       "      <td>0.0</td>\n",
       "      <td>1.0</td>\n",
       "      <td>0.0</td>\n",
       "    </tr>\n",
       "    <tr>\n",
       "      <th>4</th>\n",
       "      <td>2016-01-10 00:00:00</td>\n",
       "      <td>IV</td>\n",
       "      <td>Others</td>\n",
       "      <td>Approximately at 11:45 a.m. in circumstances t...</td>\n",
       "      <td>1.0</td>\n",
       "      <td>0.0</td>\n",
       "      <td>0.0</td>\n",
       "      <td>0.0</td>\n",
       "      <td>0.0</td>\n",
       "      <td>0.0</td>\n",
       "      <td>1.0</td>\n",
       "      <td>0.0</td>\n",
       "      <td>0.0</td>\n",
       "      <td>0.0</td>\n",
       "      <td>0.0</td>\n",
       "      <td>0.0</td>\n",
       "      <td>0.0</td>\n",
       "      <td>0.0</td>\n",
       "      <td>0.0</td>\n",
       "      <td>0.0</td>\n",
       "      <td>1.0</td>\n",
       "      <td>0.0</td>\n",
       "      <td>0.0</td>\n",
       "      <td>0.0</td>\n",
       "      <td>0.0</td>\n",
       "      <td>1.0</td>\n",
       "      <td>0.0</td>\n",
       "      <td>0.0</td>\n",
       "      <td>0.0</td>\n",
       "      <td>1.0</td>\n",
       "      <td>0.0</td>\n",
       "      <td>1.0</td>\n",
       "      <td>0.0</td>\n",
       "    </tr>\n",
       "    <tr>\n",
       "      <th>...</th>\n",
       "      <td>...</td>\n",
       "      <td>...</td>\n",
       "      <td>...</td>\n",
       "      <td>...</td>\n",
       "      <td>...</td>\n",
       "      <td>...</td>\n",
       "      <td>...</td>\n",
       "      <td>...</td>\n",
       "      <td>...</td>\n",
       "      <td>...</td>\n",
       "      <td>...</td>\n",
       "      <td>...</td>\n",
       "      <td>...</td>\n",
       "      <td>...</td>\n",
       "      <td>...</td>\n",
       "      <td>...</td>\n",
       "      <td>...</td>\n",
       "      <td>...</td>\n",
       "      <td>...</td>\n",
       "      <td>...</td>\n",
       "      <td>...</td>\n",
       "      <td>...</td>\n",
       "      <td>...</td>\n",
       "      <td>...</td>\n",
       "      <td>...</td>\n",
       "      <td>...</td>\n",
       "      <td>...</td>\n",
       "      <td>...</td>\n",
       "      <td>...</td>\n",
       "      <td>...</td>\n",
       "      <td>...</td>\n",
       "      <td>...</td>\n",
       "      <td>...</td>\n",
       "    </tr>\n",
       "    <tr>\n",
       "      <th>420</th>\n",
       "      <td>2017-07-04 00:00:00</td>\n",
       "      <td>I</td>\n",
       "      <td>Others</td>\n",
       "      <td>Being approximately 5:00 a.m. approximately, w...</td>\n",
       "      <td>1.0</td>\n",
       "      <td>0.0</td>\n",
       "      <td>0.0</td>\n",
       "      <td>0.0</td>\n",
       "      <td>0.0</td>\n",
       "      <td>0.0</td>\n",
       "      <td>1.0</td>\n",
       "      <td>0.0</td>\n",
       "      <td>0.0</td>\n",
       "      <td>0.0</td>\n",
       "      <td>0.0</td>\n",
       "      <td>0.0</td>\n",
       "      <td>0.0</td>\n",
       "      <td>0.0</td>\n",
       "      <td>0.0</td>\n",
       "      <td>0.0</td>\n",
       "      <td>1.0</td>\n",
       "      <td>0.0</td>\n",
       "      <td>0.0</td>\n",
       "      <td>0.0</td>\n",
       "      <td>1.0</td>\n",
       "      <td>0.0</td>\n",
       "      <td>0.0</td>\n",
       "      <td>0.0</td>\n",
       "      <td>0.0</td>\n",
       "      <td>1.0</td>\n",
       "      <td>0.0</td>\n",
       "      <td>1.0</td>\n",
       "      <td>0.0</td>\n",
       "    </tr>\n",
       "    <tr>\n",
       "      <th>421</th>\n",
       "      <td>2017-07-04 00:00:00</td>\n",
       "      <td>I</td>\n",
       "      <td>Others</td>\n",
       "      <td>The collaborator moved from the infrastructure...</td>\n",
       "      <td>1.0</td>\n",
       "      <td>0.0</td>\n",
       "      <td>0.0</td>\n",
       "      <td>0.0</td>\n",
       "      <td>0.0</td>\n",
       "      <td>1.0</td>\n",
       "      <td>0.0</td>\n",
       "      <td>0.0</td>\n",
       "      <td>0.0</td>\n",
       "      <td>0.0</td>\n",
       "      <td>0.0</td>\n",
       "      <td>0.0</td>\n",
       "      <td>0.0</td>\n",
       "      <td>0.0</td>\n",
       "      <td>0.0</td>\n",
       "      <td>0.0</td>\n",
       "      <td>1.0</td>\n",
       "      <td>0.0</td>\n",
       "      <td>0.0</td>\n",
       "      <td>1.0</td>\n",
       "      <td>0.0</td>\n",
       "      <td>0.0</td>\n",
       "      <td>0.0</td>\n",
       "      <td>0.0</td>\n",
       "      <td>1.0</td>\n",
       "      <td>0.0</td>\n",
       "      <td>1.0</td>\n",
       "      <td>0.0</td>\n",
       "      <td>0.0</td>\n",
       "    </tr>\n",
       "    <tr>\n",
       "      <th>422</th>\n",
       "      <td>2017-07-05 00:00:00</td>\n",
       "      <td>I</td>\n",
       "      <td>Venomous Animals</td>\n",
       "      <td>During the environmental monitoring activity i...</td>\n",
       "      <td>0.0</td>\n",
       "      <td>1.0</td>\n",
       "      <td>0.0</td>\n",
       "      <td>0.0</td>\n",
       "      <td>0.0</td>\n",
       "      <td>0.0</td>\n",
       "      <td>0.0</td>\n",
       "      <td>0.0</td>\n",
       "      <td>0.0</td>\n",
       "      <td>0.0</td>\n",
       "      <td>0.0</td>\n",
       "      <td>1.0</td>\n",
       "      <td>0.0</td>\n",
       "      <td>0.0</td>\n",
       "      <td>0.0</td>\n",
       "      <td>1.0</td>\n",
       "      <td>0.0</td>\n",
       "      <td>0.0</td>\n",
       "      <td>0.0</td>\n",
       "      <td>1.0</td>\n",
       "      <td>0.0</td>\n",
       "      <td>0.0</td>\n",
       "      <td>0.0</td>\n",
       "      <td>0.0</td>\n",
       "      <td>0.0</td>\n",
       "      <td>1.0</td>\n",
       "      <td>1.0</td>\n",
       "      <td>0.0</td>\n",
       "      <td>0.0</td>\n",
       "    </tr>\n",
       "    <tr>\n",
       "      <th>423</th>\n",
       "      <td>2017-07-06 00:00:00</td>\n",
       "      <td>I</td>\n",
       "      <td>Cut</td>\n",
       "      <td>The Employee performed the activity of strippi...</td>\n",
       "      <td>0.0</td>\n",
       "      <td>1.0</td>\n",
       "      <td>0.0</td>\n",
       "      <td>0.0</td>\n",
       "      <td>0.0</td>\n",
       "      <td>0.0</td>\n",
       "      <td>0.0</td>\n",
       "      <td>1.0</td>\n",
       "      <td>0.0</td>\n",
       "      <td>0.0</td>\n",
       "      <td>0.0</td>\n",
       "      <td>0.0</td>\n",
       "      <td>0.0</td>\n",
       "      <td>0.0</td>\n",
       "      <td>0.0</td>\n",
       "      <td>1.0</td>\n",
       "      <td>0.0</td>\n",
       "      <td>0.0</td>\n",
       "      <td>0.0</td>\n",
       "      <td>1.0</td>\n",
       "      <td>0.0</td>\n",
       "      <td>0.0</td>\n",
       "      <td>0.0</td>\n",
       "      <td>0.0</td>\n",
       "      <td>0.0</td>\n",
       "      <td>1.0</td>\n",
       "      <td>1.0</td>\n",
       "      <td>0.0</td>\n",
       "      <td>0.0</td>\n",
       "    </tr>\n",
       "    <tr>\n",
       "      <th>424</th>\n",
       "      <td>2017-07-09 00:00:00</td>\n",
       "      <td>I</td>\n",
       "      <td>Fall prevention (same level)</td>\n",
       "      <td>At 10:00 a.m., when the assistant cleaned the ...</td>\n",
       "      <td>1.0</td>\n",
       "      <td>0.0</td>\n",
       "      <td>0.0</td>\n",
       "      <td>0.0</td>\n",
       "      <td>0.0</td>\n",
       "      <td>0.0</td>\n",
       "      <td>1.0</td>\n",
       "      <td>0.0</td>\n",
       "      <td>0.0</td>\n",
       "      <td>0.0</td>\n",
       "      <td>0.0</td>\n",
       "      <td>0.0</td>\n",
       "      <td>0.0</td>\n",
       "      <td>0.0</td>\n",
       "      <td>0.0</td>\n",
       "      <td>0.0</td>\n",
       "      <td>1.0</td>\n",
       "      <td>0.0</td>\n",
       "      <td>0.0</td>\n",
       "      <td>1.0</td>\n",
       "      <td>0.0</td>\n",
       "      <td>0.0</td>\n",
       "      <td>0.0</td>\n",
       "      <td>0.0</td>\n",
       "      <td>1.0</td>\n",
       "      <td>0.0</td>\n",
       "      <td>0.0</td>\n",
       "      <td>1.0</td>\n",
       "      <td>0.0</td>\n",
       "    </tr>\n",
       "  </tbody>\n",
       "</table>\n",
       "<p>425 rows × 33 columns</p>\n",
       "</div>"
      ],
      "text/plain": [
       "                    Data  ... Employee or Third Party_Third Party (Remote)\n",
       "0    2016-01-01 00:00:00  ...                                          0.0\n",
       "1    2016-01-02 00:00:00  ...                                          0.0\n",
       "2    2016-01-06 00:00:00  ...                                          1.0\n",
       "3    2016-01-08 00:00:00  ...                                          0.0\n",
       "4    2016-01-10 00:00:00  ...                                          0.0\n",
       "..                   ...  ...                                          ...\n",
       "420  2017-07-04 00:00:00  ...                                          0.0\n",
       "421  2017-07-04 00:00:00  ...                                          0.0\n",
       "422  2017-07-05 00:00:00  ...                                          0.0\n",
       "423  2017-07-06 00:00:00  ...                                          0.0\n",
       "424  2017-07-09 00:00:00  ...                                          0.0\n",
       "\n",
       "[425 rows x 33 columns]"
      ]
     },
     "execution_count": 16,
     "metadata": {
      "tags": []
     },
     "output_type": "execute_result"
    }
   ],
   "source": [
    "encoded_dataframe"
   ]
  },
  {
   "cell_type": "code",
   "execution_count": 17,
   "metadata": {
    "colab": {
     "base_uri": "https://localhost:8080/"
    },
    "id": "XUqj7vQfRvVB",
    "outputId": "502d58de-13a5-42d4-cb70-cab059939b5b"
   },
   "outputs": [
    {
     "data": {
      "text/plain": [
       "Index(['Data', 'Accident Level', 'Critical Risk', 'Description',\n",
       "       'Countries_Country_01', 'Countries_Country_02', 'Countries_Country_03',\n",
       "       'Local_Local_01', 'Local_Local_02', 'Local_Local_03', 'Local_Local_04',\n",
       "       'Local_Local_05', 'Local_Local_06', 'Local_Local_07', 'Local_Local_08',\n",
       "       'Local_Local_09', 'Local_Local_10', 'Local_Local_11', 'Local_Local_12',\n",
       "       'Industry Sector_Metals', 'Industry Sector_Mining',\n",
       "       'Industry Sector_Others', 'Potential Accident Level_I',\n",
       "       'Potential Accident Level_II', 'Potential Accident Level_III',\n",
       "       'Potential Accident Level_IV', 'Potential Accident Level_V',\n",
       "       'Potential Accident Level_VI', 'Genre_Female', 'Genre_Male',\n",
       "       'Employee or Third Party_Employee',\n",
       "       'Employee or Third Party_Third Party',\n",
       "       'Employee or Third Party_Third Party (Remote)'],\n",
       "      dtype='object')"
      ]
     },
     "execution_count": 17,
     "metadata": {
      "tags": []
     },
     "output_type": "execute_result"
    }
   ],
   "source": [
    "encoded_dataframe.columns"
   ]
  },
  {
   "cell_type": "code",
   "execution_count": 18,
   "metadata": {
    "id": "u3qiJBG7RvSR"
   },
   "outputs": [],
   "source": [
    "output_column=encoded_dataframe['Accident Level'].values\n",
    "del encoded_dataframe['Accident Level']"
   ]
  },
  {
   "cell_type": "code",
   "execution_count": 19,
   "metadata": {
    "id": "oKbTW2N8RvPd"
   },
   "outputs": [],
   "source": [
    "del encoded_dataframe['Data']"
   ]
  },
  {
   "cell_type": "code",
   "execution_count": 20,
   "metadata": {
    "id": "ViivB5fRAFxx"
   },
   "outputs": [],
   "source": [
    "encoded_dataframe['Merged_Description']= encoded_dataframe['Description']+' '+encoded_dataframe['Critical Risk']"
   ]
  },
  {
   "cell_type": "code",
   "execution_count": 21,
   "metadata": {
    "colab": {
     "base_uri": "https://localhost:8080/",
     "height": 69
    },
    "id": "ptsiXmGKAWtx",
    "outputId": "67df8fa6-5d3b-4c7a-afb4-87473ac644e8"
   },
   "outputs": [
    {
     "data": {
      "application/vnd.google.colaboratory.intrinsic+json": {
       "type": "string"
      },
      "text/plain": [
       "'While removing the drill rod of the Jumbo 08 for maintenance, the supervisor proceeds to loosen the support of the intermediate centralizer to facilitate the removal, seeing this the mechanic supports one end on the drill of the equipment to pull with both hands the bar and accelerate the removal from this, at this moment the bar slides from its point of support and tightens the fingers of the mechanic between the drilling bar and the beam of the jumbo. Pressed'"
      ]
     },
     "execution_count": 21,
     "metadata": {
      "tags": []
     },
     "output_type": "execute_result"
    }
   ],
   "source": [
    "encoded_dataframe['Merged_Description'][0]"
   ]
  },
  {
   "cell_type": "code",
   "execution_count": 22,
   "metadata": {
    "id": "nmfEWg2YynFr"
   },
   "outputs": [],
   "source": [
    "stop_words = stopwords.words('english')\n",
    "punctuations = list(string.punctuation)\n",
    "stop_words += punctuations        "
   ]
  },
  {
   "cell_type": "code",
   "execution_count": 23,
   "metadata": {
    "id": "_CHQyptXG3cv"
   },
   "outputs": [],
   "source": [
    "count_vec=TfidfVectorizer(ngram_range=(1,3),stop_words=stop_words,min_df=0.1,max_df=0.9)\n",
    "words=[]\n",
    "for i in range(0,len(encoded_dataframe['Merged_Description'])):\n",
    "   words.append(\" \".join([w for w in word_tokenize(encoded_dataframe['Merged_Description'][i]) if not w in stop_words]))"
   ]
  },
  {
   "cell_type": "code",
   "execution_count": 24,
   "metadata": {
    "id": "AuE_4MMiG3cv"
   },
   "outputs": [],
   "source": [
    "words_transformed=count_vec.fit_transform(words)"
   ]
  },
  {
   "cell_type": "code",
   "execution_count": 25,
   "metadata": {
    "colab": {
     "base_uri": "https://localhost:8080/"
    },
    "id": "svxxqLk41B9U",
    "outputId": "b3e3025b-3ca7-4188-8120-10daaaff75d7"
   },
   "outputs": [
    {
     "data": {
      "text/plain": [
       "['accident',\n",
       " 'activity',\n",
       " 'approximately',\n",
       " 'area',\n",
       " 'assistant',\n",
       " 'causing',\n",
       " 'causing injury',\n",
       " 'collaborator',\n",
       " 'described',\n",
       " 'employee',\n",
       " 'equipment',\n",
       " 'finger',\n",
       " 'floor',\n",
       " 'hand',\n",
       " 'height',\n",
       " 'injury',\n",
       " 'left',\n",
       " 'left hand',\n",
       " 'level',\n",
       " 'moment',\n",
       " 'one',\n",
       " 'operator',\n",
       " 'others',\n",
       " 'right',\n",
       " 'right hand',\n",
       " 'rock',\n",
       " 'safety',\n",
       " 'support',\n",
       " 'time',\n",
       " 'time accident',\n",
       " 'work',\n",
       " 'worker']"
      ]
     },
     "execution_count": 25,
     "metadata": {
      "tags": []
     },
     "output_type": "execute_result"
    }
   ],
   "source": [
    "count_vec.get_feature_names()"
   ]
  },
  {
   "cell_type": "code",
   "execution_count": 26,
   "metadata": {
    "id": "ITVWGD9x_vtJ"
   },
   "outputs": [],
   "source": [
    "result = pd.concat([encoded_dataframe,pd.DataFrame(words_transformed.todense(),columns=['word_'+str(i)+'_'+count_vec.get_feature_names()[i] for i in range(0,words_transformed.todense().shape[1])])],axis=1)"
   ]
  },
  {
   "cell_type": "code",
   "execution_count": 27,
   "metadata": {
    "id": "P0Yxw3QgBTnp"
   },
   "outputs": [],
   "source": [
    "del result['Critical Risk']\n",
    "del result['Description']\n",
    "del result['Merged_Description']"
   ]
  },
  {
   "cell_type": "code",
   "execution_count": 28,
   "metadata": {
    "colab": {
     "base_uri": "https://localhost:8080/"
    },
    "id": "uGWjJ3UhRvKC",
    "outputId": "6f70f8a4-ae2d-496a-d5a2-f726f0fbfae0"
   },
   "outputs": [
    {
     "data": {
      "text/plain": [
       "43"
      ]
     },
     "execution_count": 28,
     "metadata": {
      "tags": []
     },
     "output_type": "execute_result"
    }
   ],
   "source": [
    "from sklearn.decomposition import PCA\n",
    "pca = PCA()\n",
    "pca.fit(result)\n",
    "k = 0\n",
    "total = 0\n",
    "while total <.99:\n",
    "    total = total + pca.explained_variance_ratio_[k]  #adding variance ratio \n",
    "    k = k + 1\n",
    "k"
   ]
  },
  {
   "cell_type": "code",
   "execution_count": 29,
   "metadata": {
    "id": "IWycZx9kRvHP"
   },
   "outputs": [],
   "source": [
    "pca = PCA(n_components=k)\n",
    "pca.fit(result)\n",
    "skl_transformed = pca.fit_transform(result) \n",
    "# pca.components_,pca.explained_variance_ratio_ #explained variance ratios wrt each component "
   ]
  },
  {
   "cell_type": "code",
   "execution_count": 30,
   "metadata": {
    "id": "5OL8yBTdRvEP"
   },
   "outputs": [],
   "source": [
    "labelencoder_y = LabelEncoder()  \n",
    "accident_level_encoded = labelencoder_y.fit_transform(output_column)"
   ]
  },
  {
   "cell_type": "code",
   "execution_count": 31,
   "metadata": {
    "colab": {
     "base_uri": "https://localhost:8080/"
    },
    "id": "MtLVlEYZMYGi",
    "outputId": "00c2ff75-90b9-4860-9333-a7767a439819"
   },
   "outputs": [
    {
     "data": {
      "text/plain": [
       "((318, 61), (107, 61), (318,), (107,))"
      ]
     },
     "execution_count": 31,
     "metadata": {
      "tags": []
     },
     "output_type": "execute_result"
    }
   ],
   "source": [
    "from sklearn.model_selection import train_test_split\n",
    "x_train,x_test,y_train,y_test=train_test_split(result,accident_level_encoded)\n",
    "x_train.shape,x_test.shape,y_train.shape,y_test.shape"
   ]
  },
  {
   "cell_type": "code",
   "execution_count": 32,
   "metadata": {
    "colab": {
     "base_uri": "https://localhost:8080/",
     "height": 1000
    },
    "id": "6JIxrxO4Mesf",
    "outputId": "511ab597-9e86-41c0-b4a3-88594e7507e8"
   },
   "outputs": [
    {
     "name": "stderr",
     "output_type": "stream",
     "text": [
      "/usr/local/lib/python3.6/dist-packages/sklearn/feature_selection/_univariate_selection.py:299: RuntimeWarning: invalid value encountered in true_divide\n",
      "  corr /= X_norms\n"
     ]
    },
    {
     "name": "stdout",
     "output_type": "stream",
     "text": [
      "Feature Countries_Country_01: 8.129240\n",
      "Feature Countries_Country_02: 3.385400\n",
      "Feature Countries_Country_03: 3.376179\n",
      "Feature Local_Local_01: 0.057609\n",
      "Feature Local_Local_02: 0.012564\n",
      "Feature Local_Local_03: 0.275733\n",
      "Feature Local_Local_04: 8.365507\n",
      "Feature Local_Local_05: 7.538299\n",
      "Feature Local_Local_06: 0.162832\n",
      "Feature Local_Local_07: 0.040262\n",
      "Feature Local_Local_08: 0.189173\n",
      "Feature Local_Local_09: nan\n",
      "Feature Local_Local_10: 3.376179\n",
      "Feature Local_Local_11: nan\n",
      "Feature Local_Local_12: 0.798693\n",
      "Feature Industry Sector_Metals: 2.180539\n",
      "Feature Industry Sector_Mining: 7.179462\n",
      "Feature Industry Sector_Others: 4.195053\n",
      "Feature Potential Accident Level_I: 11.052405\n",
      "Feature Potential Accident Level_II: 16.575804\n",
      "Feature Potential Accident Level_III: 10.651820\n",
      "Feature Potential Accident Level_IV: 20.896479\n",
      "Feature Potential Accident Level_V: 64.087252\n",
      "Feature Potential Accident Level_VI: nan\n",
      "Feature Genre_Female: 2.322228\n",
      "Feature Genre_Male: 2.322228\n",
      "Feature Employee or Third Party_Employee: 1.773794\n",
      "Feature Employee or Third Party_Third Party: 1.998631\n",
      "Feature Employee or Third Party_Third Party (Remote): 0.009864\n",
      "Feature word_0_accident: 0.653502\n",
      "Feature word_1_activity: 0.888343\n",
      "Feature word_2_approximately: 16.765111\n",
      "Feature word_3_area: 1.902513\n",
      "Feature word_4_assistant: 0.166497\n",
      "Feature word_5_causing: 0.268814\n",
      "Feature word_6_causing injury: 2.026652\n",
      "Feature word_7_collaborator: 0.365606\n",
      "Feature word_8_described: 2.519482\n",
      "Feature word_9_employee: 6.078103\n",
      "Feature word_10_equipment: 0.237813\n",
      "Feature word_11_finger: 0.018863\n",
      "Feature word_12_floor: 0.509644\n",
      "Feature word_13_hand: 4.183863\n",
      "Feature word_14_height: 2.034746\n",
      "Feature word_15_injury: 0.964759\n",
      "Feature word_16_left: 0.109407\n",
      "Feature word_17_left hand: 8.091864\n",
      "Feature word_18_level: 1.697154\n",
      "Feature word_19_moment: 5.485824\n",
      "Feature word_20_one: 0.179749\n",
      "Feature word_21_operator: 4.994054\n",
      "Feature word_22_others: 1.894764\n",
      "Feature word_23_right: 0.219713\n",
      "Feature word_24_right hand: 0.015784\n",
      "Feature word_25_rock: 0.003916\n",
      "Feature word_26_safety: 1.036978\n",
      "Feature word_27_support: 0.598621\n",
      "Feature word_28_time: 0.144644\n",
      "Feature word_29_time accident: 0.346258\n",
      "Feature word_30_work: 2.506606\n",
      "Feature word_31_worker: 0.297633\n"
     ]
    },
    {
     "data": {
      "image/png": "[encoded data removed]",
      "text/plain": [
       "<Figure size 432x288 with 1 Axes>"
      ]
     },
     "metadata": {
      "needs_background": "light",
      "tags": []
     },
     "output_type": "display_data"
    }
   ],
   "source": [
    "from sklearn.feature_selection import SelectKBest\n",
    "from sklearn.feature_selection import f_regression\n",
    "\n",
    "\n",
    "def select_features_correlation(X_train, y_train, X_test):\n",
    "\t# configure to select all features\n",
    "\tfs = SelectKBest(score_func=f_regression, k='all')\n",
    "\t# learn relationship from training data\n",
    "\tfs.fit(X_train, y_train)\n",
    "\t# transform train input data\n",
    "\tX_train_fs = fs.transform(X_train)\n",
    "\t# transform test input data\n",
    "\tX_test_fs = fs.transform(X_test)\n",
    "\treturn X_train_fs, X_test_fs, fs\n",
    "\n",
    "X_train_fs, X_test_fs, fs = select_features_correlation(x_train, y_train, x_test)\n",
    "# what are scores for the features\n",
    "for i in range(len(fs.scores_)):\n",
    "\tprint('Feature '+list(result.columns)[i]+': %f' % (fs.scores_[i]))\n",
    "# plot the scores\n",
    "plt.bar([i for i in range(len(fs.scores_))], fs.scores_)\n",
    "plt.show()"
   ]
  },
  {
   "cell_type": "code",
   "execution_count": 33,
   "metadata": {
    "id": "_E9h9rPvHNAa"
   },
   "outputs": [],
   "source": [
    "# from sklearn.model_selection import train_test_split\n",
    "# x_train,x_test,y_train,y_test=train_test_split(skl_transformed,accident_level_encoded)\n",
    "# x_train.shape,x_test.shape,y_train.shape,y_test.shape"
   ]
  },
  {
   "cell_type": "code",
   "execution_count": 34,
   "metadata": {
    "id": "eH2OD_WxLSev"
   },
   "outputs": [],
   "source": [
    "# from sklearn.feature_selection import SelectKBest\n",
    "# from sklearn.feature_selection import f_regression\n",
    "\n",
    "\n",
    "# def select_features_correlation(X_train, y_train, X_test):\n",
    "# \t# configure to select all features\n",
    "# \tfs = SelectKBest(score_func=f_regression, k='all')\n",
    "# \t# learn relationship from training data\n",
    "# \tfs.fit(X_train, y_train)\n",
    "# \t# transform train input data\n",
    "# \tX_train_fs = fs.transform(X_train)\n",
    "# \t# transform test input data\n",
    "# \tX_test_fs = fs.transform(X_test)\n",
    "# \treturn X_train_fs, X_test_fs, fs\n",
    "\n",
    "# X_train_fs, X_test_fs, fs = select_features_correlation(x_train, y_train, x_test)\n",
    "# # what are scores for the features\n",
    "# for i in range(len(fs.scores_)):\n",
    "# \tprint('Feature '+list([str(i) for i in pd.DataFrame(skl_transformed).columns])[i]+': %f' % (fs.scores_[i]))\n",
    "# # plot the scores\n",
    "# plt.bar([i for i in range(len(fs.scores_))], fs.scores_)\n",
    "# plt.show()"
   ]
  },
  {
   "cell_type": "code",
   "execution_count": 35,
   "metadata": {
    "colab": {
     "base_uri": "https://localhost:8080/"
    },
    "id": "b5g_Ii-HHqJ_",
    "outputId": "daf64f21-cd58-4db9-dc4f-03be42897ffc"
   },
   "outputs": [
    {
     "name": "stdout",
     "output_type": "stream",
     "text": [
      "Requirement already satisfied: imbalanced-learn in /usr/local/lib/python3.6/dist-packages (0.4.3)\n",
      "Requirement already satisfied: scikit-learn>=0.20 in /usr/local/lib/python3.6/dist-packages (from imbalanced-learn) (0.22.2.post1)\n",
      "Requirement already satisfied: scipy>=0.13.3 in /usr/local/lib/python3.6/dist-packages (from imbalanced-learn) (1.4.1)\n",
      "Requirement already satisfied: numpy>=1.8.2 in /usr/local/lib/python3.6/dist-packages (from imbalanced-learn) (1.19.4)\n",
      "Requirement already satisfied: joblib>=0.11 in /usr/local/lib/python3.6/dist-packages (from scikit-learn>=0.20->imbalanced-learn) (1.0.0)\n"
     ]
    }
   ],
   "source": [
    "! pip install imbalanced-learn"
   ]
  },
  {
   "cell_type": "code",
   "execution_count": 36,
   "metadata": {
    "colab": {
     "base_uri": "https://localhost:8080/"
    },
    "id": "l80RcqKX0-TP",
    "outputId": "3bba7e2a-9208-4fd0-e32b-7beb2c258cdb"
   },
   "outputs": [
    {
     "data": {
      "text/plain": [
       "((318, 61), (107, 61), (318,), (107,))"
      ]
     },
     "execution_count": 36,
     "metadata": {
      "tags": []
     },
     "output_type": "execute_result"
    }
   ],
   "source": [
    "x_train.shape,x_test.shape,y_train.shape,y_test.shape"
   ]
  },
  {
   "cell_type": "code",
   "execution_count": 37,
   "metadata": {
    "colab": {
     "base_uri": "https://localhost:8080/"
    },
    "id": "eCIgzDDx0_lv",
    "outputId": "592f0cdb-22a8-407e-a5ac-fc5151e602ca"
   },
   "outputs": [
    {
     "data": {
      "text/plain": [
       "array([1, 0, 1, 0, 0, 0, 0, 0, 1, 0, 0, 3, 0, 0, 0, 0, 0, 0, 0, 0, 0, 0,\n",
       "       0, 0, 0, 0, 0, 0, 0, 0, 0, 1, 2, 0, 0, 0, 1, 2, 1, 0, 0, 0, 0, 0,\n",
       "       0, 0, 0, 0, 0, 0, 3, 0, 0, 1, 0, 1, 0, 0, 0, 0, 0, 2, 0, 0, 0, 2,\n",
       "       0, 0, 0, 2, 0, 0, 0, 0, 0, 0, 2, 3, 0, 0, 0, 0, 0, 0, 0, 0, 0, 1,\n",
       "       0, 0, 0, 0, 0, 0, 4, 0, 0, 3, 0, 0, 0, 0, 0, 0, 0, 0, 1, 0, 4, 0,\n",
       "       0, 0, 3, 0, 0, 0, 0, 3, 0, 0, 2, 0, 0, 0, 0, 0, 0, 1, 0, 0, 1, 1,\n",
       "       0, 0, 0, 1, 0, 3, 0, 1, 0, 1, 0, 1, 1, 0, 0, 0, 0, 3, 0, 0, 1, 0,\n",
       "       0, 0, 0, 0, 0, 1, 0, 0, 3, 0, 0, 0, 1, 3, 0, 0, 2, 0, 0, 0, 0, 0,\n",
       "       0, 0, 0, 0, 0, 0, 0, 4, 1, 0, 0, 0, 0, 4, 2, 0, 0, 3, 0, 0, 0, 1,\n",
       "       0, 0, 0, 0, 0, 0, 0, 2, 3, 1, 3, 1, 0, 0, 0, 0, 0, 0, 0, 2, 0, 0,\n",
       "       1, 0, 0, 4, 0, 0, 0, 3, 0, 0, 0, 0, 0, 0, 0, 0, 0, 0, 0, 0, 3, 0,\n",
       "       1, 3, 0, 0, 0, 0, 1, 0, 0, 0, 0, 3, 1, 0, 0, 0, 3, 2, 0, 1, 0, 0,\n",
       "       0, 0, 0, 0, 3, 2, 0, 2, 0, 3, 0, 0, 3, 4, 0, 1, 0, 0, 0, 0, 0, 1,\n",
       "       0, 0, 0, 1, 0, 0, 1, 0, 0, 0, 2, 2, 1, 0, 0, 3, 0, 0, 0, 0, 2, 0,\n",
       "       0, 0, 0, 2, 3, 0, 0, 0, 0, 3])"
      ]
     },
     "execution_count": 37,
     "metadata": {
      "tags": []
     },
     "output_type": "execute_result"
    }
   ],
   "source": [
    "y_train"
   ]
  },
  {
   "cell_type": "code",
   "execution_count": 38,
   "metadata": {
    "id": "DDiXPeHcRvAC"
   },
   "outputs": [],
   "source": [
    "# from imblearn.over_sampling import SMOTE\n",
    "# sm = SMOTE(random_state=42)\n",
    "# X_res, y_res = sm.fit_sample(x_train, y_train)\n",
    "# X_res.shape,y_res.shape,x_test.shape,y_test.shape"
   ]
  },
  {
   "cell_type": "code",
   "execution_count": 39,
   "metadata": {
    "id": "Yrix9lsEIDQF"
   },
   "outputs": [],
   "source": [
    "from sklearn import model_selection\n",
    "from sklearn.model_selection import GridSearchCV\n",
    "from sklearn.neighbors import KNeighborsClassifier\n",
    "from sklearn import svm\n",
    "from sklearn.metrics import confusion_matrix\n",
    "from sklearn.linear_model import LogisticRegression\n",
    "from sklearn.model_selection import train_test_split,KFold  # Used to create a KFold object\n",
    "from sklearn.naive_bayes import GaussianNB\n",
    "from sklearn.model_selection import cross_val_score"
   ]
  },
  {
   "cell_type": "code",
   "execution_count": 40,
   "metadata": {
    "id": "ZHy4dVv2IFz_"
   },
   "outputs": [],
   "source": []
  },
  {
   "cell_type": "code",
   "execution_count": 41,
   "metadata": {
    "id": "lQky8J_cIHyC"
   },
   "outputs": [],
   "source": [
    "from sklearn.preprocessing import StandardScaler\n",
    "from sklearn.metrics import classification_report, confusion_matrix\n",
    "from sklearn.metrics import f1_score\n",
    "from sklearn.metrics import accuracy_score\n",
    "from sklearn.metrics import precision_score\n",
    "from sklearn.metrics import recall_score\n"
   ]
  },
  {
   "cell_type": "code",
   "execution_count": 42,
   "metadata": {
    "id": "hYE_WLv0G0QB"
   },
   "outputs": [],
   "source": [
    "from sklearn.ensemble import RandomForestClassifier\n",
    "\n",
    "def Random_Forest_Classifier(x_train,x_test,y_train,y_test):\n",
    "  rfcl = RandomForestClassifier(n_estimators = 6)\n",
    "  rfcl = rfcl.fit(x_train, y_train)\n",
    "  y_pred=rfcl.predict(x_test)\n",
    "  print(classification_report(y_test,y_pred))\n",
    "  print(confusion_matrix(y_test,y_pred))\n",
    "  print('F1-Score:', f1_score(y_test, y_pred, average='weighted'))\n",
    "  return f1_score(y_train, rfcl.predict(x_train), average='weighted'),accuracy_score(y_test, y_pred),precision_score(y_test, y_pred, average='weighted'),recall_score(y_test, y_pred, average='weighted'),f1_score(y_test, y_pred, average='weighted')\n",
    "\n",
    "def SVM_classifier(x_train,x_test,y_train,y_test):\n",
    "  model=svm.SVC()\n",
    "  model.fit(x_train,y_train)\n",
    "  y_pred = model.predict(x_test)\n",
    "  print(classification_report(y_test,y_pred))\n",
    "  print(confusion_matrix(y_test, y_pred))\n",
    "  print('F1-Score:', f1_score(y_test, y_pred, average='weighted'))\n",
    "  return f1_score(y_train, model.predict(x_train), average='weighted'),accuracy_score(y_test, y_pred),precision_score(y_test, y_pred, average='weighted'),recall_score(y_test, y_pred, average='weighted'),f1_score(y_test, y_pred, average='weighted')\n",
    "\n",
    "\n",
    "def KNN_classifier(x_train,x_test,y_train,y_test):\n",
    "  model= KNeighborsClassifier(n_neighbors=5)\n",
    "  model.fit(x_train,y_train)\n",
    "  y_pred = model.predict(x_test)\n",
    "  print(classification_report(y_test,y_pred))\n",
    "  print(confusion_matrix(y_test, model.predict(x_test)))\n",
    "  print('F1-Score:', f1_score(y_test, y_pred, average='weighted'))\n",
    "  return f1_score(y_train, model.predict(x_train), average='weighted'),accuracy_score(y_test, y_pred),precision_score(y_test, y_pred, average='weighted'),recall_score(y_test, y_pred, average='weighted'),f1_score(y_test, y_pred, average='weighted')\n",
    "\n",
    "\n",
    "\n",
    "def NB_classifier(x_train,x_test,y_train,y_test):\n",
    "  # Using the Gaussian Kernel for Naive Bayes.................\n",
    "  model = GaussianNB()\n",
    "  model.fit(x_train, y_train)\n",
    "  y_pred = model.predict(x_test)\n",
    "  print(classification_report(y_test,y_pred))\n",
    "  print(confusion_matrix(y_test,y_pred))\n",
    "  print('F1-Score:', f1_score(y_test, y_pred, average='weighted'))\n",
    "  return f1_score(y_train, model.predict(x_train), average='weighted'),accuracy_score(y_test, y_pred),precision_score(y_test, y_pred, average='weighted'),recall_score(y_test, y_pred, average='weighted'),f1_score(y_test, y_pred, average='weighted')\n",
    "\n",
    "\n",
    "\n",
    "def LR_classifier(x_train,x_test,y_train,y_test):\n",
    "  model= LogisticRegression() \n",
    "  model.fit(x_train, y_train)\n",
    "  y_pred = model.predict(x_test)\n",
    "  print(classification_report(y_test,y_pred))\n",
    "  print(confusion_matrix(y_test,y_pred))\n",
    "  print('F1-Score:', f1_score(y_test, y_pred, average='weighted'))\n",
    "  return f1_score(y_train, model.predict(x_train), average='weighted'),accuracy_score(y_test, y_pred),precision_score(y_test, y_pred, average='weighted'),recall_score(y_test, y_pred, average='weighted'),f1_score(y_test, y_pred, average='weighted')\n",
    "\n",
    "\n",
    "\n",
    "from sklearn import tree\n",
    "def DTree_classifier(x_train,x_test,y_train,y_test):\n",
    "  dTree = tree.DecisionTreeClassifier(criterion = 'gini', random_state=0)\n",
    "  dTree.fit(x_train, y_train)\n",
    "  y_pred = dTree.predict(x_test)\n",
    "  print(classification_report(y_test,y_pred))\n",
    "  print(confusion_matrix(y_test,y_pred))\n",
    "  print('F1-Score:', f1_score(y_test, y_pred, average='weighted'))\n",
    "  return f1_score(y_train, dTree.predict(x_train), average='weighted'),accuracy_score(y_test, y_pred),precision_score(y_test, y_pred, average='weighted'),recall_score(y_test, y_pred, average='weighted'),f1_score(y_test, y_pred, average='weighted')\n",
    "\n",
    "\n",
    "\n",
    "# Bagging Classifier\n",
    "from sklearn.ensemble import BaggingClassifier\n",
    "def Bagging_Classifer(x_train,x_test,y_train,y_test):\n",
    "  bgcl = BaggingClassifier(n_estimators=100, max_samples=.50 , oob_score=True)\n",
    "  bgcl = bgcl.fit(x_train, y_train)\n",
    "  y_pred = bgcl.predict(x_test)\n",
    "  print(classification_report(y_test,y_pred))\n",
    "  print(confusion_matrix(y_test,y_pred))\n",
    "  print('F1-Score:', f1_score(y_test, y_pred, average='weighted'))\n",
    "  return f1_score(y_train, bgcl.predict(x_train), average='weighted'),accuracy_score(y_test, y_pred),precision_score(y_test, y_pred, average='weighted'),recall_score(y_test, y_pred, average='weighted'),f1_score(y_test, y_pred, average='weighted')\n",
    "\n",
    "\n",
    "\n",
    " # Gradient Boosting\n",
    "from sklearn.ensemble import GradientBoostingClassifier\n",
    "def Gradient_Boosting_Classifier(x_train,x_test,y_train,y_test):\n",
    "  gb = GradientBoostingClassifier(n_estimators = 50, learning_rate = 0.09, max_depth=5)\n",
    "  gb.fit(x_train, y_train)\n",
    "  y_pred=gb.predict(x_test)\n",
    "  print(classification_report(y_test,y_pred))\n",
    "  print(confusion_matrix(y_test,y_pred))\n",
    "  print('F1-Score:', f1_score(y_test, y_pred, average='weighted'))\n",
    "  return f1_score(y_train, gb.predict(x_train), average='weighted'),accuracy_score(y_test, y_pred),precision_score(y_test, y_pred, average='weighted'),recall_score(y_test, y_pred, average='weighted'),f1_score(y_test, y_pred, average='weighted')\n",
    "\n",
    "\n",
    "\n",
    "# Ada Boosting\n",
    "from sklearn.ensemble import AdaBoostClassifier\n",
    "def AdaBoost_Classifier(x_train,x_test,y_train,y_test):\n",
    "  dt_model = tree.DecisionTreeClassifier(criterion = 'entropy' )  \n",
    "  abcl = AdaBoostClassifier(base_estimator=dt_model, n_estimators=50)\n",
    "  abcl = abcl.fit(x_train, y_train)\n",
    "  y_pred=abcl.predict(x_test)\n",
    "  print(classification_report(y_test,y_pred))\n",
    "  print(confusion_matrix(y_test,y_pred))\n",
    "  print('F1-Score:', f1_score(y_test, y_pred, average='weighted'))\n",
    "  return f1_score(y_train, abcl.predict(x_train), average='weighted'),accuracy_score(y_test, y_pred),precision_score(y_test, y_pred, average='weighted'),recall_score(y_test, y_pred, average='weighted'),f1_score(y_test, y_pred, average='weighted')\n",
    "\n"
   ]
  },
  {
   "cell_type": "code",
   "execution_count": 43,
   "metadata": {
    "id": "VkwzM6ZNKmfr"
   },
   "outputs": [],
   "source": [
    "test_score=[]"
   ]
  },
  {
   "cell_type": "code",
   "execution_count": 44,
   "metadata": {
    "colab": {
     "base_uri": "https://localhost:8080/"
    },
    "id": "qPlA8o2AG09w",
    "outputId": "81dfabe5-2910-4a5f-873c-6b2225f2ca6f"
   },
   "outputs": [
    {
     "name": "stdout",
     "output_type": "stream",
     "text": [
      "              precision    recall  f1-score   support\n",
      "\n",
      "           0       0.77      0.94      0.84        81\n",
      "           1       0.00      0.00      0.00         5\n",
      "           2       0.00      0.00      0.00        13\n",
      "           3       0.00      0.00      0.00         6\n",
      "           4       0.00      0.00      0.00         2\n",
      "\n",
      "    accuracy                           0.71       107\n",
      "   macro avg       0.15      0.19      0.17       107\n",
      "weighted avg       0.58      0.71      0.64       107\n",
      "\n",
      "[[76  2  1  2  0]\n",
      " [ 5  0  0  0  0]\n",
      " [11  1  0  1  0]\n",
      " [ 6  0  0  0  0]\n",
      " [ 1  0  0  1  0]]\n",
      "F1-Score: 0.6392523364485981\n"
     ]
    },
    {
     "name": "stderr",
     "output_type": "stream",
     "text": [
      "/usr/local/lib/python3.6/dist-packages/sklearn/metrics/_classification.py:1272: UndefinedMetricWarning: Precision and F-score are ill-defined and being set to 0.0 in labels with no predicted samples. Use `zero_division` parameter to control this behavior.\n",
      "  _warn_prf(average, modifier, msg_start, len(result))\n",
      "/usr/local/lib/python3.6/dist-packages/sklearn/metrics/_classification.py:1272: UndefinedMetricWarning: Precision is ill-defined and being set to 0.0 in labels with no predicted samples. Use `zero_division` parameter to control this behavior.\n",
      "  _warn_prf(average, modifier, msg_start, len(result))\n"
     ]
    }
   ],
   "source": [
    "test_score.append(Random_Forest_Classifier(x_train,x_test,y_train,y_test))"
   ]
  },
  {
   "cell_type": "code",
   "execution_count": 45,
   "metadata": {
    "colab": {
     "base_uri": "https://localhost:8080/"
    },
    "id": "opIRzcxH1NOB",
    "outputId": "1e7458f3-9426-4048-86d2-dab0f74b2404"
   },
   "outputs": [
    {
     "name": "stdout",
     "output_type": "stream",
     "text": [
      "              precision    recall  f1-score   support\n",
      "\n",
      "           0       0.76      1.00      0.86        81\n",
      "           1       0.00      0.00      0.00         5\n",
      "           2       0.00      0.00      0.00        13\n",
      "           3       0.00      0.00      0.00         6\n",
      "           4       0.00      0.00      0.00         2\n",
      "\n",
      "    accuracy                           0.76       107\n",
      "   macro avg       0.15      0.20      0.17       107\n",
      "weighted avg       0.57      0.76      0.65       107\n",
      "\n",
      "[[81  0  0  0  0]\n",
      " [ 5  0  0  0  0]\n",
      " [13  0  0  0  0]\n",
      " [ 6  0  0  0  0]\n",
      " [ 2  0  0  0  0]]\n",
      "F1-Score: 0.6523165639292106\n"
     ]
    },
    {
     "name": "stderr",
     "output_type": "stream",
     "text": [
      "/usr/local/lib/python3.6/dist-packages/sklearn/metrics/_classification.py:1272: UndefinedMetricWarning: Precision and F-score are ill-defined and being set to 0.0 in labels with no predicted samples. Use `zero_division` parameter to control this behavior.\n",
      "  _warn_prf(average, modifier, msg_start, len(result))\n",
      "/usr/local/lib/python3.6/dist-packages/sklearn/metrics/_classification.py:1272: UndefinedMetricWarning: Precision is ill-defined and being set to 0.0 in labels with no predicted samples. Use `zero_division` parameter to control this behavior.\n",
      "  _warn_prf(average, modifier, msg_start, len(result))\n"
     ]
    }
   ],
   "source": [
    "test_score.append(SVM_classifier(x_train,x_test,y_train,y_test))"
   ]
  },
  {
   "cell_type": "code",
   "execution_count": 46,
   "metadata": {
    "colab": {
     "base_uri": "https://localhost:8080/"
    },
    "id": "XinWBMYrIaEw",
    "outputId": "790be92a-6455-4eca-d3b8-f9f381a704b6"
   },
   "outputs": [
    {
     "name": "stdout",
     "output_type": "stream",
     "text": [
      "              precision    recall  f1-score   support\n",
      "\n",
      "           0       0.90      0.23      0.37        81\n",
      "           1       0.04      0.20      0.07         5\n",
      "           2       0.08      0.23      0.12        13\n",
      "           3       0.13      0.50      0.21         6\n",
      "           4       0.50      0.50      0.50         2\n",
      "\n",
      "    accuracy                           0.25       107\n",
      "   macro avg       0.33      0.33      0.25       107\n",
      "weighted avg       0.71      0.25      0.32       107\n",
      "\n",
      "[[19 22 30 10  0]\n",
      " [ 1  1  2  1  0]\n",
      " [ 1  1  3  8  0]\n",
      " [ 0  0  2  3  1]\n",
      " [ 0  0  0  1  1]]\n",
      "F1-Score: 0.3207726867737104\n"
     ]
    }
   ],
   "source": [
    "test_score.append(NB_classifier(x_train,x_test,y_train,y_test))"
   ]
  },
  {
   "cell_type": "code",
   "execution_count": 47,
   "metadata": {
    "colab": {
     "base_uri": "https://localhost:8080/"
    },
    "id": "H2EAdZxAG07t",
    "outputId": "c317944e-e5a1-4373-ff75-e58dca685f07"
   },
   "outputs": [
    {
     "name": "stdout",
     "output_type": "stream",
     "text": [
      "              precision    recall  f1-score   support\n",
      "\n",
      "           0       0.76      0.96      0.85        81\n",
      "           1       0.00      0.00      0.00         5\n",
      "           2       0.00      0.00      0.00        13\n",
      "           3       0.00      0.00      0.00         6\n",
      "           4       0.00      0.00      0.00         2\n",
      "\n",
      "    accuracy                           0.73       107\n",
      "   macro avg       0.15      0.19      0.17       107\n",
      "weighted avg       0.58      0.73      0.65       107\n",
      "\n",
      "[[78  2  0  0  1]\n",
      " [ 5  0  0  0  0]\n",
      " [12  1  0  0  0]\n",
      " [ 5  0  1  0  0]\n",
      " [ 2  0  0  0  0]]\n",
      "F1-Score: 0.6453194423165314\n"
     ]
    },
    {
     "name": "stderr",
     "output_type": "stream",
     "text": [
      "/usr/local/lib/python3.6/dist-packages/sklearn/metrics/_classification.py:1272: UndefinedMetricWarning: Precision and F-score are ill-defined and being set to 0.0 in labels with no predicted samples. Use `zero_division` parameter to control this behavior.\n",
      "  _warn_prf(average, modifier, msg_start, len(result))\n",
      "/usr/local/lib/python3.6/dist-packages/sklearn/metrics/_classification.py:1272: UndefinedMetricWarning: Precision is ill-defined and being set to 0.0 in labels with no predicted samples. Use `zero_division` parameter to control this behavior.\n",
      "  _warn_prf(average, modifier, msg_start, len(result))\n"
     ]
    }
   ],
   "source": [
    "test_score.append(KNN_classifier(x_train,x_test,y_train,y_test))"
   ]
  },
  {
   "cell_type": "code",
   "execution_count": 48,
   "metadata": {
    "colab": {
     "base_uri": "https://localhost:8080/"
    },
    "id": "J6C2uzEKQ9mf",
    "outputId": "76872a5a-213b-4401-9923-f0381ed70daa"
   },
   "outputs": [
    {
     "name": "stdout",
     "output_type": "stream",
     "text": [
      "              precision    recall  f1-score   support\n",
      "\n",
      "           0       0.81      0.98      0.88        81\n",
      "           1       0.00      0.00      0.00         5\n",
      "           2       0.50      0.08      0.13        13\n",
      "           3       0.33      0.17      0.22         6\n",
      "           4       0.50      0.50      0.50         2\n",
      "\n",
      "    accuracy                           0.77       107\n",
      "   macro avg       0.43      0.34      0.35       107\n",
      "weighted avg       0.70      0.77      0.71       107\n",
      "\n",
      "[[79  1  1  0  0]\n",
      " [ 5  0  0  0  0]\n",
      " [ 9  1  1  2  0]\n",
      " [ 4  0  0  1  1]\n",
      " [ 1  0  0  0  1]]\n",
      "F1-Score: 0.7062044240240867\n"
     ]
    }
   ],
   "source": [
    "test_score.append(LR_classifier(x_train,x_test,y_train,y_test))"
   ]
  },
  {
   "cell_type": "code",
   "execution_count": 49,
   "metadata": {
    "colab": {
     "base_uri": "https://localhost:8080/"
    },
    "id": "eVxxCk-oG04y",
    "outputId": "960a6710-d74e-4343-d7fb-60f2d89870ba"
   },
   "outputs": [
    {
     "name": "stdout",
     "output_type": "stream",
     "text": [
      "              precision    recall  f1-score   support\n",
      "\n",
      "           0       0.84      0.84      0.84        81\n",
      "           1       0.00      0.00      0.00         5\n",
      "           2       0.50      0.23      0.32        13\n",
      "           3       0.43      0.50      0.46         6\n",
      "           4       1.00      0.50      0.67         2\n",
      "\n",
      "    accuracy                           0.70       107\n",
      "   macro avg       0.55      0.41      0.46       107\n",
      "weighted avg       0.74      0.70      0.71       107\n",
      "\n",
      "[[68  9  3  1  0]\n",
      " [ 5  0  0  0  0]\n",
      " [ 4  3  3  3  0]\n",
      " [ 3  0  0  3  0]\n",
      " [ 1  0  0  0  1]]\n",
      "F1-Score: 0.7122226846771854\n"
     ]
    }
   ],
   "source": [
    "test_score.append(DTree_classifier(x_train,x_test,y_train,y_test))"
   ]
  },
  {
   "cell_type": "code",
   "execution_count": 50,
   "metadata": {
    "colab": {
     "base_uri": "https://localhost:8080/"
    },
    "id": "qiiNkjbKRiIp",
    "outputId": "e5df9bd7-4309-4feb-ce8d-7cf7ff724e8b"
   },
   "outputs": [
    {
     "name": "stdout",
     "output_type": "stream",
     "text": [
      "              precision    recall  f1-score   support\n",
      "\n",
      "           0       0.80      0.98      0.88        81\n",
      "           1       0.00      0.00      0.00         5\n",
      "           2       0.50      0.08      0.13        13\n",
      "           3       0.00      0.00      0.00         6\n",
      "           4       0.00      0.00      0.00         2\n",
      "\n",
      "    accuracy                           0.75       107\n",
      "   macro avg       0.26      0.21      0.20       107\n",
      "weighted avg       0.66      0.75      0.68       107\n",
      "\n",
      "[[79  1  1  0  0]\n",
      " [ 5  0  0  0  0]\n",
      " [ 7  2  1  3  0]\n",
      " [ 6  0  0  0  0]\n",
      " [ 2  0  0  0  0]]\n",
      "F1-Score: 0.6806853582554518\n"
     ]
    },
    {
     "name": "stderr",
     "output_type": "stream",
     "text": [
      "/usr/local/lib/python3.6/dist-packages/sklearn/metrics/_classification.py:1272: UndefinedMetricWarning: Precision and F-score are ill-defined and being set to 0.0 in labels with no predicted samples. Use `zero_division` parameter to control this behavior.\n",
      "  _warn_prf(average, modifier, msg_start, len(result))\n",
      "/usr/local/lib/python3.6/dist-packages/sklearn/metrics/_classification.py:1272: UndefinedMetricWarning: Precision is ill-defined and being set to 0.0 in labels with no predicted samples. Use `zero_division` parameter to control this behavior.\n",
      "  _warn_prf(average, modifier, msg_start, len(result))\n"
     ]
    }
   ],
   "source": [
    "test_score.append(Bagging_Classifer(x_train,x_test,y_train,y_test))"
   ]
  },
  {
   "cell_type": "code",
   "execution_count": 51,
   "metadata": {
    "colab": {
     "base_uri": "https://localhost:8080/"
    },
    "id": "UIjmnj0RG02M",
    "outputId": "e3eebb01-98f7-440a-9705-800b12fddf43"
   },
   "outputs": [
    {
     "name": "stdout",
     "output_type": "stream",
     "text": [
      "              precision    recall  f1-score   support\n",
      "\n",
      "           0       0.77      0.89      0.83        81\n",
      "           1       0.00      0.00      0.00         5\n",
      "           2       0.00      0.00      0.00        13\n",
      "           3       0.00      0.00      0.00         6\n",
      "           4       1.00      0.50      0.67         2\n",
      "\n",
      "    accuracy                           0.68       107\n",
      "   macro avg       0.35      0.28      0.30       107\n",
      "weighted avg       0.60      0.68      0.64       107\n",
      "\n",
      "[[72  7  1  1  0]\n",
      " [ 5  0  0  0  0]\n",
      " [ 9  1  0  3  0]\n",
      " [ 6  0  0  0  0]\n",
      " [ 1  0  0  0  1]]\n",
      "F1-Score: 0.6389515522612524\n"
     ]
    }
   ],
   "source": [
    "test_score.append(AdaBoost_Classifier(x_train,x_test,y_train,y_test))"
   ]
  },
  {
   "cell_type": "code",
   "execution_count": 52,
   "metadata": {
    "colab": {
     "base_uri": "https://localhost:8080/"
    },
    "id": "WXu6ibMiRvyo",
    "outputId": "7c9d24c8-5517-4bb2-aaac-204a847d0086"
   },
   "outputs": [
    {
     "name": "stdout",
     "output_type": "stream",
     "text": [
      "              precision    recall  f1-score   support\n",
      "\n",
      "           0       0.79      0.91      0.85        81\n",
      "           1       0.00      0.00      0.00         5\n",
      "           2       0.33      0.08      0.12        13\n",
      "           3       0.25      0.17      0.20         6\n",
      "           4       0.00      0.00      0.00         2\n",
      "\n",
      "    accuracy                           0.71       107\n",
      "   macro avg       0.27      0.23      0.23       107\n",
      "weighted avg       0.65      0.71      0.67       107\n",
      "\n",
      "[[74  5  2  0  0]\n",
      " [ 5  0  0  0  0]\n",
      " [ 9  1  1  2  0]\n",
      " [ 5  0  0  1  0]\n",
      " [ 1  0  0  1  0]]\n",
      "F1-Score: 0.6666154873164218\n"
     ]
    },
    {
     "name": "stderr",
     "output_type": "stream",
     "text": [
      "/usr/local/lib/python3.6/dist-packages/sklearn/metrics/_classification.py:1272: UndefinedMetricWarning: Precision and F-score are ill-defined and being set to 0.0 in labels with no predicted samples. Use `zero_division` parameter to control this behavior.\n",
      "  _warn_prf(average, modifier, msg_start, len(result))\n",
      "/usr/local/lib/python3.6/dist-packages/sklearn/metrics/_classification.py:1272: UndefinedMetricWarning: Precision is ill-defined and being set to 0.0 in labels with no predicted samples. Use `zero_division` parameter to control this behavior.\n",
      "  _warn_prf(average, modifier, msg_start, len(result))\n"
     ]
    }
   ],
   "source": [
    "test_score.append(Gradient_Boosting_Classifier(x_train,x_test,y_train,y_test))"
   ]
  },
  {
   "cell_type": "code",
   "execution_count": 54,
   "metadata": {
    "id": "qdOKmoQESL-3"
   },
   "outputs": [],
   "source": [
    "names=np.array(['Random Forest','SVM','Naive Bayes','KNN','Logistic Regression','Decision Tree','Bagging','Gradient Boosting','AdaBoost'])\n",
    "test_score=np.array(test_score)"
   ]
  },
  {
   "cell_type": "code",
   "execution_count": 55,
   "metadata": {
    "colab": {
     "base_uri": "https://localhost:8080/",
     "height": 328
    },
    "id": "yzrtsh_4MCw9",
    "outputId": "2aef2f46-c607-44e3-c84b-2740ddb6b5f9"
   },
   "outputs": [
    {
     "data": {
      "text/html": [
       "<div>\n",
       "<style scoped>\n",
       "    .dataframe tbody tr th:only-of-type {\n",
       "        vertical-align: middle;\n",
       "    }\n",
       "\n",
       "    .dataframe tbody tr th {\n",
       "        vertical-align: top;\n",
       "    }\n",
       "\n",
       "    .dataframe thead th {\n",
       "        text-align: right;\n",
       "    }\n",
       "</style>\n",
       "<table border=\"1\" class=\"dataframe\">\n",
       "  <thead>\n",
       "    <tr style=\"text-align: right;\">\n",
       "      <th></th>\n",
       "      <th>Train Score</th>\n",
       "      <th>Test Accuracy Score</th>\n",
       "      <th>Test Weighted Precison Score</th>\n",
       "      <th>Test Weighted Recall Score</th>\n",
       "      <th>Test Weighted F-1 Score</th>\n",
       "      <th>Name of Algorithm</th>\n",
       "    </tr>\n",
       "  </thead>\n",
       "  <tbody>\n",
       "    <tr>\n",
       "      <th>0</th>\n",
       "      <td>0.974305</td>\n",
       "      <td>0.710280</td>\n",
       "      <td>0.581138</td>\n",
       "      <td>0.710280</td>\n",
       "      <td>0.639252</td>\n",
       "      <td>Random Forest</td>\n",
       "    </tr>\n",
       "    <tr>\n",
       "      <th>1</th>\n",
       "      <td>0.628078</td>\n",
       "      <td>0.757009</td>\n",
       "      <td>0.573063</td>\n",
       "      <td>0.757009</td>\n",
       "      <td>0.652317</td>\n",
       "      <td>SVM</td>\n",
       "    </tr>\n",
       "    <tr>\n",
       "      <th>2</th>\n",
       "      <td>0.362594</td>\n",
       "      <td>0.252336</td>\n",
       "      <td>0.713371</td>\n",
       "      <td>0.252336</td>\n",
       "      <td>0.320773</td>\n",
       "      <td>Naive Bayes</td>\n",
       "    </tr>\n",
       "    <tr>\n",
       "      <th>3</th>\n",
       "      <td>0.728444</td>\n",
       "      <td>0.728972</td>\n",
       "      <td>0.578889</td>\n",
       "      <td>0.728972</td>\n",
       "      <td>0.645319</td>\n",
       "      <td>KNN</td>\n",
       "    </tr>\n",
       "    <tr>\n",
       "      <th>4</th>\n",
       "      <td>0.745686</td>\n",
       "      <td>0.766355</td>\n",
       "      <td>0.699027</td>\n",
       "      <td>0.766355</td>\n",
       "      <td>0.706204</td>\n",
       "      <td>Logistic Regression</td>\n",
       "    </tr>\n",
       "    <tr>\n",
       "      <th>5</th>\n",
       "      <td>0.993658</td>\n",
       "      <td>0.700935</td>\n",
       "      <td>0.738985</td>\n",
       "      <td>0.700935</td>\n",
       "      <td>0.712223</td>\n",
       "      <td>Decision Tree</td>\n",
       "    </tr>\n",
       "    <tr>\n",
       "      <th>6</th>\n",
       "      <td>0.936808</td>\n",
       "      <td>0.747664</td>\n",
       "      <td>0.664826</td>\n",
       "      <td>0.747664</td>\n",
       "      <td>0.680685</td>\n",
       "      <td>Bagging</td>\n",
       "    </tr>\n",
       "    <tr>\n",
       "      <th>7</th>\n",
       "      <td>0.993658</td>\n",
       "      <td>0.682243</td>\n",
       "      <td>0.604763</td>\n",
       "      <td>0.682243</td>\n",
       "      <td>0.638952</td>\n",
       "      <td>Gradient Boosting</td>\n",
       "    </tr>\n",
       "    <tr>\n",
       "      <th>8</th>\n",
       "      <td>0.993658</td>\n",
       "      <td>0.710280</td>\n",
       "      <td>0.650461</td>\n",
       "      <td>0.710280</td>\n",
       "      <td>0.666615</td>\n",
       "      <td>AdaBoost</td>\n",
       "    </tr>\n",
       "  </tbody>\n",
       "</table>\n",
       "</div>"
      ],
      "text/plain": [
       "   Train Score  ...    Name of Algorithm\n",
       "0     0.974305  ...        Random Forest\n",
       "1     0.628078  ...                  SVM\n",
       "2     0.362594  ...          Naive Bayes\n",
       "3     0.728444  ...                  KNN\n",
       "4     0.745686  ...  Logistic Regression\n",
       "5     0.993658  ...        Decision Tree\n",
       "6     0.936808  ...              Bagging\n",
       "7     0.993658  ...    Gradient Boosting\n",
       "8     0.993658  ...             AdaBoost\n",
       "\n",
       "[9 rows x 6 columns]"
      ]
     },
     "execution_count": 55,
     "metadata": {
      "tags": []
     },
     "output_type": "execute_result"
    }
   ],
   "source": [
    "test_score=pd.DataFrame(test_score,columns=['Train Score','Test Accuracy Score','Test Weighted Precison Score','Test Weighted Recall Score','Test Weighted F-1 Score'])\n",
    "test_score['Name of Algorithm']=names\n",
    "test_score"
   ]
  },
  {
   "cell_type": "code",
   "execution_count": 56,
   "metadata": {
    "id": "w4cvSKs_SLha"
   },
   "outputs": [],
   "source": [
    "# test_f1_score_pd=pd.DataFrame((np.vstack(([float(i) for i in test_score], names)).T),columns=['Train Score','Test Accuracy Score','Test Weighted Precison Score','Test Weighted Recall Score','Test Weighted F-1 Score','Name of Algorithm'])"
   ]
  },
  {
   "cell_type": "code",
   "execution_count": 57,
   "metadata": {
    "colab": {
     "base_uri": "https://localhost:8080/",
     "height": 400
    },
    "id": "PdtAqHTlPCvy",
    "outputId": "265fb9a5-cd78-44ea-9991-b712cc663c1b"
   },
   "outputs": [
    {
     "data": {
      "text/plain": [
       "<Figure size 7200x1440 with 0 Axes>"
      ]
     },
     "metadata": {
      "tags": []
     },
     "output_type": "display_data"
    },
    {
     "data": {
      "image/png": "[encoded data removed]",
      "text/plain": [
       "<Figure size 360x360 with 1 Axes>"
      ]
     },
     "metadata": {
      "needs_background": "light",
      "tags": []
     },
     "output_type": "display_data"
    }
   ],
   "source": [
    "plt.figure(figsize=(100,20))\n",
    "sns.catplot(x='Test Weighted F-1 Score', y='Name of Algorithm',data=test_score,kind='bar');"
   ]
  },
  {
   "cell_type": "code",
   "execution_count": 58,
   "metadata": {
    "colab": {
     "base_uri": "https://localhost:8080/",
     "height": 400
    },
    "id": "rTw9bIfEMDzo",
    "outputId": "c32e53eb-0233-4d11-9385-7ce8b8d9c554"
   },
   "outputs": [
    {
     "data": {
      "text/plain": [
       "<Figure size 7200x1440 with 0 Axes>"
      ]
     },
     "metadata": {
      "tags": []
     },
     "output_type": "display_data"
    },
    {
     "data": {
      "image/png": "[encoded data removed]",
      "text/plain": [
       "<Figure size 360x360 with 1 Axes>"
      ]
     },
     "metadata": {
      "needs_background": "light",
      "tags": []
     },
     "output_type": "display_data"
    }
   ],
   "source": [
    "plt.figure(figsize=(100,20))\n",
    "sns.catplot(x='Test Weighted F-1 Score', y='Name of Algorithm',data=test_score,kind='point');"
   ]
  },
  {
   "cell_type": "code",
   "execution_count": 59,
   "metadata": {
    "id": "uMpV87BFRYna"
   },
   "outputs": [],
   "source": [
    "# SVM_classifier(X_res,x_test,y_res,y_test)"
   ]
  },
  {
   "cell_type": "code",
   "execution_count": 60,
   "metadata": {
    "id": "UJWWbJyZRiCT"
   },
   "outputs": [],
   "source": [
    "# KNN_classifier(X_res,x_test,y_res,y_test)"
   ]
  },
  {
   "cell_type": "code",
   "execution_count": 61,
   "metadata": {
    "id": "i850WJblRvps"
   },
   "outputs": [],
   "source": [
    "# NB_classifier(X_res,x_test,y_res,y_test)"
   ]
  },
  {
   "cell_type": "code",
   "execution_count": 62,
   "metadata": {
    "id": "Kjrh9piKQtCE"
   },
   "outputs": [],
   "source": [
    "# Random_Forest_Classifier(X_res,x_test,y_res,y_test)"
   ]
  }
 ],
 "metadata": {
  "colab": {
   "name": "Industrial_Chatbot_Capstone_Modelling_Machine_Learning.ipynb",
   "provenance": []
  },
  "kernelspec": {
   "display_name": "Python 3",
   "language": "python",
   "name": "python3"
  },
  "language_info": {
   "codemirror_mode": {
    "name": "ipython",
    "version": 3
   },
   "file_extension": ".py",
   "mimetype": "text/x-python",
   "name": "python",
   "nbconvert_exporter": "python",
   "pygments_lexer": "ipython3",
   "version": "3.7.1"
  }
 },
 "nbformat": 4,
 "nbformat_minor": 1
}
