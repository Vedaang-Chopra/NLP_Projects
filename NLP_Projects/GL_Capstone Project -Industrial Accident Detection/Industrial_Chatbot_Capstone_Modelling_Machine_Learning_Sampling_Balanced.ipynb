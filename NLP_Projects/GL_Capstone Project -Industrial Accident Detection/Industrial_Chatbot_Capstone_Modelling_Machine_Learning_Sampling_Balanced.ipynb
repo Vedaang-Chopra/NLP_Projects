{
 "cells": [
  {
   "cell_type": "code",
   "execution_count": null,
   "metadata": {
    "colab": {
     "base_uri": "https://localhost:8080/"
    },
    "id": "NkCeDpL0Rl04",
    "outputId": "f4542bfe-f4bf-4ef0-c9ab-2c1b872ba53b"
   },
   "outputs": [
    {
     "name": "stdout",
     "output_type": "stream",
     "text": [
      "/usr/lib/python3.6/runpy.py:125: RuntimeWarning: 'nltk.downloader' found in sys.modules after import of package 'nltk', but prior to execution of 'nltk.downloader'; this may result in unpredictable behaviour\n",
      "  warn(RuntimeWarning(msg))\n",
      "[nltk_data] Downloading collection 'all'\n",
      "[nltk_data]    | \n",
      "[nltk_data]    | Downloading package abc to /root/nltk_data...\n",
      "[nltk_data]    |   Unzipping corpora/abc.zip.\n",
      "[nltk_data]    | Downloading package alpino to /root/nltk_data...\n",
      "[nltk_data]    |   Unzipping corpora/alpino.zip.\n",
      "[nltk_data]    | Downloading package biocreative_ppi to\n",
      "[nltk_data]    |     /root/nltk_data...\n",
      "[nltk_data]    |   Unzipping corpora/biocreative_ppi.zip.\n",
      "[nltk_data]    | Downloading package brown to /root/nltk_data...\n",
      "[nltk_data]    |   Unzipping corpora/brown.zip.\n",
      "[nltk_data]    | Downloading package brown_tei to /root/nltk_data...\n",
      "[nltk_data]    |   Unzipping corpora/brown_tei.zip.\n",
      "[nltk_data]    | Downloading package cess_cat to /root/nltk_data...\n",
      "[nltk_data]    |   Unzipping corpora/cess_cat.zip.\n",
      "[nltk_data]    | Downloading package cess_esp to /root/nltk_data...\n",
      "[nltk_data]    |   Unzipping corpora/cess_esp.zip.\n",
      "[nltk_data]    | Downloading package chat80 to /root/nltk_data...\n",
      "[nltk_data]    |   Unzipping corpora/chat80.zip.\n",
      "[nltk_data]    | Downloading package city_database to\n",
      "[nltk_data]    |     /root/nltk_data...\n",
      "[nltk_data]    |   Unzipping corpora/city_database.zip.\n",
      "[nltk_data]    | Downloading package cmudict to /root/nltk_data...\n",
      "[nltk_data]    |   Unzipping corpora/cmudict.zip.\n",
      "[nltk_data]    | Downloading package comparative_sentences to\n",
      "[nltk_data]    |     /root/nltk_data...\n",
      "[nltk_data]    |   Unzipping corpora/comparative_sentences.zip.\n",
      "[nltk_data]    | Downloading package comtrans to /root/nltk_data...\n",
      "[nltk_data]    | Downloading package conll2000 to /root/nltk_data...\n",
      "[nltk_data]    |   Unzipping corpora/conll2000.zip.\n",
      "[nltk_data]    | Downloading package conll2002 to /root/nltk_data...\n",
      "[nltk_data]    |   Unzipping corpora/conll2002.zip.\n",
      "[nltk_data]    | Downloading package conll2007 to /root/nltk_data...\n",
      "[nltk_data]    | Downloading package crubadan to /root/nltk_data...\n",
      "[nltk_data]    |   Unzipping corpora/crubadan.zip.\n",
      "[nltk_data]    | Downloading package dependency_treebank to\n",
      "[nltk_data]    |     /root/nltk_data...\n",
      "[nltk_data]    |   Unzipping corpora/dependency_treebank.zip.\n",
      "[nltk_data]    | Downloading package dolch to /root/nltk_data...\n",
      "[nltk_data]    |   Unzipping corpora/dolch.zip.\n",
      "[nltk_data]    | Downloading package europarl_raw to\n",
      "[nltk_data]    |     /root/nltk_data...\n",
      "[nltk_data]    |   Unzipping corpora/europarl_raw.zip.\n",
      "[nltk_data]    | Downloading package floresta to /root/nltk_data...\n",
      "[nltk_data]    |   Unzipping corpora/floresta.zip.\n",
      "[nltk_data]    | Downloading package framenet_v15 to\n",
      "[nltk_data]    |     /root/nltk_data...\n",
      "[nltk_data]    |   Unzipping corpora/framenet_v15.zip.\n",
      "[nltk_data]    | Downloading package framenet_v17 to\n",
      "[nltk_data]    |     /root/nltk_data...\n",
      "[nltk_data]    |   Unzipping corpora/framenet_v17.zip.\n",
      "[nltk_data]    | Downloading package gazetteers to /root/nltk_data...\n",
      "[nltk_data]    |   Unzipping corpora/gazetteers.zip.\n",
      "[nltk_data]    | Downloading package genesis to /root/nltk_data...\n",
      "[nltk_data]    |   Unzipping corpora/genesis.zip.\n",
      "[nltk_data]    | Downloading package gutenberg to /root/nltk_data...\n",
      "[nltk_data]    |   Unzipping corpora/gutenberg.zip.\n",
      "[nltk_data]    | Downloading package ieer to /root/nltk_data...\n",
      "[nltk_data]    |   Unzipping corpora/ieer.zip.\n",
      "[nltk_data]    | Downloading package inaugural to /root/nltk_data...\n",
      "[nltk_data]    |   Unzipping corpora/inaugural.zip.\n",
      "[nltk_data]    | Downloading package indian to /root/nltk_data...\n",
      "[nltk_data]    |   Unzipping corpora/indian.zip.\n",
      "[nltk_data]    | Downloading package jeita to /root/nltk_data...\n",
      "[nltk_data]    | Downloading package kimmo to /root/nltk_data...\n",
      "[nltk_data]    |   Unzipping corpora/kimmo.zip.\n",
      "[nltk_data]    | Downloading package knbc to /root/nltk_data...\n",
      "[nltk_data]    | Downloading package lin_thesaurus to\n",
      "[nltk_data]    |     /root/nltk_data...\n",
      "[nltk_data]    |   Unzipping corpora/lin_thesaurus.zip.\n",
      "[nltk_data]    | Downloading package mac_morpho to /root/nltk_data...\n",
      "[nltk_data]    |   Unzipping corpora/mac_morpho.zip.\n",
      "[nltk_data]    | Downloading package machado to /root/nltk_data...\n",
      "[nltk_data]    | Downloading package masc_tagged to /root/nltk_data...\n",
      "[nltk_data]    | Downloading package moses_sample to\n",
      "[nltk_data]    |     /root/nltk_data...\n",
      "[nltk_data]    |   Unzipping models/moses_sample.zip.\n",
      "[nltk_data]    | Downloading package movie_reviews to\n",
      "[nltk_data]    |     /root/nltk_data...\n",
      "[nltk_data]    |   Unzipping corpora/movie_reviews.zip.\n",
      "[nltk_data]    | Downloading package names to /root/nltk_data...\n",
      "[nltk_data]    |   Unzipping corpora/names.zip.\n",
      "[nltk_data]    | Downloading package nombank.1.0 to /root/nltk_data...\n",
      "[nltk_data]    | Downloading package nps_chat to /root/nltk_data...\n",
      "[nltk_data]    |   Unzipping corpora/nps_chat.zip.\n",
      "[nltk_data]    | Downloading package omw to /root/nltk_data...\n",
      "[nltk_data]    |   Unzipping corpora/omw.zip.\n",
      "[nltk_data]    | Downloading package opinion_lexicon to\n",
      "[nltk_data]    |     /root/nltk_data...\n",
      "[nltk_data]    |   Unzipping corpora/opinion_lexicon.zip.\n",
      "[nltk_data]    | Downloading package paradigms to /root/nltk_data...\n",
      "[nltk_data]    |   Unzipping corpora/paradigms.zip.\n",
      "[nltk_data]    | Downloading package pil to /root/nltk_data...\n",
      "[nltk_data]    |   Unzipping corpora/pil.zip.\n",
      "[nltk_data]    | Downloading package pl196x to /root/nltk_data...\n",
      "[nltk_data]    |   Unzipping corpora/pl196x.zip.\n",
      "[nltk_data]    | Downloading package ppattach to /root/nltk_data...\n",
      "[nltk_data]    |   Unzipping corpora/ppattach.zip.\n",
      "[nltk_data]    | Downloading package problem_reports to\n",
      "[nltk_data]    |     /root/nltk_data...\n",
      "[nltk_data]    |   Unzipping corpora/problem_reports.zip.\n",
      "[nltk_data]    | Downloading package propbank to /root/nltk_data...\n",
      "[nltk_data]    | Downloading package ptb to /root/nltk_data...\n",
      "[nltk_data]    |   Unzipping corpora/ptb.zip.\n",
      "[nltk_data]    | Downloading package product_reviews_1 to\n",
      "[nltk_data]    |     /root/nltk_data...\n",
      "[nltk_data]    |   Unzipping corpora/product_reviews_1.zip.\n",
      "[nltk_data]    | Downloading package product_reviews_2 to\n",
      "[nltk_data]    |     /root/nltk_data...\n",
      "[nltk_data]    |   Unzipping corpora/product_reviews_2.zip.\n",
      "[nltk_data]    | Downloading package pros_cons to /root/nltk_data...\n",
      "[nltk_data]    |   Unzipping corpora/pros_cons.zip.\n",
      "[nltk_data]    | Downloading package qc to /root/nltk_data...\n",
      "[nltk_data]    |   Unzipping corpora/qc.zip.\n",
      "[nltk_data]    | Downloading package reuters to /root/nltk_data...\n",
      "[nltk_data]    | Downloading package rte to /root/nltk_data...\n",
      "[nltk_data]    |   Unzipping corpora/rte.zip.\n",
      "[nltk_data]    | Downloading package semcor to /root/nltk_data...\n",
      "[nltk_data]    | Downloading package senseval to /root/nltk_data...\n",
      "[nltk_data]    |   Unzipping corpora/senseval.zip.\n",
      "[nltk_data]    | Downloading package sentiwordnet to\n",
      "[nltk_data]    |     /root/nltk_data...\n",
      "[nltk_data]    |   Unzipping corpora/sentiwordnet.zip.\n",
      "[nltk_data]    | Downloading package sentence_polarity to\n",
      "[nltk_data]    |     /root/nltk_data...\n",
      "[nltk_data]    |   Unzipping corpora/sentence_polarity.zip.\n",
      "[nltk_data]    | Downloading package shakespeare to /root/nltk_data...\n",
      "[nltk_data]    |   Unzipping corpora/shakespeare.zip.\n",
      "[nltk_data]    | Downloading package sinica_treebank to\n",
      "[nltk_data]    |     /root/nltk_data...\n",
      "[nltk_data]    |   Unzipping corpora/sinica_treebank.zip.\n",
      "[nltk_data]    | Downloading package smultron to /root/nltk_data...\n",
      "[nltk_data]    |   Unzipping corpora/smultron.zip.\n",
      "[nltk_data]    | Downloading package state_union to /root/nltk_data...\n",
      "[nltk_data]    |   Unzipping corpora/state_union.zip.\n",
      "[nltk_data]    | Downloading package stopwords to /root/nltk_data...\n",
      "[nltk_data]    |   Unzipping corpora/stopwords.zip.\n",
      "[nltk_data]    | Downloading package subjectivity to\n",
      "[nltk_data]    |     /root/nltk_data...\n",
      "[nltk_data]    |   Unzipping corpora/subjectivity.zip.\n",
      "[nltk_data]    | Downloading package swadesh to /root/nltk_data...\n",
      "[nltk_data]    |   Unzipping corpora/swadesh.zip.\n",
      "[nltk_data]    | Downloading package switchboard to /root/nltk_data...\n",
      "[nltk_data]    |   Unzipping corpora/switchboard.zip.\n",
      "[nltk_data]    | Downloading package timit to /root/nltk_data...\n",
      "[nltk_data]    |   Unzipping corpora/timit.zip.\n",
      "[nltk_data]    | Downloading package toolbox to /root/nltk_data...\n",
      "[nltk_data]    |   Unzipping corpora/toolbox.zip.\n",
      "[nltk_data]    | Downloading package treebank to /root/nltk_data...\n",
      "[nltk_data]    |   Unzipping corpora/treebank.zip.\n",
      "[nltk_data]    | Downloading package twitter_samples to\n",
      "[nltk_data]    |     /root/nltk_data...\n",
      "[nltk_data]    |   Unzipping corpora/twitter_samples.zip.\n",
      "[nltk_data]    | Downloading package udhr to /root/nltk_data...\n",
      "[nltk_data]    |   Unzipping corpora/udhr.zip.\n",
      "[nltk_data]    | Downloading package udhr2 to /root/nltk_data...\n",
      "[nltk_data]    |   Unzipping corpora/udhr2.zip.\n",
      "[nltk_data]    | Downloading package unicode_samples to\n",
      "[nltk_data]    |     /root/nltk_data...\n",
      "[nltk_data]    |   Unzipping corpora/unicode_samples.zip.\n",
      "[nltk_data]    | Downloading package universal_treebanks_v20 to\n",
      "[nltk_data]    |     /root/nltk_data...\n",
      "[nltk_data]    | Downloading package verbnet to /root/nltk_data...\n",
      "[nltk_data]    |   Unzipping corpora/verbnet.zip.\n",
      "[nltk_data]    | Downloading package verbnet3 to /root/nltk_data...\n",
      "[nltk_data]    |   Unzipping corpora/verbnet3.zip.\n",
      "[nltk_data]    | Downloading package webtext to /root/nltk_data...\n",
      "[nltk_data]    |   Unzipping corpora/webtext.zip.\n",
      "[nltk_data]    | Downloading package wordnet to /root/nltk_data...\n",
      "[nltk_data]    |   Unzipping corpora/wordnet.zip.\n",
      "[nltk_data]    | Downloading package wordnet_ic to /root/nltk_data...\n",
      "[nltk_data]    |   Unzipping corpora/wordnet_ic.zip.\n",
      "[nltk_data]    | Downloading package words to /root/nltk_data...\n",
      "[nltk_data]    |   Unzipping corpora/words.zip.\n",
      "[nltk_data]    | Downloading package ycoe to /root/nltk_data...\n",
      "[nltk_data]    |   Unzipping corpora/ycoe.zip.\n",
      "[nltk_data]    | Downloading package rslp to /root/nltk_data...\n",
      "[nltk_data]    |   Unzipping stemmers/rslp.zip.\n",
      "[nltk_data]    | Downloading package maxent_treebank_pos_tagger to\n",
      "[nltk_data]    |     /root/nltk_data...\n",
      "[nltk_data]    |   Unzipping taggers/maxent_treebank_pos_tagger.zip.\n",
      "[nltk_data]    | Downloading package universal_tagset to\n",
      "[nltk_data]    |     /root/nltk_data...\n",
      "[nltk_data]    |   Unzipping taggers/universal_tagset.zip.\n",
      "[nltk_data]    | Downloading package maxent_ne_chunker to\n",
      "[nltk_data]    |     /root/nltk_data...\n",
      "[nltk_data]    |   Unzipping chunkers/maxent_ne_chunker.zip.\n",
      "[nltk_data]    | Downloading package punkt to /root/nltk_data...\n",
      "[nltk_data]    |   Unzipping tokenizers/punkt.zip.\n",
      "[nltk_data]    | Downloading package book_grammars to\n",
      "[nltk_data]    |     /root/nltk_data...\n",
      "[nltk_data]    |   Unzipping grammars/book_grammars.zip.\n",
      "[nltk_data]    | Downloading package sample_grammars to\n",
      "[nltk_data]    |     /root/nltk_data...\n",
      "[nltk_data]    |   Unzipping grammars/sample_grammars.zip.\n",
      "[nltk_data]    | Downloading package spanish_grammars to\n",
      "[nltk_data]    |     /root/nltk_data...\n",
      "[nltk_data]    |   Unzipping grammars/spanish_grammars.zip.\n",
      "[nltk_data]    | Downloading package basque_grammars to\n",
      "[nltk_data]    |     /root/nltk_data...\n",
      "[nltk_data]    |   Unzipping grammars/basque_grammars.zip.\n",
      "[nltk_data]    | Downloading package large_grammars to\n",
      "[nltk_data]    |     /root/nltk_data...\n",
      "[nltk_data]    |   Unzipping grammars/large_grammars.zip.\n",
      "[nltk_data]    | Downloading package tagsets to /root/nltk_data...\n",
      "[nltk_data]    |   Unzipping help/tagsets.zip.\n",
      "[nltk_data]    | Downloading package snowball_data to\n",
      "[nltk_data]    |     /root/nltk_data...\n",
      "[nltk_data]    | Downloading package bllip_wsj_no_aux to\n",
      "[nltk_data]    |     /root/nltk_data...\n",
      "[nltk_data]    |   Unzipping models/bllip_wsj_no_aux.zip.\n",
      "[nltk_data]    | Downloading package word2vec_sample to\n",
      "[nltk_data]    |     /root/nltk_data...\n",
      "[nltk_data]    |   Unzipping models/word2vec_sample.zip.\n",
      "[nltk_data]    | Downloading package panlex_swadesh to\n",
      "[nltk_data]    |     /root/nltk_data...\n",
      "[nltk_data]    | Downloading package mte_teip5 to /root/nltk_data...\n",
      "[nltk_data]    |   Unzipping corpora/mte_teip5.zip.\n",
      "[nltk_data]    | Downloading package averaged_perceptron_tagger to\n",
      "[nltk_data]    |     /root/nltk_data...\n",
      "[nltk_data]    |   Unzipping taggers/averaged_perceptron_tagger.zip.\n",
      "[nltk_data]    | Downloading package averaged_perceptron_tagger_ru to\n",
      "[nltk_data]    |     /root/nltk_data...\n",
      "[nltk_data]    |   Unzipping\n",
      "[nltk_data]    |       taggers/averaged_perceptron_tagger_ru.zip.\n",
      "[nltk_data]    | Downloading package perluniprops to\n",
      "[nltk_data]    |     /root/nltk_data...\n",
      "[nltk_data]    |   Unzipping misc/perluniprops.zip.\n",
      "[nltk_data]    | Downloading package nonbreaking_prefixes to\n",
      "[nltk_data]    |     /root/nltk_data...\n",
      "[nltk_data]    |   Unzipping corpora/nonbreaking_prefixes.zip.\n",
      "[nltk_data]    | Downloading package vader_lexicon to\n",
      "[nltk_data]    |     /root/nltk_data...\n",
      "[nltk_data]    | Downloading package porter_test to /root/nltk_data...\n",
      "[nltk_data]    |   Unzipping stemmers/porter_test.zip.\n",
      "[nltk_data]    | Downloading package wmt15_eval to /root/nltk_data...\n",
      "[nltk_data]    |   Unzipping models/wmt15_eval.zip.\n",
      "[nltk_data]    | Downloading package mwa_ppdb to /root/nltk_data...\n",
      "[nltk_data]    |   Unzipping misc/mwa_ppdb.zip.\n",
      "[nltk_data]    | \n",
      "[nltk_data]  Done downloading collection all\n"
     ]
    }
   ],
   "source": [
    "!python -m nltk.downloader all"
   ]
  },
  {
   "cell_type": "code",
   "execution_count": null,
   "metadata": {
    "colab": {
     "base_uri": "https://localhost:8080/"
    },
    "id": "PzftHf-RVo7R",
    "outputId": "c10a8b4a-efca-4dd2-a0ae-854fd53b7eba"
   },
   "outputs": [
    {
     "name": "stdout",
     "output_type": "stream",
     "text": [
      "Collecting category_encoders\n",
      "\u001b[?25l  Downloading https://files.pythonhosted.org/packages/44/57/fcef41c248701ee62e8325026b90c432adea35555cbc870aff9cfba23727/category_encoders-2.2.2-py2.py3-none-any.whl (80kB)\n",
      "\r\n",
      "\u001b[K     |████                            | 10kB 15.1MB/s eta 0:00:01\r\n",
      "\u001b[K     |████████▏                       | 20kB 21.5MB/s eta 0:00:01\r\n",
      "\u001b[K     |████████████▏                   | 30kB 11.6MB/s eta 0:00:01\r\n",
      "\u001b[K     |████████████████▎               | 40kB 9.6MB/s eta 0:00:01\r\n",
      "\u001b[K     |████████████████████▎           | 51kB 8.4MB/s eta 0:00:01\r\n",
      "\u001b[K     |████████████████████████▍       | 61kB 7.5MB/s eta 0:00:01\r\n",
      "\u001b[K     |████████████████████████████▍   | 71kB 8.4MB/s eta 0:00:01\r\n",
      "\u001b[K     |████████████████████████████████| 81kB 4.8MB/s \n",
      "\u001b[?25hRequirement already satisfied, skipping upgrade: numpy>=1.14.0 in /usr/local/lib/python3.6/dist-packages (from category_encoders) (1.19.5)\n",
      "Requirement already satisfied, skipping upgrade: scikit-learn>=0.20.0 in /usr/local/lib/python3.6/dist-packages (from category_encoders) (0.22.2.post1)\n",
      "Requirement already satisfied, skipping upgrade: statsmodels>=0.9.0 in /usr/local/lib/python3.6/dist-packages (from category_encoders) (0.10.2)\n",
      "Requirement already satisfied, skipping upgrade: scipy>=1.0.0 in /usr/local/lib/python3.6/dist-packages (from category_encoders) (1.4.1)\n",
      "Requirement already satisfied, skipping upgrade: pandas>=0.21.1 in /usr/local/lib/python3.6/dist-packages (from category_encoders) (1.1.5)\n",
      "Requirement already satisfied, skipping upgrade: patsy>=0.5.1 in /usr/local/lib/python3.6/dist-packages (from category_encoders) (0.5.1)\n",
      "Requirement already satisfied, skipping upgrade: joblib>=0.11 in /usr/local/lib/python3.6/dist-packages (from scikit-learn>=0.20.0->category_encoders) (1.0.0)\n",
      "Requirement already satisfied, skipping upgrade: pytz>=2017.2 in /usr/local/lib/python3.6/dist-packages (from pandas>=0.21.1->category_encoders) (2018.9)\n",
      "Requirement already satisfied, skipping upgrade: python-dateutil>=2.7.3 in /usr/local/lib/python3.6/dist-packages (from pandas>=0.21.1->category_encoders) (2.8.1)\n",
      "Requirement already satisfied, skipping upgrade: six in /usr/local/lib/python3.6/dist-packages (from patsy>=0.5.1->category_encoders) (1.15.0)\n",
      "Installing collected packages: category-encoders\n",
      "Successfully installed category-encoders-2.2.2\n"
     ]
    }
   ],
   "source": [
    "! pip install --upgrade category_encoders"
   ]
  },
  {
   "cell_type": "code",
   "execution_count": null,
   "metadata": {
    "colab": {
     "base_uri": "https://localhost:8080/"
    },
    "id": "BPS2UyLCkCgM",
    "outputId": "90958afa-3341-400b-d579-8d0cf551445b"
   },
   "outputs": [
    {
     "name": "stdout",
     "output_type": "stream",
     "text": [
      "Collecting imbalanced-learn\n",
      "\u001b[?25l  Downloading https://files.pythonhosted.org/packages/c8/81/8db4d87b03b998fda7c6f835d807c9ae4e3b141f978597b8d7f31600be15/imbalanced_learn-0.7.0-py3-none-any.whl (167kB)\n",
      "\r\n",
      "\u001b[K     |██                              | 10kB 15.5MB/s eta 0:00:01\r\n",
      "\u001b[K     |████                            | 20kB 19.2MB/s eta 0:00:01\r\n",
      "\u001b[K     |█████▉                          | 30kB 13.8MB/s eta 0:00:01\r\n",
      "\u001b[K     |███████▉                        | 40kB 10.3MB/s eta 0:00:01\r\n",
      "\u001b[K     |█████████▉                      | 51kB 8.2MB/s eta 0:00:01\r\n",
      "\u001b[K     |███████████▊                    | 61kB 8.6MB/s eta 0:00:01\r\n",
      "\u001b[K     |█████████████▊                  | 71kB 7.3MB/s eta 0:00:01\r\n",
      "\u001b[K     |███████████████▊                | 81kB 8.0MB/s eta 0:00:01\r\n",
      "\u001b[K     |█████████████████▋              | 92kB 7.6MB/s eta 0:00:01\r\n",
      "\u001b[K     |███████████████████▋            | 102kB 8.0MB/s eta 0:00:01\r\n",
      "\u001b[K     |█████████████████████▋          | 112kB 8.0MB/s eta 0:00:01\r\n",
      "\u001b[K     |███████████████████████▌        | 122kB 8.0MB/s eta 0:00:01\r\n",
      "\u001b[K     |█████████████████████████▌      | 133kB 8.0MB/s eta 0:00:01\r\n",
      "\u001b[K     |███████████████████████████▌    | 143kB 8.0MB/s eta 0:00:01\r\n",
      "\u001b[K     |█████████████████████████████▍  | 153kB 8.0MB/s eta 0:00:01\r\n",
      "\u001b[K     |███████████████████████████████▍| 163kB 8.0MB/s eta 0:00:01\r\n",
      "\u001b[K     |████████████████████████████████| 174kB 8.0MB/s \n",
      "\u001b[?25hRequirement already satisfied, skipping upgrade: numpy>=1.13.3 in /usr/local/lib/python3.6/dist-packages (from imbalanced-learn) (1.19.5)\n",
      "Collecting scikit-learn>=0.23\n",
      "\u001b[?25l  Downloading https://files.pythonhosted.org/packages/e2/4c/6111b9a325f29527d7f262e2ee8c730d354b47a728d955e186dacad57a0d/scikit_learn-0.24.1-cp36-cp36m-manylinux2010_x86_64.whl (22.2MB)\n",
      "\u001b[K     |████████████████████████████████| 22.2MB 1.4MB/s \n",
      "\u001b[?25hRequirement already satisfied, skipping upgrade: joblib>=0.11 in /usr/local/lib/python3.6/dist-packages (from imbalanced-learn) (1.0.0)\n",
      "Requirement already satisfied, skipping upgrade: scipy>=0.19.1 in /usr/local/lib/python3.6/dist-packages (from imbalanced-learn) (1.4.1)\n",
      "Collecting threadpoolctl>=2.0.0\n",
      "  Downloading https://files.pythonhosted.org/packages/f7/12/ec3f2e203afa394a149911729357aa48affc59c20e2c1c8297a60f33f133/threadpoolctl-2.1.0-py3-none-any.whl\n",
      "Installing collected packages: threadpoolctl, scikit-learn, imbalanced-learn\n",
      "  Found existing installation: scikit-learn 0.22.2.post1\n",
      "    Uninstalling scikit-learn-0.22.2.post1:\n",
      "      Successfully uninstalled scikit-learn-0.22.2.post1\n",
      "  Found existing installation: imbalanced-learn 0.4.3\n",
      "    Uninstalling imbalanced-learn-0.4.3:\n",
      "      Successfully uninstalled imbalanced-learn-0.4.3\n",
      "Successfully installed imbalanced-learn-0.7.0 scikit-learn-0.24.1 threadpoolctl-2.1.0\n"
     ]
    }
   ],
   "source": [
    "! pip install -U imbalanced-learn"
   ]
  },
  {
   "cell_type": "code",
   "execution_count": null,
   "metadata": {
    "id": "-XNFvJo1ntJO"
   },
   "outputs": [],
   "source": [
    "import pandas as pd\n",
    "import matplotlib.pyplot as plt\n",
    "import seaborn as sns\n",
    "import numpy as np"
   ]
  },
  {
   "cell_type": "code",
   "execution_count": null,
   "metadata": {
    "id": "mNJFpqGPVlsi"
   },
   "outputs": [],
   "source": [
    "from datetime import datetime\n",
    "import time\n",
    "import calendar\n",
    "import re\n",
    "import zipfile"
   ]
  },
  {
   "cell_type": "code",
   "execution_count": null,
   "metadata": {
    "colab": {
     "base_uri": "https://localhost:8080/"
    },
    "id": "U78Zr_ByDuQ_",
    "outputId": "131a7c94-2757-48ee-e042-4ca281f7a8f0"
   },
   "outputs": [
    {
     "name": "stderr",
     "output_type": "stream",
     "text": [
      "/usr/local/lib/python3.6/dist-packages/statsmodels/tools/_testing.py:19: FutureWarning: pandas.util.testing is deprecated. Use the functions in the public API at pandas.testing instead.\n",
      "  import pandas.util.testing as tm\n"
     ]
    }
   ],
   "source": [
    "from sklearn.preprocessing import LabelEncoder\n",
    "from sklearn.preprocessing import OrdinalEncoder\n",
    "from sklearn.preprocessing import OneHotEncoder\n",
    "import category_encoders \n",
    "from category_encoders.binary import BinaryEncoder"
   ]
  },
  {
   "cell_type": "code",
   "execution_count": null,
   "metadata": {
    "id": "dyD-BC2QyAmO"
   },
   "outputs": [],
   "source": [
    "from nltk.tokenize import word_tokenize\n",
    "from nltk.corpus import stopwords\n",
    "import string\n",
    "from sklearn.feature_extraction.text import CountVectorizer\n",
    "from sklearn.feature_extraction.text import TfidfVectorizer"
   ]
  },
  {
   "cell_type": "code",
   "execution_count": null,
   "metadata": {
    "id": "Yrix9lsEIDQF"
   },
   "outputs": [],
   "source": [
    "from sklearn.model_selection import GridSearchCV\n",
    "from sklearn.neighbors import KNeighborsClassifier\n",
    "from sklearn.svm import SVC\n",
    "from sklearn.model_selection import cross_validate\n",
    "from sklearn.metrics import confusion_matrix\n",
    "from sklearn.linear_model import LogisticRegression\n",
    "from sklearn.model_selection import train_test_split,KFold \n",
    "from sklearn import svm\n",
    "from sklearn.model_selection import cross_val_score"
   ]
  },
  {
   "cell_type": "code",
   "execution_count": null,
   "metadata": {
    "id": "A4TBR2BApvot"
   },
   "outputs": [],
   "source": [
    "from sklearn.ensemble import VotingClassifier\n",
    "from sklearn.ensemble import StackingClassifier"
   ]
  },
  {
   "cell_type": "code",
   "execution_count": null,
   "metadata": {
    "id": "12bdH29v1GAX"
   },
   "outputs": [],
   "source": [
    "from sklearn.preprocessing import StandardScaler\n",
    "from sklearn.naive_bayes import GaussianNB\n",
    "from sklearn.metrics import classification_report, confusion_matrix\n",
    "from sklearn.metrics import f1_score\n",
    "from sklearn.metrics import accuracy_score\n",
    "from sklearn.metrics import precision_score\n",
    "from sklearn.metrics import balanced_accuracy_score\n",
    "from sklearn.metrics import recall_score"
   ]
  },
  {
   "cell_type": "code",
   "execution_count": null,
   "metadata": {
    "id": "Qf4emQcd1J0t"
   },
   "outputs": [],
   "source": [
    "import pickle\n",
    "# from sklearn.externals import joblib"
   ]
  },
  {
   "cell_type": "code",
   "execution_count": null,
   "metadata": {
    "colab": {
     "base_uri": "https://localhost:8080/"
    },
    "id": "nLdRmX57w3w0",
    "outputId": "477aef8e-b7c7-4cfd-8069-43e8b5fc6f38"
   },
   "outputs": [
    {
     "name": "stdout",
     "output_type": "stream",
     "text": [
      "Requirement already satisfied: xgboost in /usr/local/lib/python3.6/dist-packages (0.90)\n",
      "Requirement already satisfied: numpy in /usr/local/lib/python3.6/dist-packages (from xgboost) (1.19.5)\n",
      "Requirement already satisfied: scipy in /usr/local/lib/python3.6/dist-packages (from xgboost) (1.4.1)\n"
     ]
    }
   ],
   "source": [
    "!pip install xgboost \n",
    "from xgboost import XGBClassifier"
   ]
  },
  {
   "cell_type": "code",
   "execution_count": null,
   "metadata": {
    "id": "wDWhbfiobnw4"
   },
   "outputs": [],
   "source": [
    "! pip install -U imbalanced-learn\n",
    "from imblearn.over_sampling import SMOTE\n",
    "from imblearn.over_sampling import RandomOverSampler\n",
    "from imblearn.under_sampling import RandomUnderSampler\n",
    "from imblearn.under_sampling import CondensedNearestNeighbour\n",
    "from imblearn.under_sampling import TomekLinks"
   ]
  },
  {
   "cell_type": "code",
   "execution_count": null,
   "metadata": {
    "id": "F0wO2q-qd0xb"
   },
   "outputs": [],
   "source": [
    "# Ignore the warnings\n",
    "import warnings\n",
    "warnings.filterwarnings(\"ignore\")"
   ]
  },
  {
   "cell_type": "code",
   "execution_count": null,
   "metadata": {
    "colab": {
     "base_uri": "https://localhost:8080/"
    },
    "id": "cA6YFIenoI0y",
    "outputId": "74b93416-85df-4d56-95ce-22b6cba3f845"
   },
   "outputs": [
    {
     "name": "stdout",
     "output_type": "stream",
     "text": [
      "Mounted at /content/drive\n"
     ]
    }
   ],
   "source": [
    "from google.colab import drive\n",
    "drive.mount('/content/drive')"
   ]
  },
  {
   "cell_type": "code",
   "execution_count": null,
   "metadata": {
    "id": "-p4lvfY3nytz"
   },
   "outputs": [],
   "source": [
    "df = pd.read_csv('/content/drive/MyDrive/NLP_Chatbot_Capstone_Project/data.csv')"
   ]
  },
  {
   "cell_type": "code",
   "execution_count": null,
   "metadata": {
    "colab": {
     "base_uri": "https://localhost:8080/",
     "height": 759
    },
    "id": "bQJFMKItnyq-",
    "outputId": "b3743da3-0f86-41d8-fc88-f7c8931863ed"
   },
   "outputs": [
    {
     "data": {
      "text/html": [
       "<div>\n",
       "<style scoped>\n",
       "    .dataframe tbody tr th:only-of-type {\n",
       "        vertical-align: middle;\n",
       "    }\n",
       "\n",
       "    .dataframe tbody tr th {\n",
       "        vertical-align: top;\n",
       "    }\n",
       "\n",
       "    .dataframe thead th {\n",
       "        text-align: right;\n",
       "    }\n",
       "</style>\n",
       "<table border=\"1\" class=\"dataframe\">\n",
       "  <thead>\n",
       "    <tr style=\"text-align: right;\">\n",
       "      <th></th>\n",
       "      <th>Data</th>\n",
       "      <th>Countries</th>\n",
       "      <th>Local</th>\n",
       "      <th>Industry Sector</th>\n",
       "      <th>Accident Level</th>\n",
       "      <th>Potential Accident Level</th>\n",
       "      <th>Genre</th>\n",
       "      <th>Employee or Third Party</th>\n",
       "      <th>Critical Risk</th>\n",
       "      <th>Description</th>\n",
       "    </tr>\n",
       "  </thead>\n",
       "  <tbody>\n",
       "    <tr>\n",
       "      <th>0</th>\n",
       "      <td>2016-01-01 00:00:00</td>\n",
       "      <td>Country_01</td>\n",
       "      <td>Local_01</td>\n",
       "      <td>Mining</td>\n",
       "      <td>I</td>\n",
       "      <td>IV</td>\n",
       "      <td>Male</td>\n",
       "      <td>Third Party</td>\n",
       "      <td>Pressed</td>\n",
       "      <td>While removing the drill rod of the Jumbo 08 f...</td>\n",
       "    </tr>\n",
       "    <tr>\n",
       "      <th>1</th>\n",
       "      <td>2016-01-02 00:00:00</td>\n",
       "      <td>Country_02</td>\n",
       "      <td>Local_02</td>\n",
       "      <td>Mining</td>\n",
       "      <td>I</td>\n",
       "      <td>IV</td>\n",
       "      <td>Male</td>\n",
       "      <td>Employee</td>\n",
       "      <td>Pressurized Systems</td>\n",
       "      <td>During the activation of a sodium sulphide pum...</td>\n",
       "    </tr>\n",
       "    <tr>\n",
       "      <th>2</th>\n",
       "      <td>2016-01-06 00:00:00</td>\n",
       "      <td>Country_01</td>\n",
       "      <td>Local_03</td>\n",
       "      <td>Mining</td>\n",
       "      <td>I</td>\n",
       "      <td>III</td>\n",
       "      <td>Male</td>\n",
       "      <td>Third Party (Remote)</td>\n",
       "      <td>Manual Tools</td>\n",
       "      <td>In the sub-station MILPO located at level +170...</td>\n",
       "    </tr>\n",
       "    <tr>\n",
       "      <th>3</th>\n",
       "      <td>2016-01-08 00:00:00</td>\n",
       "      <td>Country_01</td>\n",
       "      <td>Local_04</td>\n",
       "      <td>Mining</td>\n",
       "      <td>I</td>\n",
       "      <td>I</td>\n",
       "      <td>Male</td>\n",
       "      <td>Third Party</td>\n",
       "      <td>Others</td>\n",
       "      <td>Being 9:45 am. approximately in the Nv. 1880 C...</td>\n",
       "    </tr>\n",
       "    <tr>\n",
       "      <th>4</th>\n",
       "      <td>2016-01-10 00:00:00</td>\n",
       "      <td>Country_01</td>\n",
       "      <td>Local_04</td>\n",
       "      <td>Mining</td>\n",
       "      <td>IV</td>\n",
       "      <td>IV</td>\n",
       "      <td>Male</td>\n",
       "      <td>Third Party</td>\n",
       "      <td>Others</td>\n",
       "      <td>Approximately at 11:45 a.m. in circumstances t...</td>\n",
       "    </tr>\n",
       "    <tr>\n",
       "      <th>...</th>\n",
       "      <td>...</td>\n",
       "      <td>...</td>\n",
       "      <td>...</td>\n",
       "      <td>...</td>\n",
       "      <td>...</td>\n",
       "      <td>...</td>\n",
       "      <td>...</td>\n",
       "      <td>...</td>\n",
       "      <td>...</td>\n",
       "      <td>...</td>\n",
       "    </tr>\n",
       "    <tr>\n",
       "      <th>420</th>\n",
       "      <td>2017-07-04 00:00:00</td>\n",
       "      <td>Country_01</td>\n",
       "      <td>Local_04</td>\n",
       "      <td>Mining</td>\n",
       "      <td>I</td>\n",
       "      <td>III</td>\n",
       "      <td>Male</td>\n",
       "      <td>Third Party</td>\n",
       "      <td>Others</td>\n",
       "      <td>Being approximately 5:00 a.m. approximately, w...</td>\n",
       "    </tr>\n",
       "    <tr>\n",
       "      <th>421</th>\n",
       "      <td>2017-07-04 00:00:00</td>\n",
       "      <td>Country_01</td>\n",
       "      <td>Local_03</td>\n",
       "      <td>Mining</td>\n",
       "      <td>I</td>\n",
       "      <td>II</td>\n",
       "      <td>Female</td>\n",
       "      <td>Employee</td>\n",
       "      <td>Others</td>\n",
       "      <td>The collaborator moved from the infrastructure...</td>\n",
       "    </tr>\n",
       "    <tr>\n",
       "      <th>422</th>\n",
       "      <td>2017-07-05 00:00:00</td>\n",
       "      <td>Country_02</td>\n",
       "      <td>Local_09</td>\n",
       "      <td>Metals</td>\n",
       "      <td>I</td>\n",
       "      <td>II</td>\n",
       "      <td>Male</td>\n",
       "      <td>Employee</td>\n",
       "      <td>Venomous Animals</td>\n",
       "      <td>During the environmental monitoring activity i...</td>\n",
       "    </tr>\n",
       "    <tr>\n",
       "      <th>423</th>\n",
       "      <td>2017-07-06 00:00:00</td>\n",
       "      <td>Country_02</td>\n",
       "      <td>Local_05</td>\n",
       "      <td>Metals</td>\n",
       "      <td>I</td>\n",
       "      <td>II</td>\n",
       "      <td>Male</td>\n",
       "      <td>Employee</td>\n",
       "      <td>Cut</td>\n",
       "      <td>The Employee performed the activity of strippi...</td>\n",
       "    </tr>\n",
       "    <tr>\n",
       "      <th>424</th>\n",
       "      <td>2017-07-09 00:00:00</td>\n",
       "      <td>Country_01</td>\n",
       "      <td>Local_04</td>\n",
       "      <td>Mining</td>\n",
       "      <td>I</td>\n",
       "      <td>II</td>\n",
       "      <td>Female</td>\n",
       "      <td>Third Party</td>\n",
       "      <td>Fall prevention (same level)</td>\n",
       "      <td>At 10:00 a.m., when the assistant cleaned the ...</td>\n",
       "    </tr>\n",
       "  </tbody>\n",
       "</table>\n",
       "<p>425 rows × 10 columns</p>\n",
       "</div>"
      ],
      "text/plain": [
       "                    Data  ...                                        Description\n",
       "0    2016-01-01 00:00:00  ...  While removing the drill rod of the Jumbo 08 f...\n",
       "1    2016-01-02 00:00:00  ...  During the activation of a sodium sulphide pum...\n",
       "2    2016-01-06 00:00:00  ...  In the sub-station MILPO located at level +170...\n",
       "3    2016-01-08 00:00:00  ...  Being 9:45 am. approximately in the Nv. 1880 C...\n",
       "4    2016-01-10 00:00:00  ...  Approximately at 11:45 a.m. in circumstances t...\n",
       "..                   ...  ...                                                ...\n",
       "420  2017-07-04 00:00:00  ...  Being approximately 5:00 a.m. approximately, w...\n",
       "421  2017-07-04 00:00:00  ...  The collaborator moved from the infrastructure...\n",
       "422  2017-07-05 00:00:00  ...  During the environmental monitoring activity i...\n",
       "423  2017-07-06 00:00:00  ...  The Employee performed the activity of strippi...\n",
       "424  2017-07-09 00:00:00  ...  At 10:00 a.m., when the assistant cleaned the ...\n",
       "\n",
       "[425 rows x 10 columns]"
      ]
     },
     "execution_count": 16,
     "metadata": {
      "tags": []
     },
     "output_type": "execute_result"
    }
   ],
   "source": [
    "del df['Unnamed: 0'] \n",
    "df"
   ]
  },
  {
   "cell_type": "code",
   "execution_count": null,
   "metadata": {
    "colab": {
     "base_uri": "https://localhost:8080/",
     "height": 241
    },
    "id": "uN5yVUO6nyoV",
    "outputId": "0eb06c27-9240-4ee5-f51a-05d0359cccc3"
   },
   "outputs": [
    {
     "data": {
      "text/html": [
       "<div>\n",
       "<style scoped>\n",
       "    .dataframe tbody tr th:only-of-type {\n",
       "        vertical-align: middle;\n",
       "    }\n",
       "\n",
       "    .dataframe tbody tr th {\n",
       "        vertical-align: top;\n",
       "    }\n",
       "\n",
       "    .dataframe thead th {\n",
       "        text-align: right;\n",
       "    }\n",
       "</style>\n",
       "<table border=\"1\" class=\"dataframe\">\n",
       "  <thead>\n",
       "    <tr style=\"text-align: right;\">\n",
       "      <th></th>\n",
       "      <th>Data</th>\n",
       "      <th>Countries</th>\n",
       "      <th>Local</th>\n",
       "      <th>Industry Sector</th>\n",
       "      <th>Accident Level</th>\n",
       "      <th>Potential Accident Level</th>\n",
       "      <th>Genre</th>\n",
       "      <th>Employee or Third Party</th>\n",
       "      <th>Critical Risk</th>\n",
       "      <th>Description</th>\n",
       "    </tr>\n",
       "  </thead>\n",
       "  <tbody>\n",
       "    <tr>\n",
       "      <th>count</th>\n",
       "      <td>425</td>\n",
       "      <td>425</td>\n",
       "      <td>425</td>\n",
       "      <td>425</td>\n",
       "      <td>425</td>\n",
       "      <td>425</td>\n",
       "      <td>425</td>\n",
       "      <td>425</td>\n",
       "      <td>425</td>\n",
       "      <td>425</td>\n",
       "    </tr>\n",
       "    <tr>\n",
       "      <th>unique</th>\n",
       "      <td>287</td>\n",
       "      <td>3</td>\n",
       "      <td>12</td>\n",
       "      <td>3</td>\n",
       "      <td>5</td>\n",
       "      <td>6</td>\n",
       "      <td>2</td>\n",
       "      <td>3</td>\n",
       "      <td>33</td>\n",
       "      <td>411</td>\n",
       "    </tr>\n",
       "    <tr>\n",
       "      <th>top</th>\n",
       "      <td>2017-02-08 00:00:00</td>\n",
       "      <td>Country_01</td>\n",
       "      <td>Local_03</td>\n",
       "      <td>Mining</td>\n",
       "      <td>I</td>\n",
       "      <td>IV</td>\n",
       "      <td>Male</td>\n",
       "      <td>Third Party</td>\n",
       "      <td>Others</td>\n",
       "      <td>On 02/03/17 during the soil sampling in the re...</td>\n",
       "    </tr>\n",
       "    <tr>\n",
       "      <th>freq</th>\n",
       "      <td>6</td>\n",
       "      <td>251</td>\n",
       "      <td>90</td>\n",
       "      <td>241</td>\n",
       "      <td>316</td>\n",
       "      <td>143</td>\n",
       "      <td>403</td>\n",
       "      <td>189</td>\n",
       "      <td>232</td>\n",
       "      <td>3</td>\n",
       "    </tr>\n",
       "  </tbody>\n",
       "</table>\n",
       "</div>"
      ],
      "text/plain": [
       "                       Data  ...                                        Description\n",
       "count                   425  ...                                                425\n",
       "unique                  287  ...                                                411\n",
       "top     2017-02-08 00:00:00  ...  On 02/03/17 during the soil sampling in the re...\n",
       "freq                      6  ...                                                  3\n",
       "\n",
       "[4 rows x 10 columns]"
      ]
     },
     "execution_count": 17,
     "metadata": {
      "tags": []
     },
     "output_type": "execute_result"
    }
   ],
   "source": [
    "df.describe()"
   ]
  },
  {
   "cell_type": "code",
   "execution_count": null,
   "metadata": {
    "colab": {
     "base_uri": "https://localhost:8080/"
    },
    "id": "cU1fk3hYnykT",
    "outputId": "bb73401d-8e2e-4cbe-c689-feda1caba926"
   },
   "outputs": [
    {
     "name": "stdout",
     "output_type": "stream",
     "text": [
      "Data type of feature/column  Data  is:  <class 'str'>\n",
      "Data type of feature/column  Countries  is:  <class 'str'>\n",
      "Data type of feature/column  Local  is:  <class 'str'>\n",
      "Data type of feature/column  Industry Sector  is:  <class 'str'>\n",
      "Data type of feature/column  Accident Level  is:  <class 'str'>\n",
      "Data type of feature/column  Potential Accident Level  is:  <class 'str'>\n",
      "Data type of feature/column  Genre  is:  <class 'str'>\n",
      "Data type of feature/column  Employee or Third Party  is:  <class 'str'>\n",
      "Data type of feature/column  Critical Risk  is:  <class 'str'>\n",
      "Data type of feature/column  Description  is:  <class 'str'>\n"
     ]
    }
   ],
   "source": [
    "for i in range (0, df.shape[1]):\n",
    "    print(\"Data type of feature/column \", df.columns[i],\" is: \",type(df.iloc[1,i]))"
   ]
  },
  {
   "cell_type": "code",
   "execution_count": null,
   "metadata": {
    "colab": {
     "base_uri": "https://localhost:8080/",
     "height": 359
    },
    "id": "mSC14lBEoHhP",
    "outputId": "c77c71a4-c398-45db-cd56-e9c732228393"
   },
   "outputs": [
    {
     "data": {
      "text/html": [
       "<div>\n",
       "<style scoped>\n",
       "    .dataframe tbody tr th:only-of-type {\n",
       "        vertical-align: middle;\n",
       "    }\n",
       "\n",
       "    .dataframe tbody tr th {\n",
       "        vertical-align: top;\n",
       "    }\n",
       "\n",
       "    .dataframe thead th {\n",
       "        text-align: right;\n",
       "    }\n",
       "</style>\n",
       "<table border=\"1\" class=\"dataframe\">\n",
       "  <thead>\n",
       "    <tr style=\"text-align: right;\">\n",
       "      <th></th>\n",
       "      <th>Total</th>\n",
       "      <th>Percent</th>\n",
       "    </tr>\n",
       "  </thead>\n",
       "  <tbody>\n",
       "    <tr>\n",
       "      <th>Description</th>\n",
       "      <td>0</td>\n",
       "      <td>0.0</td>\n",
       "    </tr>\n",
       "    <tr>\n",
       "      <th>Critical Risk</th>\n",
       "      <td>0</td>\n",
       "      <td>0.0</td>\n",
       "    </tr>\n",
       "    <tr>\n",
       "      <th>Employee or Third Party</th>\n",
       "      <td>0</td>\n",
       "      <td>0.0</td>\n",
       "    </tr>\n",
       "    <tr>\n",
       "      <th>Genre</th>\n",
       "      <td>0</td>\n",
       "      <td>0.0</td>\n",
       "    </tr>\n",
       "    <tr>\n",
       "      <th>Potential Accident Level</th>\n",
       "      <td>0</td>\n",
       "      <td>0.0</td>\n",
       "    </tr>\n",
       "    <tr>\n",
       "      <th>Accident Level</th>\n",
       "      <td>0</td>\n",
       "      <td>0.0</td>\n",
       "    </tr>\n",
       "    <tr>\n",
       "      <th>Industry Sector</th>\n",
       "      <td>0</td>\n",
       "      <td>0.0</td>\n",
       "    </tr>\n",
       "    <tr>\n",
       "      <th>Local</th>\n",
       "      <td>0</td>\n",
       "      <td>0.0</td>\n",
       "    </tr>\n",
       "    <tr>\n",
       "      <th>Countries</th>\n",
       "      <td>0</td>\n",
       "      <td>0.0</td>\n",
       "    </tr>\n",
       "    <tr>\n",
       "      <th>Data</th>\n",
       "      <td>0</td>\n",
       "      <td>0.0</td>\n",
       "    </tr>\n",
       "  </tbody>\n",
       "</table>\n",
       "</div>"
      ],
      "text/plain": [
       "                          Total  Percent\n",
       "Description                   0      0.0\n",
       "Critical Risk                 0      0.0\n",
       "Employee or Third Party       0      0.0\n",
       "Genre                         0      0.0\n",
       "Potential Accident Level      0      0.0\n",
       "Accident Level                0      0.0\n",
       "Industry Sector               0      0.0\n",
       "Local                         0      0.0\n",
       "Countries                     0      0.0\n",
       "Data                          0      0.0"
      ]
     },
     "execution_count": 19,
     "metadata": {
      "tags": []
     },
     "output_type": "execute_result"
    }
   ],
   "source": [
    "def missing_check(df):\n",
    "    total = df.isnull().sum().sort_values(ascending=False)   # total number of null values\n",
    "    percent = (df.isnull().sum()/df.isnull().count()).sort_values(ascending=False)  # percentage of values that are null\n",
    "    missing_data = pd.concat([total, percent], axis=1, keys=['Total', 'Percent'])  # putting the above two together\n",
    "    return missing_data # return the dataframe\n",
    "missing_check(df)"
   ]
  },
  {
   "cell_type": "code",
   "execution_count": null,
   "metadata": {
    "id": "D5Q8qhdWCCWn"
   },
   "outputs": [],
   "source": [
    "dataframe=df.copy()\n",
    "y=dataframe['Accident Level'].values\n",
    "oe_y=OrdinalEncoder()\n",
    "y=oe_y.fit_transform(y.reshape(-1,1))\n",
    "path='/content/drive/MyDrive/NLP_Chatbot_Capstone_Project/Initial Encoders/'\n",
    "with open(path+'Ordinal Encoder_Accident Level','wb') as f:\n",
    "  pickle.dump(oe_y,f)\n",
    "del dataframe['Accident Level']"
   ]
  },
  {
   "cell_type": "code",
   "execution_count": null,
   "metadata": {
    "colab": {
     "base_uri": "https://localhost:8080/"
    },
    "id": "0SHOPV3fDgq8",
    "outputId": "0adca817-0962-4c65-e397-793512f43b2a"
   },
   "outputs": [
    {
     "data": {
      "text/plain": [
       "['Countries',\n",
       " 'Local',\n",
       " 'Industry Sector',\n",
       " 'Potential Accident Level',\n",
       " 'Genre',\n",
       " 'Employee or Third Party']"
      ]
     },
     "execution_count": 21,
     "metadata": {
      "tags": []
     },
     "output_type": "execute_result"
    }
   ],
   "source": [
    "categorical_columns=dataframe.columns\n",
    "column_names_encoded=list(df.columns)\n",
    "column_names_encoded.remove('Critical Risk')\n",
    "column_names_encoded.remove('Description')\n",
    "column_names_encoded.remove('Data')\n",
    "column_names_encoded.remove('Accident Level')\n",
    "column_names_encoded"
   ]
  },
  {
   "cell_type": "code",
   "execution_count": null,
   "metadata": {
    "id": "SWZ4d9A4YO9V"
   },
   "outputs": [],
   "source": [
    "datetime_object=[]\n",
    "for i in range(0,len(dataframe)):\n",
    "  datetime_object.append(datetime.strptime((dataframe[categorical_columns[0]][i]), '%Y-%m-%d %H:%M:%S'))\n",
    "dataframe['Date of Incidents']= datetime_object"
   ]
  },
  {
   "cell_type": "code",
   "execution_count": null,
   "metadata": {
    "id": "fNCwcSXKYMwC"
   },
   "outputs": [],
   "source": [
    "dataframe['Year of Incident']=[i.year for i in dataframe['Date of Incidents']]\n",
    "dataframe['Month of Incident']=[i.month for i in dataframe['Date of Incidents']]\n",
    "dataframe['Date of Incident']=[i.day for i in dataframe['Date of Incidents']]\n",
    "dataframe['Day of Incident']=[calendar.day_name[i.weekday()] for i in dataframe['Date of Incidents']]"
   ]
  },
  {
   "cell_type": "code",
   "execution_count": null,
   "metadata": {
    "id": "vqMZe8_IU_2j"
   },
   "outputs": [],
   "source": [
    "columns_to_modify_ordinally=['Year of Incident','Month of Incident','Date of Incident']\n",
    "columns_to_modify_labely=['Day of Incident']\n",
    "for i in columns_to_modify_ordinally:\n",
    "  temp_encoder=OrdinalEncoder()\n",
    "  dataframe[i]=temp_encoder.fit_transform(dataframe[i].values.reshape(-1,1))\n",
    "  path='/content/drive/MyDrive/NLP_Chatbot_Capstone_Project/Initial Encoders/'\n",
    "  with open(path+'Ordinal Encoder_'+str(i),'wb') as f:\n",
    "    pickle.dump(temp_encoder,f)\n",
    "\n",
    "# columns_to_modify_ordinally=['Day of Incident']\n",
    "for i in columns_to_modify_labely:\n",
    "  temp_encoder=LabelEncoder()\n",
    "  dataframe[i]=temp_encoder.fit_transform(dataframe[i].values.reshape(-1,1))\n",
    "  path='/content/drive/MyDrive/NLP_Chatbot_Capstone_Project/Initial Encoders/'\n",
    "  with open(path+'Label Encoder_'+str(i),'wb') as f:\n",
    "    pickle.dump(temp_encoder,f)\n"
   ]
  },
  {
   "cell_type": "markdown",
   "metadata": {
    "id": "PlQL92mFMr2Y"
   },
   "source": [
    "### **Sampling**"
   ]
  },
  {
   "cell_type": "markdown",
   "metadata": {
    "id": "1OUBqRnad9MP"
   },
   "source": [
    "Sampling Techniques Used"
   ]
  },
  {
   "cell_type": "code",
   "execution_count": null,
   "metadata": {
    "id": "uKZn-xsnFWrF"
   },
   "outputs": [],
   "source": [
    "# pd.DataFrame(y).value_counts()\n",
    "# int((np.unique(y, return_counts=True)[1].sum()-np.unique(y, return_counts=True)[1][0])/(len(np.unique(y, return_counts=True)[1])))"
   ]
  },
  {
   "cell_type": "code",
   "execution_count": null,
   "metadata": {
    "id": "qwQXzAu7_j7V"
   },
   "outputs": [],
   "source": [
    "class Sampling_Techniques():\n",
    "  def __init__(self,encoded_dataframe,y):\n",
    "    self.encoded_dataframe=encoded_dataframe\n",
    "    self.y=y\n",
    "    # self.encoded_dataframe['Accident Level']=self.y\n",
    "    # self.count=np.array(list(self.encoded_dataframe['Accident Level'].value_counts()))\n",
    "    self.unique, self.count = np.unique(self.y, return_counts=True)\n",
    "    # del self.encoded_dataframe['Accident Level']\n",
    "   \n",
    "  def CNN_undersampling(self):\n",
    "    sampler= CondensedNearestNeighbour(n_neighbors=1)\n",
    "    X_under, y_under = sampler.fit_resample(self.encoded_dataframe, self.y)\n",
    "    print(X_under.shape,y_under.shape)\n",
    "    print(pd.DataFrame(y_under).value_counts())\n",
    "\n",
    "  def TomekLinks_undersampling(self):\n",
    "    sampler= TomekLinks()\n",
    "    X_under, y_under = sampler.fit_resample(self.encoded_dataframe, self.y)\n",
    "    print(X_under.shape,y_under.shape)\n",
    "    print(pd.DataFrame(y_under).value_counts())\n",
    "    \n",
    "  def SMOTE_oversampling(self,X_under,y_under,count_oversample):\n",
    "    # print(count)\n",
    "    temp=int((self.count.sum()-self.count[0])/(len(self.count)-1))\n",
    "    strategy_oversample = {0:count_undersample[0], 1:count_undersample[1], 2:count_undersample[2], 3:count_undersample[3], 4:temp}\n",
    "    sampler=SMOTE()\n",
    "    X_over, y_over = sampler.fit_resample(X_under,y_under)\n",
    "    # print(X_over.shape,y_over.shape)\n",
    "    count_under_unique, count_undersample = np.unique(y_over, return_counts=True)\n",
    "    print(count_undersample)\n",
    "    return X_over,y_over,count_oversample,count_under_unique\n",
    "  \n",
    "  def Random_undersampling(self):\n",
    "    # print(self.count)\n",
    "    # print(pd.DataFrame(self.y).value_counts())\n",
    "    temp=int((self.count.sum()-self.count[0])/(len(self.count)-1))\n",
    "    # print(temp)\n",
    "    strategy_undersample = {self.unique[0]:60, self.unique[1]:self.count[1], self.unique[2]:self.count[2], self.unique[3]:self.count[3], self.unique[4]:self.count[4]}\n",
    "    # print(strategy_undersample)\n",
    "    sampler=RandomUnderSampler(sampling_strategy=strategy_undersample,replacement=True)\n",
    "    X_under, y_under = sampler.fit_resample(self.encoded_dataframe, self.y)\n",
    "    # print(X_under.shape,y_under.shape)\n",
    "    count_under_unique, count_undersample = np.unique(y_under, return_counts=True)\n",
    "    # print(count_undersample)\n",
    "    return X_under,y_under,count_undersample,count_under_unique\n",
    "\n",
    "  def Random_upsampling(self,X_under,y_under,count_undersample,count_under_unique):\n",
    "    # print(count_undersample)\n",
    "    temp=int((self.count.sum()-self.count[0])/(len(self.count)-3))\n",
    "    strategy_oversample = {count_under_unique[0]:count_undersample[0], count_under_unique[1]:60, count_under_unique[2]:60, count_under_unique[3]:60, count_under_unique[4]:60}\n",
    "    sampler=RandomOverSampler(sampling_strategy=strategy_oversample)\n",
    "    X_over, y_over = sampler.fit_resample(X_under,y_under)\n",
    "    # print(X_over.shape,y_over.shape)\n",
    "    count_oversample=np.array(list(pd.DataFrame(y_over).value_counts()))\n",
    "    # print(count_oversample)\n",
    "    return X_over,y_over,count_oversample\n",
    "\n",
    "  def calling_function(self):\n",
    "    X_under,y_under,count_undersample,count_under_unique=self.Random_undersampling()\n",
    "    X_over,y_over,count_oversample=self.Random_upsampling(X_under,y_under,count_undersample,count_under_unique)\n",
    "    return X_over,y_over\n"
   ]
  },
  {
   "cell_type": "code",
   "execution_count": null,
   "metadata": {
    "id": "mpwFdAmqP6e_"
   },
   "outputs": [],
   "source": [
    "sampler_main=[Sampling_Techniques(dataframe,y) for i in range(0,9)]\n",
    "X,Y=[],[]\n",
    "for i in sampler_main:\n",
    "  X_temp,Y_temp=i.calling_function()\n",
    "  X.append(X_temp)\n",
    "  Y.append(Y_temp)"
   ]
  },
  {
   "cell_type": "markdown",
   "metadata": {
    "id": "Llzf_LuiLJgi"
   },
   "source": [
    "### **Splitting Data into Training and Testing**"
   ]
  },
  {
   "cell_type": "code",
   "execution_count": null,
   "metadata": {
    "colab": {
     "base_uri": "https://localhost:8080/"
    },
    "id": "Y5pd17s_LHlq",
    "outputId": "b88ffaf8-8a27-4803-ca59-cc703c65efa4"
   },
   "outputs": [
    {
     "data": {
      "text/plain": [
       "((225, 14), (75, 14), (225,), (75,))"
      ]
     },
     "execution_count": 28,
     "metadata": {
      "tags": []
     },
     "output_type": "execute_result"
    }
   ],
   "source": [
    "# Train and Test Split for First Model\n",
    "from sklearn.model_selection import train_test_split\n",
    "X_train,X_test,Y_train,Y_test=[],[],[],[]\n",
    "for i in range(0,len(X)):\n",
    "  x_train,x_test,y_train,y_test=train_test_split(X[i],Y[i],random_state=0)\n",
    "  X_train.append(x_train.reset_index())\n",
    "  Y_train.append(y_train)\n",
    "  X_test.append(x_test.reset_index())\n",
    "  Y_test.append(y_test)\n",
    "  \n",
    "x_train.shape,x_test.shape,y_train.shape,y_test.shape"
   ]
  },
  {
   "cell_type": "code",
   "execution_count": null,
   "metadata": {
    "colab": {
     "base_uri": "https://localhost:8080/"
    },
    "id": "jWqbYAFepuSa",
    "outputId": "3a215bda-9de5-4231-8142-31be85bef27d"
   },
   "outputs": [
    {
     "data": {
      "text/plain": [
       "((225, 15), (75, 15), (225,), (75,))"
      ]
     },
     "execution_count": 29,
     "metadata": {
      "tags": []
     },
     "output_type": "execute_result"
    }
   ],
   "source": [
    "X_train[0].shape,X_test[0].shape,Y_train[0].shape,Y_test[0].shape"
   ]
  },
  {
   "cell_type": "markdown",
   "metadata": {
    "id": "m744jDxbLyRm"
   },
   "source": [
    "# **Data Cleaning**"
   ]
  },
  {
   "cell_type": "markdown",
   "metadata": {
    "id": "IPYZ4rrdsFmg"
   },
   "source": [
    "### Encoding Categorical Features"
   ]
  },
  {
   "cell_type": "code",
   "execution_count": null,
   "metadata": {
    "id": "dDoGSPWtp8fo"
   },
   "outputs": [],
   "source": [
    "def encoding(x_train,x_test,columns_to_encode,encoder,name):\n",
    "  for i in columns_to_encode:\n",
    "    x_train[i]=encoder.fit_transform(x_train[i].values.reshape(-1,1))\n",
    "    x_test[i]=encoder.transform(x_test[i].values.reshape(-1,1))\n",
    "    path='/content/drive/MyDrive/NLP_Chatbot_Capstone_Project/Cleaning Encoders/'\n",
    "    with open(path+str(name)+'_'+str(i),'wb') as f:\n",
    "      pickle.dump(encoder,f)\n",
    "  return x_train,x_test"
   ]
  },
  {
   "cell_type": "code",
   "execution_count": null,
   "metadata": {
    "id": "NHL9qLJMqziD"
   },
   "outputs": [],
   "source": [
    "columns_to_label_encode=['Countries', 'Industry Sector','Genre','Employee or Third Party']\n",
    "columns_to_ordinal_encode=['Potential Accident Level']\n",
    "columns_to_binary_encode=['Local']"
   ]
  },
  {
   "cell_type": "markdown",
   "metadata": {
    "id": "FROp3EjpsZ3z"
   },
   "source": [
    "### Label Encoding"
   ]
  },
  {
   "cell_type": "code",
   "execution_count": null,
   "metadata": {
    "id": "w1UrxVTwsYli"
   },
   "outputs": [],
   "source": [
    "for i in range(0,len(X)):\n",
    "  X_train[i],X_test[i]=encoding(X_train[i],X_test[i],columns_to_label_encode,LabelEncoder(),\"Label Encoder\")"
   ]
  },
  {
   "cell_type": "markdown",
   "metadata": {
    "id": "tbKpjh-2sgNd"
   },
   "source": [
    "Ordinal Encoding"
   ]
  },
  {
   "cell_type": "code",
   "execution_count": null,
   "metadata": {
    "id": "GNMLDewRrZsG"
   },
   "outputs": [],
   "source": [
    "for i in range(0,len(X)):\n",
    "  X_train[i],X_test[i]=encoding(X_train[i],X_test[i],columns_to_ordinal_encode,OrdinalEncoder(),\"Ordinal Encoder\")"
   ]
  },
  {
   "cell_type": "markdown",
   "metadata": {
    "id": "a8VJg7IfsdMf"
   },
   "source": [
    "### Binary Encoding"
   ]
  },
  {
   "cell_type": "code",
   "execution_count": null,
   "metadata": {
    "id": "7-UiVOE7VGBF"
   },
   "outputs": [],
   "source": [
    "for i in range(0,len(X)):\n",
    "  be=BinaryEncoder(cols=columns_to_binary_encode)\n",
    "  X_train[i]=be.fit_transform(X_train[i])\n",
    "  X_test[i]=be.transform(X_test[i])\n",
    "path='/content/drive/MyDrive/NLP_Chatbot_Capstone_Project/Cleaning Encoders/'\n",
    "with open(path+'Binary Encoder_'+str(columns_to_binary_encode[0]),'wb') as f:\n",
    "  pickle.dump(be,f)"
   ]
  },
  {
   "cell_type": "markdown",
   "metadata": {
    "id": "KtkBGlMO4dQe"
   },
   "source": [
    "### Scaling Techniques Used for Continuous Features\n",
    "(Ordinal Encoded Features Scaled)"
   ]
  },
  {
   "cell_type": "code",
   "execution_count": null,
   "metadata": {
    "id": "lNPlTyHar5KD"
   },
   "outputs": [],
   "source": [
    "for i in range(0,len(X)):\n",
    "  X_train[i],X_test[i]=encoding(X_train[i],X_test[i],columns_to_ordinal_encode,StandardScaler(),\"Scaler\")"
   ]
  },
  {
   "cell_type": "markdown",
   "metadata": {
    "id": "aM618FmXZ1YE"
   },
   "source": [
    "### Cleaning and Encoding Textual Data."
   ]
  },
  {
   "cell_type": "code",
   "execution_count": null,
   "metadata": {
    "id": "ViivB5fRAFxx"
   },
   "outputs": [],
   "source": [
    "for i in X_train:\n",
    "  i['Merged_Description']= i['Description']+' '+i['Critical Risk']\n",
    "for i in X_test:\n",
    "  i['Merged_Description']= i['Description']+' '+i['Critical Risk']"
   ]
  },
  {
   "cell_type": "code",
   "execution_count": null,
   "metadata": {
    "id": "g-Udc8uVv2p5"
   },
   "outputs": [],
   "source": [
    "# class Cleaning_Creating_Word_Embeddings:\n",
    "#   def __init__(self,encoded_dataframe,column_name,EMBEDDING_SIZE):\n",
    "#     self.encoded_dataframe=encoded_dataframe\n",
    "#     self.column_name=column_name\n",
    "#     self.EMBEDDING_SIZE=EMBEDDING_SIZE\n",
    "#     self.MAX_FEATURES=0\n",
    "#     self.MAX_LEN=0\n",
    "#     self.loaded_model=self.loading_embeddings()\n",
    "#     stop_words = list(stopwords.words('english'))\n",
    "#     punctuations = list(string.punctuation)\n",
    "#     self.stop_words_list = stop_words+punctuations  \n",
    "       \n",
    "\n",
    "#   def clean_text(self,text):\n",
    "#     text = text.lower()\n",
    "    \n",
    "#     pattern = re.compile('http[s]?://(?:[a-zA-Z]|[0-9]|[$-_@.&+]|[!*\\(\\),]|(?:%[0-9a-fA-F][0-9a-fA-F]))+')\n",
    "#     text = pattern.sub('', text)\n",
    "#     text = \" \".join(filter(lambda x:x[0]!='@', text.split()))\n",
    "#     emoji = re.compile(\"[\"\n",
    "#                            u\"\\U0001F600-\\U0001FFFF\"  # emoticons\n",
    "#                            u\"\\U0001F300-\\U0001F5FF\"  # symbols & pictographs\n",
    "#                            u\"\\U0001F680-\\U0001F6FF\"  # transport & map symbols\n",
    "#                            u\"\\U0001F1E0-\\U0001F1FF\"  # flags (iOS)\n",
    "#                            u\"\\U00002702-\\U000027B0\"\n",
    "#                            u\"\\U000024C2-\\U0001F251\"\n",
    "#                            \"]+\", flags=re.UNICODE)\n",
    "    \n",
    "#     text = emoji.sub(r'', text)\n",
    "#     text = text.lower()\n",
    "#     text = re.sub(r\"i'm\", \"i am\", text)\n",
    "#     text = re.sub(r\"he's\", \"he is\", text)\n",
    "#     text = re.sub(r\"she's\", \"she is\", text)\n",
    "#     text = re.sub(r\"that's\", \"that is\", text)        \n",
    "#     text = re.sub(r\"what's\", \"what is\", text)\n",
    "#     text = re.sub(r\"where's\", \"where is\", text) \n",
    "#     text = re.sub(r\"\\'ll\", \" will\", text)  \n",
    "#     text = re.sub(r\"\\'ve\", \" have\", text)  \n",
    "#     text = re.sub(r\"\\'re\", \" are\", text)\n",
    "#     text = re.sub(r\"\\'d\", \" would\", text)\n",
    "#     text = re.sub(r\"\\'ve\", \" have\", text)\n",
    "#     text = re.sub(r\"won't\", \"will not\", text)\n",
    "#     text = re.sub(r\"don't\", \"do not\", text)\n",
    "#     text = re.sub(r\"did't\", \"did not\", text)\n",
    "#     text = re.sub(r\"can't\", \"can not\", text)\n",
    "#     text = re.sub(r\"it's\", \"it is\", text)\n",
    "#     text = re.sub(r\"couldn't\", \"could not\", text)\n",
    "#     text = re.sub(r\"have't\", \"have not\", text)\n",
    "#     text = re.sub(r\"[,.\\\"\\'!@#$%^&*(){}?/;`~:<>+=-]\", \"\", text)\n",
    "#     return text\n",
    "\n",
    "#   def clean_before_embeddings(self):\n",
    "#     words=[]\n",
    "#     max_features=0\n",
    "#     max_len_sentence=0\n",
    "#     for i in range(0,len(self.encoded_dataframe[self.column_name])):\n",
    "#       words.append(self.clean_text(\" \".join([w for w in word_tokenize(self.encoded_dataframe[self.column_name][i]) if not w in self.stop_words_list])))\n",
    "#       max_features+=len(word_tokenize(words[i]))\n",
    "#       max_len_sentence=max(max_len_sentence,len(word_tokenize(words[i])))\n",
    "#     self.encoded_dataframe['Clean Words']=words\n",
    "#     self.MAX_FEATURES = max_features\n",
    "#     self.MAX_LEN = max_len_sentence+int(self.MAX_FEATURES/len(encoded_dataframe))\n",
    "  \n",
    "#   def tokenization_and_padding(self): \n",
    "#     tokenizer=Tokenizer(num_words=self.MAX_FEATURES,oov_token='<OOV>')\n",
    "#     tokenizer.fit_on_texts(self.encoded_dataframe['Clean Words'])\n",
    "#     tokenized_description=tokenizer.texts_to_sequences(self.encoded_dataframe['Clean Words'])\n",
    "#     padded_tokenized_description = pad_sequences(maxlen=self.MAX_LEN, sequences=tokenized_description, padding=\"post\", value=1)\n",
    "#     word_number_mapping=tokenizer.word_index\n",
    "#     number_word_mapping = dict([(value, key) for key, value in word_number_mapping.items()])\n",
    "#     self.num_words = len(tokenizer.word_index) + 1\n",
    "#     return  tokenizer,padded_tokenized_description\n",
    "  \n",
    "#   def loading_embeddings(self):\n",
    "#     path_to_zip_file='/content/drive/MyDrive/Glove_Embeddings/glove.6B.zip'\n",
    "#     with zipfile.ZipFile(path_to_zip_file, 'r') as zip_ref:\n",
    "#         zip_ref.extractall()\n",
    "\n",
    "#   def loadGloveModel(File):\n",
    "#         print(\"Loading Glove Model\")\n",
    "#         f = open(File,'r')\n",
    "#         gloveModel = {}\n",
    "#         for line in f:\n",
    "#             splitLines = line.split()\n",
    "#             word = splitLines[0]\n",
    "#             wordEmbedding = np.array([float(value) for value in splitLines[1:]])\n",
    "#             gloveModel[word] = wordEmbedding\n",
    "#         print(len(gloveModel),\" words loaded!\")\n",
    "#         return gloveModel\n",
    "\n",
    "#     # model_50=loadGloveModel('/content/glove.6B.50d.txt')\n",
    "#     # model_100=loadGloveModel('/content/glove.6B.100d.txt')\n",
    "#     # loaded_model=loadGloveModel('/content/glove.6B.200d.txt')\n",
    "#     # model_300=loadGloveModel('/content/glove.6B.300d.txt')\n",
    "#     return loaded_model\n",
    "\n",
    "#   def Creating_embedding_matrix(self,tokenizer):   \n",
    "#       embedding_matrix = np.zeros((self.num_words, 200))\n",
    "#       for word, i in tokenizer.word_index.items():\n",
    "#         embedding_vector = self.loaded_model.get(word)\n",
    "#         if embedding_vector is not None:\n",
    "#           embedding_matrix[i] = embedding_vector\n",
    "#       return embedding_matrix\n",
    "  \n",
    "#   def Creating_Word_Embeddings(self,embedding_matrix):\n",
    "#     model=Sequential()\n",
    "#     embedding_layer=Embedding(self.num_words,output_dim=self.EMBEDDING_SIZE, weights=[embedding_matrix], input_length=self.MAX_LEN,trainable=False)\n",
    "#     model.add(embedding_layer)\n",
    "#     model.compile('adam','mse')\n",
    "#     return model\n",
    "\n",
    "#   def return_word_embeddings(self,padded_tokenized_description,embedding_matrix):\n",
    "#     model=self.Creating_Word_Embeddings(embedding_matrix)\n",
    "#     embedding_parameters=model.predict(padded_tokenized_description)\n",
    "#     temp_joining=embedding_parameters.reshape(-1,self.MAX_LEN*self.EMBEDDING_SIZE)\n",
    "#     print()\n",
    "#     return temp_joining\n",
    "\n",
    "#   def calling_function(self):\n",
    "#     self.clean_before_embeddings()\n",
    "#     tokenizer,padded_tokenized_description=self.tokenization_and_padding()\n",
    "#     embedding_matrix=self.Creating_embedding_matrix(tokenizer)\n",
    "#     word_embeddings=self.return_word_embeddings(padded_tokenized_description,embedding_matrix)\n",
    "#     return word_embeddings"
   ]
  },
  {
   "cell_type": "code",
   "execution_count": null,
   "metadata": {
    "id": "GTuZfGIw6fbF"
   },
   "outputs": [],
   "source": [
    "# word_embeddings_object=Cleaning_Creating_Word_Embeddings(encoded_dataframe.copy(),'Merged_Description',200)\n",
    "# word_embeddings=word_embeddings_object.calling_function()\n",
    "# encoded_dataframe_word_embeddings=pd.concat([encoded_dataframe,pd.DataFrame(word_embeddings)],axis=1)"
   ]
  },
  {
   "cell_type": "code",
   "execution_count": null,
   "metadata": {
    "id": "GdjK7rNr_Rfu"
   },
   "outputs": [],
   "source": [
    "# del encoded_dataframe_word_embeddings['Critical Risk']\n",
    "# del encoded_dataframe_word_embeddings['Description']\n",
    "# del encoded_dataframe_word_embeddings['Data']\n",
    "# del encoded_dataframe_word_embeddings['Date of Incidents']\n",
    "# del encoded_dataframe_word_embeddings['Merged_Description']\n",
    "# # del encoded_dataframe_word_embeddings['Clean Words']"
   ]
  },
  {
   "cell_type": "code",
   "execution_count": null,
   "metadata": {
    "id": "Gw_g_Umd5M_G"
   },
   "outputs": [],
   "source": [
    "class Cleaning_Creating_Bag_of_Words():\n",
    "  def __init__(self,encoded_dataframe_train,encoded_dataframe_test,column_name,name):\n",
    "    self.encoded_dataframe_train=encoded_dataframe_train\n",
    "    self.encoded_dataframe_test=encoded_dataframe_test\n",
    "    self.column_name=column_name\n",
    "    self.name=name\n",
    "    stop_words = list(stopwords.words('english'))\n",
    "    punctuations = list(string.punctuation)\n",
    "    self.stop_words_list = stop_words+punctuations\n",
    "  \n",
    "  def clean_text(self,text):\n",
    "      text = text.lower()\n",
    "      pattern = re.compile('http[s]?://(?:[a-zA-Z]|[0-9]|[$-_@.&+]|[!*\\(\\),]|(?:%[0-9a-fA-F][0-9a-fA-F]))+')\n",
    "      text = pattern.sub('', text)\n",
    "      text = \" \".join(filter(lambda x:x[0]!='@', text.split()))\n",
    "      emoji = re.compile(\"[\"\n",
    "                            u\"\\U0001F600-\\U0001FFFF\"  # emoticons\n",
    "                            u\"\\U0001F300-\\U0001F5FF\"  # symbols & pictographs\n",
    "                            u\"\\U0001F680-\\U0001F6FF\"  # transport & map symbols\n",
    "                            u\"\\U0001F1E0-\\U0001F1FF\"  # flags (iOS)\n",
    "                            u\"\\U00002702-\\U000027B0\"\n",
    "                            u\"\\U000024C2-\\U0001F251\"\n",
    "                            \"]+\", flags=re.UNICODE)\n",
    "      \n",
    "      text = emoji.sub(r'', text)\n",
    "      text = text.lower()\n",
    "      text = re.sub(r\"i'm\", \"i am\", text)\n",
    "      text = re.sub(r\"he's\", \"he is\", text)\n",
    "      text = re.sub(r\"she's\", \"she is\", text)\n",
    "      text = re.sub(r\"that's\", \"that is\", text)        \n",
    "      text = re.sub(r\"what's\", \"what is\", text)\n",
    "      text = re.sub(r\"where's\", \"where is\", text) \n",
    "      text = re.sub(r\"\\'ll\", \" will\", text)  \n",
    "      text = re.sub(r\"\\'ve\", \" have\", text)  \n",
    "      text = re.sub(r\"\\'re\", \" are\", text)\n",
    "      text = re.sub(r\"\\'d\", \" would\", text)\n",
    "      text = re.sub(r\"\\'ve\", \" have\", text)\n",
    "      text = re.sub(r\"won't\", \"will not\", text)\n",
    "      text = re.sub(r\"don't\", \"do not\", text)\n",
    "      text = re.sub(r\"did't\", \"did not\", text)\n",
    "      text = re.sub(r\"can't\", \"can not\", text)\n",
    "      text = re.sub(r\"it's\", \"it is\", text)\n",
    "      text = re.sub(r\"couldn't\", \"could not\", text)\n",
    "      text = re.sub(r\"have't\", \"have not\", text)\n",
    "      text = re.sub(r\"[,.\\\"\\'!@#$%^&*(){}?/;`~:<>+=-]\", \"\", text)\n",
    "      return text\n",
    "\n",
    "  def clean_before_bag_of_words(self):\n",
    "    words=[]\n",
    "    for i in range(0,len(self.encoded_dataframe_train[self.column_name])):\n",
    "      words.append(self.clean_text(\" \".join([w for w in word_tokenize(self.encoded_dataframe_train[self.column_name][i]) if not w in self.stop_words_list])))\n",
    "    self.encoded_dataframe_train['Clean Words']=words\n",
    "    words=[]\n",
    "    for i in range(0,len(self.encoded_dataframe_test[self.column_name])):\n",
    "      words.append(self.clean_text(\" \".join([w for w in word_tokenize(self.encoded_dataframe_test[self.column_name][i]) if not w in self.stop_words_list])))\n",
    "    self.encoded_dataframe_test['Clean Words']=words\n",
    "  \n",
    "  def creating_bag_of_words_model(self):\n",
    "    count_vec=TfidfVectorizer(ngram_range=(1,3),stop_words=self.stop_words_list,max_features=2000)\n",
    "    words_transformed_train=count_vec.fit_transform(self.encoded_dataframe_train['Clean Words'])\n",
    "    words_transformed_test=count_vec.transform(self.encoded_dataframe_test['Clean Words'])\n",
    "    train_dataframe = pd.DataFrame(words_transformed_train.todense(),columns=['word_'+str(i)+'_'+count_vec.get_feature_names()[i] for i in range(0,words_transformed_train.todense().shape[1])])\n",
    "    test_dataframe = pd.DataFrame(words_transformed_test.todense(),columns=['word_'+str(i)+'_'+count_vec.get_feature_names()[i] for i in range(0,words_transformed_test.todense().shape[1])])\n",
    "    path='/content/drive/MyDrive/NLP_Chatbot_Capstone_Project/Trained TF-IDF Vectorizer /'\n",
    "    with open(path+str(self.name)+'_TF_IDF_Vectorizer','wb') as f:\n",
    "      pickle.dump(count_vec,f)\n",
    "    return train_dataframe,test_dataframe\n",
    "\n",
    "  def calling_function(self):\n",
    "      self.clean_before_bag_of_words()\n",
    "      train_dataframe,test_dataframe=self.creating_bag_of_words_model()\n",
    "      return train_dataframe,test_dataframe"
   ]
  },
  {
   "cell_type": "code",
   "execution_count": null,
   "metadata": {
    "id": "zR05SmGh6gqL"
   },
   "outputs": [],
   "source": [
    "bag_of_words_train=[]\n",
    "bag_of_words_test=[]\n",
    "for i in range(0,len(X)):\n",
    "  bag_of_words_object=Cleaning_Creating_Bag_of_Words(X_train[i].copy(),X_test[i].copy(),'Merged_Description',\"Train_Set_\"+str(i+1))\n",
    "  bag_of_words_train_dataframe,bag_of_words_test_dataframe=bag_of_words_object.calling_function()\n",
    "  bag_of_words_train.append(bag_of_words_train_dataframe)\n",
    "  bag_of_words_test.append(bag_of_words_test_dataframe)"
   ]
  },
  {
   "cell_type": "code",
   "execution_count": null,
   "metadata": {
    "id": "DlpVzyZ-25m6"
   },
   "outputs": [],
   "source": [
    "encoded_dataframe_train=[]\n",
    "encoded_dataframe_test=[]\n",
    "for i in range(0,len(X)):\n",
    "  encoded_dataframe_bag_of_words_train=pd.concat([X_train[i],bag_of_words_train[i]],axis=1)\n",
    "  encoded_dataframe_bag_of_words_test=pd.concat([X_test[i],bag_of_words_test[i]],axis=1)\n",
    "  encoded_dataframe_train.append(encoded_dataframe_bag_of_words_train)\n",
    "  encoded_dataframe_test.append(encoded_dataframe_bag_of_words_test)"
   ]
  },
  {
   "cell_type": "code",
   "execution_count": null,
   "metadata": {
    "id": "iW9pibHp6Twa"
   },
   "outputs": [],
   "source": [
    "columns_to_delete=['Critical Risk','Description','Data','Date of Incidents','Merged_Description','index']\n",
    "for j in columns_to_delete:\n",
    "  for i in range(0,len(X)):\n",
    "    del encoded_dataframe_test[i][j]\n",
    "    del encoded_dataframe_train[i][j]"
   ]
  },
  {
   "cell_type": "code",
   "execution_count": null,
   "metadata": {
    "colab": {
     "base_uri": "https://localhost:8080/"
    },
    "id": "FDx_K9LfE0ol",
    "outputId": "f08a9e42-709b-44e8-e106-b79368cebe21"
   },
   "outputs": [
    {
     "data": {
      "text/plain": [
       "2.0    47\n",
       "4.0    46\n",
       "1.0    46\n",
       "0.0    45\n",
       "3.0    41\n",
       "dtype: int64"
      ]
     },
     "execution_count": 44,
     "metadata": {
      "tags": []
     },
     "output_type": "execute_result"
    }
   ],
   "source": [
    "pd.DataFrame(Y_train[0]).value_counts()"
   ]
  },
  {
   "cell_type": "code",
   "execution_count": null,
   "metadata": {
    "id": "i3jMs5TGtDQc"
   },
   "outputs": [],
   "source": [
    "# print(count)\n",
    "# int((count.sum()-count[0])/(len(count)-3))\n",
    "# strategy_undersample = {0:int((count.sum()-count[0])/(len(count)-3)), 1:count[1], 2:count[2], 3:count[3], 4:count[4]}\n",
    "# sampler=RandomUnderSampler(sampling_strategy=strategy,random_state=0)\n",
    "# X_under_embeddings, y_under_embeddings = sampler.fit_resample(pd.DataFrame(temp_joining), y)\n",
    "# print(X_under_embeddings.shape,y_under_embeddings.shape)\n",
    "# count_undersample=np.array(list(pd.DataFrame(y_under_embeddings).value_counts()))\n",
    "# count_undersample"
   ]
  },
  {
   "cell_type": "code",
   "execution_count": null,
   "metadata": {
    "id": "mbL4Jl9ztdHx"
   },
   "outputs": [],
   "source": [
    "# X_under_complete=pd.concat([X_under,X_under_embeddings],axis=1)"
   ]
  },
  {
   "cell_type": "code",
   "execution_count": null,
   "metadata": {
    "id": "bds7CSnluEdM"
   },
   "outputs": [],
   "source": [
    "# print(count_undersample)\n",
    "# int((count.sum()-count[0])/(len(count)-1))\n",
    "# strategy_oversample = {0:count_undersample[0], 1:count_undersample[1], 2:count_undersample[2], 3:count_undersample[3], 4:int((count.sum()-count[0])/(len(count)-1))}\n",
    "# sampler=RandomOverSampler(sampling_strategy=strategy_oversample,random_state=1)\n",
    "# X_over_embeddings, y_over_embeddings = sampler.fit_resample(X_under_embeddings,y_under_embeddings)\n",
    "# print(X_over_embeddings.shape,y_over_embeddings.shape)\n",
    "# count_oversample=np.array(list(pd.DataFrame(y_over_embeddings).value_counts()))\n",
    "# count_oversample"
   ]
  },
  {
   "cell_type": "code",
   "execution_count": null,
   "metadata": {
    "id": "JNV-Uxd9uLgL"
   },
   "outputs": [],
   "source": [
    "# X_over_complete=pd.concat([X_over,X_over_embeddings],axis=1)"
   ]
  },
  {
   "cell_type": "markdown",
   "metadata": {
    "id": "S6FEK3DvTK3I"
   },
   "source": [
    "# **Modelling**"
   ]
  },
  {
   "cell_type": "code",
   "execution_count": null,
   "metadata": {
    "id": "fE5P8qBrvHMz"
   },
   "outputs": [],
   "source": [
    "test_score_classifiers_default=[]\n",
    "test_score_classifiers_grid_search_cv=[]\n",
    "test_score_classifiers_random_search_cv=[]\n",
    "test_score_classifiers_bayesian_optimization=[]"
   ]
  },
  {
   "cell_type": "markdown",
   "metadata": {
    "id": "blUSXAHAWgMR"
   },
   "source": [
    "### **Machine Learning Classifiers without Hyper Parameter Optimization**"
   ]
  },
  {
   "cell_type": "markdown",
   "metadata": {
    "id": "1rsaTbfvb_rq"
   },
   "source": [
    "### **Classical Techniques**"
   ]
  },
  {
   "cell_type": "code",
   "execution_count": null,
   "metadata": {
    "id": "19MPcL7baXOM"
   },
   "outputs": [],
   "source": [
    "\n",
    "def ML_classifier(x_train,x_test,y_train,y_test,name,classifier):\n",
    "  model= classifier  \n",
    "  optimum_param=cross_validate(estimator=model,X=pd.concat([x_train,x_test]),y=np.hstack((y_train,y_test)),cv=KFold(10,True,0),scoring=['balanced_accuracy','precision_weighted','recall_weighted','f1_weighted'])  \n",
    "  print('***************VALIDATION DATA METRICS(CROSS VALIDATION SCORES) ************************************************')\n",
    "  # print(optimum_param)\n",
    "  print(\"Balanced Accuracy Score is: %.3f%% (%.3f%%)\" % (optimum_param['test_balanced_accuracy'].mean()*100, optimum_param['test_balanced_accuracy'].std()*100))\n",
    "  print(\"Weighted Precison Score  is: %.3f%% (%.3f%%)\" % (optimum_param['test_precision_weighted'].mean()*100, optimum_param['test_precision_weighted'].std()*100))\n",
    "  print(\"Weighted Recall Score is: %.3f%% (%.3f%%)\" % (optimum_param['test_recall_weighted'].mean()*100, optimum_param['test_recall_weighted'].std()*100))\n",
    "  print(\"Weighted F-1 Score is: %.3f%% (%.3f%%)\" % (optimum_param['test_f1_weighted'].mean()*100, optimum_param['test_f1_weighted'].std()*100))\n",
    "  \n",
    "  accuracy_score_mean_value,accuracy_score_std_value=optimum_param['test_balanced_accuracy'].mean()*100,optimum_param['test_balanced_accuracy'].std()*100\n",
    "  precision_score_mean_value,precision_score_std_value=optimum_param['test_precision_weighted'].mean()*100,optimum_param['test_precision_weighted'].std()*100\n",
    "  recall_score_mean_value,recall_score_std_value=optimum_param['test_recall_weighted'].mean()*100,optimum_param['test_recall_weighted'].std()*100\n",
    "  f1_score_mean_value,f1_score_std_value=optimum_param['test_f1_weighted'].mean()*100,optimum_param['test_f1_weighted'].std()*100\n",
    "  \n",
    "  print()\n",
    "  print('***************TESTING DATA METRICS(CURRENT SAMPLE SCORE) ************************************************')\n",
    "\n",
    "  model.fit(x_train, y_train)\n",
    "  y_pred = model.predict(x_test)\n",
    "  print(classification_report(y_test,y_pred))\n",
    "  print(confusion_matrix(y_test,y_pred))\n",
    "  \n",
    "  \n",
    "  ll,ul=y_pred.mean()-1.96*(y_pred.std()/len(y_pred)),y_pred.mean()+1.96*(y_pred.std()/len(y_pred))\n",
    "  print('Lower Limit of Confidence Interval:',ll)\n",
    "  print('Upper Limit of Confidence Interval:',ul)\n",
    "  print('Standard Mean:',y_test.mean())\n",
    "  if y_test.mean() >=ll and y_test.mean()<=ul :\n",
    "    print('95% confidence level')\n",
    "  else:\n",
    "    print('confidence level not achieved')\n",
    "  \n",
    "  name=name+' Default'\n",
    "  path='/content/drive/MyDrive/NLP_Chatbot_Capstone_Project/Trained Default Machine Learning Classifiers/'\n",
    "  with open(path+'Model_'+str(name),'wb') as f:\n",
    "    pickle.dump(model,f)\n",
    "\n",
    "  train_f1_score=f1_score(y_train, model.predict(x_train), average='weighted')\n",
    "  \n",
    "  final_metrics=[train_f1_score,accuracy_score_mean_value,precision_score_mean_value,recall_score_mean_value,f1_score_mean_value,\n",
    "  accuracy_score(y_test, y_pred),precision_score(y_test, y_pred, average='weighted'),\n",
    "  recall_score(y_test, y_pred, average='weighted'),f1_score(y_test, y_pred, average='weighted')]\n",
    "  return final_metrics\n"
   ]
  },
  {
   "cell_type": "markdown",
   "metadata": {
    "id": "hKHsPK-NlOsv"
   },
   "source": [
    "**Logistic Regression**"
   ]
  },
  {
   "cell_type": "code",
   "execution_count": null,
   "metadata": {
    "colab": {
     "base_uri": "https://localhost:8080/"
    },
    "id": "TPY76VfpFCLA",
    "outputId": "2c49af6c-02d0-43fe-d7ff-97fd7fc1eef8"
   },
   "outputs": [
    {
     "name": "stdout",
     "output_type": "stream",
     "text": [
      "Name of Algorithm/Classifier Used: Logistic Regression\n",
      "\n",
      "***************VALIDATION DATA METRICS(CROSS VALIDATION SCORES) ************************************************\n",
      "Balanced Accuracy Score is: 79.865% (7.716%)\n",
      "Weighted Precison Score  is: 82.581% (5.454%)\n",
      "Weighted Recall Score is: 80.667% (5.333%)\n",
      "Weighted F-1 Score is: 80.601% (5.622%)\n",
      "\n",
      "***************TESTING DATA METRICS(CURRENT SAMPLE SCORE) ************************************************\n",
      "              precision    recall  f1-score   support\n",
      "\n",
      "         0.0       0.60      0.40      0.48        15\n",
      "         1.0       0.59      0.71      0.65        14\n",
      "         2.0       0.79      0.85      0.81        13\n",
      "         3.0       0.78      0.74      0.76        19\n",
      "         4.0       0.88      1.00      0.93        14\n",
      "\n",
      "    accuracy                           0.73        75\n",
      "   macro avg       0.73      0.74      0.73        75\n",
      "weighted avg       0.73      0.73      0.72        75\n",
      "\n",
      "[[ 6  7  0  2  0]\n",
      " [ 1 10  1  2  0]\n",
      " [ 0  0 11  0  2]\n",
      " [ 3  0  2 14  0]\n",
      " [ 0  0  0  0 14]]\n",
      "Lower Limit of Confidence Interval: 2.138045698494155\n",
      "Upper Limit of Confidence Interval: 2.2086209681725117\n",
      "Standard Mean: 2.04\n",
      "confidence level not achieved\n",
      "\n",
      "Weighted F-1 Score for the Current Sample of Training Data: 0.9368487013157732\n",
      "\n",
      "Accuracy Score for the Current Sample of Testing Data: 0.7333333333333333\n",
      "Weighted Precision Score for the Current Sample of Testing Data: 0.726364768129474\n",
      "Weighted Recall Score for the Current Sample of Testing Data: 0.7333333333333333\n",
      "Weighted F-1 Score for the Current Sample of Testing Data: 0.7235986093620501\n"
     ]
    }
   ],
   "source": [
    "name='Logistic Regression'\n",
    "classifier=LogisticRegression()\n",
    "print('Name of Algorithm/Classifier Used:',name)\n",
    "print()\n",
    "\n",
    "final_metrics=ML_classifier(encoded_dataframe_train[0],encoded_dataframe_test[0],Y_train[0],Y_test[0],name,classifier)\n",
    "f1_score_train_score_sample,accuracy,precision,recall,f1_score_test=final_metrics[0],final_metrics[1],final_metrics[2],final_metrics[3],final_metrics[4]\n",
    "accuracy_score_sample,precision_score_sample,recall_score_sample,f1_score_sample=final_metrics[5],final_metrics[6],final_metrics[7],final_metrics[8]\n",
    "test_score_classifiers_default.append([f1_score_train_score_sample,accuracy,precision,recall,f1_score_test,name])\n",
    "print()\n",
    "print('Weighted F-1 Score for the Current Sample of Training Data:',f1_score_train_score_sample)\n",
    "print()\n",
    "print('Accuracy Score for the Current Sample of Testing Data:',accuracy_score_sample)\n",
    "print('Weighted Precision Score for the Current Sample of Testing Data:',precision_score_sample)\n",
    "print('Weighted Recall Score for the Current Sample of Testing Data:',recall_score_sample)\n",
    "print('Weighted F-1 Score for the Current Sample of Testing Data:',f1_score_sample)"
   ]
  },
  {
   "cell_type": "markdown",
   "metadata": {
    "id": "FyHh864Wlb83"
   },
   "source": [
    "**Support Vector Machine**"
   ]
  },
  {
   "cell_type": "code",
   "execution_count": null,
   "metadata": {
    "colab": {
     "base_uri": "https://localhost:8080/"
    },
    "id": "2pgKOzLzZ_wE",
    "outputId": "2a273c0d-95e2-47df-b15d-9b7e16fcdb30"
   },
   "outputs": [
    {
     "name": "stdout",
     "output_type": "stream",
     "text": [
      "Name of Algorithm/Classifier Used: Support Vector Machine\n",
      "\n",
      "***************VALIDATION DATA METRICS(CROSS VALIDATION SCORES) ************************************************\n",
      "Balanced Accuracy Score is: 50.975% (6.256%)\n",
      "Weighted Precison Score  is: 57.977% (12.458%)\n",
      "Weighted Recall Score is: 50.667% (5.735%)\n",
      "Weighted F-1 Score is: 46.508% (8.215%)\n",
      "\n",
      "***************TESTING DATA METRICS(CURRENT SAMPLE SCORE) ************************************************\n",
      "              precision    recall  f1-score   support\n",
      "\n",
      "         0.0       0.40      0.13      0.20        15\n",
      "         1.0       0.39      0.50      0.44        14\n",
      "         2.0       0.15      0.31      0.21        13\n",
      "         3.0       0.00      0.00      0.00        19\n",
      "         4.0       0.50      0.93      0.65        14\n",
      "\n",
      "    accuracy                           0.35        75\n",
      "   macro avg       0.29      0.37      0.30        75\n",
      "weighted avg       0.27      0.35      0.28        75\n",
      "\n",
      "[[ 2  8  4  0  1]\n",
      " [ 1  7  2  0  4]\n",
      " [ 0  1  4  0  8]\n",
      " [ 2  2 15  0  0]\n",
      " [ 0  0  1  0 13]]\n",
      "Lower Limit of Confidence Interval: 2.285026868742906\n",
      "Upper Limit of Confidence Interval: 2.354973131257094\n",
      "Standard Mean: 2.04\n",
      "confidence level not achieved\n",
      "\n",
      "Weighted F-1 Score for the Current Sample of Training Data: 0.5013072664842088\n",
      "\n",
      "Accuracy Score for the Current Sample of Testing Data: 0.3466666666666667\n",
      "Weighted Precision Score for the Current Sample of Testing Data: 0.27259259259259255\n",
      "Weighted Recall Score for the Current Sample of Testing Data: 0.3466666666666667\n",
      "Weighted F-1 Score for the Current Sample of Testing Data: 0.27855555555555556\n"
     ]
    }
   ],
   "source": [
    "name='Support Vector Machine'\n",
    "classifier=SVC()\n",
    "print('Name of Algorithm/Classifier Used:',name)\n",
    "print()\n",
    "\n",
    "final_metrics=ML_classifier(encoded_dataframe_train[0],encoded_dataframe_test[0],Y_train[0],Y_test[0],name,classifier)\n",
    "f1_score_train_score_sample,accuracy,precision,recall,f1_score_test=final_metrics[0],final_metrics[1],final_metrics[2],final_metrics[3],final_metrics[4]\n",
    "accuracy_score_sample,precision_score_sample,recall_score_sample,f1_score_sample=final_metrics[5],final_metrics[6],final_metrics[7],final_metrics[8]\n",
    "test_score_classifiers_default.append([f1_score_train_score_sample,accuracy,precision,recall,f1_score_test,name])\n",
    "print()\n",
    "print('Weighted F-1 Score for the Current Sample of Training Data:',f1_score_train_score_sample)\n",
    "print()\n",
    "print('Accuracy Score for the Current Sample of Testing Data:',accuracy_score_sample)\n",
    "print('Weighted Precision Score for the Current Sample of Testing Data:',precision_score_sample)\n",
    "print('Weighted Recall Score for the Current Sample of Testing Data:',recall_score_sample)\n",
    "print('Weighted F-1 Score for the Current Sample of Testing Data:',f1_score_sample)"
   ]
  },
  {
   "cell_type": "markdown",
   "metadata": {
    "id": "1_vJtgaNnG9L"
   },
   "source": [
    "**K-Nearest Neighbor**"
   ]
  },
  {
   "cell_type": "code",
   "execution_count": null,
   "metadata": {
    "colab": {
     "base_uri": "https://localhost:8080/"
    },
    "id": "J2VL7CZ4mQwH",
    "outputId": "9f7456c0-097f-49c9-8e3f-f5de9427d48b"
   },
   "outputs": [
    {
     "name": "stdout",
     "output_type": "stream",
     "text": [
      "Name of Algorithm/Classifier Used: K-Nearest Neighbors\n",
      "\n",
      "***************VALIDATION DATA METRICS(CROSS VALIDATION SCORES) ************************************************\n",
      "Balanced Accuracy Score is: 61.515% (8.754%)\n",
      "Weighted Precison Score  is: 65.591% (5.286%)\n",
      "Weighted Recall Score is: 63.333% (6.325%)\n",
      "Weighted F-1 Score is: 62.385% (5.678%)\n",
      "\n",
      "***************TESTING DATA METRICS(CURRENT SAMPLE SCORE) ************************************************\n",
      "              precision    recall  f1-score   support\n",
      "\n",
      "         0.0       0.71      0.33      0.45        15\n",
      "         1.0       0.42      0.71      0.53        14\n",
      "         2.0       0.60      0.46      0.52        13\n",
      "         3.0       0.53      0.53      0.53        19\n",
      "         4.0       0.73      0.79      0.76        14\n",
      "\n",
      "    accuracy                           0.56        75\n",
      "   macro avg       0.60      0.56      0.56        75\n",
      "weighted avg       0.59      0.56      0.55        75\n",
      "\n",
      "[[ 5  4  2  3  1]\n",
      " [ 2 10  0  1  1]\n",
      " [ 0  3  6  2  2]\n",
      " [ 0  7  2 10  0]\n",
      " [ 0  0  0  3 11]]\n",
      "Lower Limit of Confidence Interval: 2.1123417937097835\n",
      "Upper Limit of Confidence Interval: 2.1809915396235495\n",
      "Standard Mean: 2.04\n",
      "confidence level not achieved\n",
      "\n",
      "Weighted F-1 Score for the Current Sample of Training Data: 0.7993275302952723\n",
      "\n",
      "Accuracy Score for the Current Sample of Testing Data: 0.56\n",
      "Weighted Precision Score for the Current Sample of Testing Data: 0.5948571428571429\n",
      "Weighted Recall Score for the Current Sample of Testing Data: 0.56\n",
      "Weighted F-1 Score for the Current Sample of Testing Data: 0.5545320162885065\n"
     ]
    }
   ],
   "source": [
    "name='K-Nearest Neighbors'\n",
    "classifier= KNeighborsClassifier()\n",
    "\n",
    "print('Name of Algorithm/Classifier Used:',name)\n",
    "print()\n",
    "\n",
    "final_metrics=ML_classifier(encoded_dataframe_train[0],encoded_dataframe_test[0],Y_train[0],Y_test[0],name,classifier)\n",
    "f1_score_train_score_sample,accuracy,precision,recall,f1_score_test=final_metrics[0],final_metrics[1],final_metrics[2],final_metrics[3],final_metrics[4]\n",
    "accuracy_score_sample,precision_score_sample,recall_score_sample,f1_score_sample=final_metrics[5],final_metrics[6],final_metrics[7],final_metrics[8]\n",
    "test_score_classifiers_default.append([f1_score_train_score_sample,accuracy,precision,recall,f1_score_test,name])\n",
    "print()\n",
    "print('Weighted F-1 Score for the Current Sample of Training Data:',f1_score_train_score_sample)\n",
    "print()\n",
    "print('Accuracy Score for the Current Sample of Testing Data:',accuracy_score_sample)\n",
    "print('Weighted Precision Score for the Current Sample of Testing Data:',precision_score_sample)\n",
    "print('Weighted Recall Score for the Current Sample of Testing Data:',recall_score_sample)\n",
    "print('Weighted F-1 Score for the Current Sample of Testing Data:',f1_score_sample)"
   ]
  },
  {
   "cell_type": "markdown",
   "metadata": {
    "id": "QMnkgVWvnMJk"
   },
   "source": [
    "**Naive Bayes**"
   ]
  },
  {
   "cell_type": "code",
   "execution_count": null,
   "metadata": {
    "colab": {
     "base_uri": "https://localhost:8080/"
    },
    "id": "h16S8l1VZxqr",
    "outputId": "402e7723-7fc3-4a40-81ab-edfff71058d2"
   },
   "outputs": [
    {
     "name": "stdout",
     "output_type": "stream",
     "text": [
      "Name of Algorithm/Classifier Used: Gaussian Naive Bayes\n",
      "\n",
      "***************VALIDATION DATA METRICS(CROSS VALIDATION SCORES) ************************************************\n",
      "Balanced Accuracy Score is: 88.674% (7.051%)\n",
      "Weighted Precison Score  is: 89.502% (6.264%)\n",
      "Weighted Recall Score is: 88.000% (6.864%)\n",
      "Weighted F-1 Score is: 87.623% (7.164%)\n",
      "\n",
      "***************TESTING DATA METRICS(CURRENT SAMPLE SCORE) ************************************************\n",
      "              precision    recall  f1-score   support\n",
      "\n",
      "         0.0       0.65      0.87      0.74        15\n",
      "         1.0       1.00      0.64      0.78        14\n",
      "         2.0       0.81      1.00      0.90        13\n",
      "         3.0       0.94      0.79      0.86        19\n",
      "         4.0       1.00      1.00      1.00        14\n",
      "\n",
      "    accuracy                           0.85        75\n",
      "   macro avg       0.88      0.86      0.86        75\n",
      "weighted avg       0.88      0.85      0.85        75\n",
      "\n",
      "[[13  0  1  1  0]\n",
      " [ 3  9  2  0  0]\n",
      " [ 0  0 13  0  0]\n",
      " [ 4  0  0 15  0]\n",
      " [ 0  0  0  0 14]]\n",
      "Lower Limit of Confidence Interval: 1.8950837183429365\n",
      "Upper Limit of Confidence Interval: 1.9715829483237302\n",
      "Standard Mean: 2.04\n",
      "confidence level not achieved\n",
      "\n",
      "Weighted F-1 Score for the Current Sample of Training Data: 0.9821367521367521\n",
      "\n",
      "Accuracy Score for the Current Sample of Testing Data: 0.8533333333333334\n",
      "Weighted Precision Score for the Current Sample of Testing Data: 0.8816666666666667\n",
      "Weighted Recall Score for the Current Sample of Testing Data: 0.8533333333333334\n",
      "Weighted F-1 Score for the Current Sample of Testing Data: 0.8538702077532662\n"
     ]
    }
   ],
   "source": [
    "name='Gaussian Naive Bayes'\n",
    "classifier = GaussianNB()\n",
    "print('Name of Algorithm/Classifier Used:',name)\n",
    "print()\n",
    "\n",
    "final_metrics=ML_classifier(encoded_dataframe_train[0],encoded_dataframe_test[0],Y_train[0],Y_test[0],name,classifier)\n",
    "f1_score_train_score_sample,accuracy,precision,recall,f1_score_test=final_metrics[0],final_metrics[1],final_metrics[2],final_metrics[3],final_metrics[4]\n",
    "accuracy_score_sample,precision_score_sample,recall_score_sample,f1_score_sample=final_metrics[5],final_metrics[6],final_metrics[7],final_metrics[8]\n",
    "test_score_classifiers_default.append([f1_score_train_score_sample,accuracy,precision,recall,f1_score_test,name])\n",
    "print()\n",
    "print('Weighted F-1 Score for the Current Sample of Training Data:',f1_score_train_score_sample)\n",
    "print()\n",
    "print('Accuracy Score for the Current Sample of Testing Data:',accuracy_score_sample)\n",
    "print('Weighted Precision Score for the Current Sample of Testing Data:',precision_score_sample)\n",
    "print('Weighted Recall Score for the Current Sample of Testing Data:',recall_score_sample)\n",
    "print('Weighted F-1 Score for the Current Sample of Testing Data:',f1_score_sample)"
   ]
  },
  {
   "cell_type": "markdown",
   "metadata": {
    "id": "hV4pmPb8nQwi"
   },
   "source": [
    "**Decision Tree**"
   ]
  },
  {
   "cell_type": "code",
   "execution_count": null,
   "metadata": {
    "colab": {
     "base_uri": "https://localhost:8080/"
    },
    "id": "2wI3oPbjZxms",
    "outputId": "e5b933d8-92c2-4036-f37b-50f972298d2b"
   },
   "outputs": [
    {
     "name": "stdout",
     "output_type": "stream",
     "text": [
      "Name of Algorithm/Classifier Used: Decision Tree\n",
      "\n",
      "***************VALIDATION DATA METRICS(CROSS VALIDATION SCORES) ************************************************\n",
      "Balanced Accuracy Score is: 88.867% (6.911%)\n",
      "Weighted Precison Score  is: 89.756% (7.390%)\n",
      "Weighted Recall Score is: 88.667% (7.483%)\n",
      "Weighted F-1 Score is: 88.392% (7.814%)\n",
      "\n",
      "***************TESTING DATA METRICS(CURRENT SAMPLE SCORE) ************************************************\n",
      "              precision    recall  f1-score   support\n",
      "\n",
      "         0.0       0.86      0.80      0.83        15\n",
      "         1.0       0.71      0.71      0.71        14\n",
      "         2.0       0.85      0.85      0.85        13\n",
      "         3.0       0.89      0.84      0.86        19\n",
      "         4.0       0.88      1.00      0.93        14\n",
      "\n",
      "    accuracy                           0.84        75\n",
      "   macro avg       0.84      0.84      0.84        75\n",
      "weighted avg       0.84      0.84      0.84        75\n",
      "\n",
      "[[12  1  1  1  0]\n",
      " [ 2 10  1  1  0]\n",
      " [ 0  0 11  0  2]\n",
      " [ 0  3  0 16  0]\n",
      " [ 0  0  0  0 14]]\n",
      "Lower Limit of Confidence Interval: 2.0695675590510305\n",
      "Upper Limit of Confidence Interval: 2.1437657742823024\n",
      "Standard Mean: 2.04\n",
      "confidence level not achieved\n",
      "\n",
      "Weighted F-1 Score for the Current Sample of Training Data: 0.9866772416831902\n",
      "\n",
      "Accuracy Score for the Current Sample of Testing Data: 0.84\n",
      "Weighted Precision Score for the Current Sample of Testing Data: 0.83994708994709\n",
      "Weighted Recall Score for the Current Sample of Testing Data: 0.84\n",
      "Weighted F-1 Score for the Current Sample of Testing Data: 0.8388385627006317\n"
     ]
    }
   ],
   "source": [
    "from sklearn.tree import DecisionTreeClassifier\n",
    "name='Decision Tree'\n",
    "classifier = DecisionTreeClassifier()\n",
    "\n",
    "print('Name of Algorithm/Classifier Used:',name)\n",
    "print()\n",
    "\n",
    "final_metrics=ML_classifier(encoded_dataframe_train[0],encoded_dataframe_test[0],Y_train[0],Y_test[0],name,classifier)\n",
    "f1_score_train_score_sample,accuracy,precision,recall,f1_score_test=final_metrics[0],final_metrics[1],final_metrics[2],final_metrics[3],final_metrics[4]\n",
    "accuracy_score_sample,precision_score_sample,recall_score_sample,f1_score_sample=final_metrics[5],final_metrics[6],final_metrics[7],final_metrics[8]\n",
    "test_score_classifiers_default.append([f1_score_train_score_sample,accuracy,precision,recall,f1_score_test,name])\n",
    "print()\n",
    "print('Weighted F-1 Score for the Current Sample of Training Data:',f1_score_train_score_sample)\n",
    "print()\n",
    "print('Accuracy Score for the Current Sample of Testing Data:',accuracy_score_sample)\n",
    "print('Weighted Precision Score for the Current Sample of Testing Data:',precision_score_sample)\n",
    "print('Weighted Recall Score for the Current Sample of Testing Data:',recall_score_sample)\n",
    "print('Weighted F-1 Score for the Current Sample of Testing Data:',f1_score_sample)"
   ]
  },
  {
   "cell_type": "markdown",
   "metadata": {
    "id": "bTbvS9f5aLll"
   },
   "source": [
    "### **Ensemble Techniques**"
   ]
  },
  {
   "cell_type": "markdown",
   "metadata": {
    "id": "xVBrzVZCn3g5"
   },
   "source": [
    "**Random Forest**"
   ]
  },
  {
   "cell_type": "code",
   "execution_count": null,
   "metadata": {
    "colab": {
     "base_uri": "https://localhost:8080/"
    },
    "id": "89lG613HZxXI",
    "outputId": "72005dc3-d4d2-4b4c-d454-0cabe8e35e85"
   },
   "outputs": [
    {
     "name": "stdout",
     "output_type": "stream",
     "text": [
      "Name of Algorithm/Classifier Used: Random Forest\n",
      "\n",
      "***************VALIDATION DATA METRICS(CROSS VALIDATION SCORES) ************************************************\n",
      "Balanced Accuracy Score is: 93.106% (4.617%)\n",
      "Weighted Precison Score  is: 94.113% (3.828%)\n",
      "Weighted Recall Score is: 92.667% (4.899%)\n",
      "Weighted F-1 Score is: 92.510% (5.096%)\n",
      "\n",
      "***************TESTING DATA METRICS(CURRENT SAMPLE SCORE) ************************************************\n",
      "              precision    recall  f1-score   support\n",
      "\n",
      "         0.0       0.64      0.93      0.76        15\n",
      "         1.0       0.90      0.64      0.75        14\n",
      "         2.0       1.00      0.85      0.92        13\n",
      "         3.0       0.83      0.79      0.81        19\n",
      "         4.0       1.00      1.00      1.00        14\n",
      "\n",
      "    accuracy                           0.84        75\n",
      "   macro avg       0.87      0.84      0.85        75\n",
      "weighted avg       0.87      0.84      0.84        75\n",
      "\n",
      "[[14  1  0  0  0]\n",
      " [ 4  9  0  1  0]\n",
      " [ 0  0 11  2  0]\n",
      " [ 4  0  0 15  0]\n",
      " [ 0  0  0  0 14]]\n",
      "Lower Limit of Confidence Interval: 1.85385594636088\n",
      "Upper Limit of Confidence Interval: 1.9328107203057867\n",
      "Standard Mean: 2.04\n",
      "confidence level not achieved\n",
      "\n",
      "Weighted F-1 Score for the Current Sample of Training Data: 0.9866772416831902\n",
      "\n",
      "Accuracy Score for the Current Sample of Testing Data: 0.84\n",
      "Weighted Precision Score for the Current Sample of Testing Data: 0.8663838383838383\n",
      "Weighted Recall Score for the Current Sample of Testing Data: 0.84\n",
      "Weighted F-1 Score for the Current Sample of Testing Data: 0.8423123123123124\n"
     ]
    }
   ],
   "source": [
    "from sklearn.ensemble import RandomForestClassifier\n",
    "name='Random Forest'\n",
    "classifier = RandomForestClassifier()\n",
    "print('Name of Algorithm/Classifier Used:',name)\n",
    "print()\n",
    "\n",
    "final_metrics=ML_classifier(encoded_dataframe_train[0],encoded_dataframe_test[0],Y_train[0],Y_test[0],name,classifier)\n",
    "f1_score_train_score_sample,accuracy,precision,recall,f1_score_test=final_metrics[0],final_metrics[1],final_metrics[2],final_metrics[3],final_metrics[4]\n",
    "accuracy_score_sample,precision_score_sample,recall_score_sample,f1_score_sample=final_metrics[5],final_metrics[6],final_metrics[7],final_metrics[8]\n",
    "test_score_classifiers_default.append([f1_score_train_score_sample,accuracy,precision,recall,f1_score_test,name])\n",
    "print()\n",
    "print('Weighted F-1 Score for the Current Sample of Training Data:',f1_score_train_score_sample)\n",
    "print()\n",
    "print('Accuracy Score for the Current Sample of Testing Data:',accuracy_score_sample)\n",
    "print('Weighted Precision Score for the Current Sample of Testing Data:',precision_score_sample)\n",
    "print('Weighted Recall Score for the Current Sample of Testing Data:',recall_score_sample)\n",
    "print('Weighted F-1 Score for the Current Sample of Testing Data:',f1_score_sample)"
   ]
  },
  {
   "cell_type": "markdown",
   "metadata": {
    "id": "VcMjVmfZn8IL"
   },
   "source": [
    "**Bagging Classifier**"
   ]
  },
  {
   "cell_type": "code",
   "execution_count": null,
   "metadata": {
    "colab": {
     "base_uri": "https://localhost:8080/"
    },
    "id": "e6hSbPbQZxUL",
    "outputId": "c6fddbd2-2eaa-4488-c77e-f6832f537d52"
   },
   "outputs": [
    {
     "name": "stdout",
     "output_type": "stream",
     "text": [
      "Name of Algorithm/Classifier Used: Bagging\n",
      "\n",
      "***************VALIDATION DATA METRICS(CROSS VALIDATION SCORES) ************************************************\n",
      "Balanced Accuracy Score is: 86.954% (5.105%)\n",
      "Weighted Precison Score  is: 88.276% (5.200%)\n",
      "Weighted Recall Score is: 86.667% (4.944%)\n",
      "Weighted F-1 Score is: 86.365% (5.512%)\n",
      "\n",
      "***************TESTING DATA METRICS(CURRENT SAMPLE SCORE) ************************************************\n",
      "              precision    recall  f1-score   support\n",
      "\n",
      "         0.0       0.91      0.67      0.77        15\n",
      "         1.0       0.71      0.71      0.71        14\n",
      "         2.0       0.73      0.85      0.79        13\n",
      "         3.0       0.79      0.79      0.79        19\n",
      "         4.0       0.88      1.00      0.93        14\n",
      "\n",
      "    accuracy                           0.80        75\n",
      "   macro avg       0.80      0.80      0.80        75\n",
      "weighted avg       0.81      0.80      0.80        75\n",
      "\n",
      "[[10  3  0  2  0]\n",
      " [ 1 10  1  2  0]\n",
      " [ 0  0 11  0  2]\n",
      " [ 0  1  3 15  0]\n",
      " [ 0  0  0  0 14]]\n",
      "Lower Limit of Confidence Interval: 2.1645510219548654\n",
      "Upper Limit of Confidence Interval: 2.235448978045135\n",
      "Standard Mean: 2.04\n",
      "confidence level not achieved\n",
      "\n",
      "Weighted F-1 Score for the Current Sample of Training Data: 0.9777379227430828\n",
      "\n",
      "Accuracy Score for the Current Sample of Testing Data: 0.8\n",
      "Weighted Precision Score for the Current Sample of Testing Data: 0.8055959595959596\n",
      "Weighted Recall Score for the Current Sample of Testing Data: 0.8\n",
      "Weighted F-1 Score for the Current Sample of Testing Data: 0.7975921855921856\n"
     ]
    }
   ],
   "source": [
    "# Bagging Classifier\n",
    "from sklearn.ensemble import BaggingClassifier\n",
    "name='Bagging'\n",
    "classifier = BaggingClassifier()\n",
    "print('Name of Algorithm/Classifier Used:',name)\n",
    "print()\n",
    "\n",
    "final_metrics=ML_classifier(encoded_dataframe_train[0],encoded_dataframe_test[0],Y_train[0],Y_test[0],name,classifier)\n",
    "f1_score_train_score_sample,accuracy,precision,recall,f1_score_test=final_metrics[0],final_metrics[1],final_metrics[2],final_metrics[3],final_metrics[4]\n",
    "accuracy_score_sample,precision_score_sample,recall_score_sample,f1_score_sample=final_metrics[5],final_metrics[6],final_metrics[7],final_metrics[8]\n",
    "test_score_classifiers_default.append([f1_score_train_score_sample,accuracy,precision,recall,f1_score_test,name])\n",
    "print()\n",
    "print('Weighted F-1 Score for the Current Sample of Training Data:',f1_score_train_score_sample)\n",
    "print()\n",
    "print('Accuracy Score for the Current Sample of Testing Data:',accuracy_score_sample)\n",
    "print('Weighted Precision Score for the Current Sample of Testing Data:',precision_score_sample)\n",
    "print('Weighted Recall Score for the Current Sample of Testing Data:',recall_score_sample)\n",
    "print('Weighted F-1 Score for the Current Sample of Testing Data:',f1_score_sample)"
   ]
  },
  {
   "cell_type": "markdown",
   "metadata": {
    "id": "GP3BEtapoAg7"
   },
   "source": [
    "**Gradient Boosting**"
   ]
  },
  {
   "cell_type": "code",
   "execution_count": null,
   "metadata": {
    "colab": {
     "base_uri": "https://localhost:8080/"
    },
    "id": "nc2Mb0zlZxQu",
    "outputId": "f95aa046-59ec-425a-9ec2-ec85b3465a87"
   },
   "outputs": [
    {
     "name": "stdout",
     "output_type": "stream",
     "text": [
      "Name of Algorithm/Classifier Used: Gradient Boosting\n",
      "\n",
      "***************VALIDATION DATA METRICS(CROSS VALIDATION SCORES) ************************************************\n",
      "Balanced Accuracy Score is: 88.288% (5.863%)\n",
      "Weighted Precison Score  is: 91.338% (4.591%)\n",
      "Weighted Recall Score is: 87.667% (5.972%)\n",
      "Weighted F-1 Score is: 87.876% (5.930%)\n",
      "\n",
      "***************TESTING DATA METRICS(CURRENT SAMPLE SCORE) ************************************************\n",
      "              precision    recall  f1-score   support\n",
      "\n",
      "         0.0       0.71      0.67      0.69        15\n",
      "         1.0       0.91      0.71      0.80        14\n",
      "         2.0       0.92      0.85      0.88        13\n",
      "         3.0       0.75      0.95      0.84        19\n",
      "         4.0       1.00      1.00      1.00        14\n",
      "\n",
      "    accuracy                           0.84        75\n",
      "   macro avg       0.86      0.83      0.84        75\n",
      "weighted avg       0.85      0.84      0.84        75\n",
      "\n",
      "[[10  1  1  3  0]\n",
      " [ 3 10  0  1  0]\n",
      " [ 0  0 11  2  0]\n",
      " [ 1  0  0 18  0]\n",
      " [ 0  0  0  0 14]]\n",
      "Lower Limit of Confidence Interval: 2.137028164402977\n",
      "Upper Limit of Confidence Interval: 2.2096385022636897\n",
      "Standard Mean: 2.04\n",
      "confidence level not achieved\n",
      "\n",
      "Weighted F-1 Score for the Current Sample of Training Data: 0.9866772416831902\n",
      "\n",
      "Accuracy Score for the Current Sample of Testing Data: 0.84\n",
      "Weighted Precision Score for the Current Sample of Testing Data: 0.848109668109668\n",
      "Weighted Recall Score for the Current Sample of Testing Data: 0.84\n",
      "Weighted F-1 Score for the Current Sample of Testing Data: 0.8385573910719059\n"
     ]
    }
   ],
   "source": [
    " # Gradient Boosting\n",
    "from sklearn.ensemble import GradientBoostingClassifier\n",
    "name='Gradient Boosting'\n",
    "classifier = GradientBoostingClassifier()\n",
    "print('Name of Algorithm/Classifier Used:',name)\n",
    "print()\n",
    "\n",
    "final_metrics=ML_classifier(encoded_dataframe_train[0],encoded_dataframe_test[0],Y_train[0],Y_test[0],name,classifier)\n",
    "f1_score_train_score_sample,accuracy,precision,recall,f1_score_test=final_metrics[0],final_metrics[1],final_metrics[2],final_metrics[3],final_metrics[4]\n",
    "accuracy_score_sample,precision_score_sample,recall_score_sample,f1_score_sample=final_metrics[5],final_metrics[6],final_metrics[7],final_metrics[8]\n",
    "test_score_classifiers_default.append([f1_score_train_score_sample,accuracy,precision,recall,f1_score_test,name])\n",
    "print()\n",
    "print('Weighted F-1 Score for the Current Sample of Training Data:',f1_score_train_score_sample)\n",
    "print()\n",
    "print('Accuracy Score for the Current Sample of Testing Data:',accuracy_score_sample)\n",
    "print('Weighted Precision Score for the Current Sample of Testing Data:',precision_score_sample)\n",
    "print('Weighted Recall Score for the Current Sample of Testing Data:',recall_score_sample)\n",
    "print('Weighted F-1 Score for the Current Sample of Testing Data:',f1_score_sample)"
   ]
  },
  {
   "cell_type": "markdown",
   "metadata": {
    "id": "cxkF8oYboDNL"
   },
   "source": [
    "**Ada Boosting**"
   ]
  },
  {
   "cell_type": "code",
   "execution_count": null,
   "metadata": {
    "colab": {
     "base_uri": "https://localhost:8080/"
    },
    "id": "vR9S6QoWZxM-",
    "outputId": "af91f423-bb31-4f79-b3e3-80894c837f83"
   },
   "outputs": [
    {
     "name": "stdout",
     "output_type": "stream",
     "text": [
      "Name of Algorithm/Classifier Used: Ada Boosting\n",
      "\n",
      "***************VALIDATION DATA METRICS(CROSS VALIDATION SCORES) ************************************************\n",
      "Balanced Accuracy Score is: 57.032% (6.406%)\n",
      "Weighted Precison Score  is: 61.570% (10.447%)\n",
      "Weighted Recall Score is: 57.333% (7.118%)\n",
      "Weighted F-1 Score is: 55.235% (8.232%)\n",
      "\n",
      "***************TESTING DATA METRICS(CURRENT SAMPLE SCORE) ************************************************\n",
      "              precision    recall  f1-score   support\n",
      "\n",
      "         0.0       0.55      0.73      0.63        15\n",
      "         1.0       0.00      0.00      0.00        14\n",
      "         2.0       0.38      0.77      0.51        13\n",
      "         3.0       0.60      0.47      0.53        19\n",
      "         4.0       1.00      1.00      1.00        14\n",
      "\n",
      "    accuracy                           0.59        75\n",
      "   macro avg       0.51      0.60      0.53        75\n",
      "weighted avg       0.52      0.59      0.54        75\n",
      "\n",
      "[[11  0  2  2  0]\n",
      " [ 9  0  4  1  0]\n",
      " [ 0  0 10  3  0]\n",
      " [ 0  0 10  9  0]\n",
      " [ 0  0  0  0 14]]\n",
      "Lower Limit of Confidence Interval: 2.002933633638307\n",
      "Upper Limit of Confidence Interval: 2.0770663663616933\n",
      "Standard Mean: 2.04\n",
      "95% confidence level\n",
      "\n",
      "Weighted F-1 Score for the Current Sample of Training Data: 0.61748425452436\n",
      "\n",
      "Accuracy Score for the Current Sample of Testing Data: 0.5866666666666667\n",
      "Weighted Precision Score for the Current Sample of Testing Data: 0.5153333333333333\n",
      "Weighted Recall Score for the Current Sample of Testing Data: 0.5866666666666667\n",
      "Weighted F-1 Score for the Current Sample of Testing Data: 0.5353874883286648\n"
     ]
    }
   ],
   "source": [
    "# Ada Boosting\n",
    "from sklearn.ensemble import AdaBoostClassifier\n",
    "name='Ada Boosting'\n",
    "classifier=AdaBoostClassifier()\n",
    "print('Name of Algorithm/Classifier Used:',name)\n",
    "print()\n",
    "\n",
    "final_metrics=ML_classifier(encoded_dataframe_train[0],encoded_dataframe_test[0],Y_train[0],Y_test[0],name,classifier)\n",
    "f1_score_train_score_sample,accuracy,precision,recall,f1_score_test=final_metrics[0],final_metrics[1],final_metrics[2],final_metrics[3],final_metrics[4]\n",
    "accuracy_score_sample,precision_score_sample,recall_score_sample,f1_score_sample=final_metrics[5],final_metrics[6],final_metrics[7],final_metrics[8]\n",
    "test_score_classifiers_default.append([f1_score_train_score_sample,accuracy,precision,recall,f1_score_test,name])\n",
    "print()\n",
    "print('Weighted F-1 Score for the Current Sample of Training Data:',f1_score_train_score_sample)\n",
    "print()\n",
    "print('Accuracy Score for the Current Sample of Testing Data:',accuracy_score_sample)\n",
    "print('Weighted Precision Score for the Current Sample of Testing Data:',precision_score_sample)\n",
    "print('Weighted Recall Score for the Current Sample of Testing Data:',recall_score_sample)\n",
    "print('Weighted F-1 Score for the Current Sample of Testing Data:',f1_score_sample)"
   ]
  },
  {
   "cell_type": "markdown",
   "metadata": {
    "id": "o-5qaBMtpJs8"
   },
   "source": [
    "**XG Boosting**"
   ]
  },
  {
   "cell_type": "code",
   "execution_count": null,
   "metadata": {
    "colab": {
     "base_uri": "https://localhost:8080/"
    },
    "id": "G6tZ6eQww4K8",
    "outputId": "13e58be6-77de-405b-c500-b357d97ae915"
   },
   "outputs": [
    {
     "name": "stdout",
     "output_type": "stream",
     "text": [
      "Name of Algorithm/Classifier Used: XG Boosting\n",
      "\n",
      "***************VALIDATION DATA METRICS(CROSS VALIDATION SCORES) ************************************************\n",
      "Balanced Accuracy Score is: 56.869% (6.474%)\n",
      "Weighted Precison Score  is: 61.476% (10.459%)\n",
      "Weighted Recall Score is: 57.000% (7.371%)\n",
      "Weighted F-1 Score is: 54.595% (8.446%)\n",
      "\n",
      "***************TESTING DATA METRICS(CURRENT SAMPLE SCORE) ************************************************\n",
      "              precision    recall  f1-score   support\n",
      "\n",
      "         0.0       0.55      0.73      0.63        15\n",
      "         1.0       0.00      0.00      0.00        14\n",
      "         2.0       0.38      0.77      0.51        13\n",
      "         3.0       0.60      0.47      0.53        19\n",
      "         4.0       1.00      1.00      1.00        14\n",
      "\n",
      "    accuracy                           0.59        75\n",
      "   macro avg       0.51      0.60      0.53        75\n",
      "weighted avg       0.52      0.59      0.54        75\n",
      "\n",
      "[[11  0  2  2  0]\n",
      " [ 9  0  4  1  0]\n",
      " [ 0  0 10  3  0]\n",
      " [ 0  0 10  9  0]\n",
      " [ 0  0  0  0 14]]\n",
      "Lower Limit of Confidence Interval: 2.002933633638307\n",
      "Upper Limit of Confidence Interval: 2.0770663663616933\n",
      "Standard Mean: 2.04\n",
      "95% confidence level\n",
      "\n",
      "Weighted F-1 Score for the Current Sample of Training Data: 0.61748425452436\n",
      "\n",
      "Accuracy Score for the Current Sample of Testing Data: 0.5866666666666667\n",
      "Weighted Precision Score for the Current Sample of Testing Data: 0.5153333333333333\n",
      "Weighted Recall Score for the Current Sample of Testing Data: 0.5866666666666667\n",
      "Weighted F-1 Score for the Current Sample of Testing Data: 0.5353874883286648\n"
     ]
    }
   ],
   "source": [
    "name='XG Boosting'\n",
    "classfier = XGBClassifier()\n",
    "print('Name of Algorithm/Classifier Used:',name)\n",
    "print()\n",
    "\n",
    "final_metrics=ML_classifier(encoded_dataframe_train[0],encoded_dataframe_test[0],Y_train[0],Y_test[0],name,classifier)\n",
    "f1_score_train_score_sample,accuracy,precision,recall,f1_score_test=final_metrics[0],final_metrics[1],final_metrics[2],final_metrics[3],final_metrics[4]\n",
    "accuracy_score_sample,precision_score_sample,recall_score_sample,f1_score_sample=final_metrics[5],final_metrics[6],final_metrics[7],final_metrics[8]\n",
    "test_score_classifiers_default.append([f1_score_train_score_sample,accuracy,precision,recall,f1_score_test,name])\n",
    "print()\n",
    "print('Weighted F-1 Score for the Current Sample of Training Data:',f1_score_train_score_sample)\n",
    "print()\n",
    "print('Accuracy Score for the Current Sample of Testing Data:',accuracy_score_sample)\n",
    "print('Weighted Precision Score for the Current Sample of Testing Data:',precision_score_sample)\n",
    "print('Weighted Recall Score for the Current Sample of Testing Data:',recall_score_sample)\n",
    "print('Weighted F-1 Score for the Current Sample of Testing Data:',f1_score_sample)"
   ]
  },
  {
   "cell_type": "markdown",
   "metadata": {
    "id": "ys7bF-s3VzNX"
   },
   "source": [
    "### **Machine Learning Classifiers with Hyper Parameter Optimization**"
   ]
  },
  {
   "cell_type": "markdown",
   "metadata": {
    "id": "bdylEX2fWFmJ"
   },
   "source": [
    "### **Classical Techniques**"
   ]
  },
  {
   "cell_type": "code",
   "execution_count": null,
   "metadata": {
    "id": "02unna_UWHiV"
   },
   "outputs": [],
   "source": [
    "def ML_classifier_Optimized(x_train,x_test,y_train,y_test,name,classifier,grid):\n",
    "  grid_object = GridSearchCV(classifier, grid)\n",
    "  grid_object.fit(x_train,y_train)\n",
    "  print('Parameters of Best Model are:')\n",
    "  print(grid_object.best_estimator_)\n",
    "  model=grid_object.best_estimator_\n",
    "  optimum_param=cross_validate(estimator=model,X=pd.concat([x_train,x_test]),y=np.hstack((y_train,y_test)),cv=KFold(10,True,0),scoring=['balanced_accuracy','precision_weighted','recall_weighted','f1_weighted'])  \n",
    "  print('***************VALIDATION DATA METRICS(CROSS VALIDATION SCORES) ************************************************')\n",
    "  # print(optimum_param)\n",
    "  print(\"Balanced Accuracy Score is: %.3f%% (%.3f%%)\" % (optimum_param['test_balanced_accuracy'].mean()*100, optimum_param['test_balanced_accuracy'].std()*100))\n",
    "  print(\"Weighted Precison Score  is: %.3f%% (%.3f%%)\" % (optimum_param['test_precision_weighted'].mean()*100, optimum_param['test_precision_weighted'].std()*100))\n",
    "  print(\"Weighted Recall Score is: %.3f%% (%.3f%%)\" % (optimum_param['test_recall_weighted'].mean()*100, optimum_param['test_recall_weighted'].std()*100))\n",
    "  print(\"Weighted F-1 Score is: %.3f%% (%.3f%%)\" % (optimum_param['test_f1_weighted'].mean()*100, optimum_param['test_f1_weighted'].std()*100))\n",
    "  \n",
    "  accuracy_score_mean_value,accuracy_score_std_value=optimum_param['test_balanced_accuracy'].mean()*100,optimum_param['test_balanced_accuracy'].std()*100\n",
    "  precision_score_mean_value,precision_score_std_value=optimum_param['test_precision_weighted'].mean()*100,optimum_param['test_precision_weighted'].std()*100\n",
    "  recall_score_mean_value,recall_score_std_value=optimum_param['test_recall_weighted'].mean()*100,optimum_param['test_recall_weighted'].std()*100\n",
    "  f1_score_mean_value,f1_score_std_value=optimum_param['test_f1_weighted'].mean()*100,optimum_param['test_f1_weighted'].std()*100\n",
    "  \n",
    "  print()\n",
    "  print('***************TESTING DATA METRICS(CURRENT SAMPLE SCORE) ************************************************')\n",
    "\n",
    "  model.fit(x_train, y_train)\n",
    "  y_pred = model.predict(x_test)\n",
    "  print(classification_report(y_test,y_pred))\n",
    "  print(confusion_matrix(y_test,y_pred))\n",
    "  \n",
    "  \n",
    "  ll,ul=y_pred.mean()-1.96*(y_pred.std()/len(y_pred)),y_pred.mean()+1.96*(y_pred.std()/len(y_pred))\n",
    "  print('Lower Limit of Confidence Interval:',ll)\n",
    "  print('Upper Limit of Confidence Interval:',ul)\n",
    "  print('Standard Mean:',y_test.mean())\n",
    "  if y_test.mean() >=ll and y_test.mean()<=ul :\n",
    "    print('95% confidence level')\n",
    "  else:\n",
    "    print('confidence level not achieved')\n",
    "  \n",
    "  name=name+' Optimized'\n",
    "  path='/content/drive/MyDrive/NLP_Chatbot_Capstone_Project/Trained Optimized Machine Learning Classifiers/'\n",
    "  with open(path+'Model_'+str(name),'wb') as f:\n",
    "    pickle.dump(model,f)\n",
    "  \n",
    "  train_f1_score=f1_score(y_train, model.predict(x_train), average='weighted')\n",
    "  \n",
    "  final_metrics=[train_f1_score,accuracy_score_mean_value,precision_score_mean_value,recall_score_mean_value,f1_score_mean_value,\n",
    "  accuracy_score(y_test, y_pred),precision_score(y_test, y_pred, average='weighted'),\n",
    "  recall_score(y_test, y_pred, average='weighted'),f1_score(y_test, y_pred, average='weighted')]\n",
    "  return final_metrics\n"
   ]
  },
  {
   "cell_type": "markdown",
   "metadata": {
    "id": "MvWM2UeCWFmT"
   },
   "source": [
    "**Logistic Regression**"
   ]
  },
  {
   "cell_type": "code",
   "execution_count": null,
   "metadata": {
    "colab": {
     "base_uri": "https://localhost:8080/"
    },
    "id": "z47oc1_1VaeA",
    "outputId": "a10d62db-226f-4bd9-e205-47918d06789d"
   },
   "outputs": [
    {
     "name": "stdout",
     "output_type": "stream",
     "text": [
      "Name of Algorithm/Classifier Used(with HyperParameter Optimization): Logistic Regression\n",
      "\n",
      "Parameters of Best Model are:\n",
      "LogisticRegression(C=11, penalty='l1', solver='liblinear', tol=0.005)\n",
      "***************VALIDATION DATA METRICS(CROSS VALIDATION SCORES) ************************************************\n",
      "Balanced Accuracy Score is: 89.246% (5.265%)\n",
      "Weighted Precison Score  is: 90.769% (4.475%)\n",
      "Weighted Recall Score is: 89.000% (5.385%)\n",
      "Weighted F-1 Score is: 88.688% (5.487%)\n",
      "\n",
      "***************TESTING DATA METRICS(CURRENT SAMPLE SCORE) ************************************************\n",
      "              precision    recall  f1-score   support\n",
      "\n",
      "         0.0       0.71      0.67      0.69        15\n",
      "         1.0       0.80      0.86      0.83        14\n",
      "         2.0       0.93      1.00      0.96        13\n",
      "         3.0       0.83      0.79      0.81        19\n",
      "         4.0       1.00      1.00      1.00        14\n",
      "\n",
      "    accuracy                           0.85        75\n",
      "   macro avg       0.86      0.86      0.86        75\n",
      "weighted avg       0.85      0.85      0.85        75\n",
      "\n",
      "[[10  3  0  2  0]\n",
      " [ 1 12  0  1  0]\n",
      " [ 0  0 13  0  0]\n",
      " [ 3  0  1 15  0]\n",
      " [ 0  0  0  0 14]]\n",
      "Lower Limit of Confidence Interval: 2.0036781136727404\n",
      "Upper Limit of Confidence Interval: 2.0763218863272597\n",
      "Standard Mean: 2.04\n",
      "95% confidence level\n",
      "\n",
      "Weighted F-1 Score for the Current Sample of Training Data: 0.9866772416831902\n",
      "\n",
      "Accuracy Score for the Current Sample of Testing Data: 0.8533333333333334\n",
      "Weighted Precision Score for the Current Sample of Testing Data: 0.850920634920635\n",
      "Weighted Recall Score for the Current Sample of Testing Data: 0.8533333333333334\n",
      "Weighted F-1 Score for the Current Sample of Testing Data: 0.8513994454224338\n"
     ]
    }
   ],
   "source": [
    "name='Logistic Regression'\n",
    "grid = {'penalty' : ['l1','l2','elasticnet'],\n",
    "       'tol' : [1e-3, 5e-4, 1e-4, 5e-3,1e-4,1e-5,1e-6,1e-7],\n",
    "       'C':[10^i for i in range(-3, 4)],\n",
    "       'solver':['newton-cg', 'lbfgs', 'liblinear', 'sag', 'saga']}\n",
    "classifier= LogisticRegression()\n",
    "print('Name of Algorithm/Classifier Used(with HyperParameter Optimization):',name)\n",
    "print()\n",
    "final_metrics=ML_classifier_Optimized(encoded_dataframe_train[0],encoded_dataframe_test[0],Y_train[0],Y_test[0],name,classifier,grid)\n",
    "f1_score_train_score_sample,accuracy,precision,recall,f1_score_test=final_metrics[0],final_metrics[1],final_metrics[2],final_metrics[3],final_metrics[4]\n",
    "accuracy_score_sample,precision_score_sample,recall_score_sample,f1_score_sample=final_metrics[5],final_metrics[6],final_metrics[7],final_metrics[8]\n",
    "test_score_classifiers_grid_search_cv.append([f1_score_train_score_sample,accuracy,precision,recall,f1_score_test,name])\n",
    "print()\n",
    "print('Weighted F-1 Score for the Current Sample of Training Data:',f1_score_train_score_sample)\n",
    "print()\n",
    "print('Accuracy Score for the Current Sample of Testing Data:',accuracy_score_sample)\n",
    "print('Weighted Precision Score for the Current Sample of Testing Data:',precision_score_sample)\n",
    "print('Weighted Recall Score for the Current Sample of Testing Data:',recall_score_sample)\n",
    "print('Weighted F-1 Score for the Current Sample of Testing Data:',f1_score_sample)\n"
   ]
  },
  {
   "cell_type": "markdown",
   "metadata": {
    "id": "3Q2OvhSuWFmT"
   },
   "source": [
    "**Support Vector Machine**"
   ]
  },
  {
   "cell_type": "code",
   "execution_count": null,
   "metadata": {
    "colab": {
     "base_uri": "https://localhost:8080/"
    },
    "id": "ac4rZtcDWmuy",
    "outputId": "e7703987-7fe1-4361-db8c-b258efb9784a"
   },
   "outputs": [
    {
     "name": "stdout",
     "output_type": "stream",
     "text": [
      "Name of Algorithm/Classifier Used(with HyperParameter Optimization): Support Vector Machine\n",
      "\n",
      "Parameters of Best Model are:\n",
      "SVC(C=1000.0, kernel='poly')\n",
      "***************VALIDATION DATA METRICS(CROSS VALIDATION SCORES) ************************************************\n",
      "Balanced Accuracy Score is: 91.222% (7.097%)\n",
      "Weighted Precison Score  is: 91.883% (6.081%)\n",
      "Weighted Recall Score is: 90.333% (7.371%)\n",
      "Weighted F-1 Score is: 90.109% (7.730%)\n",
      "\n",
      "***************TESTING DATA METRICS(CURRENT SAMPLE SCORE) ************************************************\n",
      "              precision    recall  f1-score   support\n",
      "\n",
      "         0.0       0.64      0.60      0.62        15\n",
      "         1.0       0.71      0.71      0.71        14\n",
      "         2.0       0.87      1.00      0.93        13\n",
      "         3.0       0.88      0.79      0.83        19\n",
      "         4.0       0.93      1.00      0.97        14\n",
      "\n",
      "    accuracy                           0.81        75\n",
      "   macro avg       0.81      0.82      0.81        75\n",
      "weighted avg       0.81      0.81      0.81        75\n",
      "\n",
      "[[ 9  4  2  0  0]\n",
      " [ 1 10  0  2  1]\n",
      " [ 0  0 13  0  0]\n",
      " [ 4  0  0 15  0]\n",
      " [ 0  0  0  0 14]]\n",
      "Lower Limit of Confidence Interval: 2.0301215050237604\n",
      "Upper Limit of Confidence Interval: 2.1032118283095733\n",
      "Standard Mean: 2.04\n",
      "95% confidence level\n",
      "\n",
      "Weighted F-1 Score for the Current Sample of Training Data: 0.9822312202625976\n",
      "\n",
      "Accuracy Score for the Current Sample of Testing Data: 0.8133333333333334\n",
      "Weighted Precision Score for the Current Sample of Testing Data: 0.8098786181139123\n",
      "Weighted Recall Score for the Current Sample of Testing Data: 0.8133333333333334\n",
      "Weighted F-1 Score for the Current Sample of Testing Data: 0.8097646414887794\n"
     ]
    }
   ],
   "source": [
    "name='Support Vector Machine'\n",
    "grid = {'C' : [1e2, 1e3, 5e3, 1e4, 5e4, 1e5],\n",
    "       'gamma' : [1e-3, 5e-4, 1e-4, 5e-3,'scale','auto'],\n",
    "       'kernel':['linear', 'poly', 'rbf'],\n",
    "       'degree':[1,2,3,4,5]}\n",
    "classifier=SVC()\n",
    "print('Name of Algorithm/Classifier Used(with HyperParameter Optimization):',name)\n",
    "print()\n",
    "final_metrics=ML_classifier_Optimized(encoded_dataframe_train[0],encoded_dataframe_test[0],Y_train[0],Y_test[0],name,classifier,grid)\n",
    "f1_score_train_score_sample,accuracy,precision,recall,f1_score_test=final_metrics[0],final_metrics[1],final_metrics[2],final_metrics[3],final_metrics[4]\n",
    "accuracy_score_sample,precision_score_sample,recall_score_sample,f1_score_sample=final_metrics[5],final_metrics[6],final_metrics[7],final_metrics[8]\n",
    "test_score_classifiers_grid_search_cv.append([f1_score_train_score_sample,accuracy,precision,recall,f1_score_test,name])\n",
    "print()\n",
    "print('Weighted F-1 Score for the Current Sample of Training Data:',f1_score_train_score_sample)\n",
    "print()\n",
    "print('Accuracy Score for the Current Sample of Testing Data:',accuracy_score_sample)\n",
    "print('Weighted Precision Score for the Current Sample of Testing Data:',precision_score_sample)\n",
    "print('Weighted Recall Score for the Current Sample of Testing Data:',recall_score_sample)\n",
    "print('Weighted F-1 Score for the Current Sample of Testing Data:',f1_score_sample)\n"
   ]
  },
  {
   "cell_type": "markdown",
   "metadata": {
    "id": "DKx_m6iRWFmT"
   },
   "source": [
    "**K-Nearest Neighbor**"
   ]
  },
  {
   "cell_type": "code",
   "execution_count": null,
   "metadata": {
    "colab": {
     "base_uri": "https://localhost:8080/"
    },
    "id": "UII5FFRTW3ke",
    "outputId": "346db0d2-7f96-43f9-a56e-a1faba6b57c8"
   },
   "outputs": [
    {
     "name": "stdout",
     "output_type": "stream",
     "text": [
      "Name of Algorithm/Classifier Used(with HyperParameter Optimization): K-Nearest Neighbors\n",
      "\n",
      "Parameters of Best Model are:\n",
      "KNeighborsClassifier(p=1, weights='distance')\n",
      "***************VALIDATION DATA METRICS(CROSS VALIDATION SCORES) ************************************************\n",
      "Balanced Accuracy Score is: 82.678% (6.746%)\n",
      "Weighted Precison Score  is: 83.875% (8.673%)\n",
      "Weighted Recall Score is: 82.667% (7.118%)\n",
      "Weighted F-1 Score is: 81.527% (8.122%)\n",
      "\n",
      "***************TESTING DATA METRICS(CURRENT SAMPLE SCORE) ************************************************\n",
      "              precision    recall  f1-score   support\n",
      "\n",
      "         0.0       0.70      0.47      0.56        15\n",
      "         1.0       0.59      0.71      0.65        14\n",
      "         2.0       0.87      1.00      0.93        13\n",
      "         3.0       0.79      0.79      0.79        19\n",
      "         4.0       1.00      1.00      1.00        14\n",
      "\n",
      "    accuracy                           0.79        75\n",
      "   macro avg       0.79      0.79      0.78        75\n",
      "weighted avg       0.79      0.79      0.78        75\n",
      "\n",
      "[[ 7  3  2  3  0]\n",
      " [ 3 10  0  1  0]\n",
      " [ 0  0 13  0  0]\n",
      " [ 0  4  0 15  0]\n",
      " [ 0  0  0  0 14]]\n",
      "Lower Limit of Confidence Interval: 2.098839093198651\n",
      "Upper Limit of Confidence Interval: 2.1678275734680157\n",
      "Standard Mean: 2.04\n",
      "confidence level not achieved\n",
      "\n",
      "Weighted F-1 Score for the Current Sample of Training Data: 0.9866772416831902\n",
      "\n",
      "Accuracy Score for the Current Sample of Testing Data: 0.7866666666666666\n",
      "Weighted Precision Score for the Current Sample of Testing Data: 0.7866928104575163\n",
      "Weighted Recall Score for the Current Sample of Testing Data: 0.7866666666666666\n",
      "Weighted F-1 Score for the Current Sample of Testing Data: 0.7800491551459293\n"
     ]
    }
   ],
   "source": [
    "name='K-Nearest Neighbors'\n",
    "grid={'n_neighbors':[i for i in range(1,23)],\n",
    "      'weights':['uniform','distance'],\n",
    "      'algorithm':['auto','ball_tree','kd_tree','brute'],\n",
    "      'p':[1,2,3]}\n",
    "classifier=KNeighborsClassifier()\n",
    "print('Name of Algorithm/Classifier Used(with HyperParameter Optimization):',name)\n",
    "print()\n",
    "final_metrics=ML_classifier_Optimized(encoded_dataframe_train[0],encoded_dataframe_test[0],Y_train[0],Y_test[0],name,classifier,grid)\n",
    "f1_score_train_score_sample,accuracy,precision,recall,f1_score_test=final_metrics[0],final_metrics[1],final_metrics[2],final_metrics[3],final_metrics[4]\n",
    "accuracy_score_sample,precision_score_sample,recall_score_sample,f1_score_sample=final_metrics[5],final_metrics[6],final_metrics[7],final_metrics[8]\n",
    "test_score_classifiers_grid_search_cv.append([f1_score_train_score_sample,accuracy,precision,recall,f1_score_test,name])\n",
    "print()\n",
    "print('Weighted F-1 Score for the Current Sample of Training Data:',f1_score_train_score_sample)\n",
    "print()\n",
    "print('Accuracy Score for the Current Sample of Testing Data:',accuracy_score_sample)\n",
    "print('Weighted Precision Score for the Current Sample of Testing Data:',precision_score_sample)\n",
    "print('Weighted Recall Score for the Current Sample of Testing Data:',recall_score_sample)\n",
    "print('Weighted F-1 Score for the Current Sample of Testing Data:',f1_score_sample)\n"
   ]
  },
  {
   "cell_type": "markdown",
   "metadata": {
    "id": "O4SBBR9mWFmT"
   },
   "source": [
    "**Naive Bayes**"
   ]
  },
  {
   "cell_type": "code",
   "execution_count": null,
   "metadata": {
    "colab": {
     "base_uri": "https://localhost:8080/"
    },
    "id": "LdkFa4_GXEa1",
    "outputId": "023903a9-f6e1-45d0-b688-f2b9df7900d9"
   },
   "outputs": [
    {
     "name": "stdout",
     "output_type": "stream",
     "text": [
      "Name of Algorithm/Classifier Used(with HyperParameter Optimization): Gaussian Naive Bayes\n",
      "\n",
      "Parameters of Best Model are:\n",
      "GaussianNB(var_smoothing=1)\n",
      "***************VALIDATION DATA METRICS(CROSS VALIDATION SCORES) ************************************************\n",
      "Balanced Accuracy Score is: 30.214% (7.356%)\n",
      "Weighted Precison Score  is: 27.635% (9.549%)\n",
      "Weighted Recall Score is: 27.000% (5.859%)\n",
      "Weighted F-1 Score is: 21.571% (4.013%)\n",
      "\n",
      "***************TESTING DATA METRICS(CURRENT SAMPLE SCORE) ************************************************\n",
      "              precision    recall  f1-score   support\n",
      "\n",
      "         0.0       0.00      0.00      0.00        15\n",
      "         1.0       0.19      0.21      0.20        14\n",
      "         2.0       0.15      0.38      0.22        13\n",
      "         3.0       0.00      0.00      0.00        19\n",
      "         4.0       0.23      0.43      0.30        14\n",
      "\n",
      "    accuracy                           0.19        75\n",
      "   macro avg       0.11      0.21      0.14        75\n",
      "weighted avg       0.10      0.19      0.13        75\n",
      "\n",
      "[[ 0  7  5  0  3]\n",
      " [ 0  3  2  0  9]\n",
      " [ 0  0  5  0  8]\n",
      " [ 0  2 17  0  0]\n",
      " [ 0  4  4  0  6]]\n",
      "Lower Limit of Confidence Interval: 2.449416183335336\n",
      "Upper Limit of Confidence Interval: 2.510583816664664\n",
      "Standard Mean: 2.04\n",
      "confidence level not achieved\n",
      "\n",
      "Weighted F-1 Score for the Current Sample of Training Data: 0.2702350043367138\n",
      "\n",
      "Accuracy Score for the Current Sample of Testing Data: 0.18666666666666668\n",
      "Weighted Precision Score for the Current Sample of Testing Data: 0.10433954933954934\n",
      "Weighted Recall Score for the Current Sample of Testing Data: 0.18666666666666668\n",
      "Weighted F-1 Score for the Current Sample of Testing Data: 0.13101449275362317\n"
     ]
    }
   ],
   "source": [
    "name='Gaussian Naive Bayes'\n",
    "grid={'var_smoothing':[10^i for i in range(-15,15)]}\n",
    "classifier=GaussianNB()\n",
    "print('Name of Algorithm/Classifier Used(with HyperParameter Optimization):',name)\n",
    "print()\n",
    "final_metrics=ML_classifier_Optimized(encoded_dataframe_train[0],encoded_dataframe_test[0],Y_train[0],Y_test[0],name,classifier,grid)\n",
    "f1_score_train_score_sample,accuracy,precision,recall,f1_score_test=final_metrics[0],final_metrics[1],final_metrics[2],final_metrics[3],final_metrics[4]\n",
    "accuracy_score_sample,precision_score_sample,recall_score_sample,f1_score_sample=final_metrics[5],final_metrics[6],final_metrics[7],final_metrics[8]\n",
    "test_score_classifiers_grid_search_cv.append([f1_score_train_score_sample,accuracy,precision,recall,f1_score_test,name])\n",
    "print()\n",
    "print('Weighted F-1 Score for the Current Sample of Training Data:',f1_score_train_score_sample)\n",
    "print()\n",
    "print('Accuracy Score for the Current Sample of Testing Data:',accuracy_score_sample)\n",
    "print('Weighted Precision Score for the Current Sample of Testing Data:',precision_score_sample)\n",
    "print('Weighted Recall Score for the Current Sample of Testing Data:',recall_score_sample)\n",
    "print('Weighted F-1 Score for the Current Sample of Testing Data:',f1_score_sample)\n",
    "\n"
   ]
  },
  {
   "cell_type": "markdown",
   "metadata": {
    "id": "n7xFOcgXWFmU"
   },
   "source": [
    "**Decision Tree**"
   ]
  },
  {
   "cell_type": "code",
   "execution_count": null,
   "metadata": {
    "colab": {
     "base_uri": "https://localhost:8080/"
    },
    "id": "Vi9OseUCXL_s",
    "outputId": "8552632e-39f2-48a9-a42b-4f3d9009b88d"
   },
   "outputs": [
    {
     "name": "stdout",
     "output_type": "stream",
     "text": [
      "Name of Algorithm/Classifier Used(with HyperParameter Optimization): Decision Tree\n",
      "\n",
      "Parameters of Best Model are:\n",
      "DecisionTreeClassifier(max_features='auto', random_state=0, splitter='random')\n",
      "***************VALIDATION DATA METRICS(CROSS VALIDATION SCORES) ************************************************\n",
      "Balanced Accuracy Score is: 86.615% (5.190%)\n",
      "Weighted Precison Score  is: 87.784% (6.339%)\n",
      "Weighted Recall Score is: 86.333% (5.859%)\n",
      "Weighted F-1 Score is: 86.213% (5.963%)\n",
      "\n",
      "***************TESTING DATA METRICS(CURRENT SAMPLE SCORE) ************************************************\n",
      "              precision    recall  f1-score   support\n",
      "\n",
      "         0.0       0.67      0.67      0.67        15\n",
      "         1.0       0.90      0.64      0.75        14\n",
      "         2.0       0.65      0.85      0.73        13\n",
      "         3.0       0.79      0.79      0.79        19\n",
      "         4.0       1.00      1.00      1.00        14\n",
      "\n",
      "    accuracy                           0.79        75\n",
      "   macro avg       0.80      0.79      0.79        75\n",
      "weighted avg       0.80      0.79      0.79        75\n",
      "\n",
      "[[10  1  3  1  0]\n",
      " [ 4  9  0  1  0]\n",
      " [ 0  0 11  2  0]\n",
      " [ 1  0  3 15  0]\n",
      " [ 0  0  0  0 14]]\n",
      "Lower Limit of Confidence Interval: 2.057078362844643\n",
      "Upper Limit of Confidence Interval: 2.1295883038220236\n",
      "Standard Mean: 2.04\n",
      "confidence level not achieved\n",
      "\n",
      "Weighted F-1 Score for the Current Sample of Training Data: 0.9866772416831902\n",
      "\n",
      "Accuracy Score for the Current Sample of Testing Data: 0.7866666666666666\n",
      "Weighted Precision Score for the Current Sample of Testing Data: 0.8001568627450981\n",
      "Weighted Recall Score for the Current Sample of Testing Data: 0.7866666666666666\n",
      "Weighted F-1 Score for the Current Sample of Testing Data: 0.7871111111111111\n"
     ]
    }
   ],
   "source": [
    "name='Decision Tree'\n",
    "grid={'criterion':['gini','entropy'],\n",
    "      'splitter':['best','random'],\n",
    "      'max_depth':[None]+[i for i in range(5,15)],\n",
    "      'max_features':['auto','sqrt','log2'],\n",
    "      'random_state':[0,'None']}\n",
    "classifier=DecisionTreeClassifier()\n",
    "print('Name of Algorithm/Classifier Used(with HyperParameter Optimization):',name)\n",
    "print()\n",
    "final_metrics=ML_classifier_Optimized(encoded_dataframe_train[0],encoded_dataframe_test[0],Y_train[0],Y_test[0],name,classifier,grid)\n",
    "f1_score_train_score_sample,accuracy,precision,recall,f1_score_test=final_metrics[0],final_metrics[1],final_metrics[2],final_metrics[3],final_metrics[4]\n",
    "accuracy_score_sample,precision_score_sample,recall_score_sample,f1_score_sample=final_metrics[5],final_metrics[6],final_metrics[7],final_metrics[8]\n",
    "test_score_classifiers_grid_search_cv.append([f1_score_train_score_sample,accuracy,precision,recall,f1_score_test,name])\n",
    "print()\n",
    "print('Weighted F-1 Score for the Current Sample of Training Data:',f1_score_train_score_sample)\n",
    "print()\n",
    "print('Accuracy Score for the Current Sample of Testing Data:',accuracy_score_sample)\n",
    "print('Weighted Precision Score for the Current Sample of Testing Data:',precision_score_sample)\n",
    "print('Weighted Recall Score for the Current Sample of Testing Data:',recall_score_sample)\n",
    "print('Weighted F-1 Score for the Current Sample of Testing Data:',f1_score_sample)\n"
   ]
  },
  {
   "cell_type": "markdown",
   "metadata": {
    "id": "5k7IBiEjWFmU"
   },
   "source": [
    "### **Ensemble Techniques**"
   ]
  },
  {
   "cell_type": "markdown",
   "metadata": {
    "id": "1bhEG6YPWFmU"
   },
   "source": [
    "**Random Forest**"
   ]
  },
  {
   "cell_type": "code",
   "execution_count": null,
   "metadata": {
    "colab": {
     "base_uri": "https://localhost:8080/"
    },
    "id": "HO1sCGwbXUgL",
    "outputId": "c2263a65-ee03-4616-f4d7-efaf800df91e"
   },
   "outputs": [
    {
     "name": "stdout",
     "output_type": "stream",
     "text": [
      "Name of Algorithm/Classifier Used(with HyperParameter Optimization): Random Forest\n",
      "\n",
      "Parameters of Best Model are:\n",
      "RandomForestClassifier(max_depth=14, n_estimators=500, random_state=0,\n",
      "                       warm_start=True)\n",
      "***************VALIDATION DATA METRICS(CROSS VALIDATION SCORES) ************************************************\n",
      "Balanced Accuracy Score is: 92.001% (4.290%)\n",
      "Weighted Precison Score  is: 93.240% (3.542%)\n",
      "Weighted Recall Score is: 91.333% (4.761%)\n",
      "Weighted F-1 Score is: 91.205% (4.939%)\n",
      "\n",
      "***************TESTING DATA METRICS(CURRENT SAMPLE SCORE) ************************************************\n",
      "              precision    recall  f1-score   support\n",
      "\n",
      "         0.0       0.59      0.87      0.70        15\n",
      "         1.0       0.80      0.57      0.67        14\n",
      "         2.0       1.00      1.00      1.00        13\n",
      "         3.0       0.94      0.79      0.86        19\n",
      "         4.0       1.00      1.00      1.00        14\n",
      "\n",
      "    accuracy                           0.84        75\n",
      "   macro avg       0.87      0.85      0.85        75\n",
      "weighted avg       0.87      0.84      0.84        75\n",
      "\n",
      "[[13  2  0  0  0]\n",
      " [ 5  8  0  1  0]\n",
      " [ 0  0 13  0  0]\n",
      " [ 4  0  0 15  0]\n",
      " [ 0  0  0  0 14]]\n",
      "Lower Limit of Confidence Interval: 1.8274763468742472\n",
      "Upper Limit of Confidence Interval: 1.9058569864590862\n",
      "Standard Mean: 2.04\n",
      "confidence level not achieved\n",
      "\n",
      "Weighted F-1 Score for the Current Sample of Training Data: 0.9866772416831902\n",
      "\n",
      "Accuracy Score for the Current Sample of Testing Data: 0.84\n",
      "Weighted Precision Score for the Current Sample of Testing Data: 0.8650151515151515\n",
      "Weighted Recall Score for the Current Sample of Testing Data: 0.84\n",
      "Weighted F-1 Score for the Current Sample of Testing Data: 0.8421278421278422\n"
     ]
    }
   ],
   "source": [
    "name='Random Forest'\n",
    "grid={'n_estimators':[i for i in range(100,1000,100)],\n",
    "      'criterion':['gini','entropy'],\n",
    "      'max_depth':[None]+[i for i in range(5,15)],\n",
    "      'max_features':['auto','sqrt','log2'],\n",
    "      'random_state':[0,'None'],\n",
    "      'warm_start':[True,False]}\n",
    "classifier=RandomForestClassifier()\n",
    "print('Name of Algorithm/Classifier Used(with HyperParameter Optimization):',name)\n",
    "print()\n",
    "final_metrics=ML_classifier_Optimized(encoded_dataframe_train[0],encoded_dataframe_test[0],Y_train[0],Y_test[0],name,classifier,grid)\n",
    "f1_score_train_score_sample,accuracy,precision,recall,f1_score_test=final_metrics[0],final_metrics[1],final_metrics[2],final_metrics[3],final_metrics[4]\n",
    "accuracy_score_sample,precision_score_sample,recall_score_sample,f1_score_sample=final_metrics[5],final_metrics[6],final_metrics[7],final_metrics[8]\n",
    "test_score_classifiers_grid_search_cv.append([f1_score_train_score_sample,accuracy,precision,recall,f1_score_test,name])\n",
    "print()\n",
    "print('Weighted F-1 Score for the Current Sample of Training Data:',f1_score_train_score_sample)\n",
    "print()\n",
    "print('Accuracy Score for the Current Sample of Testing Data:',accuracy_score_sample)\n",
    "print('Weighted Precision Score for the Current Sample of Testing Data:',precision_score_sample)\n",
    "print('Weighted Recall Score for the Current Sample of Testing Data:',recall_score_sample)\n",
    "print('Weighted F-1 Score for the Current Sample of Testing Data:',f1_score_sample)\n"
   ]
  },
  {
   "cell_type": "markdown",
   "metadata": {
    "id": "YuT_8fdWWFmU"
   },
   "source": [
    "**Bagging Classifier**"
   ]
  },
  {
   "cell_type": "code",
   "execution_count": null,
   "metadata": {
    "id": "Z86M6Ey1oWbU"
   },
   "outputs": [],
   "source": [
    "# # Bagging Classifier\n",
    "# from sklearn.ensemble import BaggingClassifier\n",
    "# def Bagging_Classifer(x_train,x_test,y_train,y_test,name):\n",
    "#   grid={'n_neighbors':[i for i in range(1,23)],\n",
    "#       'weights':['uniform','distance'],\n",
    "#       'algorithm':['auto','ball_tree','kd_tree','brute'],\n",
    "#       'p':[1,2,3]}\n",
    "#   grid_object = GridSearchCV(KNeighborsClassifier(n_neighbors=5), grid)\n",
    "#   grid_object.fit(x_train,y_train)\n",
    "#   print(grid_object.best_estimator_)\n",
    "#   model=grid_object.best_estimator_\n",
    "#   y_pred = bgcl.predict(x_test)\n",
    "#   print(classification_report(y_test,y_pred))\n",
    "#   print(confusion_matrix(y_test,y_pred))\n",
    "#   print('F1-Score:', f1_score(y_test, y_pred, average='weighted'))\n",
    "#   name=name+' Optimized'\n",
    "#   path='/content/drive/MyDrive/NLP_Chatbot_Capstone_Project/Trained Optimized Machine Learning Classifiers/'\n",
    "#   with open(path+'Model_'+str(name),'wb') as f:\n",
    "#     pickle.dump(model,f)\n",
    "#   return f1_score(y_train, bgcl.predict(x_train), average='weighted'),accuracy_score(y_test, y_pred),precision_score(y_test, y_pred, average='weighted'),recall_score(y_test, y_pred, average='weighted'),f1_score(y_test, y_pred, average='weighted')\n",
    "# f1_score_train,accuracy,precision,recall,f1_score_test=Bagging_Classifer(encoded_dataframe_train[0],encoded_dataframe_test[0],Y_train[0],Y_test[0],name)\n",
    "# name='Bagging'\n",
    "\n",
    "# test_score_classifiers_grid_search_cv.append([f1_score_train,accuracy,precision,recall,f1_score_test,name])\n",
    "# print()\n",
    "# print('Name of Algorithm:',name)\n",
    "# print('Weighted F-1 Score Training Data:',f1_score_train)\n",
    "# print('Accuracy Score Testing Data:',accuracy)\n",
    "# print('Weighted Precision  Score Testing Data:',precision)\n",
    "# print('Weighted Recall Score Testing Data:',recall)\n",
    "# print('Weighted F-1 Score Testing Data:',f1_score_test)\n"
   ]
  },
  {
   "cell_type": "markdown",
   "metadata": {
    "id": "yHmOPGFeWFmV"
   },
   "source": [
    "**Gradient Boosting**"
   ]
  },
  {
   "cell_type": "code",
   "execution_count": null,
   "metadata": {
    "id": "IjAnCm-koY4C"
   },
   "outputs": [],
   "source": [
    "#  # Gradient Boosting\n",
    "# from sklearn.ensemble import GradientBoostingClassifier\n",
    "# def Gradient_Boosting_Classifier(x_train,x_test,y_train,y_test,name):\n",
    "#   grid={'n_neighbors':[i for i in range(1,23)],\n",
    "#       'weights':['uniform','distance'],\n",
    "#       'algorithm':['auto','ball_tree','kd_tree','brute'],\n",
    "#       'p':[1,2,3]}\n",
    "#   grid_object = GridSearchCV(KNeighborsClassifier(n_neighbors=5), grid)\n",
    "#   grid_object.fit(x_train,y_train)\n",
    "#   print(grid_object.best_estimator_)\n",
    "#   model=grid_object.best_estimator_\n",
    "#   y_pred=gb.predict(x_test)\n",
    "#   print(classification_report(y_test,y_pred))\n",
    "#   print(confusion_matrix(y_test,y_pred))\n",
    "#   print('F1-Score:', f1_score(y_test, y_pred, average='weighted'))\n",
    "#   name=name+' Optimized'\n",
    "#   path='/content/drive/MyDrive/NLP_Chatbot_Capstone_Project/Trained Optimized Machine Learning Classifiers/'\n",
    "#   with open(path+'Model_'+str(name),'wb') as f:\n",
    "#     pickle.dump(model,f)\n",
    "#   return f1_score(y_train, gb.predict(x_train), average='weighted'),accuracy_score(y_test, y_pred),precision_score(y_test, y_pred, average='weighted'),recall_score(y_test, y_pred, average='weighted'),f1_score(y_test, y_pred, average='weighted')\n",
    "\n",
    "# name='Gradient Boosting'\n",
    "\n",
    "# f1_score_train,accuracy,precision,recall,f1_score_test=Gradient_Boosting_Classifier(encoded_dataframe_train[0],encoded_dataframe_test[0],Y_train[0],Y_test[0],name)\n",
    "# test_score_classifiers_grid_search_cv.append([f1_score_train,accuracy,precision,recall,f1_score_test,name])\n",
    "# print()\n",
    "# print('Name of Algorithm:',name)\n",
    "# print('Weighted F-1 Score Training Data:',f1_score_train)\n",
    "# print('Accuracy Score Testing Data:',accuracy)\n",
    "# print('Weighted Precision  Score Testing Data:',precision)\n",
    "# print('Weighted Recall Score Testing Data:',recall)\n",
    "# print('Weighted F-1 Score Testing Data:',f1_score_test)\n"
   ]
  },
  {
   "cell_type": "code",
   "execution_count": null,
   "metadata": {
    "id": "NzaL2rYL6HMQ"
   },
   "outputs": [],
   "source": [
    "best_classifier_path='/content/drive/MyDrive/NLP_Chatbot_Capstone_Project/Trained Optimized Machine Learning Classifiers/Model_Random Forest Optimized'\n",
    "with open(best_classifier_path,'rb') as f:\n",
    "  best_classifier=pickle.load(f)"
   ]
  },
  {
   "cell_type": "markdown",
   "metadata": {
    "id": "Vo1J468sWFmV"
   },
   "source": [
    "**Ada Boosting**"
   ]
  },
  {
   "cell_type": "code",
   "execution_count": null,
   "metadata": {
    "colab": {
     "base_uri": "https://localhost:8080/"
    },
    "id": "mU-ui6TpXhZM",
    "outputId": "121e56c8-a7d9-4b3d-d19f-06ad3efaf7ec"
   },
   "outputs": [
    {
     "name": "stdout",
     "output_type": "stream",
     "text": [
      "Name of Algorithm/Classifier Used(with HyperParameter Optimization): Ada Boosting\n",
      "\n"
     ]
    }
   ],
   "source": [
    "name='Ada Boosting'\n",
    "grid={'n_estimators':[50,100,500,1000,2500,5000,7500,10000,15000],\n",
    "      'learning_rate':[10^i for i in range(-5,5) ],\n",
    "      'algorithm':['SAMME','SAMME.R']}\n",
    "classifier=AdaBoostClassifier(base_estimator=best_classifier)\n",
    "print('Name of Algorithm/Classifier Used(with HyperParameter Optimization):',name)\n",
    "print()\n",
    "final_metrics=ML_classifier_Optimized(encoded_dataframe_train[0],encoded_dataframe_test[0],Y_train[0],Y_test[0],name,classifier,grid)\n",
    "f1_score_train_score_sample,accuracy,precision,recall,f1_score_test=final_metrics[0],final_metrics[1],final_metrics[2],final_metrics[3],final_metrics[4]\n",
    "accuracy_score_sample,precision_score_sample,recall_score_sample,f1_score_sample=final_metrics[5],final_metrics[6],final_metrics[7],final_metrics[8]\n",
    "test_score_classifiers_grid_search_cv.append([f1_score_train_score_sample,accuracy,precision,recall,f1_score_test,name])\n",
    "print()\n",
    "print('Weighted F-1 Score for the Current Sample of Training Data:',f1_score_train_score_sample)\n",
    "print()\n",
    "print('Accuracy Score for the Current Sample of Testing Data:',accuracy_score_sample)\n",
    "print('Weighted Precision Score for the Current Sample of Testing Data:',precision_score_sample)\n",
    "print('Weighted Recall Score for the Current Sample of Testing Data:',recall_score_sample)\n",
    "print('Weighted F-1 Score for the Current Sample of Testing Data:',f1_score_sample)\n"
   ]
  },
  {
   "cell_type": "markdown",
   "metadata": {
    "id": "g_njGMPjWFmV"
   },
   "source": [
    "**XG Boosting**"
   ]
  },
  {
   "cell_type": "code",
   "execution_count": null,
   "metadata": {
    "id": "9YyOZobUXu3c"
   },
   "outputs": [],
   "source": [
    "name='XG Boosting'\n",
    "grid = {'n_estimators' : [100,500,1000,2000,2500,5000,7500,10000,15000],\n",
    "         'tree_method':['auto','exact','gpu_hist','approx'],\n",
    "         'learning_rate':[10^i for i in range(-5,5)]+[0.5*(10^i) for i in range(-5,5)],\n",
    "         'objective':['reg:logistic','reg:pseudohubererror','multi:softmax','multi:softprob'],\n",
    "         'eval_metric':['logloss','merror','auc']}\n",
    "name=XGBClassifier()\n",
    "print('Name of Algorithm/Classifier Used(with HyperParameter Optimization):',name)\n",
    "print()\n",
    "final_metrics=ML_classifier_Optimized(encoded_dataframe_train[0],encoded_dataframe_test[0],Y_train[0],Y_test[0],name,classifier,grid)\n",
    "f1_score_train_score_sample,accuracy,precision,recall,f1_score_test=final_metrics[0],final_metrics[1],final_metrics[2],final_metrics[3],final_metrics[4]\n",
    "accuracy_score_sample,precision_score_sample,recall_score_sample,f1_score_sample=final_metrics[5],final_metrics[6],final_metrics[7],final_metrics[8]\n",
    "test_score_classifiers_grid_search_cv.append([f1_score_train_score_sample,accuracy,precision,recall,f1_score_test,name])\n",
    "print()\n",
    "print('Weighted F-1 Score for the Current Sample of Training Data:',f1_score_train_score_sample)\n",
    "print()\n",
    "print('Accuracy Score for the Current Sample of Testing Data:',accuracy_score_sample)\n",
    "print('Weighted Precision Score for the Current Sample of Testing Data:',precision_score_sample)\n",
    "print('Weighted Recall Score for the Current Sample of Testing Data:',recall_score_sample)\n",
    "print('Weighted F-1 Score for the Current Sample of Testing Data:',f1_score_sample)\n"
   ]
  },
  {
   "cell_type": "markdown",
   "metadata": {
    "id": "EbDdShB3ob4W"
   },
   "source": [
    "**Stacking Multiple Models**"
   ]
  },
  {
   "cell_type": "code",
   "execution_count": null,
   "metadata": {
    "id": "cFWljw03ZxID"
   },
   "outputs": [],
   "source": [
    "# def Stacking_Classifier(X,Y,x_test,y_test,classifier):\n",
    "#   models=[('dtree_'+str(i+1),classifier) for i in range(0,5)]\n",
    "#   for i in range(0,len(models)):\n",
    "#     models[i][1].fit(X[i],Y[i])\n",
    "#   model = StackingClassifier(estimators=models)\n",
    "#   model.fit(X[8], Y[8])\n",
    "#   y_pred = model.predict(x_test)\n",
    "#   print(classification_report(y_test,y_pred))\n",
    "#   print(confusion_matrix(y_test,y_pred))\n",
    "#   print('F1-Score:', f1_score(y_test, y_pred, average='weighted'))\n",
    "#   return f1_score(y_train, model.predict(x_train), average='weighted'),accuracy_score(y_test, y_pred),precision_score(y_test, y_pred, average='weighted'),recall_score(y_test, y_pred, average='weighted'),f1_score(y_test, y_pred, average='weighted')\n",
    "\n",
    "# test_score.append(Stacking_Classifier(X,Y,x_test,y_test,svm.SVC()))\n",
    "# test_score_classifiers_default.append(f1_score_train,accuracy,precision,recall,f1_score_test)"
   ]
  },
  {
   "cell_type": "code",
   "execution_count": null,
   "metadata": {
    "id": "A2OXEfqLJHBU"
   },
   "outputs": [],
   "source": [
    "from sklearn.ensemble import StackingClassifier\n",
    "\n",
    "def Stacking_ML_classifier(x_train,x_test,y_train,y_test,name,base_classifier,last_sample):\n",
    "  for i in range(0,len(base_classifier)):\n",
    "    # print(i)\n",
    "    base_classifier[i][1].fit(x_train[i],y_train[i])\n",
    "  model = StackingClassifier(estimators=base_classifier)\n",
    "\n",
    "  optimum_param=cross_validate(estimator=model,X=pd.concat([x_train[last_sample],x_test[last_sample]]),y=np.hstack((y_train[last_sample],y_test[last_sample])),cv=KFold(10,True,0),scoring=['balanced_accuracy','precision_weighted','recall_weighted','f1_weighted'])  \n",
    "  print('***************VALIDATION DATA METRICS(CROSS VALIDATION SCORES) ************************************************')\n",
    "  # print(optimum_param)\n",
    "  print(\"Balanced Accuracy Score is: %.3f%% (%.3f%%)\" % (optimum_param['test_balanced_accuracy'].mean()*100, optimum_param['test_balanced_accuracy'].std()*100))\n",
    "  print(\"Weighted Precison Score  is: %.3f%% (%.3f%%)\" % (optimum_param['test_precision_weighted'].mean()*100, optimum_param['test_precision_weighted'].std()*100))\n",
    "  print(\"Weighted Recall Score is: %.3f%% (%.3f%%)\" % (optimum_param['test_recall_weighted'].mean()*100, optimum_param['test_recall_weighted'].std()*100))\n",
    "  print(\"Weighted F-1 Score is: %.3f%% (%.3f%%)\" % (optimum_param['test_f1_weighted'].mean()*100, optimum_param['test_f1_weighted'].std()*100))\n",
    "  \n",
    "  accuracy_score_mean_value,accuracy_score_std_value=optimum_param['test_balanced_accuracy'].mean()*100,optimum_param['test_balanced_accuracy'].std()*100\n",
    "  precision_score_mean_value,precision_score_std_value=optimum_param['test_precision_weighted'].mean()*100,optimum_param['test_precision_weighted'].std()*100\n",
    "  recall_score_mean_value,recall_score_std_value=optimum_param['test_recall_weighted'].mean()*100,optimum_param['test_recall_weighted'].std()*100\n",
    "  f1_score_mean_value,f1_score_std_value=optimum_param['test_f1_weighted'].mean()*100,optimum_param['test_f1_weighted'].std()*100\n",
    "  \n",
    "  print()\n",
    "  print('***************TESTING DATA METRICS(CURRENT SAMPLE SCORE) ************************************************')\n",
    "\n",
    "  model.fit(x_train[last_sample], y_train[last_sample])\n",
    "  y_pred = model.predict(x_test[last_sample])\n",
    "  print(classification_report(y_test[last_sample],y_pred))\n",
    "  print(confusion_matrix(y_test[last_sample],y_pred))\n",
    "  \n",
    "  \n",
    "  ll,ul=y_pred.mean()-1.96*(y_pred.std()/len(y_pred)),y_pred.mean()+1.96*(y_pred.std()/len(y_pred))\n",
    "  print('Lower Limit of Confidence Interval:',ll)\n",
    "  print('Upper Limit of Confidence Interval:',ul)\n",
    "  print('Standard Mean:',y_test[last_sample].mean())\n",
    "  if y_test[last_sample].mean() >=ll and y_test[last_sample].mean()<=ul :\n",
    "    print('95% confidence level')\n",
    "  else:\n",
    "    print('confidence level not achieved')\n",
    "  \n",
    "  name=name+' Default'\n",
    "  path='/content/drive/MyDrive/NLP_Chatbot_Capstone_Project/Trained Default Machine Learning Classifiers/'\n",
    "  with open(path+'Model_'+str(name),'wb') as f:\n",
    "    pickle.dump(model,f)\n",
    "\n",
    "  train_f1_score=f1_score(y_train[last_sample], model.predict(x_train[last_sample]), average='weighted')\n",
    "  \n",
    "  final_metrics=[train_f1_score,accuracy_score_mean_value,precision_score_mean_value,recall_score_mean_value,f1_score_mean_value,\n",
    "  accuracy_score(y_test[last_sample], y_pred),precision_score(y_test[last_sample], y_pred, average='weighted'),\n",
    "  recall_score(y_test[last_sample], y_pred, average='weighted'),f1_score(y_test[last_sample], y_pred, average='weighted')]\n",
    "  return final_metrics\n"
   ]
  },
  {
   "cell_type": "code",
   "execution_count": null,
   "metadata": {
    "colab": {
     "base_uri": "https://localhost:8080/"
    },
    "id": "eW1CiPBNJUlP",
    "outputId": "0a4977e5-67c1-4f45-e373-1a20761e7d89"
   },
   "outputs": [
    {
     "name": "stdout",
     "output_type": "stream",
     "text": [
      "Name of Algorithm/Classifier Used: Stacking Classifier\n",
      "\n",
      "***************VALIDATION DATA METRICS(CROSS VALIDATION SCORES) ************************************************\n",
      "Balanced Accuracy Score is: 93.224% (3.573%)\n",
      "Weighted Precison Score  is: 94.699% (3.042%)\n",
      "Weighted Recall Score is: 92.667% (4.163%)\n",
      "Weighted F-1 Score is: 92.920% (3.862%)\n",
      "\n",
      "***************TESTING DATA METRICS(CURRENT SAMPLE SCORE) ************************************************\n",
      "              precision    recall  f1-score   support\n",
      "\n",
      "         0.0       0.72      0.87      0.79        15\n",
      "         1.0       0.76      0.93      0.84        14\n",
      "         2.0       1.00      0.77      0.87        13\n",
      "         3.0       1.00      0.84      0.91        19\n",
      "         4.0       1.00      1.00      1.00        14\n",
      "\n",
      "    accuracy                           0.88        75\n",
      "   macro avg       0.90      0.88      0.88        75\n",
      "weighted avg       0.90      0.88      0.88        75\n",
      "\n",
      "[[13  2  0  0  0]\n",
      " [ 1 13  0  0  0]\n",
      " [ 1  2 10  0  0]\n",
      " [ 3  0  0 16  0]\n",
      " [ 0  0  0  0 14]]\n",
      "Lower Limit of Confidence Interval: 1.8418393672853135\n",
      "Upper Limit of Confidence Interval: 1.9181606327146863\n",
      "Standard Mean: 2.04\n",
      "confidence level not achieved\n",
      "\n",
      "Weighted F-1 Score for the Current Sample of Training Data: 1.0\n",
      "\n",
      "Accuracy Score for the Current Sample of Testing Data: 0.88\n",
      "Weighted Precision Score for the Current Sample of Testing Data: 0.9005228758169934\n",
      "Weighted Recall Score for the Current Sample of Testing Data: 0.88\n",
      "Weighted F-1 Score for the Current Sample of Testing Data: 0.8831452493275774\n"
     ]
    }
   ],
   "source": [
    "name='Stacking Classifier'\n",
    "# base_classifier=[ ('dtree_'+str(i),DecisionTreeClassifier(criterion = 'gini', random_state=0)) for i in range(0,9)]\n",
    "base_classifier=[ ('rforest_'+str(i),RandomForestClassifier()) for i in range(0,8)]\n",
    "# base_classifier=[ ('random_forest',RandomForestClassifier(n_estimators = 6)),\n",
    "#           ('SVM',SVC()),\n",
    "#           ('KNN',KNeighborsClassifier(n_neighbors=5)),\n",
    "#           ('Naive bayes',GaussianNB()),\n",
    "#           ('Logistic Regression',LogisticRegression()),\n",
    "#           ('Decision tree',DecisionTreeClassifier(criterion = 'gini', random_state=0)),\n",
    "#           ('Bagging Classifier',BaggingClassifier(n_estimators=100, max_samples=.50 , oob_score=True)),\n",
    "#           ('Gradient Boosting',GradientBoostingClassifier(n_estimators = 50, learning_rate = 0.09, max_depth=5)),\n",
    "#           ('AdaBoost',AdaBoostClassifier(base_estimator=DecisionTreeClassifier(criterion = 'entropy' ), n_estimators=50))\n",
    "#           ]\n",
    "print('Name of Algorithm/Classifier Used:',name)\n",
    "print()\n",
    "\n",
    "last_sample=len(base_classifier)-1\n",
    "final_metrics=Stacking_ML_classifier(encoded_dataframe_train,encoded_dataframe_test,Y_train,Y_test,name,base_classifier,last_sample)\n",
    "f1_score_train_score_sample,accuracy,precision,recall,f1_score_test=final_metrics[0],final_metrics[1],final_metrics[2],final_metrics[3],final_metrics[4]\n",
    "accuracy_score_sample,precision_score_sample,recall_score_sample,f1_score_sample=final_metrics[5],final_metrics[6],final_metrics[7],final_metrics[8]\n",
    "test_score_classifiers_default.append([f1_score_train_score_sample,accuracy,precision,recall,f1_score_test,name])\n",
    "print()\n",
    "print('Weighted F-1 Score for the Current Sample of Training Data:',f1_score_train_score_sample)\n",
    "print()\n",
    "print('Accuracy Score for the Current Sample of Testing Data:',accuracy_score_sample)\n",
    "print('Weighted Precision Score for the Current Sample of Testing Data:',precision_score_sample)\n",
    "print('Weighted Recall Score for the Current Sample of Testing Data:',recall_score_sample)\n",
    "print('Weighted F-1 Score for the Current Sample of Testing Data:',f1_score_sample)"
   ]
  },
  {
   "cell_type": "code",
   "execution_count": null,
   "metadata": {
    "colab": {
     "base_uri": "https://localhost:8080/"
    },
    "id": "at-Uhcu6Ja6_",
    "outputId": "2730b2de-a998-4b72-d747-21d85cfe9b07"
   },
   "outputs": [
    {
     "name": "stdout",
     "output_type": "stream",
     "text": [
      "Name of Algorithm/Classifier Used: Stacking Classifier\n",
      "\n",
      "***************VALIDATION DATA METRICS(CROSS VALIDATION SCORES) ************************************************\n",
      "Balanced Accuracy Score is: 91.546% (3.886%)\n",
      "Weighted Precison Score  is: 92.707% (3.872%)\n",
      "Weighted Recall Score is: 91.000% (3.667%)\n",
      "Weighted F-1 Score is: 91.085% (3.692%)\n",
      "\n",
      "***************TESTING DATA METRICS(CURRENT SAMPLE SCORE) ************************************************\n",
      "              precision    recall  f1-score   support\n",
      "\n",
      "         0.0       0.72      0.87      0.79        15\n",
      "         1.0       1.00      0.57      0.73        14\n",
      "         2.0       0.93      1.00      0.96        13\n",
      "         3.0       0.90      1.00      0.95        19\n",
      "         4.0       1.00      1.00      1.00        14\n",
      "\n",
      "    accuracy                           0.89        75\n",
      "   macro avg       0.91      0.89      0.89        75\n",
      "weighted avg       0.91      0.89      0.89        75\n",
      "\n",
      "[[13  0  1  1  0]\n",
      " [ 5  8  0  1  0]\n",
      " [ 0  0 13  0  0]\n",
      " [ 0  0  0 19  0]\n",
      " [ 0  0  0  0 14]]\n",
      "Lower Limit of Confidence Interval: 2.028896188940613\n",
      "Upper Limit of Confidence Interval: 2.104437144392721\n",
      "Standard Mean: 2.04\n",
      "95% confidence level\n",
      "\n",
      "Weighted F-1 Score for the Current Sample of Training Data: 0.9955555555555555\n",
      "\n",
      "Accuracy Score for the Current Sample of Testing Data: 0.8933333333333333\n",
      "Weighted Precision Score for the Current Sample of Testing Data: 0.907936507936508\n",
      "Weighted Recall Score for the Current Sample of Testing Data: 0.8933333333333333\n",
      "Weighted F-1 Score for the Current Sample of Testing Data: 0.8875802469135802\n"
     ]
    }
   ],
   "source": [
    "name='Stacking Classifier'\n",
    "# base_classifier=[ ('dtree_'+str(i),DecisionTreeClassifier(criterion = 'gini', random_state=0)) for i in range(0,9)]\n",
    "# base_classifier=[ ('rforest_'+str(i),RandomForestClassifier()) for i in range(0,8)]\n",
    "base_classifier=[ ('random_forest',RandomForestClassifier(n_estimators = 6)),\n",
    "          ('SVM',SVC()),\n",
    "          ('KNN',KNeighborsClassifier(n_neighbors=5)),\n",
    "          ('Naive bayes',GaussianNB()),\n",
    "          ('Logistic Regression',LogisticRegression()),\n",
    "          ('Decision tree',DecisionTreeClassifier(criterion = 'gini', random_state=0)),\n",
    "          ('Bagging Classifier',BaggingClassifier(n_estimators=100, max_samples=.50 , oob_score=True)),\n",
    "          ('Gradient Boosting',GradientBoostingClassifier(n_estimators = 50, learning_rate = 0.09, max_depth=5)),\n",
    "          ('AdaBoost',AdaBoostClassifier(base_estimator=DecisionTreeClassifier(criterion = 'entropy' ), n_estimators=50))\n",
    "          ]\n",
    "print('Name of Algorithm/Classifier Used:',name)\n",
    "print()\n",
    "\n",
    "last_sample=len(base_classifier)-1\n",
    "final_metrics=Stacking_ML_classifier(encoded_dataframe_train,encoded_dataframe_test,Y_train,Y_test,name,base_classifier,last_sample)\n",
    "f1_score_train_score_sample,accuracy,precision,recall,f1_score_test=final_metrics[0],final_metrics[1],final_metrics[2],final_metrics[3],final_metrics[4]\n",
    "accuracy_score_sample,precision_score_sample,recall_score_sample,f1_score_sample=final_metrics[5],final_metrics[6],final_metrics[7],final_metrics[8]\n",
    "test_score_classifiers_default.append([f1_score_train_score_sample,accuracy,precision,recall,f1_score_test,name])\n",
    "print()\n",
    "print('Weighted F-1 Score for the Current Sample of Training Data:',f1_score_train_score_sample)\n",
    "print()\n",
    "print('Accuracy Score for the Current Sample of Testing Data:',accuracy_score_sample)\n",
    "print('Weighted Precision Score for the Current Sample of Testing Data:',precision_score_sample)\n",
    "print('Weighted Recall Score for the Current Sample of Testing Data:',recall_score_sample)\n",
    "print('Weighted F-1 Score for the Current Sample of Testing Data:',f1_score_sample)"
   ]
  },
  {
   "cell_type": "markdown",
   "metadata": {
    "id": "gQUDve3NohdA"
   },
   "source": [
    "**Voting Between Multiple Models**"
   ]
  },
  {
   "cell_type": "code",
   "execution_count": null,
   "metadata": {
    "id": "DXE_9QOWySQm"
   },
   "outputs": [],
   "source": [
    "def Voting_ML_classifier(x_train,x_test,y_train,y_test,name,base_classifier,last_sample):\n",
    "  for i in range(0,len(base_classifier)):\n",
    "    # print(i)\n",
    "    base_classifier[i][1].fit(x_train[i],y_train[i])\n",
    "  model = VotingClassifier(estimators=base_classifier)\n",
    "\n",
    "  optimum_param=cross_validate(estimator=model,X=pd.concat([x_train[last_sample],x_test[last_sample]]),y=np.hstack((y_train[last_sample],y_test[last_sample])),cv=KFold(10,True,0),scoring=['balanced_accuracy','precision_weighted','recall_weighted','f1_weighted'])  \n",
    "  print('***************VALIDATION DATA METRICS(CROSS VALIDATION SCORES) ************************************************')\n",
    "  # print(optimum_param)\n",
    "  print(\"Balanced Accuracy Score is: %.3f%% (%.3f%%)\" % (optimum_param['test_balanced_accuracy'].mean()*100, optimum_param['test_balanced_accuracy'].std()*100))\n",
    "  print(\"Weighted Precison Score  is: %.3f%% (%.3f%%)\" % (optimum_param['test_precision_weighted'].mean()*100, optimum_param['test_precision_weighted'].std()*100))\n",
    "  print(\"Weighted Recall Score is: %.3f%% (%.3f%%)\" % (optimum_param['test_recall_weighted'].mean()*100, optimum_param['test_recall_weighted'].std()*100))\n",
    "  print(\"Weighted F-1 Score is: %.3f%% (%.3f%%)\" % (optimum_param['test_f1_weighted'].mean()*100, optimum_param['test_f1_weighted'].std()*100))\n",
    "  \n",
    "  accuracy_score_mean_value,accuracy_score_std_value=optimum_param['test_balanced_accuracy'].mean()*100,optimum_param['test_balanced_accuracy'].std()*100\n",
    "  precision_score_mean_value,precision_score_std_value=optimum_param['test_precision_weighted'].mean()*100,optimum_param['test_precision_weighted'].std()*100\n",
    "  recall_score_mean_value,recall_score_std_value=optimum_param['test_recall_weighted'].mean()*100,optimum_param['test_recall_weighted'].std()*100\n",
    "  f1_score_mean_value,f1_score_std_value=optimum_param['test_f1_weighted'].mean()*100,optimum_param['test_f1_weighted'].std()*100\n",
    "  \n",
    "  print()\n",
    "  print('***************TESTING DATA METRICS(CURRENT SAMPLE SCORE) ************************************************')\n",
    "\n",
    "  model.fit(x_train[last_sample], y_train[last_sample])\n",
    "  y_pred = model.predict(x_test[last_sample])\n",
    "  print(classification_report(y_test[last_sample],y_pred))\n",
    "  print(confusion_matrix(y_test[last_sample],y_pred))\n",
    "  \n",
    "  \n",
    "  ll,ul=y_pred.mean()-1.96*(y_pred.std()/len(y_pred)),y_pred.mean()+1.96*(y_pred.std()/len(y_pred))\n",
    "  print('Lower Limit of Confidence Interval:',ll)\n",
    "  print('Upper Limit of Confidence Interval:',ul)\n",
    "  print('Standard Mean:',y_test[last_sample].mean())\n",
    "  if y_test[last_sample].mean() >=ll and y_test[last_sample].mean()<=ul :\n",
    "    print('95% confidence level')\n",
    "  else:\n",
    "    print('confidence level not achieved')\n",
    "  \n",
    "  name=name+' Default'\n",
    "  path='/content/drive/MyDrive/NLP_Chatbot_Capstone_Project/Trained Default Machine Learning Classifiers/'\n",
    "  with open(path+'Model_'+str(name),'wb') as f:\n",
    "    pickle.dump(model,f)\n",
    "\n",
    "  train_f1_score=f1_score(y_train[last_sample], model.predict(x_train[last_sample]), average='weighted')\n",
    "  \n",
    "  final_metrics=[train_f1_score,accuracy_score_mean_value,precision_score_mean_value,recall_score_mean_value,f1_score_mean_value,\n",
    "  accuracy_score(y_test[last_sample], y_pred),precision_score(y_test[last_sample], y_pred, average='weighted'),\n",
    "  recall_score(y_test[last_sample], y_pred, average='weighted'),f1_score(y_test[last_sample], y_pred, average='weighted')]\n",
    "  return final_metrics\n"
   ]
  },
  {
   "cell_type": "code",
   "execution_count": null,
   "metadata": {
    "colab": {
     "base_uri": "https://localhost:8080/"
    },
    "id": "QDvIkGdBw0gR",
    "outputId": "d3c653ac-315d-4e70-8e71-06d08fcd8b96"
   },
   "outputs": [
    {
     "name": "stdout",
     "output_type": "stream",
     "text": [
      "Name of Algorithm/Classifier Used: Voting Classifier\n",
      "\n",
      "***************VALIDATION DATA METRICS(CROSS VALIDATION SCORES) ************************************************\n",
      "Balanced Accuracy Score is: 93.881% (3.708%)\n",
      "Weighted Precison Score  is: 95.240% (2.849%)\n",
      "Weighted Recall Score is: 93.333% (4.216%)\n",
      "Weighted F-1 Score is: 93.562% (3.872%)\n",
      "\n",
      "***************TESTING DATA METRICS(CURRENT SAMPLE SCORE) ************************************************\n",
      "              precision    recall  f1-score   support\n",
      "\n",
      "         0.0       0.67      0.93      0.78        15\n",
      "         1.0       0.93      0.93      0.93        14\n",
      "         2.0       1.00      0.77      0.87        13\n",
      "         3.0       1.00      0.84      0.91        19\n",
      "         4.0       1.00      1.00      1.00        14\n",
      "\n",
      "    accuracy                           0.89        75\n",
      "   macro avg       0.92      0.89      0.90        75\n",
      "weighted avg       0.92      0.89      0.90        75\n",
      "\n",
      "[[14  1  0  0  0]\n",
      " [ 1 13  0  0  0]\n",
      " [ 3  0 10  0  0]\n",
      " [ 3  0  0 16  0]\n",
      " [ 0  0  0  0 14]]\n",
      "Lower Limit of Confidence Interval: 1.8008778966558026\n",
      "Upper Limit of Confidence Interval: 1.8791221033441976\n",
      "Standard Mean: 2.04\n",
      "confidence level not achieved\n",
      "\n",
      "Weighted F-1 Score for the Current Sample of Training Data: 1.0\n",
      "\n",
      "Accuracy Score for the Current Sample of Testing Data: 0.8933333333333333\n",
      "Weighted Precision Score for the Current Sample of Testing Data: 0.92\n",
      "Weighted Recall Score for the Current Sample of Testing Data: 0.8933333333333333\n",
      "Weighted F-1 Score for the Current Sample of Testing Data: 0.8978992408557626\n"
     ]
    }
   ],
   "source": [
    "name='Voting Classifier'\n",
    "# base_classifier=[ ('dtree_'+str(i),DecisionTreeClassifier(criterion = 'gini', random_state=0)) for i in range(0,9)]\n",
    "base_classifier=[ ('rforest_'+str(i),RandomForestClassifier()) for i in range(0,8)]\n",
    "# base_classifier=[ ('random_forest',RandomForestClassifier(n_estimators = 6)),\n",
    "#           ('SVM',SVC()),\n",
    "#           ('KNN',KNeighborsClassifier(n_neighbors=5)),\n",
    "#           ('Naive bayes',GaussianNB()),\n",
    "#           ('Logistic Regression',LogisticRegression()),\n",
    "#           ('Decision tree',DecisionTreeClassifier(criterion = 'gini', random_state=0)),\n",
    "#           ('Bagging Classifier',BaggingClassifier(n_estimators=100, max_samples=.50 , oob_score=True)),\n",
    "#           ('Gradient Boosting',GradientBoostingClassifier(n_estimators = 50, learning_rate = 0.09, max_depth=5)),\n",
    "#           ('AdaBoost',AdaBoostClassifier(base_estimator=DecisionTreeClassifier(criterion = 'entropy' ), n_estimators=50))\n",
    "#           ]\n",
    "print('Name of Algorithm/Classifier Used:',name)\n",
    "print()\n",
    "\n",
    "last_sample=len(base_classifier)-1\n",
    "final_metrics=Voting_ML_classifier(encoded_dataframe_train,encoded_dataframe_test,Y_train,Y_test,name,base_classifier,last_sample)\n",
    "f1_score_train_score_sample,accuracy,precision,recall,f1_score_test=final_metrics[0],final_metrics[1],final_metrics[2],final_metrics[3],final_metrics[4]\n",
    "accuracy_score_sample,precision_score_sample,recall_score_sample,f1_score_sample=final_metrics[5],final_metrics[6],final_metrics[7],final_metrics[8]\n",
    "test_score_classifiers_default.append([f1_score_train_score_sample,accuracy,precision,recall,f1_score_test,name])\n",
    "print()\n",
    "print('Weighted F-1 Score for the Current Sample of Training Data:',f1_score_train_score_sample)\n",
    "print()\n",
    "print('Accuracy Score for the Current Sample of Testing Data:',accuracy_score_sample)\n",
    "print('Weighted Precision Score for the Current Sample of Testing Data:',precision_score_sample)\n",
    "print('Weighted Recall Score for the Current Sample of Testing Data:',recall_score_sample)\n",
    "print('Weighted F-1 Score for the Current Sample of Testing Data:',f1_score_sample)"
   ]
  },
  {
   "cell_type": "code",
   "execution_count": null,
   "metadata": {
    "colab": {
     "base_uri": "https://localhost:8080/"
    },
    "id": "At4GHRmA3DrU",
    "outputId": "21df2bd3-1657-4a35-a89a-c119ec7d307c"
   },
   "outputs": [
    {
     "name": "stdout",
     "output_type": "stream",
     "text": [
      "Name of Algorithm/Classifier Used: Voting Classifier\n",
      "\n",
      "***************VALIDATION DATA METRICS(CROSS VALIDATION SCORES) ************************************************\n",
      "Balanced Accuracy Score is: 91.218% (4.484%)\n",
      "Weighted Precison Score  is: 92.413% (4.110%)\n",
      "Weighted Recall Score is: 91.000% (4.485%)\n",
      "Weighted F-1 Score is: 90.977% (4.475%)\n",
      "\n",
      "***************TESTING DATA METRICS(CURRENT SAMPLE SCORE) ************************************************\n",
      "              precision    recall  f1-score   support\n",
      "\n",
      "         0.0       0.76      0.87      0.81        15\n",
      "         1.0       1.00      0.64      0.78        14\n",
      "         2.0       0.93      1.00      0.96        13\n",
      "         3.0       1.00      1.00      1.00        19\n",
      "         4.0       0.88      1.00      0.93        14\n",
      "\n",
      "    accuracy                           0.91        75\n",
      "   macro avg       0.91      0.90      0.90        75\n",
      "weighted avg       0.92      0.91      0.90        75\n",
      "\n",
      "[[13  0  1  0  1]\n",
      " [ 4  9  0  0  1]\n",
      " [ 0  0 13  0  0]\n",
      " [ 0  0  0 19  0]\n",
      " [ 0  0  0  0 14]]\n",
      "Lower Limit of Confidence Interval: 2.0685984134312596\n",
      "Upper Limit of Confidence Interval: 2.1447349199020733\n",
      "Standard Mean: 2.04\n",
      "confidence level not achieved\n",
      "\n",
      "Weighted F-1 Score for the Current Sample of Training Data: 1.0\n",
      "\n",
      "Accuracy Score for the Current Sample of Testing Data: 0.9066666666666666\n",
      "Weighted Precision Score for the Current Sample of Testing Data: 0.9172268907563025\n",
      "Weighted Recall Score for the Current Sample of Testing Data: 0.9066666666666666\n",
      "Weighted F-1 Score for the Current Sample of Testing Data: 0.9030560923242082\n"
     ]
    }
   ],
   "source": [
    "name='Voting Classifier'\n",
    "# base_classifier=[ ('dtree_'+str(i),DecisionTreeClassifier(criterion = 'gini', random_state=0)) for i in range(0,9)]\n",
    "# base_classifier=[ ('rforest_'+str(i),RandomForestClassifier()) for i in range(0,8)]\n",
    "base_classifier=[ ('random_forest',RandomForestClassifier(n_estimators = 6)),\n",
    "          ('SVM',SVC()),\n",
    "          ('KNN',KNeighborsClassifier(n_neighbors=5)),\n",
    "          ('Naive bayes',GaussianNB()),\n",
    "          ('Logistic Regression',LogisticRegression()),\n",
    "          ('Decision tree',DecisionTreeClassifier(criterion = 'gini', random_state=0)),\n",
    "          ('Bagging Classifier',BaggingClassifier(n_estimators=100, max_samples=.50 , oob_score=True)),\n",
    "          ('Gradient Boosting',GradientBoostingClassifier(n_estimators = 50, learning_rate = 0.09, max_depth=5)),\n",
    "          ('AdaBoost',AdaBoostClassifier(base_estimator=DecisionTreeClassifier(criterion = 'entropy' ), n_estimators=50))\n",
    "          ]\n",
    "print('Name of Algorithm/Classifier Used:',name)\n",
    "print()\n",
    "\n",
    "last_sample=len(base_classifier)-1\n",
    "final_metrics=Voting_ML_classifier(encoded_dataframe_train,encoded_dataframe_test,Y_train,Y_test,name,base_classifier,last_sample)\n",
    "f1_score_train_score_sample,accuracy,precision,recall,f1_score_test=final_metrics[0],final_metrics[1],final_metrics[2],final_metrics[3],final_metrics[4]\n",
    "accuracy_score_sample,precision_score_sample,recall_score_sample,f1_score_sample=final_metrics[5],final_metrics[6],final_metrics[7],final_metrics[8]\n",
    "test_score_classifiers_default.append([f1_score_train_score_sample,accuracy,precision,recall,f1_score_test,name])\n",
    "print()\n",
    "print('Weighted F-1 Score for the Current Sample of Training Data:',f1_score_train_score_sample)\n",
    "print()\n",
    "print('Accuracy Score for the Current Sample of Testing Data:',accuracy_score_sample)\n",
    "print('Weighted Precision Score for the Current Sample of Testing Data:',precision_score_sample)\n",
    "print('Weighted Recall Score for the Current Sample of Testing Data:',recall_score_sample)\n",
    "print('Weighted F-1 Score for the Current Sample of Testing Data:',f1_score_sample)"
   ]
  },
  {
   "cell_type": "code",
   "execution_count": null,
   "metadata": {
    "id": "9KA4LQcTZxEB"
   },
   "outputs": [],
   "source": [
    "# from sklearn.ensemble import VotingClassifier\n",
    "# def Voting_Classifier(X,Y,x_test,y_test):\n",
    "#   \n",
    "#   for i in range(0,len(models)):\n",
    "#     # print(i)\n",
    "#     models[i][1].fit(X[i],Y[i])\n",
    "#   model = VotingClassifier(estimators=models)\n",
    "#   model.fit(X[8], Y[8])\n",
    "#   y_pred = model.predict(x_test)\n",
    "#   print(classification_report(y_test,y_pred))\n",
    "#   print(confusion_matrix(y_test,y_pred))\n",
    "#   print('F1-Score:', f1_score(y_test, y_pred, average='weighted'))\n",
    "#   return f1_score(y_train, model.predict(x_train), average='weighted'),accuracy_score(y_test, y_pred),precision_score(y_test, y_pred, average='weighted'),recall_score(y_test, y_pred, average='weighted'),f1_score(y_test, y_pred, average='weighted')\n",
    "\n",
    "# test_score_classifiers_default.append(f1_score_train,accuracy,precision,recall,f1_score_test)\n",
    "\n"
   ]
  },
  {
   "cell_type": "code",
   "execution_count": null,
   "metadata": {
    "id": "x9KqA6cHwD0U"
   },
   "outputs": [],
   "source": [
    "# from sklearn.ensemble import VotingClassifier\n",
    "# def Voting_Classifier(X,Y,x_test,y_test):\n",
    "\n",
    "#   for i in range(0,len(models)):\n",
    "#     # print(i)\n",
    "#     models[i][1].fit(X[i],Y[i])\n",
    "#   model = VotingClassifier(estimators=models)\n",
    "#   model.fit(X[8], Y[8])\n",
    "#   y_pred = model.predict(x_test)\n",
    "#   print(classification_report(y_test,y_pred))\n",
    "#   print(confusion_matrix(y_test,y_pred))\n",
    "#   print('F1-Score:', f1_score(y_test, y_pred, average='weighted'))\n",
    "#   return f1_score(y_train, model.predict(x_train), average='weighted'),accuracy_score(y_test, y_pred),precision_score(y_test, y_pred, average='weighted'),recall_score(y_test, y_pred, average='weighted'),f1_score(y_test, y_pred, average='weighted')\n",
    "\n",
    "\n",
    "# (Voting_Classifier(encoded_dataframe_train,Y_train,encoded_dataframe_test[0],Y_test[0]))\n",
    "# # test_score_classifiers_default.append(f1_score_train,accuracy,precision,recall,f1_score_test)"
   ]
  },
  {
   "cell_type": "code",
   "execution_count": null,
   "metadata": {
    "colab": {
     "base_uri": "https://localhost:8080/",
     "height": 410
    },
    "id": "gvvOErMb0XBT",
    "outputId": "f66d8cbc-b8ee-4fc7-f372-c2972d096006"
   },
   "outputs": [
    {
     "data": {
      "text/html": [
       "<div>\n",
       "<style scoped>\n",
       "    .dataframe tbody tr th:only-of-type {\n",
       "        vertical-align: middle;\n",
       "    }\n",
       "\n",
       "    .dataframe tbody tr th {\n",
       "        vertical-align: top;\n",
       "    }\n",
       "\n",
       "    .dataframe thead th {\n",
       "        text-align: right;\n",
       "    }\n",
       "</style>\n",
       "<table border=\"1\" class=\"dataframe\">\n",
       "  <thead>\n",
       "    <tr style=\"text-align: right;\">\n",
       "      <th></th>\n",
       "      <th>Train Score</th>\n",
       "      <th>Test Accuracy Score</th>\n",
       "      <th>Test Weighted Precison Score</th>\n",
       "      <th>Test Weighted Recall Score</th>\n",
       "      <th>Test Weighted F-1 Score</th>\n",
       "      <th>Name of Algorithm</th>\n",
       "    </tr>\n",
       "  </thead>\n",
       "  <tbody>\n",
       "    <tr>\n",
       "      <th>0</th>\n",
       "      <td>0.936849</td>\n",
       "      <td>79.864502</td>\n",
       "      <td>82.580724</td>\n",
       "      <td>80.666667</td>\n",
       "      <td>80.600931</td>\n",
       "      <td>Logistic Regression</td>\n",
       "    </tr>\n",
       "    <tr>\n",
       "      <th>1</th>\n",
       "      <td>0.501307</td>\n",
       "      <td>50.975108</td>\n",
       "      <td>57.976523</td>\n",
       "      <td>50.666667</td>\n",
       "      <td>46.508201</td>\n",
       "      <td>Support Vector Machine</td>\n",
       "    </tr>\n",
       "    <tr>\n",
       "      <th>2</th>\n",
       "      <td>0.799328</td>\n",
       "      <td>61.515079</td>\n",
       "      <td>65.590933</td>\n",
       "      <td>63.333333</td>\n",
       "      <td>62.384651</td>\n",
       "      <td>K-Nearest Neighbors</td>\n",
       "    </tr>\n",
       "    <tr>\n",
       "      <th>3</th>\n",
       "      <td>0.982137</td>\n",
       "      <td>88.674459</td>\n",
       "      <td>89.501563</td>\n",
       "      <td>88.000000</td>\n",
       "      <td>87.622715</td>\n",
       "      <td>Gaussian Naive Bayes</td>\n",
       "    </tr>\n",
       "    <tr>\n",
       "      <th>4</th>\n",
       "      <td>0.986677</td>\n",
       "      <td>88.867244</td>\n",
       "      <td>89.755739</td>\n",
       "      <td>88.666667</td>\n",
       "      <td>88.392243</td>\n",
       "      <td>Decision Tree</td>\n",
       "    </tr>\n",
       "    <tr>\n",
       "      <th>5</th>\n",
       "      <td>0.986677</td>\n",
       "      <td>93.106061</td>\n",
       "      <td>94.113095</td>\n",
       "      <td>92.666667</td>\n",
       "      <td>92.509537</td>\n",
       "      <td>Random Forest</td>\n",
       "    </tr>\n",
       "    <tr>\n",
       "      <th>6</th>\n",
       "      <td>0.977738</td>\n",
       "      <td>86.954473</td>\n",
       "      <td>88.276190</td>\n",
       "      <td>86.666667</td>\n",
       "      <td>86.364874</td>\n",
       "      <td>Bagging</td>\n",
       "    </tr>\n",
       "    <tr>\n",
       "      <th>7</th>\n",
       "      <td>0.986677</td>\n",
       "      <td>88.287879</td>\n",
       "      <td>91.338228</td>\n",
       "      <td>87.666667</td>\n",
       "      <td>87.876013</td>\n",
       "      <td>Gradient Boosting</td>\n",
       "    </tr>\n",
       "    <tr>\n",
       "      <th>8</th>\n",
       "      <td>0.617484</td>\n",
       "      <td>57.032179</td>\n",
       "      <td>61.570013</td>\n",
       "      <td>57.333333</td>\n",
       "      <td>55.235352</td>\n",
       "      <td>Ada Boosting</td>\n",
       "    </tr>\n",
       "    <tr>\n",
       "      <th>9</th>\n",
       "      <td>0.617484</td>\n",
       "      <td>56.868543</td>\n",
       "      <td>61.476074</td>\n",
       "      <td>57.000000</td>\n",
       "      <td>54.594922</td>\n",
       "      <td>XG Boosting</td>\n",
       "    </tr>\n",
       "  </tbody>\n",
       "</table>\n",
       "</div>"
      ],
      "text/plain": [
       "   Train Score  ...       Name of Algorithm\n",
       "0     0.936849  ...     Logistic Regression\n",
       "1     0.501307  ...  Support Vector Machine\n",
       "2     0.799328  ...     K-Nearest Neighbors\n",
       "3     0.982137  ...    Gaussian Naive Bayes\n",
       "4     0.986677  ...           Decision Tree\n",
       "5     0.986677  ...           Random Forest\n",
       "6     0.977738  ...                 Bagging\n",
       "7     0.986677  ...       Gradient Boosting\n",
       "8     0.617484  ...            Ada Boosting\n",
       "9     0.617484  ...             XG Boosting\n",
       "\n",
       "[10 rows x 6 columns]"
      ]
     },
     "execution_count": 75,
     "metadata": {
      "tags": []
     },
     "output_type": "execute_result"
    }
   ],
   "source": [
    "test_score_classifiers_default"
   ]
  },
  {
   "cell_type": "markdown",
   "metadata": {
    "id": "QBIZmAdWCZgN"
   },
   "source": [
    "# **Analysing Results and Plotting Metrics**"
   ]
  },
  {
   "cell_type": "code",
   "execution_count": null,
   "metadata": {
    "colab": {
     "base_uri": "https://localhost:8080/",
     "height": 410
    },
    "id": "yzrtsh_4MCw9",
    "outputId": "1639779a-ee5a-42b8-e218-029444b7e805"
   },
   "outputs": [
    {
     "data": {
      "text/html": [
       "<div>\n",
       "<style scoped>\n",
       "    .dataframe tbody tr th:only-of-type {\n",
       "        vertical-align: middle;\n",
       "    }\n",
       "\n",
       "    .dataframe tbody tr th {\n",
       "        vertical-align: top;\n",
       "    }\n",
       "\n",
       "    .dataframe thead th {\n",
       "        text-align: right;\n",
       "    }\n",
       "</style>\n",
       "<table border=\"1\" class=\"dataframe\">\n",
       "  <thead>\n",
       "    <tr style=\"text-align: right;\">\n",
       "      <th></th>\n",
       "      <th>Train Score</th>\n",
       "      <th>Test Accuracy Score</th>\n",
       "      <th>Test Weighted Precison Score</th>\n",
       "      <th>Test Weighted Recall Score</th>\n",
       "      <th>Test Weighted F-1 Score</th>\n",
       "      <th>Name of Algorithm</th>\n",
       "    </tr>\n",
       "  </thead>\n",
       "  <tbody>\n",
       "    <tr>\n",
       "      <th>0</th>\n",
       "      <td>0.936849</td>\n",
       "      <td>79.864502</td>\n",
       "      <td>82.580724</td>\n",
       "      <td>80.666667</td>\n",
       "      <td>80.600931</td>\n",
       "      <td>Logistic Regression</td>\n",
       "    </tr>\n",
       "    <tr>\n",
       "      <th>1</th>\n",
       "      <td>0.501307</td>\n",
       "      <td>50.975108</td>\n",
       "      <td>57.976523</td>\n",
       "      <td>50.666667</td>\n",
       "      <td>46.508201</td>\n",
       "      <td>Support Vector Machine</td>\n",
       "    </tr>\n",
       "    <tr>\n",
       "      <th>2</th>\n",
       "      <td>0.799328</td>\n",
       "      <td>61.515079</td>\n",
       "      <td>65.590933</td>\n",
       "      <td>63.333333</td>\n",
       "      <td>62.384651</td>\n",
       "      <td>K-Nearest Neighbors</td>\n",
       "    </tr>\n",
       "    <tr>\n",
       "      <th>3</th>\n",
       "      <td>0.982137</td>\n",
       "      <td>88.674459</td>\n",
       "      <td>89.501563</td>\n",
       "      <td>88.000000</td>\n",
       "      <td>87.622715</td>\n",
       "      <td>Gaussian Naive Bayes</td>\n",
       "    </tr>\n",
       "    <tr>\n",
       "      <th>4</th>\n",
       "      <td>0.986677</td>\n",
       "      <td>88.867244</td>\n",
       "      <td>89.755739</td>\n",
       "      <td>88.666667</td>\n",
       "      <td>88.392243</td>\n",
       "      <td>Decision Tree</td>\n",
       "    </tr>\n",
       "    <tr>\n",
       "      <th>5</th>\n",
       "      <td>0.986677</td>\n",
       "      <td>93.106061</td>\n",
       "      <td>94.113095</td>\n",
       "      <td>92.666667</td>\n",
       "      <td>92.509537</td>\n",
       "      <td>Random Forest</td>\n",
       "    </tr>\n",
       "    <tr>\n",
       "      <th>6</th>\n",
       "      <td>0.977738</td>\n",
       "      <td>86.954473</td>\n",
       "      <td>88.276190</td>\n",
       "      <td>86.666667</td>\n",
       "      <td>86.364874</td>\n",
       "      <td>Bagging</td>\n",
       "    </tr>\n",
       "    <tr>\n",
       "      <th>7</th>\n",
       "      <td>0.986677</td>\n",
       "      <td>88.287879</td>\n",
       "      <td>91.338228</td>\n",
       "      <td>87.666667</td>\n",
       "      <td>87.876013</td>\n",
       "      <td>Gradient Boosting</td>\n",
       "    </tr>\n",
       "    <tr>\n",
       "      <th>8</th>\n",
       "      <td>0.617484</td>\n",
       "      <td>57.032179</td>\n",
       "      <td>61.570013</td>\n",
       "      <td>57.333333</td>\n",
       "      <td>55.235352</td>\n",
       "      <td>Ada Boosting</td>\n",
       "    </tr>\n",
       "    <tr>\n",
       "      <th>9</th>\n",
       "      <td>0.617484</td>\n",
       "      <td>56.868543</td>\n",
       "      <td>61.476074</td>\n",
       "      <td>57.000000</td>\n",
       "      <td>54.594922</td>\n",
       "      <td>XG Boosting</td>\n",
       "    </tr>\n",
       "  </tbody>\n",
       "</table>\n",
       "</div>"
      ],
      "text/plain": [
       "   Train Score  ...       Name of Algorithm\n",
       "0     0.936849  ...     Logistic Regression\n",
       "1     0.501307  ...  Support Vector Machine\n",
       "2     0.799328  ...     K-Nearest Neighbors\n",
       "3     0.982137  ...    Gaussian Naive Bayes\n",
       "4     0.986677  ...           Decision Tree\n",
       "5     0.986677  ...           Random Forest\n",
       "6     0.977738  ...                 Bagging\n",
       "7     0.986677  ...       Gradient Boosting\n",
       "8     0.617484  ...            Ada Boosting\n",
       "9     0.617484  ...             XG Boosting\n",
       "\n",
       "[10 rows x 6 columns]"
      ]
     },
     "execution_count": 74,
     "metadata": {
      "tags": []
     },
     "output_type": "execute_result"
    }
   ],
   "source": [
    "test_score_classifiers_default=pd.DataFrame(test_score_classifiers_default,columns=['Train Score','Test Accuracy Score','Test Weighted Precison Score','Test Weighted Recall Score','Test Weighted F-1 Score','Name of Algorithm'])\n",
    "test_score_classifiers_default"
   ]
  },
  {
   "cell_type": "code",
   "execution_count": null,
   "metadata": {
    "colab": {
     "base_uri": "https://localhost:8080/",
     "height": 204
    },
    "id": "EoInSEKPwFBu",
    "outputId": "3f19e557-05df-48e4-afe9-8ba5a6d1a246"
   },
   "outputs": [
    {
     "data": {
      "text/html": [
       "<div>\n",
       "<style scoped>\n",
       "    .dataframe tbody tr th:only-of-type {\n",
       "        vertical-align: middle;\n",
       "    }\n",
       "\n",
       "    .dataframe tbody tr th {\n",
       "        vertical-align: top;\n",
       "    }\n",
       "\n",
       "    .dataframe thead th {\n",
       "        text-align: right;\n",
       "    }\n",
       "</style>\n",
       "<table border=\"1\" class=\"dataframe\">\n",
       "  <thead>\n",
       "    <tr style=\"text-align: right;\">\n",
       "      <th></th>\n",
       "      <th>Train Score</th>\n",
       "      <th>Test Accuracy Score</th>\n",
       "      <th>Test Weighted Precison Score</th>\n",
       "      <th>Test Weighted Recall Score</th>\n",
       "      <th>Test Weighted F-1 Score</th>\n",
       "      <th>Name of Algorithm</th>\n",
       "    </tr>\n",
       "  </thead>\n",
       "  <tbody>\n",
       "    <tr>\n",
       "      <th>0</th>\n",
       "      <td>0.995558</td>\n",
       "      <td>85.408297</td>\n",
       "      <td>87.928175</td>\n",
       "      <td>85.333333</td>\n",
       "      <td>85.053126</td>\n",
       "      <td>Logistic Regression</td>\n",
       "    </tr>\n",
       "    <tr>\n",
       "      <th>1</th>\n",
       "      <td>0.995558</td>\n",
       "      <td>85.216234</td>\n",
       "      <td>86.675794</td>\n",
       "      <td>85.000000</td>\n",
       "      <td>84.187805</td>\n",
       "      <td>Support Vector Machine</td>\n",
       "    </tr>\n",
       "    <tr>\n",
       "      <th>2</th>\n",
       "      <td>0.995558</td>\n",
       "      <td>85.729798</td>\n",
       "      <td>87.097487</td>\n",
       "      <td>85.000000</td>\n",
       "      <td>84.863327</td>\n",
       "      <td>K-Nearest Neighbors</td>\n",
       "    </tr>\n",
       "    <tr>\n",
       "      <th>3</th>\n",
       "      <td>0.287015</td>\n",
       "      <td>34.254762</td>\n",
       "      <td>19.036267</td>\n",
       "      <td>31.000000</td>\n",
       "      <td>21.383886</td>\n",
       "      <td>Gaussian Naive Bayes</td>\n",
       "    </tr>\n",
       "    <tr>\n",
       "      <th>4</th>\n",
       "      <td>0.995558</td>\n",
       "      <td>83.771789</td>\n",
       "      <td>86.132744</td>\n",
       "      <td>84.000000</td>\n",
       "      <td>83.718136</td>\n",
       "      <td>Decision Tree</td>\n",
       "    </tr>\n",
       "  </tbody>\n",
       "</table>\n",
       "</div>"
      ],
      "text/plain": [
       "   Train Score  ...       Name of Algorithm\n",
       "0     0.995558  ...     Logistic Regression\n",
       "1     0.995558  ...  Support Vector Machine\n",
       "2     0.995558  ...     K-Nearest Neighbors\n",
       "3     0.287015  ...    Gaussian Naive Bayes\n",
       "4     0.995558  ...           Decision Tree\n",
       "\n",
       "[5 rows x 6 columns]"
      ]
     },
     "execution_count": 87,
     "metadata": {
      "tags": []
     },
     "output_type": "execute_result"
    }
   ],
   "source": [
    "test_score_classifiers_grid_search_cv=pd.DataFrame(test_score_classifiers_grid_search_cv,columns=['Train Score','Test Accuracy Score','Test Weighted Precison Score','Test Weighted Recall Score','Test Weighted F-1 Score','Name of Algorithm'])\n",
    "test_score_classifiers_grid_search_cv"
   ]
  },
  {
   "cell_type": "code",
   "execution_count": null,
   "metadata": {
    "colab": {
     "base_uri": "https://localhost:8080/",
     "height": 400
    },
    "id": "PdtAqHTlPCvy",
    "outputId": "51f7a97b-4cf8-41e5-c7ba-d164df2bef89"
   },
   "outputs": [
    {
     "data": {
      "text/plain": [
       "<Figure size 7200x1440 with 0 Axes>"
      ]
     },
     "metadata": {
      "tags": []
     },
     "output_type": "display_data"
    },
    {
     "data": {
      "image/png": "[encoded data removed]",
      "text/plain": [
       "<Figure size 360x360 with 1 Axes>"
      ]
     },
     "metadata": {
      "needs_background": "light",
      "tags": []
     },
     "output_type": "display_data"
    }
   ],
   "source": [
    "plt.figure(figsize=(100,20))\n",
    "sns.catplot(x='Test Weighted F-1 Score', y='Name of Algorithm',data=test_score_classifiers_default,kind='bar');"
   ]
  },
  {
   "cell_type": "code",
   "execution_count": null,
   "metadata": {
    "colab": {
     "base_uri": "https://localhost:8080/",
     "height": 400
    },
    "id": "aDTAiXSawOIC",
    "outputId": "1b559fd1-f62c-49af-a041-fdf9adf8da00"
   },
   "outputs": [
    {
     "data": {
      "text/plain": [
       "<Figure size 7200x1440 with 0 Axes>"
      ]
     },
     "metadata": {
      "tags": []
     },
     "output_type": "display_data"
    },
    {
     "data": {
      "image/png": "[encoded data removed]",
      "text/plain": [
       "<Figure size 360x360 with 1 Axes>"
      ]
     },
     "metadata": {
      "needs_background": "light",
      "tags": []
     },
     "output_type": "display_data"
    }
   ],
   "source": [
    "plt.figure(figsize=(100,20))\n",
    "sns.catplot(x='Test Weighted F-1 Score', y='Name of Algorithm',data=test_score_classifiers_grid_search_cv,kind='bar');"
   ]
  },
  {
   "cell_type": "code",
   "execution_count": null,
   "metadata": {
    "colab": {
     "base_uri": "https://localhost:8080/",
     "height": 400
    },
    "id": "rTw9bIfEMDzo",
    "outputId": "f871cc00-7c94-4e66-e55c-7a8a395c4bab"
   },
   "outputs": [
    {
     "data": {
      "text/plain": [
       "<Figure size 7200x1440 with 0 Axes>"
      ]
     },
     "metadata": {
      "tags": []
     },
     "output_type": "display_data"
    },
    {
     "data": {
      "image/png": "[encoded data removed]",
      "text/plain": [
       "<Figure size 360x360 with 1 Axes>"
      ]
     },
     "metadata": {
      "needs_background": "light",
      "tags": []
     },
     "output_type": "display_data"
    }
   ],
   "source": [
    "plt.figure(figsize=(100,20))\n",
    "sns.catplot(x='Test Weighted F-1 Score', y='Name of Algorithm',data=test_score_classifiers_default,kind='point');"
   ]
  },
  {
   "cell_type": "code",
   "execution_count": null,
   "metadata": {
    "colab": {
     "base_uri": "https://localhost:8080/",
     "height": 400
    },
    "id": "5nGRbnfgyCXs",
    "outputId": "029cdb43-ea8b-43dd-f39a-97b36bd6c241"
   },
   "outputs": [
    {
     "data": {
      "text/plain": [
       "<Figure size 7200x1440 with 0 Axes>"
      ]
     },
     "metadata": {
      "tags": []
     },
     "output_type": "display_data"
    },
    {
     "data": {
      "image/png": "[encoded data removed]",
      "text/plain": [
       "<Figure size 360x360 with 1 Axes>"
      ]
     },
     "metadata": {
      "needs_background": "light",
      "tags": []
     },
     "output_type": "display_data"
    }
   ],
   "source": [
    "plt.figure(figsize=(100,20))\n",
    "sns.catplot(x='Test Weighted F-1 Score', y='Name of Algorithm',data=test_score_classifiers_grid_search_cv,kind='point');"
   ]
  },
  {
   "cell_type": "code",
   "execution_count": null,
   "metadata": {
    "id": "ffFXDZv1yCQU"
   },
   "outputs": [],
   "source": []
  }
 ],
 "metadata": {
  "colab": {
   "collapsed_sections": [],
   "name": "Industrial_Chatbot_Capstone_Modelling_Machine_Learning_Sampling_Balanced.ipynb",
   "provenance": []
  },
  "kernelspec": {
   "display_name": "Python 3",
   "language": "python",
   "name": "python3"
  },
  "language_info": {
   "codemirror_mode": {
    "name": "ipython",
    "version": 3
   },
   "file_extension": ".py",
   "mimetype": "text/x-python",
   "name": "python",
   "nbconvert_exporter": "python",
   "pygments_lexer": "ipython3",
   "version": "3.8.8"
  }
 },
 "nbformat": 4,
 "nbformat_minor": 1
}
