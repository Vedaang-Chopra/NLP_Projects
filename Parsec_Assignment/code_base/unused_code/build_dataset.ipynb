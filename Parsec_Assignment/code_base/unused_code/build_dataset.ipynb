{
 "cells": [
  {
   "cell_type": "markdown",
   "metadata": {},
   "source": [
    "#### Fetching complete Dataset "
   ]
  },
  {
   "cell_type": "code",
   "execution_count": 1,
   "metadata": {},
   "outputs": [],
   "source": [
    "import pandas as pd\n",
    "import numpy as np\n",
    "import seaborn as sns\n",
    "import matplotlib.pyplot as plt"
   ]
  },
  {
   "cell_type": "code",
   "execution_count": 2,
   "metadata": {},
   "outputs": [],
   "source": [
    "import os\n",
    "import platform\n",
    "import sys"
   ]
  },
  {
   "cell_type": "code",
   "execution_count": 3,
   "metadata": {},
   "outputs": [],
   "source": [
    "#  Setting Path to Dataset\n",
    "def check_if_colab():\n",
    "    if 'google.colab' in sys.modules:\n",
    "        return True\n",
    "    return False"
   ]
  },
  {
   "cell_type": "code",
   "execution_count": 4,
   "metadata": {},
   "outputs": [
    {
     "data": {
      "text/plain": [
       "['DataSet.xlsx', 'modified_dataset.xlsx']"
      ]
     },
     "execution_count": 4,
     "metadata": {},
     "output_type": "execute_result"
    }
   ],
   "source": [
    "if check_if_colab():\n",
    "    print(\"Running on Google Colab\")\n",
    "    # from google.colab import drive\n",
    "    # drive.mount('/content/drive')\n",
    "    # BASE_PATH_TO_DATASETS='/content/drive/MyDrive/OMSCS/cs7641/All assignments/Assignments/Assignment-1'\n",
    "    # BASE_PATH_TO_DATASETS=os.path.join(BASE_PATH_TO_DATASETS,'pubg')\n",
    "else:\n",
    "  if platform.system().lower().__contains__('windows'):\n",
    "      BASE_PATH_TO_PROJECT_REPOSITORY=(os.sep).join(os.getcwd().split(os.sep)[:os.getcwd().split(os.sep).index('Parsec_Assignment')+1])\n",
    "      BASE_PATH_TO_DATASETS=os.path.join(BASE_PATH_TO_PROJECT_REPOSITORY,'dataset')\n",
    "      BASE_PATH_TO_CODE_BASE =os.path.join(BASE_PATH_TO_DATASETS, 'code_base')\n",
    "\n",
    "  elif platform.system().lower().__contains__('linux'):\n",
    "      BASE_PATH_TO_PROJECT_REPOSITORY=(os.sep).join(os.getcwd().split(os.sep)[:os.getcwd().split(os.sep).index('Parsec_Assignment')+1])\n",
    "      BASE_PATH_TO_DATASETS=os.path.join(BASE_PATH_TO_PROJECT_REPOSITORY,'dataset')\n",
    "      BASE_PATH_TO_CODE_BASE=os.path.join(BASE_PATH_TO_PROJECT_REPOSITORY, 'code_base')\n",
    "  else:\n",
    "      print('OS Error')\n",
    "os.listdir(BASE_PATH_TO_DATASETS)"
   ]
  },
  {
   "cell_type": "code",
   "execution_count": 5,
   "metadata": {},
   "outputs": [
    {
     "data": {
      "text/plain": [
       "'/media/vchopra/DATA/Complete Technical Work/All  Projects Implemented/Small Projects/Artificial Intelligence Projects/Code Base/Natural_Language_Processing_Projects/Parsec_Assignment/dataset/DataSet.xlsx'"
      ]
     },
     "execution_count": 5,
     "metadata": {},
     "output_type": "execute_result"
    }
   ],
   "source": [
    "PATH_TO_DATATSET_XLSX=os.path.join(BASE_PATH_TO_DATASETS, 'DataSet.xlsx')\n",
    "PATH_TO_DATATSET_XLSX"
   ]
  },
  {
   "cell_type": "code",
   "execution_count": 6,
   "metadata": {},
   "outputs": [
    {
     "data": {
      "text/html": [
       "<div>\n",
       "<style scoped>\n",
       "    .dataframe tbody tr th:only-of-type {\n",
       "        vertical-align: middle;\n",
       "    }\n",
       "\n",
       "    .dataframe tbody tr th {\n",
       "        vertical-align: top;\n",
       "    }\n",
       "\n",
       "    .dataframe thead th {\n",
       "        text-align: right;\n",
       "    }\n",
       "</style>\n",
       "<table border=\"1\" class=\"dataframe\">\n",
       "  <thead>\n",
       "    <tr style=\"text-align: right;\">\n",
       "      <th></th>\n",
       "      <th>datasheet_link</th>\n",
       "      <th>target_col</th>\n",
       "    </tr>\n",
       "  </thead>\n",
       "  <tbody>\n",
       "    <tr>\n",
       "      <th>2565</th>\n",
       "      <td>https://www.memoryprotectiondevices.com/datash...</td>\n",
       "      <td>others</td>\n",
       "    </tr>\n",
       "    <tr>\n",
       "      <th>2566</th>\n",
       "      <td>https://www.memoryprotectiondevices.com/datash...</td>\n",
       "      <td>others</td>\n",
       "    </tr>\n",
       "    <tr>\n",
       "      <th>2567</th>\n",
       "      <td>https://www.memoryprotectiondevices.com/datash...</td>\n",
       "      <td>others</td>\n",
       "    </tr>\n",
       "    <tr>\n",
       "      <th>2568</th>\n",
       "      <td>http://www.switchcomp.com/switchcomp_ecommerce...</td>\n",
       "      <td>others</td>\n",
       "    </tr>\n",
       "    <tr>\n",
       "      <th>2569</th>\n",
       "      <td>http://www.switchcomp.com/switchcomp_ecommerce...</td>\n",
       "      <td>others</td>\n",
       "    </tr>\n",
       "  </tbody>\n",
       "</table>\n",
       "</div>"
      ],
      "text/plain": [
       "                                         datasheet_link target_col\n",
       "2565  https://www.memoryprotectiondevices.com/datash...     others\n",
       "2566  https://www.memoryprotectiondevices.com/datash...     others\n",
       "2567  https://www.memoryprotectiondevices.com/datash...     others\n",
       "2568  http://www.switchcomp.com/switchcomp_ecommerce...     others\n",
       "2569  http://www.switchcomp.com/switchcomp_ecommerce...     others"
      ]
     },
     "execution_count": 6,
     "metadata": {},
     "output_type": "execute_result"
    }
   ],
   "source": [
    "df=pd.read_excel(PATH_TO_DATATSET_XLSX)\n",
    "df.tail()"
   ]
  },
  {
   "cell_type": "code",
   "execution_count": null,
   "metadata": {},
   "outputs": [],
   "source": []
  },
  {
   "cell_type": "markdown",
   "metadata": {},
   "source": [
    "#### Basic Distribution Plot"
   ]
  },
  {
   "cell_type": "code",
   "execution_count": 7,
   "metadata": {},
   "outputs": [
    {
     "name": "stderr",
     "output_type": "stream",
     "text": [
      "/home/vchopra/anaconda3/lib/python3.11/site-packages/seaborn/_oldcore.py:1119: FutureWarning: use_inf_as_na option is deprecated and will be removed in a future version. Convert inf values to NaN before operating instead.\n",
      "  with pd.option_context('mode.use_inf_as_na', True):\n"
     ]
    },
    {
     "data": {
      "text/plain": [
       "<seaborn.axisgrid.FacetGrid at 0x76a0923cdc50>"
      ]
     },
     "execution_count": 7,
     "metadata": {},
     "output_type": "execute_result"
    },
    {
     "data": {
      "image/png": "[encoded data removed]",
      "text/plain": [
       "<Figure size 500x500 with 1 Axes>"
      ]
     },
     "metadata": {},
     "output_type": "display_data"
    }
   ],
   "source": [
    "sns.displot(df['target_col'])"
   ]
  },
  {
   "cell_type": "markdown",
   "metadata": {},
   "source": [
    "### Fixing a few URL's"
   ]
  },
  {
   "cell_type": "code",
   "execution_count": 8,
   "metadata": {},
   "outputs": [],
   "source": [
    "import re\n",
    "import requests\n",
    "from urllib.parse import urlparse"
   ]
  },
  {
   "cell_type": "code",
   "execution_count": 9,
   "metadata": {},
   "outputs": [],
   "source": [
    "def fix_digikey_url(url: str) -> str:\n",
    "    \"\"\"Add https:// prefix to digikey URLs if missing\"\"\"\n",
    "    if url.startswith(\"//mm.digikey\"):\n",
    "        return f\"https:{url}\"\n",
    "    return url"
   ]
  },
  {
   "cell_type": "code",
   "execution_count": 10,
   "metadata": {},
   "outputs": [
    {
     "data": {
      "text/plain": [
       "'mm.digikey.com/Volume0/opasdata/d220001/medias/docus/665/1704853.pdf'"
      ]
     },
     "execution_count": 10,
     "metadata": {},
     "output_type": "execute_result"
    }
   ],
   "source": [
    "url = \"mm.digikey.com/Volume0/opasdata/d220001/medias/docus/665/1704853.pdf\"\n",
    "fixed_url = fix_digikey_url(url)\n",
    "fixed_url"
   ]
  },
  {
   "cell_type": "code",
   "execution_count": 11,
   "metadata": {},
   "outputs": [
    {
     "data": {
      "text/html": [
       "<div>\n",
       "<style scoped>\n",
       "    .dataframe tbody tr th:only-of-type {\n",
       "        vertical-align: middle;\n",
       "    }\n",
       "\n",
       "    .dataframe tbody tr th {\n",
       "        vertical-align: top;\n",
       "    }\n",
       "\n",
       "    .dataframe thead th {\n",
       "        text-align: right;\n",
       "    }\n",
       "</style>\n",
       "<table border=\"1\" class=\"dataframe\">\n",
       "  <thead>\n",
       "    <tr style=\"text-align: right;\">\n",
       "      <th></th>\n",
       "      <th>datasheet_link</th>\n",
       "      <th>target_col</th>\n",
       "      <th>fixed_url</th>\n",
       "    </tr>\n",
       "  </thead>\n",
       "  <tbody>\n",
       "    <tr>\n",
       "      <th>0</th>\n",
       "      <td>https://lfillumination.com/files/specsheets/EF...</td>\n",
       "      <td>lighting</td>\n",
       "      <td>https://lfillumination.com/files/specsheets/EF...</td>\n",
       "    </tr>\n",
       "    <tr>\n",
       "      <th>1</th>\n",
       "      <td>https://lfillumination.com/files/specsheets/EF...</td>\n",
       "      <td>lighting</td>\n",
       "      <td>https://lfillumination.com/files/specsheets/EF...</td>\n",
       "    </tr>\n",
       "    <tr>\n",
       "      <th>2</th>\n",
       "      <td>https://lfillumination.com/files/specsheets/EF...</td>\n",
       "      <td>lighting</td>\n",
       "      <td>https://lfillumination.com/files/specsheets/EF...</td>\n",
       "    </tr>\n",
       "    <tr>\n",
       "      <th>3</th>\n",
       "      <td>https://www.waclighting.com/storage/waclightin...</td>\n",
       "      <td>lighting</td>\n",
       "      <td>https://www.waclighting.com/storage/waclightin...</td>\n",
       "    </tr>\n",
       "    <tr>\n",
       "      <th>4</th>\n",
       "      <td>https://www.acuitybrands.com/api/products/geta...</td>\n",
       "      <td>lighting</td>\n",
       "      <td>https://www.acuitybrands.com/api/products/geta...</td>\n",
       "    </tr>\n",
       "    <tr>\n",
       "      <th>...</th>\n",
       "      <td>...</td>\n",
       "      <td>...</td>\n",
       "      <td>...</td>\n",
       "    </tr>\n",
       "    <tr>\n",
       "      <th>2565</th>\n",
       "      <td>https://www.memoryprotectiondevices.com/datash...</td>\n",
       "      <td>others</td>\n",
       "      <td>https://www.memoryprotectiondevices.com/datash...</td>\n",
       "    </tr>\n",
       "    <tr>\n",
       "      <th>2566</th>\n",
       "      <td>https://www.memoryprotectiondevices.com/datash...</td>\n",
       "      <td>others</td>\n",
       "      <td>https://www.memoryprotectiondevices.com/datash...</td>\n",
       "    </tr>\n",
       "    <tr>\n",
       "      <th>2567</th>\n",
       "      <td>https://www.memoryprotectiondevices.com/datash...</td>\n",
       "      <td>others</td>\n",
       "      <td>https://www.memoryprotectiondevices.com/datash...</td>\n",
       "    </tr>\n",
       "    <tr>\n",
       "      <th>2568</th>\n",
       "      <td>http://www.switchcomp.com/switchcomp_ecommerce...</td>\n",
       "      <td>others</td>\n",
       "      <td>http://www.switchcomp.com/switchcomp_ecommerce...</td>\n",
       "    </tr>\n",
       "    <tr>\n",
       "      <th>2569</th>\n",
       "      <td>http://www.switchcomp.com/switchcomp_ecommerce...</td>\n",
       "      <td>others</td>\n",
       "      <td>http://www.switchcomp.com/switchcomp_ecommerce...</td>\n",
       "    </tr>\n",
       "  </tbody>\n",
       "</table>\n",
       "<p>2570 rows × 3 columns</p>\n",
       "</div>"
      ],
      "text/plain": [
       "                                         datasheet_link target_col  \\\n",
       "0     https://lfillumination.com/files/specsheets/EF...   lighting   \n",
       "1     https://lfillumination.com/files/specsheets/EF...   lighting   \n",
       "2     https://lfillumination.com/files/specsheets/EF...   lighting   \n",
       "3     https://www.waclighting.com/storage/waclightin...   lighting   \n",
       "4     https://www.acuitybrands.com/api/products/geta...   lighting   \n",
       "...                                                 ...        ...   \n",
       "2565  https://www.memoryprotectiondevices.com/datash...     others   \n",
       "2566  https://www.memoryprotectiondevices.com/datash...     others   \n",
       "2567  https://www.memoryprotectiondevices.com/datash...     others   \n",
       "2568  http://www.switchcomp.com/switchcomp_ecommerce...     others   \n",
       "2569  http://www.switchcomp.com/switchcomp_ecommerce...     others   \n",
       "\n",
       "                                              fixed_url  \n",
       "0     https://lfillumination.com/files/specsheets/EF...  \n",
       "1     https://lfillumination.com/files/specsheets/EF...  \n",
       "2     https://lfillumination.com/files/specsheets/EF...  \n",
       "3     https://www.waclighting.com/storage/waclightin...  \n",
       "4     https://www.acuitybrands.com/api/products/geta...  \n",
       "...                                                 ...  \n",
       "2565  https://www.memoryprotectiondevices.com/datash...  \n",
       "2566  https://www.memoryprotectiondevices.com/datash...  \n",
       "2567  https://www.memoryprotectiondevices.com/datash...  \n",
       "2568  http://www.switchcomp.com/switchcomp_ecommerce...  \n",
       "2569  http://www.switchcomp.com/switchcomp_ecommerce...  \n",
       "\n",
       "[2570 rows x 3 columns]"
      ]
     },
     "execution_count": 11,
     "metadata": {},
     "output_type": "execute_result"
    }
   ],
   "source": [
    "df['fixed_url'] = df['datasheet_link'].apply(fix_digikey_url)\n",
    "df"
   ]
  },
  {
   "cell_type": "markdown",
   "metadata": {},
   "source": [
    "###   Creating Dataset"
   ]
  },
  {
   "cell_type": "code",
   "execution_count": 13,
   "metadata": {},
   "outputs": [],
   "source": [
    "# ! pip install PyPDF2"
   ]
  },
  {
   "cell_type": "code",
   "execution_count": 14,
   "metadata": {},
   "outputs": [],
   "source": [
    "import requests\n",
    "import PyPDF2\n",
    "import io"
   ]
  },
  {
   "cell_type": "code",
   "execution_count": 15,
   "metadata": {},
   "outputs": [],
   "source": [
    "# for i in range(0,len(df)):\n",
    "#     if df['fixed_url'].iloc[i]=='-':\n",
    "#         print(i)\n",
    "#     else:\n",
    "#         continue"
   ]
  },
  {
   "cell_type": "code",
   "execution_count": 16,
   "metadata": {},
   "outputs": [],
   "source": [
    "import time"
   ]
  },
  {
   "cell_type": "code",
   "execution_count": 26,
   "metadata": {},
   "outputs": [],
   "source": [
    "def fetch_pdf_text(url):\n",
    "    start_time=time.time()\n",
    "    response = requests.get(url, timeout=20)\n",
    "    total_time=time.time()-start_time\n",
    "    status_code = response.status_code\n",
    "    \n",
    "    # Check HTTP status codes\n",
    "    if status_code == 404:\n",
    "        return f\"Error 404: Not found => {url}\"\n",
    "    elif status_code != 200:\n",
    "        return f\"Error {status_code}: Failed to download => {url}\"\n",
    "    \n",
    "    return response, status_code, total_time\n",
    "\n",
    "\n",
    "def return_pdf_text(response):\n",
    "    pdf_file = io.BytesIO(response.content)\n",
    "    \n",
    "    # Create PDF reader object\n",
    "    pdf_reader = PyPDF2.PdfReader(pdf_file)\n",
    "    \n",
    "    # Extract text from all pages\n",
    "    text = \"\"\n",
    "    for page in pdf_reader.pages:\n",
    "        text += page.extract_text()\n",
    "    \n",
    "    return text.strip()\n",
    "\n",
    "\n",
    "def read_pdf_from_url(url):\n",
    "    try:\n",
    "        if url == '-':\n",
    "            return \"No URL provided\", -1, 0 \n",
    "        \n",
    "        response, status_code, total_time = fetch_pdf_text(url)\n",
    "        text = return_pdf_text(response)\n",
    "        \n",
    "        # If fetch_pdf_text returned an error string instead of a response object:\n",
    "        if isinstance(response, str):\n",
    "            return response, status_code, total_time\n",
    "        \n",
    "        text = return_pdf_text(response)\n",
    "        # print(url + \":\" +text[:100])\n",
    "        # print(text[:100], status_code)\n",
    "        return text, status_code, total_time\n",
    "    \n",
    "    except requests.exceptions.Timeout:\n",
    "        return f\"Timeout: Could not retrieve PDF from {url}\", 0, 0\n",
    "    except requests.RequestException as e:\n",
    "        return f\"Error downloading PDF: {str(e)}\", -1, 0\n",
    "    except Exception as e:\n",
    "        return f\"Error processing PDF: {str(e)}\", -1, 0"
   ]
  },
  {
   "cell_type": "code",
   "execution_count": 30,
   "metadata": {},
   "outputs": [
    {
     "data": {
      "text/html": [
       "<div>\n",
       "<style scoped>\n",
       "    .dataframe tbody tr th:only-of-type {\n",
       "        vertical-align: middle;\n",
       "    }\n",
       "\n",
       "    .dataframe tbody tr th {\n",
       "        vertical-align: top;\n",
       "    }\n",
       "\n",
       "    .dataframe thead th {\n",
       "        text-align: right;\n",
       "    }\n",
       "</style>\n",
       "<table border=\"1\" class=\"dataframe\">\n",
       "  <thead>\n",
       "    <tr style=\"text-align: right;\">\n",
       "      <th></th>\n",
       "      <th>fixed_url</th>\n",
       "      <th>target_col</th>\n",
       "    </tr>\n",
       "  </thead>\n",
       "  <tbody>\n",
       "    <tr>\n",
       "      <th>388</th>\n",
       "      <td>https://www.kelvix.com/product/vine/spec-sheet/</td>\n",
       "      <td>lighting</td>\n",
       "    </tr>\n",
       "  </tbody>\n",
       "</table>\n",
       "</div>"
      ],
      "text/plain": [
       "                                           fixed_url target_col\n",
       "388  https://www.kelvix.com/product/vine/spec-sheet/   lighting"
      ]
     },
     "execution_count": 30,
     "metadata": {},
     "output_type": "execute_result"
    }
   ],
   "source": [
    "# Select 5 samples from the dataframe\n",
    "sample_df = df.sample(1)\n",
    "sample_df[['fixed_url', 'target_col']]"
   ]
  },
  {
   "cell_type": "code",
   "execution_count": 31,
   "metadata": {},
   "outputs": [
    {
     "name": "stdout",
     "output_type": "stream",
     "text": [
      "('Conforms to ANSI/UL Standard 2108\\nCertified to CAN/CSA Standard C22.2 No. 250.0\\nQuestions/Support   |   800-789-3810   |   quotes@kelvix.com 102324JDFixture Type:\\nProject:\\nLocation:\\nPRODUCT FEATURES\\n• 360º Continuous Light Source\\n• Universal Dimming\\n• 36,000 Hour Life\\n• IP65 Rated for Outdoor Use\\n• Factory-Installed Power Feed\\n• Injection-Molded Flush End Caps\\n• For Use with 24V Power SuppliesBEND RADIUS\\nSPECIFICATIONS\\nSeries VN—Vine™\\nInput Voltage 24V DC\\nMax Run Length Unlimited, Power Feed Every 16.4ft\\nBeam Angle 360°\\nDimensions 1\" (25mm)\\nProduction Intervals 0.47\" (11.9mm)\\nCRI 90+Min Bend Radius 4.72\" (120mm)\\nDimming OptionsWatts per Foot 4.39 W/FT\\nTemp Range -22°F (-30°C) to 131°F (55°C)PWM, Triac, 0-10V, DMX, Hi-lumeORDERING INFORMATION\\nExample:  VN-25-48-30K-E-72\\nLength\\nInches(Unlimited)Color\\n24K - 2400K\\n27K - 2700K30K - 3000K35K - 3500K40K - 4000KE - End FeedSF - Side FeedFeed Point Feed Length\\n72 - 72 Inch (Standard)192 - 192 InchVN27K\\n2700K\\n268 lm/ftVN24K\\n2400K\\n230 lm/ftVN30K\\n3000K\\n275 lm/ftVN35K\\n3500K\\n281 lm/ftVN40K\\n4000K\\n290 lm/ftKelvin \\nLumens MODEL: 4.72\"VN-SERIES   |   FLEXIBLE LIGHTING SYSTEMVINE™\\nSeries\\nVN - VineVNDiameter\\n25 - 1 Inch (25mm)25Questions/Support   |   800-789-3810   |   quotes@kelvix.com 102324JDVINE™ MOUNTING AND ACCESSORIES\\nSPECIFICATIONS\\nModel VN-25-CP\\nMaterial Clear Polycarbonate\\nLength 0.984\" (25mm)\\nWidth 2.032\" (51.6mm)\\nHeight 1.063\" (27mm)\\nInternal Width 1\" (25.4mm)VISIBLE MOUNTING CLIP\\n2.032\" (51.6mm)1.063\" \\n(27mm)\\n1\" (25.4mm)\\nSPECIFICATIONS\\nModel VN-25-CCP\\nMaterial Clear Polycarbonate\\nLength 1.43\" (36mm)\\nWidth 0.75\" (19mm)\\nHeight 0.27\" (7mm)\\nEffective Height 0.11\" (3tmm)CONCEALED MOUNTING CLIP \\n1.43\" (36mm)\\n.75\" \\n(19mm)\\nSurface Mounts Straight \\nor Curved Runs\\nSurface Mounts Straight \\nor Curved RunsOR\\nOR\\nQuestions/Support   |   800-789-3810   |   quotes@kelvix.com 102324JDVINE™ MOUNTING AND ACCESSORIES\\nSPECIFICATIONS\\nModel VN-25-MA-FF\\nMaterial Aluminum\\nLength 1.654\" (42mm)\\nDiameter 1.28\" (32.5mm)\\nInternal Diameter 1\" (25.4mm)ARCH\\n1.1\" \\n(28mm)1.28\" (32.5mm)1.654\" \\n(42mm)1.26\" \\n(32mm)\\n1.1\" (28mm) 1.28\" (32.5mm)1.654\" \\n(42mm)1.26\" \\n(32mm)SPECIFICATIONS\\nModel VN-25-CS\\nMaterial Aluminum\\nLength 1.358\" (34.5mm)\\nDiameter 1.22\" (31mm)\\nInternal Diameter 1\" (25.4mm)SPLICE\\n1.22\" \\n(31mm)0.315\" \\n(8mm)1.26\" \\n(32mm)\\nConnects Power Feed \\nEnd to Terminal End\\nFor use with Side Feed option\\nSurface Mounts Power Feed \\nEnd and Terminal End\\nQuestions/Support   |   800-789-3810   |   quotes@kelvix.com 102324JDVINE™ MOUNTING AND ACCESSORIES\\nSPECIFICATIONS\\nModel VN-25-FP-FF\\nMaterial Aluminum\\nEC Length 1.32\" (33.5mm)\\nEC Diameter 1.24\" (31.5mm)\\nCM Length 1.654\" (42mm)\\nCM Diameter 1.28\" (32.5mm)Model w/ Sleeve* VN-25-FP-2M\\nInternal Diameter\\n*Polycarbonate sleeve (not pictured) is \\n required for Vine to hang perfectly vertical.1\" (25.4mm)FLUSH PENDANT\\n1.1\" \\n(28mm)1.24\" (31.5mm)1.32\" \\n(33.5mm)1.122\" (28.5mm)EC—End Cap\\nCM—Ceiling Mount\\n*Polycarbonate sleeve (not pictured) is \\n required for Vine to hang perfectly vertical.SPECIFICATIONS\\nModel VN-25-SP-V-FF\\nMaterial Aluminum\\nECLength\\n2.68\" (68mm)EC Diameter\\n1.24\" (31.5mm)SP Length1.654\" (42mm)\\nSP Diameter1.24\" (31.5mm)Model w/ Sleeve* VN-25-SP-V-2M\\nInternal Diameter 1\" (25.4mm)\\nCable Length Variable, 6ft maxSUSPENDED PENDANT\\n1.1\" \\n(28mm)1.24\" (31.5mm)1.32\" \\n(33.5mm)1.122\" \\n(28.5mm)EC—End Cap\\nSP—Suspended Pendant\\n1.5\" \\n(38mm)2.68\" \\n(68mm)\\n1.24\" \\n(31.5mm)\\n0.59\" (15mm)\\nSurface Mounts Power Feed \\nEnd and Caps Terminal End\\nSuspends Power Feed \\nEnd and Caps Terminal End1.1\" (28mm) 1.28\" (32.5mm)1.654\" \\n(42mm)1.26\" \\n(32mm)\\nQuestions/Support   |   800-789-3810   |   quotes@kelvix.com 102324JDVINE™ MOUNTING AND ACCESSORIES\\nSPECIFICATIONS\\nModel VN-25-RCP-038\\nMaterial Clear Polycarbonate\\nWidth 1.15\" (29.3mm)\\nDiameter 1.04\" (26.3mm)\\nLength 1.50\" (38.0mm)\\nHeight 1.29\" (32.7mm)Model w/ Sleeve* VN-25-RCP-038-2M\\nVN-25-RCP-SP Suspension Kit\\n*Polycarbonate sleeve (not pictured) is \\n required for Vine to hang perfectly straight. \\nIllustration shows mounting with Side Feed option.RING CLIP MOUNT\\n1.04\" \\n(26.3mm)1.15\" \\n(29.3mm)\\nM5 Stud × 0.19\" (4.9mm) long\\nCan be used with Universal \\nStandoﬀ or Suspension \\nCable accessories1.29\" \\n(32.7mm)1.50\" \\n(38.0mm)Front View\\nSide View', 200, 6.7120115756988525) <class 'tuple'>\n"
     ]
    }
   ],
   "source": [
    "sample_results= read_pdf_from_url(sample_df['fixed_url'].iloc[0])\n",
    "# sample_results=(sample_df['fixed_url'].apply(read_pdf_from_url))\n",
    "print(sample_results, type(sample_results))"
   ]
  },
  {
   "cell_type": "code",
   "execution_count": 32,
   "metadata": {},
   "outputs": [
    {
     "data": {
      "text/html": [
       "<div>\n",
       "<style scoped>\n",
       "    .dataframe tbody tr th:only-of-type {\n",
       "        vertical-align: middle;\n",
       "    }\n",
       "\n",
       "    .dataframe tbody tr th {\n",
       "        vertical-align: top;\n",
       "    }\n",
       "\n",
       "    .dataframe thead th {\n",
       "        text-align: right;\n",
       "    }\n",
       "</style>\n",
       "<table border=\"1\" class=\"dataframe\">\n",
       "  <thead>\n",
       "    <tr style=\"text-align: right;\">\n",
       "      <th></th>\n",
       "      <th>datasheet_link</th>\n",
       "      <th>pdf_text_sample</th>\n",
       "      <th>link_status_code</th>\n",
       "      <th>link_time_taken</th>\n",
       "    </tr>\n",
       "  </thead>\n",
       "  <tbody>\n",
       "    <tr>\n",
       "      <th>388</th>\n",
       "      <td>https://www.kelvix.com/product/vine/spec-sheet/</td>\n",
       "      <td>Conforms to ANSI/UL Standard 2108\\nCertified t...</td>\n",
       "      <td>200</td>\n",
       "      <td>6.712012</td>\n",
       "    </tr>\n",
       "  </tbody>\n",
       "</table>\n",
       "</div>"
      ],
      "text/plain": [
       "                                      datasheet_link  \\\n",
       "388  https://www.kelvix.com/product/vine/spec-sheet/   \n",
       "\n",
       "                                       pdf_text_sample  link_status_code  \\\n",
       "388  Conforms to ANSI/UL Standard 2108\\nCertified t...               200   \n",
       "\n",
       "     link_time_taken  \n",
       "388         6.712012  "
      ]
     },
     "execution_count": 32,
     "metadata": {},
     "output_type": "execute_result"
    }
   ],
   "source": [
    "sample_df['pdf_text_sample'] , sample_df['link_status_code'], sample_df['link_time_taken'] = sample_results[0], sample_results[1], sample_results[2]\n",
    "sample_df[['datasheet_link', 'pdf_text_sample', 'link_status_code', 'link_time_taken']]"
   ]
  },
  {
   "cell_type": "markdown",
   "metadata": {},
   "source": [
    "#### Completing for all PDF"
   ]
  },
  {
   "cell_type": "code",
   "execution_count": null,
   "metadata": {},
   "outputs": [],
   "source": [
    "# from tqdm import tqdm\n",
    "# tqdm.pandas()\n",
    "# df['pdf_text'] = df['fixed_url'].progress_apply(read_pdf_from_url)\n",
    "# df.head()"
   ]
  },
  {
   "cell_type": "code",
   "execution_count": 33,
   "metadata": {},
   "outputs": [],
   "source": [
    "import multiprocessing\n",
    "from tqdm import tqdm\n",
    "tqdm.pandas()\n",
    "\n",
    "def multiprocess_read(df, url_column='fixed_url'):\n",
    "    \"\"\"Use multiple processes + tqdm to apply read_pdf_from_url.\"\"\"\n",
    "    with multiprocessing.Pool() as pool:\n",
    "        results = list(tqdm(pool.imap(read_pdf_from_url, df[url_column]), total=len(df)))\n",
    "    \n",
    "    # Unpack results (list of (text, status_code)) into separate columns\n",
    "    pdf_text_sample, link_status_code, link_time_taken = zip(*results)\n",
    "    df['pdf_text_sample'] = pdf_text_sample\n",
    "    df['link_status_code'] = link_status_code\n",
    "    df['link_time_taken'] = link_time_taken\n",
    "    \n",
    "    return df"
   ]
  },
  {
   "cell_type": "code",
   "execution_count": 34,
   "metadata": {},
   "outputs": [
    {
     "name": "stderr",
     "output_type": "stream",
     "text": [
      "  2%|▏         | 55/2570 [00:26<13:26,  3.12it/s] unknown widths : \n",
      "[0, IndirectObject(503, 0, 130432004637200)]\n",
      "unknown widths : \n",
      "[0, IndirectObject(498, 0, 130432004637200)]\n",
      "unknown widths : \n",
      "[0, IndirectObject(503, 0, 130432004637200)]\n",
      "unknown widths : \n",
      "[0, IndirectObject(498, 0, 130432004637200)]\n",
      "unknown widths : \n",
      "[0, IndirectObject(503, 0, 130431964797136)]\n",
      "unknown widths : \n",
      "[0, IndirectObject(498, 0, 130431964797136)]\n",
      "unknown widths : \n",
      "[0, IndirectObject(503, 0, 130431964797136)]\n",
      "unknown widths : \n",
      "[0, IndirectObject(498, 0, 130431964797136)]\n",
      "  2%|▏         | 56/2570 [00:28<17:32,  2.39it/s]unknown widths : \n",
      "[0, IndirectObject(845, 0, 130432020410064)]\n",
      "unknown widths : \n",
      "[0, IndirectObject(840, 0, 130432020410064)]\n",
      "unknown widths : \n",
      "[0, IndirectObject(543, 0, 130432020410064)]\n",
      "unknown widths : \n",
      "[0, IndirectObject(538, 0, 130432020410064)]\n",
      "unknown widths : \n",
      "[0, IndirectObject(845, 0, 130431966019536)]\n",
      "unknown widths : \n",
      "[0, IndirectObject(840, 0, 130431966019536)]\n",
      "unknown widths : \n",
      "[0, IndirectObject(543, 0, 130431966019536)]\n",
      "unknown widths : \n",
      "[0, IndirectObject(538, 0, 130431966019536)]\n",
      " 23%|██▎       | 584/2570 [04:16<46:25,  1.40s/it]  Overwriting cache for 0 984\n",
      " 25%|██▌       | 646/2570 [04:26<07:43,  4.15it/s]Overwriting cache for 0 984\n",
      " 26%|██▋       | 680/2570 [04:54<19:05,  1.65it/s]Overwriting cache for 0 4181\n",
      "Overwriting cache for 0 4181\n",
      " 27%|██▋       | 692/2570 [05:06<24:09,  1.30it/s]Overwriting cache for 0 2498\n",
      "Overwriting cache for 0 2498\n",
      " 37%|███▋      | 940/2570 [06:31<14:29,  1.87it/s]Overwriting cache for 0 815\n",
      "Overwriting cache for 0 815\n",
      "Overwriting cache for 0 815\n",
      "Overwriting cache for 0 815\n",
      "Overwriting cache for 0 644\n",
      "Overwriting cache for 0 644\n",
      " 68%|██████▊   | 1753/2570 [16:53<29:46,  2.19s/it]  Overwriting cache for 0 2498\n",
      "Overwriting cache for 0 2498\n",
      " 71%|███████   | 1823/2570 [17:07<02:55,  4.26it/s]Overwriting cache for 0 2498\n",
      "Overwriting cache for 0 2498\n",
      "Overwriting cache for 0 2498\n",
      "Overwriting cache for 0 2498\n",
      "Overwriting cache for 0 2498\n",
      "Overwriting cache for 0 2498\n",
      " 75%|███████▌  | 1938/2570 [17:15<01:02, 10.17it/s]Overwriting cache for 0 1324\n",
      "Overwriting cache for 0 1324\n",
      "Overwriting cache for 0 1324\n",
      "Overwriting cache for 0 1324\n",
      "Overwriting cache for 0 2498\n",
      "Overwriting cache for 0 2498\n",
      " 92%|█████████▏| 2369/2570 [21:22<01:57,  1.71it/s]unknown widths : \n",
      "[0, IndirectObject(164, 0, 130431986314064)]\n",
      "unknown widths : \n",
      "[0, IndirectObject(168, 0, 130431986314064)]\n",
      "unknown widths : \n",
      "[0, IndirectObject(172, 0, 130431986314064)]\n",
      "unknown widths : \n",
      "[0, IndirectObject(176, 0, 130431986314064)]\n",
      "unknown widths : \n",
      "[0, IndirectObject(180, 0, 130431986314064)]\n",
      "unknown widths : \n",
      "[0, IndirectObject(184, 0, 130431986314064)]\n",
      "unknown widths : \n",
      "[0, IndirectObject(188, 0, 130431986314064)]\n",
      "unknown widths : \n",
      "[0, IndirectObject(192, 0, 130431986314064)]\n",
      "unknown widths : \n",
      "[0, IndirectObject(196, 0, 130431986314064)]\n",
      "unknown widths : \n",
      "[0, IndirectObject(200, 0, 130431986314064)]\n",
      "unknown widths : \n",
      "[0, IndirectObject(204, 0, 130431986314064)]\n",
      "unknown widths : \n",
      "[0, IndirectObject(208, 0, 130431986314064)]\n",
      "unknown widths : \n",
      "[0, IndirectObject(164, 0, 130431961842384)]\n",
      "unknown widths : \n",
      "[0, IndirectObject(168, 0, 130431961842384)]\n",
      "unknown widths : \n",
      "[0, IndirectObject(172, 0, 130431961842384)]\n",
      "unknown widths : \n",
      "[0, IndirectObject(176, 0, 130431961842384)]\n",
      "unknown widths : \n",
      "[0, IndirectObject(180, 0, 130431961842384)]\n",
      "unknown widths : \n",
      "[0, IndirectObject(184, 0, 130431961842384)]\n",
      "unknown widths : \n",
      "[0, IndirectObject(188, 0, 130431961842384)]\n",
      "unknown widths : \n",
      "[0, IndirectObject(192, 0, 130431961842384)]\n",
      "unknown widths : \n",
      "[0, IndirectObject(196, 0, 130431961842384)]\n",
      "unknown widths : \n",
      "[0, IndirectObject(200, 0, 130431961842384)]\n",
      "unknown widths : \n",
      "[0, IndirectObject(204, 0, 130431961842384)]\n",
      "unknown widths : \n",
      "[0, IndirectObject(208, 0, 130431961842384)]\n",
      " 94%|█████████▎| 2407/2570 [21:34<00:46,  3.50it/s]unknown widths : \n",
      "[0, IndirectObject(210, 0, 130433240232080)]\n",
      "unknown widths : \n",
      "[0, IndirectObject(210, 0, 130431960201616)]\n",
      "100%|██████████| 2570/2570 [22:25<00:00,  1.91it/s]"
     ]
    },
    {
     "name": "stdout",
     "output_type": "stream",
     "text": [
      "                                         datasheet_link  \\\n",
      "0     https://lfillumination.com/files/specsheets/EF...   \n",
      "1     https://lfillumination.com/files/specsheets/EF...   \n",
      "2     https://lfillumination.com/files/specsheets/EF...   \n",
      "3     https://www.waclighting.com/storage/waclightin...   \n",
      "4     https://www.acuitybrands.com/api/products/geta...   \n",
      "...                                                 ...   \n",
      "2565  https://www.memoryprotectiondevices.com/datash...   \n",
      "2566  https://www.memoryprotectiondevices.com/datash...   \n",
      "2567  https://www.memoryprotectiondevices.com/datash...   \n",
      "2568  http://www.switchcomp.com/switchcomp_ecommerce...   \n",
      "2569  http://www.switchcomp.com/switchcomp_ecommerce...   \n",
      "\n",
      "                                        pdf_text_sample  link_status_code  \n",
      "0     EF400 System  # EF408B\\nDIE CAST CYLINDRICAL L...               200  \n",
      "1     Error processing PDF: too many values to unpac...                -1  \n",
      "2     EF400 System  # EF407B\\nDIE CAST CYLINDRICAL L...               200  \n",
      "3     ADJ UST ABLE BEAM WALL  WASH  12V\\n5221\\nORDER...               200  \n",
      "4     Type:\\nProject:HDMC\\nSurface Mount with FAR-UV...               200  \n",
      "...                                                 ...               ...  \n",
      "2565  Error processing PDF: too many values to unpac...                -1  \n",
      "2566  Error processing PDF: too many values to unpac...                -1  \n",
      "2567  Error processing PDF: too many values to unpac...                -1  \n",
      "2568  Mechanical Dimensions: Inches [mm]\\nMounting H...               200  \n",
      "2569  Mechanical Dimensions: Inches [mm]\\nMounting H...               200  \n",
      "\n",
      "[2570 rows x 3 columns]\n"
     ]
    },
    {
     "name": "stderr",
     "output_type": "stream",
     "text": [
      "\n"
     ]
    }
   ],
   "source": [
    "dataset = multiprocess_read(df, 'fixed_url')\n",
    "print(dataset[['datasheet_link','pdf_text_sample','link_status_code']])"
   ]
  },
  {
   "cell_type": "code",
   "execution_count": 35,
   "metadata": {},
   "outputs": [
    {
     "data": {
      "text/html": [
       "<div>\n",
       "<style scoped>\n",
       "    .dataframe tbody tr th:only-of-type {\n",
       "        vertical-align: middle;\n",
       "    }\n",
       "\n",
       "    .dataframe tbody tr th {\n",
       "        vertical-align: top;\n",
       "    }\n",
       "\n",
       "    .dataframe thead th {\n",
       "        text-align: right;\n",
       "    }\n",
       "</style>\n",
       "<table border=\"1\" class=\"dataframe\">\n",
       "  <thead>\n",
       "    <tr style=\"text-align: right;\">\n",
       "      <th></th>\n",
       "      <th>datasheet_link</th>\n",
       "      <th>target_col</th>\n",
       "      <th>fixed_url</th>\n",
       "      <th>pdf_text_sample</th>\n",
       "      <th>link_status_code</th>\n",
       "      <th>link_time_taken</th>\n",
       "    </tr>\n",
       "  </thead>\n",
       "  <tbody>\n",
       "    <tr>\n",
       "      <th>0</th>\n",
       "      <td>https://lfillumination.com/files/specsheets/EF...</td>\n",
       "      <td>lighting</td>\n",
       "      <td>https://lfillumination.com/files/specsheets/EF...</td>\n",
       "      <td>EF400 System  # EF408B\\nDIE CAST CYLINDRICAL L...</td>\n",
       "      <td>200</td>\n",
       "      <td>2.461363</td>\n",
       "    </tr>\n",
       "    <tr>\n",
       "      <th>1</th>\n",
       "      <td>https://lfillumination.com/files/specsheets/EF...</td>\n",
       "      <td>lighting</td>\n",
       "      <td>https://lfillumination.com/files/specsheets/EF...</td>\n",
       "      <td>Error processing PDF: too many values to unpac...</td>\n",
       "      <td>-1</td>\n",
       "      <td>0.000000</td>\n",
       "    </tr>\n",
       "    <tr>\n",
       "      <th>2</th>\n",
       "      <td>https://lfillumination.com/files/specsheets/EF...</td>\n",
       "      <td>lighting</td>\n",
       "      <td>https://lfillumination.com/files/specsheets/EF...</td>\n",
       "      <td>EF400 System  # EF407B\\nDIE CAST CYLINDRICAL L...</td>\n",
       "      <td>200</td>\n",
       "      <td>2.166040</td>\n",
       "    </tr>\n",
       "    <tr>\n",
       "      <th>3</th>\n",
       "      <td>https://www.waclighting.com/storage/waclightin...</td>\n",
       "      <td>lighting</td>\n",
       "      <td>https://www.waclighting.com/storage/waclightin...</td>\n",
       "      <td>ADJ UST ABLE BEAM WALL  WASH  12V\\n5221\\nORDER...</td>\n",
       "      <td>200</td>\n",
       "      <td>0.786168</td>\n",
       "    </tr>\n",
       "    <tr>\n",
       "      <th>4</th>\n",
       "      <td>https://www.acuitybrands.com/api/products/geta...</td>\n",
       "      <td>lighting</td>\n",
       "      <td>https://www.acuitybrands.com/api/products/geta...</td>\n",
       "      <td>Type:\\nProject:HDMC\\nSurface Mount with FAR-UV...</td>\n",
       "      <td>200</td>\n",
       "      <td>7.811381</td>\n",
       "    </tr>\n",
       "  </tbody>\n",
       "</table>\n",
       "</div>"
      ],
      "text/plain": [
       "                                      datasheet_link target_col  \\\n",
       "0  https://lfillumination.com/files/specsheets/EF...   lighting   \n",
       "1  https://lfillumination.com/files/specsheets/EF...   lighting   \n",
       "2  https://lfillumination.com/files/specsheets/EF...   lighting   \n",
       "3  https://www.waclighting.com/storage/waclightin...   lighting   \n",
       "4  https://www.acuitybrands.com/api/products/geta...   lighting   \n",
       "\n",
       "                                           fixed_url  \\\n",
       "0  https://lfillumination.com/files/specsheets/EF...   \n",
       "1  https://lfillumination.com/files/specsheets/EF...   \n",
       "2  https://lfillumination.com/files/specsheets/EF...   \n",
       "3  https://www.waclighting.com/storage/waclightin...   \n",
       "4  https://www.acuitybrands.com/api/products/geta...   \n",
       "\n",
       "                                     pdf_text_sample  link_status_code  \\\n",
       "0  EF400 System  # EF408B\\nDIE CAST CYLINDRICAL L...               200   \n",
       "1  Error processing PDF: too many values to unpac...                -1   \n",
       "2  EF400 System  # EF407B\\nDIE CAST CYLINDRICAL L...               200   \n",
       "3  ADJ UST ABLE BEAM WALL  WASH  12V\\n5221\\nORDER...               200   \n",
       "4  Type:\\nProject:HDMC\\nSurface Mount with FAR-UV...               200   \n",
       "\n",
       "   link_time_taken  \n",
       "0         2.461363  \n",
       "1         0.000000  \n",
       "2         2.166040  \n",
       "3         0.786168  \n",
       "4         7.811381  "
      ]
     },
     "execution_count": 35,
     "metadata": {},
     "output_type": "execute_result"
    }
   ],
   "source": [
    "df.head()"
   ]
  },
  {
   "cell_type": "code",
   "execution_count": 37,
   "metadata": {},
   "outputs": [],
   "source": [
    "df.to_csv(os.path.join(BASE_PATH_TO_DATASETS, 'modified_dataset_v1.xlsx'), index=False)"
   ]
  },
  {
   "cell_type": "code",
   "execution_count": null,
   "metadata": {},
   "outputs": [],
   "source": []
  },
  {
   "cell_type": "code",
   "execution_count": null,
   "metadata": {},
   "outputs": [],
   "source": []
  },
  {
   "cell_type": "code",
   "execution_count": null,
   "metadata": {},
   "outputs": [],
   "source": []
  }
 ],
 "metadata": {
  "kernelspec": {
   "display_name": "base",
   "language": "python",
   "name": "python3"
  },
  "language_info": {
   "codemirror_mode": {
    "name": "ipython",
    "version": 3
   },
   "file_extension": ".py",
   "mimetype": "text/x-python",
   "name": "python",
   "nbconvert_exporter": "python",
   "pygments_lexer": "ipython3",
   "version": "3.11.7"
  }
 },
 "nbformat": 4,
 "nbformat_minor": 2
}
