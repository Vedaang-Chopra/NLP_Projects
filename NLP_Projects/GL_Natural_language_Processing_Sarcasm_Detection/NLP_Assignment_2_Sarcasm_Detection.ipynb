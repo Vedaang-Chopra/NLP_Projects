{
 "cells": [
  {
   "cell_type": "markdown",
   "metadata": {
    "id": "bPnkXAn-kdGX"
   },
   "source": [
    "# Sarcasm Detection"
   ]
  },
  {
   "cell_type": "code",
   "execution_count": 107,
   "metadata": {
    "colab": {
     "base_uri": "https://localhost:8080/"
    },
    "id": "n3SjCKGpfKJq",
    "outputId": "5239a921-b997-4142-b6a7-65a8e3d89988"
   },
   "outputs": [
    {
     "name": "stdout",
     "output_type": "stream",
     "text": [
      "Drive already mounted at /content/drive; to attempt to forcibly remount, call drive.mount(\"/content/drive\", force_remount=True).\n"
     ]
    }
   ],
   "source": [
    "from google.colab import drive\n",
    "drive.mount('/content/drive')"
   ]
  },
  {
   "cell_type": "code",
   "execution_count": 108,
   "metadata": {
    "id": "8Y9zID-ukDd6"
   },
   "outputs": [],
   "source": [
    "import numpy as np\n",
    "import pandas as pd\n",
    "import matplotlib.pyplot as plt\n",
    "import seaborn as sns "
   ]
  },
  {
   "cell_type": "code",
   "execution_count": 109,
   "metadata": {
    "colab": {
     "base_uri": "https://localhost:8080/"
    },
    "id": "ZuKQ24JukNK0",
    "outputId": "b996d76a-1266-46f9-b355-7afd90176eed"
   },
   "outputs": [
    {
     "name": "stdout",
     "output_type": "stream",
     "text": [
      "/usr/lib/python3.6/runpy.py:125: RuntimeWarning: 'nltk.downloader' found in sys.modules after import of package 'nltk', but prior to execution of 'nltk.downloader'; this may result in unpredictable behaviour\n",
      "  warn(RuntimeWarning(msg))\n",
      "[nltk_data] Downloading collection 'all'\n",
      "[nltk_data]    | \n",
      "[nltk_data]    | Downloading package abc to /root/nltk_data...\n",
      "[nltk_data]    |   Package abc is already up-to-date!\n",
      "[nltk_data]    | Downloading package alpino to /root/nltk_data...\n",
      "[nltk_data]    |   Package alpino is already up-to-date!\n",
      "[nltk_data]    | Downloading package biocreative_ppi to\n",
      "[nltk_data]    |     /root/nltk_data...\n",
      "[nltk_data]    |   Package biocreative_ppi is already up-to-date!\n",
      "[nltk_data]    | Downloading package brown to /root/nltk_data...\n",
      "[nltk_data]    |   Package brown is already up-to-date!\n",
      "[nltk_data]    | Downloading package brown_tei to /root/nltk_data...\n",
      "[nltk_data]    |   Package brown_tei is already up-to-date!\n",
      "[nltk_data]    | Downloading package cess_cat to /root/nltk_data...\n",
      "[nltk_data]    |   Package cess_cat is already up-to-date!\n",
      "[nltk_data]    | Downloading package cess_esp to /root/nltk_data...\n",
      "[nltk_data]    |   Package cess_esp is already up-to-date!\n",
      "[nltk_data]    | Downloading package chat80 to /root/nltk_data...\n",
      "[nltk_data]    |   Package chat80 is already up-to-date!\n",
      "[nltk_data]    | Downloading package city_database to\n",
      "[nltk_data]    |     /root/nltk_data...\n",
      "[nltk_data]    |   Package city_database is already up-to-date!\n",
      "[nltk_data]    | Downloading package cmudict to /root/nltk_data...\n",
      "[nltk_data]    |   Package cmudict is already up-to-date!\n",
      "[nltk_data]    | Downloading package comparative_sentences to\n",
      "[nltk_data]    |     /root/nltk_data...\n",
      "[nltk_data]    |   Package comparative_sentences is already up-to-\n",
      "[nltk_data]    |       date!\n",
      "[nltk_data]    | Downloading package comtrans to /root/nltk_data...\n",
      "[nltk_data]    |   Package comtrans is already up-to-date!\n",
      "[nltk_data]    | Downloading package conll2000 to /root/nltk_data...\n",
      "[nltk_data]    |   Package conll2000 is already up-to-date!\n",
      "[nltk_data]    | Downloading package conll2002 to /root/nltk_data...\n",
      "[nltk_data]    |   Package conll2002 is already up-to-date!\n",
      "[nltk_data]    | Downloading package conll2007 to /root/nltk_data...\n",
      "[nltk_data]    |   Package conll2007 is already up-to-date!\n",
      "[nltk_data]    | Downloading package crubadan to /root/nltk_data...\n",
      "[nltk_data]    |   Package crubadan is already up-to-date!\n",
      "[nltk_data]    | Downloading package dependency_treebank to\n",
      "[nltk_data]    |     /root/nltk_data...\n",
      "[nltk_data]    |   Package dependency_treebank is already up-to-date!\n",
      "[nltk_data]    | Downloading package dolch to /root/nltk_data...\n",
      "[nltk_data]    |   Package dolch is already up-to-date!\n",
      "[nltk_data]    | Downloading package europarl_raw to\n",
      "[nltk_data]    |     /root/nltk_data...\n",
      "[nltk_data]    |   Package europarl_raw is already up-to-date!\n",
      "[nltk_data]    | Downloading package floresta to /root/nltk_data...\n",
      "[nltk_data]    |   Package floresta is already up-to-date!\n",
      "[nltk_data]    | Downloading package framenet_v15 to\n",
      "[nltk_data]    |     /root/nltk_data...\n",
      "[nltk_data]    |   Package framenet_v15 is already up-to-date!\n",
      "[nltk_data]    | Downloading package framenet_v17 to\n",
      "[nltk_data]    |     /root/nltk_data...\n",
      "[nltk_data]    |   Package framenet_v17 is already up-to-date!\n",
      "[nltk_data]    | Downloading package gazetteers to /root/nltk_data...\n",
      "[nltk_data]    |   Package gazetteers is already up-to-date!\n",
      "[nltk_data]    | Downloading package genesis to /root/nltk_data...\n",
      "[nltk_data]    |   Package genesis is already up-to-date!\n",
      "[nltk_data]    | Downloading package gutenberg to /root/nltk_data...\n",
      "[nltk_data]    |   Package gutenberg is already up-to-date!\n",
      "[nltk_data]    | Downloading package ieer to /root/nltk_data...\n",
      "[nltk_data]    |   Package ieer is already up-to-date!\n",
      "[nltk_data]    | Downloading package inaugural to /root/nltk_data...\n",
      "[nltk_data]    |   Package inaugural is already up-to-date!\n",
      "[nltk_data]    | Downloading package indian to /root/nltk_data...\n",
      "[nltk_data]    |   Package indian is already up-to-date!\n",
      "[nltk_data]    | Downloading package jeita to /root/nltk_data...\n",
      "[nltk_data]    |   Package jeita is already up-to-date!\n",
      "[nltk_data]    | Downloading package kimmo to /root/nltk_data...\n",
      "[nltk_data]    |   Package kimmo is already up-to-date!\n",
      "[nltk_data]    | Downloading package knbc to /root/nltk_data...\n",
      "[nltk_data]    |   Package knbc is already up-to-date!\n",
      "[nltk_data]    | Downloading package lin_thesaurus to\n",
      "[nltk_data]    |     /root/nltk_data...\n",
      "[nltk_data]    |   Package lin_thesaurus is already up-to-date!\n",
      "[nltk_data]    | Downloading package mac_morpho to /root/nltk_data...\n",
      "[nltk_data]    |   Package mac_morpho is already up-to-date!\n",
      "[nltk_data]    | Downloading package machado to /root/nltk_data...\n",
      "[nltk_data]    |   Package machado is already up-to-date!\n",
      "[nltk_data]    | Downloading package masc_tagged to /root/nltk_data...\n",
      "[nltk_data]    |   Package masc_tagged is already up-to-date!\n",
      "[nltk_data]    | Downloading package moses_sample to\n",
      "[nltk_data]    |     /root/nltk_data...\n",
      "[nltk_data]    |   Package moses_sample is already up-to-date!\n",
      "[nltk_data]    | Downloading package movie_reviews to\n",
      "[nltk_data]    |     /root/nltk_data...\n",
      "[nltk_data]    |   Package movie_reviews is already up-to-date!\n",
      "[nltk_data]    | Downloading package names to /root/nltk_data...\n",
      "[nltk_data]    |   Package names is already up-to-date!\n",
      "[nltk_data]    | Downloading package nombank.1.0 to /root/nltk_data...\n",
      "[nltk_data]    |   Package nombank.1.0 is already up-to-date!\n",
      "[nltk_data]    | Downloading package nps_chat to /root/nltk_data...\n",
      "[nltk_data]    |   Package nps_chat is already up-to-date!\n",
      "[nltk_data]    | Downloading package omw to /root/nltk_data...\n",
      "[nltk_data]    |   Package omw is already up-to-date!\n",
      "[nltk_data]    | Downloading package opinion_lexicon to\n",
      "[nltk_data]    |     /root/nltk_data...\n",
      "[nltk_data]    |   Package opinion_lexicon is already up-to-date!\n",
      "[nltk_data]    | Downloading package paradigms to /root/nltk_data...\n",
      "[nltk_data]    |   Package paradigms is already up-to-date!\n",
      "[nltk_data]    | Downloading package pil to /root/nltk_data...\n",
      "[nltk_data]    |   Package pil is already up-to-date!\n",
      "[nltk_data]    | Downloading package pl196x to /root/nltk_data...\n",
      "[nltk_data]    |   Package pl196x is already up-to-date!\n",
      "[nltk_data]    | Downloading package ppattach to /root/nltk_data...\n",
      "[nltk_data]    |   Package ppattach is already up-to-date!\n",
      "[nltk_data]    | Downloading package problem_reports to\n",
      "[nltk_data]    |     /root/nltk_data...\n",
      "[nltk_data]    |   Package problem_reports is already up-to-date!\n",
      "[nltk_data]    | Downloading package propbank to /root/nltk_data...\n",
      "[nltk_data]    |   Package propbank is already up-to-date!\n",
      "[nltk_data]    | Downloading package ptb to /root/nltk_data...\n",
      "[nltk_data]    |   Package ptb is already up-to-date!\n",
      "[nltk_data]    | Downloading package product_reviews_1 to\n",
      "[nltk_data]    |     /root/nltk_data...\n",
      "[nltk_data]    |   Package product_reviews_1 is already up-to-date!\n",
      "[nltk_data]    | Downloading package product_reviews_2 to\n",
      "[nltk_data]    |     /root/nltk_data...\n",
      "[nltk_data]    |   Package product_reviews_2 is already up-to-date!\n",
      "[nltk_data]    | Downloading package pros_cons to /root/nltk_data...\n",
      "[nltk_data]    |   Package pros_cons is already up-to-date!\n",
      "[nltk_data]    | Downloading package qc to /root/nltk_data...\n",
      "[nltk_data]    |   Package qc is already up-to-date!\n",
      "[nltk_data]    | Downloading package reuters to /root/nltk_data...\n",
      "[nltk_data]    |   Package reuters is already up-to-date!\n",
      "[nltk_data]    | Downloading package rte to /root/nltk_data...\n",
      "[nltk_data]    |   Package rte is already up-to-date!\n",
      "[nltk_data]    | Downloading package semcor to /root/nltk_data...\n",
      "[nltk_data]    |   Package semcor is already up-to-date!\n",
      "[nltk_data]    | Downloading package senseval to /root/nltk_data...\n",
      "[nltk_data]    |   Package senseval is already up-to-date!\n",
      "[nltk_data]    | Downloading package sentiwordnet to\n",
      "[nltk_data]    |     /root/nltk_data...\n",
      "[nltk_data]    |   Package sentiwordnet is already up-to-date!\n",
      "[nltk_data]    | Downloading package sentence_polarity to\n",
      "[nltk_data]    |     /root/nltk_data...\n",
      "[nltk_data]    |   Package sentence_polarity is already up-to-date!\n",
      "[nltk_data]    | Downloading package shakespeare to /root/nltk_data...\n",
      "[nltk_data]    |   Package shakespeare is already up-to-date!\n",
      "[nltk_data]    | Downloading package sinica_treebank to\n",
      "[nltk_data]    |     /root/nltk_data...\n",
      "[nltk_data]    |   Package sinica_treebank is already up-to-date!\n",
      "[nltk_data]    | Downloading package smultron to /root/nltk_data...\n",
      "[nltk_data]    |   Package smultron is already up-to-date!\n",
      "[nltk_data]    | Downloading package state_union to /root/nltk_data...\n",
      "[nltk_data]    |   Package state_union is already up-to-date!\n",
      "[nltk_data]    | Downloading package stopwords to /root/nltk_data...\n",
      "[nltk_data]    |   Package stopwords is already up-to-date!\n",
      "[nltk_data]    | Downloading package subjectivity to\n",
      "[nltk_data]    |     /root/nltk_data...\n",
      "[nltk_data]    |   Package subjectivity is already up-to-date!\n",
      "[nltk_data]    | Downloading package swadesh to /root/nltk_data...\n",
      "[nltk_data]    |   Package swadesh is already up-to-date!\n",
      "[nltk_data]    | Downloading package switchboard to /root/nltk_data...\n",
      "[nltk_data]    |   Package switchboard is already up-to-date!\n",
      "[nltk_data]    | Downloading package timit to /root/nltk_data...\n",
      "[nltk_data]    |   Package timit is already up-to-date!\n",
      "[nltk_data]    | Downloading package toolbox to /root/nltk_data...\n",
      "[nltk_data]    |   Package toolbox is already up-to-date!\n",
      "[nltk_data]    | Downloading package treebank to /root/nltk_data...\n",
      "[nltk_data]    |   Package treebank is already up-to-date!\n",
      "[nltk_data]    | Downloading package twitter_samples to\n",
      "[nltk_data]    |     /root/nltk_data...\n",
      "[nltk_data]    |   Package twitter_samples is already up-to-date!\n",
      "[nltk_data]    | Downloading package udhr to /root/nltk_data...\n",
      "[nltk_data]    |   Package udhr is already up-to-date!\n",
      "[nltk_data]    | Downloading package udhr2 to /root/nltk_data...\n",
      "[nltk_data]    |   Package udhr2 is already up-to-date!\n",
      "[nltk_data]    | Downloading package unicode_samples to\n",
      "[nltk_data]    |     /root/nltk_data...\n",
      "[nltk_data]    |   Package unicode_samples is already up-to-date!\n",
      "[nltk_data]    | Downloading package universal_treebanks_v20 to\n",
      "[nltk_data]    |     /root/nltk_data...\n",
      "[nltk_data]    |   Package universal_treebanks_v20 is already up-to-\n",
      "[nltk_data]    |       date!\n",
      "[nltk_data]    | Downloading package verbnet to /root/nltk_data...\n",
      "[nltk_data]    |   Package verbnet is already up-to-date!\n",
      "[nltk_data]    | Downloading package verbnet3 to /root/nltk_data...\n",
      "[nltk_data]    |   Package verbnet3 is already up-to-date!\n",
      "[nltk_data]    | Downloading package webtext to /root/nltk_data...\n",
      "[nltk_data]    |   Package webtext is already up-to-date!\n",
      "[nltk_data]    | Downloading package wordnet to /root/nltk_data...\n",
      "[nltk_data]    |   Package wordnet is already up-to-date!\n",
      "[nltk_data]    | Downloading package wordnet_ic to /root/nltk_data...\n",
      "[nltk_data]    |   Package wordnet_ic is already up-to-date!\n",
      "[nltk_data]    | Downloading package words to /root/nltk_data...\n",
      "[nltk_data]    |   Package words is already up-to-date!\n",
      "[nltk_data]    | Downloading package ycoe to /root/nltk_data...\n",
      "[nltk_data]    |   Package ycoe is already up-to-date!\n",
      "[nltk_data]    | Downloading package rslp to /root/nltk_data...\n",
      "[nltk_data]    |   Package rslp is already up-to-date!\n",
      "[nltk_data]    | Downloading package maxent_treebank_pos_tagger to\n",
      "[nltk_data]    |     /root/nltk_data...\n",
      "[nltk_data]    |   Package maxent_treebank_pos_tagger is already up-\n",
      "[nltk_data]    |       to-date!\n",
      "[nltk_data]    | Downloading package universal_tagset to\n",
      "[nltk_data]    |     /root/nltk_data...\n",
      "[nltk_data]    |   Package universal_tagset is already up-to-date!\n",
      "[nltk_data]    | Downloading package maxent_ne_chunker to\n",
      "[nltk_data]    |     /root/nltk_data...\n",
      "[nltk_data]    |   Package maxent_ne_chunker is already up-to-date!\n",
      "[nltk_data]    | Downloading package punkt to /root/nltk_data...\n",
      "[nltk_data]    |   Package punkt is already up-to-date!\n",
      "[nltk_data]    | Downloading package book_grammars to\n",
      "[nltk_data]    |     /root/nltk_data...\n",
      "[nltk_data]    |   Package book_grammars is already up-to-date!\n",
      "[nltk_data]    | Downloading package sample_grammars to\n",
      "[nltk_data]    |     /root/nltk_data...\n",
      "[nltk_data]    |   Package sample_grammars is already up-to-date!\n",
      "[nltk_data]    | Downloading package spanish_grammars to\n",
      "[nltk_data]    |     /root/nltk_data...\n",
      "[nltk_data]    |   Package spanish_grammars is already up-to-date!\n",
      "[nltk_data]    | Downloading package basque_grammars to\n",
      "[nltk_data]    |     /root/nltk_data...\n",
      "[nltk_data]    |   Package basque_grammars is already up-to-date!\n",
      "[nltk_data]    | Downloading package large_grammars to\n",
      "[nltk_data]    |     /root/nltk_data...\n",
      "[nltk_data]    |   Package large_grammars is already up-to-date!\n",
      "[nltk_data]    | Downloading package tagsets to /root/nltk_data...\n",
      "[nltk_data]    |   Package tagsets is already up-to-date!\n",
      "[nltk_data]    | Downloading package snowball_data to\n",
      "[nltk_data]    |     /root/nltk_data...\n",
      "[nltk_data]    |   Package snowball_data is already up-to-date!\n",
      "[nltk_data]    | Downloading package bllip_wsj_no_aux to\n",
      "[nltk_data]    |     /root/nltk_data...\n",
      "[nltk_data]    |   Package bllip_wsj_no_aux is already up-to-date!\n",
      "[nltk_data]    | Downloading package word2vec_sample to\n",
      "[nltk_data]    |     /root/nltk_data...\n",
      "[nltk_data]    |   Package word2vec_sample is already up-to-date!\n",
      "[nltk_data]    | Downloading package panlex_swadesh to\n",
      "[nltk_data]    |     /root/nltk_data...\n",
      "[nltk_data]    |   Package panlex_swadesh is already up-to-date!\n",
      "[nltk_data]    | Downloading package mte_teip5 to /root/nltk_data...\n",
      "[nltk_data]    |   Package mte_teip5 is already up-to-date!\n",
      "[nltk_data]    | Downloading package averaged_perceptron_tagger to\n",
      "[nltk_data]    |     /root/nltk_data...\n",
      "[nltk_data]    |   Package averaged_perceptron_tagger is already up-\n",
      "[nltk_data]    |       to-date!\n",
      "[nltk_data]    | Downloading package averaged_perceptron_tagger_ru to\n",
      "[nltk_data]    |     /root/nltk_data...\n",
      "[nltk_data]    |   Package averaged_perceptron_tagger_ru is already\n",
      "[nltk_data]    |       up-to-date!\n",
      "[nltk_data]    | Downloading package perluniprops to\n",
      "[nltk_data]    |     /root/nltk_data...\n",
      "[nltk_data]    |   Package perluniprops is already up-to-date!\n",
      "[nltk_data]    | Downloading package nonbreaking_prefixes to\n",
      "[nltk_data]    |     /root/nltk_data...\n",
      "[nltk_data]    |   Package nonbreaking_prefixes is already up-to-date!\n",
      "[nltk_data]    | Downloading package vader_lexicon to\n",
      "[nltk_data]    |     /root/nltk_data...\n",
      "[nltk_data]    |   Package vader_lexicon is already up-to-date!\n",
      "[nltk_data]    | Downloading package porter_test to /root/nltk_data...\n",
      "[nltk_data]    |   Package porter_test is already up-to-date!\n",
      "[nltk_data]    | Downloading package wmt15_eval to /root/nltk_data...\n",
      "[nltk_data]    |   Package wmt15_eval is already up-to-date!\n",
      "[nltk_data]    | Downloading package mwa_ppdb to /root/nltk_data...\n",
      "[nltk_data]    |   Package mwa_ppdb is already up-to-date!\n",
      "[nltk_data]    | \n",
      "[nltk_data]  Done downloading collection all\n"
     ]
    }
   ],
   "source": [
    "!python -m nltk.downloader all\n",
    "import nltk"
   ]
  },
  {
   "cell_type": "markdown",
   "metadata": {
    "id": "_nGG0fL8Si9u"
   },
   "source": [
    "### Load Data (5 Marks)"
   ]
  },
  {
   "cell_type": "code",
   "execution_count": 110,
   "metadata": {
    "id": "5llaFZ9VBKK3"
   },
   "outputs": [],
   "source": [
    "path_to_zip_file='/content/drive/MyDrive/glove.6B.zip'\n",
    "import zipfile\n",
    "with zipfile.ZipFile(path_to_zip_file, 'r') as zip_ref:\n",
    "    zip_ref.extractall()"
   ]
  },
  {
   "cell_type": "markdown",
   "metadata": {
    "id": "LpRp1vY-Spb7"
   },
   "source": [
    "### Get length of each headline and add a column for that (5 Marks)"
   ]
  },
  {
   "cell_type": "code",
   "execution_count": 111,
   "metadata": {
    "id": "tZXFbo3uxg6_"
   },
   "outputs": [],
   "source": [
    "path_to_json_file='/content/drive/MyDrive/Sarcasm_Headlines_Dataset.json'\n",
    "geeky_file = open(path_to_json_file, 'rt')\n",
    "lines = geeky_file.read().split('\\n')\n",
    "articles_list=[]\n",
    "headers=['Article_Link','Headline','Length of Headline','Is_Sarcastic']\n",
    "for i in range(0,len(lines)):\n",
    "  temp=lines[i]\n",
    "  # print(i)\n",
    "  # print(temp)\n",
    "  if len(temp)==0:\n",
    "    continue\n",
    "  else:\n",
    "    article_link=temp.split('\",')[0].replace(\"{\",'').split(':',1)[1].strip()\n",
    "    # print(article_link)\n",
    "    headline=temp.split('\",')[1].replace('\"','').split(':',1)[1].strip()\n",
    "    # print(headline)\n",
    "    is_sarcastic=temp.split('\",')[2].replace(\"}\",'').split(':',1)[1].strip()\n",
    "    # print(is_sarcastic)\n",
    "    articles_list.append([article_link,headline,len(headline),is_sarcastic])"
   ]
  },
  {
   "cell_type": "code",
   "execution_count": 112,
   "metadata": {
    "id": "YKtmuEpkxguC"
   },
   "outputs": [],
   "source": [
    "articles=pd.DataFrame(articles_list,columns=headers)"
   ]
  },
  {
   "cell_type": "code",
   "execution_count": 113,
   "metadata": {
    "colab": {
     "base_uri": "https://localhost:8080/",
     "height": 419
    },
    "id": "PS8RlCI_lUUb",
    "outputId": "034b2115-2bfe-4ed3-f130-4a7a2fad3b97"
   },
   "outputs": [
    {
     "data": {
      "text/html": [
       "<div>\n",
       "<style scoped>\n",
       "    .dataframe tbody tr th:only-of-type {\n",
       "        vertical-align: middle;\n",
       "    }\n",
       "\n",
       "    .dataframe tbody tr th {\n",
       "        vertical-align: top;\n",
       "    }\n",
       "\n",
       "    .dataframe thead th {\n",
       "        text-align: right;\n",
       "    }\n",
       "</style>\n",
       "<table border=\"1\" class=\"dataframe\">\n",
       "  <thead>\n",
       "    <tr style=\"text-align: right;\">\n",
       "      <th></th>\n",
       "      <th>Article_Link</th>\n",
       "      <th>Headline</th>\n",
       "      <th>Length of Headline</th>\n",
       "      <th>Is_Sarcastic</th>\n",
       "    </tr>\n",
       "  </thead>\n",
       "  <tbody>\n",
       "    <tr>\n",
       "      <th>0</th>\n",
       "      <td>\"https://www.huffingtonpost.com/entry/versace-...</td>\n",
       "      <td>former versace store clerk sues over secret 'b...</td>\n",
       "      <td>78</td>\n",
       "      <td>0</td>\n",
       "    </tr>\n",
       "    <tr>\n",
       "      <th>1</th>\n",
       "      <td>\"https://www.huffingtonpost.com/entry/roseanne...</td>\n",
       "      <td>the 'roseanne' revival catches up to our thorn...</td>\n",
       "      <td>84</td>\n",
       "      <td>0</td>\n",
       "    </tr>\n",
       "    <tr>\n",
       "      <th>2</th>\n",
       "      <td>\"https://local.theonion.com/mom-starting-to-fe...</td>\n",
       "      <td>mom starting to fear son's web series closest ...</td>\n",
       "      <td>79</td>\n",
       "      <td>1</td>\n",
       "    </tr>\n",
       "    <tr>\n",
       "      <th>3</th>\n",
       "      <td>\"https://politics.theonion.com/boehner-just-wa...</td>\n",
       "      <td>boehner just wants wife to listen, not come up...</td>\n",
       "      <td>84</td>\n",
       "      <td>1</td>\n",
       "    </tr>\n",
       "    <tr>\n",
       "      <th>4</th>\n",
       "      <td>\"https://www.huffingtonpost.com/entry/jk-rowli...</td>\n",
       "      <td>j.k. rowling wishes snape happy birthday in th...</td>\n",
       "      <td>64</td>\n",
       "      <td>0</td>\n",
       "    </tr>\n",
       "    <tr>\n",
       "      <th>...</th>\n",
       "      <td>...</td>\n",
       "      <td>...</td>\n",
       "      <td>...</td>\n",
       "      <td>...</td>\n",
       "    </tr>\n",
       "    <tr>\n",
       "      <th>26704</th>\n",
       "      <td>\"https://www.huffingtonpost.com/entry/american...</td>\n",
       "      <td>american politics in moral free-fall</td>\n",
       "      <td>36</td>\n",
       "      <td>0</td>\n",
       "    </tr>\n",
       "    <tr>\n",
       "      <th>26705</th>\n",
       "      <td>\"https://www.huffingtonpost.com/entry/americas...</td>\n",
       "      <td>america's best 20 hikes</td>\n",
       "      <td>23</td>\n",
       "      <td>0</td>\n",
       "    </tr>\n",
       "    <tr>\n",
       "      <th>26706</th>\n",
       "      <td>\"https://www.huffingtonpost.com/entry/reparati...</td>\n",
       "      <td>reparations and obama</td>\n",
       "      <td>21</td>\n",
       "      <td>0</td>\n",
       "    </tr>\n",
       "    <tr>\n",
       "      <th>26707</th>\n",
       "      <td>\"https://www.huffingtonpost.com/entry/israeli-...</td>\n",
       "      <td>israeli ban targeting boycott supporters raise...</td>\n",
       "      <td>60</td>\n",
       "      <td>0</td>\n",
       "    </tr>\n",
       "    <tr>\n",
       "      <th>26708</th>\n",
       "      <td>\"https://www.huffingtonpost.com/entry/gourmet-...</td>\n",
       "      <td>gourmet gifts for the foodie 2014</td>\n",
       "      <td>33</td>\n",
       "      <td>0</td>\n",
       "    </tr>\n",
       "  </tbody>\n",
       "</table>\n",
       "<p>26709 rows × 4 columns</p>\n",
       "</div>"
      ],
      "text/plain": [
       "                                            Article_Link  ... Is_Sarcastic\n",
       "0      \"https://www.huffingtonpost.com/entry/versace-...  ...            0\n",
       "1      \"https://www.huffingtonpost.com/entry/roseanne...  ...            0\n",
       "2      \"https://local.theonion.com/mom-starting-to-fe...  ...            1\n",
       "3      \"https://politics.theonion.com/boehner-just-wa...  ...            1\n",
       "4      \"https://www.huffingtonpost.com/entry/jk-rowli...  ...            0\n",
       "...                                                  ...  ...          ...\n",
       "26704  \"https://www.huffingtonpost.com/entry/american...  ...            0\n",
       "26705  \"https://www.huffingtonpost.com/entry/americas...  ...            0\n",
       "26706  \"https://www.huffingtonpost.com/entry/reparati...  ...            0\n",
       "26707  \"https://www.huffingtonpost.com/entry/israeli-...  ...            0\n",
       "26708  \"https://www.huffingtonpost.com/entry/gourmet-...  ...            0\n",
       "\n",
       "[26709 rows x 4 columns]"
      ]
     },
     "execution_count": 113,
     "metadata": {
      "tags": []
     },
     "output_type": "execute_result"
    }
   ],
   "source": [
    "articles"
   ]
  },
  {
   "cell_type": "code",
   "execution_count": 114,
   "metadata": {
    "colab": {
     "base_uri": "https://localhost:8080/",
     "height": 173
    },
    "id": "UwIeWvh3zWRC",
    "outputId": "0c395210-25a8-4ccf-ed77-f079e6b9209f"
   },
   "outputs": [
    {
     "data": {
      "text/html": [
       "<div>\n",
       "<style scoped>\n",
       "    .dataframe tbody tr th:only-of-type {\n",
       "        vertical-align: middle;\n",
       "    }\n",
       "\n",
       "    .dataframe tbody tr th {\n",
       "        vertical-align: top;\n",
       "    }\n",
       "\n",
       "    .dataframe thead th {\n",
       "        text-align: right;\n",
       "    }\n",
       "</style>\n",
       "<table border=\"1\" class=\"dataframe\">\n",
       "  <thead>\n",
       "    <tr style=\"text-align: right;\">\n",
       "      <th></th>\n",
       "      <th>Total</th>\n",
       "      <th>Percent</th>\n",
       "    </tr>\n",
       "  </thead>\n",
       "  <tbody>\n",
       "    <tr>\n",
       "      <th>Is_Sarcastic</th>\n",
       "      <td>0</td>\n",
       "      <td>0.0</td>\n",
       "    </tr>\n",
       "    <tr>\n",
       "      <th>Length of Headline</th>\n",
       "      <td>0</td>\n",
       "      <td>0.0</td>\n",
       "    </tr>\n",
       "    <tr>\n",
       "      <th>Headline</th>\n",
       "      <td>0</td>\n",
       "      <td>0.0</td>\n",
       "    </tr>\n",
       "    <tr>\n",
       "      <th>Article_Link</th>\n",
       "      <td>0</td>\n",
       "      <td>0.0</td>\n",
       "    </tr>\n",
       "  </tbody>\n",
       "</table>\n",
       "</div>"
      ],
      "text/plain": [
       "                    Total  Percent\n",
       "Is_Sarcastic            0      0.0\n",
       "Length of Headline      0      0.0\n",
       "Headline                0      0.0\n",
       "Article_Link            0      0.0"
      ]
     },
     "execution_count": 114,
     "metadata": {
      "tags": []
     },
     "output_type": "execute_result"
    }
   ],
   "source": [
    "def missing_check(df):\n",
    "    total = df.isnull().sum().sort_values(ascending=False)   # total number of null values\n",
    "    percent = (df.isnull().sum()/df.isnull().count()).sort_values(ascending=False)  # percentage of values that are null\n",
    "    missing_data = pd.concat([total, percent], axis=1, keys=['Total', 'Percent'])  # putting the above two together\n",
    "    return missing_data # return the dataframe\n",
    "missing_check(articles)"
   ]
  },
  {
   "cell_type": "markdown",
   "metadata": {
    "id": "cjHB6BYNSnWP"
   },
   "source": [
    "### Drop `article_link` from dataset (5 Marks)"
   ]
  },
  {
   "cell_type": "code",
   "execution_count": 115,
   "metadata": {
    "id": "f8QBWAd2k6uQ"
   },
   "outputs": [],
   "source": [
    "articles.drop(['Article_Link'],inplace=True,axis=1)"
   ]
  },
  {
   "cell_type": "code",
   "execution_count": 116,
   "metadata": {
    "id": "B92gAtOrin4o"
   },
   "outputs": [],
   "source": [
    "cleaned_articles=[]\n",
    "import re\n",
    "def clean_text(text):\n",
    "    text = text.lower()\n",
    "    \n",
    "    pattern = re.compile('http[s]?://(?:[a-zA-Z]|[0-9]|[$-_@.&+]|[!*\\(\\),]|(?:%[0-9a-fA-F][0-9a-fA-F]))+')\n",
    "    text = pattern.sub('', text)\n",
    "    text = \" \".join(filter(lambda x:x[0]!='@', text.split()))\n",
    "    emoji = re.compile(\"[\"\n",
    "                           u\"\\U0001F600-\\U0001FFFF\"  # emoticons\n",
    "                           u\"\\U0001F300-\\U0001F5FF\"  # symbols & pictographs\n",
    "                           u\"\\U0001F680-\\U0001F6FF\"  # transport & map symbols\n",
    "                           u\"\\U0001F1E0-\\U0001F1FF\"  # flags (iOS)\n",
    "                           u\"\\U00002702-\\U000027B0\"\n",
    "                           u\"\\U000024C2-\\U0001F251\"\n",
    "                           \"]+\", flags=re.UNICODE)\n",
    "    \n",
    "    text = emoji.sub(r'', text)\n",
    "    text = text.lower()\n",
    "    text = re.sub(r\"i'm\", \"i am\", text)\n",
    "    text = re.sub(r\"he's\", \"he is\", text)\n",
    "    text = re.sub(r\"she's\", \"she is\", text)\n",
    "    text = re.sub(r\"that's\", \"that is\", text)        \n",
    "    text = re.sub(r\"what's\", \"what is\", text)\n",
    "    text = re.sub(r\"where's\", \"where is\", text) \n",
    "    text = re.sub(r\"\\'ll\", \" will\", text)  \n",
    "    text = re.sub(r\"\\'ve\", \" have\", text)  \n",
    "    text = re.sub(r\"\\'re\", \" are\", text)\n",
    "    text = re.sub(r\"\\'d\", \" would\", text)\n",
    "    text = re.sub(r\"\\'ve\", \" have\", text)\n",
    "    text = re.sub(r\"won't\", \"will not\", text)\n",
    "    text = re.sub(r\"don't\", \"do not\", text)\n",
    "    text = re.sub(r\"did't\", \"did not\", text)\n",
    "    text = re.sub(r\"can't\", \"can not\", text)\n",
    "    text = re.sub(r\"it's\", \"it is\", text)\n",
    "    text = re.sub(r\"couldn't\", \"could not\", text)\n",
    "    text = re.sub(r\"have't\", \"have not\", text)\n",
    "    text = re.sub(r\"[,.\\\"\\'!@#$%^&*(){}?/;`~:<>+=-]\", \"\", text)\n",
    "    return text\n",
    "for i in range(0,len(articles)):\n",
    "  cleaned_articles.append(clean_text(articles['Headline'][i]))"
   ]
  },
  {
   "cell_type": "code",
   "execution_count": 117,
   "metadata": {
    "id": "OXJYFuYJ6RQs"
   },
   "outputs": [],
   "source": [
    "articles['Clean Headline']=cleaned_articles"
   ]
  },
  {
   "cell_type": "code",
   "execution_count": 118,
   "metadata": {
    "id": "mSKnTLNKjnUU"
   },
   "outputs": [],
   "source": [
    "# import string\n",
    "# from nltk.tokenize import word_tokenize\n",
    "# from nltk.corpus import stopwords\n",
    "\n",
    "# def CleanTokenize(df):\n",
    "#     head_lines = list()\n",
    "#     lines = df[\"headline\"].values.tolist()\n",
    "\n",
    "#     for line in lines:\n",
    "#         line = clean_text(line)\n",
    "#         # tokenize the text\n",
    "#         tokens = word_tokenize(line)\n",
    "#         # remove puntuations\n",
    "#         table = str.maketrans('', '', string.punctuation)\n",
    "#         stripped = [w.translate(table) for w in tokens]\n",
    "#         # remove non alphabetic characters\n",
    "#         words = [word for word in stripped if word.isalpha()]\n",
    "#         stop_words = set(stopwords.words(\"english\"))\n",
    "#         # remove stop words\n",
    "#         words = [w for w in words if not w in stop_words]\n",
    "#         head_lines.append(words)\n",
    "#     return [\" \".join(head_lines[i]) for i in range(0,len(head_lines))]\n",
    "\n",
    "# head_lines = CleanTokenize(pd.DataFrame(cleaned_articles,columns=['headline']))"
   ]
  },
  {
   "cell_type": "code",
   "execution_count": 119,
   "metadata": {
    "id": "qHvj69x-lWGt"
   },
   "outputs": [],
   "source": [
    "# articles['Clean Headline']=head_lines"
   ]
  },
  {
   "cell_type": "markdown",
   "metadata": {
    "id": "jktrRu63lZaV"
   },
   "source": [
    "### Initialize parameter values\n",
    "- Set values for max_features, maxlen, & embedding_size\n",
    "- max_features: Number of words to take from tokenizer(most frequent words)\n",
    "- maxlen: Maximum length of each sentence to be limited to 25\n",
    "- embedding_size: size of embedding vector"
   ]
  },
  {
   "cell_type": "code",
   "execution_count": 120,
   "metadata": {
    "id": "2i1sdLfjlbuN"
   },
   "outputs": [],
   "source": [
    "max_features = 10000\n",
    "max_len = 15\n",
    "embedding_size = 200"
   ]
  },
  {
   "cell_type": "markdown",
   "metadata": {
    "id": "PBPqaEsyl0ZD"
   },
   "source": [
    "### Apply `tensorflow.keras` Tokenizer and get indices for words (5 Marks)\n",
    "- Initialize Tokenizer object with number of words as 10000\n",
    "- Fit the tokenizer object on headline column\n",
    "- Convert the text to sequence\n"
   ]
  },
  {
   "cell_type": "code",
   "execution_count": 121,
   "metadata": {
    "id": "K2FJCP81l5WO"
   },
   "outputs": [],
   "source": [
    "from tensorflow.keras.preprocessing.text import Tokenizer\n",
    "tokenizer=Tokenizer(num_words=max_features,oov_token='<OOV>')\n",
    "tokenizer.fit_on_texts(articles['Clean Headline'])\n",
    "headline_sequence=tokenizer.texts_to_sequences(articles['Clean Headline'])"
   ]
  },
  {
   "cell_type": "code",
   "execution_count": 122,
   "metadata": {
    "colab": {
     "base_uri": "https://localhost:8080/"
    },
    "id": "iOf4tJkfoZ6N",
    "outputId": "4dfffe7b-9716-47fd-e6aa-411ba95940a4"
   },
   "outputs": [
    {
     "data": {
      "text/plain": [
       "[4, 6835, 333, 6, 520, 1, 1564]"
      ]
     },
     "execution_count": 122,
     "metadata": {
      "tags": []
     },
     "output_type": "execute_result"
    }
   ],
   "source": [
    "headline_sequence[6]"
   ]
  },
  {
   "cell_type": "markdown",
   "metadata": {
    "id": "O7wEnvX9l0WJ"
   },
   "source": [
    "### Pad sequences (5 Marks)\n",
    "- Pad each example with a maximum length\n",
    "- Convert target column into numpy array"
   ]
  },
  {
   "cell_type": "code",
   "execution_count": 123,
   "metadata": {
    "id": "7TUeao1_l6oS"
   },
   "outputs": [],
   "source": [
    "from tensorflow.keras.preprocessing.sequence import pad_sequences\n",
    "padded_headline_sequence = pad_sequences(maxlen=max_len, sequences=headline_sequence, padding=\"post\", value=0)"
   ]
  },
  {
   "cell_type": "code",
   "execution_count": 124,
   "metadata": {
    "colab": {
     "base_uri": "https://localhost:8080/"
    },
    "id": "spxJ1gg1o8QH",
    "outputId": "bf835524-8578-4ebf-8d08-e036db49e70c"
   },
   "outputs": [
    {
     "data": {
      "text/plain": [
       "array([   4, 6835,  333,    6,  520,    1, 1564,    0,    0,    0,    0,\n",
       "          0,    0,    0,    0], dtype=int32)"
      ]
     },
     "execution_count": 124,
     "metadata": {
      "tags": []
     },
     "output_type": "execute_result"
    }
   ],
   "source": [
    "padded_headline_sequence[6]"
   ]
  },
  {
   "cell_type": "markdown",
   "metadata": {
    "id": "Ak0paE_Al0Te"
   },
   "source": [
    "### Vocab mapping\n",
    "- There is no word for 0th index"
   ]
  },
  {
   "cell_type": "code",
   "execution_count": 125,
   "metadata": {
    "id": "avIJgBQ4l_8b"
   },
   "outputs": [],
   "source": [
    "word_number_mapping=tokenizer.word_index\n",
    "number_word_mapping = dict([(value, key) for key, value in word_number_mapping.items()])"
   ]
  },
  {
   "cell_type": "code",
   "execution_count": 126,
   "metadata": {
    "colab": {
     "base_uri": "https://localhost:8080/"
    },
    "id": "LY1uPGATmDU_",
    "outputId": "5d477a25-0b1e-4300-bc04-9c2e07deead7"
   },
   "outputs": [
    {
     "data": {
      "text/plain": [
       "1"
      ]
     },
     "execution_count": 126,
     "metadata": {
      "tags": []
     },
     "output_type": "execute_result"
    }
   ],
   "source": [
    "# Missing Word Tokeinizing.......\n",
    "word_number_mapping['<OOV>']"
   ]
  },
  {
   "cell_type": "markdown",
   "metadata": {
    "id": "pBkTOeTQl0Qp"
   },
   "source": [
    "### Set number of words\n",
    "- Since the above 0th index doesn't have a word, add 1 to the length of the vocabulary"
   ]
  },
  {
   "cell_type": "code",
   "execution_count": 127,
   "metadata": {
    "colab": {
     "base_uri": "https://localhost:8080/"
    },
    "id": "2_q17XMbmD-J",
    "outputId": "886410f9-f4f3-433c-dee1-6e6dbb335092"
   },
   "outputs": [
    {
     "name": "stdout",
     "output_type": "stream",
     "text": [
      "28546\n"
     ]
    }
   ],
   "source": [
    "num_words = len(tokenizer.word_index) + 1\n",
    "print(num_words)"
   ]
  },
  {
   "cell_type": "markdown",
   "metadata": {
    "id": "WL-7o7PYl0N_"
   },
   "source": [
    "### Load Glove Word Embeddings (5 Marks)"
   ]
  },
  {
   "cell_type": "code",
   "execution_count": 128,
   "metadata": {
    "colab": {
     "base_uri": "https://localhost:8080/"
    },
    "id": "TlH0gT9sxgq5",
    "outputId": "0a4bf28b-55f1-4dd5-a98e-9187516113e9"
   },
   "outputs": [
    {
     "name": "stdout",
     "output_type": "stream",
     "text": [
      "Loading Glove Model\n",
      "400000  words loaded!\n"
     ]
    }
   ],
   "source": [
    "import numpy as np\n",
    "\n",
    "def loadGloveModel(File):\n",
    "    print(\"Loading Glove Model\")\n",
    "    f = open(File,'r')\n",
    "    gloveModel = {}\n",
    "    for line in f:\n",
    "        splitLines = line.split()\n",
    "        word = splitLines[0]\n",
    "        wordEmbedding = np.array([float(value) for value in splitLines[1:]])\n",
    "        gloveModel[word] = wordEmbedding\n",
    "    print(len(gloveModel),\" words loaded!\")\n",
    "    return gloveModel\n",
    "\n",
    "# model_50=loadGloveModel('/content/glove.6B.50d.txt')\n",
    "# model_100=loadGloveModel('/content/glove.6B.100d.txt')\n",
    "model_200=loadGloveModel('/content/glove.6B.200d.txt')\n",
    "# model_300=loadGloveModel('/content/glove.6B.300d.txt')"
   ]
  },
  {
   "cell_type": "code",
   "execution_count": 129,
   "metadata": {
    "id": "g3rS-wWkxgoD"
   },
   "outputs": [],
   "source": [
    "# EMBEDDING_FILE = '/content/glove.6B.200d.txt'\n",
    "# embeddings = {}\n",
    "# for o in open(EMBEDDING_FILE):\n",
    "#     word = o.split(\" \")[0]\n",
    "#     # print(word)\n",
    "#     embd = o.split(\" \")[1:]\n",
    "#     embd = np.asarray(embd, dtype='float32')\n",
    "#     # print(embd)\n",
    "#     embeddings[word] = embd"
   ]
  },
  {
   "cell_type": "markdown",
   "metadata": {
    "id": "G5ZPvnqXl0Kv"
   },
   "source": [
    "### Create embedding matrix"
   ]
  },
  {
   "cell_type": "code",
   "execution_count": 130,
   "metadata": {
    "id": "HzasxzpYmKXo"
   },
   "outputs": [],
   "source": [
    "# create a weight matrix for words in training docs\n",
    "# Using the 200 dimesnsional glove embeddings.....\n",
    "embedding_matrix = np.zeros((num_words, 200))\n",
    "for word, i in tokenizer.word_index.items():\n",
    "\tembedding_vector = model_200.get(word)\n",
    "\tif embedding_vector is not None:\n",
    "\t\tembedding_matrix[i] = embedding_vector"
   ]
  },
  {
   "cell_type": "code",
   "execution_count": 131,
   "metadata": {
    "colab": {
     "base_uri": "https://localhost:8080/"
    },
    "id": "xobIuR_VmMH-",
    "outputId": "dede91b0-a981-4ddc-8d02-658ee8e0071e"
   },
   "outputs": [
    {
     "data": {
      "text/plain": [
       "(28546, 200)"
      ]
     },
     "execution_count": 131,
     "metadata": {
      "tags": []
     },
     "output_type": "execute_result"
    }
   ],
   "source": [
    "embedding_matrix.shape"
   ]
  },
  {
   "cell_type": "code",
   "execution_count": 132,
   "metadata": {
    "id": "Y_4uGykQyJ46"
   },
   "outputs": [],
   "source": [
    "# Using heading words and creating dataset using GLOVE embeddings:\n",
    "# (Elimates the embedding layer in the model as all the embeddings are fed into model directly)"
   ]
  },
  {
   "cell_type": "code",
   "execution_count": 133,
   "metadata": {
    "id": "jKzCo3VI0ViY"
   },
   "outputs": [],
   "source": [
    "# final_x_dataset=np.zeros(shape=(len(padded_headline_sequence),(max_len),embedding_size))\n",
    "# for i in range(0,len(padded_headline_sequence)):\n",
    "#   headline_embedding=np.zeros(shape=(max_len,embedding_size))\n",
    "#   for j in range(0,len(padded_headline_sequence[i])):\n",
    "#     word_embedding_vector=np.zeros(embedding_size)\n",
    "#     if padded_headline_sequence[i][j] in number_word_mapping.keys():\n",
    "#       word_embedding_vector=model_200.get(number_word_mapping[padded_headline_sequence[i][j]])\n",
    "#     else:\n",
    "#       continue\n",
    "#     headline_embedding[j]=word_embedding_vector\n",
    "#   final_x_dataset[i] =headline_embedding"
   ]
  },
  {
   "cell_type": "code",
   "execution_count": 134,
   "metadata": {
    "id": "Uvx_sOaP84nD"
   },
   "outputs": [],
   "source": [
    "# from sklearn.preprocessing import StandardScaler\n",
    "# scaler = StandardScaler()\n",
    "\n",
    "# scalers = {}\n",
    "# for i in range(final_x_dataset.shape[1]):\n",
    "#     scalers[i] = StandardScaler()\n",
    "#     final_x_dataset[:, i, :] = scalers[i].fit_transform(final_x_dataset[:, i, :]) "
   ]
  },
  {
   "cell_type": "code",
   "execution_count": 135,
   "metadata": {
    "id": "uAjDwPep4AQi"
   },
   "outputs": [],
   "source": [
    "# from sklearn.model_selection import train_test_split\n",
    "# final_y_dataset=np.array([int(i) for i in articles['Is_Sarcastic'].values])\n",
    "# x_train,x_test,y_train,y_test=train_test_split(final_x_dataset,final_y_dataset,random_state=0)"
   ]
  },
  {
   "cell_type": "code",
   "execution_count": 136,
   "metadata": {
    "id": "5NzHVGGOBS_w"
   },
   "outputs": [],
   "source": [
    "from sklearn.model_selection import train_test_split\n",
    "final_y_dataset=np.array([int(i) for i in articles['Is_Sarcastic'].values])\n",
    "x_train,x_test,y_train,y_test=train_test_split(padded_headline_sequence,final_y_dataset,random_state=0)"
   ]
  },
  {
   "cell_type": "code",
   "execution_count": 137,
   "metadata": {
    "colab": {
     "base_uri": "https://localhost:8080/"
    },
    "id": "eGDGnYPE7Wvh",
    "outputId": "fb6c9d84-2d23-401c-de2b-ee925c448bce"
   },
   "outputs": [
    {
     "data": {
      "text/plain": [
       "((20031, 15), (6678, 15), (20031,), (6678,))"
      ]
     },
     "execution_count": 137,
     "metadata": {
      "tags": []
     },
     "output_type": "execute_result"
    }
   ],
   "source": [
    "x_train.shape,x_test.shape,y_train.shape,y_test.shape"
   ]
  },
  {
   "cell_type": "markdown",
   "metadata": {
    "id": "JGDI8SK0l0IC"
   },
   "source": [
    "### Define model (10 Marks)\n",
    "- Hint: Use Sequential model instance and then add Embedding layer, Bidirectional(LSTM) layer, flatten it, then dense and dropout layers as required. \n",
    "In the end add a final dense layer with sigmoid activation for binary classification."
   ]
  },
  {
   "cell_type": "code",
   "execution_count": 138,
   "metadata": {
    "id": "TQQke65hmNxf"
   },
   "outputs": [],
   "source": [
    "from tensorflow.keras.models import Sequential\n",
    "from tensorflow.keras.layers import LSTM, Embedding, Dense, TimeDistributed, Dropout, Bidirectional, Input, Flatten, BatchNormalization\n",
    "from tensorflow.keras import initializers\n"
   ]
  },
  {
   "cell_type": "code",
   "execution_count": 146,
   "metadata": {
    "id": "XIY809ESxjmn"
   },
   "outputs": [],
   "source": [
    "model=Sequential()\n",
    "# input_layer = Input(shape=(max_len,embedding_size)) # Input layer\n",
    "# model.add(input_layer)\n",
    "embedding_layer=Embedding(num_words,output_dim=embedding_size, weights=[embedding_matrix], input_length=max_len,trainable=False)\n",
    "model.add(embedding_layer)\n",
    "lstm_layer=Bidirectional(LSTM(units=200, return_sequences=True, recurrent_dropout=0.5,kernel_initializer='he_normal'))\n",
    "model.add(lstm_layer)\n",
    "lstm_layer=Bidirectional(LSTM(units=100, return_sequences=True, recurrent_dropout=0.5,kernel_initializer='he_normal'))\n",
    "model.add(lstm_layer)\n",
    "model.add(TimeDistributed(Dense(100, activation=\"tanh\")))\n",
    "model.add(Flatten())\n",
    "model.add(Dropout(0.3))\n",
    "model.add(Dense(units=1024,activation='relu',use_bias=True))\n",
    "model.add(BatchNormalization())\n",
    "model.add(Dropout(0.3))\n",
    "model.add(Dense(units=256,activation='relu',use_bias=True))\n",
    "model.add(BatchNormalization())\n",
    "model.add(Dropout(0.3))\n",
    "model.add(Dense(units=64,activation='relu',use_bias=True))\n",
    "model.add(BatchNormalization())\n",
    "model.add(Dropout(0.3))\n",
    "output_layer=Dense(units=1,activation='sigmoid',use_bias=True)\n",
    "model.add(output_layer)"
   ]
  },
  {
   "cell_type": "code",
   "execution_count": 147,
   "metadata": {
    "colab": {
     "base_uri": "https://localhost:8080/"
    },
    "id": "BH1oseT77z_i",
    "outputId": "068c7012-7b8d-428a-d9b2-f3d8bcdc786c"
   },
   "outputs": [
    {
     "name": "stdout",
     "output_type": "stream",
     "text": [
      "Model: \"sequential_7\"\n",
      "_________________________________________________________________\n",
      "Layer (type)                 Output Shape              Param #   \n",
      "=================================================================\n",
      "embedding_7 (Embedding)      (None, 15, 200)           5709200   \n",
      "_________________________________________________________________\n",
      "bidirectional_14 (Bidirectio (None, 15, 400)           641600    \n",
      "_________________________________________________________________\n",
      "bidirectional_15 (Bidirectio (None, 15, 200)           400800    \n",
      "_________________________________________________________________\n",
      "time_distributed_7 (TimeDist (None, 15, 100)           20100     \n",
      "_________________________________________________________________\n",
      "flatten_7 (Flatten)          (None, 1500)              0         \n",
      "_________________________________________________________________\n",
      "dropout_12 (Dropout)         (None, 1500)              0         \n",
      "_________________________________________________________________\n",
      "dense_36 (Dense)             (None, 1024)              1537024   \n",
      "_________________________________________________________________\n",
      "batch_normalization_21 (Batc (None, 1024)              4096      \n",
      "_________________________________________________________________\n",
      "dropout_13 (Dropout)         (None, 1024)              0         \n",
      "_________________________________________________________________\n",
      "dense_37 (Dense)             (None, 256)               262400    \n",
      "_________________________________________________________________\n",
      "batch_normalization_22 (Batc (None, 256)               1024      \n",
      "_________________________________________________________________\n",
      "dropout_14 (Dropout)         (None, 256)               0         \n",
      "_________________________________________________________________\n",
      "dense_38 (Dense)             (None, 64)                16448     \n",
      "_________________________________________________________________\n",
      "batch_normalization_23 (Batc (None, 64)                256       \n",
      "_________________________________________________________________\n",
      "dropout_15 (Dropout)         (None, 64)                0         \n",
      "_________________________________________________________________\n",
      "dense_39 (Dense)             (None, 1)                 65        \n",
      "=================================================================\n",
      "Total params: 8,593,013\n",
      "Trainable params: 2,881,125\n",
      "Non-trainable params: 5,711,888\n",
      "_________________________________________________________________\n"
     ]
    }
   ],
   "source": [
    "model.summary()"
   ]
  },
  {
   "cell_type": "markdown",
   "metadata": {
    "id": "aPopWiSQl0EL"
   },
   "source": [
    "### Compile the model (5 Marks)"
   ]
  },
  {
   "cell_type": "code",
   "execution_count": 148,
   "metadata": {
    "id": "qOGaZzj1mQJb"
   },
   "outputs": [],
   "source": [
    "from tensorflow.keras.optimizers import Adam\n",
    "from tensorflow.keras.optimizers import SGD\n",
    "ad = Adam(lr=1e-5, beta_1=0.9, beta_2=0.999, epsilon=None, decay=0.0, amsgrad=False)\n",
    "sgd= SGD(learning_rate=0.01, momentum=0.6, nesterov=True, name=\"SGD\")\n",
    "model.compile(optimizer=ad, loss=\"binary_crossentropy\", metrics=[\"accuracy\"])"
   ]
  },
  {
   "cell_type": "code",
   "execution_count": 149,
   "metadata": {
    "id": "zrLjKAywprVR"
   },
   "outputs": [],
   "source": [
    "from tensorflow.keras.callbacks import ModelCheckpoint, EarlyStopping, ReduceLROnPlateau\n",
    "checkpoint = ModelCheckpoint(\"model-{val_loss:.2f}.h5\", monitor=\"val_loss\", verbose=1, save_best_only=True, save_weights_only=True)\n",
    "stop = EarlyStopping(monitor=\"val_loss\", patience=5)\n",
    "reduce_lr = ReduceLROnPlateau(monitor=\"val_loss\", factor=0.001, patience=5, min_lr=1e-20, verbose=1)\n",
    "callbacks=[checkpoint,stop,reduce_lr]"
   ]
  },
  {
   "cell_type": "markdown",
   "metadata": {
    "id": "wIMm7Ukql0AY"
   },
   "source": [
    "### Fit the model (5 Marks)"
   ]
  },
  {
   "cell_type": "code",
   "execution_count": 150,
   "metadata": {
    "colab": {
     "base_uri": "https://localhost:8080/"
    },
    "id": "SUldwk5_mTEQ",
    "outputId": "100f1733-e2f5-44e2-e536-2dc580337bb9"
   },
   "outputs": [
    {
     "name": "stdout",
     "output_type": "stream",
     "text": [
      "Epoch 1/100\n",
      "101/101 [==============================] - ETA: 0s - loss: 0.9191 - accuracy: 0.5263\n",
      "Epoch 00001: val_loss improved from inf to 0.69052, saving model to model-0.69.h5\n",
      "101/101 [==============================] - 86s 854ms/step - loss: 0.9191 - accuracy: 0.5263 - val_loss: 0.6905 - val_accuracy: 0.5229\n",
      "Epoch 2/100\n",
      "101/101 [==============================] - ETA: 0s - loss: 0.8612 - accuracy: 0.5548\n",
      "Epoch 00002: val_loss improved from 0.69052 to 0.68136, saving model to model-0.68.h5\n",
      "101/101 [==============================] - 85s 838ms/step - loss: 0.8612 - accuracy: 0.5548 - val_loss: 0.6814 - val_accuracy: 0.5562\n",
      "Epoch 3/100\n",
      "101/101 [==============================] - ETA: 0s - loss: 0.8234 - accuracy: 0.5832\n",
      "Epoch 00003: val_loss improved from 0.68136 to 0.66346, saving model to model-0.66.h5\n",
      "101/101 [==============================] - 85s 837ms/step - loss: 0.8234 - accuracy: 0.5832 - val_loss: 0.6635 - val_accuracy: 0.6027\n",
      "Epoch 4/100\n",
      "101/101 [==============================] - ETA: 0s - loss: 0.7921 - accuracy: 0.6019\n",
      "Epoch 00004: val_loss improved from 0.66346 to 0.62990, saving model to model-0.63.h5\n",
      "101/101 [==============================] - 85s 838ms/step - loss: 0.7921 - accuracy: 0.6019 - val_loss: 0.6299 - val_accuracy: 0.6505\n",
      "Epoch 5/100\n",
      "101/101 [==============================] - ETA: 0s - loss: 0.7711 - accuracy: 0.6184\n",
      "Epoch 00005: val_loss improved from 0.62990 to 0.61634, saving model to model-0.62.h5\n",
      "101/101 [==============================] - 85s 838ms/step - loss: 0.7711 - accuracy: 0.6184 - val_loss: 0.6163 - val_accuracy: 0.6710\n",
      "Epoch 6/100\n",
      "101/101 [==============================] - ETA: 0s - loss: 0.7432 - accuracy: 0.6327\n",
      "Epoch 00006: val_loss improved from 0.61634 to 0.60555, saving model to model-0.61.h5\n",
      "101/101 [==============================] - 85s 837ms/step - loss: 0.7432 - accuracy: 0.6327 - val_loss: 0.6055 - val_accuracy: 0.6866\n",
      "Epoch 7/100\n",
      "101/101 [==============================] - ETA: 0s - loss: 0.7244 - accuracy: 0.6475\n",
      "Epoch 00007: val_loss improved from 0.60555 to 0.58885, saving model to model-0.59.h5\n",
      "101/101 [==============================] - 84s 835ms/step - loss: 0.7244 - accuracy: 0.6475 - val_loss: 0.5888 - val_accuracy: 0.7035\n",
      "Epoch 8/100\n",
      "101/101 [==============================] - ETA: 0s - loss: 0.7045 - accuracy: 0.6581\n",
      "Epoch 00008: val_loss improved from 0.58885 to 0.56954, saving model to model-0.57.h5\n",
      "101/101 [==============================] - 85s 838ms/step - loss: 0.7045 - accuracy: 0.6581 - val_loss: 0.5695 - val_accuracy: 0.7165\n",
      "Epoch 9/100\n",
      "101/101 [==============================] - ETA: 0s - loss: 0.6893 - accuracy: 0.6686\n",
      "Epoch 00009: val_loss improved from 0.56954 to 0.55889, saving model to model-0.56.h5\n",
      "101/101 [==============================] - 85s 843ms/step - loss: 0.6893 - accuracy: 0.6686 - val_loss: 0.5589 - val_accuracy: 0.7266\n",
      "Epoch 10/100\n",
      "101/101 [==============================] - ETA: 0s - loss: 0.6765 - accuracy: 0.6742\n",
      "Epoch 00010: val_loss improved from 0.55889 to 0.55695, saving model to model-0.56.h5\n",
      "101/101 [==============================] - 86s 848ms/step - loss: 0.6765 - accuracy: 0.6742 - val_loss: 0.5569 - val_accuracy: 0.7275\n",
      "Epoch 11/100\n",
      "101/101 [==============================] - ETA: 0s - loss: 0.6656 - accuracy: 0.6826\n",
      "Epoch 00011: val_loss improved from 0.55695 to 0.54572, saving model to model-0.55.h5\n",
      "101/101 [==============================] - 85s 845ms/step - loss: 0.6656 - accuracy: 0.6826 - val_loss: 0.5457 - val_accuracy: 0.7387\n",
      "Epoch 12/100\n",
      "101/101 [==============================] - ETA: 0s - loss: 0.6535 - accuracy: 0.6899\n",
      "Epoch 00012: val_loss improved from 0.54572 to 0.53437, saving model to model-0.53.h5\n",
      "101/101 [==============================] - 86s 848ms/step - loss: 0.6535 - accuracy: 0.6899 - val_loss: 0.5344 - val_accuracy: 0.7454\n",
      "Epoch 13/100\n",
      "101/101 [==============================] - ETA: 0s - loss: 0.6395 - accuracy: 0.6952\n",
      "Epoch 00013: val_loss improved from 0.53437 to 0.53297, saving model to model-0.53.h5\n",
      "101/101 [==============================] - 86s 849ms/step - loss: 0.6395 - accuracy: 0.6952 - val_loss: 0.5330 - val_accuracy: 0.7481\n",
      "Epoch 14/100\n",
      "101/101 [==============================] - ETA: 0s - loss: 0.6168 - accuracy: 0.7073\n",
      "Epoch 00014: val_loss improved from 0.53297 to 0.51717, saving model to model-0.52.h5\n",
      "101/101 [==============================] - 85s 846ms/step - loss: 0.6168 - accuracy: 0.7073 - val_loss: 0.5172 - val_accuracy: 0.7576\n",
      "Epoch 15/100\n",
      "101/101 [==============================] - ETA: 0s - loss: 0.6081 - accuracy: 0.7160\n",
      "Epoch 00015: val_loss did not improve from 0.51717\n",
      "101/101 [==============================] - 85s 840ms/step - loss: 0.6081 - accuracy: 0.7160 - val_loss: 0.5264 - val_accuracy: 0.7526\n",
      "Epoch 16/100\n",
      "101/101 [==============================] - ETA: 0s - loss: 0.6016 - accuracy: 0.7190\n",
      "Epoch 00016: val_loss improved from 0.51717 to 0.51399, saving model to model-0.51.h5\n",
      "101/101 [==============================] - 85s 843ms/step - loss: 0.6016 - accuracy: 0.7190 - val_loss: 0.5140 - val_accuracy: 0.7619\n",
      "Epoch 17/100\n",
      "101/101 [==============================] - ETA: 0s - loss: 0.5954 - accuracy: 0.7224\n",
      "Epoch 00017: val_loss did not improve from 0.51399\n",
      "101/101 [==============================] - 85s 845ms/step - loss: 0.5954 - accuracy: 0.7224 - val_loss: 0.5178 - val_accuracy: 0.7589\n",
      "Epoch 18/100\n",
      "101/101 [==============================] - ETA: 0s - loss: 0.5920 - accuracy: 0.7270\n",
      "Epoch 00018: val_loss improved from 0.51399 to 0.50600, saving model to model-0.51.h5\n",
      "101/101 [==============================] - 85s 845ms/step - loss: 0.5920 - accuracy: 0.7270 - val_loss: 0.5060 - val_accuracy: 0.7656\n",
      "Epoch 19/100\n",
      "101/101 [==============================] - ETA: 0s - loss: 0.5756 - accuracy: 0.7297\n",
      "Epoch 00019: val_loss improved from 0.50600 to 0.50372, saving model to model-0.50.h5\n",
      "101/101 [==============================] - 85s 846ms/step - loss: 0.5756 - accuracy: 0.7297 - val_loss: 0.5037 - val_accuracy: 0.7685\n",
      "Epoch 20/100\n",
      "101/101 [==============================] - ETA: 0s - loss: 0.5660 - accuracy: 0.7381\n",
      "Epoch 00020: val_loss improved from 0.50372 to 0.49223, saving model to model-0.49.h5\n",
      "101/101 [==============================] - 85s 845ms/step - loss: 0.5660 - accuracy: 0.7381 - val_loss: 0.4922 - val_accuracy: 0.7769\n",
      "Epoch 21/100\n",
      "101/101 [==============================] - ETA: 0s - loss: 0.5590 - accuracy: 0.7387\n",
      "Epoch 00021: val_loss did not improve from 0.49223\n",
      "101/101 [==============================] - 85s 845ms/step - loss: 0.5590 - accuracy: 0.7387 - val_loss: 0.4993 - val_accuracy: 0.7737\n",
      "Epoch 22/100\n",
      "101/101 [==============================] - ETA: 0s - loss: 0.5483 - accuracy: 0.7457\n",
      "Epoch 00022: val_loss improved from 0.49223 to 0.49144, saving model to model-0.49.h5\n",
      "101/101 [==============================] - 86s 847ms/step - loss: 0.5483 - accuracy: 0.7457 - val_loss: 0.4914 - val_accuracy: 0.7769\n",
      "Epoch 23/100\n",
      "101/101 [==============================] - ETA: 0s - loss: 0.5528 - accuracy: 0.7440\n",
      "Epoch 00023: val_loss improved from 0.49144 to 0.48472, saving model to model-0.48.h5\n",
      "101/101 [==============================] - 85s 846ms/step - loss: 0.5528 - accuracy: 0.7440 - val_loss: 0.4847 - val_accuracy: 0.7791\n",
      "Epoch 24/100\n",
      "101/101 [==============================] - ETA: 0s - loss: 0.5411 - accuracy: 0.7488\n",
      "Epoch 00024: val_loss did not improve from 0.48472\n",
      "101/101 [==============================] - 85s 845ms/step - loss: 0.5411 - accuracy: 0.7488 - val_loss: 0.4865 - val_accuracy: 0.7799\n",
      "Epoch 25/100\n",
      "101/101 [==============================] - ETA: 0s - loss: 0.5380 - accuracy: 0.7522\n",
      "Epoch 00025: val_loss improved from 0.48472 to 0.47967, saving model to model-0.48.h5\n",
      "101/101 [==============================] - 85s 839ms/step - loss: 0.5380 - accuracy: 0.7522 - val_loss: 0.4797 - val_accuracy: 0.7817\n",
      "Epoch 26/100\n",
      "101/101 [==============================] - ETA: 0s - loss: 0.5269 - accuracy: 0.7591\n",
      "Epoch 00026: val_loss improved from 0.47967 to 0.46923, saving model to model-0.47.h5\n",
      "101/101 [==============================] - 85s 840ms/step - loss: 0.5269 - accuracy: 0.7591 - val_loss: 0.4692 - val_accuracy: 0.7854\n",
      "Epoch 27/100\n",
      "101/101 [==============================] - ETA: 0s - loss: 0.5263 - accuracy: 0.7583\n",
      "Epoch 00027: val_loss did not improve from 0.46923\n",
      "101/101 [==============================] - 85s 845ms/step - loss: 0.5263 - accuracy: 0.7583 - val_loss: 0.4727 - val_accuracy: 0.7839\n",
      "Epoch 28/100\n",
      "101/101 [==============================] - ETA: 0s - loss: 0.5226 - accuracy: 0.7619\n",
      "Epoch 00028: val_loss improved from 0.46923 to 0.46892, saving model to model-0.47.h5\n",
      "101/101 [==============================] - 85s 842ms/step - loss: 0.5226 - accuracy: 0.7619 - val_loss: 0.4689 - val_accuracy: 0.7868\n",
      "Epoch 29/100\n",
      "101/101 [==============================] - ETA: 0s - loss: 0.5240 - accuracy: 0.7594\n",
      "Epoch 00029: val_loss improved from 0.46892 to 0.46597, saving model to model-0.47.h5\n",
      "101/101 [==============================] - 85s 841ms/step - loss: 0.5240 - accuracy: 0.7594 - val_loss: 0.4660 - val_accuracy: 0.7892\n",
      "Epoch 30/100\n",
      "101/101 [==============================] - ETA: 0s - loss: 0.5109 - accuracy: 0.7690\n",
      "Epoch 00030: val_loss improved from 0.46597 to 0.46367, saving model to model-0.46.h5\n",
      "101/101 [==============================] - 86s 851ms/step - loss: 0.5109 - accuracy: 0.7690 - val_loss: 0.4637 - val_accuracy: 0.7910\n",
      "Epoch 31/100\n",
      "101/101 [==============================] - ETA: 0s - loss: 0.5038 - accuracy: 0.7699\n",
      "Epoch 00031: val_loss improved from 0.46367 to 0.45877, saving model to model-0.46.h5\n",
      "101/101 [==============================] - 85s 845ms/step - loss: 0.5038 - accuracy: 0.7699 - val_loss: 0.4588 - val_accuracy: 0.7950\n",
      "Epoch 32/100\n",
      "101/101 [==============================] - ETA: 0s - loss: 0.5047 - accuracy: 0.7695\n",
      "Epoch 00032: val_loss did not improve from 0.45877\n",
      "101/101 [==============================] - 85s 843ms/step - loss: 0.5047 - accuracy: 0.7695 - val_loss: 0.4662 - val_accuracy: 0.7907\n",
      "Epoch 33/100\n",
      "101/101 [==============================] - ETA: 0s - loss: 0.4924 - accuracy: 0.7763\n",
      "Epoch 00033: val_loss improved from 0.45877 to 0.45552, saving model to model-0.46.h5\n",
      "101/101 [==============================] - 85s 843ms/step - loss: 0.4924 - accuracy: 0.7763 - val_loss: 0.4555 - val_accuracy: 0.7959\n",
      "Epoch 34/100\n",
      "101/101 [==============================] - ETA: 0s - loss: 0.4899 - accuracy: 0.7823\n",
      "Epoch 00034: val_loss improved from 0.45552 to 0.45409, saving model to model-0.45.h5\n",
      "101/101 [==============================] - 85s 840ms/step - loss: 0.4899 - accuracy: 0.7823 - val_loss: 0.4541 - val_accuracy: 0.7972\n",
      "Epoch 35/100\n",
      "101/101 [==============================] - ETA: 0s - loss: 0.4896 - accuracy: 0.7774\n",
      "Epoch 00035: val_loss improved from 0.45409 to 0.45093, saving model to model-0.45.h5\n",
      "101/101 [==============================] - 85s 845ms/step - loss: 0.4896 - accuracy: 0.7774 - val_loss: 0.4509 - val_accuracy: 0.7960\n",
      "Epoch 36/100\n",
      "101/101 [==============================] - ETA: 0s - loss: 0.4820 - accuracy: 0.7784\n",
      "Epoch 00036: val_loss improved from 0.45093 to 0.44732, saving model to model-0.45.h5\n",
      "101/101 [==============================] - 85s 840ms/step - loss: 0.4820 - accuracy: 0.7784 - val_loss: 0.4473 - val_accuracy: 0.7992\n",
      "Epoch 37/100\n",
      "101/101 [==============================] - ETA: 0s - loss: 0.4788 - accuracy: 0.7831\n",
      "Epoch 00037: val_loss improved from 0.44732 to 0.44353, saving model to model-0.44.h5\n",
      "101/101 [==============================] - 85s 843ms/step - loss: 0.4788 - accuracy: 0.7831 - val_loss: 0.4435 - val_accuracy: 0.8007\n",
      "Epoch 38/100\n",
      "101/101 [==============================] - ETA: 0s - loss: 0.4780 - accuracy: 0.7873\n",
      "Epoch 00038: val_loss improved from 0.44353 to 0.44160, saving model to model-0.44.h5\n",
      "101/101 [==============================] - 85s 842ms/step - loss: 0.4780 - accuracy: 0.7873 - val_loss: 0.4416 - val_accuracy: 0.8008\n",
      "Epoch 39/100\n",
      "101/101 [==============================] - ETA: 0s - loss: 0.4710 - accuracy: 0.7877\n",
      "Epoch 00039: val_loss did not improve from 0.44160\n",
      "101/101 [==============================] - 85s 846ms/step - loss: 0.4710 - accuracy: 0.7877 - val_loss: 0.4482 - val_accuracy: 0.8002\n",
      "Epoch 40/100\n",
      "101/101 [==============================] - ETA: 0s - loss: 0.4640 - accuracy: 0.7874\n",
      "Epoch 00040: val_loss improved from 0.44160 to 0.43517, saving model to model-0.44.h5\n",
      "101/101 [==============================] - 85s 843ms/step - loss: 0.4640 - accuracy: 0.7874 - val_loss: 0.4352 - val_accuracy: 0.8067\n",
      "Epoch 41/100\n",
      "101/101 [==============================] - ETA: 0s - loss: 0.4648 - accuracy: 0.7891\n",
      "Epoch 00041: val_loss improved from 0.43517 to 0.43498, saving model to model-0.43.h5\n",
      "101/101 [==============================] - 86s 851ms/step - loss: 0.4648 - accuracy: 0.7891 - val_loss: 0.4350 - val_accuracy: 0.8077\n",
      "Epoch 42/100\n",
      "101/101 [==============================] - ETA: 0s - loss: 0.4612 - accuracy: 0.7920\n",
      "Epoch 00042: val_loss improved from 0.43498 to 0.42815, saving model to model-0.43.h5\n",
      "101/101 [==============================] - 86s 851ms/step - loss: 0.4612 - accuracy: 0.7920 - val_loss: 0.4281 - val_accuracy: 0.8106\n",
      "Epoch 43/100\n",
      "101/101 [==============================] - ETA: 0s - loss: 0.4602 - accuracy: 0.7919\n",
      "Epoch 00043: val_loss did not improve from 0.42815\n",
      "101/101 [==============================] - 86s 848ms/step - loss: 0.4602 - accuracy: 0.7919 - val_loss: 0.4359 - val_accuracy: 0.8070\n",
      "Epoch 44/100\n",
      "101/101 [==============================] - ETA: 0s - loss: 0.4530 - accuracy: 0.7959\n",
      "Epoch 00044: val_loss improved from 0.42815 to 0.42763, saving model to model-0.43.h5\n",
      "101/101 [==============================] - 87s 864ms/step - loss: 0.4530 - accuracy: 0.7959 - val_loss: 0.4276 - val_accuracy: 0.8101\n",
      "Epoch 45/100\n",
      "101/101 [==============================] - ETA: 0s - loss: 0.4447 - accuracy: 0.7992\n",
      "Epoch 00045: val_loss improved from 0.42763 to 0.42265, saving model to model-0.42.h5\n",
      "101/101 [==============================] - 87s 860ms/step - loss: 0.4447 - accuracy: 0.7992 - val_loss: 0.4226 - val_accuracy: 0.8124\n",
      "Epoch 46/100\n",
      "101/101 [==============================] - ETA: 0s - loss: 0.4448 - accuracy: 0.8016\n",
      "Epoch 00046: val_loss improved from 0.42265 to 0.41837, saving model to model-0.42.h5\n",
      "101/101 [==============================] - 87s 860ms/step - loss: 0.4448 - accuracy: 0.8016 - val_loss: 0.4184 - val_accuracy: 0.8127\n",
      "Epoch 47/100\n",
      "101/101 [==============================] - ETA: 0s - loss: 0.4443 - accuracy: 0.8009\n",
      "Epoch 00047: val_loss did not improve from 0.41837\n",
      "101/101 [==============================] - 87s 858ms/step - loss: 0.4443 - accuracy: 0.8009 - val_loss: 0.4289 - val_accuracy: 0.8103\n",
      "Epoch 48/100\n",
      "101/101 [==============================] - ETA: 0s - loss: 0.4444 - accuracy: 0.8009\n",
      "Epoch 00048: val_loss did not improve from 0.41837\n",
      "101/101 [==============================] - 87s 861ms/step - loss: 0.4444 - accuracy: 0.8009 - val_loss: 0.4212 - val_accuracy: 0.8139\n",
      "Epoch 49/100\n",
      "101/101 [==============================] - ETA: 0s - loss: 0.4331 - accuracy: 0.8049\n",
      "Epoch 00049: val_loss improved from 0.41837 to 0.41500, saving model to model-0.41.h5\n",
      "101/101 [==============================] - 87s 866ms/step - loss: 0.4331 - accuracy: 0.8049 - val_loss: 0.4150 - val_accuracy: 0.8157\n",
      "Epoch 50/100\n",
      "101/101 [==============================] - ETA: 0s - loss: 0.4321 - accuracy: 0.8063\n",
      "Epoch 00050: val_loss did not improve from 0.41500\n",
      "101/101 [==============================] - 86s 852ms/step - loss: 0.4321 - accuracy: 0.8063 - val_loss: 0.4162 - val_accuracy: 0.8160\n",
      "Epoch 51/100\n",
      "101/101 [==============================] - ETA: 0s - loss: 0.4269 - accuracy: 0.8109\n",
      "Epoch 00051: val_loss did not improve from 0.41500\n",
      "101/101 [==============================] - 86s 847ms/step - loss: 0.4269 - accuracy: 0.8109 - val_loss: 0.4243 - val_accuracy: 0.8130\n",
      "Epoch 52/100\n",
      "101/101 [==============================] - ETA: 0s - loss: 0.4223 - accuracy: 0.8119\n",
      "Epoch 00052: val_loss improved from 0.41500 to 0.40956, saving model to model-0.41.h5\n",
      "101/101 [==============================] - 87s 866ms/step - loss: 0.4223 - accuracy: 0.8119 - val_loss: 0.4096 - val_accuracy: 0.8184\n",
      "Epoch 53/100\n",
      "101/101 [==============================] - ETA: 0s - loss: 0.4255 - accuracy: 0.8079\n",
      "Epoch 00053: val_loss improved from 0.40956 to 0.40885, saving model to model-0.41.h5\n",
      "101/101 [==============================] - 87s 865ms/step - loss: 0.4255 - accuracy: 0.8079 - val_loss: 0.4088 - val_accuracy: 0.8187\n",
      "Epoch 54/100\n",
      "101/101 [==============================] - ETA: 0s - loss: 0.4176 - accuracy: 0.8153\n",
      "Epoch 00054: val_loss improved from 0.40885 to 0.40486, saving model to model-0.40.h5\n",
      "101/101 [==============================] - 87s 863ms/step - loss: 0.4176 - accuracy: 0.8153 - val_loss: 0.4049 - val_accuracy: 0.8220\n",
      "Epoch 55/100\n",
      "101/101 [==============================] - ETA: 0s - loss: 0.4186 - accuracy: 0.8125\n",
      "Epoch 00055: val_loss did not improve from 0.40486\n",
      "101/101 [==============================] - 88s 867ms/step - loss: 0.4186 - accuracy: 0.8125 - val_loss: 0.4109 - val_accuracy: 0.8190\n",
      "Epoch 56/100\n",
      "101/101 [==============================] - ETA: 0s - loss: 0.4100 - accuracy: 0.8180\n",
      "Epoch 00056: val_loss did not improve from 0.40486\n",
      "101/101 [==============================] - 87s 863ms/step - loss: 0.4100 - accuracy: 0.8180 - val_loss: 0.4134 - val_accuracy: 0.8190\n",
      "Epoch 57/100\n",
      "101/101 [==============================] - ETA: 0s - loss: 0.4115 - accuracy: 0.8177\n",
      "Epoch 00057: val_loss did not improve from 0.40486\n",
      "101/101 [==============================] - 87s 861ms/step - loss: 0.4115 - accuracy: 0.8177 - val_loss: 0.4064 - val_accuracy: 0.8220\n",
      "Epoch 58/100\n",
      "101/101 [==============================] - ETA: 0s - loss: 0.4060 - accuracy: 0.8196\n",
      "Epoch 00058: val_loss improved from 0.40486 to 0.40070, saving model to model-0.40.h5\n",
      "101/101 [==============================] - 87s 864ms/step - loss: 0.4060 - accuracy: 0.8196 - val_loss: 0.4007 - val_accuracy: 0.8270\n",
      "Epoch 59/100\n",
      "101/101 [==============================] - ETA: 0s - loss: 0.4051 - accuracy: 0.8222\n",
      "Epoch 00059: val_loss did not improve from 0.40070\n",
      "101/101 [==============================] - 87s 863ms/step - loss: 0.4051 - accuracy: 0.8222 - val_loss: 0.4040 - val_accuracy: 0.8245\n",
      "Epoch 60/100\n",
      "101/101 [==============================] - ETA: 0s - loss: 0.3974 - accuracy: 0.8222\n",
      "Epoch 00060: val_loss did not improve from 0.40070\n",
      "101/101 [==============================] - 87s 866ms/step - loss: 0.3974 - accuracy: 0.8222 - val_loss: 0.4015 - val_accuracy: 0.8267\n",
      "Epoch 61/100\n",
      "101/101 [==============================] - ETA: 0s - loss: 0.3997 - accuracy: 0.8204\n",
      "Epoch 00061: val_loss improved from 0.40070 to 0.39722, saving model to model-0.40.h5\n",
      "101/101 [==============================] - 89s 876ms/step - loss: 0.3997 - accuracy: 0.8204 - val_loss: 0.3972 - val_accuracy: 0.8275\n",
      "Epoch 62/100\n",
      "101/101 [==============================] - ETA: 0s - loss: 0.3967 - accuracy: 0.8228\n",
      "Epoch 00062: val_loss did not improve from 0.39722\n",
      "101/101 [==============================] - 87s 865ms/step - loss: 0.3967 - accuracy: 0.8228 - val_loss: 0.4056 - val_accuracy: 0.8264\n",
      "Epoch 63/100\n",
      "101/101 [==============================] - ETA: 0s - loss: 0.3941 - accuracy: 0.8252\n",
      "Epoch 00063: val_loss did not improve from 0.39722\n",
      "101/101 [==============================] - 87s 863ms/step - loss: 0.3941 - accuracy: 0.8252 - val_loss: 0.3981 - val_accuracy: 0.8284\n",
      "Epoch 64/100\n",
      "101/101 [==============================] - ETA: 0s - loss: 0.3929 - accuracy: 0.8244\n",
      "Epoch 00064: val_loss improved from 0.39722 to 0.39476, saving model to model-0.39.h5\n",
      "101/101 [==============================] - 87s 863ms/step - loss: 0.3929 - accuracy: 0.8244 - val_loss: 0.3948 - val_accuracy: 0.8306\n",
      "Epoch 65/100\n",
      "101/101 [==============================] - ETA: 0s - loss: 0.3892 - accuracy: 0.8266\n",
      "Epoch 00065: val_loss improved from 0.39476 to 0.39058, saving model to model-0.39.h5\n",
      "101/101 [==============================] - 87s 863ms/step - loss: 0.3892 - accuracy: 0.8266 - val_loss: 0.3906 - val_accuracy: 0.8303\n",
      "Epoch 66/100\n",
      "101/101 [==============================] - ETA: 0s - loss: 0.3840 - accuracy: 0.8311\n",
      "Epoch 00066: val_loss did not improve from 0.39058\n",
      "101/101 [==============================] - 87s 866ms/step - loss: 0.3840 - accuracy: 0.8311 - val_loss: 0.3922 - val_accuracy: 0.8329\n",
      "Epoch 67/100\n",
      "101/101 [==============================] - ETA: 0s - loss: 0.3848 - accuracy: 0.8286\n",
      "Epoch 00067: val_loss did not improve from 0.39058\n",
      "101/101 [==============================] - 87s 862ms/step - loss: 0.3848 - accuracy: 0.8286 - val_loss: 0.3943 - val_accuracy: 0.8329\n",
      "Epoch 68/100\n",
      "101/101 [==============================] - ETA: 0s - loss: 0.3792 - accuracy: 0.8321\n",
      "Epoch 00068: val_loss did not improve from 0.39058\n",
      "101/101 [==============================] - 87s 861ms/step - loss: 0.3792 - accuracy: 0.8321 - val_loss: 0.3912 - val_accuracy: 0.8333\n",
      "Epoch 69/100\n",
      "101/101 [==============================] - ETA: 0s - loss: 0.3797 - accuracy: 0.8328\n",
      "Epoch 00069: val_loss improved from 0.39058 to 0.38583, saving model to model-0.39.h5\n",
      "101/101 [==============================] - 88s 868ms/step - loss: 0.3797 - accuracy: 0.8328 - val_loss: 0.3858 - val_accuracy: 0.8345\n",
      "Epoch 70/100\n",
      "101/101 [==============================] - ETA: 0s - loss: 0.3743 - accuracy: 0.8335\n",
      "Epoch 00070: val_loss did not improve from 0.38583\n",
      "101/101 [==============================] - 87s 858ms/step - loss: 0.3743 - accuracy: 0.8335 - val_loss: 0.3859 - val_accuracy: 0.8342\n",
      "Epoch 71/100\n",
      "101/101 [==============================] - ETA: 0s - loss: 0.3715 - accuracy: 0.8339\n",
      "Epoch 00071: val_loss improved from 0.38583 to 0.38438, saving model to model-0.38.h5\n",
      "101/101 [==============================] - 86s 855ms/step - loss: 0.3715 - accuracy: 0.8339 - val_loss: 0.3844 - val_accuracy: 0.8333\n",
      "Epoch 72/100\n",
      "101/101 [==============================] - ETA: 0s - loss: 0.3690 - accuracy: 0.8365\n",
      "Epoch 00072: val_loss did not improve from 0.38438\n",
      "101/101 [==============================] - 86s 851ms/step - loss: 0.3690 - accuracy: 0.8365 - val_loss: 0.3859 - val_accuracy: 0.8344\n",
      "Epoch 73/100\n",
      "101/101 [==============================] - ETA: 0s - loss: 0.3626 - accuracy: 0.8395\n",
      "Epoch 00073: val_loss improved from 0.38438 to 0.38288, saving model to model-0.38.h5\n",
      "101/101 [==============================] - 86s 854ms/step - loss: 0.3626 - accuracy: 0.8395 - val_loss: 0.3829 - val_accuracy: 0.8366\n",
      "Epoch 74/100\n",
      "101/101 [==============================] - ETA: 0s - loss: 0.3613 - accuracy: 0.8417\n",
      "Epoch 00074: val_loss did not improve from 0.38288\n",
      "101/101 [==============================] - 87s 858ms/step - loss: 0.3613 - accuracy: 0.8417 - val_loss: 0.3832 - val_accuracy: 0.8365\n",
      "Epoch 75/100\n",
      "101/101 [==============================] - ETA: 0s - loss: 0.3586 - accuracy: 0.8392\n",
      "Epoch 00075: val_loss did not improve from 0.38288\n",
      "101/101 [==============================] - 87s 861ms/step - loss: 0.3586 - accuracy: 0.8392 - val_loss: 0.3875 - val_accuracy: 0.8362\n",
      "Epoch 76/100\n",
      "101/101 [==============================] - ETA: 0s - loss: 0.3559 - accuracy: 0.8410\n",
      "Epoch 00076: val_loss did not improve from 0.38288\n",
      "101/101 [==============================] - 87s 861ms/step - loss: 0.3559 - accuracy: 0.8410 - val_loss: 0.3869 - val_accuracy: 0.8369\n",
      "Epoch 77/100\n",
      "101/101 [==============================] - ETA: 0s - loss: 0.3612 - accuracy: 0.8396\n",
      "Epoch 00077: val_loss did not improve from 0.38288\n",
      "101/101 [==============================] - 87s 859ms/step - loss: 0.3612 - accuracy: 0.8396 - val_loss: 0.3853 - val_accuracy: 0.8383\n",
      "Epoch 78/100\n",
      "101/101 [==============================] - ETA: 0s - loss: 0.3577 - accuracy: 0.8423\n",
      "Epoch 00078: val_loss improved from 0.38288 to 0.38072, saving model to model-0.38.h5\n",
      "101/101 [==============================] - 87s 859ms/step - loss: 0.3577 - accuracy: 0.8423 - val_loss: 0.3807 - val_accuracy: 0.8390\n",
      "Epoch 79/100\n",
      "101/101 [==============================] - ETA: 0s - loss: 0.3543 - accuracy: 0.8421\n",
      "Epoch 00079: val_loss improved from 0.38072 to 0.37538, saving model to model-0.38.h5\n",
      "101/101 [==============================] - 87s 862ms/step - loss: 0.3543 - accuracy: 0.8421 - val_loss: 0.3754 - val_accuracy: 0.8404\n",
      "Epoch 80/100\n",
      "101/101 [==============================] - ETA: 0s - loss: 0.3551 - accuracy: 0.8432\n",
      "Epoch 00080: val_loss did not improve from 0.37538\n",
      "101/101 [==============================] - 87s 862ms/step - loss: 0.3551 - accuracy: 0.8432 - val_loss: 0.3755 - val_accuracy: 0.8411\n",
      "Epoch 81/100\n",
      "101/101 [==============================] - ETA: 0s - loss: 0.3472 - accuracy: 0.8472\n",
      "Epoch 00081: val_loss improved from 0.37538 to 0.37437, saving model to model-0.37.h5\n",
      "101/101 [==============================] - 87s 862ms/step - loss: 0.3472 - accuracy: 0.8472 - val_loss: 0.3744 - val_accuracy: 0.8419\n",
      "Epoch 82/100\n",
      "101/101 [==============================] - ETA: 0s - loss: 0.3440 - accuracy: 0.8482\n",
      "Epoch 00082: val_loss improved from 0.37437 to 0.37090, saving model to model-0.37.h5\n",
      "101/101 [==============================] - 87s 865ms/step - loss: 0.3440 - accuracy: 0.8482 - val_loss: 0.3709 - val_accuracy: 0.8435\n",
      "Epoch 83/100\n",
      "101/101 [==============================] - ETA: 0s - loss: 0.3450 - accuracy: 0.8490\n",
      "Epoch 00083: val_loss did not improve from 0.37090\n",
      "101/101 [==============================] - 87s 864ms/step - loss: 0.3450 - accuracy: 0.8490 - val_loss: 0.3749 - val_accuracy: 0.8405\n",
      "Epoch 84/100\n",
      "101/101 [==============================] - ETA: 0s - loss: 0.3413 - accuracy: 0.8526\n",
      "Epoch 00084: val_loss did not improve from 0.37090\n",
      "101/101 [==============================] - 87s 863ms/step - loss: 0.3413 - accuracy: 0.8526 - val_loss: 0.3726 - val_accuracy: 0.8426\n",
      "Epoch 85/100\n",
      "101/101 [==============================] - ETA: 0s - loss: 0.3355 - accuracy: 0.8554\n",
      "Epoch 00085: val_loss improved from 0.37090 to 0.37057, saving model to model-0.37.h5\n",
      "101/101 [==============================] - 87s 863ms/step - loss: 0.3355 - accuracy: 0.8554 - val_loss: 0.3706 - val_accuracy: 0.8420\n",
      "Epoch 86/100\n",
      "101/101 [==============================] - ETA: 0s - loss: 0.3400 - accuracy: 0.8517\n",
      "Epoch 00086: val_loss improved from 0.37057 to 0.37007, saving model to model-0.37.h5\n",
      "101/101 [==============================] - 87s 860ms/step - loss: 0.3400 - accuracy: 0.8517 - val_loss: 0.3701 - val_accuracy: 0.8435\n",
      "Epoch 87/100\n",
      "101/101 [==============================] - ETA: 0s - loss: 0.3338 - accuracy: 0.8578\n",
      "Epoch 00087: val_loss did not improve from 0.37007\n",
      "101/101 [==============================] - 87s 864ms/step - loss: 0.3338 - accuracy: 0.8578 - val_loss: 0.3741 - val_accuracy: 0.8443\n",
      "Epoch 88/100\n",
      "101/101 [==============================] - ETA: 0s - loss: 0.3298 - accuracy: 0.8578\n",
      "Epoch 00088: val_loss did not improve from 0.37007\n",
      "101/101 [==============================] - 87s 865ms/step - loss: 0.3298 - accuracy: 0.8578 - val_loss: 0.3753 - val_accuracy: 0.8441\n",
      "Epoch 89/100\n",
      "101/101 [==============================] - ETA: 0s - loss: 0.3297 - accuracy: 0.8557\n",
      "Epoch 00089: val_loss improved from 0.37007 to 0.36784, saving model to model-0.37.h5\n",
      "101/101 [==============================] - 87s 863ms/step - loss: 0.3297 - accuracy: 0.8557 - val_loss: 0.3678 - val_accuracy: 0.8443\n",
      "Epoch 90/100\n",
      "101/101 [==============================] - ETA: 0s - loss: 0.3286 - accuracy: 0.8589\n",
      "Epoch 00090: val_loss did not improve from 0.36784\n",
      "101/101 [==============================] - 87s 863ms/step - loss: 0.3286 - accuracy: 0.8589 - val_loss: 0.3709 - val_accuracy: 0.8452\n",
      "Epoch 91/100\n",
      "101/101 [==============================] - ETA: 0s - loss: 0.3250 - accuracy: 0.8601\n",
      "Epoch 00091: val_loss did not improve from 0.36784\n",
      "101/101 [==============================] - 87s 865ms/step - loss: 0.3250 - accuracy: 0.8601 - val_loss: 0.3698 - val_accuracy: 0.8455\n",
      "Epoch 92/100\n",
      "101/101 [==============================] - ETA: 0s - loss: 0.3249 - accuracy: 0.8605\n",
      "Epoch 00092: val_loss did not improve from 0.36784\n",
      "101/101 [==============================] - 87s 861ms/step - loss: 0.3249 - accuracy: 0.8605 - val_loss: 0.3711 - val_accuracy: 0.8458\n",
      "Epoch 93/100\n",
      "101/101 [==============================] - ETA: 0s - loss: 0.3222 - accuracy: 0.8631\n",
      "Epoch 00093: val_loss improved from 0.36784 to 0.36727, saving model to model-0.37.h5\n",
      "101/101 [==============================] - 87s 864ms/step - loss: 0.3222 - accuracy: 0.8631 - val_loss: 0.3673 - val_accuracy: 0.8479\n",
      "Epoch 94/100\n",
      "101/101 [==============================] - ETA: 0s - loss: 0.3169 - accuracy: 0.8633\n",
      "Epoch 00094: val_loss did not improve from 0.36727\n",
      "101/101 [==============================] - 89s 880ms/step - loss: 0.3169 - accuracy: 0.8633 - val_loss: 0.3705 - val_accuracy: 0.8474\n",
      "Epoch 95/100\n",
      "101/101 [==============================] - ETA: 0s - loss: 0.3156 - accuracy: 0.8632\n",
      "Epoch 00095: val_loss did not improve from 0.36727\n",
      "101/101 [==============================] - 86s 855ms/step - loss: 0.3156 - accuracy: 0.8632 - val_loss: 0.3675 - val_accuracy: 0.8476\n",
      "Epoch 96/100\n",
      "101/101 [==============================] - ETA: 0s - loss: 0.3108 - accuracy: 0.8665\n",
      "Epoch 00096: val_loss improved from 0.36727 to 0.36550, saving model to model-0.37.h5\n",
      "101/101 [==============================] - 87s 859ms/step - loss: 0.3108 - accuracy: 0.8665 - val_loss: 0.3655 - val_accuracy: 0.8488\n",
      "Epoch 97/100\n",
      "101/101 [==============================] - ETA: 0s - loss: 0.3128 - accuracy: 0.8649\n",
      "Epoch 00097: val_loss improved from 0.36550 to 0.36267, saving model to model-0.36.h5\n",
      "101/101 [==============================] - 87s 860ms/step - loss: 0.3128 - accuracy: 0.8649 - val_loss: 0.3627 - val_accuracy: 0.8500\n",
      "Epoch 98/100\n",
      "101/101 [==============================] - ETA: 0s - loss: 0.3085 - accuracy: 0.8684\n",
      "Epoch 00098: val_loss did not improve from 0.36267\n",
      "101/101 [==============================] - 87s 862ms/step - loss: 0.3085 - accuracy: 0.8684 - val_loss: 0.3672 - val_accuracy: 0.8480\n",
      "Epoch 99/100\n",
      "101/101 [==============================] - ETA: 0s - loss: 0.3083 - accuracy: 0.8697\n",
      "Epoch 00099: val_loss did not improve from 0.36267\n",
      "101/101 [==============================] - 87s 857ms/step - loss: 0.3083 - accuracy: 0.8697 - val_loss: 0.3710 - val_accuracy: 0.8480\n",
      "Epoch 100/100\n",
      "101/101 [==============================] - ETA: 0s - loss: 0.3058 - accuracy: 0.8690\n",
      "Epoch 00100: val_loss did not improve from 0.36267\n",
      "101/101 [==============================] - 87s 860ms/step - loss: 0.3058 - accuracy: 0.8690 - val_loss: 0.3775 - val_accuracy: 0.8465\n"
     ]
    }
   ],
   "source": [
    "history = model.fit(x_train, y_train, validation_data=(x_test,y_test), batch_size=200, epochs=100, verbose=1,callbacks=callbacks)"
   ]
  },
  {
   "cell_type": "code",
   "execution_count": 151,
   "metadata": {
    "colab": {
     "base_uri": "https://localhost:8080/",
     "height": 545
    },
    "id": "APowzKuvDIO_",
    "outputId": "c19f1e5b-0b96-4f6f-dc8e-034e30db63af"
   },
   "outputs": [
    {
     "data": {
      "image/png": "[encoded data removed]",
      "text/plain": [
       "<Figure size 432x288 with 1 Axes>"
      ]
     },
     "metadata": {
      "needs_background": "light",
      "tags": []
     },
     "output_type": "display_data"
    },
    {
     "data": {
      "image/png": "[encoded data removed]",
      "text/plain": [
       "<Figure size 432x288 with 1 Axes>"
      ]
     },
     "metadata": {
      "needs_background": "light",
      "tags": []
     },
     "output_type": "display_data"
    }
   ],
   "source": [
    "acc = history.history['accuracy']\n",
    "val_acc = history.history['val_accuracy']\n",
    "loss = history.history['loss']\n",
    "val_loss = history.history['val_loss']\n",
    "\n",
    "epochs = range(1, len(acc)+1)\n",
    "\n",
    "plt.plot(epochs, acc, 'g', label='Training accuracy')\n",
    "plt.plot(epochs, val_acc, 'r', label='Validation accuracy')\n",
    "plt.title('Training and validation accuracy')\n",
    "plt.legend()\n",
    "\n",
    "plt.figure()\n",
    "\n",
    "plt.plot(epochs, loss, 'g', label='Training loss')\n",
    "plt.plot(epochs, val_loss, 'r', label='Validation loss')\n",
    "plt.title('Training and validation loss')\n",
    "plt.legend()\n",
    "\n",
    "plt.show()"
   ]
  },
  {
   "cell_type": "code",
   "execution_count": 152,
   "metadata": {
    "id": "RRBDcfLJDMs6"
   },
   "outputs": [],
   "source": [
    "# def predict_sarcasm(s):\n",
    "#     x_final = pd.DataFrame({\"headline\":[s]})\n",
    "#     test_lines = CleanTokenize(x_final)\n",
    "#     test_sequences = tokenizer_obj.texts_to_sequences(test_lines)\n",
    "#     test_review_pad = pad_sequences(test_sequences, maxlen=max_length, padding='post')\n",
    "#     pred = model.predict(test_review_pad)\n",
    "#     pred*=100\n",
    "#     if pred[0][0]>=50: return \"It's a sarcasm!\" \n",
    "#     else: return \"It's not a sarcasm.\""
   ]
  },
  {
   "cell_type": "code",
   "execution_count": 166,
   "metadata": {
    "id": "aPeh-baRy7RC"
   },
   "outputs": [],
   "source": [
    "predictions=model.predict(x_test)"
   ]
  },
  {
   "cell_type": "code",
   "execution_count": 202,
   "metadata": {
    "colab": {
     "base_uri": "https://localhost:8080/"
    },
    "id": "i2DCgNrBDPcO",
    "outputId": "0c911ddd-841b-4f4b-e84c-f9911b80d98e"
   },
   "outputs": [
    {
     "name": "stdout",
     "output_type": "stream",
     "text": [
      "woman unaware she is only person on acid at james taylor concert\n",
      "Prediction value: 0.94152427\n",
      "Actual value: 1\n"
     ]
    }
   ],
   "source": [
    "# predict_sarcasm(x_test[0])\n",
    "index=2\n",
    "sent=[]\n",
    "for i in x_test[index]:\n",
    "  if i==0:\n",
    "    continue\n",
    "  else:\n",
    "    sent.append(number_word_mapping[i])\n",
    "print(\" \".join(sent))\n",
    "print('Prediction value:',predictions[index][0])\n",
    "print('Actual value:',y_test[index])"
   ]
  }
 ],
 "metadata": {
  "accelerator": "TPU",
  "colab": {
   "collapsed_sections": [
    "jktrRu63lZaV",
    "PBPqaEsyl0ZD"
   ],
   "name": "Sarcasm_Detection_Project_2.ipynb",
   "provenance": []
  },
  "kernelspec": {
   "display_name": "Python 3",
   "language": "python",
   "name": "python3"
  },
  "language_info": {
   "codemirror_mode": {
    "name": "ipython",
    "version": 3
   },
   "file_extension": ".py",
   "mimetype": "text/x-python",
   "name": "python",
   "nbconvert_exporter": "python",
   "pygments_lexer": "ipython3",
   "version": "3.7.1"
  }
 },
 "nbformat": 4,
 "nbformat_minor": 1
}
