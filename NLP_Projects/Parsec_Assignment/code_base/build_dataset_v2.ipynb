{
 "cells": [
  {
   "cell_type": "markdown",
   "metadata": {},
   "source": [
    "#### Fetching complete Dataset "
   ]
  },
  {
   "cell_type": "code",
   "execution_count": 5,
   "metadata": {},
   "outputs": [],
   "source": [
    "import pandas as pd\n",
    "import numpy as np\n",
    "import seaborn as sns\n",
    "import matplotlib.pyplot as plt\n"
   ]
  },
  {
   "cell_type": "code",
   "execution_count": 6,
   "metadata": {},
   "outputs": [],
   "source": [
    "import os\n",
    "import platform\n",
    "import sys"
   ]
  },
  {
   "cell_type": "code",
   "execution_count": 7,
   "metadata": {},
   "outputs": [],
   "source": [
    "#  Setting Path to Dataset\n",
    "def check_if_colab():\n",
    "    if 'google.colab' in sys.modules:\n",
    "        return True\n",
    "    return False"
   ]
  },
  {
   "cell_type": "code",
   "execution_count": 8,
   "metadata": {},
   "outputs": [
    {
     "data": {
      "text/plain": [
       "['DataSet.xlsx', 'modified_dataset.xlsx', 'modified_dataset_v1.xlsx']"
      ]
     },
     "execution_count": 8,
     "metadata": {},
     "output_type": "execute_result"
    }
   ],
   "source": [
    "if check_if_colab():\n",
    "    print(\"Running on Google Colab\")\n",
    "    # from google.colab import drive\n",
    "    # drive.mount('/content/drive')\n",
    "    # BASE_PATH_TO_DATASETS='/content/drive/MyDrive/OMSCS/cs7641/All assignments/Assignments/Assignment-1'\n",
    "    # BASE_PATH_TO_DATASETS=os.path.join(BASE_PATH_TO_DATASETS,'pubg')\n",
    "else:\n",
    "  if platform.system().lower().__contains__('windows'):\n",
    "      BASE_PATH_TO_PROJECT_REPOSITORY=(os.sep).join(os.getcwd().split(os.sep)[:os.getcwd().split(os.sep).index('Parsec_Assignment')+1])\n",
    "      BASE_PATH_TO_DATASETS=os.path.join(BASE_PATH_TO_PROJECT_REPOSITORY,'dataset')\n",
    "      BASE_PATH_TO_CODE_BASE =os.path.join(BASE_PATH_TO_DATASETS, 'code_base')\n",
    "\n",
    "  elif platform.system().lower().__contains__('linux'):\n",
    "      BASE_PATH_TO_PROJECT_REPOSITORY=(os.sep).join(os.getcwd().split(os.sep)[:os.getcwd().split(os.sep).index('Parsec_Assignment')+1])\n",
    "      BASE_PATH_TO_DATASETS=os.path.join(BASE_PATH_TO_PROJECT_REPOSITORY,'dataset')\n",
    "      BASE_PATH_TO_CODE_BASE=os.path.join(BASE_PATH_TO_PROJECT_REPOSITORY, 'code_base')\n",
    "  else:\n",
    "      print('OS Error')\n",
    "os.listdir(BASE_PATH_TO_DATASETS)"
   ]
  },
  {
   "cell_type": "code",
   "execution_count": 9,
   "metadata": {},
   "outputs": [
    {
     "data": {
      "text/plain": [
       "'/media/vchopra/DATA/Complete Technical Work/All  Projects Implemented/Small Projects/Artificial Intelligence Projects/Code Base/Natural_Language_Processing_Projects/Parsec_Assignment/dataset/DataSet.xlsx'"
      ]
     },
     "execution_count": 9,
     "metadata": {},
     "output_type": "execute_result"
    }
   ],
   "source": [
    "PATH_TO_DATATSET_XLSX=os.path.join(BASE_PATH_TO_DATASETS, 'DataSet.xlsx')\n",
    "PATH_TO_DATATSET_XLSX"
   ]
  },
  {
   "cell_type": "code",
   "execution_count": 12,
   "metadata": {},
   "outputs": [
    {
     "data": {
      "text/html": [
       "<div>\n",
       "<style scoped>\n",
       "    .dataframe tbody tr th:only-of-type {\n",
       "        vertical-align: middle;\n",
       "    }\n",
       "\n",
       "    .dataframe tbody tr th {\n",
       "        vertical-align: top;\n",
       "    }\n",
       "\n",
       "    .dataframe thead th {\n",
       "        text-align: right;\n",
       "    }\n",
       "</style>\n",
       "<table border=\"1\" class=\"dataframe\">\n",
       "  <thead>\n",
       "    <tr style=\"text-align: right;\">\n",
       "      <th></th>\n",
       "      <th>datasheet_link</th>\n",
       "      <th>target_col</th>\n",
       "    </tr>\n",
       "  </thead>\n",
       "  <tbody>\n",
       "    <tr>\n",
       "      <th>2565</th>\n",
       "      <td>https://www.memoryprotectiondevices.com/datash...</td>\n",
       "      <td>others</td>\n",
       "    </tr>\n",
       "    <tr>\n",
       "      <th>2566</th>\n",
       "      <td>https://www.memoryprotectiondevices.com/datash...</td>\n",
       "      <td>others</td>\n",
       "    </tr>\n",
       "    <tr>\n",
       "      <th>2567</th>\n",
       "      <td>https://www.memoryprotectiondevices.com/datash...</td>\n",
       "      <td>others</td>\n",
       "    </tr>\n",
       "    <tr>\n",
       "      <th>2568</th>\n",
       "      <td>http://www.switchcomp.com/switchcomp_ecommerce...</td>\n",
       "      <td>others</td>\n",
       "    </tr>\n",
       "    <tr>\n",
       "      <th>2569</th>\n",
       "      <td>http://www.switchcomp.com/switchcomp_ecommerce...</td>\n",
       "      <td>others</td>\n",
       "    </tr>\n",
       "  </tbody>\n",
       "</table>\n",
       "</div>"
      ],
      "text/plain": [
       "                                         datasheet_link target_col\n",
       "2565  https://www.memoryprotectiondevices.com/datash...     others\n",
       "2566  https://www.memoryprotectiondevices.com/datash...     others\n",
       "2567  https://www.memoryprotectiondevices.com/datash...     others\n",
       "2568  http://www.switchcomp.com/switchcomp_ecommerce...     others\n",
       "2569  http://www.switchcomp.com/switchcomp_ecommerce...     others"
      ]
     },
     "execution_count": 12,
     "metadata": {},
     "output_type": "execute_result"
    }
   ],
   "source": [
    "df=pd.read_excel(PATH_TO_DATATSET_XLSX)\n",
    "df.tail()"
   ]
  },
  {
   "cell_type": "markdown",
   "metadata": {},
   "source": [
    "#### Basic Distribution Plot"
   ]
  },
  {
   "cell_type": "code",
   "execution_count": 13,
   "metadata": {},
   "outputs": [
    {
     "data": {
      "text/plain": [
       "<seaborn.axisgrid.FacetGrid at 0x7495acc28f50>"
      ]
     },
     "execution_count": 13,
     "metadata": {},
     "output_type": "execute_result"
    },
    {
     "data": {
      "image/png": "[encoded data removed]",
      "text/plain": [
       "<Figure size 500x500 with 1 Axes>"
      ]
     },
     "metadata": {},
     "output_type": "display_data"
    }
   ],
   "source": [
    "sns.displot(df['target_col'])"
   ]
  },
  {
   "cell_type": "markdown",
   "metadata": {},
   "source": [
    "### Fixing a few URL's"
   ]
  },
  {
   "cell_type": "code",
   "execution_count": 14,
   "metadata": {},
   "outputs": [],
   "source": [
    "import re\n",
    "import requests\n",
    "from urllib.parse import urlparse"
   ]
  },
  {
   "cell_type": "code",
   "execution_count": 15,
   "metadata": {},
   "outputs": [],
   "source": [
    "def fix_digikey_url(url: str) -> str:\n",
    "    \"\"\"Add https:// prefix to digikey URLs if missing\"\"\"\n",
    "    if url.startswith(\"//mm.digikey\"):\n",
    "        return f\"http:{url}\"\n",
    "    return url"
   ]
  },
  {
   "cell_type": "code",
   "execution_count": 16,
   "metadata": {},
   "outputs": [
    {
     "data": {
      "text/plain": [
       "'http://mm.digikey.com/Volume0/opasdata/d220001/medias/docus/665/1704853.pdf'"
      ]
     },
     "execution_count": 16,
     "metadata": {},
     "output_type": "execute_result"
    }
   ],
   "source": [
    "url = \"//mm.digikey.com/Volume0/opasdata/d220001/medias/docus/665/1704853.pdf\"\n",
    "fixed_url = fix_digikey_url(url)\n",
    "fixed_url"
   ]
  },
  {
   "cell_type": "code",
   "execution_count": 18,
   "metadata": {},
   "outputs": [
    {
     "data": {
      "text/html": [
       "<div>\n",
       "<style scoped>\n",
       "    .dataframe tbody tr th:only-of-type {\n",
       "        vertical-align: middle;\n",
       "    }\n",
       "\n",
       "    .dataframe tbody tr th {\n",
       "        vertical-align: top;\n",
       "    }\n",
       "\n",
       "    .dataframe thead th {\n",
       "        text-align: right;\n",
       "    }\n",
       "</style>\n",
       "<table border=\"1\" class=\"dataframe\">\n",
       "  <thead>\n",
       "    <tr style=\"text-align: right;\">\n",
       "      <th></th>\n",
       "      <th>datasheet_link</th>\n",
       "      <th>target_col</th>\n",
       "      <th>fixed_url</th>\n",
       "    </tr>\n",
       "  </thead>\n",
       "  <tbody>\n",
       "    <tr>\n",
       "      <th>0</th>\n",
       "      <td>https://lfillumination.com/files/specsheets/EF...</td>\n",
       "      <td>lighting</td>\n",
       "      <td>https://lfillumination.com/files/specsheets/EF...</td>\n",
       "    </tr>\n",
       "    <tr>\n",
       "      <th>1</th>\n",
       "      <td>https://lfillumination.com/files/specsheets/EF...</td>\n",
       "      <td>lighting</td>\n",
       "      <td>https://lfillumination.com/files/specsheets/EF...</td>\n",
       "    </tr>\n",
       "    <tr>\n",
       "      <th>2</th>\n",
       "      <td>https://lfillumination.com/files/specsheets/EF...</td>\n",
       "      <td>lighting</td>\n",
       "      <td>https://lfillumination.com/files/specsheets/EF...</td>\n",
       "    </tr>\n",
       "    <tr>\n",
       "      <th>3</th>\n",
       "      <td>https://www.waclighting.com/storage/waclightin...</td>\n",
       "      <td>lighting</td>\n",
       "      <td>https://www.waclighting.com/storage/waclightin...</td>\n",
       "    </tr>\n",
       "    <tr>\n",
       "      <th>4</th>\n",
       "      <td>https://www.acuitybrands.com/api/products/geta...</td>\n",
       "      <td>lighting</td>\n",
       "      <td>https://www.acuitybrands.com/api/products/geta...</td>\n",
       "    </tr>\n",
       "    <tr>\n",
       "      <th>...</th>\n",
       "      <td>...</td>\n",
       "      <td>...</td>\n",
       "      <td>...</td>\n",
       "    </tr>\n",
       "    <tr>\n",
       "      <th>2565</th>\n",
       "      <td>https://www.memoryprotectiondevices.com/datash...</td>\n",
       "      <td>others</td>\n",
       "      <td>https://www.memoryprotectiondevices.com/datash...</td>\n",
       "    </tr>\n",
       "    <tr>\n",
       "      <th>2566</th>\n",
       "      <td>https://www.memoryprotectiondevices.com/datash...</td>\n",
       "      <td>others</td>\n",
       "      <td>https://www.memoryprotectiondevices.com/datash...</td>\n",
       "    </tr>\n",
       "    <tr>\n",
       "      <th>2567</th>\n",
       "      <td>https://www.memoryprotectiondevices.com/datash...</td>\n",
       "      <td>others</td>\n",
       "      <td>https://www.memoryprotectiondevices.com/datash...</td>\n",
       "    </tr>\n",
       "    <tr>\n",
       "      <th>2568</th>\n",
       "      <td>http://www.switchcomp.com/switchcomp_ecommerce...</td>\n",
       "      <td>others</td>\n",
       "      <td>http://www.switchcomp.com/switchcomp_ecommerce...</td>\n",
       "    </tr>\n",
       "    <tr>\n",
       "      <th>2569</th>\n",
       "      <td>http://www.switchcomp.com/switchcomp_ecommerce...</td>\n",
       "      <td>others</td>\n",
       "      <td>http://www.switchcomp.com/switchcomp_ecommerce...</td>\n",
       "    </tr>\n",
       "  </tbody>\n",
       "</table>\n",
       "<p>2570 rows × 3 columns</p>\n",
       "</div>"
      ],
      "text/plain": [
       "                                         datasheet_link target_col  \\\n",
       "0     https://lfillumination.com/files/specsheets/EF...   lighting   \n",
       "1     https://lfillumination.com/files/specsheets/EF...   lighting   \n",
       "2     https://lfillumination.com/files/specsheets/EF...   lighting   \n",
       "3     https://www.waclighting.com/storage/waclightin...   lighting   \n",
       "4     https://www.acuitybrands.com/api/products/geta...   lighting   \n",
       "...                                                 ...        ...   \n",
       "2565  https://www.memoryprotectiondevices.com/datash...     others   \n",
       "2566  https://www.memoryprotectiondevices.com/datash...     others   \n",
       "2567  https://www.memoryprotectiondevices.com/datash...     others   \n",
       "2568  http://www.switchcomp.com/switchcomp_ecommerce...     others   \n",
       "2569  http://www.switchcomp.com/switchcomp_ecommerce...     others   \n",
       "\n",
       "                                              fixed_url  \n",
       "0     https://lfillumination.com/files/specsheets/EF...  \n",
       "1     https://lfillumination.com/files/specsheets/EF...  \n",
       "2     https://lfillumination.com/files/specsheets/EF...  \n",
       "3     https://www.waclighting.com/storage/waclightin...  \n",
       "4     https://www.acuitybrands.com/api/products/geta...  \n",
       "...                                                 ...  \n",
       "2565  https://www.memoryprotectiondevices.com/datash...  \n",
       "2566  https://www.memoryprotectiondevices.com/datash...  \n",
       "2567  https://www.memoryprotectiondevices.com/datash...  \n",
       "2568  http://www.switchcomp.com/switchcomp_ecommerce...  \n",
       "2569  http://www.switchcomp.com/switchcomp_ecommerce...  \n",
       "\n",
       "[2570 rows x 3 columns]"
      ]
     },
     "execution_count": 18,
     "metadata": {},
     "output_type": "execute_result"
    }
   ],
   "source": [
    "df['fixed_url'] = df['datasheet_link'].apply(fix_digikey_url)\n",
    "df"
   ]
  },
  {
   "cell_type": "code",
   "execution_count": 20,
   "metadata": {},
   "outputs": [],
   "source": [
    "df.to_excel(os.path.join(BASE_PATH_TO_DATASETS, 'modified_dataset_v2.xlsx'), index=False)"
   ]
  },
  {
   "cell_type": "markdown",
   "metadata": {},
   "source": [
    "###   Creating Dataset"
   ]
  },
  {
   "cell_type": "code",
   "execution_count": null,
   "metadata": {},
   "outputs": [],
   "source": [
    "# for i in range(0,len(df)):\n",
    "#     if df['fixed_url'].iloc[i]=='-':\n",
    "#         print(i)\n",
    "#     else:\n",
    "#         continue"
   ]
  },
  {
   "cell_type": "code",
   "execution_count": 1,
   "metadata": {},
   "outputs": [],
   "source": [
    "import time\n",
    "import requests\n",
    "import io\n",
    "import pymupdf as fitz  # PyMuPDF\n",
    "import pytesseract\n",
    "from pdf2image import convert_from_bytes\n",
    "from PIL import Image\n",
    "import time"
   ]
  },
  {
   "cell_type": "code",
   "execution_count": 2,
   "metadata": {},
   "outputs": [],
   "source": [
    "# Mimic browser headers\n",
    "HEADERS = {\n",
    "    \"User-Agent\": \"Mozilla/5.0 (Windows NT 10.0; Win64; x64) AppleWebKit/537.36 (KHTML, like Gecko) Chrome/119.0.0.0 Safari/537.36\",\n",
    "    \"Referer\": \"https://www.google.com\",\n",
    "    \"Accept\": \"application/pdf\",\n",
    "    \"Accept-Language\": \"en-US,en;q=0.9\",\n",
    "    \"Cache-Control\": \"no-cache\",\n",
    "    \"Connection\": \"keep-alive\"\n",
    "}"
   ]
  },
  {
   "cell_type": "code",
   "execution_count": 3,
   "metadata": {},
   "outputs": [],
   "source": [
    "# def fetch_pdf(url, timeout=20):\n",
    "#     \"\"\"Fetch PDF content from a URL, mimicking a browser request.\"\"\"\n",
    "#     start_time = time.time()\n",
    "    \n",
    "#     try:\n",
    "#         response = requests.get(url, headers=HEADERS, timeout=timeout)\n",
    "#         response.raise_for_status()  # Raise HTTP errors directly\n",
    "        \n",
    "#         total_time = time.time() - start_time\n",
    "#         return response.content, response.status_code, total_time\n",
    "    \n",
    "#     except requests.exceptions.Timeout:\n",
    "#         return f\"Timeout: Could not retrieve PDF from {url}\", 408, 0\n",
    "#     except requests.exceptions.RequestException as e:\n",
    "#         return f\"Error downloading PDF: {str(e)}\", 500, 0\n",
    "    \n",
    "\n",
    "def fetch_pdf(url, timeout=20):\n",
    "    start_time = time.time()\n",
    "    \n",
    "    try:\n",
    "        response = requests.get(url, headers=HEADERS, timeout=timeout)\n",
    "        response.raise_for_status()  # Raise error for HTTP codes like 403, 404\n",
    "        \n",
    "        total_time = time.time() - start_time\n",
    "        \n",
    "        # Log if response is not PDF\n",
    "        if response.content[:4] != b'%PDF':\n",
    "            with open(\"debug_response.html\", \"wb\") as f:\n",
    "                f.write(response.content)\n",
    "            return \"Invalid PDF. HTML or different content returned.\", 415, total_time\n",
    "        \n",
    "        return response.content, response.status_code, total_time\n",
    "    \n",
    "    except requests.exceptions.Timeout:\n",
    "        return f\"Timeout: Could not retrieve PDF from {url}\", 408, 0\n",
    "    except requests.exceptions.RequestException as e:\n",
    "        return f\"Error downloading PDF: {str(e)}\", 500, 0\n",
    "\n"
   ]
  },
  {
   "cell_type": "code",
   "execution_count": 4,
   "metadata": {},
   "outputs": [],
   "source": [
    "\n",
    "def is_valid_pdf(pdf_bytes):\n",
    "    return pdf_bytes[:4] == b'%PDF'\n",
    "\n",
    "def perform_ocr(pdf_bytes):\n",
    "    \"\"\"Perform OCR on a scanned PDF (fallback).\"\"\"\n",
    "    images = convert_from_bytes(pdf_bytes)\n",
    "    text = \"\"\n",
    "    for img in images:\n",
    "        text += pytesseract.image_to_string(img)\n",
    "    \n",
    "    return text.strip() if text else \"OCR could not extract text.\""
   ]
  },
  {
   "cell_type": "code",
   "execution_count": 5,
   "metadata": {},
   "outputs": [],
   "source": [
    "def extract_text_from_pdf(pdf_bytes):\n",
    "    if not is_valid_pdf(pdf_bytes):\n",
    "        return \"Invalid PDF or HTML returned instead of PDF.\"\n",
    "\n",
    "    pdf_file = io.BytesIO(pdf_bytes)\n",
    "    \n",
    "    try:\n",
    "        doc = fitz.open(stream=pdf_file, filetype=\"pdf\")\n",
    "    except Exception as e:\n",
    "        return f\"Failed to open PDF: {str(e)}\"\n",
    "    \n",
    "    text = \"\"\n",
    "    for page in doc:\n",
    "        page_text = page.get_text(\"text\")\n",
    "        if not page_text.strip():  # If no text, fallback to OCR\n",
    "            return perform_ocr(pdf_bytes)\n",
    "        text += page_text\n",
    "    \n",
    "    return text.strip() if text else \"No extractable text found.\""
   ]
  },
  {
   "cell_type": "code",
   "execution_count": 6,
   "metadata": {},
   "outputs": [],
   "source": [
    "\n",
    "def read_pdf_from_url(url):\n",
    "    \"\"\"Unified function to read PDF content from a URL.\"\"\"\n",
    "    if url == '-':\n",
    "        return \"No URL provided\", 400, 0\n",
    "    \n",
    "    pdf_bytes, status_code, total_time = fetch_pdf(url)\n",
    "    \n",
    "    if isinstance(pdf_bytes, str):\n",
    "        return pdf_bytes, status_code, total_time  # Return errors directly\n",
    "    \n",
    "    extracted_text = extract_text_from_pdf(pdf_bytes)\n",
    "    \n",
    "    return extracted_text, status_code, total_time"
   ]
  },
  {
   "cell_type": "code",
   "execution_count": null,
   "metadata": {},
   "outputs": [],
   "source": []
  },
  {
   "cell_type": "code",
   "execution_count": 108,
   "metadata": {},
   "outputs": [
    {
     "data": {
      "text/html": [
       "<div>\n",
       "<style scoped>\n",
       "    .dataframe tbody tr th:only-of-type {\n",
       "        vertical-align: middle;\n",
       "    }\n",
       "\n",
       "    .dataframe tbody tr th {\n",
       "        vertical-align: top;\n",
       "    }\n",
       "\n",
       "    .dataframe thead th {\n",
       "        text-align: right;\n",
       "    }\n",
       "</style>\n",
       "<table border=\"1\" class=\"dataframe\">\n",
       "  <thead>\n",
       "    <tr style=\"text-align: right;\">\n",
       "      <th></th>\n",
       "      <th>fixed_url</th>\n",
       "      <th>target_col</th>\n",
       "    </tr>\n",
       "  </thead>\n",
       "  <tbody>\n",
       "    <tr>\n",
       "      <th>2387</th>\n",
       "      <td>https://www.alphawire.com/products/cable/alpha...</td>\n",
       "      <td>cable</td>\n",
       "    </tr>\n",
       "  </tbody>\n",
       "</table>\n",
       "</div>"
      ],
      "text/plain": [
       "                                              fixed_url target_col\n",
       "2387  https://www.alphawire.com/products/cable/alpha...      cable"
      ]
     },
     "execution_count": 108,
     "metadata": {},
     "output_type": "execute_result"
    }
   ],
   "source": [
    "# Select 5 samples from the dataframe\n",
    "sample_df = df.sample(1)\n",
    "# sample_df=df.iloc[[1839]]\n",
    "# sample_df = pd.DataFrame(df.iloc[1839], columns=df.columns)\n",
    "sample_df[['fixed_url', 'target_col']]"
   ]
  },
  {
   "cell_type": "code",
   "execution_count": 109,
   "metadata": {},
   "outputs": [
    {
     "name": "stdout",
     "output_type": "stream",
     "text": [
      "('Invalid PDF. HTML or different content returned.', 415, 3.4250218868255615) <class 'tuple'>\n"
     ]
    }
   ],
   "source": [
    "sample_results= read_pdf_from_url(sample_df['fixed_url'].iloc[0])\n",
    "# sample_results=(sample_df['fixed_url'].apply(read_pdf_from_url))\n",
    "print(sample_results, type(sample_results))"
   ]
  },
  {
   "cell_type": "code",
   "execution_count": 110,
   "metadata": {},
   "outputs": [
    {
     "data": {
      "text/html": [
       "<div>\n",
       "<style scoped>\n",
       "    .dataframe tbody tr th:only-of-type {\n",
       "        vertical-align: middle;\n",
       "    }\n",
       "\n",
       "    .dataframe tbody tr th {\n",
       "        vertical-align: top;\n",
       "    }\n",
       "\n",
       "    .dataframe thead th {\n",
       "        text-align: right;\n",
       "    }\n",
       "</style>\n",
       "<table border=\"1\" class=\"dataframe\">\n",
       "  <thead>\n",
       "    <tr style=\"text-align: right;\">\n",
       "      <th></th>\n",
       "      <th>datasheet_link</th>\n",
       "      <th>pdf_text_sample</th>\n",
       "      <th>link_status_code</th>\n",
       "      <th>link_time_taken</th>\n",
       "    </tr>\n",
       "  </thead>\n",
       "  <tbody>\n",
       "    <tr>\n",
       "      <th>2387</th>\n",
       "      <td>https://www.alphawire.com/products/cable/alpha...</td>\n",
       "      <td>Invalid PDF. HTML or different content returned.</td>\n",
       "      <td>415.0</td>\n",
       "      <td>3.425022</td>\n",
       "    </tr>\n",
       "  </tbody>\n",
       "</table>\n",
       "</div>"
      ],
      "text/plain": [
       "                                         datasheet_link  \\\n",
       "2387  https://www.alphawire.com/products/cable/alpha...   \n",
       "\n",
       "                                       pdf_text_sample  link_status_code  \\\n",
       "2387  Invalid PDF. HTML or different content returned.             415.0   \n",
       "\n",
       "      link_time_taken  \n",
       "2387         3.425022  "
      ]
     },
     "execution_count": 110,
     "metadata": {},
     "output_type": "execute_result"
    }
   ],
   "source": [
    "sample_df.loc[sample_df.index[0], 'pdf_text_sample'] = sample_results[0]\n",
    "sample_df.loc[sample_df.index[0], 'link_status_code'] = sample_results[1]\n",
    "sample_df.loc[sample_df.index[0], 'link_time_taken'] = sample_results[2]\n",
    "\n",
    "sample_df[['datasheet_link', 'pdf_text_sample', 'link_status_code', 'link_time_taken']]"
   ]
  },
  {
   "cell_type": "markdown",
   "metadata": {},
   "source": [
    "#### Completing for all PDF"
   ]
  },
  {
   "cell_type": "code",
   "execution_count": null,
   "metadata": {},
   "outputs": [],
   "source": [
    "# from tqdm import tqdm\n",
    "# tqdm.pandas()\n",
    "# df['pdf_text'] = df['fixed_url'].progress_apply(read_pdf_from_url)\n",
    "# df.head()"
   ]
  },
  {
   "cell_type": "code",
   "execution_count": 111,
   "metadata": {},
   "outputs": [],
   "source": [
    "import multiprocessing\n",
    "from tqdm import tqdm\n",
    "tqdm.pandas()\n",
    "\n",
    "def multiprocess_read(df, url_column='fixed_url'):\n",
    "    \"\"\"Use multiple processes + tqdm to apply read_pdf_from_url.\"\"\"\n",
    "    with multiprocessing.Pool() as pool:\n",
    "        results = list(tqdm(pool.imap(read_pdf_from_url, df[url_column]), total=len(df)))\n",
    "    \n",
    "    # Unpack results (list of (text, status_code)) into separate columns\n",
    "    pdf_text_sample, link_status_code, link_time_taken = zip(*results)\n",
    "    df['pdf_text_sample'] = pdf_text_sample\n",
    "    df['link_status_code'] = link_status_code\n",
    "    df['link_time_taken'] = link_time_taken\n",
    "    \n",
    "    return df"
   ]
  },
  {
   "cell_type": "code",
   "execution_count": 113,
   "metadata": {},
   "outputs": [
    {
     "name": "stderr",
     "output_type": "stream",
     "text": [
      "100%|██████████| 2570/2570 [12:17<00:00,  3.48it/s] "
     ]
    },
    {
     "name": "stdout",
     "output_type": "stream",
     "text": [
      "                                         datasheet_link  \\\n",
      "0     https://lfillumination.com/files/specsheets/EF...   \n",
      "1     https://lfillumination.com/files/specsheets/EF...   \n",
      "2     https://lfillumination.com/files/specsheets/EF...   \n",
      "3     https://www.waclighting.com/storage/waclightin...   \n",
      "4     https://www.acuitybrands.com/api/products/geta...   \n",
      "...                                                 ...   \n",
      "2565  https://www.memoryprotectiondevices.com/datash...   \n",
      "2566  https://www.memoryprotectiondevices.com/datash...   \n",
      "2567  https://www.memoryprotectiondevices.com/datash...   \n",
      "2568  http://www.switchcomp.com/switchcomp_ecommerce...   \n",
      "2569  http://www.switchcomp.com/switchcomp_ecommerce...   \n",
      "\n",
      "                                        pdf_text_sample  link_status_code  \n",
      "0     EF400 System # EF408B\\nDIE CAST CYLINDRICAL LI...               200  \n",
      "1     Error downloading PDF: 404 Client Error: Not F...               500  \n",
      "2     EF400 System # EF407B\\nDIE CAST CYLINDRICAL LI...               200  \n",
      "3     ADJUSTABLE BEAM WALL WASH 12V\\n5221\\nORDERING ...               200  \n",
      "4     Type:\\nProject:\\nHDMC\\nSurface Mount with FAR-...               200  \n",
      "...                                                 ...               ...  \n",
      "2565  Error downloading PDF: 404 Client Error: Not F...               500  \n",
      "2566  Error downloading PDF: 404 Client Error: Not F...               500  \n",
      "2567  Error downloading PDF: 404 Client Error: Not F...               500  \n",
      "2568  Mechanical Dimensions: Inches [mm]\\nMounting H...               200  \n",
      "2569  Mechanical Dimensions: Inches [mm]\\nMounting H...               200  \n",
      "\n",
      "[2570 rows x 3 columns]\n"
     ]
    },
    {
     "name": "stderr",
     "output_type": "stream",
     "text": [
      "\n"
     ]
    }
   ],
   "source": [
    "dataset = multiprocess_read(df, 'fixed_url')\n",
    "print(dataset[['datasheet_link','pdf_text_sample','link_status_code']])"
   ]
  },
  {
   "cell_type": "code",
   "execution_count": 119,
   "metadata": {},
   "outputs": [
    {
     "data": {
      "text/plain": [
       "link_status_code\n",
       "200    1744\n",
       "415     493\n",
       "500     200\n",
       "408      71\n",
       "400      62\n",
       "Name: count, dtype: int64"
      ]
     },
     "execution_count": 119,
     "metadata": {},
     "output_type": "execute_result"
    }
   ],
   "source": [
    "dataset['link_status_code'].value_counts()"
   ]
  },
  {
   "cell_type": "code",
   "execution_count": 135,
   "metadata": {},
   "outputs": [
    {
     "data": {
      "text/html": [
       "<div>\n",
       "<style scoped>\n",
       "    .dataframe tbody tr th:only-of-type {\n",
       "        vertical-align: middle;\n",
       "    }\n",
       "\n",
       "    .dataframe tbody tr th {\n",
       "        vertical-align: top;\n",
       "    }\n",
       "\n",
       "    .dataframe thead th {\n",
       "        text-align: right;\n",
       "    }\n",
       "</style>\n",
       "<table border=\"1\" class=\"dataframe\">\n",
       "  <thead>\n",
       "    <tr style=\"text-align: right;\">\n",
       "      <th></th>\n",
       "      <th>datasheet_link</th>\n",
       "      <th>target_col</th>\n",
       "      <th>fixed_url</th>\n",
       "      <th>pdf_text_sample</th>\n",
       "      <th>link_status_code</th>\n",
       "      <th>link_time_taken</th>\n",
       "    </tr>\n",
       "  </thead>\n",
       "  <tbody>\n",
       "    <tr>\n",
       "      <th>576</th>\n",
       "      <td>https://www.eaton.com/content/dam/eaton/produc...</td>\n",
       "      <td>fuses</td>\n",
       "      <td>https://www.eaton.com/content/dam/eaton/produc...</td>\n",
       "      <td>Timeout: Could not retrieve PDF from https://w...</td>\n",
       "      <td>408</td>\n",
       "      <td>0.0</td>\n",
       "    </tr>\n",
       "    <tr>\n",
       "      <th>583</th>\n",
       "      <td>https://www.eaton.com/content/dam/eaton/produc...</td>\n",
       "      <td>fuses</td>\n",
       "      <td>https://www.eaton.com/content/dam/eaton/produc...</td>\n",
       "      <td>Timeout: Could not retrieve PDF from https://w...</td>\n",
       "      <td>408</td>\n",
       "      <td>0.0</td>\n",
       "    </tr>\n",
       "    <tr>\n",
       "      <th>606</th>\n",
       "      <td>https://www.eaton.com/content/dam/eaton/produc...</td>\n",
       "      <td>fuses</td>\n",
       "      <td>https://www.eaton.com/content/dam/eaton/produc...</td>\n",
       "      <td>Timeout: Could not retrieve PDF from https://w...</td>\n",
       "      <td>408</td>\n",
       "      <td>0.0</td>\n",
       "    </tr>\n",
       "    <tr>\n",
       "      <th>662</th>\n",
       "      <td>https://www.eaton.com/content/dam/eaton/produc...</td>\n",
       "      <td>fuses</td>\n",
       "      <td>https://www.eaton.com/content/dam/eaton/produc...</td>\n",
       "      <td>Timeout: Could not retrieve PDF from https://w...</td>\n",
       "      <td>408</td>\n",
       "      <td>0.0</td>\n",
       "    </tr>\n",
       "    <tr>\n",
       "      <th>665</th>\n",
       "      <td>https://www.eaton.com/content/dam/eaton/produc...</td>\n",
       "      <td>fuses</td>\n",
       "      <td>https://www.eaton.com/content/dam/eaton/produc...</td>\n",
       "      <td>Timeout: Could not retrieve PDF from https://w...</td>\n",
       "      <td>408</td>\n",
       "      <td>0.0</td>\n",
       "    </tr>\n",
       "  </tbody>\n",
       "</table>\n",
       "</div>"
      ],
      "text/plain": [
       "                                        datasheet_link target_col  \\\n",
       "576  https://www.eaton.com/content/dam/eaton/produc...      fuses   \n",
       "583  https://www.eaton.com/content/dam/eaton/produc...      fuses   \n",
       "606  https://www.eaton.com/content/dam/eaton/produc...      fuses   \n",
       "662  https://www.eaton.com/content/dam/eaton/produc...      fuses   \n",
       "665  https://www.eaton.com/content/dam/eaton/produc...      fuses   \n",
       "\n",
       "                                             fixed_url  \\\n",
       "576  https://www.eaton.com/content/dam/eaton/produc...   \n",
       "583  https://www.eaton.com/content/dam/eaton/produc...   \n",
       "606  https://www.eaton.com/content/dam/eaton/produc...   \n",
       "662  https://www.eaton.com/content/dam/eaton/produc...   \n",
       "665  https://www.eaton.com/content/dam/eaton/produc...   \n",
       "\n",
       "                                       pdf_text_sample  link_status_code  \\\n",
       "576  Timeout: Could not retrieve PDF from https://w...               408   \n",
       "583  Timeout: Could not retrieve PDF from https://w...               408   \n",
       "606  Timeout: Could not retrieve PDF from https://w...               408   \n",
       "662  Timeout: Could not retrieve PDF from https://w...               408   \n",
       "665  Timeout: Could not retrieve PDF from https://w...               408   \n",
       "\n",
       "     link_time_taken  \n",
       "576              0.0  \n",
       "583              0.0  \n",
       "606              0.0  \n",
       "662              0.0  \n",
       "665              0.0  "
      ]
     },
     "execution_count": 135,
     "metadata": {},
     "output_type": "execute_result"
    }
   ],
   "source": [
    "dataset[dataset['link_status_code']==408].head()"
   ]
  },
  {
   "cell_type": "code",
   "execution_count": null,
   "metadata": {},
   "outputs": [
    {
     "data": {
      "text/plain": [
       "'-'"
      ]
     },
     "execution_count": 134,
     "metadata": {},
     "output_type": "execute_result"
    }
   ],
   "source": [
    "dataset[dataset['link_status_code']==408].iloc[1]['fixed_url']"
   ]
  },
  {
   "cell_type": "code",
   "execution_count": 136,
   "metadata": {},
   "outputs": [],
   "source": [
    "subset_df=dataset[dataset['link_status_code']==408]"
   ]
  },
  {
   "cell_type": "code",
   "execution_count": 138,
   "metadata": {},
   "outputs": [],
   "source": [
    "# subset_dataset = multiprocess_read(subset_df, 'fixed_url')\n",
    "# print(subset_dataset[['datasheet_link','pdf_text_sample','link_status_code']])"
   ]
  },
  {
   "cell_type": "code",
   "execution_count": 139,
   "metadata": {},
   "outputs": [],
   "source": [
    "final_df=dataset[dataset['link_status_code']==200]"
   ]
  },
  {
   "cell_type": "code",
   "execution_count": 140,
   "metadata": {},
   "outputs": [],
   "source": [
    "final_df.to_csv(os.path.join(BASE_PATH_TO_DATASETS, 'modified_dataset_v3.xlsx'), index=False)"
   ]
  }
 ],
 "metadata": {
  "kernelspec": {
   "display_name": "demo_env",
   "language": "python",
   "name": "python3"
  },
  "language_info": {
   "codemirror_mode": {
    "name": "ipython",
    "version": 3
   },
   "file_extension": ".py",
   "mimetype": "text/x-python",
   "name": "python",
   "nbconvert_exporter": "python",
   "pygments_lexer": "ipython3",
   "version": "3.11.11"
  }
 },
 "nbformat": 4,
 "nbformat_minor": 2
}
