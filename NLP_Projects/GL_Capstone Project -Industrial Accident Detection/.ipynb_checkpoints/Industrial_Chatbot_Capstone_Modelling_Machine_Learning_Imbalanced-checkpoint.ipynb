{
 "cells": [
  {
   "cell_type": "code",
   "execution_count": null,
   "metadata": {
    "id": "NkCeDpL0Rl04"
   },
   "outputs": [],
   "source": [
    "!python -m nltk.downloader all"
   ]
  },
  {
   "cell_type": "code",
   "execution_count": null,
   "metadata": {
    "id": "-XNFvJo1ntJO"
   },
   "outputs": [],
   "source": [
    "import pandas as pd\n",
    "import matplotlib.pyplot as plt\n",
    "import seaborn as sns\n",
    "import numpy as np"
   ]
  },
  {
   "cell_type": "code",
   "execution_count": null,
   "metadata": {
    "id": "U78Zr_ByDuQ_"
   },
   "outputs": [],
   "source": [
    "from sklearn.preprocessing import LabelEncoder\n",
    "from datetime import datetime\n",
    "import time\n",
    "from sklearn.preprocessing import OneHotEncoder"
   ]
  },
  {
   "cell_type": "code",
   "execution_count": null,
   "metadata": {
    "id": "dyD-BC2QyAmO"
   },
   "outputs": [],
   "source": [
    "from nltk.tokenize import word_tokenize\n",
    "from nltk.corpus import stopwords\n",
    "import string"
   ]
  },
  {
   "cell_type": "code",
   "execution_count": null,
   "metadata": {
    "id": "Zg1MlKXlz8iy"
   },
   "outputs": [],
   "source": [
    "from sklearn.feature_extraction.text import CountVectorizer\n",
    "from sklearn.feature_extraction.text import TfidfVectorizer"
   ]
  },
  {
   "cell_type": "code",
   "execution_count": null,
   "metadata": {
    "colab": {
     "base_uri": "https://localhost:8080/"
    },
    "id": "cA6YFIenoI0y",
    "outputId": "d9e0de5b-0fa5-44cc-a574-710059a15a71"
   },
   "outputs": [
    {
     "name": "stdout",
     "output_type": "stream",
     "text": [
      "Mounted at /content/drive\n"
     ]
    }
   ],
   "source": [
    "from google.colab import drive\n",
    "drive.mount('/content/drive')"
   ]
  },
  {
   "cell_type": "code",
   "execution_count": null,
   "metadata": {
    "id": "-p4lvfY3nytz"
   },
   "outputs": [],
   "source": [
    "df = pd.read_csv('/content/drive/MyDrive/NLP_Chatbot_Capstone_Project/data.csv')"
   ]
  },
  {
   "cell_type": "code",
   "execution_count": null,
   "metadata": {
    "colab": {
     "base_uri": "https://localhost:8080/",
     "height": 407
    },
    "id": "bQJFMKItnyq-",
    "outputId": "73ac1df1-5ad0-444b-841d-063863c09b93"
   },
   "outputs": [
    {
     "data": {
      "text/html": [
       "<div>\n",
       "<style scoped>\n",
       "    .dataframe tbody tr th:only-of-type {\n",
       "        vertical-align: middle;\n",
       "    }\n",
       "\n",
       "    .dataframe tbody tr th {\n",
       "        vertical-align: top;\n",
       "    }\n",
       "\n",
       "    .dataframe thead th {\n",
       "        text-align: right;\n",
       "    }\n",
       "</style>\n",
       "<table border=\"1\" class=\"dataframe\">\n",
       "  <thead>\n",
       "    <tr style=\"text-align: right;\">\n",
       "      <th></th>\n",
       "      <th>Data</th>\n",
       "      <th>Countries</th>\n",
       "      <th>Local</th>\n",
       "      <th>Industry Sector</th>\n",
       "      <th>Accident Level</th>\n",
       "      <th>Potential Accident Level</th>\n",
       "      <th>Genre</th>\n",
       "      <th>Employee or Third Party</th>\n",
       "      <th>Critical Risk</th>\n",
       "      <th>Description</th>\n",
       "    </tr>\n",
       "  </thead>\n",
       "  <tbody>\n",
       "    <tr>\n",
       "      <th>0</th>\n",
       "      <td>2016-01-01 00:00:00</td>\n",
       "      <td>Country_01</td>\n",
       "      <td>Local_01</td>\n",
       "      <td>Mining</td>\n",
       "      <td>I</td>\n",
       "      <td>IV</td>\n",
       "      <td>Male</td>\n",
       "      <td>Third Party</td>\n",
       "      <td>Pressed</td>\n",
       "      <td>While removing the drill rod of the Jumbo 08 f...</td>\n",
       "    </tr>\n",
       "    <tr>\n",
       "      <th>1</th>\n",
       "      <td>2016-01-02 00:00:00</td>\n",
       "      <td>Country_02</td>\n",
       "      <td>Local_02</td>\n",
       "      <td>Mining</td>\n",
       "      <td>I</td>\n",
       "      <td>IV</td>\n",
       "      <td>Male</td>\n",
       "      <td>Employee</td>\n",
       "      <td>Pressurized Systems</td>\n",
       "      <td>During the activation of a sodium sulphide pum...</td>\n",
       "    </tr>\n",
       "    <tr>\n",
       "      <th>2</th>\n",
       "      <td>2016-01-06 00:00:00</td>\n",
       "      <td>Country_01</td>\n",
       "      <td>Local_03</td>\n",
       "      <td>Mining</td>\n",
       "      <td>I</td>\n",
       "      <td>III</td>\n",
       "      <td>Male</td>\n",
       "      <td>Third Party (Remote)</td>\n",
       "      <td>Manual Tools</td>\n",
       "      <td>In the sub-station MILPO located at level +170...</td>\n",
       "    </tr>\n",
       "    <tr>\n",
       "      <th>3</th>\n",
       "      <td>2016-01-08 00:00:00</td>\n",
       "      <td>Country_01</td>\n",
       "      <td>Local_04</td>\n",
       "      <td>Mining</td>\n",
       "      <td>I</td>\n",
       "      <td>I</td>\n",
       "      <td>Male</td>\n",
       "      <td>Third Party</td>\n",
       "      <td>Others</td>\n",
       "      <td>Being 9:45 am. approximately in the Nv. 1880 C...</td>\n",
       "    </tr>\n",
       "    <tr>\n",
       "      <th>4</th>\n",
       "      <td>2016-01-10 00:00:00</td>\n",
       "      <td>Country_01</td>\n",
       "      <td>Local_04</td>\n",
       "      <td>Mining</td>\n",
       "      <td>IV</td>\n",
       "      <td>IV</td>\n",
       "      <td>Male</td>\n",
       "      <td>Third Party</td>\n",
       "      <td>Others</td>\n",
       "      <td>Approximately at 11:45 a.m. in circumstances t...</td>\n",
       "    </tr>\n",
       "    <tr>\n",
       "      <th>...</th>\n",
       "      <td>...</td>\n",
       "      <td>...</td>\n",
       "      <td>...</td>\n",
       "      <td>...</td>\n",
       "      <td>...</td>\n",
       "      <td>...</td>\n",
       "      <td>...</td>\n",
       "      <td>...</td>\n",
       "      <td>...</td>\n",
       "      <td>...</td>\n",
       "    </tr>\n",
       "    <tr>\n",
       "      <th>420</th>\n",
       "      <td>2017-07-04 00:00:00</td>\n",
       "      <td>Country_01</td>\n",
       "      <td>Local_04</td>\n",
       "      <td>Mining</td>\n",
       "      <td>I</td>\n",
       "      <td>III</td>\n",
       "      <td>Male</td>\n",
       "      <td>Third Party</td>\n",
       "      <td>Others</td>\n",
       "      <td>Being approximately 5:00 a.m. approximately, w...</td>\n",
       "    </tr>\n",
       "    <tr>\n",
       "      <th>421</th>\n",
       "      <td>2017-07-04 00:00:00</td>\n",
       "      <td>Country_01</td>\n",
       "      <td>Local_03</td>\n",
       "      <td>Mining</td>\n",
       "      <td>I</td>\n",
       "      <td>II</td>\n",
       "      <td>Female</td>\n",
       "      <td>Employee</td>\n",
       "      <td>Others</td>\n",
       "      <td>The collaborator moved from the infrastructure...</td>\n",
       "    </tr>\n",
       "    <tr>\n",
       "      <th>422</th>\n",
       "      <td>2017-07-05 00:00:00</td>\n",
       "      <td>Country_02</td>\n",
       "      <td>Local_09</td>\n",
       "      <td>Metals</td>\n",
       "      <td>I</td>\n",
       "      <td>II</td>\n",
       "      <td>Male</td>\n",
       "      <td>Employee</td>\n",
       "      <td>Venomous Animals</td>\n",
       "      <td>During the environmental monitoring activity i...</td>\n",
       "    </tr>\n",
       "    <tr>\n",
       "      <th>423</th>\n",
       "      <td>2017-07-06 00:00:00</td>\n",
       "      <td>Country_02</td>\n",
       "      <td>Local_05</td>\n",
       "      <td>Metals</td>\n",
       "      <td>I</td>\n",
       "      <td>II</td>\n",
       "      <td>Male</td>\n",
       "      <td>Employee</td>\n",
       "      <td>Cut</td>\n",
       "      <td>The Employee performed the activity of strippi...</td>\n",
       "    </tr>\n",
       "    <tr>\n",
       "      <th>424</th>\n",
       "      <td>2017-07-09 00:00:00</td>\n",
       "      <td>Country_01</td>\n",
       "      <td>Local_04</td>\n",
       "      <td>Mining</td>\n",
       "      <td>I</td>\n",
       "      <td>II</td>\n",
       "      <td>Female</td>\n",
       "      <td>Third Party</td>\n",
       "      <td>Fall prevention (same level)</td>\n",
       "      <td>At 10:00 a.m., when the assistant cleaned the ...</td>\n",
       "    </tr>\n",
       "  </tbody>\n",
       "</table>\n",
       "<p>425 rows × 10 columns</p>\n",
       "</div>"
      ],
      "text/plain": [
       "                    Data  ...                                        Description\n",
       "0    2016-01-01 00:00:00  ...  While removing the drill rod of the Jumbo 08 f...\n",
       "1    2016-01-02 00:00:00  ...  During the activation of a sodium sulphide pum...\n",
       "2    2016-01-06 00:00:00  ...  In the sub-station MILPO located at level +170...\n",
       "3    2016-01-08 00:00:00  ...  Being 9:45 am. approximately in the Nv. 1880 C...\n",
       "4    2016-01-10 00:00:00  ...  Approximately at 11:45 a.m. in circumstances t...\n",
       "..                   ...  ...                                                ...\n",
       "420  2017-07-04 00:00:00  ...  Being approximately 5:00 a.m. approximately, w...\n",
       "421  2017-07-04 00:00:00  ...  The collaborator moved from the infrastructure...\n",
       "422  2017-07-05 00:00:00  ...  During the environmental monitoring activity i...\n",
       "423  2017-07-06 00:00:00  ...  The Employee performed the activity of strippi...\n",
       "424  2017-07-09 00:00:00  ...  At 10:00 a.m., when the assistant cleaned the ...\n",
       "\n",
       "[425 rows x 10 columns]"
      ]
     },
     "execution_count": 8,
     "metadata": {
      "tags": []
     },
     "output_type": "execute_result"
    }
   ],
   "source": [
    "del df['Unnamed: 0'] \n",
    "df"
   ]
  },
  {
   "cell_type": "code",
   "execution_count": null,
   "metadata": {
    "colab": {
     "base_uri": "https://localhost:8080/",
     "height": 168
    },
    "id": "uN5yVUO6nyoV",
    "outputId": "ed448dd2-3602-4c83-f633-b5fbbc2225f4"
   },
   "outputs": [
    {
     "data": {
      "text/html": [
       "<div>\n",
       "<style scoped>\n",
       "    .dataframe tbody tr th:only-of-type {\n",
       "        vertical-align: middle;\n",
       "    }\n",
       "\n",
       "    .dataframe tbody tr th {\n",
       "        vertical-align: top;\n",
       "    }\n",
       "\n",
       "    .dataframe thead th {\n",
       "        text-align: right;\n",
       "    }\n",
       "</style>\n",
       "<table border=\"1\" class=\"dataframe\">\n",
       "  <thead>\n",
       "    <tr style=\"text-align: right;\">\n",
       "      <th></th>\n",
       "      <th>Data</th>\n",
       "      <th>Countries</th>\n",
       "      <th>Local</th>\n",
       "      <th>Industry Sector</th>\n",
       "      <th>Accident Level</th>\n",
       "      <th>Potential Accident Level</th>\n",
       "      <th>Genre</th>\n",
       "      <th>Employee or Third Party</th>\n",
       "      <th>Critical Risk</th>\n",
       "      <th>Description</th>\n",
       "    </tr>\n",
       "  </thead>\n",
       "  <tbody>\n",
       "    <tr>\n",
       "      <th>count</th>\n",
       "      <td>425</td>\n",
       "      <td>425</td>\n",
       "      <td>425</td>\n",
       "      <td>425</td>\n",
       "      <td>425</td>\n",
       "      <td>425</td>\n",
       "      <td>425</td>\n",
       "      <td>425</td>\n",
       "      <td>425</td>\n",
       "      <td>425</td>\n",
       "    </tr>\n",
       "    <tr>\n",
       "      <th>unique</th>\n",
       "      <td>287</td>\n",
       "      <td>3</td>\n",
       "      <td>12</td>\n",
       "      <td>3</td>\n",
       "      <td>5</td>\n",
       "      <td>6</td>\n",
       "      <td>2</td>\n",
       "      <td>3</td>\n",
       "      <td>33</td>\n",
       "      <td>411</td>\n",
       "    </tr>\n",
       "    <tr>\n",
       "      <th>top</th>\n",
       "      <td>2017-02-08 00:00:00</td>\n",
       "      <td>Country_01</td>\n",
       "      <td>Local_03</td>\n",
       "      <td>Mining</td>\n",
       "      <td>I</td>\n",
       "      <td>IV</td>\n",
       "      <td>Male</td>\n",
       "      <td>Third Party</td>\n",
       "      <td>Others</td>\n",
       "      <td>On 02/03/17 during the soil sampling in the re...</td>\n",
       "    </tr>\n",
       "    <tr>\n",
       "      <th>freq</th>\n",
       "      <td>6</td>\n",
       "      <td>251</td>\n",
       "      <td>90</td>\n",
       "      <td>241</td>\n",
       "      <td>316</td>\n",
       "      <td>143</td>\n",
       "      <td>403</td>\n",
       "      <td>189</td>\n",
       "      <td>232</td>\n",
       "      <td>3</td>\n",
       "    </tr>\n",
       "  </tbody>\n",
       "</table>\n",
       "</div>"
      ],
      "text/plain": [
       "                       Data  ...                                        Description\n",
       "count                   425  ...                                                425\n",
       "unique                  287  ...                                                411\n",
       "top     2017-02-08 00:00:00  ...  On 02/03/17 during the soil sampling in the re...\n",
       "freq                      6  ...                                                  3\n",
       "\n",
       "[4 rows x 10 columns]"
      ]
     },
     "execution_count": 9,
     "metadata": {
      "tags": []
     },
     "output_type": "execute_result"
    }
   ],
   "source": [
    "df.describe()"
   ]
  },
  {
   "cell_type": "code",
   "execution_count": null,
   "metadata": {
    "colab": {
     "base_uri": "https://localhost:8080/"
    },
    "id": "cU1fk3hYnykT",
    "outputId": "7589125f-98c1-4b8c-a4c0-2b70184e6306"
   },
   "outputs": [
    {
     "name": "stdout",
     "output_type": "stream",
     "text": [
      "Data type of feature/column  Data  is:  <class 'str'>\n",
      "Data type of feature/column  Countries  is:  <class 'str'>\n",
      "Data type of feature/column  Local  is:  <class 'str'>\n",
      "Data type of feature/column  Industry Sector  is:  <class 'str'>\n",
      "Data type of feature/column  Accident Level  is:  <class 'str'>\n",
      "Data type of feature/column  Potential Accident Level  is:  <class 'str'>\n",
      "Data type of feature/column  Genre  is:  <class 'str'>\n",
      "Data type of feature/column  Employee or Third Party  is:  <class 'str'>\n",
      "Data type of feature/column  Critical Risk  is:  <class 'str'>\n",
      "Data type of feature/column  Description  is:  <class 'str'>\n"
     ]
    }
   ],
   "source": [
    "for i in range (0, df.shape[1]):\n",
    "    print(\"Data type of feature/column \", df.columns[i],\" is: \",type(df.iloc[1,i]))"
   ]
  },
  {
   "cell_type": "code",
   "execution_count": null,
   "metadata": {
    "colab": {
     "base_uri": "https://localhost:8080/",
     "height": 348
    },
    "id": "mSC14lBEoHhP",
    "outputId": "981325bf-e41b-43c3-b88f-a30d3b35fbb8"
   },
   "outputs": [
    {
     "data": {
      "text/html": [
       "<div>\n",
       "<style scoped>\n",
       "    .dataframe tbody tr th:only-of-type {\n",
       "        vertical-align: middle;\n",
       "    }\n",
       "\n",
       "    .dataframe tbody tr th {\n",
       "        vertical-align: top;\n",
       "    }\n",
       "\n",
       "    .dataframe thead th {\n",
       "        text-align: right;\n",
       "    }\n",
       "</style>\n",
       "<table border=\"1\" class=\"dataframe\">\n",
       "  <thead>\n",
       "    <tr style=\"text-align: right;\">\n",
       "      <th></th>\n",
       "      <th>Total</th>\n",
       "      <th>Percent</th>\n",
       "    </tr>\n",
       "  </thead>\n",
       "  <tbody>\n",
       "    <tr>\n",
       "      <th>Description</th>\n",
       "      <td>0</td>\n",
       "      <td>0.0</td>\n",
       "    </tr>\n",
       "    <tr>\n",
       "      <th>Critical Risk</th>\n",
       "      <td>0</td>\n",
       "      <td>0.0</td>\n",
       "    </tr>\n",
       "    <tr>\n",
       "      <th>Employee or Third Party</th>\n",
       "      <td>0</td>\n",
       "      <td>0.0</td>\n",
       "    </tr>\n",
       "    <tr>\n",
       "      <th>Genre</th>\n",
       "      <td>0</td>\n",
       "      <td>0.0</td>\n",
       "    </tr>\n",
       "    <tr>\n",
       "      <th>Potential Accident Level</th>\n",
       "      <td>0</td>\n",
       "      <td>0.0</td>\n",
       "    </tr>\n",
       "    <tr>\n",
       "      <th>Accident Level</th>\n",
       "      <td>0</td>\n",
       "      <td>0.0</td>\n",
       "    </tr>\n",
       "    <tr>\n",
       "      <th>Industry Sector</th>\n",
       "      <td>0</td>\n",
       "      <td>0.0</td>\n",
       "    </tr>\n",
       "    <tr>\n",
       "      <th>Local</th>\n",
       "      <td>0</td>\n",
       "      <td>0.0</td>\n",
       "    </tr>\n",
       "    <tr>\n",
       "      <th>Countries</th>\n",
       "      <td>0</td>\n",
       "      <td>0.0</td>\n",
       "    </tr>\n",
       "    <tr>\n",
       "      <th>Data</th>\n",
       "      <td>0</td>\n",
       "      <td>0.0</td>\n",
       "    </tr>\n",
       "  </tbody>\n",
       "</table>\n",
       "</div>"
      ],
      "text/plain": [
       "                          Total  Percent\n",
       "Description                   0      0.0\n",
       "Critical Risk                 0      0.0\n",
       "Employee or Third Party       0      0.0\n",
       "Genre                         0      0.0\n",
       "Potential Accident Level      0      0.0\n",
       "Accident Level                0      0.0\n",
       "Industry Sector               0      0.0\n",
       "Local                         0      0.0\n",
       "Countries                     0      0.0\n",
       "Data                          0      0.0"
      ]
     },
     "execution_count": 11,
     "metadata": {
      "tags": []
     },
     "output_type": "execute_result"
    }
   ],
   "source": [
    "def missing_check(df):\n",
    "    total = df.isnull().sum().sort_values(ascending=False)   # total number of null values\n",
    "    percent = (df.isnull().sum()/df.isnull().count()).sort_values(ascending=False)  # percentage of values that are null\n",
    "    missing_data = pd.concat([total, percent], axis=1, keys=['Total', 'Percent'])  # putting the above two together\n",
    "    return missing_data # return the dataframe\n",
    "missing_check(df)"
   ]
  },
  {
   "cell_type": "code",
   "execution_count": null,
   "metadata": {
    "id": "D5Q8qhdWCCWn"
   },
   "outputs": [],
   "source": [
    "dataframe=df.copy()\n",
    "y=dataframe['Accident Level'].values\n",
    "del dataframe['Accident Level']"
   ]
  },
  {
   "cell_type": "code",
   "execution_count": null,
   "metadata": {
    "id": "0SHOPV3fDgq8"
   },
   "outputs": [],
   "source": [
    "categorical_columns=dataframe.columns"
   ]
  },
  {
   "cell_type": "markdown",
   "metadata": {
    "id": "5R_rqzczOTxT"
   },
   "source": [
    "# **# Encoding**\n",
    "\n",
    "> Encoding Dataset for Model Preparation.\n",
    "\n"
   ]
  },
  {
   "cell_type": "code",
   "execution_count": null,
   "metadata": {
    "id": "LG7OMtvbWGjI"
   },
   "outputs": [],
   "source": [
    "column_names_encoded=list(df.columns)\n",
    "column_names_encoded.remove('Critical Risk')\n",
    "column_names_encoded.remove('Description')\n",
    "column_names_encoded.remove('Data')\n",
    "column_names_encoded.remove('Accident Level')"
   ]
  },
  {
   "cell_type": "code",
   "execution_count": null,
   "metadata": {
    "id": "qBpo1l2ORvbs"
   },
   "outputs": [],
   "source": [
    "# Performing label encoding of column accident level\n",
    "import numpy as np\n",
    "from sklearn.preprocessing import LabelEncoder   \n",
    "  \n",
    "def one_hot_encoding_columns(column_name,dataframe):\n",
    "  accident_level=  dataframe[column_name].to_numpy()\n",
    "  labelencoder = LabelEncoder()  \n",
    "  accident_level_encoded = labelencoder.fit_transform(accident_level)\n",
    "  enc = OneHotEncoder(handle_unknown='ignore')\n",
    "  X = (np.array(accident_level_encoded).reshape(-1,1))\n",
    "  drop_enc = enc.fit_transform(X)\n",
    "  # print(drop_enc.todense())\n",
    "  dataframe = pd.concat([dataframe,pd.DataFrame(drop_enc.todense(),columns = [column_name+'_'+j for j in labelencoder.inverse_transform(enc.categories_[0])])],axis = 1)\n",
    "  del dataframe[column_name]\n",
    "  return dataframe\n",
    "\n",
    "encoded_dataframe=one_hot_encoding_columns(column_names_encoded[0],df)\n",
    "for i in range(1,len(column_names_encoded)):\n",
    "  encoded_dataframe=one_hot_encoding_columns(column_names_encoded[i],encoded_dataframe)"
   ]
  },
  {
   "cell_type": "code",
   "execution_count": null,
   "metadata": {
    "colab": {
     "base_uri": "https://localhost:8080/",
     "height": 1000
    },
    "id": "Lk5gwT8mRvYE",
    "outputId": "6cb3d009-9c1d-48b2-c8ca-0cc0c54f77aa"
   },
   "outputs": [
    {
     "data": {
      "text/html": [
       "<div>\n",
       "<style scoped>\n",
       "    .dataframe tbody tr th:only-of-type {\n",
       "        vertical-align: middle;\n",
       "    }\n",
       "\n",
       "    .dataframe tbody tr th {\n",
       "        vertical-align: top;\n",
       "    }\n",
       "\n",
       "    .dataframe thead th {\n",
       "        text-align: right;\n",
       "    }\n",
       "</style>\n",
       "<table border=\"1\" class=\"dataframe\">\n",
       "  <thead>\n",
       "    <tr style=\"text-align: right;\">\n",
       "      <th></th>\n",
       "      <th>Data</th>\n",
       "      <th>Accident Level</th>\n",
       "      <th>Critical Risk</th>\n",
       "      <th>Description</th>\n",
       "      <th>Countries_Country_01</th>\n",
       "      <th>Countries_Country_02</th>\n",
       "      <th>Countries_Country_03</th>\n",
       "      <th>Local_Local_01</th>\n",
       "      <th>Local_Local_02</th>\n",
       "      <th>Local_Local_03</th>\n",
       "      <th>Local_Local_04</th>\n",
       "      <th>Local_Local_05</th>\n",
       "      <th>Local_Local_06</th>\n",
       "      <th>Local_Local_07</th>\n",
       "      <th>Local_Local_08</th>\n",
       "      <th>Local_Local_09</th>\n",
       "      <th>Local_Local_10</th>\n",
       "      <th>Local_Local_11</th>\n",
       "      <th>Local_Local_12</th>\n",
       "      <th>Industry Sector_Metals</th>\n",
       "      <th>Industry Sector_Mining</th>\n",
       "      <th>Industry Sector_Others</th>\n",
       "      <th>Potential Accident Level_I</th>\n",
       "      <th>Potential Accident Level_II</th>\n",
       "      <th>Potential Accident Level_III</th>\n",
       "      <th>Potential Accident Level_IV</th>\n",
       "      <th>Potential Accident Level_V</th>\n",
       "      <th>Potential Accident Level_VI</th>\n",
       "      <th>Genre_Female</th>\n",
       "      <th>Genre_Male</th>\n",
       "      <th>Employee or Third Party_Employee</th>\n",
       "      <th>Employee or Third Party_Third Party</th>\n",
       "      <th>Employee or Third Party_Third Party (Remote)</th>\n",
       "    </tr>\n",
       "  </thead>\n",
       "  <tbody>\n",
       "    <tr>\n",
       "      <th>0</th>\n",
       "      <td>2016-01-01 00:00:00</td>\n",
       "      <td>I</td>\n",
       "      <td>Pressed</td>\n",
       "      <td>While removing the drill rod of the Jumbo 08 f...</td>\n",
       "      <td>1.0</td>\n",
       "      <td>0.0</td>\n",
       "      <td>0.0</td>\n",
       "      <td>1.0</td>\n",
       "      <td>0.0</td>\n",
       "      <td>0.0</td>\n",
       "      <td>0.0</td>\n",
       "      <td>0.0</td>\n",
       "      <td>0.0</td>\n",
       "      <td>0.0</td>\n",
       "      <td>0.0</td>\n",
       "      <td>0.0</td>\n",
       "      <td>0.0</td>\n",
       "      <td>0.0</td>\n",
       "      <td>0.0</td>\n",
       "      <td>0.0</td>\n",
       "      <td>1.0</td>\n",
       "      <td>0.0</td>\n",
       "      <td>0.0</td>\n",
       "      <td>0.0</td>\n",
       "      <td>0.0</td>\n",
       "      <td>1.0</td>\n",
       "      <td>0.0</td>\n",
       "      <td>0.0</td>\n",
       "      <td>0.0</td>\n",
       "      <td>1.0</td>\n",
       "      <td>0.0</td>\n",
       "      <td>1.0</td>\n",
       "      <td>0.0</td>\n",
       "    </tr>\n",
       "    <tr>\n",
       "      <th>1</th>\n",
       "      <td>2016-01-02 00:00:00</td>\n",
       "      <td>I</td>\n",
       "      <td>Pressurized Systems</td>\n",
       "      <td>During the activation of a sodium sulphide pum...</td>\n",
       "      <td>0.0</td>\n",
       "      <td>1.0</td>\n",
       "      <td>0.0</td>\n",
       "      <td>0.0</td>\n",
       "      <td>1.0</td>\n",
       "      <td>0.0</td>\n",
       "      <td>0.0</td>\n",
       "      <td>0.0</td>\n",
       "      <td>0.0</td>\n",
       "      <td>0.0</td>\n",
       "      <td>0.0</td>\n",
       "      <td>0.0</td>\n",
       "      <td>0.0</td>\n",
       "      <td>0.0</td>\n",
       "      <td>0.0</td>\n",
       "      <td>0.0</td>\n",
       "      <td>1.0</td>\n",
       "      <td>0.0</td>\n",
       "      <td>0.0</td>\n",
       "      <td>0.0</td>\n",
       "      <td>0.0</td>\n",
       "      <td>1.0</td>\n",
       "      <td>0.0</td>\n",
       "      <td>0.0</td>\n",
       "      <td>0.0</td>\n",
       "      <td>1.0</td>\n",
       "      <td>1.0</td>\n",
       "      <td>0.0</td>\n",
       "      <td>0.0</td>\n",
       "    </tr>\n",
       "    <tr>\n",
       "      <th>2</th>\n",
       "      <td>2016-01-06 00:00:00</td>\n",
       "      <td>I</td>\n",
       "      <td>Manual Tools</td>\n",
       "      <td>In the sub-station MILPO located at level +170...</td>\n",
       "      <td>1.0</td>\n",
       "      <td>0.0</td>\n",
       "      <td>0.0</td>\n",
       "      <td>0.0</td>\n",
       "      <td>0.0</td>\n",
       "      <td>1.0</td>\n",
       "      <td>0.0</td>\n",
       "      <td>0.0</td>\n",
       "      <td>0.0</td>\n",
       "      <td>0.0</td>\n",
       "      <td>0.0</td>\n",
       "      <td>0.0</td>\n",
       "      <td>0.0</td>\n",
       "      <td>0.0</td>\n",
       "      <td>0.0</td>\n",
       "      <td>0.0</td>\n",
       "      <td>1.0</td>\n",
       "      <td>0.0</td>\n",
       "      <td>0.0</td>\n",
       "      <td>0.0</td>\n",
       "      <td>1.0</td>\n",
       "      <td>0.0</td>\n",
       "      <td>0.0</td>\n",
       "      <td>0.0</td>\n",
       "      <td>0.0</td>\n",
       "      <td>1.0</td>\n",
       "      <td>0.0</td>\n",
       "      <td>0.0</td>\n",
       "      <td>1.0</td>\n",
       "    </tr>\n",
       "    <tr>\n",
       "      <th>3</th>\n",
       "      <td>2016-01-08 00:00:00</td>\n",
       "      <td>I</td>\n",
       "      <td>Others</td>\n",
       "      <td>Being 9:45 am. approximately in the Nv. 1880 C...</td>\n",
       "      <td>1.0</td>\n",
       "      <td>0.0</td>\n",
       "      <td>0.0</td>\n",
       "      <td>0.0</td>\n",
       "      <td>0.0</td>\n",
       "      <td>0.0</td>\n",
       "      <td>1.0</td>\n",
       "      <td>0.0</td>\n",
       "      <td>0.0</td>\n",
       "      <td>0.0</td>\n",
       "      <td>0.0</td>\n",
       "      <td>0.0</td>\n",
       "      <td>0.0</td>\n",
       "      <td>0.0</td>\n",
       "      <td>0.0</td>\n",
       "      <td>0.0</td>\n",
       "      <td>1.0</td>\n",
       "      <td>0.0</td>\n",
       "      <td>1.0</td>\n",
       "      <td>0.0</td>\n",
       "      <td>0.0</td>\n",
       "      <td>0.0</td>\n",
       "      <td>0.0</td>\n",
       "      <td>0.0</td>\n",
       "      <td>0.0</td>\n",
       "      <td>1.0</td>\n",
       "      <td>0.0</td>\n",
       "      <td>1.0</td>\n",
       "      <td>0.0</td>\n",
       "    </tr>\n",
       "    <tr>\n",
       "      <th>4</th>\n",
       "      <td>2016-01-10 00:00:00</td>\n",
       "      <td>IV</td>\n",
       "      <td>Others</td>\n",
       "      <td>Approximately at 11:45 a.m. in circumstances t...</td>\n",
       "      <td>1.0</td>\n",
       "      <td>0.0</td>\n",
       "      <td>0.0</td>\n",
       "      <td>0.0</td>\n",
       "      <td>0.0</td>\n",
       "      <td>0.0</td>\n",
       "      <td>1.0</td>\n",
       "      <td>0.0</td>\n",
       "      <td>0.0</td>\n",
       "      <td>0.0</td>\n",
       "      <td>0.0</td>\n",
       "      <td>0.0</td>\n",
       "      <td>0.0</td>\n",
       "      <td>0.0</td>\n",
       "      <td>0.0</td>\n",
       "      <td>0.0</td>\n",
       "      <td>1.0</td>\n",
       "      <td>0.0</td>\n",
       "      <td>0.0</td>\n",
       "      <td>0.0</td>\n",
       "      <td>0.0</td>\n",
       "      <td>1.0</td>\n",
       "      <td>0.0</td>\n",
       "      <td>0.0</td>\n",
       "      <td>0.0</td>\n",
       "      <td>1.0</td>\n",
       "      <td>0.0</td>\n",
       "      <td>1.0</td>\n",
       "      <td>0.0</td>\n",
       "    </tr>\n",
       "    <tr>\n",
       "      <th>...</th>\n",
       "      <td>...</td>\n",
       "      <td>...</td>\n",
       "      <td>...</td>\n",
       "      <td>...</td>\n",
       "      <td>...</td>\n",
       "      <td>...</td>\n",
       "      <td>...</td>\n",
       "      <td>...</td>\n",
       "      <td>...</td>\n",
       "      <td>...</td>\n",
       "      <td>...</td>\n",
       "      <td>...</td>\n",
       "      <td>...</td>\n",
       "      <td>...</td>\n",
       "      <td>...</td>\n",
       "      <td>...</td>\n",
       "      <td>...</td>\n",
       "      <td>...</td>\n",
       "      <td>...</td>\n",
       "      <td>...</td>\n",
       "      <td>...</td>\n",
       "      <td>...</td>\n",
       "      <td>...</td>\n",
       "      <td>...</td>\n",
       "      <td>...</td>\n",
       "      <td>...</td>\n",
       "      <td>...</td>\n",
       "      <td>...</td>\n",
       "      <td>...</td>\n",
       "      <td>...</td>\n",
       "      <td>...</td>\n",
       "      <td>...</td>\n",
       "      <td>...</td>\n",
       "    </tr>\n",
       "    <tr>\n",
       "      <th>420</th>\n",
       "      <td>2017-07-04 00:00:00</td>\n",
       "      <td>I</td>\n",
       "      <td>Others</td>\n",
       "      <td>Being approximately 5:00 a.m. approximately, w...</td>\n",
       "      <td>1.0</td>\n",
       "      <td>0.0</td>\n",
       "      <td>0.0</td>\n",
       "      <td>0.0</td>\n",
       "      <td>0.0</td>\n",
       "      <td>0.0</td>\n",
       "      <td>1.0</td>\n",
       "      <td>0.0</td>\n",
       "      <td>0.0</td>\n",
       "      <td>0.0</td>\n",
       "      <td>0.0</td>\n",
       "      <td>0.0</td>\n",
       "      <td>0.0</td>\n",
       "      <td>0.0</td>\n",
       "      <td>0.0</td>\n",
       "      <td>0.0</td>\n",
       "      <td>1.0</td>\n",
       "      <td>0.0</td>\n",
       "      <td>0.0</td>\n",
       "      <td>0.0</td>\n",
       "      <td>1.0</td>\n",
       "      <td>0.0</td>\n",
       "      <td>0.0</td>\n",
       "      <td>0.0</td>\n",
       "      <td>0.0</td>\n",
       "      <td>1.0</td>\n",
       "      <td>0.0</td>\n",
       "      <td>1.0</td>\n",
       "      <td>0.0</td>\n",
       "    </tr>\n",
       "    <tr>\n",
       "      <th>421</th>\n",
       "      <td>2017-07-04 00:00:00</td>\n",
       "      <td>I</td>\n",
       "      <td>Others</td>\n",
       "      <td>The collaborator moved from the infrastructure...</td>\n",
       "      <td>1.0</td>\n",
       "      <td>0.0</td>\n",
       "      <td>0.0</td>\n",
       "      <td>0.0</td>\n",
       "      <td>0.0</td>\n",
       "      <td>1.0</td>\n",
       "      <td>0.0</td>\n",
       "      <td>0.0</td>\n",
       "      <td>0.0</td>\n",
       "      <td>0.0</td>\n",
       "      <td>0.0</td>\n",
       "      <td>0.0</td>\n",
       "      <td>0.0</td>\n",
       "      <td>0.0</td>\n",
       "      <td>0.0</td>\n",
       "      <td>0.0</td>\n",
       "      <td>1.0</td>\n",
       "      <td>0.0</td>\n",
       "      <td>0.0</td>\n",
       "      <td>1.0</td>\n",
       "      <td>0.0</td>\n",
       "      <td>0.0</td>\n",
       "      <td>0.0</td>\n",
       "      <td>0.0</td>\n",
       "      <td>1.0</td>\n",
       "      <td>0.0</td>\n",
       "      <td>1.0</td>\n",
       "      <td>0.0</td>\n",
       "      <td>0.0</td>\n",
       "    </tr>\n",
       "    <tr>\n",
       "      <th>422</th>\n",
       "      <td>2017-07-05 00:00:00</td>\n",
       "      <td>I</td>\n",
       "      <td>Venomous Animals</td>\n",
       "      <td>During the environmental monitoring activity i...</td>\n",
       "      <td>0.0</td>\n",
       "      <td>1.0</td>\n",
       "      <td>0.0</td>\n",
       "      <td>0.0</td>\n",
       "      <td>0.0</td>\n",
       "      <td>0.0</td>\n",
       "      <td>0.0</td>\n",
       "      <td>0.0</td>\n",
       "      <td>0.0</td>\n",
       "      <td>0.0</td>\n",
       "      <td>0.0</td>\n",
       "      <td>1.0</td>\n",
       "      <td>0.0</td>\n",
       "      <td>0.0</td>\n",
       "      <td>0.0</td>\n",
       "      <td>1.0</td>\n",
       "      <td>0.0</td>\n",
       "      <td>0.0</td>\n",
       "      <td>0.0</td>\n",
       "      <td>1.0</td>\n",
       "      <td>0.0</td>\n",
       "      <td>0.0</td>\n",
       "      <td>0.0</td>\n",
       "      <td>0.0</td>\n",
       "      <td>0.0</td>\n",
       "      <td>1.0</td>\n",
       "      <td>1.0</td>\n",
       "      <td>0.0</td>\n",
       "      <td>0.0</td>\n",
       "    </tr>\n",
       "    <tr>\n",
       "      <th>423</th>\n",
       "      <td>2017-07-06 00:00:00</td>\n",
       "      <td>I</td>\n",
       "      <td>Cut</td>\n",
       "      <td>The Employee performed the activity of strippi...</td>\n",
       "      <td>0.0</td>\n",
       "      <td>1.0</td>\n",
       "      <td>0.0</td>\n",
       "      <td>0.0</td>\n",
       "      <td>0.0</td>\n",
       "      <td>0.0</td>\n",
       "      <td>0.0</td>\n",
       "      <td>1.0</td>\n",
       "      <td>0.0</td>\n",
       "      <td>0.0</td>\n",
       "      <td>0.0</td>\n",
       "      <td>0.0</td>\n",
       "      <td>0.0</td>\n",
       "      <td>0.0</td>\n",
       "      <td>0.0</td>\n",
       "      <td>1.0</td>\n",
       "      <td>0.0</td>\n",
       "      <td>0.0</td>\n",
       "      <td>0.0</td>\n",
       "      <td>1.0</td>\n",
       "      <td>0.0</td>\n",
       "      <td>0.0</td>\n",
       "      <td>0.0</td>\n",
       "      <td>0.0</td>\n",
       "      <td>0.0</td>\n",
       "      <td>1.0</td>\n",
       "      <td>1.0</td>\n",
       "      <td>0.0</td>\n",
       "      <td>0.0</td>\n",
       "    </tr>\n",
       "    <tr>\n",
       "      <th>424</th>\n",
       "      <td>2017-07-09 00:00:00</td>\n",
       "      <td>I</td>\n",
       "      <td>Fall prevention (same level)</td>\n",
       "      <td>At 10:00 a.m., when the assistant cleaned the ...</td>\n",
       "      <td>1.0</td>\n",
       "      <td>0.0</td>\n",
       "      <td>0.0</td>\n",
       "      <td>0.0</td>\n",
       "      <td>0.0</td>\n",
       "      <td>0.0</td>\n",
       "      <td>1.0</td>\n",
       "      <td>0.0</td>\n",
       "      <td>0.0</td>\n",
       "      <td>0.0</td>\n",
       "      <td>0.0</td>\n",
       "      <td>0.0</td>\n",
       "      <td>0.0</td>\n",
       "      <td>0.0</td>\n",
       "      <td>0.0</td>\n",
       "      <td>0.0</td>\n",
       "      <td>1.0</td>\n",
       "      <td>0.0</td>\n",
       "      <td>0.0</td>\n",
       "      <td>1.0</td>\n",
       "      <td>0.0</td>\n",
       "      <td>0.0</td>\n",
       "      <td>0.0</td>\n",
       "      <td>0.0</td>\n",
       "      <td>1.0</td>\n",
       "      <td>0.0</td>\n",
       "      <td>0.0</td>\n",
       "      <td>1.0</td>\n",
       "      <td>0.0</td>\n",
       "    </tr>\n",
       "  </tbody>\n",
       "</table>\n",
       "<p>425 rows × 33 columns</p>\n",
       "</div>"
      ],
      "text/plain": [
       "                    Data  ... Employee or Third Party_Third Party (Remote)\n",
       "0    2016-01-01 00:00:00  ...                                          0.0\n",
       "1    2016-01-02 00:00:00  ...                                          0.0\n",
       "2    2016-01-06 00:00:00  ...                                          1.0\n",
       "3    2016-01-08 00:00:00  ...                                          0.0\n",
       "4    2016-01-10 00:00:00  ...                                          0.0\n",
       "..                   ...  ...                                          ...\n",
       "420  2017-07-04 00:00:00  ...                                          0.0\n",
       "421  2017-07-04 00:00:00  ...                                          0.0\n",
       "422  2017-07-05 00:00:00  ...                                          0.0\n",
       "423  2017-07-06 00:00:00  ...                                          0.0\n",
       "424  2017-07-09 00:00:00  ...                                          0.0\n",
       "\n",
       "[425 rows x 33 columns]"
      ]
     },
     "execution_count": 16,
     "metadata": {
      "tags": []
     },
     "output_type": "execute_result"
    }
   ],
   "source": [
    "encoded_dataframe"
   ]
  },
  {
   "cell_type": "code",
   "execution_count": null,
   "metadata": {
    "colab": {
     "base_uri": "https://localhost:8080/"
    },
    "id": "XUqj7vQfRvVB",
    "outputId": "14463768-ca5e-4bd4-abc1-1da098e8cc00"
   },
   "outputs": [
    {
     "data": {
      "text/plain": [
       "Index(['Data', 'Accident Level', 'Critical Risk', 'Description',\n",
       "       'Countries_Country_01', 'Countries_Country_02', 'Countries_Country_03',\n",
       "       'Local_Local_01', 'Local_Local_02', 'Local_Local_03', 'Local_Local_04',\n",
       "       'Local_Local_05', 'Local_Local_06', 'Local_Local_07', 'Local_Local_08',\n",
       "       'Local_Local_09', 'Local_Local_10', 'Local_Local_11', 'Local_Local_12',\n",
       "       'Industry Sector_Metals', 'Industry Sector_Mining',\n",
       "       'Industry Sector_Others', 'Potential Accident Level_I',\n",
       "       'Potential Accident Level_II', 'Potential Accident Level_III',\n",
       "       'Potential Accident Level_IV', 'Potential Accident Level_V',\n",
       "       'Potential Accident Level_VI', 'Genre_Female', 'Genre_Male',\n",
       "       'Employee or Third Party_Employee',\n",
       "       'Employee or Third Party_Third Party',\n",
       "       'Employee or Third Party_Third Party (Remote)'],\n",
       "      dtype='object')"
      ]
     },
     "execution_count": 17,
     "metadata": {
      "tags": []
     },
     "output_type": "execute_result"
    }
   ],
   "source": [
    "encoded_dataframe.columns"
   ]
  },
  {
   "cell_type": "code",
   "execution_count": null,
   "metadata": {
    "id": "u3qiJBG7RvSR"
   },
   "outputs": [],
   "source": [
    "output_column=encoded_dataframe['Accident Level'].values\n",
    "del encoded_dataframe['Accident Level']"
   ]
  },
  {
   "cell_type": "code",
   "execution_count": null,
   "metadata": {
    "id": "oKbTW2N8RvPd"
   },
   "outputs": [],
   "source": [
    "del encoded_dataframe['Data']"
   ]
  },
  {
   "cell_type": "code",
   "execution_count": null,
   "metadata": {
    "id": "ViivB5fRAFxx"
   },
   "outputs": [],
   "source": [
    "encoded_dataframe['Merged_Description']= encoded_dataframe['Description']+' '+encoded_dataframe['Critical Risk']"
   ]
  },
  {
   "cell_type": "code",
   "execution_count": null,
   "metadata": {
    "colab": {
     "base_uri": "https://localhost:8080/",
     "height": 72
    },
    "id": "ptsiXmGKAWtx",
    "outputId": "c216cccb-8bad-47ab-e74e-41299c3e55cb"
   },
   "outputs": [
    {
     "data": {
      "application/vnd.google.colaboratory.intrinsic+json": {
       "type": "string"
      },
      "text/plain": [
       "'While removing the drill rod of the Jumbo 08 for maintenance, the supervisor proceeds to loosen the support of the intermediate centralizer to facilitate the removal, seeing this the mechanic supports one end on the drill of the equipment to pull with both hands the bar and accelerate the removal from this, at this moment the bar slides from its point of support and tightens the fingers of the mechanic between the drilling bar and the beam of the jumbo. Pressed'"
      ]
     },
     "execution_count": 21,
     "metadata": {
      "tags": []
     },
     "output_type": "execute_result"
    }
   ],
   "source": [
    "encoded_dataframe['Merged_Description'][0]"
   ]
  },
  {
   "cell_type": "code",
   "execution_count": null,
   "metadata": {
    "id": "nmfEWg2YynFr"
   },
   "outputs": [],
   "source": [
    "stop_words = stopwords.words('english')\n",
    "punctuations = list(string.punctuation)\n",
    "stop_words += punctuations        "
   ]
  },
  {
   "cell_type": "code",
   "execution_count": null,
   "metadata": {
    "id": "_CHQyptXG3cv"
   },
   "outputs": [],
   "source": [
    "count_vec=TfidfVectorizer(ngram_range=(1,3),stop_words=stop_words,min_df=0.1,max_df=0.9)\n",
    "words=[]\n",
    "for i in range(0,len(encoded_dataframe['Merged_Description'])):\n",
    "   words.append(\" \".join([w for w in word_tokenize(encoded_dataframe['Merged_Description'][i]) if not w in stop_words]))"
   ]
  },
  {
   "cell_type": "code",
   "execution_count": null,
   "metadata": {
    "id": "AuE_4MMiG3cv"
   },
   "outputs": [],
   "source": [
    "words_transformed=count_vec.fit_transform(words)"
   ]
  },
  {
   "cell_type": "code",
   "execution_count": null,
   "metadata": {
    "colab": {
     "base_uri": "https://localhost:8080/"
    },
    "id": "svxxqLk41B9U",
    "outputId": "ee8d529d-fb23-4ccf-ffb7-cf4c11dff10c"
   },
   "outputs": [
    {
     "data": {
      "text/plain": [
       "['accident',\n",
       " 'activity',\n",
       " 'approximately',\n",
       " 'area',\n",
       " 'assistant',\n",
       " 'causing',\n",
       " 'causing injury',\n",
       " 'collaborator',\n",
       " 'described',\n",
       " 'employee',\n",
       " 'equipment',\n",
       " 'finger',\n",
       " 'floor',\n",
       " 'hand',\n",
       " 'height',\n",
       " 'injury',\n",
       " 'left',\n",
       " 'left hand',\n",
       " 'level',\n",
       " 'moment',\n",
       " 'one',\n",
       " 'operator',\n",
       " 'others',\n",
       " 'right',\n",
       " 'right hand',\n",
       " 'rock',\n",
       " 'safety',\n",
       " 'support',\n",
       " 'time',\n",
       " 'time accident',\n",
       " 'work',\n",
       " 'worker']"
      ]
     },
     "execution_count": 25,
     "metadata": {
      "tags": []
     },
     "output_type": "execute_result"
    }
   ],
   "source": [
    "count_vec.get_feature_names()"
   ]
  },
  {
   "cell_type": "code",
   "execution_count": null,
   "metadata": {
    "id": "ITVWGD9x_vtJ"
   },
   "outputs": [],
   "source": [
    "result = pd.concat([encoded_dataframe,pd.DataFrame(words_transformed.todense(),columns=['word_'+str(i)+'_'+count_vec.get_feature_names()[i] for i in range(0,words_transformed.todense().shape[1])])],axis=1)"
   ]
  },
  {
   "cell_type": "code",
   "execution_count": null,
   "metadata": {
    "id": "P0Yxw3QgBTnp"
   },
   "outputs": [],
   "source": [
    "del result['Critical Risk']\n",
    "del result['Description']\n",
    "del result['Merged_Description']"
   ]
  },
  {
   "cell_type": "code",
   "execution_count": null,
   "metadata": {
    "colab": {
     "base_uri": "https://localhost:8080/"
    },
    "id": "uGWjJ3UhRvKC",
    "outputId": "bb34ba7c-7e57-44e3-f08d-7fd68132dac4"
   },
   "outputs": [
    {
     "data": {
      "text/plain": [
       "43"
      ]
     },
     "execution_count": 28,
     "metadata": {
      "tags": []
     },
     "output_type": "execute_result"
    }
   ],
   "source": [
    "from sklearn.decomposition import PCA\n",
    "pca = PCA()\n",
    "pca.fit(result)\n",
    "k = 0\n",
    "total = 0\n",
    "while total <.99:\n",
    "    total = total + pca.explained_variance_ratio_[k]  #adding variance ratio \n",
    "    k = k + 1\n",
    "k"
   ]
  },
  {
   "cell_type": "code",
   "execution_count": null,
   "metadata": {
    "id": "IWycZx9kRvHP"
   },
   "outputs": [],
   "source": [
    "pca = PCA(n_components=k)\n",
    "pca.fit(result)\n",
    "skl_transformed = pca.fit_transform(result) \n",
    "# pca.components_,pca.explained_variance_ratio_ #explained variance ratios wrt each component "
   ]
  },
  {
   "cell_type": "code",
   "execution_count": null,
   "metadata": {
    "id": "5OL8yBTdRvEP"
   },
   "outputs": [],
   "source": [
    "labelencoder_y = LabelEncoder()  \n",
    "accident_level_encoded = labelencoder_y.fit_transform(output_column)"
   ]
  },
  {
   "cell_type": "code",
   "execution_count": null,
   "metadata": {
    "colab": {
     "base_uri": "https://localhost:8080/"
    },
    "id": "MtLVlEYZMYGi",
    "outputId": "32561061-b1af-4466-e1bd-88f4f33664e0"
   },
   "outputs": [
    {
     "data": {
      "text/plain": [
       "((318, 61), (107, 61), (318,), (107,))"
      ]
     },
     "execution_count": 31,
     "metadata": {
      "tags": []
     },
     "output_type": "execute_result"
    }
   ],
   "source": [
    "from sklearn.model_selection import train_test_split\n",
    "x_train,x_test,y_train,y_test=train_test_split(result,accident_level_encoded,random_state=0)\n",
    "x_train.shape,x_test.shape,y_train.shape,y_test.shape"
   ]
  },
  {
   "cell_type": "code",
   "execution_count": null,
   "metadata": {
    "colab": {
     "base_uri": "https://localhost:8080/",
     "height": 1000
    },
    "id": "6JIxrxO4Mesf",
    "outputId": "5e10f06c-aa72-44e1-b1fd-d7f307967512"
   },
   "outputs": [
    {
     "name": "stderr",
     "output_type": "stream",
     "text": [
      "/usr/local/lib/python3.6/dist-packages/sklearn/feature_selection/_univariate_selection.py:299: RuntimeWarning: invalid value encountered in true_divide\n",
      "  corr /= X_norms\n"
     ]
    },
    {
     "name": "stdout",
     "output_type": "stream",
     "text": [
      "Feature Countries_Country_01: 4.261640\n",
      "Feature Countries_Country_02: 3.119812\n",
      "Feature Countries_Country_03: 0.466216\n",
      "Feature Local_Local_01: 0.001221\n",
      "Feature Local_Local_02: 0.356880\n",
      "Feature Local_Local_03: 0.232670\n",
      "Feature Local_Local_04: 4.520625\n",
      "Feature Local_Local_05: 3.827133\n",
      "Feature Local_Local_06: 0.002189\n",
      "Feature Local_Local_07: 0.388528\n",
      "Feature Local_Local_08: 2.219815\n",
      "Feature Local_Local_09: 0.492148\n",
      "Feature Local_Local_10: 0.466216\n",
      "Feature Local_Local_11: 0.492148\n",
      "Feature Local_Local_12: 1.043498\n",
      "Feature Industry Sector_Metals: 3.944641\n",
      "Feature Industry Sector_Mining: 5.713504\n",
      "Feature Industry Sector_Others: 0.660533\n",
      "Feature Potential Accident Level_I: 11.129024\n",
      "Feature Potential Accident Level_II: 17.533325\n",
      "Feature Potential Accident Level_III: 9.863037\n",
      "Feature Potential Accident Level_IV: 23.600861\n",
      "Feature Potential Accident Level_V: 70.672977\n",
      "Feature Potential Accident Level_VI: nan\n",
      "Feature Genre_Female: 1.112326\n",
      "Feature Genre_Male: 1.112326\n",
      "Feature Employee or Third Party_Employee: 2.489803\n",
      "Feature Employee or Third Party_Third Party: 2.394784\n",
      "Feature Employee or Third Party_Third Party (Remote): 0.001419\n",
      "Feature word_0_accident: 0.524714\n",
      "Feature word_1_activity: 1.162284\n",
      "Feature word_2_approximately: 1.233050\n",
      "Feature word_3_area: 2.811006\n",
      "Feature word_4_assistant: 0.006602\n",
      "Feature word_5_causing: 0.294431\n",
      "Feature word_6_causing injury: 0.750036\n",
      "Feature word_7_collaborator: 0.994285\n",
      "Feature word_8_described: 0.312285\n",
      "Feature word_9_employee: 2.667828\n",
      "Feature word_10_equipment: 0.093610\n",
      "Feature word_11_finger: 0.099564\n",
      "Feature word_12_floor: 0.298078\n",
      "Feature word_13_hand: 2.885041\n",
      "Feature word_14_height: 8.990870\n",
      "Feature word_15_injury: 1.468160\n",
      "Feature word_16_left: 0.565796\n",
      "Feature word_17_left hand: 9.268285\n",
      "Feature word_18_level: 2.094108\n",
      "Feature word_19_moment: 9.401306\n",
      "Feature word_20_one: 0.000250\n",
      "Feature word_21_operator: 2.583827\n",
      "Feature word_22_others: 0.192769\n",
      "Feature word_23_right: 1.180194\n",
      "Feature word_24_right hand: 0.685208\n",
      "Feature word_25_rock: 0.017795\n",
      "Feature word_26_safety: 0.061492\n",
      "Feature word_27_support: 0.187671\n",
      "Feature word_28_time: 0.128538\n",
      "Feature word_29_time accident: 0.115567\n",
      "Feature word_30_work: 1.785693\n",
      "Feature word_31_worker: 0.002567\n"
     ]
    },
    {
     "data": {
      "image/png": "[encoded data removed]",
      "text/plain": [
       "<Figure size 432x288 with 1 Axes>"
      ]
     },
     "metadata": {
      "needs_background": "light",
      "tags": []
     },
     "output_type": "display_data"
    }
   ],
   "source": [
    "from sklearn.feature_selection import SelectKBest\n",
    "from sklearn.feature_selection import f_regression\n",
    "\n",
    "\n",
    "def select_features_correlation(X_train, y_train, X_test):\n",
    "\t# configure to select all features\n",
    "\tfs = SelectKBest(score_func=f_regression, k='all')\n",
    "\t# learn relationship from training data\n",
    "\tfs.fit(X_train, y_train)\n",
    "\t# transform train input data\n",
    "\tX_train_fs = fs.transform(X_train)\n",
    "\t# transform test input data\n",
    "\tX_test_fs = fs.transform(X_test)\n",
    "\treturn X_train_fs, X_test_fs, fs\n",
    "\n",
    "X_train_fs, X_test_fs, fs = select_features_correlation(x_train, y_train, x_test)\n",
    "# what are scores for the features\n",
    "for i in range(len(fs.scores_)):\n",
    "\tprint('Feature '+list(result.columns)[i]+': %f' % (fs.scores_[i]))\n",
    "# plot the scores\n",
    "plt.bar([i for i in range(len(fs.scores_))], fs.scores_)\n",
    "plt.show()"
   ]
  },
  {
   "cell_type": "code",
   "execution_count": null,
   "metadata": {
    "id": "_E9h9rPvHNAa"
   },
   "outputs": [],
   "source": [
    "# from sklearn.model_selection import train_test_split\n",
    "# x_train,x_test,y_train,y_test=train_test_split(skl_transformed,accident_level_encoded)\n",
    "# x_train.shape,x_test.shape,y_train.shape,y_test.shape"
   ]
  },
  {
   "cell_type": "code",
   "execution_count": null,
   "metadata": {
    "id": "eH2OD_WxLSev"
   },
   "outputs": [],
   "source": [
    "# from sklearn.feature_selection import SelectKBest\n",
    "# from sklearn.feature_selection import f_regression\n",
    "\n",
    "\n",
    "# def select_features_correlation(X_train, y_train, X_test):\n",
    "# \t# configure to select all features\n",
    "# \tfs = SelectKBest(score_func=f_regression, k='all')\n",
    "# \t# learn relationship from training data\n",
    "# \tfs.fit(X_train, y_train)\n",
    "# \t# transform train input data\n",
    "# \tX_train_fs = fs.transform(X_train)\n",
    "# \t# transform test input data\n",
    "# \tX_test_fs = fs.transform(X_test)\n",
    "# \treturn X_train_fs, X_test_fs, fs\n",
    "\n",
    "# X_train_fs, X_test_fs, fs = select_features_correlation(x_train, y_train, x_test)\n",
    "# # what are scores for the features\n",
    "# for i in range(len(fs.scores_)):\n",
    "# \tprint('Feature '+list([str(i) for i in pd.DataFrame(skl_transformed).columns])[i]+': %f' % (fs.scores_[i]))\n",
    "# # plot the scores\n",
    "# plt.bar([i for i in range(len(fs.scores_))], fs.scores_)\n",
    "# plt.show()"
   ]
  },
  {
   "cell_type": "code",
   "execution_count": null,
   "metadata": {
    "colab": {
     "base_uri": "https://localhost:8080/"
    },
    "id": "b5g_Ii-HHqJ_",
    "outputId": "a94259d9-57cc-46d8-a474-cb256d7148df"
   },
   "outputs": [
    {
     "name": "stdout",
     "output_type": "stream",
     "text": [
      "Requirement already satisfied: imbalanced-learn in /usr/local/lib/python3.6/dist-packages (0.4.3)\n",
      "Requirement already satisfied: scipy>=0.13.3 in /usr/local/lib/python3.6/dist-packages (from imbalanced-learn) (1.4.1)\n",
      "Requirement already satisfied: scikit-learn>=0.20 in /usr/local/lib/python3.6/dist-packages (from imbalanced-learn) (0.22.2.post1)\n",
      "Requirement already satisfied: numpy>=1.8.2 in /usr/local/lib/python3.6/dist-packages (from imbalanced-learn) (1.19.5)\n",
      "Requirement already satisfied: joblib>=0.11 in /usr/local/lib/python3.6/dist-packages (from scikit-learn>=0.20->imbalanced-learn) (1.0.0)\n"
     ]
    }
   ],
   "source": [
    "! pip install imbalanced-learn"
   ]
  },
  {
   "cell_type": "code",
   "execution_count": null,
   "metadata": {
    "colab": {
     "base_uri": "https://localhost:8080/"
    },
    "id": "l80RcqKX0-TP",
    "outputId": "8a6823bc-cd50-4d34-a2e2-2fd8884e4478"
   },
   "outputs": [
    {
     "data": {
      "text/plain": [
       "((318, 61), (107, 61), (318,), (107,))"
      ]
     },
     "execution_count": 36,
     "metadata": {
      "tags": []
     },
     "output_type": "execute_result"
    }
   ],
   "source": [
    "x_train.shape,x_test.shape,y_train.shape,y_test.shape"
   ]
  },
  {
   "cell_type": "code",
   "execution_count": null,
   "metadata": {
    "id": "DDiXPeHcRvAC"
   },
   "outputs": [],
   "source": [
    "# from imblearn.over_sampling import SMOTE\n",
    "# sm = SMOTE(random_state=0)\n",
    "# X_res, y_res = sm.fit_sample(x_train, y_train)\n",
    "# X_res.shape,y_res.shape,x_test.shape,y_test.shape"
   ]
  },
  {
   "cell_type": "code",
   "execution_count": null,
   "metadata": {
    "id": "Yrix9lsEIDQF"
   },
   "outputs": [],
   "source": [
    "from sklearn import model_selection\n",
    "from sklearn.model_selection import GridSearchCV\n",
    "from sklearn.neighbors import KNeighborsClassifier\n",
    "from sklearn import svm\n",
    "from sklearn.metrics import confusion_matrix\n",
    "from sklearn.linear_model import LogisticRegression\n",
    "from sklearn.model_selection import train_test_split,KFold  # Used to create a KFold object\n",
    "from sklearn import svm\n",
    "from sklearn.model_selection import cross_val_score"
   ]
  },
  {
   "cell_type": "code",
   "execution_count": null,
   "metadata": {
    "id": "ZHy4dVv2IFz_"
   },
   "outputs": [],
   "source": [
    "from sklearn.preprocessing import StandardScaler\n",
    "from sklearn.naive_bayes import GaussianNB\n",
    "from sklearn.metrics import classification_report, confusion_matrix\n",
    "from sklearn.metrics import f1_score"
   ]
  },
  {
   "cell_type": "code",
   "execution_count": null,
   "metadata": {
    "id": "lQky8J_cIHyC"
   },
   "outputs": [],
   "source": [
    "from sklearn.preprocessing import StandardScaler\n",
    "from sklearn.naive_bayes import GaussianNB\n",
    "from sklearn.metrics import classification_report, confusion_matrix\n",
    "from sklearn.metrics import f1_score\n",
    "from sklearn.metrics import accuracy_score\n",
    "from sklearn.metrics import precision_score\n",
    "from sklearn.metrics import recall_score\n"
   ]
  },
  {
   "cell_type": "code",
   "execution_count": null,
   "metadata": {
    "id": "hYE_WLv0G0QB"
   },
   "outputs": [],
   "source": [
    "from sklearn.ensemble import RandomForestClassifier\n",
    "\n",
    "def Random_Forest_Classifier(x_train,x_test,y_train,y_test):\n",
    "  grid = GridSearchCV(clf, grid)\n",
    "  abc.fit(x_train, y_train)\n",
    "  rfcl = RandomForestClassifier(n_estimators = 6)\n",
    "  rfcl = rfcl.fit(x_train, y_train)\n",
    "  y_pred=rfcl.predict(x_test)\n",
    "  print(classification_report(y_test,y_pred))\n",
    "  print(confusion_matrix(y_test,y_pred))\n",
    "  print('F1-Score:', f1_score(y_test, y_pred, average='weighted'))\n",
    "  return f1_score(y_train, rfcl.predict(x_train), average='weighted'),accuracy_score(y_test, y_pred),precision_score(y_test, y_pred, average='weighted'),recall_score(y_test, y_pred, average='weighted'),f1_score(y_test, y_pred, average='weighted')\n",
    "\n",
    "def SVM_classifier(x_train,x_test,y_train,y_test):\n",
    "  model=svm.SVC()\n",
    "  model.fit(x_train,y_train)\n",
    "  y_pred = model.predict(x_test)\n",
    "  print(classification_report(y_test,y_pred))\n",
    "  print(confusion_matrix(y_test, y_pred))\n",
    "  print('F1-Score:', f1_score(y_test, y_pred, average='weighted'))\n",
    "  return f1_score(y_train, model.predict(x_train), average='weighted'),accuracy_score(y_test, y_pred),precision_score(y_test, y_pred, average='weighted'),recall_score(y_test, y_pred, average='weighted'),f1_score(y_test, y_pred, average='weighted')\n",
    "\n",
    "\n",
    "def KNN_classifier(x_train,x_test,y_train,y_test):\n",
    "  model= KNeighborsClassifier(n_neighbors=5)\n",
    "  model.fit(x_train,y_train)\n",
    "  y_pred = model.predict(x_test)\n",
    "  print(classification_report(y_test,y_pred))\n",
    "  print(confusion_matrix(y_test, model.predict(x_test)))\n",
    "  print('F1-Score:', f1_score(y_test, y_pred, average='weighted'))\n",
    "  return f1_score(y_train, model.predict(x_train), average='weighted'),accuracy_score(y_test, y_pred),precision_score(y_test, y_pred, average='weighted'),recall_score(y_test, y_pred, average='weighted'),f1_score(y_test, y_pred, average='weighted')\n",
    "\n",
    "\n",
    "\n",
    "def NB_classifier(x_train,x_test,y_train,y_test):\n",
    "  # Using the Gaussian Kernel for Naive Bayes.................\n",
    "  model = GaussianNB()\n",
    "  model.fit(x_train, y_train)\n",
    "  y_pred = model.predict(x_test)\n",
    "  print(classification_report(y_test,y_pred))\n",
    "  print(confusion_matrix(y_test,y_pred))\n",
    "  print('F1-Score:', f1_score(y_test, y_pred, average='weighted'))\n",
    "  return f1_score(y_train, model.predict(x_train), average='weighted'),accuracy_score(y_test, y_pred),precision_score(y_test, y_pred, average='weighted'),recall_score(y_test, y_pred, average='weighted'),f1_score(y_test, y_pred, average='weighted')\n",
    "\n",
    "\n",
    "\n",
    "def LR_classifier(x_train,x_test,y_train,y_test):\n",
    "  model= LogisticRegression() \n",
    "  model.fit(x_train, y_train)\n",
    "  y_pred = model.predict(x_test)\n",
    "  print(classification_report(y_test,y_pred))\n",
    "  print(confusion_matrix(y_test,y_pred))\n",
    "  print('F1-Score:', f1_score(y_test, y_pred, average='weighted'))\n",
    "  return f1_score(y_train, model.predict(x_train), average='weighted'),accuracy_score(y_test, y_pred),precision_score(y_test, y_pred, average='weighted'),recall_score(y_test, y_pred, average='weighted'),f1_score(y_test, y_pred, average='weighted')\n",
    "\n",
    "\n",
    "\n",
    "from sklearn import tree\n",
    "def DTree_classifier(x_train,x_test,y_train,y_test):\n",
    "  dTree = tree.DecisionTreeClassifier(criterion = 'gini', random_state=0)\n",
    "  dTree.fit(x_train, y_train)\n",
    "  y_pred = dTree.predict(x_test)\n",
    "  print(classification_report(y_test,y_pred))\n",
    "  print(confusion_matrix(y_test,y_pred))\n",
    "  print('F1-Score:', f1_score(y_test, y_pred, average='weighted'))\n",
    "  return f1_score(y_train, dTree.predict(x_train), average='weighted'),accuracy_score(y_test, y_pred),precision_score(y_test, y_pred, average='weighted'),recall_score(y_test, y_pred, average='weighted'),f1_score(y_test, y_pred, average='weighted')\n",
    "\n",
    "\n",
    "\n",
    "# Bagging Classifier\n",
    "from sklearn.ensemble import BaggingClassifier\n",
    "def Bagging_Classifer(x_train,x_test,y_train,y_test):\n",
    "  bgcl = BaggingClassifier(n_estimators=100, max_samples=.50 , oob_score=True)\n",
    "  bgcl = bgcl.fit(x_train, y_train)\n",
    "  y_pred = bgcl.predict(x_test)\n",
    "  print(classification_report(y_test,y_pred))\n",
    "  print(confusion_matrix(y_test,y_pred))\n",
    "  print('F1-Score:', f1_score(y_test, y_pred, average='weighted'))\n",
    "  return f1_score(y_train, bgcl.predict(x_train), average='weighted'),accuracy_score(y_test, y_pred),precision_score(y_test, y_pred, average='weighted'),recall_score(y_test, y_pred, average='weighted'),f1_score(y_test, y_pred, average='weighted')\n",
    "\n",
    "\n",
    "\n",
    " # Gradient Boosting\n",
    "from sklearn.ensemble import GradientBoostingClassifier\n",
    "def Gradient_Boosting_Classifier(x_train,x_test,y_train,y_test):\n",
    "  gb = GradientBoostingClassifier(n_estimators = 50, learning_rate = 0.09, max_depth=5)\n",
    "  gb.fit(x_train, y_train)\n",
    "  y_pred=gb.predict(x_test)\n",
    "  print(classification_report(y_test,y_pred))\n",
    "  print(confusion_matrix(y_test,y_pred))\n",
    "  print('F1-Score:', f1_score(y_test, y_pred, average='weighted'))\n",
    "  return f1_score(y_train, gb.predict(x_train), average='weighted'),accuracy_score(y_test, y_pred),precision_score(y_test, y_pred, average='weighted'),recall_score(y_test, y_pred, average='weighted'),f1_score(y_test, y_pred, average='weighted')\n",
    "\n",
    "\n",
    "\n",
    "# Ada Boosting\n",
    "from sklearn.ensemble import AdaBoostClassifier\n",
    "def AdaBoost_Classifier(x_train,x_test,y_train,y_test):\n",
    "  dt_model = tree.DecisionTreeClassifier(criterion = 'entropy' )  \n",
    "  abcl = AdaBoostClassifier(base_estimator=dt_model, n_estimators=50)\n",
    "  abcl = abcl.fit(x_train, y_train)\n",
    "  y_pred=abcl.predict(x_test)\n",
    "  print(classification_report(y_test,y_pred))\n",
    "  print(confusion_matrix(y_test,y_pred))\n",
    "  print('F1-Score:', f1_score(y_test, y_pred, average='weighted'))\n",
    "  return f1_score(y_train, abcl.predict(x_train), average='weighted'),accuracy_score(y_test, y_pred),precision_score(y_test, y_pred, average='weighted'),recall_score(y_test, y_pred, average='weighted'),f1_score(y_test, y_pred, average='weighted')\n",
    "\n"
   ]
  },
  {
   "cell_type": "code",
   "execution_count": null,
   "metadata": {
    "id": "VkwzM6ZNKmfr"
   },
   "outputs": [],
   "source": [
    "test_score=[]"
   ]
  },
  {
   "cell_type": "code",
   "execution_count": null,
   "metadata": {
    "colab": {
     "base_uri": "https://localhost:8080/"
    },
    "id": "qPlA8o2AG09w",
    "outputId": "931d6c9b-3e61-4f36-e0cc-30aac90e682b"
   },
   "outputs": [
    {
     "name": "stdout",
     "output_type": "stream",
     "text": [
      "              precision    recall  f1-score   support\n",
      "\n",
      "           0       0.77      0.99      0.86        77\n",
      "           1       0.33      0.09      0.14        11\n",
      "           2       0.50      0.11      0.18         9\n",
      "           3       0.50      0.17      0.25         6\n",
      "           4       0.00      0.00      0.00         4\n",
      "\n",
      "    accuracy                           0.74       107\n",
      "   macro avg       0.42      0.27      0.29       107\n",
      "weighted avg       0.66      0.74      0.67       107\n",
      "\n",
      "[[76  0  1  0  0]\n",
      " [ 9  1  0  1  0]\n",
      " [ 6  2  1  0  0]\n",
      " [ 4  0  0  1  1]\n",
      " [ 4  0  0  0  0]]\n",
      "F1-Score: 0.6654933851195532\n"
     ]
    }
   ],
   "source": [
    "test_score.append(Random_Forest_Classifier(x_train,x_test,y_train,y_test))"
   ]
  },
  {
   "cell_type": "code",
   "execution_count": null,
   "metadata": {
    "colab": {
     "base_uri": "https://localhost:8080/"
    },
    "id": "opIRzcxH1NOB",
    "outputId": "dec244d1-84a2-4b39-f8a2-e7df75800e79"
   },
   "outputs": [
    {
     "name": "stdout",
     "output_type": "stream",
     "text": [
      "              precision    recall  f1-score   support\n",
      "\n",
      "           0       0.72      1.00      0.84        77\n",
      "           1       0.00      0.00      0.00        11\n",
      "           2       0.00      0.00      0.00         9\n",
      "           3       0.00      0.00      0.00         6\n",
      "           4       0.00      0.00      0.00         4\n",
      "\n",
      "    accuracy                           0.72       107\n",
      "   macro avg       0.14      0.20      0.17       107\n",
      "weighted avg       0.52      0.72      0.60       107\n",
      "\n",
      "[[77  0  0  0  0]\n",
      " [11  0  0  0  0]\n",
      " [ 9  0  0  0  0]\n",
      " [ 6  0  0  0  0]\n",
      " [ 4  0  0  0  0]]\n",
      "F1-Score: 0.6022958147094676\n"
     ]
    },
    {
     "name": "stderr",
     "output_type": "stream",
     "text": [
      "/usr/local/lib/python3.6/dist-packages/sklearn/metrics/_classification.py:1272: UndefinedMetricWarning: Precision and F-score are ill-defined and being set to 0.0 in labels with no predicted samples. Use `zero_division` parameter to control this behavior.\n",
      "  _warn_prf(average, modifier, msg_start, len(result))\n",
      "/usr/local/lib/python3.6/dist-packages/sklearn/metrics/_classification.py:1272: UndefinedMetricWarning: Precision is ill-defined and being set to 0.0 in labels with no predicted samples. Use `zero_division` parameter to control this behavior.\n",
      "  _warn_prf(average, modifier, msg_start, len(result))\n"
     ]
    }
   ],
   "source": [
    "test_score.append(SVM_classifier(x_train,x_test,y_train,y_test))"
   ]
  },
  {
   "cell_type": "code",
   "execution_count": null,
   "metadata": {
    "colab": {
     "base_uri": "https://localhost:8080/"
    },
    "id": "XinWBMYrIaEw",
    "outputId": "b4c3b48d-651b-4fc1-d2cb-dd0a046f3eb6"
   },
   "outputs": [
    {
     "name": "stdout",
     "output_type": "stream",
     "text": [
      "              precision    recall  f1-score   support\n",
      "\n",
      "           0       1.00      0.17      0.29        77\n",
      "           1       0.05      0.18      0.07        11\n",
      "           2       0.00      0.00      0.00         9\n",
      "           3       0.11      0.67      0.20         6\n",
      "           4       0.00      0.00      0.00         4\n",
      "\n",
      "    accuracy                           0.18       107\n",
      "   macro avg       0.23      0.20      0.11       107\n",
      "weighted avg       0.73      0.18      0.23       107\n",
      "\n",
      "[[13 41  9 14  0]\n",
      " [ 0  2  4  5  0]\n",
      " [ 0  1  0  8  0]\n",
      " [ 0  0  2  4  0]\n",
      " [ 0  0  0  4  0]]\n",
      "F1-Score: 0.22631005749309835\n"
     ]
    },
    {
     "name": "stderr",
     "output_type": "stream",
     "text": [
      "/usr/local/lib/python3.6/dist-packages/sklearn/metrics/_classification.py:1272: UndefinedMetricWarning: Precision and F-score are ill-defined and being set to 0.0 in labels with no predicted samples. Use `zero_division` parameter to control this behavior.\n",
      "  _warn_prf(average, modifier, msg_start, len(result))\n",
      "/usr/local/lib/python3.6/dist-packages/sklearn/metrics/_classification.py:1272: UndefinedMetricWarning: Precision is ill-defined and being set to 0.0 in labels with no predicted samples. Use `zero_division` parameter to control this behavior.\n",
      "  _warn_prf(average, modifier, msg_start, len(result))\n"
     ]
    }
   ],
   "source": [
    "test_score.append(NB_classifier(x_train,x_test,y_train,y_test))"
   ]
  },
  {
   "cell_type": "code",
   "execution_count": null,
   "metadata": {
    "colab": {
     "base_uri": "https://localhost:8080/"
    },
    "id": "H2EAdZxAG07t",
    "outputId": "fba4b0ed-520d-4a9d-a020-3ee7be2ee4d0"
   },
   "outputs": [
    {
     "name": "stdout",
     "output_type": "stream",
     "text": [
      "              precision    recall  f1-score   support\n",
      "\n",
      "           0       0.76      0.94      0.84        77\n",
      "           1       0.11      0.09      0.10        11\n",
      "           2       0.00      0.00      0.00         9\n",
      "           3       0.00      0.00      0.00         6\n",
      "           4       1.00      0.25      0.40         4\n",
      "\n",
      "    accuracy                           0.69       107\n",
      "   macro avg       0.37      0.26      0.27       107\n",
      "weighted avg       0.59      0.69      0.63       107\n",
      "\n",
      "[[72  4  0  1  0]\n",
      " [10  1  0  0  0]\n",
      " [ 7  2  0  0  0]\n",
      " [ 3  2  1  0  0]\n",
      " [ 3  0  0  0  1]]\n",
      "F1-Score: 0.6277113670941099\n"
     ]
    }
   ],
   "source": [
    "test_score.append(KNN_classifier(x_train,x_test,y_train,y_test))"
   ]
  },
  {
   "cell_type": "code",
   "execution_count": null,
   "metadata": {
    "colab": {
     "base_uri": "https://localhost:8080/"
    },
    "id": "J6C2uzEKQ9mf",
    "outputId": "fcbd81f4-633f-4455-d48e-b417cca745e0"
   },
   "outputs": [
    {
     "name": "stdout",
     "output_type": "stream",
     "text": [
      "              precision    recall  f1-score   support\n",
      "\n",
      "           0       0.78      0.94      0.85        77\n",
      "           1       0.00      0.00      0.00        11\n",
      "           2       0.00      0.00      0.00         9\n",
      "           3       0.00      0.00      0.00         6\n",
      "           4       1.00      0.25      0.40         4\n",
      "\n",
      "    accuracy                           0.68       107\n",
      "   macro avg       0.36      0.24      0.25       107\n",
      "weighted avg       0.60      0.68      0.63       107\n",
      "\n",
      "[[72  4  1  0  0]\n",
      " [10  0  0  1  0]\n",
      " [ 5  3  0  1  0]\n",
      " [ 4  2  0  0  0]\n",
      " [ 1  0  0  2  1]]\n",
      "F1-Score: 0.6281258640712271\n"
     ]
    }
   ],
   "source": [
    "test_score.append(LR_classifier(x_train,x_test,y_train,y_test))"
   ]
  },
  {
   "cell_type": "code",
   "execution_count": null,
   "metadata": {
    "colab": {
     "base_uri": "https://localhost:8080/"
    },
    "id": "eVxxCk-oG04y",
    "outputId": "33c2ea4c-ad4e-4c18-fba5-30a2cb988b61"
   },
   "outputs": [
    {
     "name": "stdout",
     "output_type": "stream",
     "text": [
      "              precision    recall  f1-score   support\n",
      "\n",
      "           0       0.84      0.90      0.87        77\n",
      "           1       0.12      0.09      0.11        11\n",
      "           2       0.25      0.11      0.15         9\n",
      "           3       0.17      0.33      0.22         6\n",
      "           4       0.00      0.00      0.00         4\n",
      "\n",
      "    accuracy                           0.68       107\n",
      "   macro avg       0.28      0.29      0.27       107\n",
      "weighted avg       0.65      0.68      0.66       107\n",
      "\n",
      "[[69  4  3  1  0]\n",
      " [ 7  1  0  3  0]\n",
      " [ 2  2  1  3  1]\n",
      " [ 3  1  0  2  0]\n",
      " [ 1  0  0  3  0]]\n",
      "F1-Score: 0.6608040386358515\n"
     ]
    }
   ],
   "source": [
    "test_score.append(DTree_classifier(x_train,x_test,y_train,y_test))"
   ]
  },
  {
   "cell_type": "code",
   "execution_count": null,
   "metadata": {
    "colab": {
     "base_uri": "https://localhost:8080/"
    },
    "id": "qiiNkjbKRiIp",
    "outputId": "0a53b9fa-5100-4054-e4ac-76cfe6e8e39d"
   },
   "outputs": [
    {
     "name": "stdout",
     "output_type": "stream",
     "text": [
      "              precision    recall  f1-score   support\n",
      "\n",
      "           0       0.78      0.99      0.87        77\n",
      "           1       0.00      0.00      0.00        11\n",
      "           2       0.00      0.00      0.00         9\n",
      "           3       0.14      0.17      0.15         6\n",
      "           4       0.00      0.00      0.00         4\n",
      "\n",
      "    accuracy                           0.72       107\n",
      "   macro avg       0.18      0.23      0.20       107\n",
      "weighted avg       0.57      0.72      0.63       107\n",
      "\n",
      "[[76  0  1  0  0]\n",
      " [ 9  0  0  2  0]\n",
      " [ 7  1  0  1  0]\n",
      " [ 5  0  0  1  0]\n",
      " [ 1  0  0  3  0]]\n",
      "F1-Score: 0.6336736161035226\n"
     ]
    },
    {
     "name": "stderr",
     "output_type": "stream",
     "text": [
      "/usr/local/lib/python3.6/dist-packages/sklearn/metrics/_classification.py:1272: UndefinedMetricWarning: Precision and F-score are ill-defined and being set to 0.0 in labels with no predicted samples. Use `zero_division` parameter to control this behavior.\n",
      "  _warn_prf(average, modifier, msg_start, len(result))\n",
      "/usr/local/lib/python3.6/dist-packages/sklearn/metrics/_classification.py:1272: UndefinedMetricWarning: Precision is ill-defined and being set to 0.0 in labels with no predicted samples. Use `zero_division` parameter to control this behavior.\n",
      "  _warn_prf(average, modifier, msg_start, len(result))\n"
     ]
    }
   ],
   "source": [
    "test_score.append(Bagging_Classifer(x_train,x_test,y_train,y_test))"
   ]
  },
  {
   "cell_type": "code",
   "execution_count": null,
   "metadata": {
    "colab": {
     "base_uri": "https://localhost:8080/"
    },
    "id": "UIjmnj0RG02M",
    "outputId": "5a2817e7-c8f2-451e-dd68-e8781e2ad324"
   },
   "outputs": [
    {
     "name": "stdout",
     "output_type": "stream",
     "text": [
      "              precision    recall  f1-score   support\n",
      "\n",
      "           0       0.74      0.96      0.84        77\n",
      "           1       0.00      0.00      0.00        11\n",
      "           2       0.00      0.00      0.00         9\n",
      "           3       0.00      0.00      0.00         6\n",
      "           4       0.00      0.00      0.00         4\n",
      "\n",
      "    accuracy                           0.69       107\n",
      "   macro avg       0.15      0.19      0.17       107\n",
      "weighted avg       0.53      0.69      0.60       107\n",
      "\n",
      "[[74  2  1  0  0]\n",
      " [10  0  0  1  0]\n",
      " [ 6  1  0  1  1]\n",
      " [ 6  0  0  0  0]\n",
      " [ 4  0  0  0  0]]\n",
      "F1-Score: 0.6017213158033686\n"
     ]
    }
   ],
   "source": [
    "test_score.append(AdaBoost_Classifier(x_train,x_test,y_train,y_test))"
   ]
  },
  {
   "cell_type": "code",
   "execution_count": null,
   "metadata": {
    "colab": {
     "base_uri": "https://localhost:8080/"
    },
    "id": "WXu6ibMiRvyo",
    "outputId": "22ab2a67-77f7-4086-8f06-fe83d95e292f"
   },
   "outputs": [
    {
     "name": "stdout",
     "output_type": "stream",
     "text": [
      "              precision    recall  f1-score   support\n",
      "\n",
      "           0       0.76      0.95      0.84        77\n",
      "           1       0.20      0.09      0.13        11\n",
      "           2       0.67      0.22      0.33         9\n",
      "           3       0.00      0.00      0.00         6\n",
      "           4       0.00      0.00      0.00         4\n",
      "\n",
      "    accuracy                           0.71       107\n",
      "   macro avg       0.33      0.25      0.26       107\n",
      "weighted avg       0.62      0.71      0.65       107\n",
      "\n",
      "[[73  3  1  0  0]\n",
      " [ 9  1  0  1  0]\n",
      " [ 6  0  2  0  1]\n",
      " [ 5  1  0  0  0]\n",
      " [ 3  0  0  1  0]]\n",
      "F1-Score: 0.6482024201825941\n"
     ]
    }
   ],
   "source": [
    "test_score.append(Gradient_Boosting_Classifier(x_train,x_test,y_train,y_test))"
   ]
  },
  {
   "cell_type": "code",
   "execution_count": null,
   "metadata": {
    "id": "qdOKmoQESL-3"
   },
   "outputs": [],
   "source": [
    "names=np.array(['Random Forest','SVM','Naive Bayes','KNN','Logistic Regression','Decision Tree','Bagging','Gradient Boosting','AdaBoost'])\n",
    "test_score=np.array(test_score)"
   ]
  },
  {
   "cell_type": "code",
   "execution_count": null,
   "metadata": {
    "colab": {
     "base_uri": "https://localhost:8080/",
     "height": 318
    },
    "id": "yzrtsh_4MCw9",
    "outputId": "1e534b8f-49b1-4f53-b60a-fc89bf6dc9aa"
   },
   "outputs": [
    {
     "data": {
      "text/html": [
       "<div>\n",
       "<style scoped>\n",
       "    .dataframe tbody tr th:only-of-type {\n",
       "        vertical-align: middle;\n",
       "    }\n",
       "\n",
       "    .dataframe tbody tr th {\n",
       "        vertical-align: top;\n",
       "    }\n",
       "\n",
       "    .dataframe thead th {\n",
       "        text-align: right;\n",
       "    }\n",
       "</style>\n",
       "<table border=\"1\" class=\"dataframe\">\n",
       "  <thead>\n",
       "    <tr style=\"text-align: right;\">\n",
       "      <th></th>\n",
       "      <th>Train Score</th>\n",
       "      <th>Test Accuracy Score</th>\n",
       "      <th>Test Weighted Precison Score</th>\n",
       "      <th>Test Weighted Recall Score</th>\n",
       "      <th>Test Weighted F-1 Score</th>\n",
       "      <th>Name of Algorithm</th>\n",
       "    </tr>\n",
       "  </thead>\n",
       "  <tbody>\n",
       "    <tr>\n",
       "      <th>0</th>\n",
       "      <td>0.947788</td>\n",
       "      <td>0.738318</td>\n",
       "      <td>0.656802</td>\n",
       "      <td>0.738318</td>\n",
       "      <td>0.665493</td>\n",
       "      <td>Random Forest</td>\n",
       "    </tr>\n",
       "    <tr>\n",
       "      <th>1</th>\n",
       "      <td>0.644976</td>\n",
       "      <td>0.719626</td>\n",
       "      <td>0.517862</td>\n",
       "      <td>0.719626</td>\n",
       "      <td>0.602296</td>\n",
       "      <td>SVM</td>\n",
       "    </tr>\n",
       "    <tr>\n",
       "      <th>2</th>\n",
       "      <td>0.316556</td>\n",
       "      <td>0.177570</td>\n",
       "      <td>0.730708</td>\n",
       "      <td>0.177570</td>\n",
       "      <td>0.226310</td>\n",
       "      <td>Naive Bayes</td>\n",
       "    </tr>\n",
       "    <tr>\n",
       "      <th>3</th>\n",
       "      <td>0.717701</td>\n",
       "      <td>0.691589</td>\n",
       "      <td>0.594207</td>\n",
       "      <td>0.691589</td>\n",
       "      <td>0.627711</td>\n",
       "      <td>KNN</td>\n",
       "    </tr>\n",
       "    <tr>\n",
       "      <th>4</th>\n",
       "      <td>0.772040</td>\n",
       "      <td>0.682243</td>\n",
       "      <td>0.600569</td>\n",
       "      <td>0.682243</td>\n",
       "      <td>0.628126</td>\n",
       "      <td>Logistic Regression</td>\n",
       "    </tr>\n",
       "    <tr>\n",
       "      <th>5</th>\n",
       "      <td>0.993660</td>\n",
       "      <td>0.682243</td>\n",
       "      <td>0.648763</td>\n",
       "      <td>0.682243</td>\n",
       "      <td>0.660804</td>\n",
       "      <td>Decision Tree</td>\n",
       "    </tr>\n",
       "    <tr>\n",
       "      <th>6</th>\n",
       "      <td>0.912973</td>\n",
       "      <td>0.719626</td>\n",
       "      <td>0.566088</td>\n",
       "      <td>0.719626</td>\n",
       "      <td>0.633674</td>\n",
       "      <td>Bagging</td>\n",
       "    </tr>\n",
       "    <tr>\n",
       "      <th>7</th>\n",
       "      <td>0.993660</td>\n",
       "      <td>0.691589</td>\n",
       "      <td>0.532523</td>\n",
       "      <td>0.691589</td>\n",
       "      <td>0.601721</td>\n",
       "      <td>Gradient Boosting</td>\n",
       "    </tr>\n",
       "    <tr>\n",
       "      <th>8</th>\n",
       "      <td>0.993660</td>\n",
       "      <td>0.710280</td>\n",
       "      <td>0.623851</td>\n",
       "      <td>0.710280</td>\n",
       "      <td>0.648202</td>\n",
       "      <td>AdaBoost</td>\n",
       "    </tr>\n",
       "  </tbody>\n",
       "</table>\n",
       "</div>"
      ],
      "text/plain": [
       "   Train Score  ...    Name of Algorithm\n",
       "0     0.947788  ...        Random Forest\n",
       "1     0.644976  ...                  SVM\n",
       "2     0.316556  ...          Naive Bayes\n",
       "3     0.717701  ...                  KNN\n",
       "4     0.772040  ...  Logistic Regression\n",
       "5     0.993660  ...        Decision Tree\n",
       "6     0.912973  ...              Bagging\n",
       "7     0.993660  ...    Gradient Boosting\n",
       "8     0.993660  ...             AdaBoost\n",
       "\n",
       "[9 rows x 6 columns]"
      ]
     },
     "execution_count": 54,
     "metadata": {
      "tags": []
     },
     "output_type": "execute_result"
    }
   ],
   "source": [
    "test_score=pd.DataFrame(test_score,columns=['Train Score','Test Accuracy Score','Test Weighted Precison Score','Test Weighted Recall Score','Test Weighted F-1 Score'])\n",
    "test_score['Name of Algorithm']=names\n",
    "test_score"
   ]
  },
  {
   "cell_type": "code",
   "execution_count": null,
   "metadata": {
    "id": "w4cvSKs_SLha"
   },
   "outputs": [],
   "source": [
    "# test_f1_score_pd=pd.DataFrame((np.vstack(([float(i) for i in test_score], names)).T),columns=['Train Score','Test Accuracy Score','Test Weighted Precison Score','Test Weighted Recall Score','Test Weighted F-1 Score','Name of Algorithm'])"
   ]
  },
  {
   "cell_type": "code",
   "execution_count": null,
   "metadata": {
    "colab": {
     "base_uri": "https://localhost:8080/",
     "height": 401
    },
    "id": "PdtAqHTlPCvy",
    "outputId": "36aff3fe-e4f5-4fff-e833-e372a7af3958"
   },
   "outputs": [
    {
     "data": {
      "text/plain": [
       "<Figure size 7200x1440 with 0 Axes>"
      ]
     },
     "metadata": {
      "tags": []
     },
     "output_type": "display_data"
    },
    {
     "data": {
      "image/png": "[encoded data removed]",
      "text/plain": [
       "<Figure size 360x360 with 1 Axes>"
      ]
     },
     "metadata": {
      "needs_background": "light",
      "tags": []
     },
     "output_type": "display_data"
    }
   ],
   "source": [
    "plt.figure(figsize=(100,20))\n",
    "sns.catplot(x='Test Weighted F-1 Score', y='Name of Algorithm',data=test_score,kind='bar');"
   ]
  },
  {
   "cell_type": "code",
   "execution_count": null,
   "metadata": {
    "colab": {
     "base_uri": "https://localhost:8080/",
     "height": 401
    },
    "id": "rTw9bIfEMDzo",
    "outputId": "6f8edce8-87cd-4689-b52f-b9f9737930b7"
   },
   "outputs": [
    {
     "data": {
      "text/plain": [
       "<Figure size 7200x1440 with 0 Axes>"
      ]
     },
     "metadata": {
      "tags": []
     },
     "output_type": "display_data"
    },
    {
     "data": {
      "image/png": "[encoded data removed]",
      "text/plain": [
       "<Figure size 360x360 with 1 Axes>"
      ]
     },
     "metadata": {
      "needs_background": "light",
      "tags": []
     },
     "output_type": "display_data"
    }
   ],
   "source": [
    "plt.figure(figsize=(100,20))\n",
    "sns.catplot(x='Test Weighted F-1 Score', y='Name of Algorithm',data=test_score,kind='point');"
   ]
  },
  {
   "cell_type": "code",
   "execution_count": null,
   "metadata": {
    "id": "uMpV87BFRYna"
   },
   "outputs": [],
   "source": [
    "# SVM_classifier(X_res,x_test,y_res,y_test)"
   ]
  },
  {
   "cell_type": "code",
   "execution_count": null,
   "metadata": {
    "id": "UJWWbJyZRiCT"
   },
   "outputs": [],
   "source": [
    "# KNN_classifier(X_res,x_test,y_res,y_test)"
   ]
  },
  {
   "cell_type": "code",
   "execution_count": null,
   "metadata": {
    "id": "i850WJblRvps"
   },
   "outputs": [],
   "source": [
    "# NB_classifier(X_res,x_test,y_res,y_test)"
   ]
  },
  {
   "cell_type": "code",
   "execution_count": null,
   "metadata": {
    "id": "Kjrh9piKQtCE"
   },
   "outputs": [],
   "source": [
    "# Random_Forest_Classifier(X_res,x_test,y_res,y_test)"
   ]
  }
 ],
 "metadata": {
  "colab": {
   "name": "Industrial_Chatbot_Capstone_Modelling_Machine_Learning_Imbalanced.ipynb",
   "provenance": []
  },
  "kernelspec": {
   "display_name": "Python 3",
   "language": "python",
   "name": "python3"
  },
  "language_info": {
   "codemirror_mode": {
    "name": "ipython",
    "version": 3
   },
   "file_extension": ".py",
   "mimetype": "text/x-python",
   "name": "python",
   "nbconvert_exporter": "python",
   "pygments_lexer": "ipython3",
   "version": "3.7.1"
  }
 },
 "nbformat": 4,
 "nbformat_minor": 1
}
