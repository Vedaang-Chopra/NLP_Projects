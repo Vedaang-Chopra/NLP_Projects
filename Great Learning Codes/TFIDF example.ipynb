{
 "cells": [
  {
   "cell_type": "markdown",
   "metadata": {},
   "source": [
    "Proprietary content. ©Great Learning. All Rights Reserved. Unauthorized use or distribution prohibited"
   ]
  },
  {
   "cell_type": "code",
   "execution_count": 12,
   "metadata": {
    "colab": {
     "base_uri": "https://localhost:8080/",
     "height": 139
    },
    "colab_type": "code",
    "executionInfo": {
     "elapsed": 939,
     "status": "ok",
     "timestamp": 1581772857424,
     "user": {
      "displayName": "Sarbind Gupta",
      "photoUrl": "https://lh3.googleusercontent.com/a-/AAuE7mCX_PdUc-oYjLw3bTTsusGGiLA4h-CJUT94gBbkRw=s64",
      "userId": "14604457747665098998"
     },
     "user_tz": -330
    },
    "id": "XRfggMSKJ5WO",
    "outputId": "05060580-2b4b-4e80-fd2e-a18c66f7a518"
   },
   "outputs": [
    {
     "name": "stdout",
     "output_type": "stream",
     "text": [
      "[nltk_data] Downloading package reuters to /root/nltk_data...\n",
      "[nltk_data]   Package reuters is already up-to-date!\n",
      "[nltk_data] Downloading package stopwords to /root/nltk_data...\n",
      "[nltk_data]   Package stopwords is already up-to-date!\n",
      "[nltk_data] Downloading package punkt to /root/nltk_data...\n",
      "[nltk_data]   Package punkt is already up-to-date!\n"
     ]
    },
    {
     "data": {
      "text/plain": [
       "True"
      ]
     },
     "execution_count": 12,
     "metadata": {
      "tags": []
     },
     "output_type": "execute_result"
    }
   ],
   "source": [
    "import nltk\n",
    "nltk.download('reuters') # Downloading corpus\n",
    "nltk.download('stopwords') # Downloading stopwords\n",
    "nltk.download('punkt') # Downloading tokenizer"
   ]
  },
  {
   "cell_type": "code",
   "execution_count": 0,
   "metadata": {
    "colab": {},
    "colab_type": "code",
    "id": "XLBbqqj4J5Wa"
   },
   "outputs": [],
   "source": [
    "from nltk.corpus import reuters"
   ]
  },
  {
   "cell_type": "code",
   "execution_count": 14,
   "metadata": {
    "colab": {
     "base_uri": "https://localhost:8080/",
     "height": 279
    },
    "colab_type": "code",
    "executionInfo": {
     "elapsed": 954,
     "status": "ok",
     "timestamp": 1581772868250,
     "user": {
      "displayName": "Sarbind Gupta",
      "photoUrl": "https://lh3.googleusercontent.com/a-/AAuE7mCX_PdUc-oYjLw3bTTsusGGiLA4h-CJUT94gBbkRw=s64",
      "userId": "14604457747665098998"
     },
     "user_tz": -330
    },
    "id": "ep3A-7tEJ5Wi",
    "outputId": "938bff55-ee36-4167-be0f-2db025611372"
   },
   "outputs": [
    {
     "name": "stdout",
     "output_type": "stream",
     "text": [
      "TOWN AND COUNTRY JEWELRY MANUFACTURING &lt;TCJC>\n",
      "  4thh qtr Feb 28\n",
      "      Shr 46 cts vs 22 cts\n",
      "      Net 2,139,034 vs 854,182\n",
      "      Sales 30.8 mln vs 20.6 mln\n",
      "      Avg shrs 5,280,854 vs 4,559,646\n",
      "      Year\n",
      "      Shr 1.34 dlrs vs 1.15 dlrs\n",
      "      Net 5,935,117 vs 4,156,171\n",
      "      Sales 107.2 mln vs 71.6 mln\n",
      "      Avg shrs 5,281,387 vs 3,616,183\n",
      "      NOTE: Town and Country Jewelry Manufacturing Corp.\n",
      "  \n",
      "\n",
      "\n"
     ]
    }
   ],
   "source": [
    "print(reuters.raw('test/15000')) # Example"
   ]
  },
  {
   "cell_type": "code",
   "execution_count": 0,
   "metadata": {
    "colab": {},
    "colab_type": "code",
    "id": "Pzt9lYu9J5Wn"
   },
   "outputs": [],
   "source": [
    "from string import punctuation\n",
    "from nltk.corpus import stopwords\n",
    "from nltk import word_tokenize\n",
    " \n",
    "stop_words = stopwords.words('english') + list(punctuation)\n",
    " \n",
    "def tokenize(text):\n",
    "    words = word_tokenize(text)\n",
    "    words = [w.lower() for w in words]\n",
    "    return [w for w in words if w not in stop_words and not w.isdigit()]"
   ]
  },
  {
   "cell_type": "code",
   "execution_count": 16,
   "metadata": {
    "colab": {
     "base_uri": "https://localhost:8080/",
     "height": 34
    },
    "colab_type": "code",
    "executionInfo": {
     "elapsed": 17693,
     "status": "ok",
     "timestamp": 1581773023738,
     "user": {
      "displayName": "Sarbind Gupta",
      "photoUrl": "https://lh3.googleusercontent.com/a-/AAuE7mCX_PdUc-oYjLw3bTTsusGGiLA4h-CJUT94gBbkRw=s64",
      "userId": "14604457747665098998"
     },
     "user_tz": -330
    },
    "id": "hQNvVSKqJ5Wq",
    "outputId": "14fd843c-f3f4-4868-c7b4-812a58287dab"
   },
   "outputs": [
    {
     "name": "stdout",
     "output_type": "stream",
     "text": [
      "51558 10788\n"
     ]
    }
   ],
   "source": [
    "# build the vocabulary in one pass\n",
    "vocabulary = set()\n",
    "for file_id in reuters.fileids():\n",
    "    words = tokenize(reuters.raw(file_id))\n",
    "    vocabulary.update(words)\n",
    " \n",
    "vocabulary = list(vocabulary)\n",
    "word_index = {w: index for index, w in enumerate(vocabulary)}\n",
    " \n",
    "VOCABULARY_SIZE = len(vocabulary)\n",
    "DOCUMENTS_COUNT = len(reuters.fileids())\n",
    " \n",
    "print(VOCABULARY_SIZE, DOCUMENTS_COUNT)"
   ]
  },
  {
   "cell_type": "code",
   "execution_count": 17,
   "metadata": {
    "colab": {
     "base_uri": "https://localhost:8080/",
     "height": 52
    },
    "colab_type": "code",
    "executionInfo": {
     "elapsed": 18377,
     "status": "ok",
     "timestamp": 1581773288890,
     "user": {
      "displayName": "Sarbind Gupta",
      "photoUrl": "https://lh3.googleusercontent.com/a-/AAuE7mCX_PdUc-oYjLw3bTTsusGGiLA4h-CJUT94gBbkRw=s64",
      "userId": "14604457747665098998"
     },
     "user_tz": -330
    },
    "id": "JrVXC5FLJ5Wv",
    "outputId": "a0029eaa-02fa-484d-962c-16fa15e51925"
   },
   "outputs": [
    {
     "name": "stdout",
     "output_type": "stream",
     "text": [
      "6.88829441146125\n",
      "7.494430215031565\n"
     ]
    }
   ],
   "source": [
    "import numpy as np\n",
    "\n",
    "word_doc_count = np.zeros(VOCABULARY_SIZE)\n",
    "for file_id in reuters.fileids():\n",
    "    words = set(tokenize(reuters.raw(file_id)))\n",
    "    indexes = [word_index[word] for word in words]\n",
    "    word_doc_count[indexes] += 1.0\n",
    " \n",
    "word_idf = np.log(DOCUMENTS_COUNT / (1 + word_doc_count).astype(float))\n",
    "\n",
    "print(word_idf[word_index['town']])\n",
    "print(word_idf[word_index['jewelry']])"
   ]
  },
  {
   "cell_type": "code",
   "execution_count": 18,
   "metadata": {
    "colab": {
     "base_uri": "https://localhost:8080/",
     "height": 34
    },
    "colab_type": "code",
    "executionInfo": {
     "elapsed": 944,
     "status": "ok",
     "timestamp": 1581773306484,
     "user": {
      "displayName": "Sarbind Gupta",
      "photoUrl": "https://lh3.googleusercontent.com/a-/AAuE7mCX_PdUc-oYjLw3bTTsusGGiLA4h-CJUT94gBbkRw=s64",
      "userId": "14604457747665098998"
     },
     "user_tz": -330
    },
    "id": "i9vshpqnJ5W1",
    "outputId": "413aa657-c1c5-405d-f28f-5317f76d4fe2"
   },
   "outputs": [
    {
     "name": "stdout",
     "output_type": "stream",
     "text": [
      "2.1481166502152735\n"
     ]
    }
   ],
   "source": [
    "print(word_idf[word_index['sales']])"
   ]
  },
  {
   "cell_type": "code",
   "execution_count": 0,
   "metadata": {
    "colab": {},
    "colab_type": "code",
    "id": "Md5SWECDJ5W4"
   },
   "outputs": [],
   "source": [
    "from six import string_types\n",
    " \n",
    "def word_tf(word, document): \n",
    "    return float(document.count(word)) / len(document)\n",
    " \n",
    "def tf_idf(word, document):\n",
    "    document = tokenize(document)\n",
    " \n",
    "    if word not in word_index:\n",
    "        return .0\n",
    " \n",
    "    return word_tf(word, document) * word_idf[word_index[word]]"
   ]
  },
  {
   "cell_type": "code",
   "execution_count": 20,
   "metadata": {
    "colab": {
     "base_uri": "https://localhost:8080/",
     "height": 34
    },
    "colab_type": "code",
    "executionInfo": {
     "elapsed": 968,
     "status": "ok",
     "timestamp": 1581773424589,
     "user": {
      "displayName": "Sarbind Gupta",
      "photoUrl": "https://lh3.googleusercontent.com/a-/AAuE7mCX_PdUc-oYjLw3bTTsusGGiLA4h-CJUT94gBbkRw=s64",
      "userId": "14604457747665098998"
     },
     "user_tz": -330
    },
    "id": "8ln4l5PDJ5W6",
    "outputId": "b88a4c3c-28b5-474e-ce7f-b065ef8b1d04"
   },
   "outputs": [
    {
     "name": "stdout",
     "output_type": "stream",
     "text": [
      "0.26765822196541306\n"
     ]
    }
   ],
   "source": [
    "print(tf_idf('jewelry', reuters.raw('test/15000')))"
   ]
  },
  {
   "cell_type": "code",
   "execution_count": 21,
   "metadata": {
    "colab": {
     "base_uri": "https://localhost:8080/",
     "height": 107
    },
    "colab_type": "code",
    "executionInfo": {
     "elapsed": 17081,
     "status": "ok",
     "timestamp": 1581773521273,
     "user": {
      "displayName": "Sarbind Gupta",
      "photoUrl": "https://lh3.googleusercontent.com/a-/AAuE7mCX_PdUc-oYjLw3bTTsusGGiLA4h-CJUT94gBbkRw=s64",
      "userId": "14604457747665098998"
     },
     "user_tz": -330
    },
    "id": "-55b0eWkJ5XB",
    "outputId": "cb82c85a-3767-4cc2-d501-ea5672a34953"
   },
   "outputs": [
    {
     "name": "stderr",
     "output_type": "stream",
     "text": [
      "/usr/local/lib/python3.6/dist-packages/sklearn/feature_extraction/text.py:507: UserWarning: The parameter 'token_pattern' will not be used since 'tokenizer' is not None'\n",
      "  warnings.warn(\"The parameter 'token_pattern' will not be used\"\n",
      "/usr/local/lib/python3.6/dist-packages/sklearn/feature_extraction/text.py:385: UserWarning: Your stop_words may be inconsistent with your preprocessing. Tokenizing the stop words generated tokens [\"'d\", \"'ll\", \"'re\", \"'s\", \"'ve\", '``', 'could', 'might', 'must', \"n't\", 'need', 'sha', 'wo', 'would'] not in stop_words.\n",
      "  'stop_words.' % sorted(inconsistent))\n"
     ]
    }
   ],
   "source": [
    "from sklearn.feature_extraction.text import TfidfVectorizer\n",
    " \n",
    "tfidf = TfidfVectorizer(stop_words=stop_words, tokenizer=tokenize, vocabulary=vocabulary)\n",
    " \n",
    "# Fit the TfIdf model\n",
    "tfidf.fit([reuters.raw(file_id) for file_id in reuters.fileids()])\n",
    " \n",
    "# Transform a document into TfIdf coordinates\n",
    "X = tfidf.transform([reuters.raw('test/15000')])"
   ]
  },
  {
   "cell_type": "code",
   "execution_count": 22,
   "metadata": {
    "colab": {
     "base_uri": "https://localhost:8080/",
     "height": 34
    },
    "colab_type": "code",
    "executionInfo": {
     "elapsed": 944,
     "status": "ok",
     "timestamp": 1581773527788,
     "user": {
      "displayName": "Sarbind Gupta",
      "photoUrl": "https://lh3.googleusercontent.com/a-/AAuE7mCX_PdUc-oYjLw3bTTsusGGiLA4h-CJUT94gBbkRw=s64",
      "userId": "14604457747665098998"
     },
     "user_tz": -330
    },
    "id": "z_Q22fI0J5XF",
    "outputId": "94f32b98-dd01-48f4-f894-a35af98a3461"
   },
   "outputs": [
    {
     "name": "stdout",
     "output_type": "stream",
     "text": [
      "0.26765822196541306\n"
     ]
    }
   ],
   "source": [
    "print(tf_idf('jewelry', reuters.raw('test/15000')))"
   ]
  },
  {
   "cell_type": "code",
   "execution_count": 0,
   "metadata": {
    "colab": {},
    "colab_type": "code",
    "id": "uydRo-Hd_B8X"
   },
   "outputs": [],
   "source": []
  }
 ],
 "metadata": {
  "accelerator": "TPU",
  "colab": {
   "collapsed_sections": [],
   "name": "TFIDF example.ipynb",
   "provenance": []
  },
  "kernelspec": {
   "display_name": "Python 3",
   "language": "python",
   "name": "python3"
  },
  "language_info": {
   "codemirror_mode": {
    "name": "ipython",
    "version": 3
   },
   "file_extension": ".py",
   "mimetype": "text/x-python",
   "name": "python",
   "nbconvert_exporter": "python",
   "pygments_lexer": "ipython3",
   "version": "3.7.1"
  }
 },
 "nbformat": 4,
 "nbformat_minor": 1
}
